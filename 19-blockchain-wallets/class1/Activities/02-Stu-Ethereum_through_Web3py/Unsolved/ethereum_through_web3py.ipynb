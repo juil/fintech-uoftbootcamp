{
 "cells": [
  {
   "cell_type": "markdown",
   "metadata": {},
   "source": [
    "# Ethereum through Web3.py\n",
    "\n",
    "In this activity, you will use Web3.py to connect to a local mock development blockchain instance and check the available balances in the ledger.\n",
    "\n",
    "## Instructions\n",
    "\n",
    "Complete each of the following steps:\n",
    "\n",
    "1. From the Web3.py library, import `Web3` and the `EthereumTesterProvider`.\n",
    "\n",
    "\n",
    "2. Define a new variable named `w3`, and set it equal to a new `Web3()` instance.\n",
    "\n",
    "\n",
    "3. Define a variable named `provider`. Set this variable equal to `EthereumTesterProvider()`, and then pass it to the `Web3` instance.\n",
    "\n",
    "4. Call `w3.eth.get_block('latest')`, and print the result to check that your mock blockchain is working.\n",
    "\n",
    "\n",
    "5. Call `w3.eth.accounts`, and print the result to view your available accounts on the blockchain.\n",
    "\n",
    "\n",
    "6. Call `w3.eth.get_balance()`, and pass it to one of your available addresses as a string to check the balance of the account on the chain. Save the balance as a variable named `wei_balance`.\n",
    "\n",
    "\n",
    "7. Use the `w3.fromWei` function to convert your balance from wei to ether.\n",
    "\n",
    "## References\n",
    "\n",
    "[Web3.py](https://web3py.readthedocs.io/en/stable/)\n",
    "\n",
    "[EthereumTestProvider](https://web3py.readthedocs.io/en/stable/providers.html#ethereumtesterprovider)\n",
    "\n",
    "[Ethereum](https://ethereum.org/en/developers/docs/)\n"
   ]
  },
  {
   "attachments": {},
   "cell_type": "markdown",
   "metadata": {},
   "source": [
    "### Step 1: From the Web3.py library, import `Web3` and the `EthereumTesterProvider`."
   ]
  },
  {
   "cell_type": "code",
   "execution_count": 1,
   "metadata": {
    "scrolled": true
   },
   "outputs": [],
   "source": [
    "# Imports\n",
    "from web3 import Web3, EthereumTesterProvider"
   ]
  },
  {
   "attachments": {},
   "cell_type": "markdown",
   "metadata": {},
   "source": [
    "### Step 2: Define a new variable named `w3`, and set it equal to a new `Web3()` instance."
   ]
  },
  {
   "cell_type": "code",
   "execution_count": 5,
   "metadata": {},
   "outputs": [],
   "source": [
    "# Create an instance of Web3\n",
    "w3 = Web3()"
   ]
  },
  {
   "attachments": {},
   "cell_type": "markdown",
   "metadata": {},
   "source": [
    "### Step 3: Define a variable named `provider`. Set this variable equal to `EthereumTesterProvider()`, and then pass it to the `Web3` instance."
   ]
  },
  {
   "cell_type": "code",
   "execution_count": 10,
   "metadata": {},
   "outputs": [
    {
     "name": "stderr",
     "output_type": "stream",
     "text": [
      "/Users/juil/opt/anaconda3/envs/dev/lib/python3.9/site-packages/eth_tester/backends/__init__.py:30: UserWarning: Ethereum Tester: No backend was explicitely set, and no *full* backends were available.  Falling back to the `MockBackend` which does not support all EVM functionality.  Please refer to the `eth-tester` documentation for information on what backends are available and how to set them.\n",
      "  warnings.warn(UserWarning(\n"
     ]
    }
   ],
   "source": [
    "# Create an instance of the EthereumTesterProvider\n",
    "provider = EthereumTesterProvider()\n",
    "\n",
    "# Pass the provider as a parameter to the Web3 instance\n",
    "w3 = Web3(provider)"
   ]
  },
  {
   "attachments": {},
   "cell_type": "markdown",
   "metadata": {},
   "source": [
    "### Step 4: Call `w3.eth.get_block('latest')`, and print the result to check that your mock blockchain is working."
   ]
  },
  {
   "cell_type": "code",
   "execution_count": 13,
   "metadata": {},
   "outputs": [
    {
     "data": {
      "text/plain": [
       "AttributeDict({'number': 0,\n",
       " 'parentHash': HexBytes('0x0000000000000000000000000000000000000000000000000000000000000000'),\n",
       " 'nonce': HexBytes('0x000000000000002a'),\n",
       " 'sha3Uncles': HexBytes('0x1dcc4de8dec75d7aab85b567b6ccd41ad312451b948a7413f0a142fd40d49347'),\n",
       " 'logs_bloom': 0,\n",
       " 'transactionsRoot': HexBytes('0x56e81f171bcc55a6ff8345e692c0f86e5b48e01b996cadc001622fb5e363b421'),\n",
       " 'receipts_root': '0x56e81f171bcc55a6ff8345e692c0f86e5b48e01b996cadc001622fb5e363b421',\n",
       " 'stateRoot': HexBytes('0x56e81f171bcc55a6ff8345e692c0f86e5b48e01b996cadc001622fb5e363b421'),\n",
       " 'miner': '0x0000000000000000000000000000000000000000',\n",
       " 'difficulty': 131072,\n",
       " 'totalDifficulty': 131072,\n",
       " 'size': 0,\n",
       " 'extraData': HexBytes('0x0000000000000000000000000000000000000000000000000000000000000000'),\n",
       " 'gasLimit': 3141592,\n",
       " 'gasUsed': 0,\n",
       " 'timestamp': 1680566324,\n",
       " 'transactions': [],\n",
       " 'uncles': [],\n",
       " 'hash': HexBytes('0x155c227d2b49f5d69b613fec4fe37efec99d17145df3eeb44e0a32a50525f79f')})"
      ]
     },
     "execution_count": 13,
     "metadata": {},
     "output_type": "execute_result"
    }
   ],
   "source": [
    "# Access information for the most recent block created on the mock blockchain\n",
    "w3.eth.get_block('latest')"
   ]
  },
  {
   "attachments": {},
   "cell_type": "markdown",
   "metadata": {},
   "source": [
    "### Step 5: Call `w3.eth.accounts`, and print the result to view your available accounts on the blockchain."
   ]
  },
  {
   "cell_type": "code",
   "execution_count": 15,
   "metadata": {},
   "outputs": [
    {
     "data": {
      "text/plain": [
       "['0xaBbACadABa000000000000000000000000000000',\n",
       " '0xaBbACaDaBA000000000000000000000000000001',\n",
       " '0xAbbAcaDaBA000000000000000000000000000002',\n",
       " '0xabBACadaBA000000000000000000000000000003',\n",
       " '0xabbAcADABa000000000000000000000000000004',\n",
       " '0xaBBACADABA000000000000000000000000000005',\n",
       " '0xaBbaCadaBA000000000000000000000000000006',\n",
       " '0xAbbAcAdaBA000000000000000000000000000007',\n",
       " '0xaBBAcadabA000000000000000000000000000008',\n",
       " '0xABbacaDabA000000000000000000000000000009']"
      ]
     },
     "execution_count": 15,
     "metadata": {},
     "output_type": "execute_result"
    }
   ],
   "source": [
    "# Print a list of accounts on the mock blockchain\n",
    "w3.eth.accounts"
   ]
  },
  {
   "attachments": {},
   "cell_type": "markdown",
   "metadata": {},
   "source": [
    "### Step 6: Call `w3.eth.get_balance()`, and pass it to one of your available addresses as a string to check the balance of the account on the chain. Save the balance as a variable named `wei_balance`."
   ]
  },
  {
   "cell_type": "code",
   "execution_count": 17,
   "metadata": {
    "scrolled": true
   },
   "outputs": [
    {
     "name": "stdout",
     "output_type": "stream",
     "text": [
      "1000000000000000000000000\n"
     ]
    }
   ],
   "source": [
    "# Access the balance of an account using an address from Step 5.\n",
    "wei_balance = w3.eth.get_balance('0xaBbACadABa000000000000000000000000000000')\n",
    "\n",
    "# Print the balance of the account in wei\n",
    "print(wei_balance)\n"
   ]
  },
  {
   "cell_type": "markdown",
   "metadata": {},
   "source": [
    "## Step 7: Use the `w3.fromWei` function to convert your balance from wei to ether."
   ]
  },
  {
   "cell_type": "code",
   "execution_count": 19,
   "metadata": {},
   "outputs": [
    {
     "name": "stdout",
     "output_type": "stream",
     "text": [
      "1000000\n"
     ]
    }
   ],
   "source": [
    "# Convert the balance from wei to ether\n",
    "eth_balance = w3.fromWei(wei_balance, 'ether')\n",
    "\n",
    "# Print the balance in ether\n",
    "print(eth_balance)\n"
   ]
  }
 ],
 "metadata": {
  "kernelspec": {
   "display_name": "base",
   "language": "python",
   "name": "python3"
  },
  "language_info": {
   "codemirror_mode": {
    "name": "ipython",
    "version": 3
   },
   "file_extension": ".py",
   "mimetype": "text/x-python",
   "name": "python",
   "nbconvert_exporter": "python",
   "pygments_lexer": "ipython3",
   "version": "3.9.15"
  }
 },
 "nbformat": 4,
 "nbformat_minor": 4
}
