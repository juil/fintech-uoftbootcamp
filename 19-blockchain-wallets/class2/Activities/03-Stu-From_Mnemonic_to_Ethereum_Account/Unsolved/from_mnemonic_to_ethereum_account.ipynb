{
 "cells": [
  {
   "cell_type": "markdown",
   "metadata": {},
   "source": [
    "# From Mnemonic to Ethereum Account \n",
    "\n",
    "In this activity, you will use the mnemonic, bip44, and Web3.py libraries to generate a wallet instance and a new, secure public-private key phrase from a mnemonic seed phrase.\n",
    "\n",
    "## Instructions\n",
    "\n",
    "Complete each of the following steps:\n",
    "\n",
    "1. Import the following dependencies:\n",
    "\n",
    "   * Import `os`.\n",
    "   \n",
    "   * From `dotenv` import `load_dotenv` and then call `load_dotenv`.\n",
    "\n",
    "   * From `bip44` import `Wallet`.\n",
    "\n",
    "   * From `mnemonic` import `Mnemonic`.\n",
    "\n",
    "   * From `web3` import `Account`.\n",
    "\n",
    "2. Remember that you don't want to generate a new mnemonic every time you run the program, because then you'll lose access to your previous mnemonic and subsequently your private key. If you have not already generated a mnemonic seed phrase and saved it to a `.env` file associated with this activity, you will need to generate one now.  \n",
    "\n",
    "If you already have a mnemonic phrase that you would like to use for this activity, complete the following step:\n",
    "   * Create a `.env` file in the same folder as the Jupyter notebook, and set the mnemonic phrase equal to an environment variable named `MNEMONIC`. \n",
    "\n",
    "If you do not already have a mnemonic seed phrase that you would like to use for this activity, create one by completing the following steps:\n",
    "\n",
    "   * Call `os.getenv(\"MNEMONIC\")`, and save its value as a variable named `mnemonic`.\n",
    "\n",
    "   * Use an `if` statement to check if the mnemonic variable is `None`.\n",
    "\n",
    "   * If the mnemonic variable is `None`, initialize a new `Mnemonic()` instance and pass it a string value of “english” so that it will use the English word list. Save the instance as a variable named `mnemo`. Next, generate your mnemonic seed phrase by creating a variable named `mnemonic` and calling `mnemo.generate(strength=128)`. Finally, print out the mnemonic phrase.\n",
    "\n",
    "   * Create a `.env` file in the same folder as the Jupyter notebook, and create an environment variable named `MNEMONIC`. Copy the new mnemonic seed phrase that you just generated and set it equal to the `MNEMONIC` variable.\n",
    "\n",
    "3. Generate a `Wallet` instance using your `mnemonic` variable and the bip44 package.\n",
    "\n",
    "   * Instantiate a new instance of the `Wallet()` class from the bip44 package, and pass it your `mnemonic` variable to create a universal wallet instance. Save the wallet instance to a variable named `wallet`.\n",
    "\n",
    "4. Derive public and private keys from your `wallet` instance. To do so, complete the following steps:\n",
    "\n",
    "   * Create two variables, `public` and `private`, and set their values by calling the `derive_account` method on your wallet instance. In order to associate the account with Ethereum, pass the string “eth” to the `derive_account` method.\n",
    "\n",
    "   * Create a new variable named `account`, and construct the Ethereum account by calling `Account.privateKeyToAccount` and passing it your private key variable.\n",
    "\n",
    "   * Call `account.address` to access the address associated with your new Ethereum account. By using this address, other participants can send you ether on the Ethereum blockchain.\n",
    "\n",
    "## References\n",
    "\n",
    "[Web3.py](https://web3py.readthedocs.io/en/stable/)\n",
    "\n",
    "[mnemonic](https://pypi.org/project/mnemonic/)\n",
    "\n",
    "[bip44](https://pypi.org/project/bip44/)\n",
    "\n",
    "[Ethereum](https://ethereum.org/en/developers/docs/)"
   ]
  },
  {
   "cell_type": "markdown",
   "metadata": {},
   "source": [
    "## Step 1: Import the following dependencies:\n",
    "\n",
    "   * Import `os`.\n",
    "   \n",
    "   * From `dotenv` import `load_dotenv` and call `load_dotenv`.\n",
    "\n",
    "   * From `bip44` import `Wallet`.\n",
    "\n",
    "   * From `mnemonic` import `Mnemonic`.\n",
    "\n",
    "   * From `web3` import `Account`.\n"
   ]
  },
  {
   "cell_type": "code",
   "execution_count": 1,
   "metadata": {},
   "outputs": [],
   "source": [
    "# Imports\n",
    "import os\n",
    "from dotenv import load_dotenv\n",
    "from bip44 import Wallet\n",
    "from mnemonic import Mnemonic\n",
    "from web3 import Account"
   ]
  },
  {
   "cell_type": "code",
   "execution_count": 4,
   "metadata": {},
   "outputs": [
    {
     "data": {
      "text/plain": [
       "True"
      ]
     },
     "execution_count": 4,
     "metadata": {},
     "output_type": "execute_result"
    }
   ],
   "source": [
    "# Load dotenv file\n",
    "load_dotenv()"
   ]
  },
  {
   "cell_type": "markdown",
   "metadata": {},
   "source": [
    "## Step 2: If you do not already have a mnemonic seed phrase that you would like to use for this activity, create one by completing the following steps:\n",
    "\n",
    "   * Call `os.getenv(\"MNEMONIC\")`, and save its value as a variable named `mnemonic`.\n",
    "\n",
    "   * Use an `if` statement to check if the mnemonic variable is `None`.\n",
    "\n",
    "   * If the mnemonic variable is `None`, initialize a new `Mnemonic()` instance and pass it a string value of “english” so that it will use the English word list. Save the instance as a variable named `mnemo`. Next, generate your mnemonic seed phrase by creating a variable named `mnemonic` and calling `mnemo.generate(strength=128)`. Finally, print out the mnemonic phrase.\n",
    "\n",
    "   * Create a `.env` file in the same folder as the Jupyter notebook, and create an environment variable named `MNEMONIC`. Copy the new mnemonic seed phrase that you just generated and set it equal to the `MNEMONIC` variable.\n"
   ]
  },
  {
   "cell_type": "code",
   "execution_count": 5,
   "metadata": {},
   "outputs": [
    {
     "name": "stdout",
     "output_type": "stream",
     "text": [
      "Captured mnemonic phrase.\n"
     ]
    },
    {
     "data": {
      "text/plain": [
       "'razor parrot beyond steak episode road right cheap bar lumber planet vehicle naive boy shaft lizard guess small crucial snap flight tag gym forest'"
      ]
     },
     "metadata": {},
     "output_type": "display_data"
    }
   ],
   "source": [
    "# Call os.getenv(\"MNEMONIC\") and save it's value as a variable named mnemonic\n",
    "mnemonic = os.getenv(\"MNEMONIC\")\n",
    "\n",
    "# Use an if-statement to check if the mnemonic variable is None\n",
    "if mnemonic is None:\n",
    "    # If the mnemonic variable is none, initialize a new instance of Mnemonic\n",
    "    # pass it a string value of english to use the english word list\n",
    "    # Save the instance as a variable named mnemo\n",
    "    mnemo = Mnemonic('english')\n",
    "    # Call mnemo.generate(strength=256) and set it equal to the variable mnemonic \n",
    "    mnemonic = mnemo.generate(strength=256)\n",
    "    print(\"Generated new mnemonic phrase.\")\n",
    "else:\n",
    "    print(\"Captured mnemonic phrase.\")\n",
    "    \n",
    "# Display the mnemonic seed phrase\n",
    "display(mnemonic)"
   ]
  },
  {
   "cell_type": "markdown",
   "metadata": {},
   "source": [
    "### Create a `.env` file in the same folder as the Jupyter notebook, and create an environment variable named `MNEMONIC`. Copy the new mnemonic seed phrase that you just generated and set it equal to the `MNEMONIC` variable."
   ]
  },
  {
   "cell_type": "markdown",
   "metadata": {},
   "source": [
    "## Generate a `Wallet` instance using your `mnemonic` variable and the bip44 package.\n",
    "\n",
    "   * Instantiate a new instance of the `Wallet` class from the bip44 package, and pass it your `mnemonic` variable to create a universal wallet instance. Save the wallet instance to a variable named `wallet`.\n"
   ]
  },
  {
   "cell_type": "code",
   "execution_count": 6,
   "metadata": {},
   "outputs": [
    {
     "data": {
      "text/plain": [
       "<bip44.wallet.Wallet at 0x126f49850>"
      ]
     },
     "execution_count": 6,
     "metadata": {},
     "output_type": "execute_result"
    }
   ],
   "source": [
    "# Instantiate a new instance of Wallet and pass it the mnemonic variable\n",
    "wallet = Wallet(mnemonic)\n",
    "\n",
    "# Review your wallet instance\n",
    "wallet"
   ]
  },
  {
   "cell_type": "markdown",
   "metadata": {},
   "source": [
    "## Step 4: Derive public and private keys from your `wallet` instance. To do so, complete the following steps:\n",
    "\n",
    "   * Create two variables, `public` and `private`, and set their values by calling the `derive_account` method on your wallet instance. In order to associate the account with Ethereum, pass the string “eth” to the `derive_account` method.\n",
    "\n",
    "   * Create a new variable named `account`, and construct the Ethereum account by calling `Account.privateKeyToAccount` and passing it your private key variable.\n",
    "\n",
    "   * Call `account.address` to access the address associated with your new Ethereum account. By using this address, other participants can send you ether on the Ethereum blockchain.\n"
   ]
  },
  {
   "cell_type": "code",
   "execution_count": 7,
   "metadata": {},
   "outputs": [
    {
     "name": "stdout",
     "output_type": "stream",
     "text": [
      "Private: b6e1157c7277105b689c7d3463af0013ac8cb7aef90e8a70f5a87670131f8f08\n",
      "Public: 027fed78a82a07a5eb471642f4a6884881143030a3ee0667953d5fb783302dc018\n"
     ]
    }
   ],
   "source": [
    "# Calling the derive_account method on your wallet instance\n",
    "# Pass the string eth to the method\n",
    "private, public = wallet.derive_account('eth')\n",
    "\n",
    "# Review the byte string of your private key\n",
    "print(f\"Private: {private.hex()}\")\n",
    "print(f\"Public: {public.hex()}\")"
   ]
  },
  {
   "cell_type": "code",
   "execution_count": 8,
   "metadata": {},
   "outputs": [
    {
     "name": "stdout",
     "output_type": "stream",
     "text": [
      "<eth_account.signers.local.LocalAccount object at 0x11a242850>\n"
     ]
    }
   ],
   "source": [
    "# Construct the Ethereum account by calling Account.privateKeyToAccount\n",
    "# Pass it your private key variable\n",
    "account = Account.privateKeyToAccount(private)\n",
    "print(account)"
   ]
  },
  {
   "cell_type": "code",
   "execution_count": 9,
   "metadata": {},
   "outputs": [
    {
     "name": "stdout",
     "output_type": "stream",
     "text": [
      "0x6496e7A323ca78032526F7B772867B1F117eF2a6\n"
     ]
    }
   ],
   "source": [
    "# Call account.address to access the address associated with your new Ethereum account\n",
    "print(account.address)"
   ]
  },
  {
   "cell_type": "code",
   "execution_count": 10,
   "metadata": {},
   "outputs": [
    {
     "data": {
      "text/plain": [
       "HexBytes('0xb6e1157c7277105b689c7d3463af0013ac8cb7aef90e8a70f5a87670131f8f08')"
      ]
     },
     "execution_count": 10,
     "metadata": {},
     "output_type": "execute_result"
    }
   ],
   "source": [
    "## Bonus:\n",
    "\n",
    "# Call account.privateKey to access the private key associated with your new Ethereum account\n",
    "account.privateKey"
   ]
  }
 ],
 "metadata": {
  "kernelspec": {
   "display_name": "Python 3",
   "language": "python",
   "name": "python3"
  },
  "language_info": {
   "codemirror_mode": {
    "name": "ipython",
    "version": 3
   },
   "file_extension": ".py",
   "mimetype": "text/x-python",
   "name": "python",
   "nbconvert_exporter": "python",
   "pygments_lexer": "ipython3",
   "version": "3.9.15"
  }
 },
 "nbformat": 4,
 "nbformat_minor": 4
}
