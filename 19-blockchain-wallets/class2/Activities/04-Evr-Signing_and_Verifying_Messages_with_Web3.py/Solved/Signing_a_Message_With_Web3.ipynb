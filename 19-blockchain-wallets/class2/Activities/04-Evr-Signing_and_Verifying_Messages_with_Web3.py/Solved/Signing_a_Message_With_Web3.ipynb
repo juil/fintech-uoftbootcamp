{
 "cells": [
  {
   "cell_type": "code",
   "execution_count": 1,
   "metadata": {},
   "outputs": [],
   "source": [
    "# Imports\n",
    "import os\n",
    "from dotenv import load_dotenv\n",
    "load_dotenv()\n",
    "from bip44 import Wallet\n",
    "from eth_account import Account\n"
   ]
  },
  {
   "cell_type": "code",
   "execution_count": 13,
   "metadata": {},
   "outputs": [
    {
     "data": {
      "text/plain": [
       "str"
      ]
     },
     "execution_count": 13,
     "metadata": {},
     "output_type": "execute_result"
    }
   ],
   "source": [
    "# Load the value of the MNEMONIC variable from the .env file\n",
    "mnemonic = os.getenv(\"MNEMONIC\")\n",
    "\n",
    "type(mnemonic)"
   ]
  },
  {
   "cell_type": "code",
   "execution_count": 3,
   "metadata": {},
   "outputs": [
    {
     "data": {
      "text/plain": [
       "<bip44.wallet.Wallet at 0x7f8f048599d0>"
      ]
     },
     "execution_count": 3,
     "metadata": {},
     "output_type": "execute_result"
    }
   ],
   "source": [
    "# Instantiate a new instance of Wallet and pass it the mnemonic variable\n",
    "wallet = Wallet(mnemonic)\n",
    "# Review your wallet instance\n",
    "wallet"
   ]
  },
  {
   "cell_type": "code",
   "execution_count": 4,
   "metadata": {},
   "outputs": [
    {
     "data": {
      "text/plain": [
       "b'\\x84\\xb3\\x11\\xc9\\xef\\xb0\\xc7/\\xf0\\x95A\\x9b\\xdb#.h!Ik\\xc1\\xec\\x95\\xf4\\x9d\\xa75\\xf5\\x96\\x14\\xd2\\x84\\xbc'"
      ]
     },
     "execution_count": 4,
     "metadata": {},
     "output_type": "execute_result"
    }
   ],
   "source": [
    "# Calling the derive_account method on your wallet instance\n",
    "# Pass the string eth to the method and the account to get the keys\n",
    "private, public = wallet.derive_account(\"eth\", account=0)\n",
    "# Review the byte string of your private key\n",
    "private"
   ]
  },
  {
   "cell_type": "code",
   "execution_count": 6,
   "metadata": {},
   "outputs": [
    {
     "name": "stdout",
     "output_type": "stream",
     "text": [
      "0x7cb8249F4c3609Eeb98575BB5E5C48ee293b8A44\n"
     ]
    }
   ],
   "source": [
    "# Construct the Ethereum account by calling Account.privateKeyToAccount\n",
    "# Pass it your private key variable\n",
    "account = Account.privateKeyToAccount(private)\n",
    "# Print account.address to access the address associated with your new Ethereum account\n",
    "print(account.address)"
   ]
  },
  {
   "cell_type": "code",
   "execution_count": 7,
   "metadata": {},
   "outputs": [],
   "source": [
    "# Imports\n",
    "from web3.auto import w3\n",
    "from eth_account.messages import encode_defunct"
   ]
  },
  {
   "cell_type": "code",
   "execution_count": 8,
   "metadata": {},
   "outputs": [
    {
     "data": {
      "text/plain": [
       "SignedMessage(messageHash=HexBytes('0xb4aac7e826ed228d4aca4c19e090daf7744dcab152eb82450b3493e6d8b1e9e2'), r=11846201780273875290713275870116296670499285746296194790045807399353995080468, s=44349617990696766982051357461988527325787058486321585712352235744875406059482, v=27, signature=HexBytes('0x1a30b66d0e87ea290517cdcf94387237aa3e329f2ea3c4a5d27b9c117715b314620cfe86513a8d0e1e6110af9a6d633abe4de8bcee3097de669d1b1dbbb267da1b'))"
      ]
     },
     "execution_count": 8,
     "metadata": {},
     "output_type": "execute_result"
    }
   ],
   "source": [
    "# Create a string message \n",
    "msg = \"Zach owes David $20\"\n",
    "\n",
    "# Use the encode_defunct message to encode your message string\n",
    "message = encode_defunct(text=msg)\n",
    "# Use w3.eth.account.sign_message to create a signed message\n",
    "# Pass the method your encoded message and private key\n",
    "signed_message = w3.eth.account.sign_message(message, private_key=private)\n",
    "# Review your signed message\n",
    "signed_message"
   ]
  },
  {
   "cell_type": "code",
   "execution_count": 9,
   "metadata": {},
   "outputs": [
    {
     "data": {
      "text/plain": [
       "'0x7cb8249F4c3609Eeb98575BB5E5C48ee293b8A44'"
      ]
     },
     "execution_count": 9,
     "metadata": {},
     "output_type": "execute_result"
    }
   ],
   "source": [
    "# Call the `w3.eth.account.recover_message` method\n",
    "# Pass your encoded message variable and the message’s signature \n",
    "w3.eth.account.recover_message(message, signature=signed_message.signature)"
   ]
  },
  {
   "cell_type": "code",
   "execution_count": null,
   "metadata": {},
   "outputs": [],
   "source": []
  }
 ],
 "metadata": {
  "kernelspec": {
   "display_name": "Python 3",
   "language": "python",
   "name": "python3"
  },
  "language_info": {
   "codemirror_mode": {
    "name": "ipython",
    "version": 3
   },
   "file_extension": ".py",
   "mimetype": "text/x-python",
   "name": "python",
   "nbconvert_exporter": "python",
   "pygments_lexer": "ipython3",
   "version": "3.7.9"
  }
 },
 "nbformat": 4,
 "nbformat_minor": 4
}