{
 "cells": [
  {
   "cell_type": "code",
   "execution_count": 3,
   "metadata": {},
   "outputs": [],
   "source": [
    "# Imports\n",
    "import os\n",
    "from dotenv import load_dotenv\n",
    "load_dotenv()\n",
    "from mnemonic import Mnemonic\n",
    "from bip44 import Wallet\n",
    "from web3 import Account"
   ]
  },
  {
   "cell_type": "code",
   "execution_count": 5,
   "metadata": {},
   "outputs": [
    {
     "data": {
      "text/plain": [
       "'matter slush guard copper useless wealth fresh angle know banana erase harvest'"
      ]
     },
     "metadata": {},
     "output_type": "display_data"
    }
   ],
   "source": [
    "# Load the value of the MNEMONIC variable from the .env file\n",
    "mnemonic = os.getenv(\"MNEMONIC\")\n",
    "\n",
    "# Evaluate the contents of the mnemonic variable\n",
    "# Create a new mnemonic seed phrase if the value of mnemonic equals None\n",
    "if mnemonic is None:\n",
    "  mnemo = Mnemonic(\"english\")   \n",
    "  mnemonic = mnemo.generate(strength=128)\n",
    "\n",
    "# Display the value of the mnemonic variable\n",
    "display(mnemonic)"
   ]
  },
  {
   "cell_type": "code",
   "execution_count": 6,
   "metadata": {},
   "outputs": [
    {
     "data": {
      "text/plain": [
       "<bip44.wallet.Wallet at 0x1364f3ac0>"
      ]
     },
     "execution_count": 6,
     "metadata": {},
     "output_type": "execute_result"
    }
   ],
   "source": [
    "wallet = Wallet(mnemonic)\n",
    "wallet"
   ]
  },
  {
   "cell_type": "code",
   "execution_count": 9,
   "metadata": {},
   "outputs": [
    {
     "name": "stdout",
     "output_type": "stream",
     "text": [
      "Private: 8911a88af856916574f87483df6f0b175649067a53159e860dc1a2450f0f2633\n",
      "Public: 026596b255b0f4065673ea85b07d978e0c3da6d489411d1c982daf217692cb149b\n"
     ]
    }
   ],
   "source": [
    "# Create the public and private keys associated with a new Ethereum account\n",
    "private, public = wallet.derive_account(\"eth\")\n",
    "\n",
    "# Display the private key\n",
    "print(f\"Private: {private.hex()}\")\n",
    "print(f\"Public: {public.hex()}\")"
   ]
  },
  {
   "cell_type": "code",
   "execution_count": 11,
   "metadata": {},
   "outputs": [
    {
     "name": "stdout",
     "output_type": "stream",
     "text": [
      "<eth_account.signers.local.LocalAccount object at 0x11b85fa90>\n"
     ]
    }
   ],
   "source": [
    "account = Account.privateKeyToAccount(private)\n",
    "print(account)"
   ]
  },
  {
   "cell_type": "code",
   "execution_count": 12,
   "metadata": {},
   "outputs": [
    {
     "name": "stdout",
     "output_type": "stream",
     "text": [
      "0x64311Bbb6F1eB302823361fEB76c90FED03C4A94\n"
     ]
    }
   ],
   "source": [
    "print(account.address)"
   ]
  },
  {
   "cell_type": "code",
   "execution_count": 13,
   "metadata": {},
   "outputs": [
    {
     "data": {
      "text/plain": [
       "HexBytes('0x8911a88af856916574f87483df6f0b175649067a53159e860dc1a2450f0f2633')"
      ]
     },
     "execution_count": 13,
     "metadata": {},
     "output_type": "execute_result"
    }
   ],
   "source": [
    "account.privateKey"
   ]
  }
 ],
 "metadata": {
  "kernelspec": {
   "display_name": "Python 3",
   "language": "python",
   "name": "python3"
  },
  "language_info": {
   "codemirror_mode": {
    "name": "ipython",
    "version": 3
   },
   "file_extension": ".py",
   "mimetype": "text/x-python",
   "name": "python",
   "nbconvert_exporter": "python",
   "pygments_lexer": "ipython3",
   "version": "3.9.15"
  }
 },
 "nbformat": 4,
 "nbformat_minor": 4
}
