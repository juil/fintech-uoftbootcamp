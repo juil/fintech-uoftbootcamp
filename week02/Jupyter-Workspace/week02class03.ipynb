{
 "cells": [
  {
   "cell_type": "code",
   "execution_count": null,
   "id": "e91f5c50-88e6-424e-9918-507be586d338",
   "metadata": {
    "jupyter": {
     "source_hidden": true
    },
    "tags": []
   },
   "outputs": [],
   "source": []
  },
  {
   "cell_type": "code",
   "execution_count": 2,
   "id": "60ca3800-143a-488a-ac29-62c552b3c13f",
   "metadata": {},
   "outputs": [],
   "source": [
    "from pathlib import Path"
   ]
  },
  {
   "cell_type": "code",
   "execution_count": 3,
   "id": "5f9bca8e-1986-4ffc-9b7b-39d47ba97cb0",
   "metadata": {},
   "outputs": [],
   "source": [
    "import csv"
   ]
  },
  {
   "cell_type": "code",
   "execution_count": 7,
   "id": "74e83067-d4ca-43cf-89b3-a19373fbd105",
   "metadata": {},
   "outputs": [
    {
     "name": "stdout",
     "output_type": "stream",
     "text": [
      "<class '_csv.reader'>\n",
      "['Andrew', '9', '58']\n",
      "['Phil', '8', '377']\n",
      "['Madison', '5', '302']\n",
      "['Sally', '1', '75']\n",
      "['Tyler', '1', '334']\n",
      "['Billy', '7', '146']\n",
      "['Steve', '1', '178']\n",
      "['Madison', '7', '313']\n",
      "['Sarah', '8', '103']\n",
      "['Tim', '5', '344']\n",
      "['Andrew', '5', '349']\n",
      "['Phil', '8', '61']\n",
      "['Madison', '4', '196']\n",
      "['Carl', '1', '374']\n",
      "['Devon', '9', '220']\n",
      "['Megan', '9', '321']\n",
      "['Sarah', '7', '277']\n",
      "['David', '2', '246']\n",
      "['Sally', '9', '198']\n",
      "['Tom', '5', '221']\n",
      "['Andrew', '1', '191']\n",
      "['Paul', '5', '399']\n",
      "['Carl', '1', '300']\n",
      "['Tim', '1', '345']\n",
      "['Madison', '4', '202']\n",
      "['John', '4', '305']\n",
      "['Phil', '6', '249']\n",
      "['Madison', '7', '113']\n",
      "['Sally', '6', '256']\n",
      "[58, 377, 302, 75, 334, 146, 178, 313, 103, 344, 349, 61, 196, 374, 220, 321, 277, 246, 198, 221, 191, 399, 300, 345, 202, 305, 249, 113, 256]\n"
     ]
    }
   ],
   "source": [
    "filepath = \"/Users/juil/school/fintech-uoftbootcamp/classwork/week02/class3/sales.csv\"\n",
    "\n",
    "salaries = []\n",
    "line = 0\n",
    "with open(filepath, 'r') as csvfile:\n",
    "    csvreader = csv.reader(csvfile, delimiter=',')\n",
    "    print(type(csvreader))\n",
    "    header = next(csvreader)\n",
    "    for row in csvreader:\n",
    "        print(row)\n",
    "        salary = int(row[2])\n",
    "        salaries.append(salary)\n",
    "    print(salaries)"
   ]
  }
 ],
 "metadata": {
  "kernelspec": {
   "display_name": "Python 3 (ipykernel)",
   "language": "python",
   "name": "python3"
  },
  "language_info": {
   "codemirror_mode": {
    "name": "ipython",
    "version": 3
   },
   "file_extension": ".py",
   "mimetype": "text/x-python",
   "name": "python",
   "nbconvert_exporter": "python",
   "pygments_lexer": "ipython3",
   "version": "3.9.13"
  }
 },
 "nbformat": 4,
 "nbformat_minor": 5
}
