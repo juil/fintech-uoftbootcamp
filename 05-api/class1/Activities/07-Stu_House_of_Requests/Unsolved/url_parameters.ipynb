{
 "cells": [
  {
   "cell_type": "markdown",
   "metadata": {},
   "source": [
    "# House of Requests"
   ]
  },
  {
   "cell_type": "markdown",
   "metadata": {},
   "source": [
    "Use the `Deck of Cards` API to play a game of BlackJack with a partner. Parameterize the `Deck of Cards` API `request urls` in order to create the deck of cards, as well as draw cards for the game."
   ]
  },
  {
   "cell_type": "code",
   "execution_count": null,
   "metadata": {},
   "outputs": [],
   "source": [
    "import requests\n",
    "import json"
   ]
  },
  {
   "cell_type": "markdown",
   "metadata": {},
   "source": [
    "## Prep for the Game"
   ]
  },
  {
   "cell_type": "code",
   "execution_count": null,
   "metadata": {},
   "outputs": [],
   "source": [
    "# Declare request url to create deck id\n",
    "create_deck_url = \"https://deckofcardsapi.com/api/deck/new/shuffle/?deck_count=6\"\n",
    "\n",
    "# Execute create deck url\n"
   ]
  },
  {
   "cell_type": "markdown",
   "metadata": {},
   "source": [
    "### Parse JSON and extract `deck_id`"
   ]
  },
  {
   "cell_type": "code",
   "execution_count": null,
   "metadata": {},
   "outputs": [],
   "source": [
    "# Select deck_id\n",
    "\n",
    "print(deck_id)"
   ]
  },
  {
   "cell_type": "markdown",
   "metadata": {},
   "source": [
    "### Declare request urls to draw cards and shuffle deck"
   ]
  },
  {
   "cell_type": "code",
   "execution_count": null,
   "metadata": {},
   "outputs": [],
   "source": [
    "# Declare draw_cards_url and shuffle_deck_url\n",
    "# Use string interpolation to incorporate the deck_id\n",
    "draw_cards_url = f\"https://deckofcardsapi.com/api/deck/{deck_id}/draw/?count=2\"\n",
    "shuffle_deck_url = f\"https://deckofcardsapi.com/api/deck/{deck_id}/shuffle/\"\n",
    "print(draw_cards_url)\n",
    "print(shuffle_deck_url)"
   ]
  },
  {
   "cell_type": "markdown",
   "metadata": {},
   "source": [
    "## Player 1 Turn"
   ]
  },
  {
   "cell_type": "markdown",
   "metadata": {},
   "source": [
    "### Draw two cards"
   ]
  },
  {
   "cell_type": "code",
   "execution_count": null,
   "metadata": {},
   "outputs": [],
   "source": [
    "# Draw two cards\n"
   ]
  },
  {
   "cell_type": "markdown",
   "metadata": {},
   "source": [
    "### Parse and extract `value` and `suit` elements from JSON output, for each card"
   ]
  },
  {
   "cell_type": "code",
   "execution_count": null,
   "metadata": {},
   "outputs": [],
   "source": [
    "# Select returned card's value and suit (i.e. 3 of clubs)\n",
    "\n",
    "\n",
    "# Print player cards\n",
    "print(player_1_card_1)\n",
    "print(player_1_card_2)"
   ]
  },
  {
   "cell_type": "markdown",
   "metadata": {},
   "source": [
    "### Decide whether to draw another card or skip to next player turn"
   ]
  },
  {
   "cell_type": "code",
   "execution_count": null,
   "metadata": {},
   "outputs": [],
   "source": [
    "# Draw a third card\n",
    "\n",
    "\n",
    "# Select returned card's value and suit (i.e. 3 of clubs)\n",
    "\n",
    "\n",
    "# Print player card\n",
    "print(player_1_card_3)"
   ]
  },
  {
   "cell_type": "markdown",
   "metadata": {},
   "source": [
    "### Manually calculate player 1 points and enter below"
   ]
  },
  {
   "cell_type": "markdown",
   "metadata": {},
   "source": [
    "Player 1 points = "
   ]
  },
  {
   "cell_type": "raw",
   "metadata": {},
   "source": []
  },
  {
   "cell_type": "markdown",
   "metadata": {},
   "source": [
    "## Player 2 / Dealer Turn"
   ]
  },
  {
   "cell_type": "code",
   "execution_count": null,
   "metadata": {},
   "outputs": [],
   "source": [
    "# Draw two cards for player 1\n",
    "\n",
    "\n",
    "# Select card value and suit \n",
    "\n",
    "\n",
    "# Print player cards\n",
    "print(player_2_card_1)\n",
    "print(player_2_card_2)\n",
    "\n",
    "# Draw third card for player 2\n",
    "\n",
    "\n",
    "# Print player card\n",
    "print(player_2_card_3)"
   ]
  },
  {
   "cell_type": "markdown",
   "metadata": {},
   "source": [
    "### Manually calculate player 2 points and enter below"
   ]
  },
  {
   "cell_type": "markdown",
   "metadata": {},
   "source": [
    "Player 2 points ="
   ]
  },
  {
   "cell_type": "raw",
   "metadata": {},
   "source": []
  }
 ],
 "metadata": {
  "kernelspec": {
   "display_name": "Python 3",
   "language": "python",
   "name": "python3"
  },
  "language_info": {
   "codemirror_mode": {
    "name": "ipython",
    "version": 3
   },
   "file_extension": ".py",
   "mimetype": "text/x-python",
   "name": "python",
   "nbconvert_exporter": "python",
   "pygments_lexer": "ipython3",
   "version": "3.7.7"
  }
 },
 "nbformat": 4,
 "nbformat_minor": 4
}
