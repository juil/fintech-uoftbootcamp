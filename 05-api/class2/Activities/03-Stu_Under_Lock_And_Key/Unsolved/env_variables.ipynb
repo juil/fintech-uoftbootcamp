{
  "cells": [
    {
      "cell_type": "markdown",
      "source": [
        "# Under Lock and Key"
      ],
      "metadata": {}
    },
    {
      "cell_type": "markdown",
      "source": [
        "You and Harold have developed a Python application that will extract historical stock data from **Nasdaq** for a given ticker and calculate the Sharpe ratio for that stock. So far, only you two have been using the program, but your manager now wants you to open the application up to the entire team. You know that Nasdaq allows API calls to be submitted without an API key, but the limit is 50 calls a day. Nasdaq is diligent in their rate-limiting and keeps services under lock and key.\n",
        "\n",
        "## Instructions\n",
        "\n",
        "### Import the Python `requests`, `os`, and `dotenv` libraries"
      ],
      "metadata": {}
    },
    {
      "cell_type": "code",
      "source": [
        "# Initial imports\n"
      ],
      "outputs": [],
      "execution_count": null,
      "metadata": {}
    },
    {
      "cell_type": "markdown",
      "source": [
        "### Use the `load_dotenv()` method from the `dotenv` package to load and export the environment variables"
      ],
      "metadata": {}
    },
    {
      "cell_type": "code",
      "source": [],
      "outputs": [],
      "execution_count": null,
      "metadata": {}
    },
    {
      "cell_type": "markdown",
      "source": [
        "### Use the `os.getenv` function to retrieve the environment variable named `NASDAQ_API_KEY`. Store as a Python variable named `api_key`"
      ],
      "metadata": {}
    },
    {
      "cell_type": "code",
      "source": [],
      "outputs": [],
      "execution_count": null,
      "metadata": {}
    },
    {
      "cell_type": "markdown",
      "source": [
        "### Use the `type` function to confirm the retrieval of the API key."
      ],
      "metadata": {}
    },
    {
      "cell_type": "code",
      "source": [],
      "outputs": [],
      "execution_count": null,
      "metadata": {}
    },
    {
      "cell_type": "markdown",
      "source": [
        "### Concatenate `request_url` with the `api_key` variable"
      ],
      "metadata": {}
    },
    {
      "cell_type": "code",
      "source": [
        "# Define the base request URL\n",
        "request_url = \"https://data.nasdaq.com/api/v3/datasets/WIKI/MSFT.json?api_key=\"\n",
        "\n",
        "# Concatenate request_url and api_key. Store as new variable\n"
      ],
      "outputs": [],
      "execution_count": null,
      "metadata": {}
    },
    {
      "cell_type": "markdown",
      "source": [
        "### Execute GET request with API key"
      ],
      "metadata": {}
    },
    {
      "cell_type": "code",
      "source": [
        "# Execute get request\n"
      ],
      "outputs": [],
      "execution_count": null,
      "metadata": {}
    },
    {
      "cell_type": "markdown",
      "source": [
        "### Display content to screen using the content attribute"
      ],
      "metadata": {}
    },
    {
      "cell_type": "code",
      "source": [
        "# Output data\n"
      ],
      "outputs": [],
      "execution_count": null,
      "metadata": {}
    }
  ],
  "metadata": {
    "kernelspec": {
      "display_name": "Python 3",
      "language": "python",
      "name": "python3"
    },
    "language_info": {
      "codemirror_mode": {
        "name": "ipython",
        "version": 3
      },
      "file_extension": ".py",
      "mimetype": "text/x-python",
      "name": "python",
      "nbconvert_exporter": "python",
      "pygments_lexer": "ipython3",
      "version": "3.7.6"
    },
    "nteract": {
      "version": "0.28.0"
    }
  },
  "nbformat": 4,
  "nbformat_minor": 4
}