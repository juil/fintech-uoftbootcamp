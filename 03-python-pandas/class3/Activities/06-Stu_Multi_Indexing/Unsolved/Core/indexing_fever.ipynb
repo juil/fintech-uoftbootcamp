{
 "cells": [
  {
   "cell_type": "markdown",
   "metadata": {},
   "source": [
    "# Student Do: Indexing Fever\n",
    "\n",
    "# Indexing Fever\n",
    "\n",
    "You've caught the multi-indexing fever! Add power to your financial analytic pipelines by indexing your data by month and year with a DatetimeIndex.\n",
    "\n",
    "For this demo, you will use historical stock data from [Bombardier (BBD.B)](https://web.tmxmoney.com/quote.php?qm_symbol=BBD.B) that comprises `BBD.B` ticker prices from March to May 2019.\n",
    "\n",
    "## Instructions\n",
    "\n",
    "### Import Libraries and Dependencies"
   ]
  },
  {
   "cell_type": "code",
   "execution_count": null,
   "metadata": {},
   "outputs": [],
   "source": [
    "import pandas as pd\n",
    "\n",
    "from pathlib import Path"
   ]
  },
  {
   "cell_type": "markdown",
   "metadata": {},
   "source": [
    "### Read CSV as Pandas DataFrame"
   ]
  },
  {
   "cell_type": "code",
   "execution_count": null,
   "metadata": {},
   "outputs": [],
   "source": [
    "# Read csv data\n"
   ]
  },
  {
   "cell_type": "markdown",
   "metadata": {},
   "source": [
    "### Assess & Clean Data"
   ]
  },
  {
   "cell_type": "code",
   "execution_count": null,
   "metadata": {},
   "outputs": [],
   "source": [
    "# Check for nulls\n",
    "bbd_df.isnull().mean() * 100\n",
    "\n",
    "# Drop nulls\n",
    "bbd_df = bbd_df.dropna().copy()\n",
    "\n",
    "# Drop duplicates\n",
    "bbd_df = bbd_df.drop_duplicates().copy()\n",
    "\n",
    "# Validate no more missing values\n",
    "bbd_df.isnull().sum()"
   ]
  },
  {
   "cell_type": "markdown",
   "metadata": {},
   "source": [
    "### Group by year and month"
   ]
  },
  {
   "cell_type": "code",
   "execution_count": null,
   "metadata": {},
   "outputs": [],
   "source": [
    "# Set multi-index by grouping\n"
   ]
  },
  {
   "cell_type": "markdown",
   "metadata": {},
   "source": [
    "### Access `Close` for May 2019 Using Mult-Indexing Lookup"
   ]
  },
  {
   "cell_type": "code",
   "execution_count": null,
   "metadata": {},
   "outputs": [],
   "source": [
    "# Select BBD.B `Close` for May 2019\n"
   ]
  }
 ],
 "metadata": {
  "kernelspec": {
   "display_name": "Python 3",
   "language": "python",
   "name": "python3"
  },
  "language_info": {
   "codemirror_mode": {
    "name": "ipython",
    "version": 3
   },
   "file_extension": ".py",
   "mimetype": "text/x-python",
   "name": "python",
   "nbconvert_exporter": "python",
   "pygments_lexer": "ipython3",
   "version": "3.7.3"
  }
 },
 "nbformat": 4,
 "nbformat_minor": 4
}
