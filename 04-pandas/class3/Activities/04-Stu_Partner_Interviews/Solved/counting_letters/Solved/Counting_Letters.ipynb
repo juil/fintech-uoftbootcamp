{
 "cells": [
  {
   "cell_type": "markdown",
   "metadata": {},
   "source": [
    "# Counting Letters\n",
    "\n",
    "Write a function that counts how many times each letter in a string occurs."
   ]
  },
  {
   "cell_type": "code",
   "execution_count": 1,
   "metadata": {},
   "outputs": [],
   "source": [
    "test = \"Example sentence\""
   ]
  },
  {
   "cell_type": "markdown",
   "metadata": {},
   "source": [
    "## Solution 1: Loops"
   ]
  },
  {
   "cell_type": "code",
   "execution_count": 2,
   "metadata": {
    "collapsed": true
   },
   "outputs": [],
   "source": [
    "def count_letters(mystring):\n",
    "    # Note: Uncomment to count `E` and `e` together\n",
    "    # Convert the string to lowercase letters\n",
    "    # mystring = mystring.lower()\n",
    "    \n",
    "    # Transform string into a list of characters\n",
    "    list_of_string = list(mystring)\n",
    "  \n",
    "    # A dictionary to compile occurrences of letters\n",
    "    letter_count = {}\n",
    "  \n",
    "    for character in list_of_string:\n",
    "        # Omit non-letters, e.g. space, numbers, puncutation\n",
    "        if character.isalpha():\n",
    "            # If seeing the letter for the first time, make it a dict key and assign a value of one\n",
    "            if character not in letter_count:\n",
    "                letter_count[character] = 1\n",
    "            # If the letter has been seen before, increase its count by one\n",
    "            else:\n",
    "                letter_count[character] += 1\n",
    "\n",
    "    return letter_count"
   ]
  },
  {
   "cell_type": "code",
   "execution_count": 3,
   "metadata": {},
   "outputs": [
    {
     "data": {
      "text/plain": [
       "{'E': 1,\n",
       " 'a': 1,\n",
       " 'c': 1,\n",
       " 'e': 4,\n",
       " 'l': 1,\n",
       " 'm': 1,\n",
       " 'n': 2,\n",
       " 'p': 1,\n",
       " 's': 1,\n",
       " 't': 1,\n",
       " 'x': 1}"
      ]
     },
     "execution_count": 3,
     "metadata": {},
     "output_type": "execute_result"
    }
   ],
   "source": [
    "count_letters(test)"
   ]
  },
  {
   "cell_type": "markdown",
   "metadata": {},
   "source": [
    "## Solution 2: Counter"
   ]
  },
  {
   "cell_type": "code",
   "execution_count": 4,
   "metadata": {
    "collapsed": true
   },
   "outputs": [],
   "source": [
    "import collections\n",
    "def count_letters(text):\n",
    "    return collections.Counter(text)"
   ]
  },
  {
   "cell_type": "code",
   "execution_count": 5,
   "metadata": {},
   "outputs": [
    {
     "data": {
      "text/plain": [
       "Counter({' ': 1,\n",
       "         'E': 1,\n",
       "         'a': 1,\n",
       "         'c': 1,\n",
       "         'e': 4,\n",
       "         'l': 1,\n",
       "         'm': 1,\n",
       "         'n': 2,\n",
       "         'p': 1,\n",
       "         's': 1,\n",
       "         't': 1,\n",
       "         'x': 1})"
      ]
     },
     "execution_count": 5,
     "metadata": {},
     "output_type": "execute_result"
    }
   ],
   "source": [
    "count_letters(\"Example sentence\")"
   ]
  }
 ],
 "metadata": {
  "kernelspec": {
   "display_name": "Python 3",
   "language": "python",
   "name": "python3"
  },
  "language_info": {
   "codemirror_mode": {
    "name": "ipython",
    "version": 3
   },
   "file_extension": ".py",
   "mimetype": "text/x-python",
   "name": "python",
   "nbconvert_exporter": "python",
   "pygments_lexer": "ipython3",
   "version": "3.7.2"
  },
  "varInspector": {
   "cols": {
    "lenName": 16,
    "lenType": 16,
    "lenVar": 40
   },
   "kernels_config": {
    "python": {
     "delete_cmd_postfix": "",
     "delete_cmd_prefix": "del ",
     "library": "var_list.py",
     "varRefreshCmd": "print(var_dic_list())"
    },
    "r": {
     "delete_cmd_postfix": ") ",
     "delete_cmd_prefix": "rm(",
     "library": "var_list.r",
     "varRefreshCmd": "cat(var_dic_list()) "
    }
   },
   "types_to_exclude": [
    "module",
    "function",
    "builtin_function_or_method",
    "instance",
    "_Feature"
   ],
   "window_display": false
  }
 },
 "nbformat": 4,
 "nbformat_minor": 2
}
