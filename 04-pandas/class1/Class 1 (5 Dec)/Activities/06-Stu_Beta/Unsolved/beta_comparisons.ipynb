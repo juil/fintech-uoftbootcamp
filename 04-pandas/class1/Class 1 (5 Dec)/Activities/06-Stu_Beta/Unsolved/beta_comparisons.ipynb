{
 "cells": [
  {
   "cell_type": "markdown",
   "metadata": {},
   "source": [
    "# Student Activity: Beta Comparisons\n",
    "\n",
    "Upper management at Harold's company is thinking about investing in a social media stock. They want to be somewhat conservative and look at social media stocks with the lowest beta relative to the others. Harold has been asked to calculate and plot the 30-day rolling betas for these social media stocks: Facebook (FB), Twitter (TWTR), and Snapchat (SNAP).\n",
    "\n",
    "Use the Pandas library to help Harold calculate and plot the 30-day rolling betas for social media stocks, and then determine the social media stock with the lowest beta value.\n",
    "\n",
    "## Instructions\n",
    "\n",
    "### Import Libraries and Dependencies"
   ]
  },
  {
   "cell_type": "code",
   "execution_count": 2,
   "metadata": {},
   "outputs": [],
   "source": [
    "# Import libraries and dependencies\n",
    "import pandas as pd\n",
    "from pathlib import Path\n",
    "\n",
    "%matplotlib inline"
   ]
  },
  {
   "cell_type": "markdown",
   "metadata": {},
   "source": [
    "### Read CSVs in as DataFrames"
   ]
  },
  {
   "cell_type": "code",
   "execution_count": 10,
   "metadata": {},
   "outputs": [],
   "source": [
    "# Set file paths\n",
    "fb_data, snap_data, sp500_data, twtr_data = \\\n",
    "    [Path('../Resources/fb_data.csv'),\n",
    "    Path('../Resources/snap_data.csv'),\n",
    "    Path('../Resources/sp500_data.csv'),\n",
    "    Path('../Resources/twtr_data.csv')]\n",
    "# Read the daily closing prices of FB, set the `date` as a datetime index\n",
    "fb_df = pd.read_csv(fb_data, index_col='date', parse_dates=True, infer_datetime_format=True)\n",
    "\n",
    "# Read the daily closing prices of TWTR, set the `date` as a datetime index\n",
    "twtr_df = pd.read_csv(twtr_data, index_col='date', parse_dates=True, infer_datetime_format=True)\n",
    "\n",
    "# Read the daily closing prices of SNAP, set the `date` as a datetime index\n",
    "snap_df = pd.read_csv(snap_data, index_col='date', parse_dates=True, infer_datetime_format=True)\n",
    "\n",
    "# Read the daily closing prices of S&P 500, set the `date` as a datetime index\n",
    "sp500_df = pd.read_csv(sp500_data, index_col='date', parse_dates=True, infer_datetime_format=True)"
   ]
  },
  {
   "cell_type": "markdown",
   "metadata": {},
   "source": [
    "### Combine DataFrames, Sort Index, and Rename Columns"
   ]
  },
  {
   "cell_type": "code",
   "execution_count": 14,
   "metadata": {},
   "outputs": [
    {
     "data": {
      "text/html": [
       "<div>\n",
       "<style scoped>\n",
       "    .dataframe tbody tr th:only-of-type {\n",
       "        vertical-align: middle;\n",
       "    }\n",
       "\n",
       "    .dataframe tbody tr th {\n",
       "        vertical-align: top;\n",
       "    }\n",
       "\n",
       "    .dataframe thead th {\n",
       "        text-align: right;\n",
       "    }\n",
       "</style>\n",
       "<table border=\"1\" class=\"dataframe\">\n",
       "  <thead>\n",
       "    <tr style=\"text-align: right;\">\n",
       "      <th></th>\n",
       "      <th>FB</th>\n",
       "      <th>TWTR</th>\n",
       "      <th>SNAP</th>\n",
       "      <th>S&amp;P 500</th>\n",
       "    </tr>\n",
       "    <tr>\n",
       "      <th>date</th>\n",
       "      <th></th>\n",
       "      <th></th>\n",
       "      <th></th>\n",
       "      <th></th>\n",
       "    </tr>\n",
       "  </thead>\n",
       "  <tbody>\n",
       "    <tr>\n",
       "      <th>2017-03-02</th>\n",
       "      <td>136.76</td>\n",
       "      <td>15.79</td>\n",
       "      <td>24.48</td>\n",
       "      <td>2381.919922</td>\n",
       "    </tr>\n",
       "    <tr>\n",
       "      <th>2017-03-03</th>\n",
       "      <td>137.17</td>\n",
       "      <td>15.75</td>\n",
       "      <td>27.09</td>\n",
       "      <td>2383.120117</td>\n",
       "    </tr>\n",
       "    <tr>\n",
       "      <th>2017-03-06</th>\n",
       "      <td>137.42</td>\n",
       "      <td>15.56</td>\n",
       "      <td>23.77</td>\n",
       "      <td>2375.310059</td>\n",
       "    </tr>\n",
       "    <tr>\n",
       "      <th>2017-03-07</th>\n",
       "      <td>137.30</td>\n",
       "      <td>15.18</td>\n",
       "      <td>21.44</td>\n",
       "      <td>2368.389893</td>\n",
       "    </tr>\n",
       "    <tr>\n",
       "      <th>2017-03-08</th>\n",
       "      <td>137.72</td>\n",
       "      <td>15.24</td>\n",
       "      <td>22.81</td>\n",
       "      <td>2362.979980</td>\n",
       "    </tr>\n",
       "  </tbody>\n",
       "</table>\n",
       "</div>"
      ],
      "text/plain": [
       "                FB   TWTR   SNAP      S&P 500\n",
       "date                                         \n",
       "2017-03-02  136.76  15.79  24.48  2381.919922\n",
       "2017-03-03  137.17  15.75  27.09  2383.120117\n",
       "2017-03-06  137.42  15.56  23.77  2375.310059\n",
       "2017-03-07  137.30  15.18  21.44  2368.389893\n",
       "2017-03-08  137.72  15.24  22.81  2362.979980"
      ]
     },
     "execution_count": 14,
     "metadata": {},
     "output_type": "execute_result"
    }
   ],
   "source": [
    "# Create a new DataFrame where the columns are the closing prices for each ticker\n",
    "stocks = pd.concat([fb_df, twtr_df, snap_df, sp500_df], axis='columns', join='inner')\n",
    "\n",
    "# Sort datetime index in ascending order (past to present)\n",
    "stocks = stocks.sort_index()\n",
    "\n",
    "# Set column names to 'FB' 'TWTR', 'SNAP', and 'S&P 500'\n",
    "stocks.columns = ['FB', 'TWTR', 'SNAP', 'S&P 500']\n",
    "\n",
    "# Display a few rows\n",
    "stocks.head()"
   ]
  },
  {
   "cell_type": "markdown",
   "metadata": {},
   "source": [
    "### Calculate Daily Returns"
   ]
  },
  {
   "cell_type": "code",
   "execution_count": 16,
   "metadata": {},
   "outputs": [
    {
     "data": {
      "text/html": [
       "<div>\n",
       "<style scoped>\n",
       "    .dataframe tbody tr th:only-of-type {\n",
       "        vertical-align: middle;\n",
       "    }\n",
       "\n",
       "    .dataframe tbody tr th {\n",
       "        vertical-align: top;\n",
       "    }\n",
       "\n",
       "    .dataframe thead th {\n",
       "        text-align: right;\n",
       "    }\n",
       "</style>\n",
       "<table border=\"1\" class=\"dataframe\">\n",
       "  <thead>\n",
       "    <tr style=\"text-align: right;\">\n",
       "      <th></th>\n",
       "      <th>FB</th>\n",
       "      <th>TWTR</th>\n",
       "      <th>SNAP</th>\n",
       "      <th>S&amp;P 500</th>\n",
       "    </tr>\n",
       "    <tr>\n",
       "      <th>date</th>\n",
       "      <th></th>\n",
       "      <th></th>\n",
       "      <th></th>\n",
       "      <th></th>\n",
       "    </tr>\n",
       "  </thead>\n",
       "  <tbody>\n",
       "    <tr>\n",
       "      <th>2017-03-02</th>\n",
       "      <td>NaN</td>\n",
       "      <td>NaN</td>\n",
       "      <td>NaN</td>\n",
       "      <td>NaN</td>\n",
       "    </tr>\n",
       "    <tr>\n",
       "      <th>2017-03-03</th>\n",
       "      <td>0.002998</td>\n",
       "      <td>-0.002533</td>\n",
       "      <td>0.106618</td>\n",
       "      <td>0.000504</td>\n",
       "    </tr>\n",
       "    <tr>\n",
       "      <th>2017-03-06</th>\n",
       "      <td>0.001823</td>\n",
       "      <td>-0.012063</td>\n",
       "      <td>-0.122554</td>\n",
       "      <td>-0.003277</td>\n",
       "    </tr>\n",
       "    <tr>\n",
       "      <th>2017-03-07</th>\n",
       "      <td>-0.000873</td>\n",
       "      <td>-0.024422</td>\n",
       "      <td>-0.098023</td>\n",
       "      <td>-0.002913</td>\n",
       "    </tr>\n",
       "    <tr>\n",
       "      <th>2017-03-08</th>\n",
       "      <td>0.003059</td>\n",
       "      <td>0.003953</td>\n",
       "      <td>0.063899</td>\n",
       "      <td>-0.002284</td>\n",
       "    </tr>\n",
       "  </tbody>\n",
       "</table>\n",
       "</div>"
      ],
      "text/plain": [
       "                  FB      TWTR      SNAP   S&P 500\n",
       "date                                              \n",
       "2017-03-02       NaN       NaN       NaN       NaN\n",
       "2017-03-03  0.002998 -0.002533  0.106618  0.000504\n",
       "2017-03-06  0.001823 -0.012063 -0.122554 -0.003277\n",
       "2017-03-07 -0.000873 -0.024422 -0.098023 -0.002913\n",
       "2017-03-08  0.003059  0.003953  0.063899 -0.002284"
      ]
     },
     "execution_count": 16,
     "metadata": {},
     "output_type": "execute_result"
    }
   ],
   "source": [
    "# Use the `pct_change` function to calculate daily returns of closing prices for each column\n",
    "daily_returns = stocks.pct_change()\n",
    "daily_returns.head()"
   ]
  },
  {
   "cell_type": "markdown",
   "metadata": {},
   "source": [
    "### Calculate Covariance of Social Media Stock Returns vs. S&P 500 Returns"
   ]
  },
  {
   "cell_type": "code",
   "execution_count": 22,
   "metadata": {},
   "outputs": [
    {
     "name": "stdout",
     "output_type": "stream",
     "text": [
      "FB Covariance: 8.971694582778611e-05\n",
      "TWTR Covariance: 0.00010569463221453389\n",
      "SNAP Covariance: 7.769087430496202e-05\n"
     ]
    }
   ],
   "source": [
    "# Calculate covariance of all daily returns of social media stocks vs. S&P 500\n",
    "fb_cov = daily_returns['FB'].cov(daily_returns['S&P 500'])\n",
    "twtr_cov = daily_returns['TWTR'].cov(daily_returns['S&P 500'])\n",
    "snap_cov = daily_returns['SNAP'].cov(daily_returns['S&P 500'])\n",
    "\n",
    "# Display the covariance of each social media stock\n",
    "print(f\"FB Covariance: {fb_cov}\\n\\\n",
    "TWTR Covariance: {twtr_cov}\\n\\\n",
    "SNAP Covariance: {snap_cov}\")"
   ]
  },
  {
   "cell_type": "markdown",
   "metadata": {},
   "source": [
    "### Calculate Variance of S&P 500 Returns"
   ]
  },
  {
   "cell_type": "code",
   "execution_count": 24,
   "metadata": {},
   "outputs": [
    {
     "name": "stdout",
     "output_type": "stream",
     "text": [
      "S&P 500 Variance: 7.00079617330316e-05\n"
     ]
    }
   ],
   "source": [
    "# Calculate variance of all daily returns of social media stocks vs. S&P 500\n",
    "var = daily_returns['S&P 500'].var()\n",
    "\n",
    "# Diplay S&P 500 variance\n",
    "print(f\"S&P 500 Variance: {var}\")"
   ]
  },
  {
   "cell_type": "markdown",
   "metadata": {},
   "source": [
    "### Calculate Beta Values of Social Media Stocks"
   ]
  },
  {
   "cell_type": "code",
   "execution_count": 28,
   "metadata": {},
   "outputs": [
    {
     "name": "stdout",
     "output_type": "stream",
     "text": [
      "Beta Values:\n",
      "FB: 1.2815248952670948 | TWTR: 1.5097515996479067 | SNAP: 1.1097434117740557\n"
     ]
    }
   ],
   "source": [
    "# Calculate beta of all daily returns of social media stocks\n",
    "fb_beta, twtr_beta, snap_beta = [fb_cov / var,\n",
    "                                 twtr_cov/var,\n",
    "                                 snap_cov/var]\n",
    "\n",
    "\n",
    "# Display the beta value of each social media stock\n",
    "print(f\"Beta Values:\\n\\\n",
    "FB: {fb_beta} | TWTR: {twtr_beta} | SNAP: {snap_beta}\")"
   ]
  },
  {
   "cell_type": "markdown",
   "metadata": {},
   "source": [
    "### Calculate 30-Day Rolling Betas of Social Media Stock Returns vs. S&P 500 Returns"
   ]
  },
  {
   "cell_type": "code",
   "execution_count": null,
   "metadata": {},
   "outputs": [],
   "source": [
    "# Calculate 30-day rolling covariance of social media stocks vs. S&P 500 and plot the data\n",
    "\n",
    "\n",
    "# Calculate 30-day rolling variance of S&P 500\n",
    "\n",
    "# Calculate 30-day rolling beta of social media stocks and plot the data\n"
   ]
  },
  {
   "cell_type": "markdown",
   "metadata": {},
   "source": [
    "### Plot Rolling 30-Day Betas of Social Media Stocks"
   ]
  },
  {
   "cell_type": "code",
   "execution_count": null,
   "metadata": {},
   "outputs": [],
   "source": [
    "# Set the figure and plot the different datasets as multiple trends on the same figure\n",
    "\n",
    "# Set the legend of the figure\n"
   ]
  }
 ],
 "metadata": {
  "kernelspec": {
   "display_name": "Python 3 (ipykernel)",
   "language": "python",
   "name": "python3"
  },
  "language_info": {
   "codemirror_mode": {
    "name": "ipython",
    "version": 3
   },
   "file_extension": ".py",
   "mimetype": "text/x-python",
   "name": "python",
   "nbconvert_exporter": "python",
   "pygments_lexer": "ipython3",
   "version": "3.9.13"
  }
 },
 "nbformat": 4,
 "nbformat_minor": 4
}
