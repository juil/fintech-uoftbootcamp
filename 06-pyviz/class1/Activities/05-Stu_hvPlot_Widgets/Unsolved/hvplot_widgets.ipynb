{
 "cells": [
  {
   "cell_type": "markdown",
   "metadata": {},
   "source": [
    "# hvPlot Widgets"
   ]
  },
  {
   "cell_type": "markdown",
   "metadata": {},
   "source": [
    "Your parents need help identifying the best states to move to that have the lowest Diabetes care costs. Use hvPlot and its widgets to visualize hospital claims data in order to identify potential states for recommendation."
   ]
  },
  {
   "cell_type": "code",
   "execution_count": null,
   "metadata": {},
   "outputs": [],
   "source": [
    "import pandas as pd\n",
    "import hvplot.pandas\n",
    "from pathlib import Path"
   ]
  },
  {
   "cell_type": "markdown",
   "metadata": {},
   "source": [
    "### Step 1: Prep Data"
   ]
  },
  {
   "cell_type": "code",
   "execution_count": null,
   "metadata": {},
   "outputs": [],
   "source": [
    "# Read in hospital claims data\n",
    "hospital_data = pd.read_csv(\n",
    "    Path(\"../Resources/hospital_claims.csv\"), \n",
    "    header=0\n",
    ")\n",
    "\n",
    "# View the DataFame\n",
    "hospital_data.head()"
   ]
  },
  {
   "cell_type": "code",
   "execution_count": null,
   "metadata": {},
   "outputs": [],
   "source": [
    "# Slice the data for the DRG Definition \"638 - DIABETES W CC\"\n",
    "procedure_638_charges = hospital_data[\n",
    "    hospital_data[\"DRG Definition\"] == \"638 - DIABETES W CC\"\n",
    "]\n",
    "\n",
    "# View the DataFrame\n",
    "procedure_638_charges.head()"
   ]
  },
  {
   "cell_type": "code",
   "execution_count": null,
   "metadata": {},
   "outputs": [],
   "source": [
    "# Select data just for NJ data to get a baseline for Diabetes costs in New Jersery only\n",
    "procedure_NJ_charges = procedure_638_charges.loc[\n",
    "    hospital_data[\"Provider State\"] == \"NJ\"\n",
    "]\n",
    "\n",
    "# View the DataFrame\n",
    "procedure_NJ_charges.head()"
   ]
  },
  {
   "cell_type": "code",
   "execution_count": null,
   "metadata": {},
   "outputs": [],
   "source": [
    "# Using the NJ DataFrame, create a DataFrame consisting of \n",
    "# Average Medicare Payments and Provider ID columns\n",
    "NJ_average_total_payments = procedure_NJ_charges[\n",
    "    [\"Average Total Payments\", \"Provider Id\"]\n",
    "]\n",
    "\n",
    "# View the DataFrame\n",
    "NJ_average_total_payments.head()"
   ]
  },
  {
   "cell_type": "code",
   "execution_count": null,
   "metadata": {},
   "outputs": [],
   "source": [
    "# The sum of NJ's average total payments\n",
    "NJ_average_total_payments['Average Total Payments'].sum()"
   ]
  },
  {
   "cell_type": "markdown",
   "metadata": {},
   "source": [
    "### Step 2: Calculate the Average Total Payments by Provider State"
   ]
  },
  {
   "cell_type": "code",
   "execution_count": null,
   "metadata": {},
   "outputs": [],
   "source": [
    "# Using the procedure_638_charges DataFrame, select state and average total payments from your data.\n",
    "payment_by_state = # YOUR CODE HERE\n",
    "\n",
    "# Aggregate the sum of payments by Provider State\n",
    "total_payment_by_state = # YOUR CODE HERE\n",
    "\n",
    "# Visualize the DataFrame\n",
    "# YOUR CODE HERE"
   ]
  },
  {
   "cell_type": "markdown",
   "metadata": {},
   "source": [
    "### Step 3: Plot the payment by state date in a bar chart"
   ]
  },
  {
   "cell_type": "code",
   "execution_count": null,
   "metadata": {},
   "outputs": [],
   "source": [
    "# Visualize the data using an hvPlot bar chart\n",
    "# YOUR CODE HERE\n"
   ]
  },
  {
   "cell_type": "markdown",
   "metadata": {},
   "source": [
    "**Question:** How does the total cost of diabetes payments in New Jersey compare to that of surrounding states like NY, CT, DE, and PA?\n",
    "\n",
    "**Answer:** # YOUR ANSWER HERE"
   ]
  },
  {
   "cell_type": "markdown",
   "metadata": {},
   "source": [
    "### Step 4: Sort the cost data from low to high and then plot a bar chart\n"
   ]
  },
  {
   "cell_type": "code",
   "execution_count": null,
   "metadata": {},
   "outputs": [],
   "source": [
    "# Sort the total payment by state data by Average Total Payments\n",
    "# and visualize the values in a bar chart\n",
    "# YOUR CODE HERE\n"
   ]
  },
  {
   "cell_type": "markdown",
   "metadata": {},
   "source": [
    "**Question:** List the 10 states with the lowest total payments for diabetes care.\n",
    "\n",
    "**Answer:** # YOUR ANSWER HERE"
   ]
  },
  {
   "cell_type": "markdown",
   "metadata": {},
   "source": [
    "**Question:** How many states have a total diabetes payments of less than 200,000?\n",
    "\n",
    "**Answer:** # YOUR ANSWER HERE"
   ]
  },
  {
   "cell_type": "markdown",
   "metadata": {},
   "source": [
    "**Question:** What is the approximate difference in the total payments for diabetes payments between the state with the 10th highest payments and the state with the highest payments?\n",
    "\n",
    "**Answer:** # YOUR ANSWER HERE"
   ]
  },
  {
   "cell_type": "code",
   "execution_count": null,
   "metadata": {},
   "outputs": [],
   "source": []
  }
 ],
 "metadata": {
  "kernel_info": {
   "name": "python3"
  },
  "kernelspec": {
   "display_name": "Python 3",
   "language": "python",
   "name": "python3"
  },
  "language_info": {
   "codemirror_mode": {
    "name": "ipython",
    "version": 3
   },
   "file_extension": ".py",
   "mimetype": "text/x-python",
   "name": "python",
   "nbconvert_exporter": "python",
   "pygments_lexer": "ipython3",
   "version": "3.7.10"
  },
  "nteract": {
   "version": "0.12.3"
  }
 },
 "nbformat": 4,
 "nbformat_minor": 4
}
