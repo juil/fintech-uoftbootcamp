{
 "cells": [
  {
   "cell_type": "markdown",
   "metadata": {},
   "source": [
    "# Picture Perfect"
   ]
  },
  {
   "cell_type": "markdown",
   "metadata": {},
   "source": [
    "Perfect your visualizations by adding in some finishing touches. Use the hvPlot options and customization attributes to change the look and feel of each visualization, paying particular attention to the legibility of axis labels and the availability of titles and labels."
   ]
  },
  {
   "cell_type": "code",
   "execution_count": 8,
   "metadata": {},
   "outputs": [],
   "source": [
    "import pandas as pd\n",
    "import hvplot.pandas\n",
    "from pathlib import Path"
   ]
  },
  {
   "cell_type": "markdown",
   "metadata": {},
   "source": [
    "### Prep the data"
   ]
  },
  {
   "cell_type": "code",
   "execution_count": 9,
   "metadata": {},
   "outputs": [
    {
     "data": {
      "text/html": [
       "<div>\n",
       "<style scoped>\n",
       "    .dataframe tbody tr th:only-of-type {\n",
       "        vertical-align: middle;\n",
       "    }\n",
       "\n",
       "    .dataframe tbody tr th {\n",
       "        vertical-align: top;\n",
       "    }\n",
       "\n",
       "    .dataframe thead th {\n",
       "        text-align: right;\n",
       "    }\n",
       "</style>\n",
       "<table border=\"1\" class=\"dataframe\">\n",
       "  <thead>\n",
       "    <tr style=\"text-align: right;\">\n",
       "      <th></th>\n",
       "      <th>Total Active Loans</th>\n",
       "      <th>Total Average Loan Amount</th>\n",
       "      <th>2015 - 2016</th>\n",
       "      <th>2010 - 2014</th>\n",
       "      <th>Self Help Loan</th>\n",
       "      <th>Leveraged Loan</th>\n",
       "    </tr>\n",
       "    <tr>\n",
       "      <th>State Code</th>\n",
       "      <th></th>\n",
       "      <th></th>\n",
       "      <th></th>\n",
       "      <th></th>\n",
       "      <th></th>\n",
       "      <th></th>\n",
       "    </tr>\n",
       "  </thead>\n",
       "  <tbody>\n",
       "    <tr>\n",
       "      <th>AK</th>\n",
       "      <td>897</td>\n",
       "      <td>148811.39</td>\n",
       "      <td>189583.49</td>\n",
       "      <td>172371.39</td>\n",
       "      <td>96</td>\n",
       "      <td>450</td>\n",
       "    </tr>\n",
       "    <tr>\n",
       "      <th>AL</th>\n",
       "      <td>7455</td>\n",
       "      <td>435054.53</td>\n",
       "      <td>686066.79</td>\n",
       "      <td>648663.44</td>\n",
       "      <td>18</td>\n",
       "      <td>605</td>\n",
       "    </tr>\n",
       "    <tr>\n",
       "      <th>AR</th>\n",
       "      <td>6186</td>\n",
       "      <td>263212.27</td>\n",
       "      <td>355445.70</td>\n",
       "      <td>351562.42</td>\n",
       "      <td>861</td>\n",
       "      <td>567</td>\n",
       "    </tr>\n",
       "    <tr>\n",
       "      <th>AZ</th>\n",
       "      <td>3982</td>\n",
       "      <td>597591.94</td>\n",
       "      <td>507532.91</td>\n",
       "      <td>599688.64</td>\n",
       "      <td>1718</td>\n",
       "      <td>1057</td>\n",
       "    </tr>\n",
       "    <tr>\n",
       "      <th>CA</th>\n",
       "      <td>8875</td>\n",
       "      <td>2805653.85</td>\n",
       "      <td>3008866.40</td>\n",
       "      <td>2881741.23</td>\n",
       "      <td>4134</td>\n",
       "      <td>2231</td>\n",
       "    </tr>\n",
       "  </tbody>\n",
       "</table>\n",
       "</div>"
      ],
      "text/plain": [
       "            Total Active Loans  Total Average Loan Amount  2015 - 2016  \\\n",
       "State Code                                                               \n",
       "AK                         897                  148811.39    189583.49   \n",
       "AL                        7455                  435054.53    686066.79   \n",
       "AR                        6186                  263212.27    355445.70   \n",
       "AZ                        3982                  597591.94    507532.91   \n",
       "CA                        8875                 2805653.85   3008866.40   \n",
       "\n",
       "            2010 - 2014  Self Help Loan  Leveraged Loan  \n",
       "State Code                                               \n",
       "AK            172371.39              96             450  \n",
       "AL            648663.44              18             605  \n",
       "AR            351562.42             861             567  \n",
       "AZ            599688.64            1718            1057  \n",
       "CA           2881741.23            4134            2231  "
      ]
     },
     "execution_count": 9,
     "metadata": {},
     "output_type": "execute_result"
    }
   ],
   "source": [
    "# Read in loan data\n",
    "loan_data = pd.read_csv(Path(\"../Resources/state_loan_data.csv\"))\n",
    "\n",
    "# Group data by state for state-level analysis\n",
    "loan_data = loan_data.groupby('State Code').sum()\n",
    "loan_data.head()"
   ]
  },
  {
   "cell_type": "markdown",
   "metadata": {},
   "source": [
    "### Rotate x axis labels and format y axis values using yformatter"
   ]
  },
  {
   "cell_type": "code",
   "execution_count": 20,
   "metadata": {},
   "outputs": [
    {
     "data": {},
     "metadata": {},
     "output_type": "display_data"
    },
    {
     "data": {
      "application/vnd.holoviews_exec.v0+json": "",
      "text/html": [
       "<div id='2308'>\n",
       "  <div class=\"bk-root\" id=\"d60239c0-79c2-443d-aba2-ae64a26ae0e9\" data-root-id=\"2308\"></div>\n",
       "</div>\n",
       "<script type=\"application/javascript\">(function(root) {\n",
       "  function embed_document(root) {\n",
       "    var docs_json = {\"777c074e-58f7-4a85-8d40-0302eb0778a4\":{\"defs\":[{\"extends\":null,\"module\":null,\"name\":\"ReactiveHTML1\",\"overrides\":[],\"properties\":[]},{\"extends\":null,\"module\":null,\"name\":\"FlexBox1\",\"overrides\":[],\"properties\":[{\"default\":\"flex-start\",\"kind\":null,\"name\":\"align_content\"},{\"default\":\"flex-start\",\"kind\":null,\"name\":\"align_items\"},{\"default\":\"row\",\"kind\":null,\"name\":\"flex_direction\"},{\"default\":\"wrap\",\"kind\":null,\"name\":\"flex_wrap\"},{\"default\":\"flex-start\",\"kind\":null,\"name\":\"justify_content\"}]},{\"extends\":null,\"module\":null,\"name\":\"GridStack1\",\"overrides\":[],\"properties\":[{\"default\":\"warn\",\"kind\":null,\"name\":\"mode\"},{\"default\":null,\"kind\":null,\"name\":\"ncols\"},{\"default\":null,\"kind\":null,\"name\":\"nrows\"},{\"default\":true,\"kind\":null,\"name\":\"allow_resize\"},{\"default\":true,\"kind\":null,\"name\":\"allow_drag\"},{\"default\":[],\"kind\":null,\"name\":\"state\"}]},{\"extends\":null,\"module\":null,\"name\":\"click1\",\"overrides\":[],\"properties\":[{\"default\":\"\",\"kind\":null,\"name\":\"terminal_output\"},{\"default\":\"\",\"kind\":null,\"name\":\"debug_name\"},{\"default\":0,\"kind\":null,\"name\":\"clears\"}]},{\"extends\":null,\"module\":null,\"name\":\"NotificationAreaBase1\",\"overrides\":[],\"properties\":[{\"default\":\"bottom-right\",\"kind\":null,\"name\":\"position\"},{\"default\":0,\"kind\":null,\"name\":\"_clear\"}]},{\"extends\":null,\"module\":null,\"name\":\"NotificationArea1\",\"overrides\":[],\"properties\":[{\"default\":[],\"kind\":null,\"name\":\"notifications\"},{\"default\":\"bottom-right\",\"kind\":null,\"name\":\"position\"},{\"default\":0,\"kind\":null,\"name\":\"_clear\"},{\"default\":[{\"background\":\"#ffc107\",\"icon\":{\"className\":\"fas fa-exclamation-triangle\",\"color\":\"white\",\"tagName\":\"i\"},\"type\":\"warning\"},{\"background\":\"#007bff\",\"icon\":{\"className\":\"fas fa-info-circle\",\"color\":\"white\",\"tagName\":\"i\"},\"type\":\"info\"}],\"kind\":null,\"name\":\"types\"}]},{\"extends\":null,\"module\":null,\"name\":\"Notification\",\"overrides\":[],\"properties\":[{\"default\":null,\"kind\":null,\"name\":\"background\"},{\"default\":3000,\"kind\":null,\"name\":\"duration\"},{\"default\":null,\"kind\":null,\"name\":\"icon\"},{\"default\":\"\",\"kind\":null,\"name\":\"message\"},{\"default\":null,\"kind\":null,\"name\":\"notification_type\"},{\"default\":false,\"kind\":null,\"name\":\"_destroyed\"}]},{\"extends\":null,\"module\":null,\"name\":\"TemplateActions1\",\"overrides\":[],\"properties\":[{\"default\":0,\"kind\":null,\"name\":\"open_modal\"},{\"default\":0,\"kind\":null,\"name\":\"close_modal\"}]},{\"extends\":null,\"module\":null,\"name\":\"MaterialTemplateActions1\",\"overrides\":[],\"properties\":[{\"default\":0,\"kind\":null,\"name\":\"open_modal\"},{\"default\":0,\"kind\":null,\"name\":\"close_modal\"}]}],\"roots\":{\"references\":[{\"attributes\":{\"fill_alpha\":{\"value\":0.1},\"fill_color\":{\"value\":\"#30a2da\"},\"hatch_alpha\":{\"value\":0.1},\"hatch_color\":{\"value\":\"#30a2da\"},\"line_alpha\":{\"value\":0.1},\"top\":{\"field\":\"Total_Average_Loan_Amount\"},\"width\":{\"value\":0.8},\"x\":{\"field\":\"State_Code\"}},\"id\":\"2346\",\"type\":\"VBar\"},{\"attributes\":{\"axis_label\":\"State Code\",\"coordinates\":null,\"formatter\":{\"id\":\"2353\"},\"group\":null,\"major_label_orientation\":1.5707963267948966,\"major_label_policy\":{\"id\":\"2354\"},\"ticker\":{\"id\":\"2323\"}},\"id\":\"2322\",\"type\":\"CategoricalAxis\"},{\"attributes\":{},\"id\":\"2330\",\"type\":\"PanTool\"},{\"attributes\":{},\"id\":\"2357\",\"type\":\"AllLabels\"},{\"attributes\":{\"axis\":{\"id\":\"2325\"},\"coordinates\":null,\"dimension\":1,\"grid_line_color\":null,\"group\":null,\"ticker\":null},\"id\":\"2328\",\"type\":\"Grid\"},{\"attributes\":{},\"id\":\"2333\",\"type\":\"ResetTool\"},{\"attributes\":{\"children\":[{\"id\":\"2309\"},{\"id\":\"2313\"},{\"id\":\"2369\"}],\"margin\":[0,0,0,0],\"name\":\"Row02632\",\"tags\":[\"embedded\"]},\"id\":\"2308\",\"type\":\"Row\"},{\"attributes\":{\"bottom_units\":\"screen\",\"coordinates\":null,\"fill_alpha\":0.5,\"fill_color\":\"lightgrey\",\"group\":null,\"left_units\":\"screen\",\"level\":\"overlay\",\"line_alpha\":1.0,\"line_color\":\"black\",\"line_dash\":[4,4],\"line_width\":2,\"right_units\":\"screen\",\"syncable\":false,\"top_units\":\"screen\"},\"id\":\"2334\",\"type\":\"BoxAnnotation\"},{\"attributes\":{\"fill_alpha\":{\"value\":0.2},\"fill_color\":{\"value\":\"#30a2da\"},\"hatch_alpha\":{\"value\":0.2},\"hatch_color\":{\"value\":\"#30a2da\"},\"line_alpha\":{\"value\":0.2},\"top\":{\"field\":\"Total_Average_Loan_Amount\"},\"width\":{\"value\":0.8},\"x\":{\"field\":\"State_Code\"}},\"id\":\"2347\",\"type\":\"VBar\"},{\"attributes\":{\"fill_color\":{\"value\":\"#30a2da\"},\"hatch_color\":{\"value\":\"#30a2da\"},\"top\":{\"field\":\"Total_Average_Loan_Amount\"},\"width\":{\"value\":0.8},\"x\":{\"field\":\"State_Code\"}},\"id\":\"2345\",\"type\":\"VBar\"},{\"attributes\":{},\"id\":\"2323\",\"type\":\"CategoricalTicker\"},{\"attributes\":{\"overlay\":{\"id\":\"2334\"}},\"id\":\"2332\",\"type\":\"BoxZoomTool\"},{\"attributes\":{},\"id\":\"2329\",\"type\":\"SaveTool\"},{\"attributes\":{},\"id\":\"2353\",\"type\":\"CategoricalTickFormatter\"},{\"attributes\":{\"bottom\":{\"value\":0},\"fill_alpha\":{\"value\":1.0},\"fill_color\":{\"value\":\"#30a2da\"},\"hatch_alpha\":{\"value\":1.0},\"hatch_color\":{\"value\":\"#30a2da\"},\"hatch_scale\":{\"value\":12.0},\"hatch_weight\":{\"value\":1.0},\"line_alpha\":{\"value\":1.0},\"line_cap\":{\"value\":\"butt\"},\"line_color\":{\"value\":\"black\"},\"line_dash\":{\"value\":[]},\"line_dash_offset\":{\"value\":0},\"line_join\":{\"value\":\"bevel\"},\"line_width\":{\"value\":1},\"top\":{\"field\":\"Total_Average_Loan_Amount\"},\"width\":{\"value\":0.8},\"x\":{\"field\":\"State_Code\"}},\"id\":\"2350\",\"type\":\"VBar\"},{\"attributes\":{},\"id\":\"2343\",\"type\":\"Selection\"},{\"attributes\":{\"end\":3081895.2350000003,\"reset_end\":3081895.2350000003,\"reset_start\":0.0,\"tags\":[[[\"Total Average Loan Amount\",\"Total Average Loan Amount\",null]]]},\"id\":\"2311\",\"type\":\"Range1d\"},{\"attributes\":{},\"id\":\"2320\",\"type\":\"LinearScale\"},{\"attributes\":{\"factors\":[\"MP\",\"PR\",\"ND\",\"SD\",\"VI\",\"WY\",\"VT\",\"MT\",\"DE\",\"AK\",\"GU\",\"MS\",\"WV\",\"ID\",\"ME\",\"NM\",\"NE\",\"NH\",\"AR\",\"IA\",\"KS\",\"HI\",\"RI\",\"OK\",\"NV\",\"AL\",\"LA\",\"KY\",\"SC\",\"CT\",\"MO\",\"CO\",\"AZ\",\"UT\",\"OR\",\"TN\",\"IN\",\"WI\",\"MD\",\"MN\",\"VA\",\"IL\",\"NY\",\"GA\",\"MA\",\"MI\",\"NC\",\"NJ\",\"WA\",\"OH\",\"FL\",\"PA\",\"TX\",\"CA\"],\"tags\":[[[\"State Code\",\"State Code\",null]]]},\"id\":\"2310\",\"type\":\"FactorRange\"},{\"attributes\":{\"format\":\"%.0f\"},\"id\":\"2351\",\"type\":\"PrintfTickFormatter\"},{\"attributes\":{},\"id\":\"2326\",\"type\":\"BasicTicker\"},{\"attributes\":{\"source\":{\"id\":\"2342\"}},\"id\":\"2349\",\"type\":\"CDSView\"},{\"attributes\":{\"tools\":[{\"id\":\"2312\"},{\"id\":\"2329\"},{\"id\":\"2330\"},{\"id\":\"2331\"},{\"id\":\"2332\"},{\"id\":\"2333\"}]},\"id\":\"2335\",\"type\":\"Toolbar\"},{\"attributes\":{\"coordinates\":null,\"data_source\":{\"id\":\"2342\"},\"glyph\":{\"id\":\"2345\"},\"group\":null,\"hover_glyph\":null,\"muted_glyph\":{\"id\":\"2347\"},\"nonselection_glyph\":{\"id\":\"2346\"},\"selection_glyph\":{\"id\":\"2350\"},\"view\":{\"id\":\"2349\"}},\"id\":\"2348\",\"type\":\"GlyphRenderer\"},{\"attributes\":{\"data\":{\"State_Code\":[\"MP\",\"PR\",\"ND\",\"SD\",\"VI\",\"WY\",\"VT\",\"MT\",\"DE\",\"AK\",\"GU\",\"MS\",\"WV\",\"ID\",\"ME\",\"NM\",\"NE\",\"NH\",\"AR\",\"IA\",\"KS\",\"HI\",\"RI\",\"OK\",\"NV\",\"AL\",\"LA\",\"KY\",\"SC\",\"CT\",\"MO\",\"CO\",\"AZ\",\"UT\",\"OR\",\"TN\",\"IN\",\"WI\",\"MD\",\"MN\",\"VA\",\"IL\",\"NY\",\"GA\",\"MA\",\"MI\",\"NC\",\"NJ\",\"WA\",\"OH\",\"FL\",\"PA\",\"TX\",\"CA\"],\"Total_Average_Loan_Amount\":{\"__ndarray__\":\"AAAAAAAd5UAAAAAAwFTsQB+F61Hs6PJArkfhelhS9UAAAAAAUEz3QAAAAAAwJPlA7FG4HmFD+UA9CtejDLn5QFK4HoX7dABB7FG4HlsqAkEAAAAAaEMGQa5H4Xr2bQdBAAAAAAi+CEGamZmZNUkJQRSuR+FaWAlBw/UoXLdjC0HC9Shc8eQLQcL1KFw/PQ5BSOF6FLEQEEEfhetRDdwSQRSuR+E0thNBrkfhem+WFEGQwvUoPlcVQWZmZmby+RVB7FG4HoasF0HsUbgeuo0aQeF6FK5i2BxBexSuR6tbHUEzMzMzaUggQR+F61HQZiBBmpmZGceBIUH2KFwP7PkhQRSuR+GvPCJBj8L1KOZQIkG4HoVrQdYiQfYoXI9MiSRBw/UoXOn3JEEAAAAAUF8lQSlcj0JNKyhBw/Uo3BUSKUFI4XqUXjQpQVK4HgX9tylB4XoULhp5MEHD9SjcrLUwQSlcj8J1EzFBXI/CtTRDMUGamZnZk9ExQRSuR6EWtzJBj8L1KE+jM0GkcD3K+6E1QfYoXE887TdBXI/CdS94OUFSuB5FM4xDQc3MzOzKZ0VB\",\"dtype\":\"float64\",\"order\":\"little\",\"shape\":[54]}},\"selected\":{\"id\":\"2343\"},\"selection_policy\":{\"id\":\"2366\"}},\"id\":\"2342\",\"type\":\"ColumnDataSource\"},{\"attributes\":{},\"id\":\"2366\",\"type\":\"UnionRenderers\"},{\"attributes\":{},\"id\":\"2318\",\"type\":\"CategoricalScale\"},{\"attributes\":{\"margin\":[5,5,5,5],\"name\":\"HSpacer02636\",\"sizing_mode\":\"stretch_width\"},\"id\":\"2309\",\"type\":\"Spacer\"},{\"attributes\":{\"coordinates\":null,\"group\":null,\"text\":\"2019 Total Average Amount\",\"text_color\":\"black\",\"text_font_size\":\"12pt\"},\"id\":\"2314\",\"type\":\"Title\"},{\"attributes\":{\"axis_label\":\"$\",\"coordinates\":null,\"formatter\":{\"id\":\"2351\"},\"group\":null,\"major_label_policy\":{\"id\":\"2357\"},\"ticker\":{\"id\":\"2326\"}},\"id\":\"2325\",\"type\":\"LinearAxis\"},{\"attributes\":{\"callback\":null,\"renderers\":[{\"id\":\"2348\"}],\"tags\":[\"hv_created\"],\"tooltips\":[[\"State Code\",\"@{State_Code}\"],[\"Total Average Loan Amount\",\"@{Total_Average_Loan_Amount}\"]]},\"id\":\"2312\",\"type\":\"HoverTool\"},{\"attributes\":{},\"id\":\"2331\",\"type\":\"WheelZoomTool\"},{\"attributes\":{},\"id\":\"2354\",\"type\":\"AllLabels\"},{\"attributes\":{\"axis\":{\"id\":\"2322\"},\"coordinates\":null,\"grid_line_color\":null,\"group\":null,\"ticker\":null},\"id\":\"2324\",\"type\":\"Grid\"},{\"attributes\":{\"margin\":[5,5,5,5],\"name\":\"HSpacer02637\",\"sizing_mode\":\"stretch_width\"},\"id\":\"2369\",\"type\":\"Spacer\"},{\"attributes\":{\"below\":[{\"id\":\"2322\"}],\"center\":[{\"id\":\"2324\"},{\"id\":\"2328\"}],\"height\":300,\"left\":[{\"id\":\"2325\"}],\"margin\":[5,5,5,5],\"min_border_bottom\":10,\"min_border_left\":10,\"min_border_right\":10,\"min_border_top\":10,\"renderers\":[{\"id\":\"2348\"}],\"sizing_mode\":\"fixed\",\"title\":{\"id\":\"2314\"},\"toolbar\":{\"id\":\"2335\"},\"width\":700,\"x_range\":{\"id\":\"2310\"},\"x_scale\":{\"id\":\"2318\"},\"y_range\":{\"id\":\"2311\"},\"y_scale\":{\"id\":\"2320\"}},\"id\":\"2313\",\"subtype\":\"Figure\",\"type\":\"Plot\"}],\"root_ids\":[\"2308\"]},\"title\":\"Bokeh Application\",\"version\":\"2.4.3\"}};\n",
       "    var render_items = [{\"docid\":\"777c074e-58f7-4a85-8d40-0302eb0778a4\",\"root_ids\":[\"2308\"],\"roots\":{\"2308\":\"d60239c0-79c2-443d-aba2-ae64a26ae0e9\"}}];\n",
       "    root.Bokeh.embed.embed_items_notebook(docs_json, render_items);\n",
       "    for (const render_item of render_items) {\n",
       "      for (const root_id of render_item.root_ids) {\n",
       "\tconst id_el = document.getElementById(root_id)\n",
       "\tif (id_el.children.length && (id_el.children[0].className === 'bk-root')) {\n",
       "\t  const root_el = id_el.children[0]\n",
       "\t  root_el.id = root_el.id + '-rendered'\n",
       "\t}\n",
       "      }\n",
       "    }\n",
       "  }\n",
       "  if (root.Bokeh !== undefined && root.Bokeh.Panel !== undefined) {\n",
       "    embed_document(root);\n",
       "  } else {\n",
       "    var attempts = 0;\n",
       "    var timer = setInterval(function(root) {\n",
       "      if (root.Bokeh !== undefined && root.Bokeh.Panel !== undefined) {\n",
       "        clearInterval(timer);\n",
       "        embed_document(root);\n",
       "      } else if (document.readyState == \"complete\") {\n",
       "        attempts++;\n",
       "        if (attempts > 200) {\n",
       "          clearInterval(timer);\n",
       "          console.log(\"Bokeh: ERROR: Unable to run BokehJS code because BokehJS library is missing\");\n",
       "        }\n",
       "      }\n",
       "    }, 25, root)\n",
       "  }\n",
       "})(window);</script>"
      ],
      "text/plain": [
       ":Bars   [State Code]   (Total Average Loan Amount)"
      ]
     },
     "execution_count": 20,
     "metadata": {
      "application/vnd.holoviews_exec.v0+json": {
       "id": "2308"
      }
     },
     "output_type": "execute_result"
    }
   ],
   "source": [
    "# Slice for Total Average Loan Amount\n",
    "loan_data_state = loan_data['Total Average Loan Amount']\n",
    "loan_data_avg_grp = loan_data_state.sort_values()\n",
    "\n",
    "# Use rot and yformatter attributes/options\n",
    "plot_state_avgs = loan_data_avg_grp.hvplot.bar(\n",
    "    label='2019 Total Average Amount', rot=90\n",
    ").opts(yformatter='%.0f', ylabel='$')\n",
    "plot_state_avgs"
   ]
  },
  {
   "cell_type": "code",
   "execution_count": 28,
   "metadata": {},
   "outputs": [
    {
     "data": {},
     "metadata": {},
     "output_type": "display_data"
    },
    {
     "data": {
      "application/vnd.holoviews_exec.v0+json": "",
      "text/html": [
       "<div id='3450'>\n",
       "  <div class=\"bk-root\" id=\"64fab136-ac09-4a04-9ced-26e6cc98645a\" data-root-id=\"3450\"></div>\n",
       "</div>\n",
       "<script type=\"application/javascript\">(function(root) {\n",
       "  function embed_document(root) {\n",
       "    var docs_json = {\"c006546e-c196-4efa-8d64-8e4246fb7fb7\":{\"defs\":[{\"extends\":null,\"module\":null,\"name\":\"ReactiveHTML1\",\"overrides\":[],\"properties\":[]},{\"extends\":null,\"module\":null,\"name\":\"FlexBox1\",\"overrides\":[],\"properties\":[{\"default\":\"flex-start\",\"kind\":null,\"name\":\"align_content\"},{\"default\":\"flex-start\",\"kind\":null,\"name\":\"align_items\"},{\"default\":\"row\",\"kind\":null,\"name\":\"flex_direction\"},{\"default\":\"wrap\",\"kind\":null,\"name\":\"flex_wrap\"},{\"default\":\"flex-start\",\"kind\":null,\"name\":\"justify_content\"}]},{\"extends\":null,\"module\":null,\"name\":\"GridStack1\",\"overrides\":[],\"properties\":[{\"default\":\"warn\",\"kind\":null,\"name\":\"mode\"},{\"default\":null,\"kind\":null,\"name\":\"ncols\"},{\"default\":null,\"kind\":null,\"name\":\"nrows\"},{\"default\":true,\"kind\":null,\"name\":\"allow_resize\"},{\"default\":true,\"kind\":null,\"name\":\"allow_drag\"},{\"default\":[],\"kind\":null,\"name\":\"state\"}]},{\"extends\":null,\"module\":null,\"name\":\"click1\",\"overrides\":[],\"properties\":[{\"default\":\"\",\"kind\":null,\"name\":\"terminal_output\"},{\"default\":\"\",\"kind\":null,\"name\":\"debug_name\"},{\"default\":0,\"kind\":null,\"name\":\"clears\"}]},{\"extends\":null,\"module\":null,\"name\":\"NotificationAreaBase1\",\"overrides\":[],\"properties\":[{\"default\":\"bottom-right\",\"kind\":null,\"name\":\"position\"},{\"default\":0,\"kind\":null,\"name\":\"_clear\"}]},{\"extends\":null,\"module\":null,\"name\":\"NotificationArea1\",\"overrides\":[],\"properties\":[{\"default\":[],\"kind\":null,\"name\":\"notifications\"},{\"default\":\"bottom-right\",\"kind\":null,\"name\":\"position\"},{\"default\":0,\"kind\":null,\"name\":\"_clear\"},{\"default\":[{\"background\":\"#ffc107\",\"icon\":{\"className\":\"fas fa-exclamation-triangle\",\"color\":\"white\",\"tagName\":\"i\"},\"type\":\"warning\"},{\"background\":\"#007bff\",\"icon\":{\"className\":\"fas fa-info-circle\",\"color\":\"white\",\"tagName\":\"i\"},\"type\":\"info\"}],\"kind\":null,\"name\":\"types\"}]},{\"extends\":null,\"module\":null,\"name\":\"Notification\",\"overrides\":[],\"properties\":[{\"default\":null,\"kind\":null,\"name\":\"background\"},{\"default\":3000,\"kind\":null,\"name\":\"duration\"},{\"default\":null,\"kind\":null,\"name\":\"icon\"},{\"default\":\"\",\"kind\":null,\"name\":\"message\"},{\"default\":null,\"kind\":null,\"name\":\"notification_type\"},{\"default\":false,\"kind\":null,\"name\":\"_destroyed\"}]},{\"extends\":null,\"module\":null,\"name\":\"TemplateActions1\",\"overrides\":[],\"properties\":[{\"default\":0,\"kind\":null,\"name\":\"open_modal\"},{\"default\":0,\"kind\":null,\"name\":\"close_modal\"}]},{\"extends\":null,\"module\":null,\"name\":\"MaterialTemplateActions1\",\"overrides\":[],\"properties\":[{\"default\":0,\"kind\":null,\"name\":\"open_modal\"},{\"default\":0,\"kind\":null,\"name\":\"close_modal\"}]}],\"roots\":{\"references\":[{\"attributes\":{\"factors\":[\"MP\",\"PR\",\"VI\",\"SD\",\"ND\",\"VT\",\"MT\",\"WY\",\"DE\",\"AK\",\"GU\",\"ID\",\"NE\",\"WV\",\"ME\",\"NH\",\"NM\",\"MS\",\"AR\",\"IA\",\"KS\",\"RI\",\"HI\",\"NV\",\"OK\",\"AZ\",\"KY\",\"MO\",\"MN\",\"AL\",\"CT\",\"UT\",\"LA\",\"IL\",\"CO\",\"WI\",\"SC\",\"OR\",\"IN\",\"TN\",\"MD\",\"MA\",\"GA\",\"NY\",\"NJ\",\"MI\",\"VA\",\"WA\",\"NC\",\"OH\",\"PA\",\"FL\",\"TX\",\"CA\"],\"tags\":[[[\"State Code\",\"State Code\",null]]]},\"id\":\"3452\",\"type\":\"FactorRange\"},{\"attributes\":{\"axis_label\":\"\",\"coordinates\":null,\"formatter\":{\"id\":\"3486\"},\"group\":null,\"major_label_policy\":{\"id\":\"3492\"},\"ticker\":{\"id\":\"3469\"}},\"id\":\"3468\",\"type\":\"LinearAxis\"},{\"attributes\":{\"below\":[{\"id\":\"3465\"}],\"center\":[{\"id\":\"3467\"},{\"id\":\"3471\"},{\"id\":\"3512\"}],\"height\":300,\"left\":[{\"id\":\"3468\"}],\"margin\":[5,5,5,5],\"min_border_bottom\":10,\"min_border_left\":10,\"min_border_right\":10,\"min_border_top\":10,\"renderers\":[{\"id\":\"3501\"},{\"id\":\"3521\"}],\"sizing_mode\":\"fixed\",\"title\":{\"id\":\"3457\"},\"toolbar\":{\"id\":\"3478\"},\"width\":700,\"x_range\":{\"id\":\"3452\"},\"x_scale\":{\"id\":\"3461\"},\"y_range\":{\"id\":\"3453\"},\"y_scale\":{\"id\":\"3463\"}},\"id\":\"3456\",\"subtype\":\"Figure\",\"type\":\"Plot\"},{\"attributes\":{\"line_alpha\":0.2,\"line_color\":\"#30a2da\",\"line_width\":2,\"x\":{\"field\":\"State Code\"},\"y\":{\"field\":\"2015 - 2016\"}},\"id\":\"3500\",\"type\":\"Line\"},{\"attributes\":{\"coordinates\":null,\"group\":null,\"text_color\":\"black\",\"text_font_size\":\"12pt\"},\"id\":\"3457\",\"type\":\"Title\"},{\"attributes\":{\"tools\":[{\"id\":\"3454\"},{\"id\":\"3455\"},{\"id\":\"3472\"},{\"id\":\"3473\"},{\"id\":\"3474\"},{\"id\":\"3475\"},{\"id\":\"3476\"}]},\"id\":\"3478\",\"type\":\"Toolbar\"},{\"attributes\":{\"data\":{\"2015 - 2016\":{\"__ndarray__\":\"AAAAAAAAAAAAAAAAUPD0QAAAAABgcftAw/UoXPMY/EDhehSuE2L+QFyPwvVOhgBBCtejcB8CAkEAAAAACB8EQdejcD3MJARBuB6F63skB0EAAAAASBwLQXA9Cteh7A9BwvUoXBn8D0EAAAAANF8QQSlcj8IRhhBBAAAAAGQhEUE9CtejIWwTQXsUrkePoRNBzczMzNaxFUEK16NwlBsWQdejcD2v0hlBwvUoXGyYGkEUrkfhyLwbQeJ6FK5ztR5BmpmZmejvHkE+CtejM/oeQfYoXA+1hSJBuB6Fa8CYIkGPwvWor6skQUjhepTl7yRBexSux6iuJUHsUbieBhMmQYXrUThBLiZBSOF6FJwtJ0GF61E4vrwnQQAAAACoOihBPgrXoy6qKEE9CtcjGfooQTMzMzMDyCpBmpmZGXbBLkFwPQpXcMwuQY/C9ahaVS9BMzMzM0B2L0GkcD2KaAUyQcL1KBwDeDJB9ihcD2bZMkGF61E4USY0Qc3MzMz7STdBXI/C9eiLOEGkcD1KxHU5QQAAAMDJvTxBZmZmhqCgQEFmZmamd19GQTMzMzOx9EZB\",\"dtype\":\"float64\",\"order\":\"little\",\"shape\":[54]},\"A_2015_hyphen_minus_2016\":{\"__ndarray__\":\"AAAAAAAAAAAAAAAAUPD0QAAAAABgcftAw/UoXPMY/EDhehSuE2L+QFyPwvVOhgBBCtejcB8CAkEAAAAACB8EQdejcD3MJARBuB6F63skB0EAAAAASBwLQXA9Cteh7A9BwvUoXBn8D0EAAAAANF8QQSlcj8IRhhBBAAAAAGQhEUE9CtejIWwTQXsUrkePoRNBzczMzNaxFUEK16NwlBsWQdejcD2v0hlBwvUoXGyYGkEUrkfhyLwbQeJ6FK5ztR5BmpmZmejvHkE+CtejM/oeQfYoXA+1hSJBuB6Fa8CYIkGPwvWor6skQUjhepTl7yRBexSux6iuJUHsUbieBhMmQYXrUThBLiZBSOF6FJwtJ0GF61E4vrwnQQAAAACoOihBPgrXoy6qKEE9CtcjGfooQTMzMzMDyCpBmpmZGXbBLkFwPQpXcMwuQY/C9ahaVS9BMzMzM0B2L0GkcD2KaAUyQcL1KBwDeDJB9ihcD2bZMkGF61E4USY0Qc3MzMz7STdBXI/C9eiLOEGkcD1KxHU5QQAAAMDJvTxBZmZmhqCgQEFmZmamd19GQTMzMzOx9EZB\",\"dtype\":\"float64\",\"order\":\"little\",\"shape\":[54]},\"State Code\":[\"MP\",\"PR\",\"VI\",\"SD\",\"ND\",\"VT\",\"MT\",\"WY\",\"DE\",\"AK\",\"GU\",\"ID\",\"NE\",\"WV\",\"ME\",\"NH\",\"NM\",\"MS\",\"AR\",\"IA\",\"KS\",\"RI\",\"HI\",\"NV\",\"OK\",\"AZ\",\"KY\",\"MO\",\"MN\",\"AL\",\"CT\",\"UT\",\"LA\",\"IL\",\"CO\",\"WI\",\"SC\",\"OR\",\"IN\",\"TN\",\"MD\",\"MA\",\"GA\",\"NY\",\"NJ\",\"MI\",\"VA\",\"WA\",\"NC\",\"OH\",\"PA\",\"FL\",\"TX\",\"CA\"],\"State_Code\":[\"MP\",\"PR\",\"VI\",\"SD\",\"ND\",\"VT\",\"MT\",\"WY\",\"DE\",\"AK\",\"GU\",\"ID\",\"NE\",\"WV\",\"ME\",\"NH\",\"NM\",\"MS\",\"AR\",\"IA\",\"KS\",\"RI\",\"HI\",\"NV\",\"OK\",\"AZ\",\"KY\",\"MO\",\"MN\",\"AL\",\"CT\",\"UT\",\"LA\",\"IL\",\"CO\",\"WI\",\"SC\",\"OR\",\"IN\",\"TN\",\"MD\",\"MA\",\"GA\",\"NY\",\"NJ\",\"MI\",\"VA\",\"WA\",\"NC\",\"OH\",\"PA\",\"FL\",\"TX\",\"CA\"]},\"selected\":{\"id\":\"3496\"},\"selection_policy\":{\"id\":\"3509\"}},\"id\":\"3495\",\"type\":\"ColumnDataSource\"},{\"attributes\":{\"line_alpha\":0.2,\"line_color\":\"#fc4f30\",\"line_width\":2,\"x\":{\"field\":\"State Code\"},\"y\":{\"field\":\"2010 - 2014\"}},\"id\":\"3520\",\"type\":\"Line\"},{\"attributes\":{\"format\":\"%.0f\"},\"id\":\"3486\",\"type\":\"PrintfTickFormatter\"},{\"attributes\":{\"source\":{\"id\":\"3495\"}},\"id\":\"3502\",\"type\":\"CDSView\"},{\"attributes\":{},\"id\":\"3463\",\"type\":\"LinearScale\"},{\"attributes\":{},\"id\":\"3476\",\"type\":\"ResetTool\"},{\"attributes\":{\"bottom_units\":\"screen\",\"coordinates\":null,\"fill_alpha\":0.5,\"fill_color\":\"lightgrey\",\"group\":null,\"left_units\":\"screen\",\"level\":\"overlay\",\"line_alpha\":1.0,\"line_color\":\"black\",\"line_dash\":[4,4],\"line_width\":2,\"right_units\":\"screen\",\"syncable\":false,\"top_units\":\"screen\"},\"id\":\"3477\",\"type\":\"BoxAnnotation\"},{\"attributes\":{\"overlay\":{\"id\":\"3477\"}},\"id\":\"3475\",\"type\":\"BoxZoomTool\"},{\"attributes\":{\"click_policy\":\"mute\",\"coordinates\":null,\"group\":null,\"items\":[{\"id\":\"3513\"},{\"id\":\"3534\"}]},\"id\":\"3512\",\"type\":\"Legend\"},{\"attributes\":{\"margin\":[5,5,5,5],\"name\":\"HSpacer04385\",\"sizing_mode\":\"stretch_width\"},\"id\":\"3451\",\"type\":\"Spacer\"},{\"attributes\":{},\"id\":\"3473\",\"type\":\"PanTool\"},{\"attributes\":{},\"id\":\"3488\",\"type\":\"CategoricalTickFormatter\"},{\"attributes\":{\"label\":{\"value\":\"2010 - 2014\"},\"renderers\":[{\"id\":\"3521\"}]},\"id\":\"3534\",\"type\":\"LegendItem\"},{\"attributes\":{\"line_alpha\":0.1,\"line_color\":\"#fc4f30\",\"line_width\":2,\"x\":{\"field\":\"State Code\"},\"y\":{\"field\":\"2010 - 2014\"}},\"id\":\"3519\",\"type\":\"Line\"},{\"attributes\":{\"line_color\":\"#fc4f30\",\"line_width\":2,\"x\":{\"field\":\"State Code\"},\"y\":{\"field\":\"2010 - 2014\"}},\"id\":\"3535\",\"type\":\"Line\"},{\"attributes\":{},\"id\":\"3472\",\"type\":\"SaveTool\"},{\"attributes\":{\"source\":{\"id\":\"3515\"}},\"id\":\"3522\",\"type\":\"CDSView\"},{\"attributes\":{\"children\":[{\"id\":\"3451\"},{\"id\":\"3456\"},{\"id\":\"3547\"}],\"margin\":[0,0,0,0],\"name\":\"Row04381\",\"tags\":[\"embedded\"]},\"id\":\"3450\",\"type\":\"Row\"},{\"attributes\":{\"line_color\":\"#fc4f30\",\"line_width\":2,\"x\":{\"field\":\"State Code\"},\"y\":{\"field\":\"2010 - 2014\"}},\"id\":\"3518\",\"type\":\"Line\"},{\"attributes\":{},\"id\":\"3531\",\"type\":\"UnionRenderers\"},{\"attributes\":{\"callback\":null,\"renderers\":[{\"id\":\"3521\"}],\"tags\":[\"hv_created\"],\"tooltips\":[[\"State Code\",\"@{State_Code}\"],[\"2010 - 2014\",\"@{A_2010_hyphen_minus_2014}\"]]},\"id\":\"3455\",\"type\":\"HoverTool\"},{\"attributes\":{},\"id\":\"3516\",\"type\":\"Selection\"},{\"attributes\":{},\"id\":\"3509\",\"type\":\"UnionRenderers\"},{\"attributes\":{},\"id\":\"3492\",\"type\":\"AllLabels\"},{\"attributes\":{\"line_alpha\":0.1,\"line_color\":\"#30a2da\",\"line_width\":2,\"x\":{\"field\":\"State Code\"},\"y\":{\"field\":\"2015 - 2016\"}},\"id\":\"3499\",\"type\":\"Line\"},{\"attributes\":{\"margin\":[5,5,5,5],\"name\":\"HSpacer04386\",\"sizing_mode\":\"stretch_width\"},\"id\":\"3547\",\"type\":\"Spacer\"},{\"attributes\":{\"label\":{\"value\":\"2015 - 2016\"},\"renderers\":[{\"id\":\"3501\"}]},\"id\":\"3513\",\"type\":\"LegendItem\"},{\"attributes\":{\"axis_label\":\"State Code\",\"coordinates\":null,\"formatter\":{\"id\":\"3488\"},\"group\":null,\"major_label_orientation\":1.5707963267948966,\"major_label_policy\":{\"id\":\"3489\"},\"ticker\":{\"id\":\"3466\"}},\"id\":\"3465\",\"type\":\"CategoricalAxis\"},{\"attributes\":{\"line_color\":\"#30a2da\",\"line_width\":2,\"x\":{\"field\":\"State Code\"},\"y\":{\"field\":\"2015 - 2016\"}},\"id\":\"3498\",\"type\":\"Line\"},{\"attributes\":{\"data\":{\"2010 - 2014\":{\"__ndarray__\":\"AAAAAEDF2kAAAAAAULzzQPYoXI+yuvlAAAAAACA8/EDXo3A9eh79QFK4HoUDQgBBAAAAAEhJAEEfhetRii8BQR+F61HK1gNB7FG4HpsKBUEAAAAA8M0HQexRuB6nnA5BexSuRytREEEAAAAA0JkQQRSuR+HbvxBBHoXrUQ+UEUEAAAAA4tMRQT4K16PIeRJB4XoUril1FUFmZmZmhZMVQSlcj8K/RxhBXI/C9SBjGEHiehSuMNkYQR+F61GBGxpBKVyPwqpwHEFcj8J1LjYhQfYoXA9pNSJBexSuRxFNIkHrUbiebfYiQRSuR+GuyyNBuB6FazdGJEFwPQrXCiclQVK4HoWcQCVBwvUoXDaVJUEAAACAShInQaRwPQrxaCdBZmZmZtumKEEAAAAAmD0pQR6F61Gd3ilB7FG4HsPlKUEpXI9C7tErQa5H4bqQkjFBZmZmZq+ZMUFxPQoXCE8yQWZmZiaJWDJBCtej8HJLNEE9CtfjgGY0QRSuR2FODzZBZmZmZoAGN0GPwvWoFhA3QRSuRyGWpD1BAAAAwKYZP0HXo3CdZvxFQYXrUThmdUhB\",\"dtype\":\"float64\",\"order\":\"little\",\"shape\":[54]},\"A_2010_hyphen_minus_2014\":{\"__ndarray__\":\"AAAAAEDF2kAAAAAAULzzQPYoXI+yuvlAAAAAACA8/EDXo3A9eh79QFK4HoUDQgBBAAAAAEhJAEEfhetRii8BQR+F61HK1gNB7FG4HpsKBUEAAAAA8M0HQexRuB6nnA5BexSuRytREEEAAAAA0JkQQRSuR+HbvxBBHoXrUQ+UEUEAAAAA4tMRQT4K16PIeRJB4XoUril1FUFmZmZmhZMVQSlcj8K/RxhBXI/C9SBjGEHiehSuMNkYQR+F61GBGxpBKVyPwqpwHEFcj8J1LjYhQfYoXA9pNSJBexSuRxFNIkHrUbiebfYiQRSuR+GuyyNBuB6FazdGJEFwPQrXCiclQVK4HoWcQCVBwvUoXDaVJUEAAACAShInQaRwPQrxaCdBZmZmZtumKEEAAAAAmD0pQR6F61Gd3ilB7FG4HsPlKUEpXI9C7tErQa5H4bqQkjFBZmZmZq+ZMUFxPQoXCE8yQWZmZiaJWDJBCtej8HJLNEE9CtfjgGY0QRSuR2FODzZBZmZmZoAGN0GPwvWoFhA3QRSuRyGWpD1BAAAAwKYZP0HXo3CdZvxFQYXrUThmdUhB\",\"dtype\":\"float64\",\"order\":\"little\",\"shape\":[54]},\"State Code\":[\"MP\",\"PR\",\"SD\",\"VI\",\"ND\",\"VT\",\"WY\",\"MT\",\"DE\",\"AK\",\"GU\",\"ID\",\"NE\",\"WV\",\"ME\",\"NH\",\"MS\",\"NM\",\"AR\",\"IA\",\"NV\",\"RI\",\"KS\",\"HI\",\"OK\",\"MO\",\"KY\",\"AZ\",\"MN\",\"AL\",\"UT\",\"LA\",\"CT\",\"CO\",\"SC\",\"OR\",\"IN\",\"WI\",\"MD\",\"IL\",\"TN\",\"GA\",\"MI\",\"VA\",\"NY\",\"NJ\",\"MA\",\"OH\",\"NC\",\"WA\",\"FL\",\"PA\",\"CA\",\"TX\"],\"State_Code\":[\"MP\",\"PR\",\"SD\",\"VI\",\"ND\",\"VT\",\"WY\",\"MT\",\"DE\",\"AK\",\"GU\",\"ID\",\"NE\",\"WV\",\"ME\",\"NH\",\"MS\",\"NM\",\"AR\",\"IA\",\"NV\",\"RI\",\"KS\",\"HI\",\"OK\",\"MO\",\"KY\",\"AZ\",\"MN\",\"AL\",\"UT\",\"LA\",\"CT\",\"CO\",\"SC\",\"OR\",\"IN\",\"WI\",\"MD\",\"IL\",\"TN\",\"GA\",\"MI\",\"VA\",\"NY\",\"NJ\",\"MA\",\"OH\",\"NC\",\"WA\",\"FL\",\"PA\",\"CA\",\"TX\"]},\"selected\":{\"id\":\"3516\"},\"selection_policy\":{\"id\":\"3531\"}},\"id\":\"3515\",\"type\":\"ColumnDataSource\"},{\"attributes\":{\"end\":3526420.084,\"reset_end\":3526420.084,\"reset_start\":-320583.64400000003,\"start\":-320583.64400000003,\"tags\":[[[\"2015 - 2016\",\"2015 - 2016\",null]]]},\"id\":\"3453\",\"type\":\"Range1d\"},{\"attributes\":{\"coordinates\":null,\"data_source\":{\"id\":\"3515\"},\"glyph\":{\"id\":\"3518\"},\"group\":null,\"hover_glyph\":null,\"muted_glyph\":{\"id\":\"3520\"},\"nonselection_glyph\":{\"id\":\"3519\"},\"selection_glyph\":{\"id\":\"3535\"},\"view\":{\"id\":\"3522\"}},\"id\":\"3521\",\"type\":\"GlyphRenderer\"},{\"attributes\":{\"line_color\":\"#30a2da\",\"line_width\":2,\"x\":{\"field\":\"State Code\"},\"y\":{\"field\":\"2015 - 2016\"}},\"id\":\"3514\",\"type\":\"Line\"},{\"attributes\":{},\"id\":\"3466\",\"type\":\"CategoricalTicker\"},{\"attributes\":{\"axis\":{\"id\":\"3468\"},\"coordinates\":null,\"dimension\":1,\"grid_line_color\":null,\"group\":null,\"ticker\":null},\"id\":\"3471\",\"type\":\"Grid\"},{\"attributes\":{},\"id\":\"3469\",\"type\":\"BasicTicker\"},{\"attributes\":{\"callback\":null,\"renderers\":[{\"id\":\"3501\"}],\"tags\":[\"hv_created\"],\"tooltips\":[[\"State Code\",\"@{State_Code}\"],[\"2015 - 2016\",\"@{A_2015_hyphen_minus_2016}\"]]},\"id\":\"3454\",\"type\":\"HoverTool\"},{\"attributes\":{},\"id\":\"3474\",\"type\":\"WheelZoomTool\"},{\"attributes\":{\"coordinates\":null,\"data_source\":{\"id\":\"3495\"},\"glyph\":{\"id\":\"3498\"},\"group\":null,\"hover_glyph\":null,\"muted_glyph\":{\"id\":\"3500\"},\"nonselection_glyph\":{\"id\":\"3499\"},\"selection_glyph\":{\"id\":\"3514\"},\"view\":{\"id\":\"3502\"}},\"id\":\"3501\",\"type\":\"GlyphRenderer\"},{\"attributes\":{},\"id\":\"3489\",\"type\":\"AllLabels\"},{\"attributes\":{},\"id\":\"3461\",\"type\":\"CategoricalScale\"},{\"attributes\":{},\"id\":\"3496\",\"type\":\"Selection\"},{\"attributes\":{\"axis\":{\"id\":\"3465\"},\"coordinates\":null,\"grid_line_color\":null,\"group\":null,\"ticker\":null},\"id\":\"3467\",\"type\":\"Grid\"}],\"root_ids\":[\"3450\"]},\"title\":\"Bokeh Application\",\"version\":\"2.4.3\"}};\n",
       "    var render_items = [{\"docid\":\"c006546e-c196-4efa-8d64-8e4246fb7fb7\",\"root_ids\":[\"3450\"],\"roots\":{\"3450\":\"64fab136-ac09-4a04-9ced-26e6cc98645a\"}}];\n",
       "    root.Bokeh.embed.embed_items_notebook(docs_json, render_items);\n",
       "    for (const render_item of render_items) {\n",
       "      for (const root_id of render_item.root_ids) {\n",
       "\tconst id_el = document.getElementById(root_id)\n",
       "\tif (id_el.children.length && (id_el.children[0].className === 'bk-root')) {\n",
       "\t  const root_el = id_el.children[0]\n",
       "\t  root_el.id = root_el.id + '-rendered'\n",
       "\t}\n",
       "      }\n",
       "    }\n",
       "  }\n",
       "  if (root.Bokeh !== undefined && root.Bokeh.Panel !== undefined) {\n",
       "    embed_document(root);\n",
       "  } else {\n",
       "    var attempts = 0;\n",
       "    var timer = setInterval(function(root) {\n",
       "      if (root.Bokeh !== undefined && root.Bokeh.Panel !== undefined) {\n",
       "        clearInterval(timer);\n",
       "        embed_document(root);\n",
       "      } else if (document.readyState == \"complete\") {\n",
       "        attempts++;\n",
       "        if (attempts > 200) {\n",
       "          clearInterval(timer);\n",
       "          console.log(\"Bokeh: ERROR: Unable to run BokehJS code because BokehJS library is missing\");\n",
       "        }\n",
       "      }\n",
       "    }, 25, root)\n",
       "  }\n",
       "})(window);</script>"
      ],
      "text/plain": [
       ":Overlay\n",
       "   .Curve.A_2015_hyphen_minus_2016 :Curve   [State Code]   (2015 - 2016)\n",
       "   .Curve.A_2010_hyphen_minus_2014 :Curve   [State Code]   (2010 - 2014)"
      ]
     },
     "execution_count": 28,
     "metadata": {
      "application/vnd.holoviews_exec.v0+json": {
       "id": "3450"
      }
     },
     "output_type": "execute_result"
    }
   ],
   "source": [
    "# Slice data for Total Average Loan Amount by 2015-2016 and 2010-2014 date ranges\n",
    "loan_data_range_1 = loan_data['2015 - 2016']\n",
    "loan_data_range_2 = loan_data['2010 - 2014']\n",
    "loan_data_range_grp = loan_data_range_1.sort_values()\n",
    "loan_data_range_grp_2 = loan_data_range_2.sort_values()\n",
    "\n",
    "# Use rot argument and yformatter option to customize formatting\n",
    "plot_2015_2016 = loan_data_range_grp.hvplot(\n",
    "    label='2015 - 2016', rot=90, \n",
    ").opts(yformatter='%.0f')\n",
    "plot_2010_2014 = loan_data_range_grp_2.hvplot(label='2010 - 2014')\n",
    "(plot_2015_2016 * plot_2010_2014)"
   ]
  },
  {
   "cell_type": "markdown",
   "metadata": {},
   "source": [
    "### Use title option to customize title"
   ]
  },
  {
   "cell_type": "code",
   "execution_count": null,
   "metadata": {},
   "outputs": [
    {
     "data": {
      "application/vnd.holoviews_exec.v0+json": "",
      "text/html": [
       "<div id='1419'>\n",
       "\n",
       "\n",
       "\n",
       "\n",
       "\n",
       "  <div class=\"bk-root\" id=\"bb257fcc-7778-46e2-bc57-a99b9a3e1e17\" data-root-id=\"1419\"></div>\n",
       "</div>\n",
       "<script type=\"application/javascript\">(function(root) {\n",
       "  function embed_document(root) {\n",
       "  var docs_json = {\"a142f99b-be1a-4d4d-a721-c64c98cbd478\":{\"roots\":{\"references\":[{\"attributes\":{\"callback\":null,\"renderers\":[{\"id\":\"1467\"}],\"tags\":[\"hv_created\"],\"tooltips\":[[\"State Code\",\"@{State_Code}\"],[\"Total Average Loan Amount\",\"@{Total_Average_Loan_Amount}\"]]},\"id\":\"1423\",\"type\":\"HoverTool\"},{\"attributes\":{\"margin\":[5,5,5,5],\"name\":\"HSpacer02077\",\"sizing_mode\":\"stretch_width\"},\"id\":\"1609\",\"type\":\"Spacer\"},{\"attributes\":{\"axis\":{\"id\":\"1438\"},\"dimension\":1,\"grid_line_color\":null,\"ticker\":null},\"id\":\"1441\",\"type\":\"Grid\"},{\"attributes\":{\"bottom_units\":\"screen\",\"fill_alpha\":0.5,\"fill_color\":\"lightgrey\",\"left_units\":\"screen\",\"level\":\"overlay\",\"line_alpha\":1.0,\"line_color\":\"black\",\"line_dash\":[4,4],\"line_width\":2,\"render_mode\":\"css\",\"right_units\":\"screen\",\"top_units\":\"screen\"},\"id\":\"1447\",\"type\":\"BoxAnnotation\"},{\"attributes\":{\"children\":[{\"id\":\"1420\"},{\"id\":\"1426\"},{\"id\":\"1609\"}],\"margin\":[0,0,0,0],\"name\":\"Row02072\",\"tags\":[\"embedded\"]},\"id\":\"1419\",\"type\":\"Row\"},{\"attributes\":{},\"id\":\"1510\",\"type\":\"UnionRenderers\"},{\"attributes\":{\"click_policy\":\"mute\",\"items\":[{\"id\":\"1476\"},{\"id\":\"1493\"},{\"id\":\"1512\"}],\"location\":[0,0]},\"id\":\"1475\",\"type\":\"Legend\"},{\"attributes\":{\"fill_alpha\":{\"value\":0.1},\"fill_color\":{\"value\":\"#1f77b3\"},\"line_alpha\":{\"value\":0.1},\"top\":{\"field\":\"Total_Average_Loan_Amount\"},\"width\":{\"value\":0.8},\"x\":{\"field\":\"State_Code\"}},\"id\":\"1465\",\"type\":\"VBar\"},{\"attributes\":{\"callback\":null,\"renderers\":[{\"id\":\"1500\"}],\"tags\":[\"hv_created\"],\"tooltips\":[[\"State Code\",\"@{State_Code}\"],[\"2010 - 2014\",\"@{A_2010_hyphen_minus_2014}\"]]},\"id\":\"1425\",\"type\":\"HoverTool\"},{\"attributes\":{},\"id\":\"1444\",\"type\":\"WheelZoomTool\"},{\"attributes\":{\"source\":{\"id\":\"1494\"}},\"id\":\"1501\",\"type\":\"CDSView\"},{\"attributes\":{},\"id\":\"1458\",\"type\":\"CategoricalTickFormatter\"},{\"attributes\":{},\"id\":\"1439\",\"type\":\"BasicTicker\"},{\"attributes\":{},\"id\":\"1462\",\"type\":\"Selection\"},{\"attributes\":{\"source\":{\"id\":\"1461\"}},\"id\":\"1468\",\"type\":\"CDSView\"},{\"attributes\":{\"data\":{\"2015 - 2016\":{\"__ndarray__\":\"AAAAAAAAAAAAAAAAUPD0QAAAAABgcftAw/UoXPMY/EDhehSuE2L+QFyPwvVOhgBBCtejcB8CAkEAAAAACB8EQdejcD3MJARBuB6F63skB0EAAAAASBwLQXA9Cteh7A9BwvUoXBn8D0EAAAAANF8QQSlcj8IRhhBBAAAAAGQhEUE+CtejIWwTQXsUrkePoRNBzczMzNaxFUEK16NwlBsWQdejcD2v0hlBwvUoXGyYGkEUrkfhyLwbQeJ6FK5ztR5BmZmZmejvHkE9CtejM/oeQfYoXA+1hSJBuB6Fa8CYIkGPwvWor6skQUfhepTl7yRBexSux6iuJUHsUbieBhMmQYXrUThBLiZBSOF6FJwtJ0GF61E4vrwnQQAAAACoOihBPgrXoy6qKEE9CtcjGfooQTQzMzMDyCpBmZmZGXbBLkFwPQpXcMwuQZDC9ahaVS9BNDMzM0B2L0GkcD2KaAUyQcL1KBwDeDJB9ihcD2bZMkGG61E4USY0Qc3MzMz7STdBXI/C9eiLOEGjcD1KxHU5QQAAAMDJvTxBZmZmhqCgQEFmZmamd19GQTMzMzOx9EZB\",\"dtype\":\"float64\",\"shape\":[54]},\"A_2015_hyphen_minus_2016\":{\"__ndarray__\":\"AAAAAAAAAAAAAAAAUPD0QAAAAABgcftAw/UoXPMY/EDhehSuE2L+QFyPwvVOhgBBCtejcB8CAkEAAAAACB8EQdejcD3MJARBuB6F63skB0EAAAAASBwLQXA9Cteh7A9BwvUoXBn8D0EAAAAANF8QQSlcj8IRhhBBAAAAAGQhEUE+CtejIWwTQXsUrkePoRNBzczMzNaxFUEK16NwlBsWQdejcD2v0hlBwvUoXGyYGkEUrkfhyLwbQeJ6FK5ztR5BmZmZmejvHkE9CtejM/oeQfYoXA+1hSJBuB6Fa8CYIkGPwvWor6skQUfhepTl7yRBexSux6iuJUHsUbieBhMmQYXrUThBLiZBSOF6FJwtJ0GF61E4vrwnQQAAAACoOihBPgrXoy6qKEE9CtcjGfooQTQzMzMDyCpBmZmZGXbBLkFwPQpXcMwuQZDC9ahaVS9BNDMzM0B2L0GkcD2KaAUyQcL1KBwDeDJB9ihcD2bZMkGG61E4USY0Qc3MzMz7STdBXI/C9eiLOEGjcD1KxHU5QQAAAMDJvTxBZmZmhqCgQEFmZmamd19GQTMzMzOx9EZB\",\"dtype\":\"float64\",\"shape\":[54]},\"State Code\":[\"MP\",\"PR\",\"VI\",\"SD\",\"ND\",\"VT\",\"MT\",\"WY\",\"DE\",\"AK\",\"GU\",\"ID\",\"NE\",\"WV\",\"ME\",\"NH\",\"NM\",\"MS\",\"AR\",\"IA\",\"KS\",\"RI\",\"HI\",\"NV\",\"OK\",\"AZ\",\"KY\",\"MO\",\"MN\",\"AL\",\"CT\",\"UT\",\"LA\",\"IL\",\"CO\",\"WI\",\"SC\",\"OR\",\"IN\",\"TN\",\"MD\",\"MA\",\"GA\",\"NY\",\"NJ\",\"MI\",\"VA\",\"WA\",\"NC\",\"OH\",\"PA\",\"FL\",\"TX\",\"CA\"],\"State_Code\":[\"MP\",\"PR\",\"VI\",\"SD\",\"ND\",\"VT\",\"MT\",\"WY\",\"DE\",\"AK\",\"GU\",\"ID\",\"NE\",\"WV\",\"ME\",\"NH\",\"NM\",\"MS\",\"AR\",\"IA\",\"KS\",\"RI\",\"HI\",\"NV\",\"OK\",\"AZ\",\"KY\",\"MO\",\"MN\",\"AL\",\"CT\",\"UT\",\"LA\",\"IL\",\"CO\",\"WI\",\"SC\",\"OR\",\"IN\",\"TN\",\"MD\",\"MA\",\"GA\",\"NY\",\"NJ\",\"MI\",\"VA\",\"WA\",\"NC\",\"OH\",\"PA\",\"FL\",\"TX\",\"CA\"]},\"selected\":{\"id\":\"1478\"},\"selection_policy\":{\"id\":\"1510\"}},\"id\":\"1477\",\"type\":\"ColumnDataSource\"},{\"attributes\":{\"active_drag\":\"auto\",\"active_inspect\":\"auto\",\"active_multi\":null,\"active_scroll\":\"auto\",\"active_tap\":\"auto\",\"tools\":[{\"id\":\"1423\"},{\"id\":\"1424\"},{\"id\":\"1425\"},{\"id\":\"1442\"},{\"id\":\"1443\"},{\"id\":\"1444\"},{\"id\":\"1445\"},{\"id\":\"1446\"}]},\"id\":\"1448\",\"type\":\"Toolbar\"},{\"attributes\":{\"line_alpha\":0.1,\"line_color\":\"#1f77b3\",\"line_width\":2,\"x\":{\"field\":\"State Code\"},\"y\":{\"field\":\"2015 - 2016\"}},\"id\":\"1481\",\"type\":\"Line\"},{\"attributes\":{\"label\":{\"value\":\"2019 Total Average Amount\"},\"renderers\":[{\"id\":\"1467\"}]},\"id\":\"1476\",\"type\":\"LegendItem\"},{\"attributes\":{\"fill_alpha\":{\"value\":0.2},\"fill_color\":{\"value\":\"#1f77b3\"},\"line_alpha\":{\"value\":0.2},\"top\":{\"field\":\"Total_Average_Loan_Amount\"},\"width\":{\"value\":0.8},\"x\":{\"field\":\"State_Code\"}},\"id\":\"1466\",\"type\":\"VBar\"},{\"attributes\":{\"data_source\":{\"id\":\"1461\"},\"glyph\":{\"id\":\"1464\"},\"hover_glyph\":null,\"muted_glyph\":{\"id\":\"1466\"},\"nonselection_glyph\":{\"id\":\"1465\"},\"selection_glyph\":null,\"view\":{\"id\":\"1468\"}},\"id\":\"1467\",\"type\":\"GlyphRenderer\"},{\"attributes\":{\"line_alpha\":0.2,\"line_color\":\"#ff7e0e\",\"line_width\":2,\"x\":{\"field\":\"State Code\"},\"y\":{\"field\":\"2010 - 2014\"}},\"id\":\"1499\",\"type\":\"Line\"},{\"attributes\":{},\"id\":\"1443\",\"type\":\"PanTool\"},{\"attributes\":{\"data\":{\"2010 - 2014\":{\"__ndarray__\":\"AAAAAEDF2kAAAAAAULzzQPYoXI+yuvlAAAAAACA8/EDXo3A9eh79QFK4HoUDQgBBAAAAAEhJAEEfhetRii8BQR+F61HK1gNB7FG4HpsKBUEAAAAA8M0HQexRuB6nnA5BehSuRytREEEAAAAA0JkQQRSuR+HbvxBBHoXrUQ+UEUEAAAAA4tMRQT4K16PIeRJB4XoUril1FUFnZmZmhZMVQSpcj8K/RxhBXI/C9SBjGEHhehSuMNkYQR+F61GBGxpBKVyPwqpwHEFcj8J1LjYhQfYoXA9pNSJBexSuRxFNIkHsUbiebfYiQRWuR+GuyyNBuB6FazdGJEFwPQrXCiclQVK4HoWcQCVBwvUoXDaVJUEAAACAShInQaRwPQrxaCdBZWZmZtumKEEAAAAAmD0pQSCF61Gd3ilB7FG4HsPlKUEoXI9C7tErQa1H4bqQkjFBZ2ZmZq+ZMUFxPQoXCE8yQWdmZiaJWDJBC9ej8HJLNEE+CtfjgGY0QRWuR2FODzZBZmZmZoAGN0GQwvWoFhA3QRWuRyGWpD1BAAAAwKYZP0HXo3CdZvxFQYXrUThmdUhB\",\"dtype\":\"float64\",\"shape\":[54]},\"A_2010_hyphen_minus_2014\":{\"__ndarray__\":\"AAAAAEDF2kAAAAAAULzzQPYoXI+yuvlAAAAAACA8/EDXo3A9eh79QFK4HoUDQgBBAAAAAEhJAEEfhetRii8BQR+F61HK1gNB7FG4HpsKBUEAAAAA8M0HQexRuB6nnA5BehSuRytREEEAAAAA0JkQQRSuR+HbvxBBHoXrUQ+UEUEAAAAA4tMRQT4K16PIeRJB4XoUril1FUFnZmZmhZMVQSpcj8K/RxhBXI/C9SBjGEHhehSuMNkYQR+F61GBGxpBKVyPwqpwHEFcj8J1LjYhQfYoXA9pNSJBexSuRxFNIkHsUbiebfYiQRWuR+GuyyNBuB6FazdGJEFwPQrXCiclQVK4HoWcQCVBwvUoXDaVJUEAAACAShInQaRwPQrxaCdBZWZmZtumKEEAAAAAmD0pQSCF61Gd3ilB7FG4HsPlKUEoXI9C7tErQa1H4bqQkjFBZ2ZmZq+ZMUFxPQoXCE8yQWdmZiaJWDJBC9ej8HJLNEE+CtfjgGY0QRWuR2FODzZBZmZmZoAGN0GQwvWoFhA3QRWuRyGWpD1BAAAAwKYZP0HXo3CdZvxFQYXrUThmdUhB\",\"dtype\":\"float64\",\"shape\":[54]},\"State Code\":[\"MP\",\"PR\",\"SD\",\"VI\",\"ND\",\"VT\",\"WY\",\"MT\",\"DE\",\"AK\",\"GU\",\"ID\",\"NE\",\"WV\",\"ME\",\"NH\",\"MS\",\"NM\",\"AR\",\"IA\",\"NV\",\"RI\",\"KS\",\"HI\",\"OK\",\"MO\",\"KY\",\"AZ\",\"MN\",\"AL\",\"UT\",\"LA\",\"CT\",\"CO\",\"SC\",\"OR\",\"IN\",\"WI\",\"MD\",\"IL\",\"TN\",\"GA\",\"MI\",\"VA\",\"NY\",\"NJ\",\"MA\",\"OH\",\"NC\",\"WA\",\"FL\",\"PA\",\"CA\",\"TX\"],\"State_Code\":[\"MP\",\"PR\",\"SD\",\"VI\",\"ND\",\"VT\",\"WY\",\"MT\",\"DE\",\"AK\",\"GU\",\"ID\",\"NE\",\"WV\",\"ME\",\"NH\",\"MS\",\"NM\",\"AR\",\"IA\",\"NV\",\"RI\",\"KS\",\"HI\",\"OK\",\"MO\",\"KY\",\"AZ\",\"MN\",\"AL\",\"UT\",\"LA\",\"CT\",\"CO\",\"SC\",\"OR\",\"IN\",\"WI\",\"MD\",\"IL\",\"TN\",\"GA\",\"MI\",\"VA\",\"NY\",\"NJ\",\"MA\",\"OH\",\"NC\",\"WA\",\"FL\",\"PA\",\"CA\",\"TX\"]},\"selected\":{\"id\":\"1495\"},\"selection_policy\":{\"id\":\"1523\"}},\"id\":\"1494\",\"type\":\"ColumnDataSource\"},{\"attributes\":{\"fill_color\":{\"value\":\"#1f77b3\"},\"top\":{\"field\":\"Total_Average_Loan_Amount\"},\"width\":{\"value\":0.8},\"x\":{\"field\":\"State_Code\"}},\"id\":\"1464\",\"type\":\"VBar\"},{\"attributes\":{\"align\":null,\"below\":[{\"id\":\"1435\"}],\"center\":[{\"id\":\"1437\"},{\"id\":\"1441\"}],\"left\":[{\"id\":\"1438\"}],\"margin\":null,\"min_border_bottom\":10,\"min_border_left\":10,\"min_border_right\":10,\"min_border_top\":10,\"plot_height\":300,\"plot_width\":700,\"renderers\":[{\"id\":\"1467\"},{\"id\":\"1483\"},{\"id\":\"1500\"}],\"right\":[{\"id\":\"1475\"}],\"sizing_mode\":\"fixed\",\"title\":{\"id\":\"1427\"},\"toolbar\":{\"id\":\"1448\"},\"x_range\":{\"id\":\"1421\"},\"x_scale\":{\"id\":\"1431\"},\"y_range\":{\"id\":\"1422\"},\"y_scale\":{\"id\":\"1433\"}},\"id\":\"1426\",\"subtype\":\"Figure\",\"type\":\"Plot\"},{\"attributes\":{\"data_source\":{\"id\":\"1494\"},\"glyph\":{\"id\":\"1497\"},\"hover_glyph\":null,\"muted_glyph\":{\"id\":\"1499\"},\"nonselection_glyph\":{\"id\":\"1498\"},\"selection_glyph\":null,\"view\":{\"id\":\"1501\"}},\"id\":\"1500\",\"type\":\"GlyphRenderer\"},{\"attributes\":{\"line_color\":\"#1f77b3\",\"line_width\":2,\"x\":{\"field\":\"State Code\"},\"y\":{\"field\":\"2015 - 2016\"}},\"id\":\"1480\",\"type\":\"Line\"},{\"attributes\":{},\"id\":\"1431\",\"type\":\"CategoricalScale\"},{\"attributes\":{},\"id\":\"1478\",\"type\":\"Selection\"},{\"attributes\":{\"text\":\"\",\"text_color\":{\"value\":\"black\"},\"text_font_size\":{\"value\":\"12pt\"}},\"id\":\"1427\",\"type\":\"Title\"},{\"attributes\":{\"data_source\":{\"id\":\"1477\"},\"glyph\":{\"id\":\"1480\"},\"hover_glyph\":null,\"muted_glyph\":{\"id\":\"1482\"},\"nonselection_glyph\":{\"id\":\"1481\"},\"selection_glyph\":null,\"view\":{\"id\":\"1484\"}},\"id\":\"1483\",\"type\":\"GlyphRenderer\"},{\"attributes\":{\"data\":{\"State_Code\":[\"MP\",\"PR\",\"ND\",\"SD\",\"VI\",\"WY\",\"VT\",\"MT\",\"DE\",\"AK\",\"GU\",\"MS\",\"WV\",\"ID\",\"ME\",\"NM\",\"NE\",\"NH\",\"AR\",\"IA\",\"KS\",\"HI\",\"RI\",\"OK\",\"NV\",\"AL\",\"LA\",\"KY\",\"SC\",\"CT\",\"MO\",\"CO\",\"AZ\",\"UT\",\"OR\",\"TN\",\"IN\",\"WI\",\"MD\",\"MN\",\"VA\",\"IL\",\"NY\",\"GA\",\"MA\",\"MI\",\"NC\",\"NJ\",\"WA\",\"OH\",\"FL\",\"PA\",\"TX\",\"CA\"],\"Total_Average_Loan_Amount\":{\"__ndarray__\":\"AAAAAAAd5UAAAAAAwFTsQB+F61Hs6PJArkfhelhS9UAAAAAAUEz3QAAAAAAwJPlA7FG4HmFD+UA9CtejDLn5QFK4HoX7dABB7FG4HlsqAkEAAAAAaEMGQa5H4Xr2bQdBAAAAAAi+CEGamZmZNUkJQRSuR+FaWAlBwvUoXLdjC0HD9Shc8eQLQcL1KFw/PQ5BSOF6FLEQEEEfhetRDdwSQRSuR+E0thNBrkfhem+WFEGQwvUoPlcVQWZmZmby+RVB7FG4HoasF0HrUbgeuo0aQeF6FK5i2BxBexSuR6tbHUEzMzMzaUggQR+F61HQZiBBmZmZGceBIUH2KFwP7PkhQRWuR+GvPCJBkML1KOZQIkG4HoVrQdYiQfYoXI9MiSRBwvUoXOn3JEEAAAAAUF8lQShcj0JNKyhBw/Uo3BUSKUFI4XqUXjQpQVS4HgX9tylB4noULhp5MEHC9SjcrLUwQSlcj8J1EzFBXI/CtTRDMUGamZnZk9ExQRSuR6EWtzJBkML1KE+jM0GjcD3K+6E1QfYoXE887TdBXI/CdS94OUFPuB5FM4xDQc7MzOzKZ0VB\",\"dtype\":\"float64\",\"shape\":[54]}},\"selected\":{\"id\":\"1462\"},\"selection_policy\":{\"id\":\"1491\"}},\"id\":\"1461\",\"type\":\"ColumnDataSource\"},{\"attributes\":{\"end\":3526420.084,\"reset_end\":3526420.084,\"reset_start\":0.0,\"tags\":[[[\"Total Average Loan Amount\",\"Total Average Loan Amount\",null]]]},\"id\":\"1422\",\"type\":\"Range1d\"},{\"attributes\":{\"line_alpha\":0.2,\"line_color\":\"#1f77b3\",\"line_width\":2,\"x\":{\"field\":\"State Code\"},\"y\":{\"field\":\"2015 - 2016\"}},\"id\":\"1482\",\"type\":\"Line\"},{\"attributes\":{\"callback\":null,\"renderers\":[{\"id\":\"1483\"}],\"tags\":[\"hv_created\"],\"tooltips\":[[\"State Code\",\"@{State_Code}\"],[\"2015 - 2016\",\"@{A_2015_hyphen_minus_2016}\"]]},\"id\":\"1424\",\"type\":\"HoverTool\"},{\"attributes\":{\"margin\":[5,5,5,5],\"name\":\"HSpacer02076\",\"sizing_mode\":\"stretch_width\"},\"id\":\"1420\",\"type\":\"Spacer\"},{\"attributes\":{},\"id\":\"1433\",\"type\":\"LinearScale\"},{\"attributes\":{\"line_color\":\"#ff7e0e\",\"line_width\":2,\"x\":{\"field\":\"State Code\"},\"y\":{\"field\":\"2010 - 2014\"}},\"id\":\"1497\",\"type\":\"Line\"},{\"attributes\":{},\"id\":\"1442\",\"type\":\"SaveTool\"},{\"attributes\":{},\"id\":\"1446\",\"type\":\"ResetTool\"},{\"attributes\":{},\"id\":\"1523\",\"type\":\"UnionRenderers\"},{\"attributes\":{\"axis_label\":\"State Code\",\"bounds\":\"auto\",\"formatter\":{\"id\":\"1458\"},\"major_label_orientation\":\"horizontal\",\"ticker\":{\"id\":\"1436\"}},\"id\":\"1435\",\"type\":\"CategoricalAxis\"},{\"attributes\":{\"line_alpha\":0.1,\"line_color\":\"#ff7e0e\",\"line_width\":2,\"x\":{\"field\":\"State Code\"},\"y\":{\"field\":\"2010 - 2014\"}},\"id\":\"1498\",\"type\":\"Line\"},{\"attributes\":{},\"id\":\"1491\",\"type\":\"UnionRenderers\"},{\"attributes\":{},\"id\":\"1495\",\"type\":\"Selection\"},{\"attributes\":{\"overlay\":{\"id\":\"1447\"}},\"id\":\"1445\",\"type\":\"BoxZoomTool\"},{\"attributes\":{\"axis\":{\"id\":\"1435\"},\"grid_line_color\":null,\"ticker\":null},\"id\":\"1437\",\"type\":\"Grid\"},{\"attributes\":{\"label\":{\"value\":\"2010 - 2014\"},\"renderers\":[{\"id\":\"1500\"}]},\"id\":\"1512\",\"type\":\"LegendItem\"},{\"attributes\":{\"source\":{\"id\":\"1477\"}},\"id\":\"1484\",\"type\":\"CDSView\"},{\"attributes\":{},\"id\":\"1436\",\"type\":\"CategoricalTicker\"},{\"attributes\":{},\"id\":\"1460\",\"type\":\"BasicTickFormatter\"},{\"attributes\":{\"axis_label\":\"\",\"bounds\":\"auto\",\"formatter\":{\"id\":\"1460\"},\"major_label_orientation\":\"horizontal\",\"ticker\":{\"id\":\"1439\"}},\"id\":\"1438\",\"type\":\"LinearAxis\"},{\"attributes\":{\"factors\":[\"MP\",\"PR\",\"ND\",\"SD\",\"VI\",\"WY\",\"VT\",\"MT\",\"DE\",\"AK\",\"GU\",\"MS\",\"WV\",\"ID\",\"ME\",\"NM\",\"NE\",\"NH\",\"AR\",\"IA\",\"KS\",\"HI\",\"RI\",\"OK\",\"NV\",\"AL\",\"LA\",\"KY\",\"SC\",\"CT\",\"MO\",\"CO\",\"AZ\",\"UT\",\"OR\",\"TN\",\"IN\",\"WI\",\"MD\",\"MN\",\"VA\",\"IL\",\"NY\",\"GA\",\"MA\",\"MI\",\"NC\",\"NJ\",\"WA\",\"OH\",\"FL\",\"PA\",\"TX\",\"CA\"],\"tags\":[[[\"State Code\",\"State Code\",null]]]},\"id\":\"1421\",\"type\":\"FactorRange\"},{\"attributes\":{\"label\":{\"value\":\"2015 - 2016\"},\"renderers\":[{\"id\":\"1483\"}]},\"id\":\"1493\",\"type\":\"LegendItem\"}],\"root_ids\":[\"1419\"]},\"title\":\"Bokeh Application\",\"version\":\"2.0.2\"}};\n",
       "  var render_items = [{\"docid\":\"a142f99b-be1a-4d4d-a721-c64c98cbd478\",\"root_ids\":[\"1419\"],\"roots\":{\"1419\":\"bb257fcc-7778-46e2-bc57-a99b9a3e1e17\"}}];\n",
       "  root.Bokeh.embed.embed_items_notebook(docs_json, render_items);\n",
       "  }\n",
       "if (root.Bokeh !== undefined) {\n",
       "    embed_document(root);\n",
       "  } else {\n",
       "    var attempts = 0;\n",
       "    var timer = setInterval(function(root) {\n",
       "      if (root.Bokeh !== undefined) {\n",
       "        clearInterval(timer);\n",
       "        embed_document(root);\n",
       "      } else if (document.readyState == \"complete\") {\n",
       "        attempts++;\n",
       "        if (attempts > 100) {\n",
       "          clearInterval(timer);\n",
       "          console.log(\"Bokeh: ERROR: Unable to run BokehJS code because BokehJS library is missing\");\n",
       "        }\n",
       "      }\n",
       "    }, 10, root)\n",
       "  }\n",
       "})(window);</script>"
      ],
      "text/plain": [
       ":Overlay\n",
       "   .Bars.A_2019_Total_Average_Amount :Bars   [State Code]   (Total Average Loan Amount)\n",
       "   .Curve.A_2015_hyphen_minus_2016   :Curve   [State Code]   (2015 - 2016)\n",
       "   .Curve.A_2010_hyphen_minus_2014   :Curve   [State Code]   (2010 - 2014)"
      ]
     },
     "execution_count": 5,
     "metadata": {
      "application/vnd.holoviews_exec.v0+json": {
       "id": "1419"
      }
     },
     "output_type": "execute_result"
    }
   ],
   "source": [
    "# Use opts function to customize title and width\n",
    "(plot_state_avgs * plot_2015_2016 * plot_2010_2014)"
   ]
  },
  {
   "cell_type": "code",
   "execution_count": null,
   "metadata": {},
   "outputs": [],
   "source": []
  },
  {
   "cell_type": "markdown",
   "metadata": {},
   "source": [
    "### Use the bgcolor option to change background color"
   ]
  },
  {
   "cell_type": "code",
   "execution_count": null,
   "metadata": {},
   "outputs": [],
   "source": [
    "# Use bgcolor option to change plot background\n"
   ]
  },
  {
   "cell_type": "markdown",
   "metadata": {},
   "source": [
    "### Use the hover_line_color option to change data point color when hovering"
   ]
  },
  {
   "cell_type": "code",
   "execution_count": null,
   "metadata": {},
   "outputs": [],
   "source": [
    "# Add color changing hover effect wit hover_line_color option\n"
   ]
  },
  {
   "cell_type": "markdown",
   "metadata": {},
   "source": [
    "### Use the line_color option to change line color or bar outline color"
   ]
  },
  {
   "cell_type": "code",
   "execution_count": null,
   "metadata": {},
   "outputs": [],
   "source": [
    "# Customize bar chart with bar outline color\n"
   ]
  },
  {
   "cell_type": "markdown",
   "metadata": {},
   "source": [
    "### Change color of line chart to green"
   ]
  },
  {
   "cell_type": "code",
   "execution_count": null,
   "metadata": {},
   "outputs": [],
   "source": [
    "# Customize line chart line color using line_color option\n"
   ]
  }
 ],
 "metadata": {
  "kernel_info": {
   "name": "python3"
  },
  "kernelspec": {
   "display_name": "dev",
   "language": "python",
   "name": "dev"
  },
  "language_info": {
   "codemirror_mode": {
    "name": "ipython",
    "version": 3
   },
   "file_extension": ".py",
   "mimetype": "text/x-python",
   "name": "python",
   "nbconvert_exporter": "python",
   "pygments_lexer": "ipython3",
   "version": "3.9.13"
  },
  "nteract": {
   "version": "0.12.3"
  }
 },
 "nbformat": 4,
 "nbformat_minor": 4
}
