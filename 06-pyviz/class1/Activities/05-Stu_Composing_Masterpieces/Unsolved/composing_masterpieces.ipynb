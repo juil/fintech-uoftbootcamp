{
 "cells": [
  {
   "cell_type": "markdown",
   "metadata": {},
   "source": [
    "# Composing Masterpieces\n",
    "\n",
    "In your role as a data analyst for a video streaming service, you have been asked by your manager to compare and contrast the subscriber data for various international regions over the last several years. \n",
    "\n",
    "Use your knowledge of compose and overlay plots to create visualizations to gather the data requested by your manager. "
   ]
  },
  {
   "cell_type": "code",
   "execution_count": null,
   "metadata": {},
   "outputs": [],
   "source": [
    "# Import the required libraries and dependencies\n",
    "import pandas as pd\n",
    "import hvplot.pandas\n",
    "from pathlib import Path"
   ]
  },
  {
   "cell_type": "markdown",
   "metadata": {},
   "source": [
    "## Step 1: Prepare the Subscriber Numbers DataFrame"
   ]
  },
  {
   "cell_type": "code",
   "execution_count": null,
   "metadata": {},
   "outputs": [],
   "source": [
    "# Read subscriber_numbers.csv file into a Pandas DataFrame\n",
    "subscribers_df = # YOUR CODE HERE\n",
    "\n",
    "# Review the DataFrame\n",
    "# YOUR CODE HERE\n"
   ]
  },
  {
   "cell_type": "markdown",
   "metadata": {},
   "source": [
    "## Step 2: Using both a compose plot and and overlay plot, compare the subscriber numbers for each region for the periods \"Q1 - 2018\", \"Q1 - 2019\", and \"Q1 - 2020\"."
   ]
  },
  {
   "cell_type": "code",
   "execution_count": null,
   "metadata": {},
   "outputs": [],
   "source": [
    "# Create a DataFrame that slices the subscriber data for Q1 - 2018.\n",
    "q1_2018 = # YOUR CODE HERE\n",
    "\n",
    "# Set the index of the DataFrame to Area\n",
    "q1_2018 = # YOUR CODE HERE\n",
    "\n",
    "# Create a bar chart of the Q1 - 2018 data\n",
    "q1_2018_plot = # YOUR CODE HERE\n",
    "\n",
    "# Show the bar chart\n",
    "q1_2018_plot"
   ]
  },
  {
   "cell_type": "code",
   "execution_count": null,
   "metadata": {},
   "outputs": [],
   "source": [
    "# Create a DataFrame that slices the subscriber data for Q1 - 2019.\n",
    "q1_2019 = # YOUR CODE HERE\n",
    "\n",
    "# Set the index of the DataFrame to Area\n",
    "q1_2019 = # YOUR CODE HERE\n",
    "\n",
    "# Create a bar chart of the Q1 - 2019 data\n",
    "q1_2019_plot = # YOUR CODE HERE\n",
    "\n",
    "# Show the bar chart\n",
    "q1_2019_plot"
   ]
  },
  {
   "cell_type": "code",
   "execution_count": null,
   "metadata": {},
   "outputs": [],
   "source": [
    "# Create a DataFrame that slices the subscriber data for Q1 - 2020.\n",
    "q1_2020 = # YOUR CODE HERE\n",
    "\n",
    "# Set the index of the DataFrame to Area\n",
    "q1_2020 = # YOUR CODE HERE\n",
    "\n",
    "# Create a bar chart of the Q1 - 2020 data\n",
    "q1_2020_plot = # YOUR CODE HERE\n",
    "\n",
    "# Show the bar chart\n",
    "q1_2020_plot"
   ]
  },
  {
   "cell_type": "markdown",
   "metadata": {},
   "source": [
    "## Create a compose plot to visualize the Q1 data"
   ]
  },
  {
   "cell_type": "code",
   "execution_count": null,
   "metadata": {},
   "outputs": [],
   "source": [
    "# Create a compose plot to visualize the Q1 data side-by-side\n",
    "# YOUR CODE HERE\n"
   ]
  },
  {
   "cell_type": "markdown",
   "metadata": {},
   "source": [
    "## Create an overlay plot for the Q1 data\n",
    "\n",
    "> Hint: Does the order of the plots change the visualization?"
   ]
  },
  {
   "cell_type": "code",
   "execution_count": null,
   "metadata": {},
   "outputs": [],
   "source": [
    "# Create an overlay plot to visualize the Q1 data\n",
    "# YOUR CODE HERE\n"
   ]
  },
  {
   "cell_type": "markdown",
   "metadata": {},
   "source": [
    "**Question:** How does the rate of growth compare across each region over the time periods being analyzed?\n",
    "\n",
    "**Answer:** # YOUR ANSWER HERE"
   ]
  },
  {
   "cell_type": "markdown",
   "metadata": {},
   "source": [
    "## Step 3: Using both a compose plot and and overlay plot, combare the time series trends in subscriber numbers for the two largest regions detailed in the dataset, the \"United States and Canada\" region and the \"Europe, Middle East and Africa\" region."
   ]
  },
  {
   "cell_type": "code",
   "execution_count": null,
   "metadata": {},
   "outputs": [],
   "source": [
    "# Create a DataFrame that slices the subscriber data for the United States and Canada\n",
    "us_canada_subscribers = # YOUR CODE HERE\n",
    "\n",
    "# Set the index of the DataFrame to Years\n",
    "us_canada_subscribers = # YOUR CODE HERE\n",
    "\n",
    "# Create a line plot of the US and Canada data\n",
    "us_canada_plot = # YOUR CODE HERE\n",
    "\n",
    "# Show the plot\n",
    "us_canada_plot"
   ]
  },
  {
   "cell_type": "code",
   "execution_count": null,
   "metadata": {},
   "outputs": [],
   "source": [
    "# Create a DataFrame that slices the subscriber data for the Europe, Middle East and Africa area\n",
    "emea_subscribers = # YOUR CODE HERE\n",
    "\n",
    "# Set the index of the DataFrame to Years\n",
    "emea_subscribers = # YOUR CODE HERE\n",
    "\n",
    "# Create a line plot of the Europe, Middle East and Africa data\n",
    "emea_plot = # YOUR CODE HERE\n",
    "\n",
    "# Show the plot\n",
    "emea_plot"
   ]
  },
  {
   "cell_type": "markdown",
   "metadata": {},
   "source": [
    "## Create a compose plot to visualize the subscriber time series data for the two regions"
   ]
  },
  {
   "cell_type": "code",
   "execution_count": null,
   "metadata": {},
   "outputs": [],
   "source": [
    "# Create a compose plot to visualize the subscriber time series data for the two regions\n",
    "# YOUR CODE HERE"
   ]
  },
  {
   "cell_type": "markdown",
   "metadata": {},
   "source": [
    "## Create an overlay plot for the subcriber time series data"
   ]
  },
  {
   "cell_type": "code",
   "execution_count": null,
   "metadata": {},
   "outputs": [],
   "source": [
    "# Create an overlay plot to visualize the subscriber time series data for the two regions\n",
    "# YOUR CODE HERE"
   ]
  },
  {
   "cell_type": "markdown",
   "metadata": {},
   "source": [
    "**Question:** How does the rate of growth over the time series compare across the two regions?\n",
    "\n",
    "**Answer:** # YOUR ANSWER HERE  "
   ]
  },
  {
   "cell_type": "markdown",
   "metadata": {},
   "source": [
    "## Step 4: Answer the following question:"
   ]
  },
  {
   "cell_type": "markdown",
   "metadata": {},
   "source": [
    "**Question:** Given the information in these visualizations, toward what region would you recommend that advertising dollars be focused?\n",
    "\n",
    "**Answer:** # YOUR ANSWER HERE"
   ]
  },
  {
   "cell_type": "code",
   "execution_count": null,
   "metadata": {},
   "outputs": [],
   "source": []
  }
 ],
 "metadata": {
  "kernel_info": {
   "name": "python3"
  },
  "kernelspec": {
   "display_name": "Python 3",
   "language": "python",
   "name": "python3"
  },
  "language_info": {
   "codemirror_mode": {
    "name": "ipython",
    "version": 3
   },
   "file_extension": ".py",
   "mimetype": "text/x-python",
   "name": "python",
   "nbconvert_exporter": "python",
   "pygments_lexer": "ipython3",
   "version": "3.7.10"
  },
  "nteract": {
   "version": "0.12.3"
  }
 },
 "nbformat": 4,
 "nbformat_minor": 4
}
