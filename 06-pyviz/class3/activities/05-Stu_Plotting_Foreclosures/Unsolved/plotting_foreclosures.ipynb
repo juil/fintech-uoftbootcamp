{
 "cells": [
  {
   "cell_type": "markdown",
   "metadata": {},
   "source": [
    "# Plotting Foreclosures\n",
    "\n",
    "In this activity, you’ll use GeoViews to visualize and explore real-estate data.\n",
    "\n",
    "Instructions:\n",
    "\n",
    "1. Using the `read_csv` function and the Path module, read `2018_Registered_Foreclosure_Properties.csv` from the `Resources` folder, and create the `la_foreclosures_2018` DataFrame.\n",
    "\n",
    "2. Review the code that creates the `most_foreclosures_df` DataFrame from the `la_foreclosures_2018` DataFrame. The starter file provides this code. Be sure to run this cell as you work through the next steps.\n",
    "\n",
    "    >**Important** The [Pandas `isin` function](https://pandas.pydata.org/docs/reference/api/pandas.DataFrame.isin.html) was used to filter the `la_foreclosures_2018` DataFrame based on a Python list that includes the five lenders with the most foreclosures: Ocwen Loan Servicing, LLC; Wells Fargo Bank NA; JP Morgan Chase NA; and Nationstar Mortgage LLC.\n",
    "\n",
    "3. Use the `points` function to plot the data from the `most_foreclosures_df` DataFrame. Include parameters as follows:\n",
    "\n",
    "    * Use the “Longitude” and “Latitude” columns in the DataFrame as your geospatial data.\n",
    "\n",
    "    * Set `geo` equal to True to enable the GeoViews integration\n",
    "\n",
    "    * Set `color` based on the “Lender” column.\n",
    "\n",
    "    * Set `tiles` to \"OSM\".\n",
    "\n",
    "    * Set `frame_width` to 700.\n",
    "\n",
    "    * Set `frame_height` to 500.\n",
    "\n",
    "    * Create a `title` for the plot.\n",
    "\n",
    "4. Use the `points` function to create a second plot from the `most_foreclosures_df` DataFrame. Keep all the parameters unchanged except as follows:\n",
    "\n",
    "    * Set the `color` parameter to “Property Type”.\n",
    "\n",
    "    * Change the `title` parameter to correspond to the new information that you’re plotting.\n",
    "\n",
    "5. Use the `points` function to create a third plot from the `most_foreclosures_df` DataFrame. Keep all the parameters unchanged except as follows:\n",
    "\n",
    "    * Set the `color` parameter to “Council District”.\n",
    "\n",
    "    * Change the `title` parameter to correspond to the new information that you’re plotting.\n",
    "\n",
    "6. Answer the following questions in the notebook:\n",
    "\n",
    "    * After reviewing the visualizations, what insights can you gain about the foreclosures in Los Angeles in 2018?\n",
    "\n",
    "    * Which lender owns the most foreclosed properties?\n",
    "\n",
    "    * Do the lenders tend to focus on one area or council district in the city, or do they evenly distribute their properties throughout the region?\n",
    "\n",
    "\n",
    "References:\n",
    "\n",
    "[Geographic data in hvPlot](https://hvplot.holoviz.org/user_guide/Geographic_Data.html)\n",
    "\n",
    "[Pandas `isin` function](https://pandas.pydata.org/docs/reference/api/pandas.DataFrame.isin.html) "
   ]
  },
  {
   "cell_type": "code",
   "execution_count": null,
   "metadata": {},
   "outputs": [],
   "source": [
    "# Import the the required libraries and dependencies\n",
    "import pandas as pd\n",
    "import os\n",
    "from pathlib import Path\n",
    "import hvplot.pandas"
   ]
  },
  {
   "cell_type": "markdown",
   "metadata": {},
   "source": [
    "### Step 1: Using the `read_csv` function and the Path module, read \"2018_Registered_Foreclosure_Properties.csv\" from the `Resources` folder, and create the `la_foreclosures_2018` DataFrame."
   ]
  },
  {
   "cell_type": "code",
   "execution_count": null,
   "metadata": {},
   "outputs": [],
   "source": [
    "# Using the read_csv file and Path module, read in the \n",
    "# \"2018_Registered_Foreclosure_Properties.csv\" file and create the DataFrame\n",
    "\n",
    "# YOUR CODE HERE\n",
    "\n",
    "\n",
    "# Review the first and last five rows of the DataFrame\n",
    "display(# YOUR CODE HERE)\n",
    "display(# YOUR CODE HERE)"
   ]
  },
  {
   "cell_type": "markdown",
   "metadata": {},
   "source": [
    "### Step 2: Review the code that creates the `most_foreclosures_df` DataFrame from the `la_foreclosures_2018` DataFrame. The starter file provides this code. Be sure to run this cell as you work through the next steps."
   ]
  },
  {
   "cell_type": "code",
   "execution_count": null,
   "metadata": {},
   "outputs": [],
   "source": [
    "# A list of the lenders that are to be included in the analysis.\n",
    "lenders = [\n",
    "    \"Ocwen Loan Servicing, LLC\",\n",
    "    \"Wells Fargo Bank N.A.\",\n",
    "    \"JP Morgan Chase NA\",\n",
    "    \"Nationstar Mortgage LLC\",\n",
    "]\n",
    "\n",
    "# Using the Python `isin` function, create a subset of the original DataFrame that includes\n",
    "# only the \"Lenders\" that are in the \"lenders\" list.\n",
    "most_foreclosures_df = la_foreclosures_2018[la_foreclosures_2018[\"Lender\"].isin(lenders)]\n",
    "\n",
    "# Review the first five rows of the resulting DataFrame\n",
    "most_foreclosures_df.head()"
   ]
  },
  {
   "cell_type": "markdown",
   "metadata": {},
   "source": [
    "### Step 3: Use the `points` function to plot the data from the `most_foreclosures_df` DataFrame.\n",
    "\n",
    "Include parameters as follows:\n",
    "\n",
    "* Use the “Longitude” and “Latitude” columns in the DataFrame as your geospatial data.\n",
    "\n",
    "* Set `geo` equal to True to enable the GeoViews integration\n",
    "\n",
    "* Set `color` based on the “Lender” column.\n",
    "\n",
    "* Set `tiles` to \"OSM\".\n",
    "\n",
    "* Set `frame_width` to 700.\n",
    "\n",
    "* Set `frame_height` to 500.\n",
    "\n",
    "* Create a `title` for the plot."
   ]
  },
  {
   "cell_type": "code",
   "execution_count": null,
   "metadata": {},
   "outputs": [],
   "source": [
    "# Create the plot based on the most_foreclosures_df DataFrame.\n",
    "# The color parameter should be based on Lender\n",
    "\n",
    "# YOUR CODE HERE"
   ]
  },
  {
   "cell_type": "markdown",
   "metadata": {},
   "source": [
    "### Step 4: Use the `points` function to create a second plot from the `most_foreclosures_df` DataFrame. \n",
    "\n",
    "Keep all the parameters unchanged except as follows:\n",
    "\n",
    "* Set the `color` parameter to “Property Type”.\n",
    "\n",
    "* Change the `title` parameter to correspond to the new information that you’re plotting."
   ]
  },
  {
   "cell_type": "code",
   "execution_count": null,
   "metadata": {},
   "outputs": [],
   "source": [
    "# Create the plot based on the most_foreclosures_df DataFrame.\n",
    "# The color parameter should be based on Property Type\n",
    "\n",
    "# YOUR CODE HERE"
   ]
  },
  {
   "cell_type": "markdown",
   "metadata": {},
   "source": [
    "### Step 5: Use the `points` function to create a third plot from the `most_foreclosures_df` DataFrame. \n",
    "\n",
    "Keep all the parameters unchanged except as follows:\n",
    "\n",
    "* Set the `color` parameter to “Council District”.\n",
    "\n",
    "* Change the `title` parameter to correspond to the new information that you’re plotting."
   ]
  },
  {
   "cell_type": "code",
   "execution_count": null,
   "metadata": {},
   "outputs": [],
   "source": [
    "# Create the plot based on the most_foreclosures_df DataFrame.\n",
    "# The color parameter should be based on Council District\n",
    "\n",
    "# YOUR CODE HERE"
   ]
  },
  {
   "cell_type": "markdown",
   "metadata": {},
   "source": [
    "## Step 6: Answer the following questions: "
   ]
  },
  {
   "cell_type": "markdown",
   "metadata": {},
   "source": [
    "**Questions:** After reviewing the visualizations, what insights can you gain about the foreclosures in Los Angeles in 2018? Which lender owns the most foreclosed properties? Do the lenders tend to focus on one area or council district in the city or are their properties evenly distributed throughout the region?\n",
    "\n",
    "**Answers:** # YOUR ANSWER HERE"
   ]
  },
  {
   "cell_type": "code",
   "execution_count": null,
   "metadata": {},
   "outputs": [],
   "source": []
  }
 ],
 "metadata": {
  "kernelspec": {
   "display_name": "Python 3",
   "language": "python",
   "name": "python3"
  },
  "language_info": {
   "codemirror_mode": {
    "name": "ipython",
    "version": 3
   },
   "file_extension": ".py",
   "mimetype": "text/x-python",
   "name": "python",
   "nbconvert_exporter": "python",
   "pygments_lexer": "ipython3",
   "version": "3.7.7"
  }
 },
 "nbformat": 4,
 "nbformat_minor": 4
}
