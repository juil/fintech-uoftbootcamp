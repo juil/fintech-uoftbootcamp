{
 "cells": [
  {
   "cell_type": "markdown",
   "metadata": {},
   "source": [
    " # No Pane, No Gain"
   ]
  },
  {
   "cell_type": "markdown",
   "metadata": {},
   "source": [
    " Panes are a fundamental component of Panel dashboards. Panel dashboards cannot be created without Panes. Use your knowledge of Panel panes to convert a Plotly plot to a pane object."
   ]
  },
  {
   "cell_type": "code",
   "execution_count": null,
   "metadata": {},
   "outputs": [],
   "source": [
    "import plotly.express as px\n",
    "import pandas as pd\n",
    "import numpy as np\n",
    "import panel as pn\n",
    "from panel.interact import interact\n",
    "from panel import widgets\n",
    "\n",
    "pn.extension(\"plotly\")"
   ]
  },
  {
   "cell_type": "markdown",
   "metadata": {},
   "source": [
    " ## Create Pane using Interact Function"
   ]
  },
  {
   "cell_type": "markdown",
   "metadata": {},
   "source": [
    " ### Prep & Plot the Data"
   ]
  },
  {
   "cell_type": "code",
   "execution_count": null,
   "metadata": {},
   "outputs": [],
   "source": [
    "def create_parallel_categories_plot(number_of_records):\n",
    "    # Create dimensions\n",
    "    metropolitan = [\"New York City\", \"San Francisco\", \"Dallas\"]\n",
    "    housing_type = [\"Apartment\", \"Home\", \"Commercial\"]\n",
    "    seasons = [\"All\", \"Breezy\", \"Dry Heat\"]\n",
    "    prop_size = [\"Large\", \"Medium\", \"Small\"]\n",
    "\n",
    "    # Create DF using dimensions and numpy random generators\n",
    "    df = pd.DataFrame(\n",
    "        {\n",
    "            \"sold\": np.random.randint(999, 10000, number_of_records),\n",
    "            \"year\": np.random.randint(2010, 2019, number_of_records),\n",
    "            \"metropolitan\": np.random.choice(metropolitan, number_of_records),\n",
    "            \"housing_type\": np.random.choice(housing_type, number_of_records),\n",
    "            \"seasons\": np.random.choice(seasons, number_of_records),\n",
    "            \"prop_size\": np.random.choice(prop_size, number_of_records),\n",
    "        }\n",
    "    ).sort_values([\"year\", \"housing_type\", \"metropolitan\", \"prop_size\"])\n",
    "\n",
    "    # Create parallel categories plot\n",
    "    metro_prop_sale = px.parallel_categories(\n",
    "        df,\n",
    "        dimensions=[\"housing_type\", \"metropolitan\", \"prop_size\", \"seasons\"],\n",
    "        color=\"year\",\n",
    "        color_continuous_scale=px.colors.sequential.Inferno,\n",
    "        labels={\n",
    "            \"housing_type\": \"Type of Property\",\n",
    "            \"metropolitan\": \"Metropolitan\",\n",
    "            \"prop_size\": \"Property Size\",\n",
    "            \"seasons\": \"Seasons\",\n",
    "        },\n",
    "        width=1200,\n",
    "    )\n",
    "\n",
    "    return metro_prop_sale"
   ]
  },
  {
   "cell_type": "markdown",
   "metadata": {},
   "source": [
    "### Make a call to `create_parallel_categories_plot` and pass 30 as argument"
   ]
  },
  {
   "cell_type": "code",
   "execution_count": null,
   "metadata": {},
   "outputs": [],
   "source": [
    "# Make call to create_parallel-categories_plot\n"
   ]
  },
  {
   "cell_type": "markdown",
   "metadata": {},
   "source": [
    " ### Create interact widget to dynamically change size of plotted dataset"
   ]
  },
  {
   "cell_type": "code",
   "execution_count": null,
   "metadata": {},
   "outputs": [],
   "source": [
    "# Use interact function to create interaction widget\n"
   ]
  },
  {
   "cell_type": "markdown",
   "metadata": {},
   "source": [
    " ## Create Pane using panel.pane.Plotly function"
   ]
  },
  {
   "cell_type": "markdown",
   "metadata": {},
   "source": [
    " ### Manually convert plot to a pane"
   ]
  },
  {
   "cell_type": "code",
   "execution_count": null,
   "metadata": {},
   "outputs": [],
   "source": [
    "# Use panel.Pane.Plotly function to convert plot to pane\n"
   ]
  },
  {
   "cell_type": "markdown",
   "metadata": {},
   "source": [
    " ### Check pane type"
   ]
  },
  {
   "cell_type": "code",
   "execution_count": null,
   "metadata": {},
   "outputs": [],
   "source": [
    "# Check the pane type using the pprint() function\n"
   ]
  }
 ],
 "metadata": {
  "file_extension": ".py",
  "kernelspec": {
   "display_name": "Python [conda env:pyvizenv25] *",
   "language": "python",
   "name": "conda-env-pyvizenv25-py"
  },
  "language_info": {
   "codemirror_mode": {
    "name": "ipython",
    "version": 3
   },
   "file_extension": ".py",
   "mimetype": "text/x-python",
   "name": "python",
   "nbconvert_exporter": "python",
   "pygments_lexer": "ipython3",
   "version": "3.7.7"
  },
  "mimetype": "text/x-python",
  "name": "python",
  "npconvert_exporter": "python",
  "pygments_lexer": "ipython3",
  "version": 3
 },
 "nbformat": 4,
 "nbformat_minor": 4
}
