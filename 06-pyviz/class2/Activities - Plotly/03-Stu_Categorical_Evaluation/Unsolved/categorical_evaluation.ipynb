{
 "cells": [
  {
   "cell_type": "markdown",
   "metadata": {},
   "source": [
    " # Categorical Assessment"
   ]
  },
  {
   "cell_type": "markdown",
   "metadata": {},
   "source": [
    "Every year, real estate properties are assessed for their value. There are key attributes that are considered when evaluating a property, and these include the condition, total number of rooms, number of bedrooms, bathrooms, etc. Use a parallel categories plot to plot these attributes as dimensions. Use the interactive features of parallel category plots to review how each dimension can affect the other."
   ]
  },
  {
   "cell_type": "code",
   "execution_count": 1,
   "metadata": {},
   "outputs": [],
   "source": [
    "import pandas as pd\n",
    "import plotly.express as px\n",
    "from pathlib import Path"
   ]
  },
  {
   "cell_type": "markdown",
   "metadata": {},
   "source": [
    " ### Prep Data"
   ]
  },
  {
   "cell_type": "code",
   "execution_count": 5,
   "metadata": {},
   "outputs": [
    {
     "data": {
      "text/html": [
       "<div>\n",
       "<style scoped>\n",
       "    .dataframe tbody tr th:only-of-type {\n",
       "        vertical-align: middle;\n",
       "    }\n",
       "\n",
       "    .dataframe tbody tr th {\n",
       "        vertical-align: top;\n",
       "    }\n",
       "\n",
       "    .dataframe thead th {\n",
       "        text-align: right;\n",
       "    }\n",
       "</style>\n",
       "<table border=\"1\" class=\"dataframe\">\n",
       "  <thead>\n",
       "    <tr style=\"text-align: right;\">\n",
       "      <th></th>\n",
       "      <th>LEGAL1</th>\n",
       "      <th>LEGAL3</th>\n",
       "      <th>NEIGHCODE</th>\n",
       "      <th>TAXCODE</th>\n",
       "      <th>TAXDESC</th>\n",
       "      <th>OWNERDESC</th>\n",
       "      <th>CLASS</th>\n",
       "      <th>CLASSDESC</th>\n",
       "      <th>USECODE</th>\n",
       "      <th>USEDESC</th>\n",
       "      <th>...</th>\n",
       "      <th>CONDITION</th>\n",
       "      <th>CONDITIONDESC</th>\n",
       "      <th>TOTALROOMS</th>\n",
       "      <th>BEDROOMS</th>\n",
       "      <th>FULLBATHS</th>\n",
       "      <th>HALFBATHS</th>\n",
       "      <th>HEATINGCOOLING</th>\n",
       "      <th>HEATINGCOOLINGDESC</th>\n",
       "      <th>FIREPLACES</th>\n",
       "      <th>BSMTGARAGE</th>\n",
       "    </tr>\n",
       "    <tr>\n",
       "      <th>LEGAL2</th>\n",
       "      <th></th>\n",
       "      <th></th>\n",
       "      <th></th>\n",
       "      <th></th>\n",
       "      <th></th>\n",
       "      <th></th>\n",
       "      <th></th>\n",
       "      <th></th>\n",
       "      <th></th>\n",
       "      <th></th>\n",
       "      <th></th>\n",
       "      <th></th>\n",
       "      <th></th>\n",
       "      <th></th>\n",
       "      <th></th>\n",
       "      <th></th>\n",
       "      <th></th>\n",
       "      <th></th>\n",
       "      <th></th>\n",
       "      <th></th>\n",
       "      <th></th>\n",
       "    </tr>\n",
       "  </thead>\n",
       "  <tbody>\n",
       "    <tr>\n",
       "      <th>AVE</th>\n",
       "      <td>PARKER GARDENS PLAN 51 LOT 50X210 N MEADOWCROFT</td>\n",
       "      <td>2 STY BRK VEN HSE 610</td>\n",
       "      <td>92602</td>\n",
       "      <td>T</td>\n",
       "      <td>20 - Taxable</td>\n",
       "      <td>REGULAR-ETUX OR ET VIR</td>\n",
       "      <td>R</td>\n",
       "      <td>RESIDENTIAL</td>\n",
       "      <td>10</td>\n",
       "      <td>SINGLE FAMILY</td>\n",
       "      <td>...</td>\n",
       "      <td>3.0</td>\n",
       "      <td>AVERAGE</td>\n",
       "      <td>7.0</td>\n",
       "      <td>3.0</td>\n",
       "      <td>2.0</td>\n",
       "      <td>1.0</td>\n",
       "      <td>2</td>\n",
       "      <td>Central Heat</td>\n",
       "      <td>2.0</td>\n",
       "      <td>0.0</td>\n",
       "    </tr>\n",
       "    <tr>\n",
       "      <th>3 STY M BRK &amp; STONE HSE 431</th>\n",
       "      <td>LOT 21.12XAVG106.50 ATWOOD ST NEAR BATES ST</td>\n",
       "      <td>NaN</td>\n",
       "      <td>10403</td>\n",
       "      <td>T</td>\n",
       "      <td>20 - Taxable</td>\n",
       "      <td>REGULAR</td>\n",
       "      <td>R</td>\n",
       "      <td>RESIDENTIAL</td>\n",
       "      <td>30</td>\n",
       "      <td>THREE FAMILY</td>\n",
       "      <td>...</td>\n",
       "      <td>4.0</td>\n",
       "      <td>FAIR</td>\n",
       "      <td>12.0</td>\n",
       "      <td>6.0</td>\n",
       "      <td>3.0</td>\n",
       "      <td>0.0</td>\n",
       "      <td>B</td>\n",
       "      <td>Central Heat with AC</td>\n",
       "      <td>0.0</td>\n",
       "      <td>0.0</td>\n",
       "    </tr>\n",
       "    <tr>\n",
       "      <th>1 1/2 STY BRK V &amp; FRA HSE &amp; GAR</th>\n",
       "      <td>#132 LOT 50X130 STARK AVE</td>\n",
       "      <td>NaN</td>\n",
       "      <td>91006</td>\n",
       "      <td>T</td>\n",
       "      <td>20 - Taxable</td>\n",
       "      <td>REGULAR-ETUX OR ET VIR</td>\n",
       "      <td>R</td>\n",
       "      <td>RESIDENTIAL</td>\n",
       "      <td>10</td>\n",
       "      <td>SINGLE FAMILY</td>\n",
       "      <td>...</td>\n",
       "      <td>3.0</td>\n",
       "      <td>AVERAGE</td>\n",
       "      <td>7.0</td>\n",
       "      <td>4.0</td>\n",
       "      <td>1.0</td>\n",
       "      <td>0.0</td>\n",
       "      <td>2</td>\n",
       "      <td>Central Heat</td>\n",
       "      <td>1.0</td>\n",
       "      <td>1.0</td>\n",
       "    </tr>\n",
       "    <tr>\n",
       "      <th>67 RR EBEN ST</th>\n",
       "      <td>EBENSHIRE VILLAGE PLAN 165 LOT 50XAVG127.48X50.</td>\n",
       "      <td>2 STY BRK V HSE &amp; INT GAR 1759</td>\n",
       "      <td>13202</td>\n",
       "      <td>T</td>\n",
       "      <td>20 - Taxable</td>\n",
       "      <td>REGULAR</td>\n",
       "      <td>R</td>\n",
       "      <td>RESIDENTIAL</td>\n",
       "      <td>10</td>\n",
       "      <td>SINGLE FAMILY</td>\n",
       "      <td>...</td>\n",
       "      <td>3.0</td>\n",
       "      <td>AVERAGE</td>\n",
       "      <td>6.0</td>\n",
       "      <td>2.0</td>\n",
       "      <td>1.0</td>\n",
       "      <td>0.0</td>\n",
       "      <td>B</td>\n",
       "      <td>Central Heat with AC</td>\n",
       "      <td>0.0</td>\n",
       "      <td>1.0</td>\n",
       "    </tr>\n",
       "    <tr>\n",
       "      <th>2 STY ALUM SDG HSE #1851</th>\n",
       "      <td>LOT 20X100 MIDDLE ST</td>\n",
       "      <td>NaN</td>\n",
       "      <td>85202</td>\n",
       "      <td>T</td>\n",
       "      <td>20 - Taxable</td>\n",
       "      <td>REGULAR</td>\n",
       "      <td>R</td>\n",
       "      <td>RESIDENTIAL</td>\n",
       "      <td>10</td>\n",
       "      <td>SINGLE FAMILY</td>\n",
       "      <td>...</td>\n",
       "      <td>4.0</td>\n",
       "      <td>FAIR</td>\n",
       "      <td>5.0</td>\n",
       "      <td>2.0</td>\n",
       "      <td>1.0</td>\n",
       "      <td>1.0</td>\n",
       "      <td>2</td>\n",
       "      <td>Central Heat</td>\n",
       "      <td>0.0</td>\n",
       "      <td>0.0</td>\n",
       "    </tr>\n",
       "  </tbody>\n",
       "</table>\n",
       "<p>5 rows × 62 columns</p>\n",
       "</div>"
      ],
      "text/plain": [
       "                                                                                          LEGAL1  \\\n",
       "LEGAL2                                                                                             \n",
       " AVE                                             PARKER GARDENS PLAN 51 LOT 50X210 N MEADOWCROFT   \n",
       "3 STY M BRK & STONE HSE 431                          LOT 21.12XAVG106.50 ATWOOD ST NEAR BATES ST   \n",
       "1 1/2 STY BRK V & FRA HSE & GAR                                        #132 LOT 50X130 STARK AVE   \n",
       "67 RR EBEN ST                                    EBENSHIRE VILLAGE PLAN 165 LOT 50XAVG127.48X50.   \n",
       "2 STY ALUM SDG HSE #1851                         LOT 20X100 MIDDLE ST                              \n",
       "\n",
       "                                                                                          LEGAL3  \\\n",
       "LEGAL2                                                                                             \n",
       " AVE                                             2 STY BRK VEN HSE 610                             \n",
       "3 STY M BRK & STONE HSE 431                                                                  NaN   \n",
       "1 1/2 STY BRK V & FRA HSE & GAR                                                              NaN   \n",
       "67 RR EBEN ST                                    2 STY BRK V HSE & INT GAR 1759                    \n",
       "2 STY ALUM SDG HSE #1851                                                                     NaN   \n",
       "\n",
       "                                                NEIGHCODE TAXCODE  \\\n",
       "LEGAL2                                                              \n",
       " AVE                                                92602       T   \n",
       "3 STY M BRK & STONE HSE 431                         10403       T   \n",
       "1 1/2 STY BRK V & FRA HSE & GAR                     91006       T   \n",
       "67 RR EBEN ST                                       13202       T   \n",
       "2 STY ALUM SDG HSE #1851                            85202       T   \n",
       "\n",
       "                                                      TAXDESC  \\\n",
       "LEGAL2                                                          \n",
       " AVE                                             20 - Taxable   \n",
       "3 STY M BRK & STONE HSE 431                      20 - Taxable   \n",
       "1 1/2 STY BRK V & FRA HSE & GAR                  20 - Taxable   \n",
       "67 RR EBEN ST                                    20 - Taxable   \n",
       "2 STY ALUM SDG HSE #1851                         20 - Taxable   \n",
       "\n",
       "                                                              OWNERDESC CLASS  \\\n",
       "LEGAL2                                                                          \n",
       " AVE                                             REGULAR-ETUX OR ET VIR     R   \n",
       "3 STY M BRK & STONE HSE 431                                     REGULAR     R   \n",
       "1 1/2 STY BRK V & FRA HSE & GAR                  REGULAR-ETUX OR ET VIR     R   \n",
       "67 RR EBEN ST                                                   REGULAR     R   \n",
       "2 STY ALUM SDG HSE #1851                                        REGULAR     R   \n",
       "\n",
       "                                                   CLASSDESC  USECODE  \\\n",
       "LEGAL2                                                                  \n",
       " AVE                                             RESIDENTIAL       10   \n",
       "3 STY M BRK & STONE HSE 431                      RESIDENTIAL       30   \n",
       "1 1/2 STY BRK V & FRA HSE & GAR                  RESIDENTIAL       10   \n",
       "67 RR EBEN ST                                    RESIDENTIAL       10   \n",
       "2 STY ALUM SDG HSE #1851                         RESIDENTIAL       10   \n",
       "\n",
       "                                                       USEDESC  ...  \\\n",
       "LEGAL2                                                          ...   \n",
       " AVE                                             SINGLE FAMILY  ...   \n",
       "3 STY M BRK & STONE HSE 431                       THREE FAMILY  ...   \n",
       "1 1/2 STY BRK V & FRA HSE & GAR                  SINGLE FAMILY  ...   \n",
       "67 RR EBEN ST                                    SINGLE FAMILY  ...   \n",
       "2 STY ALUM SDG HSE #1851                         SINGLE FAMILY  ...   \n",
       "\n",
       "                                                 CONDITION CONDITIONDESC  \\\n",
       "LEGAL2                                                                     \n",
       " AVE                                                   3.0       AVERAGE   \n",
       "3 STY M BRK & STONE HSE 431                            4.0          FAIR   \n",
       "1 1/2 STY BRK V & FRA HSE & GAR                        3.0       AVERAGE   \n",
       "67 RR EBEN ST                                          3.0       AVERAGE   \n",
       "2 STY ALUM SDG HSE #1851                               4.0          FAIR   \n",
       "\n",
       "                                                TOTALROOMS BEDROOMS FULLBATHS  \\\n",
       "LEGAL2                                                                          \n",
       " AVE                                                   7.0      3.0       2.0   \n",
       "3 STY M BRK & STONE HSE 431                           12.0      6.0       3.0   \n",
       "1 1/2 STY BRK V & FRA HSE & GAR                        7.0      4.0       1.0   \n",
       "67 RR EBEN ST                                          6.0      2.0       1.0   \n",
       "2 STY ALUM SDG HSE #1851                               5.0      2.0       1.0   \n",
       "\n",
       "                                                HALFBATHS HEATINGCOOLING  \\\n",
       "LEGAL2                                                                     \n",
       " AVE                                                  1.0              2   \n",
       "3 STY M BRK & STONE HSE 431                           0.0              B   \n",
       "1 1/2 STY BRK V & FRA HSE & GAR                       0.0              2   \n",
       "67 RR EBEN ST                                         0.0              B   \n",
       "2 STY ALUM SDG HSE #1851                              1.0              2   \n",
       "\n",
       "                                                   HEATINGCOOLINGDESC  \\\n",
       "LEGAL2                                                                  \n",
       " AVE                                                     Central Heat   \n",
       "3 STY M BRK & STONE HSE 431                      Central Heat with AC   \n",
       "1 1/2 STY BRK V & FRA HSE & GAR                          Central Heat   \n",
       "67 RR EBEN ST                                    Central Heat with AC   \n",
       "2 STY ALUM SDG HSE #1851                                 Central Heat   \n",
       "\n",
       "                                                FIREPLACES BSMTGARAGE  \n",
       "LEGAL2                                                                 \n",
       " AVE                                                   2.0        0.0  \n",
       "3 STY M BRK & STONE HSE 431                            0.0        0.0  \n",
       "1 1/2 STY BRK V & FRA HSE & GAR                        1.0        1.0  \n",
       "67 RR EBEN ST                                          0.0        1.0  \n",
       "2 STY ALUM SDG HSE #1851                               0.0        0.0  \n",
       "\n",
       "[5 rows x 62 columns]"
      ]
     },
     "execution_count": 5,
     "metadata": {},
     "output_type": "execute_result"
    }
   ],
   "source": [
    "# Read in data\n",
    "prop_assessments = pd.read_csv(\n",
    "    Path(\"../Resources/allegheny_property_assessments.csv\"), \n",
    "    index_col=\"LEGAL2\", \n",
    "    low_memory=False\n",
    ").sample(50, replace=True)\n",
    "prop_assessments.head()\n",
    "\n"
   ]
  },
  {
   "cell_type": "markdown",
   "metadata": {},
   "source": [
    " ### Slice Data"
   ]
  },
  {
   "cell_type": "code",
   "execution_count": 9,
   "metadata": {},
   "outputs": [
    {
     "data": {
      "text/html": [
       "<div>\n",
       "<style scoped>\n",
       "    .dataframe tbody tr th:only-of-type {\n",
       "        vertical-align: middle;\n",
       "    }\n",
       "\n",
       "    .dataframe tbody tr th {\n",
       "        vertical-align: top;\n",
       "    }\n",
       "\n",
       "    .dataframe thead th {\n",
       "        text-align: right;\n",
       "    }\n",
       "</style>\n",
       "<table border=\"1\" class=\"dataframe\">\n",
       "  <thead>\n",
       "    <tr style=\"text-align: right;\">\n",
       "      <th></th>\n",
       "      <th>LOCALTOTAL</th>\n",
       "      <th>USEDESC</th>\n",
       "      <th>TOTALROOMS</th>\n",
       "      <th>BEDROOMS</th>\n",
       "      <th>FULLBATHS</th>\n",
       "    </tr>\n",
       "    <tr>\n",
       "      <th>LEGAL2</th>\n",
       "      <th></th>\n",
       "      <th></th>\n",
       "      <th></th>\n",
       "      <th></th>\n",
       "      <th></th>\n",
       "    </tr>\n",
       "  </thead>\n",
       "  <tbody>\n",
       "    <tr>\n",
       "      <th>AVE</th>\n",
       "      <td>252100</td>\n",
       "      <td>SINGLE FAMILY</td>\n",
       "      <td>7.0</td>\n",
       "      <td>3.0</td>\n",
       "      <td>2.0</td>\n",
       "    </tr>\n",
       "    <tr>\n",
       "      <th>3 STY M BRK &amp; STONE HSE 431</th>\n",
       "      <td>87000</td>\n",
       "      <td>THREE FAMILY</td>\n",
       "      <td>12.0</td>\n",
       "      <td>6.0</td>\n",
       "      <td>3.0</td>\n",
       "    </tr>\n",
       "    <tr>\n",
       "      <th>1 1/2 STY BRK V &amp; FRA HSE &amp; GAR</th>\n",
       "      <td>76700</td>\n",
       "      <td>SINGLE FAMILY</td>\n",
       "      <td>7.0</td>\n",
       "      <td>4.0</td>\n",
       "      <td>1.0</td>\n",
       "    </tr>\n",
       "    <tr>\n",
       "      <th>67 RR EBEN ST</th>\n",
       "      <td>77800</td>\n",
       "      <td>SINGLE FAMILY</td>\n",
       "      <td>6.0</td>\n",
       "      <td>2.0</td>\n",
       "      <td>1.0</td>\n",
       "    </tr>\n",
       "    <tr>\n",
       "      <th>2 STY ALUM SDG HSE #1851</th>\n",
       "      <td>29000</td>\n",
       "      <td>SINGLE FAMILY</td>\n",
       "      <td>5.0</td>\n",
       "      <td>2.0</td>\n",
       "      <td>1.0</td>\n",
       "    </tr>\n",
       "  </tbody>\n",
       "</table>\n",
       "</div>"
      ],
      "text/plain": [
       "                                                 LOCALTOTAL        USEDESC  \\\n",
       "LEGAL2                                                                       \n",
       " AVE                                                 252100  SINGLE FAMILY   \n",
       "3 STY M BRK & STONE HSE 431                           87000   THREE FAMILY   \n",
       "1 1/2 STY BRK V & FRA HSE & GAR                       76700  SINGLE FAMILY   \n",
       "67 RR EBEN ST                                         77800  SINGLE FAMILY   \n",
       "2 STY ALUM SDG HSE #1851                              29000  SINGLE FAMILY   \n",
       "\n",
       "                                                 TOTALROOMS  BEDROOMS  \\\n",
       "LEGAL2                                                                  \n",
       " AVE                                                    7.0       3.0   \n",
       "3 STY M BRK & STONE HSE 431                            12.0       6.0   \n",
       "1 1/2 STY BRK V & FRA HSE & GAR                         7.0       4.0   \n",
       "67 RR EBEN ST                                           6.0       2.0   \n",
       "2 STY ALUM SDG HSE #1851                                5.0       2.0   \n",
       "\n",
       "                                                 FULLBATHS  \n",
       "LEGAL2                                                      \n",
       " AVE                                                   2.0  \n",
       "3 STY M BRK & STONE HSE 431                            3.0  \n",
       "1 1/2 STY BRK V & FRA HSE & GAR                        1.0  \n",
       "67 RR EBEN ST                                          1.0  \n",
       "2 STY ALUM SDG HSE #1851                               1.0  "
      ]
     },
     "execution_count": 9,
     "metadata": {},
     "output_type": "execute_result"
    }
   ],
   "source": [
    "# Select list of columns\n",
    "data = prop_assessments[\n",
    "    ['LOCALTOTAL', 'USEDESC', 'TOTALROOMS', 'BEDROOMS', 'FULLBATHS']]\n",
    "data.head()\n"
   ]
  },
  {
   "cell_type": "markdown",
   "metadata": {},
   "source": [
    " ### Plot Data"
   ]
  },
  {
   "cell_type": "code",
   "execution_count": 13,
   "metadata": {},
   "outputs": [
    {
     "name": "stderr",
     "output_type": "stream",
     "text": [
      "/Users/juil/opt/anaconda3/envs/dev/lib/python3.9/site-packages/plotly/express/_core.py:279: FutureWarning:\n",
      "\n",
      "iteritems is deprecated and will be removed in a future version. Use .items instead.\n",
      "\n"
     ]
    },
    {
     "data": {
      "application/vnd.plotly.v1+json": {
       "config": {
        "plotlyServerURL": "https://plot.ly"
       },
       "data": [
        {
         "dimensions": [
          {
           "label": "USEDESC",
           "values": [
            "SINGLE FAMILY",
            "THREE FAMILY",
            "SINGLE FAMILY",
            "SINGLE FAMILY",
            "SINGLE FAMILY",
            "SINGLE FAMILY",
            "SINGLE FAMILY",
            "THREE FAMILY",
            "SINGLE FAMILY",
            "TOWNHOUSE",
            "SINGLE FAMILY",
            "SINGLE FAMILY",
            "CONDOMINIUM",
            "ROWHOUSE",
            "SINGLE FAMILY",
            "SINGLE FAMILY",
            "SINGLE FAMILY",
            "SINGLE FAMILY",
            "SINGLE FAMILY",
            "SINGLE FAMILY",
            "SINGLE FAMILY",
            "SINGLE FAMILY",
            "SINGLE FAMILY",
            "SINGLE FAMILY",
            "SINGLE FAMILY",
            "SINGLE FAMILY",
            "SINGLE FAMILY",
            "SINGLE FAMILY",
            "TWO FAMILY",
            "TWO FAMILY",
            "CONDOMINIUM",
            "SINGLE FAMILY",
            "SINGLE FAMILY",
            "SINGLE FAMILY",
            "SINGLE FAMILY",
            "ROWHOUSE",
            "SINGLE FAMILY",
            "SINGLE FAMILY",
            "SINGLE FAMILY",
            "SINGLE FAMILY",
            "SINGLE FAMILY",
            "SINGLE FAMILY",
            "SINGLE FAMILY",
            "SINGLE FAMILY",
            "SINGLE FAMILY",
            "SINGLE FAMILY",
            "TWO FAMILY",
            "TOWNHOUSE",
            "SINGLE FAMILY",
            "SINGLE FAMILY"
           ]
          },
          {
           "label": "TOTALROOMS",
           "values": [
            7,
            12,
            7,
            6,
            5,
            6,
            5,
            10,
            7,
            7,
            5,
            5,
            3,
            4,
            6,
            7,
            6,
            9,
            6,
            6,
            6,
            6,
            7,
            8,
            8,
            5,
            6,
            6,
            10,
            10,
            5,
            5,
            8,
            5,
            8,
            4,
            6,
            6,
            7,
            6,
            5,
            7,
            6,
            6,
            6,
            7,
            8,
            5,
            8,
            5
           ]
          },
          {
           "label": "BEDROOMS",
           "values": [
            3,
            6,
            4,
            2,
            2,
            3,
            3,
            6,
            4,
            3,
            3,
            3,
            1,
            2,
            3,
            3,
            3,
            4,
            3,
            2,
            3,
            2,
            3,
            3,
            4,
            2,
            3,
            3,
            4,
            4,
            3,
            2,
            3,
            2,
            4,
            2,
            3,
            3,
            3,
            2,
            2,
            3,
            2,
            3,
            3,
            4,
            2,
            3,
            4,
            2
           ]
          },
          {
           "label": "FULLBATHS",
           "values": [
            2,
            3,
            1,
            1,
            1,
            1,
            1,
            3,
            3,
            1,
            1,
            1,
            1,
            1,
            1,
            2,
            2,
            2,
            1,
            1,
            1,
            1,
            1,
            1,
            2,
            1,
            1,
            1,
            2,
            2,
            2,
            1,
            2,
            1,
            2,
            1,
            1,
            1,
            1,
            1,
            1,
            2,
            1,
            1,
            1,
            2,
            2,
            1,
            3,
            1
           ]
          }
         ],
         "domain": {
          "x": [
           0,
           1
          ],
          "y": [
           0,
           1
          ]
         },
         "line": {
          "color": [
           252100,
           87000,
           76700,
           77800,
           29000,
           63500,
           112500,
           23600,
           112700,
           121300,
           69200,
           104400,
           50400,
           11400,
           48800,
           192900,
           261500,
           194400,
           61100,
           138200,
           81300,
           48400,
           146800,
           37700,
           233000,
           146700,
           65700,
           141200,
           48300,
           132700,
           100800,
           57100,
           249200,
           44400,
           181900,
           24100,
           83000,
           67500,
           144800,
           28000,
           38200,
           161500,
           109200,
           93800,
           50000,
           255900,
           12400,
           136500,
           215000,
           103300
          ],
          "coloraxis": "coloraxis"
         },
         "name": "",
         "type": "parcats"
        }
       ],
       "layout": {
        "autosize": true,
        "coloraxis": {
         "colorbar": {
          "title": {
           "text": "LOCALTOTAL"
          }
         },
         "colorscale": [
          [
           0,
           "#0d0887"
          ],
          [
           0.1111111111111111,
           "#46039f"
          ],
          [
           0.2222222222222222,
           "#7201a8"
          ],
          [
           0.3333333333333333,
           "#9c179e"
          ],
          [
           0.4444444444444444,
           "#bd3786"
          ],
          [
           0.5555555555555556,
           "#d8576b"
          ],
          [
           0.6666666666666666,
           "#ed7953"
          ],
          [
           0.7777777777777778,
           "#fb9f3a"
          ],
          [
           0.8888888888888888,
           "#fdca26"
          ],
          [
           1,
           "#f0f921"
          ]
         ]
        },
        "legend": {
         "tracegroupgap": 0
        },
        "margin": {
         "t": 60
        },
        "template": {
         "data": {
          "bar": [
           {
            "error_x": {
             "color": "#2a3f5f"
            },
            "error_y": {
             "color": "#2a3f5f"
            },
            "marker": {
             "line": {
              "color": "#E5ECF6",
              "width": 0.5
             },
             "pattern": {
              "fillmode": "overlay",
              "size": 10,
              "solidity": 0.2
             }
            },
            "type": "bar"
           }
          ],
          "barpolar": [
           {
            "marker": {
             "line": {
              "color": "#E5ECF6",
              "width": 0.5
             },
             "pattern": {
              "fillmode": "overlay",
              "size": 10,
              "solidity": 0.2
             }
            },
            "type": "barpolar"
           }
          ],
          "carpet": [
           {
            "aaxis": {
             "endlinecolor": "#2a3f5f",
             "gridcolor": "white",
             "linecolor": "white",
             "minorgridcolor": "white",
             "startlinecolor": "#2a3f5f"
            },
            "baxis": {
             "endlinecolor": "#2a3f5f",
             "gridcolor": "white",
             "linecolor": "white",
             "minorgridcolor": "white",
             "startlinecolor": "#2a3f5f"
            },
            "type": "carpet"
           }
          ],
          "choropleth": [
           {
            "colorbar": {
             "outlinewidth": 0,
             "ticks": ""
            },
            "type": "choropleth"
           }
          ],
          "contour": [
           {
            "colorbar": {
             "outlinewidth": 0,
             "ticks": ""
            },
            "colorscale": [
             [
              0,
              "#0d0887"
             ],
             [
              0.1111111111111111,
              "#46039f"
             ],
             [
              0.2222222222222222,
              "#7201a8"
             ],
             [
              0.3333333333333333,
              "#9c179e"
             ],
             [
              0.4444444444444444,
              "#bd3786"
             ],
             [
              0.5555555555555556,
              "#d8576b"
             ],
             [
              0.6666666666666666,
              "#ed7953"
             ],
             [
              0.7777777777777778,
              "#fb9f3a"
             ],
             [
              0.8888888888888888,
              "#fdca26"
             ],
             [
              1,
              "#f0f921"
             ]
            ],
            "type": "contour"
           }
          ],
          "contourcarpet": [
           {
            "colorbar": {
             "outlinewidth": 0,
             "ticks": ""
            },
            "type": "contourcarpet"
           }
          ],
          "heatmap": [
           {
            "colorbar": {
             "outlinewidth": 0,
             "ticks": ""
            },
            "colorscale": [
             [
              0,
              "#0d0887"
             ],
             [
              0.1111111111111111,
              "#46039f"
             ],
             [
              0.2222222222222222,
              "#7201a8"
             ],
             [
              0.3333333333333333,
              "#9c179e"
             ],
             [
              0.4444444444444444,
              "#bd3786"
             ],
             [
              0.5555555555555556,
              "#d8576b"
             ],
             [
              0.6666666666666666,
              "#ed7953"
             ],
             [
              0.7777777777777778,
              "#fb9f3a"
             ],
             [
              0.8888888888888888,
              "#fdca26"
             ],
             [
              1,
              "#f0f921"
             ]
            ],
            "type": "heatmap"
           }
          ],
          "heatmapgl": [
           {
            "colorbar": {
             "outlinewidth": 0,
             "ticks": ""
            },
            "colorscale": [
             [
              0,
              "#0d0887"
             ],
             [
              0.1111111111111111,
              "#46039f"
             ],
             [
              0.2222222222222222,
              "#7201a8"
             ],
             [
              0.3333333333333333,
              "#9c179e"
             ],
             [
              0.4444444444444444,
              "#bd3786"
             ],
             [
              0.5555555555555556,
              "#d8576b"
             ],
             [
              0.6666666666666666,
              "#ed7953"
             ],
             [
              0.7777777777777778,
              "#fb9f3a"
             ],
             [
              0.8888888888888888,
              "#fdca26"
             ],
             [
              1,
              "#f0f921"
             ]
            ],
            "type": "heatmapgl"
           }
          ],
          "histogram": [
           {
            "marker": {
             "pattern": {
              "fillmode": "overlay",
              "size": 10,
              "solidity": 0.2
             }
            },
            "type": "histogram"
           }
          ],
          "histogram2d": [
           {
            "colorbar": {
             "outlinewidth": 0,
             "ticks": ""
            },
            "colorscale": [
             [
              0,
              "#0d0887"
             ],
             [
              0.1111111111111111,
              "#46039f"
             ],
             [
              0.2222222222222222,
              "#7201a8"
             ],
             [
              0.3333333333333333,
              "#9c179e"
             ],
             [
              0.4444444444444444,
              "#bd3786"
             ],
             [
              0.5555555555555556,
              "#d8576b"
             ],
             [
              0.6666666666666666,
              "#ed7953"
             ],
             [
              0.7777777777777778,
              "#fb9f3a"
             ],
             [
              0.8888888888888888,
              "#fdca26"
             ],
             [
              1,
              "#f0f921"
             ]
            ],
            "type": "histogram2d"
           }
          ],
          "histogram2dcontour": [
           {
            "colorbar": {
             "outlinewidth": 0,
             "ticks": ""
            },
            "colorscale": [
             [
              0,
              "#0d0887"
             ],
             [
              0.1111111111111111,
              "#46039f"
             ],
             [
              0.2222222222222222,
              "#7201a8"
             ],
             [
              0.3333333333333333,
              "#9c179e"
             ],
             [
              0.4444444444444444,
              "#bd3786"
             ],
             [
              0.5555555555555556,
              "#d8576b"
             ],
             [
              0.6666666666666666,
              "#ed7953"
             ],
             [
              0.7777777777777778,
              "#fb9f3a"
             ],
             [
              0.8888888888888888,
              "#fdca26"
             ],
             [
              1,
              "#f0f921"
             ]
            ],
            "type": "histogram2dcontour"
           }
          ],
          "mesh3d": [
           {
            "colorbar": {
             "outlinewidth": 0,
             "ticks": ""
            },
            "type": "mesh3d"
           }
          ],
          "parcoords": [
           {
            "line": {
             "colorbar": {
              "outlinewidth": 0,
              "ticks": ""
             }
            },
            "type": "parcoords"
           }
          ],
          "pie": [
           {
            "automargin": true,
            "type": "pie"
           }
          ],
          "scatter": [
           {
            "fillpattern": {
             "fillmode": "overlay",
             "size": 10,
             "solidity": 0.2
            },
            "type": "scatter"
           }
          ],
          "scatter3d": [
           {
            "line": {
             "colorbar": {
              "outlinewidth": 0,
              "ticks": ""
             }
            },
            "marker": {
             "colorbar": {
              "outlinewidth": 0,
              "ticks": ""
             }
            },
            "type": "scatter3d"
           }
          ],
          "scattercarpet": [
           {
            "marker": {
             "colorbar": {
              "outlinewidth": 0,
              "ticks": ""
             }
            },
            "type": "scattercarpet"
           }
          ],
          "scattergeo": [
           {
            "marker": {
             "colorbar": {
              "outlinewidth": 0,
              "ticks": ""
             }
            },
            "type": "scattergeo"
           }
          ],
          "scattergl": [
           {
            "marker": {
             "colorbar": {
              "outlinewidth": 0,
              "ticks": ""
             }
            },
            "type": "scattergl"
           }
          ],
          "scattermapbox": [
           {
            "marker": {
             "colorbar": {
              "outlinewidth": 0,
              "ticks": ""
             }
            },
            "type": "scattermapbox"
           }
          ],
          "scatterpolar": [
           {
            "marker": {
             "colorbar": {
              "outlinewidth": 0,
              "ticks": ""
             }
            },
            "type": "scatterpolar"
           }
          ],
          "scatterpolargl": [
           {
            "marker": {
             "colorbar": {
              "outlinewidth": 0,
              "ticks": ""
             }
            },
            "type": "scatterpolargl"
           }
          ],
          "scatterternary": [
           {
            "marker": {
             "colorbar": {
              "outlinewidth": 0,
              "ticks": ""
             }
            },
            "type": "scatterternary"
           }
          ],
          "surface": [
           {
            "colorbar": {
             "outlinewidth": 0,
             "ticks": ""
            },
            "colorscale": [
             [
              0,
              "#0d0887"
             ],
             [
              0.1111111111111111,
              "#46039f"
             ],
             [
              0.2222222222222222,
              "#7201a8"
             ],
             [
              0.3333333333333333,
              "#9c179e"
             ],
             [
              0.4444444444444444,
              "#bd3786"
             ],
             [
              0.5555555555555556,
              "#d8576b"
             ],
             [
              0.6666666666666666,
              "#ed7953"
             ],
             [
              0.7777777777777778,
              "#fb9f3a"
             ],
             [
              0.8888888888888888,
              "#fdca26"
             ],
             [
              1,
              "#f0f921"
             ]
            ],
            "type": "surface"
           }
          ],
          "table": [
           {
            "cells": {
             "fill": {
              "color": "#EBF0F8"
             },
             "line": {
              "color": "white"
             }
            },
            "header": {
             "fill": {
              "color": "#C8D4E3"
             },
             "line": {
              "color": "white"
             }
            },
            "type": "table"
           }
          ]
         },
         "layout": {
          "annotationdefaults": {
           "arrowcolor": "#2a3f5f",
           "arrowhead": 0,
           "arrowwidth": 1
          },
          "autotypenumbers": "strict",
          "coloraxis": {
           "colorbar": {
            "outlinewidth": 0,
            "ticks": ""
           }
          },
          "colorscale": {
           "diverging": [
            [
             0,
             "#8e0152"
            ],
            [
             0.1,
             "#c51b7d"
            ],
            [
             0.2,
             "#de77ae"
            ],
            [
             0.3,
             "#f1b6da"
            ],
            [
             0.4,
             "#fde0ef"
            ],
            [
             0.5,
             "#f7f7f7"
            ],
            [
             0.6,
             "#e6f5d0"
            ],
            [
             0.7,
             "#b8e186"
            ],
            [
             0.8,
             "#7fbc41"
            ],
            [
             0.9,
             "#4d9221"
            ],
            [
             1,
             "#276419"
            ]
           ],
           "sequential": [
            [
             0,
             "#0d0887"
            ],
            [
             0.1111111111111111,
             "#46039f"
            ],
            [
             0.2222222222222222,
             "#7201a8"
            ],
            [
             0.3333333333333333,
             "#9c179e"
            ],
            [
             0.4444444444444444,
             "#bd3786"
            ],
            [
             0.5555555555555556,
             "#d8576b"
            ],
            [
             0.6666666666666666,
             "#ed7953"
            ],
            [
             0.7777777777777778,
             "#fb9f3a"
            ],
            [
             0.8888888888888888,
             "#fdca26"
            ],
            [
             1,
             "#f0f921"
            ]
           ],
           "sequentialminus": [
            [
             0,
             "#0d0887"
            ],
            [
             0.1111111111111111,
             "#46039f"
            ],
            [
             0.2222222222222222,
             "#7201a8"
            ],
            [
             0.3333333333333333,
             "#9c179e"
            ],
            [
             0.4444444444444444,
             "#bd3786"
            ],
            [
             0.5555555555555556,
             "#d8576b"
            ],
            [
             0.6666666666666666,
             "#ed7953"
            ],
            [
             0.7777777777777778,
             "#fb9f3a"
            ],
            [
             0.8888888888888888,
             "#fdca26"
            ],
            [
             1,
             "#f0f921"
            ]
           ]
          },
          "colorway": [
           "#636efa",
           "#EF553B",
           "#00cc96",
           "#ab63fa",
           "#FFA15A",
           "#19d3f3",
           "#FF6692",
           "#B6E880",
           "#FF97FF",
           "#FECB52"
          ],
          "font": {
           "color": "#2a3f5f"
          },
          "geo": {
           "bgcolor": "white",
           "lakecolor": "white",
           "landcolor": "#E5ECF6",
           "showlakes": true,
           "showland": true,
           "subunitcolor": "white"
          },
          "hoverlabel": {
           "align": "left"
          },
          "hovermode": "closest",
          "mapbox": {
           "style": "light"
          },
          "paper_bgcolor": "white",
          "plot_bgcolor": "#E5ECF6",
          "polar": {
           "angularaxis": {
            "gridcolor": "white",
            "linecolor": "white",
            "ticks": ""
           },
           "bgcolor": "#E5ECF6",
           "radialaxis": {
            "gridcolor": "white",
            "linecolor": "white",
            "ticks": ""
           }
          },
          "scene": {
           "xaxis": {
            "backgroundcolor": "#E5ECF6",
            "gridcolor": "white",
            "gridwidth": 2,
            "linecolor": "white",
            "showbackground": true,
            "ticks": "",
            "zerolinecolor": "white"
           },
           "yaxis": {
            "backgroundcolor": "#E5ECF6",
            "gridcolor": "white",
            "gridwidth": 2,
            "linecolor": "white",
            "showbackground": true,
            "ticks": "",
            "zerolinecolor": "white"
           },
           "zaxis": {
            "backgroundcolor": "#E5ECF6",
            "gridcolor": "white",
            "gridwidth": 2,
            "linecolor": "white",
            "showbackground": true,
            "ticks": "",
            "zerolinecolor": "white"
           }
          },
          "shapedefaults": {
           "line": {
            "color": "#2a3f5f"
           }
          },
          "ternary": {
           "aaxis": {
            "gridcolor": "white",
            "linecolor": "white",
            "ticks": ""
           },
           "baxis": {
            "gridcolor": "white",
            "linecolor": "white",
            "ticks": ""
           },
           "bgcolor": "#E5ECF6",
           "caxis": {
            "gridcolor": "white",
            "linecolor": "white",
            "ticks": ""
           }
          },
          "title": {
           "x": 0.05
          },
          "xaxis": {
           "automargin": true,
           "gridcolor": "white",
           "linecolor": "white",
           "ticks": "",
           "title": {
            "standoff": 15
           },
           "zerolinecolor": "white",
           "zerolinewidth": 2
          },
          "yaxis": {
           "automargin": true,
           "gridcolor": "white",
           "linecolor": "white",
           "ticks": "",
           "title": {
            "standoff": 15
           },
           "zerolinecolor": "white",
           "zerolinewidth": 2
          }
         }
        }
       }
      },
      "image/png": "[encoded data removed]",
      "text/html": [
       "<div>                            <div id=\"e4e8633b-dda2-41a8-8f64-03fc7a547417\" class=\"plotly-graph-div\" style=\"height:525px; width:100%;\"></div>            <script type=\"text/javascript\">                require([\"plotly\"], function(Plotly) {                    window.PLOTLYENV=window.PLOTLYENV || {};                                    if (document.getElementById(\"e4e8633b-dda2-41a8-8f64-03fc7a547417\")) {                    Plotly.newPlot(                        \"e4e8633b-dda2-41a8-8f64-03fc7a547417\",                        [{\"dimensions\":[{\"label\":\"USEDESC\",\"values\":[\"SINGLE FAMILY\",\"THREE FAMILY\",\"SINGLE FAMILY\",\"SINGLE FAMILY\",\"SINGLE FAMILY\",\"SINGLE FAMILY\",\"SINGLE FAMILY\",\"THREE FAMILY\",\"SINGLE FAMILY\",\"TOWNHOUSE\",\"SINGLE FAMILY\",\"SINGLE FAMILY\",\"CONDOMINIUM\",\"ROWHOUSE\",\"SINGLE FAMILY\",\"SINGLE FAMILY\",\"SINGLE FAMILY\",\"SINGLE FAMILY\",\"SINGLE FAMILY\",\"SINGLE FAMILY\",\"SINGLE FAMILY\",\"SINGLE FAMILY\",\"SINGLE FAMILY\",\"SINGLE FAMILY\",\"SINGLE FAMILY\",\"SINGLE FAMILY\",\"SINGLE FAMILY\",\"SINGLE FAMILY\",\"TWO FAMILY\",\"TWO FAMILY\",\"CONDOMINIUM\",\"SINGLE FAMILY\",\"SINGLE FAMILY\",\"SINGLE FAMILY\",\"SINGLE FAMILY\",\"ROWHOUSE\",\"SINGLE FAMILY\",\"SINGLE FAMILY\",\"SINGLE FAMILY\",\"SINGLE FAMILY\",\"SINGLE FAMILY\",\"SINGLE FAMILY\",\"SINGLE FAMILY\",\"SINGLE FAMILY\",\"SINGLE FAMILY\",\"SINGLE FAMILY\",\"TWO FAMILY\",\"TOWNHOUSE\",\"SINGLE FAMILY\",\"SINGLE FAMILY\"]},{\"label\":\"TOTALROOMS\",\"values\":[7.0,12.0,7.0,6.0,5.0,6.0,5.0,10.0,7.0,7.0,5.0,5.0,3.0,4.0,6.0,7.0,6.0,9.0,6.0,6.0,6.0,6.0,7.0,8.0,8.0,5.0,6.0,6.0,10.0,10.0,5.0,5.0,8.0,5.0,8.0,4.0,6.0,6.0,7.0,6.0,5.0,7.0,6.0,6.0,6.0,7.0,8.0,5.0,8.0,5.0]},{\"label\":\"BEDROOMS\",\"values\":[3.0,6.0,4.0,2.0,2.0,3.0,3.0,6.0,4.0,3.0,3.0,3.0,1.0,2.0,3.0,3.0,3.0,4.0,3.0,2.0,3.0,2.0,3.0,3.0,4.0,2.0,3.0,3.0,4.0,4.0,3.0,2.0,3.0,2.0,4.0,2.0,3.0,3.0,3.0,2.0,2.0,3.0,2.0,3.0,3.0,4.0,2.0,3.0,4.0,2.0]},{\"label\":\"FULLBATHS\",\"values\":[2.0,3.0,1.0,1.0,1.0,1.0,1.0,3.0,3.0,1.0,1.0,1.0,1.0,1.0,1.0,2.0,2.0,2.0,1.0,1.0,1.0,1.0,1.0,1.0,2.0,1.0,1.0,1.0,2.0,2.0,2.0,1.0,2.0,1.0,2.0,1.0,1.0,1.0,1.0,1.0,1.0,2.0,1.0,1.0,1.0,2.0,2.0,1.0,3.0,1.0]}],\"domain\":{\"x\":[0.0,1.0],\"y\":[0.0,1.0]},\"line\":{\"color\":[252100,87000,76700,77800,29000,63500,112500,23600,112700,121300,69200,104400,50400,11400,48800,192900,261500,194400,61100,138200,81300,48400,146800,37700,233000,146700,65700,141200,48300,132700,100800,57100,249200,44400,181900,24100,83000,67500,144800,28000,38200,161500,109200,93800,50000,255900,12400,136500,215000,103300],\"coloraxis\":\"coloraxis\"},\"name\":\"\",\"type\":\"parcats\"}],                        {\"template\":{\"data\":{\"histogram2dcontour\":[{\"type\":\"histogram2dcontour\",\"colorbar\":{\"outlinewidth\":0,\"ticks\":\"\"},\"colorscale\":[[0.0,\"#0d0887\"],[0.1111111111111111,\"#46039f\"],[0.2222222222222222,\"#7201a8\"],[0.3333333333333333,\"#9c179e\"],[0.4444444444444444,\"#bd3786\"],[0.5555555555555556,\"#d8576b\"],[0.6666666666666666,\"#ed7953\"],[0.7777777777777778,\"#fb9f3a\"],[0.8888888888888888,\"#fdca26\"],[1.0,\"#f0f921\"]]}],\"choropleth\":[{\"type\":\"choropleth\",\"colorbar\":{\"outlinewidth\":0,\"ticks\":\"\"}}],\"histogram2d\":[{\"type\":\"histogram2d\",\"colorbar\":{\"outlinewidth\":0,\"ticks\":\"\"},\"colorscale\":[[0.0,\"#0d0887\"],[0.1111111111111111,\"#46039f\"],[0.2222222222222222,\"#7201a8\"],[0.3333333333333333,\"#9c179e\"],[0.4444444444444444,\"#bd3786\"],[0.5555555555555556,\"#d8576b\"],[0.6666666666666666,\"#ed7953\"],[0.7777777777777778,\"#fb9f3a\"],[0.8888888888888888,\"#fdca26\"],[1.0,\"#f0f921\"]]}],\"heatmap\":[{\"type\":\"heatmap\",\"colorbar\":{\"outlinewidth\":0,\"ticks\":\"\"},\"colorscale\":[[0.0,\"#0d0887\"],[0.1111111111111111,\"#46039f\"],[0.2222222222222222,\"#7201a8\"],[0.3333333333333333,\"#9c179e\"],[0.4444444444444444,\"#bd3786\"],[0.5555555555555556,\"#d8576b\"],[0.6666666666666666,\"#ed7953\"],[0.7777777777777778,\"#fb9f3a\"],[0.8888888888888888,\"#fdca26\"],[1.0,\"#f0f921\"]]}],\"heatmapgl\":[{\"type\":\"heatmapgl\",\"colorbar\":{\"outlinewidth\":0,\"ticks\":\"\"},\"colorscale\":[[0.0,\"#0d0887\"],[0.1111111111111111,\"#46039f\"],[0.2222222222222222,\"#7201a8\"],[0.3333333333333333,\"#9c179e\"],[0.4444444444444444,\"#bd3786\"],[0.5555555555555556,\"#d8576b\"],[0.6666666666666666,\"#ed7953\"],[0.7777777777777778,\"#fb9f3a\"],[0.8888888888888888,\"#fdca26\"],[1.0,\"#f0f921\"]]}],\"contourcarpet\":[{\"type\":\"contourcarpet\",\"colorbar\":{\"outlinewidth\":0,\"ticks\":\"\"}}],\"contour\":[{\"type\":\"contour\",\"colorbar\":{\"outlinewidth\":0,\"ticks\":\"\"},\"colorscale\":[[0.0,\"#0d0887\"],[0.1111111111111111,\"#46039f\"],[0.2222222222222222,\"#7201a8\"],[0.3333333333333333,\"#9c179e\"],[0.4444444444444444,\"#bd3786\"],[0.5555555555555556,\"#d8576b\"],[0.6666666666666666,\"#ed7953\"],[0.7777777777777778,\"#fb9f3a\"],[0.8888888888888888,\"#fdca26\"],[1.0,\"#f0f921\"]]}],\"surface\":[{\"type\":\"surface\",\"colorbar\":{\"outlinewidth\":0,\"ticks\":\"\"},\"colorscale\":[[0.0,\"#0d0887\"],[0.1111111111111111,\"#46039f\"],[0.2222222222222222,\"#7201a8\"],[0.3333333333333333,\"#9c179e\"],[0.4444444444444444,\"#bd3786\"],[0.5555555555555556,\"#d8576b\"],[0.6666666666666666,\"#ed7953\"],[0.7777777777777778,\"#fb9f3a\"],[0.8888888888888888,\"#fdca26\"],[1.0,\"#f0f921\"]]}],\"mesh3d\":[{\"type\":\"mesh3d\",\"colorbar\":{\"outlinewidth\":0,\"ticks\":\"\"}}],\"scatter\":[{\"fillpattern\":{\"fillmode\":\"overlay\",\"size\":10,\"solidity\":0.2},\"type\":\"scatter\"}],\"parcoords\":[{\"type\":\"parcoords\",\"line\":{\"colorbar\":{\"outlinewidth\":0,\"ticks\":\"\"}}}],\"scatterpolargl\":[{\"type\":\"scatterpolargl\",\"marker\":{\"colorbar\":{\"outlinewidth\":0,\"ticks\":\"\"}}}],\"bar\":[{\"error_x\":{\"color\":\"#2a3f5f\"},\"error_y\":{\"color\":\"#2a3f5f\"},\"marker\":{\"line\":{\"color\":\"#E5ECF6\",\"width\":0.5},\"pattern\":{\"fillmode\":\"overlay\",\"size\":10,\"solidity\":0.2}},\"type\":\"bar\"}],\"scattergeo\":[{\"type\":\"scattergeo\",\"marker\":{\"colorbar\":{\"outlinewidth\":0,\"ticks\":\"\"}}}],\"scatterpolar\":[{\"type\":\"scatterpolar\",\"marker\":{\"colorbar\":{\"outlinewidth\":0,\"ticks\":\"\"}}}],\"histogram\":[{\"marker\":{\"pattern\":{\"fillmode\":\"overlay\",\"size\":10,\"solidity\":0.2}},\"type\":\"histogram\"}],\"scattergl\":[{\"type\":\"scattergl\",\"marker\":{\"colorbar\":{\"outlinewidth\":0,\"ticks\":\"\"}}}],\"scatter3d\":[{\"type\":\"scatter3d\",\"line\":{\"colorbar\":{\"outlinewidth\":0,\"ticks\":\"\"}},\"marker\":{\"colorbar\":{\"outlinewidth\":0,\"ticks\":\"\"}}}],\"scattermapbox\":[{\"type\":\"scattermapbox\",\"marker\":{\"colorbar\":{\"outlinewidth\":0,\"ticks\":\"\"}}}],\"scatterternary\":[{\"type\":\"scatterternary\",\"marker\":{\"colorbar\":{\"outlinewidth\":0,\"ticks\":\"\"}}}],\"scattercarpet\":[{\"type\":\"scattercarpet\",\"marker\":{\"colorbar\":{\"outlinewidth\":0,\"ticks\":\"\"}}}],\"carpet\":[{\"aaxis\":{\"endlinecolor\":\"#2a3f5f\",\"gridcolor\":\"white\",\"linecolor\":\"white\",\"minorgridcolor\":\"white\",\"startlinecolor\":\"#2a3f5f\"},\"baxis\":{\"endlinecolor\":\"#2a3f5f\",\"gridcolor\":\"white\",\"linecolor\":\"white\",\"minorgridcolor\":\"white\",\"startlinecolor\":\"#2a3f5f\"},\"type\":\"carpet\"}],\"table\":[{\"cells\":{\"fill\":{\"color\":\"#EBF0F8\"},\"line\":{\"color\":\"white\"}},\"header\":{\"fill\":{\"color\":\"#C8D4E3\"},\"line\":{\"color\":\"white\"}},\"type\":\"table\"}],\"barpolar\":[{\"marker\":{\"line\":{\"color\":\"#E5ECF6\",\"width\":0.5},\"pattern\":{\"fillmode\":\"overlay\",\"size\":10,\"solidity\":0.2}},\"type\":\"barpolar\"}],\"pie\":[{\"automargin\":true,\"type\":\"pie\"}]},\"layout\":{\"autotypenumbers\":\"strict\",\"colorway\":[\"#636efa\",\"#EF553B\",\"#00cc96\",\"#ab63fa\",\"#FFA15A\",\"#19d3f3\",\"#FF6692\",\"#B6E880\",\"#FF97FF\",\"#FECB52\"],\"font\":{\"color\":\"#2a3f5f\"},\"hovermode\":\"closest\",\"hoverlabel\":{\"align\":\"left\"},\"paper_bgcolor\":\"white\",\"plot_bgcolor\":\"#E5ECF6\",\"polar\":{\"bgcolor\":\"#E5ECF6\",\"angularaxis\":{\"gridcolor\":\"white\",\"linecolor\":\"white\",\"ticks\":\"\"},\"radialaxis\":{\"gridcolor\":\"white\",\"linecolor\":\"white\",\"ticks\":\"\"}},\"ternary\":{\"bgcolor\":\"#E5ECF6\",\"aaxis\":{\"gridcolor\":\"white\",\"linecolor\":\"white\",\"ticks\":\"\"},\"baxis\":{\"gridcolor\":\"white\",\"linecolor\":\"white\",\"ticks\":\"\"},\"caxis\":{\"gridcolor\":\"white\",\"linecolor\":\"white\",\"ticks\":\"\"}},\"coloraxis\":{\"colorbar\":{\"outlinewidth\":0,\"ticks\":\"\"}},\"colorscale\":{\"sequential\":[[0.0,\"#0d0887\"],[0.1111111111111111,\"#46039f\"],[0.2222222222222222,\"#7201a8\"],[0.3333333333333333,\"#9c179e\"],[0.4444444444444444,\"#bd3786\"],[0.5555555555555556,\"#d8576b\"],[0.6666666666666666,\"#ed7953\"],[0.7777777777777778,\"#fb9f3a\"],[0.8888888888888888,\"#fdca26\"],[1.0,\"#f0f921\"]],\"sequentialminus\":[[0.0,\"#0d0887\"],[0.1111111111111111,\"#46039f\"],[0.2222222222222222,\"#7201a8\"],[0.3333333333333333,\"#9c179e\"],[0.4444444444444444,\"#bd3786\"],[0.5555555555555556,\"#d8576b\"],[0.6666666666666666,\"#ed7953\"],[0.7777777777777778,\"#fb9f3a\"],[0.8888888888888888,\"#fdca26\"],[1.0,\"#f0f921\"]],\"diverging\":[[0,\"#8e0152\"],[0.1,\"#c51b7d\"],[0.2,\"#de77ae\"],[0.3,\"#f1b6da\"],[0.4,\"#fde0ef\"],[0.5,\"#f7f7f7\"],[0.6,\"#e6f5d0\"],[0.7,\"#b8e186\"],[0.8,\"#7fbc41\"],[0.9,\"#4d9221\"],[1,\"#276419\"]]},\"xaxis\":{\"gridcolor\":\"white\",\"linecolor\":\"white\",\"ticks\":\"\",\"title\":{\"standoff\":15},\"zerolinecolor\":\"white\",\"automargin\":true,\"zerolinewidth\":2},\"yaxis\":{\"gridcolor\":\"white\",\"linecolor\":\"white\",\"ticks\":\"\",\"title\":{\"standoff\":15},\"zerolinecolor\":\"white\",\"automargin\":true,\"zerolinewidth\":2},\"scene\":{\"xaxis\":{\"backgroundcolor\":\"#E5ECF6\",\"gridcolor\":\"white\",\"linecolor\":\"white\",\"showbackground\":true,\"ticks\":\"\",\"zerolinecolor\":\"white\",\"gridwidth\":2},\"yaxis\":{\"backgroundcolor\":\"#E5ECF6\",\"gridcolor\":\"white\",\"linecolor\":\"white\",\"showbackground\":true,\"ticks\":\"\",\"zerolinecolor\":\"white\",\"gridwidth\":2},\"zaxis\":{\"backgroundcolor\":\"#E5ECF6\",\"gridcolor\":\"white\",\"linecolor\":\"white\",\"showbackground\":true,\"ticks\":\"\",\"zerolinecolor\":\"white\",\"gridwidth\":2}},\"shapedefaults\":{\"line\":{\"color\":\"#2a3f5f\"}},\"annotationdefaults\":{\"arrowcolor\":\"#2a3f5f\",\"arrowhead\":0,\"arrowwidth\":1},\"geo\":{\"bgcolor\":\"white\",\"landcolor\":\"#E5ECF6\",\"subunitcolor\":\"white\",\"showland\":true,\"showlakes\":true,\"lakecolor\":\"white\"},\"title\":{\"x\":0.05},\"mapbox\":{\"style\":\"light\"}}},\"coloraxis\":{\"colorbar\":{\"title\":{\"text\":\"LOCALTOTAL\"}},\"colorscale\":[[0.0,\"#0d0887\"],[0.1111111111111111,\"#46039f\"],[0.2222222222222222,\"#7201a8\"],[0.3333333333333333,\"#9c179e\"],[0.4444444444444444,\"#bd3786\"],[0.5555555555555556,\"#d8576b\"],[0.6666666666666666,\"#ed7953\"],[0.7777777777777778,\"#fb9f3a\"],[0.8888888888888888,\"#fdca26\"],[1.0,\"#f0f921\"]]},\"legend\":{\"tracegroupgap\":0},\"margin\":{\"t\":60}},                        {\"responsive\": true}                    ).then(function(){\n",
       "                            \n",
       "var gd = document.getElementById('e4e8633b-dda2-41a8-8f64-03fc7a547417');\n",
       "var x = new MutationObserver(function (mutations, observer) {{\n",
       "        var display = window.getComputedStyle(gd).display;\n",
       "        if (!display || display === 'none') {{\n",
       "            console.log([gd, 'removed!']);\n",
       "            Plotly.purge(gd);\n",
       "            observer.disconnect();\n",
       "        }}\n",
       "}});\n",
       "\n",
       "// Listen for the removal of the full notebook cells\n",
       "var notebookContainer = gd.closest('#notebook-container');\n",
       "if (notebookContainer) {{\n",
       "    x.observe(notebookContainer, {childList: true});\n",
       "}}\n",
       "\n",
       "// Listen for the clearing of the current output cell\n",
       "var outputEl = gd.closest('.output');\n",
       "if (outputEl) {{\n",
       "    x.observe(outputEl, {childList: true});\n",
       "}}\n",
       "\n",
       "                        })                };                });            </script>        </div>"
      ]
     },
     "metadata": {},
     "output_type": "display_data"
    }
   ],
   "source": [
    "# Plot data\n",
    "px.parallel_categories(\n",
    "    data,\n",
    "    dimensions=['USEDESC', 'TOTALROOMS', 'BEDROOMS', 'FULLBATHS'],\n",
    "    color='LOCALTOTAL'\n",
    ")"
   ]
  }
 ],
 "metadata": {
  "file_extension": ".py",
  "kernelspec": {
   "display_name": "Python 3 (ipykernel)",
   "language": "python",
   "name": "python3"
  },
  "language_info": {
   "codemirror_mode": {
    "name": "ipython",
    "version": 3
   },
   "file_extension": ".py",
   "mimetype": "text/x-python",
   "name": "python",
   "nbconvert_exporter": "python",
   "pygments_lexer": "ipython3",
   "version": "3.9.15"
  },
  "mimetype": "text/x-python",
  "name": "python",
  "npconvert_exporter": "python",
  "pygments_lexer": "ipython3",
  "version": 3
 },
 "nbformat": 4,
 "nbformat_minor": 4
}
