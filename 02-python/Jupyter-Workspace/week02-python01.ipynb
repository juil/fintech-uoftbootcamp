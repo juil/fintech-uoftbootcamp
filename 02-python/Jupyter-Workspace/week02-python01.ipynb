{
 "cells": [
  {
   "cell_type": "code",
   "execution_count": 11,
   "id": "07ddc859-d981-42cb-a3d4-7763a3b7c4e8",
   "metadata": {},
   "outputs": [
    {
     "name": "stdout",
     "output_type": "stream",
     "text": [
      "Hello World!\n"
     ]
    }
   ],
   "source": [
    "print(\"Hello World!\")"
   ]
  },
  {
   "cell_type": "code",
   "execution_count": 12,
   "id": "7942ec60-c923-4ab2-a044-b2c9870e9948",
   "metadata": {},
   "outputs": [
    {
     "name": "stdout",
     "output_type": "stream",
     "text": [
      "Hello World from a new cell\n"
     ]
    }
   ],
   "source": [
    "print(\"Hello World from a new cell\")"
   ]
  },
  {
   "cell_type": "code",
   "execution_count": 13,
   "id": "c929391d-5776-46a1-ad11-0e192bca4054",
   "metadata": {},
   "outputs": [],
   "source": [
    "age = 42"
   ]
  },
  {
   "cell_type": "code",
   "execution_count": 14,
   "id": "d365ccc7-6b91-4198-9ef2-c5ea04ad010a",
   "metadata": {},
   "outputs": [
    {
     "data": {
      "text/plain": [
       "'I am 42'"
      ]
     },
     "execution_count": 14,
     "metadata": {},
     "output_type": "execute_result"
    }
   ],
   "source": [
    "f\"I am {age}\""
   ]
  },
  {
   "cell_type": "code",
   "execution_count": 22,
   "id": "376ff0c5-69b0-43cb-aad4-c31573abc10c",
   "metadata": {},
   "outputs": [
    {
     "data": {
      "text/plain": [
       "'Total = $48.02'"
      ]
     },
     "execution_count": 22,
     "metadata": {},
     "output_type": "execute_result"
    }
   ],
   "source": [
    "price = 42.50\n",
    "tax = 0.13\n",
    "total = price + price * tax\n",
    "f'Total = ${total:.2f}'"
   ]
  },
  {
   "cell_type": "code",
   "execution_count": null,
   "id": "fdf6c1bc-51c1-4c36-ab16-be1d662dff23",
   "metadata": {},
   "outputs": [],
   "source": []
  }
 ],
 "metadata": {
  "kernelspec": {
   "display_name": "Python 3 (ipykernel)",
   "language": "python",
   "name": "python3"
  },
  "language_info": {
   "codemirror_mode": {
    "name": "ipython",
    "version": 3
   },
   "file_extension": ".py",
   "mimetype": "text/x-python",
   "name": "python",
   "nbconvert_exporter": "python",
   "pygments_lexer": "ipython3",
   "version": "3.9.13"
  }
 },
 "nbformat": 4,
 "nbformat_minor": 5
}
