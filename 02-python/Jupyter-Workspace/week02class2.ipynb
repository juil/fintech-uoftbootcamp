{
 "cells": [
  {
   "cell_type": "code",
   "execution_count": 1,
   "id": "03d19e71-5b4d-4e62-be1e-cd3771f461c4",
   "metadata": {},
   "outputs": [
    {
     "data": {
      "text/plain": [
       "['happy', 'go']"
      ]
     },
     "execution_count": 1,
     "metadata": {},
     "output_type": "execute_result"
    }
   ],
   "source": [
    "cheer = ['happy', 'go', 'lucky']\n",
    "cheer[0:2]"
   ]
  },
  {
   "cell_type": "code",
   "execution_count": 2,
   "id": "e0989648-eb21-4886-974e-492af98cfa96",
   "metadata": {},
   "outputs": [
    {
     "data": {
      "text/plain": [
       "['go']"
      ]
     },
     "execution_count": 2,
     "metadata": {},
     "output_type": "execute_result"
    }
   ],
   "source": [
    "cheer[1:2]"
   ]
  },
  {
   "cell_type": "code",
   "execution_count": 3,
   "id": "264e245b-3cfe-4c88-afba-82674c8d2a0f",
   "metadata": {},
   "outputs": [
    {
     "data": {
      "text/plain": [
       "'lucky'"
      ]
     },
     "execution_count": 3,
     "metadata": {},
     "output_type": "execute_result"
    }
   ],
   "source": [
    "cheer[-1]"
   ]
  },
  {
   "cell_type": "code",
   "execution_count": 4,
   "id": "212a4a55-60f3-4d58-814f-f424d22aa69f",
   "metadata": {},
   "outputs": [
    {
     "data": {
      "text/plain": [
       "['happy', 'go', 'lucky', 1, 2, 3]"
      ]
     },
     "execution_count": 4,
     "metadata": {},
     "output_type": "execute_result"
    }
   ],
   "source": [
    "cheermix = cheer + [1,2,3]\n",
    "cheermix"
   ]
  },
  {
   "cell_type": "code",
   "execution_count": 5,
   "id": "839ea96f-2a14-4ea0-8ab4-8984dc7c6250",
   "metadata": {},
   "outputs": [
    {
     "data": {
      "text/plain": [
       "['go', 'lucky', 1, 2, 3]"
      ]
     },
     "execution_count": 5,
     "metadata": {},
     "output_type": "execute_result"
    }
   ],
   "source": [
    "cheermix[1:]"
   ]
  },
  {
   "cell_type": "code",
   "execution_count": 7,
   "id": "203bc125-9957-46d9-9937-6968795d0a0e",
   "metadata": {},
   "outputs": [
    {
     "data": {
      "text/plain": [
       "6"
      ]
     },
     "execution_count": 7,
     "metadata": {},
     "output_type": "execute_result"
    }
   ],
   "source": [
    "len(cheermix)"
   ]
  },
  {
   "cell_type": "code",
   "execution_count": 8,
   "id": "295c00f3-79ed-41c8-9519-8b1443c0a6d8",
   "metadata": {},
   "outputs": [
    {
     "data": {
      "text/plain": [
       "range(0, 6)"
      ]
     },
     "execution_count": 8,
     "metadata": {},
     "output_type": "execute_result"
    }
   ],
   "source": [
    "range(len(cheermix))"
   ]
  },
  {
   "cell_type": "code",
   "execution_count": 11,
   "id": "81f932bb-e76d-4b74-aa53-a7fa9c1a6f6f",
   "metadata": {},
   "outputs": [
    {
     "name": "stdout",
     "output_type": "stream",
     "text": [
      "\n",
      "What?!\n",
      "happy!\n",
      "Go happy!\n",
      "\n",
      "What?!\n",
      "go!\n",
      "Go go!\n",
      "\n",
      "What?!\n",
      "lucky!\n",
      "Go lucky!\n",
      "\n",
      "What?!\n",
      "1!\n",
      "Go 1!\n",
      "\n",
      "What?!\n",
      "2!\n",
      "Go 2!\n",
      "\n",
      "What?!\n",
      "3!\n",
      "Go 3!\n"
     ]
    }
   ],
   "source": [
    "for i in range(len(cheermix)):\n",
    "    print('\\nWhat?!')\n",
    "    print(str(cheermix[i]) + '!\\nGo ' + str(cheermix[i]) + '!')"
   ]
  },
  {
   "cell_type": "code",
   "execution_count": 21,
   "id": "03dba259-ce18-46f4-be13-eca4301e773b",
   "metadata": {},
   "outputs": [
    {
     "data": {
      "text/plain": [
       "['happy', 'lucky', 2]"
      ]
     },
     "execution_count": 21,
     "metadata": {},
     "output_type": "execute_result"
    }
   ],
   "source": [
    "cheermix[::2]"
   ]
  }
 ],
 "metadata": {
  "kernelspec": {
   "display_name": "Python 3 (ipykernel)",
   "language": "python",
   "name": "python3"
  },
  "language_info": {
   "codemirror_mode": {
    "name": "ipython",
    "version": 3
   },
   "file_extension": ".py",
   "mimetype": "text/x-python",
   "name": "python",
   "nbconvert_exporter": "python",
   "pygments_lexer": "ipython3",
   "version": "3.9.13"
  }
 },
 "nbformat": 4,
 "nbformat_minor": 5
}
