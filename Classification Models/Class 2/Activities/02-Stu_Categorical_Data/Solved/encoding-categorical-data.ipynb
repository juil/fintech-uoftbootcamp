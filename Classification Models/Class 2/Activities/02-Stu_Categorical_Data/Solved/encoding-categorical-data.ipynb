{
 "cells": [
  {
   "cell_type": "markdown",
   "metadata": {},
   "source": [
    "# Students Do: Encoding Categorical Data for Machine Learning\n",
    "\n",
    "In this activity, you are tasked to encode some categorical and text features of a dataset that contains `2097` loans applications. In forthcoming activities, you will use this dataset to predict defaulted loan applications.\n",
    "\n",
    "## Dataset Description.\n",
    "\n",
    "The data provided, is based on the dataset used in the research paper entitled [_“Should This Loan be Approved or Denied?”: A Large Dataset with Class Assignment Guidelines_](https://doi.org/10.1080/10691898.2018.1434342) published by Min Li, Amy Mickel & Stanley Taylor from the California State University on the Journal of Statistics Education.\n",
    "\n",
    "This dataset contains information about loans applications managed by the U.S. Small Business Administration (SBA), it was adapted for Today's class. The dataset is distributed under the [Creative Commons (CC BY-SA 4.0) license](https://creativecommons.org/licenses/by-sa/4.0/).\n",
    "\n",
    "The columns in the dataset are the following:\n",
    "\n",
    "* `Year`: The fiscal year of the loan application.\n",
    "* `Month`: Month of the fiscal year.\n",
    "* `Amount`: The loan amount issued.\n",
    "* `Term`: Loan's term in months\n",
    "* `Bank`: Name of the bank that issued the loan.\n",
    "* `State`: Borrower state.\n",
    "* `City`: Borrower city.\n",
    "* `Zip`: Borrower zipcode.\n",
    "* `CreateJob`: Number of jobs created using the loan.\n",
    "* `NoEmp`: Number of business employees.\n",
    "* `RealEstate`: Define if loan is backed by real estate.\n",
    "* `RevLineCr`: Indicates if it's a revolving line of credit.\n",
    "* `UrbanRural`: Location type of the borrower.\n",
    "* `Default`: Indicates if the loan was defaulted (`1`) or not (`0`)."
   ]
  },
  {
   "cell_type": "code",
   "execution_count": 2,
   "metadata": {},
   "outputs": [],
   "source": [
    "# Initial imports\n",
    "import pandas as pd\n",
    "from path import Path\n",
    "import calendar\n",
    "from sklearn.preprocessing import LabelEncoder"
   ]
  },
  {
   "cell_type": "markdown",
   "metadata": {},
   "source": [
    "## Loading the Data\n",
    "\n",
    "Load the `sba_loans.csv` data in a Pandas DataFame. Show the `head` to get familiar with the columns and data values."
   ]
  },
  {
   "cell_type": "code",
   "execution_count": 3,
   "metadata": {},
   "outputs": [
    {
     "data": {
      "text/html": [
       "<div>\n",
       "<style scoped>\n",
       "    .dataframe tbody tr th:only-of-type {\n",
       "        vertical-align: middle;\n",
       "    }\n",
       "\n",
       "    .dataframe tbody tr th {\n",
       "        vertical-align: top;\n",
       "    }\n",
       "\n",
       "    .dataframe thead th {\n",
       "        text-align: right;\n",
       "    }\n",
       "</style>\n",
       "<table border=\"1\" class=\"dataframe\">\n",
       "  <thead>\n",
       "    <tr style=\"text-align: right;\">\n",
       "      <th></th>\n",
       "      <th>Year</th>\n",
       "      <th>Month</th>\n",
       "      <th>Amount</th>\n",
       "      <th>Term</th>\n",
       "      <th>Bank</th>\n",
       "      <th>State</th>\n",
       "      <th>City</th>\n",
       "      <th>Zip</th>\n",
       "      <th>CreateJob</th>\n",
       "      <th>NoEmp</th>\n",
       "      <th>RealEstate</th>\n",
       "      <th>RevLineCr</th>\n",
       "      <th>UrbanRural</th>\n",
       "      <th>Default</th>\n",
       "    </tr>\n",
       "  </thead>\n",
       "  <tbody>\n",
       "    <tr>\n",
       "      <th>0</th>\n",
       "      <td>2001</td>\n",
       "      <td>November</td>\n",
       "      <td>32812</td>\n",
       "      <td>36</td>\n",
       "      <td>CALIFORNIA BANK &amp; TRUST</td>\n",
       "      <td>CA</td>\n",
       "      <td>ANAHEIM</td>\n",
       "      <td>92801</td>\n",
       "      <td>0</td>\n",
       "      <td>1</td>\n",
       "      <td>No</td>\n",
       "      <td>Y</td>\n",
       "      <td>Rural</td>\n",
       "      <td>0</td>\n",
       "    </tr>\n",
       "    <tr>\n",
       "      <th>1</th>\n",
       "      <td>2001</td>\n",
       "      <td>April</td>\n",
       "      <td>30000</td>\n",
       "      <td>56</td>\n",
       "      <td>CALIFORNIA BANK &amp; TRUST</td>\n",
       "      <td>CA</td>\n",
       "      <td>TORRANCE</td>\n",
       "      <td>90505</td>\n",
       "      <td>0</td>\n",
       "      <td>1</td>\n",
       "      <td>No</td>\n",
       "      <td>Y</td>\n",
       "      <td>Rural</td>\n",
       "      <td>0</td>\n",
       "    </tr>\n",
       "    <tr>\n",
       "      <th>2</th>\n",
       "      <td>2001</td>\n",
       "      <td>April</td>\n",
       "      <td>30000</td>\n",
       "      <td>36</td>\n",
       "      <td>CALIFORNIA BANK &amp; TRUST</td>\n",
       "      <td>CA</td>\n",
       "      <td>SAN DIEGO</td>\n",
       "      <td>92103</td>\n",
       "      <td>0</td>\n",
       "      <td>10</td>\n",
       "      <td>No</td>\n",
       "      <td>Y</td>\n",
       "      <td>Rural</td>\n",
       "      <td>0</td>\n",
       "    </tr>\n",
       "    <tr>\n",
       "      <th>3</th>\n",
       "      <td>2003</td>\n",
       "      <td>October</td>\n",
       "      <td>50000</td>\n",
       "      <td>36</td>\n",
       "      <td>CALIFORNIA BANK &amp; TRUST</td>\n",
       "      <td>CA</td>\n",
       "      <td>SAN DIEGO</td>\n",
       "      <td>92108</td>\n",
       "      <td>0</td>\n",
       "      <td>6</td>\n",
       "      <td>No</td>\n",
       "      <td>Y</td>\n",
       "      <td>Rural</td>\n",
       "      <td>0</td>\n",
       "    </tr>\n",
       "    <tr>\n",
       "      <th>4</th>\n",
       "      <td>2006</td>\n",
       "      <td>July</td>\n",
       "      <td>343000</td>\n",
       "      <td>240</td>\n",
       "      <td>SBA - EDF ENFORCEMENT ACTION</td>\n",
       "      <td>CA</td>\n",
       "      <td>LOS ANGELES</td>\n",
       "      <td>91345</td>\n",
       "      <td>3</td>\n",
       "      <td>65</td>\n",
       "      <td>Yes</td>\n",
       "      <td>N</td>\n",
       "      <td>Urban</td>\n",
       "      <td>0</td>\n",
       "    </tr>\n",
       "  </tbody>\n",
       "</table>\n",
       "</div>"
      ],
      "text/plain": [
       "   Year     Month  Amount  Term                          Bank State  \\\n",
       "0  2001  November   32812    36       CALIFORNIA BANK & TRUST    CA   \n",
       "1  2001     April   30000    56       CALIFORNIA BANK & TRUST    CA   \n",
       "2  2001     April   30000    36       CALIFORNIA BANK & TRUST    CA   \n",
       "3  2003   October   50000    36       CALIFORNIA BANK & TRUST    CA   \n",
       "4  2006      July  343000   240  SBA - EDF ENFORCEMENT ACTION    CA   \n",
       "\n",
       "          City    Zip  CreateJob  NoEmp RealEstate RevLineCr UrbanRural  \\\n",
       "0      ANAHEIM  92801          0      1         No         Y      Rural   \n",
       "1     TORRANCE  90505          0      1         No         Y      Rural   \n",
       "2    SAN DIEGO  92103          0     10         No         Y      Rural   \n",
       "3    SAN DIEGO  92108          0      6         No         Y      Rural   \n",
       "4  LOS ANGELES  91345          3     65        Yes         N      Urban   \n",
       "\n",
       "   Default  \n",
       "0        0  \n",
       "1        0  \n",
       "2        0  \n",
       "3        0  \n",
       "4        0  "
      ]
     },
     "execution_count": 3,
     "metadata": {},
     "output_type": "execute_result"
    }
   ],
   "source": [
    "# Read in the data\n",
    "file_path = Path(\"../Resources/sba_loans.csv\")\n",
    "loans_df = pd.read_csv(file_path)\n",
    "loans_df.head()"
   ]
  },
  {
   "cell_type": "markdown",
   "metadata": {},
   "source": [
    "## Integer Encoding\n",
    "\n",
    "### Manual Integer Encoding\n",
    "\n",
    "Perform a manual integer encoding of the `Month` column, use a dictionary to map months names with their corresponding numerical value."
   ]
  },
  {
   "cell_type": "code",
   "execution_count": 4,
   "metadata": {},
   "outputs": [
    {
     "data": {
      "text/plain": [
       "{'January': 1,\n",
       " 'February': 2,\n",
       " 'March': 3,\n",
       " 'April': 4,\n",
       " 'May': 5,\n",
       " 'June': 6,\n",
       " 'July': 7,\n",
       " 'August': 8,\n",
       " 'September': 9,\n",
       " 'October': 10,\n",
       " 'November': 11,\n",
       " 'December': 12}"
      ]
     },
     "execution_count": 4,
     "metadata": {},
     "output_type": "execute_result"
    }
   ],
   "source": [
    "# Months dictionary\n",
    "name_to_num = {name: num for num, name in enumerate(calendar.month_name) if num}\n",
    "name_to_num"
   ]
  },
  {
   "cell_type": "code",
   "execution_count": null,
   "metadata": {},
   "outputs": [],
   "source": [
    "# Encode month name\n",
    "loans_df[\"Month\"] = loans_df[\"Month\"].apply(lambda x: name_to_num[x])\n",
    "loans_df.head()"
   ]
  },
  {
   "cell_type": "markdown",
   "metadata": {},
   "source": [
    "### Encoding Data using `LabelEncoder`\n",
    "\n",
    "Use the `LabelEncoder` method from `sklearn` to perform an integer encoding of the `RealEstate`, `RevLineCr` and `UrbanRural` columns."
   ]
  },
  {
   "cell_type": "code",
   "execution_count": null,
   "metadata": {},
   "outputs": [],
   "source": [
    "# Create the LabelEncoder instance\n",
    "le = LabelEncoder()"
   ]
  },
  {
   "cell_type": "code",
   "execution_count": null,
   "metadata": {},
   "outputs": [],
   "source": [
    "# Fitting and encoding the columns with the LabelEncoder\n",
    "\n",
    "# RealEstate column\n",
    "le.fit(loans_df[\"RealEstate\"])\n",
    "loans_df[\"RealEstate\"] = le.transform(loans_df[\"RealEstate\"])\n",
    "\n",
    "# Encoding RevLineCr column\n",
    "le.fit(loans_df[\"RevLineCr\"])\n",
    "loans_df[\"RevLineCr\"] = le.transform(loans_df[\"RevLineCr\"])\n",
    "\n",
    "# Encoding UrbanRural column\n",
    "le.fit(loans_df[\"UrbanRural\"])\n",
    "loans_df[\"UrbanRural\"] = le.transform(loans_df[\"UrbanRural\"])\n",
    "\n",
    "# Preview the DataFrame\n",
    "loans_df.head()"
   ]
  },
  {
   "cell_type": "markdown",
   "metadata": {},
   "source": [
    "### Encoding Data using `get_dummies()`\n",
    "\n",
    "Perform a binary encoding on the `Bank`, `State` and `City` columns using the Pandas `get_dummies()` function."
   ]
  },
  {
   "cell_type": "code",
   "execution_count": null,
   "metadata": {},
   "outputs": [],
   "source": [
    "# Encoding the Bank, State and City columns\n",
    "loans_df = pd.get_dummies(loans_df, columns=[\"Bank\", \"State\", \"City\"])\n",
    "loans_df.head()"
   ]
  },
  {
   "cell_type": "markdown",
   "metadata": {},
   "source": [
    "## Save the Preprocessed File\n",
    "\n",
    "Finally, save the preprocessed file as `sba_loans_encoded.csv` for forthcoming usage."
   ]
  },
  {
   "cell_type": "code",
   "execution_count": null,
   "metadata": {},
   "outputs": [],
   "source": [
    "# Save the file for forthcoming usage\n",
    "file_path = Path(\"../Resources/sba_loans_encoded.csv\")\n",
    "loans_df.to_csv(file_path, index=False)"
   ]
  }
 ],
 "metadata": {
  "file_extension": ".py",
  "kernelspec": {
   "display_name": "Python 3",
   "language": "python",
   "name": "python3"
  },
  "language_info": {
   "codemirror_mode": {
    "name": "ipython",
    "version": 3
   },
   "file_extension": ".py",
   "mimetype": "text/x-python",
   "name": "python",
   "nbconvert_exporter": "python",
   "pygments_lexer": "ipython3",
   "version": "3.8.12"
  },
  "mimetype": "text/x-python",
  "name": "python",
  "npconvert_exporter": "python",
  "pygments_lexer": "ipython3",
  "version": 3
 },
 "nbformat": 4,
 "nbformat_minor": 4
}
