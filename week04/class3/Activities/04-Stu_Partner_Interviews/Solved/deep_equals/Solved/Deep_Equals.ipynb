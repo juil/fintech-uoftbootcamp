{
 "cells": [
  {
   "cell_type": "markdown",
   "metadata": {},
   "source": [
    "# Deep Equals\n",
    "\n",
    "Write a function that determines if two lists of numbers are equal"
   ]
  },
  {
   "cell_type": "code",
   "execution_count": 1,
   "metadata": {
    "collapsed": true
   },
   "outputs": [],
   "source": [
    "a = [1, 2, 3]\n",
    "b = [1, 2, 3]\n",
    "c = [1, 2, 3, 4]\n",
    "d = [3, 2, 1]\n",
    "e = [1, 1, 2, 3]"
   ]
  },
  {
   "cell_type": "markdown",
   "metadata": {},
   "source": [
    "## Solution 1: Sort and Compare"
   ]
  },
  {
   "cell_type": "code",
   "execution_count": 2,
   "metadata": {
    "collapsed": true
   },
   "outputs": [],
   "source": [
    "def deep_equals(list1, list2):\n",
    "    list1 = sorted(list1)\n",
    "    list2 = sorted(list2)\n",
    "    return list1 == list2"
   ]
  },
  {
   "cell_type": "code",
   "execution_count": 3,
   "metadata": {},
   "outputs": [
    {
     "name": "stdout",
     "output_type": "stream",
     "text": [
      "Should be True:  True\n",
      "Should be False:  False\n",
      "Should be True:  True\n",
      "Should be False:  False\n"
     ]
    }
   ],
   "source": [
    "print(\"Should be True: \", deep_equals(a, b))\n",
    "print(\"Should be False: \", deep_equals(a, c))\n",
    "print(\"Should be True: \", deep_equals(a, d))\n",
    "print(\"Should be False: \", deep_equals(a, e))"
   ]
  },
  {
   "cell_type": "markdown",
   "metadata": {},
   "source": [
    "## Solution 2: Iterate and Compare"
   ]
  },
  {
   "cell_type": "code",
   "execution_count": 4,
   "metadata": {
    "collapsed": true
   },
   "outputs": [],
   "source": [
    "def deep_equals(list1, list2):\n",
    "\n",
    "    if len(list1) != len(list2):\n",
    "        return False\n",
    "    \n",
    "    for item in list1:\n",
    "        if item not in list2:\n",
    "            return False\n",
    "            \n",
    "    for item in list2:\n",
    "        if item not in list1:\n",
    "            return False\n",
    "            \n",
    "    return True   "
   ]
  },
  {
   "cell_type": "code",
   "execution_count": 5,
   "metadata": {},
   "outputs": [
    {
     "name": "stdout",
     "output_type": "stream",
     "text": [
      "Should be True:  True\n",
      "Should be False:  False\n",
      "Should be True:  True\n",
      "Should be False:  False\n"
     ]
    }
   ],
   "source": [
    "print(\"Should be True: \", deep_equals(a, b))\n",
    "print(\"Should be False: \", deep_equals(a, c))\n",
    "print(\"Should be True: \", deep_equals(a, d))\n",
    "print(\"Should be False: \", deep_equals(a, e))"
   ]
  }
 ],
 "metadata": {
  "kernelspec": {
   "display_name": "Python 3",
   "language": "python",
   "name": "python3"
  },
  "language_info": {
   "codemirror_mode": {
    "name": "ipython",
    "version": 3
   },
   "file_extension": ".py",
   "mimetype": "text/x-python",
   "name": "python",
   "nbconvert_exporter": "python",
   "pygments_lexer": "ipython3",
   "version": "3.6.3"
  },
  "varInspector": {
   "cols": {
    "lenName": 16,
    "lenType": 16,
    "lenVar": 40
   },
   "kernels_config": {
    "python": {
     "delete_cmd_postfix": "",
     "delete_cmd_prefix": "del ",
     "library": "var_list.py",
     "varRefreshCmd": "print(var_dic_list())"
    },
    "r": {
     "delete_cmd_postfix": ") ",
     "delete_cmd_prefix": "rm(",
     "library": "var_list.r",
     "varRefreshCmd": "cat(var_dic_list()) "
    }
   },
   "types_to_exclude": [
    "module",
    "function",
    "builtin_function_or_method",
    "instance",
    "_Feature"
   ],
   "window_display": false
  }
 },
 "nbformat": 4,
 "nbformat_minor": 2
}
