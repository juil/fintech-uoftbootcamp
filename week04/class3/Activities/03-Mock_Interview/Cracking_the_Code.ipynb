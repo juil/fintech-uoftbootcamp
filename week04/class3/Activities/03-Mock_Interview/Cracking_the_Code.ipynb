{
 "cells": [
  {
   "cell_type": "markdown",
   "metadata": {},
   "source": [
    "# Cracking the Code\n",
    "\n",
    "Write a function that allows you to print out an encypted message. The encryption mechanism inserts a random letter after every single string in the original message starting after the first letter:"
   ]
  },
  {
   "cell_type": "code",
   "execution_count": 38,
   "metadata": {},
   "outputs": [],
   "source": [
    "encryptedMessage = 'CxowdwidnfgcisswCgohojlk'"
   ]
  },
  {
   "cell_type": "markdown",
   "metadata": {},
   "source": [
    "## Solution \n",
    "\n",
    "The interviewee should begin by expressing that they are not sure how to write a for loop that would allow them to iterate through a string - they are only familiar with writing loops for lists.\n",
    "\n",
    "* **Prompt**: Could you try using the same for loop to see if it works?"
   ]
  },
  {
   "cell_type": "code",
   "execution_count": null,
   "metadata": {},
   "outputs": [],
   "source": [
    "def decryptMessage(inputString):\n",
    "    for element in inputString:\n",
    "        print(element)\n",
    "decryptMessage(encryptedMessage)"
   ]
  },
  {
   "cell_type": "markdown",
   "metadata": {},
   "source": [
    "The interviewee should now indicate that they understand that the solution requires them to skip the random letters that were inserted in between each letter of the message. They should explan that this could be done by simply enumerating all letters in the message based on their position and then printing out the letters that are at an even position. However, they are not sure if Python has a function to enumerate items in a list.\n",
    "\n",
    "* **Prompt**: Given that we don't know whether the function exists and what it is called, could you try finding a different way to enumerate?\n",
    "\n",
    "The interviewee should then come up with the following solution:"
   ]
  },
  {
   "cell_type": "code",
   "execution_count": null,
   "metadata": {},
   "outputs": [],
   "source": [
    "def decryptMessage(inputString):\n",
    "    index = 0\n",
    "    for element in inputString:\n",
    "        print(element)\n",
    "        index = index + 1        \n",
    "decryptMessage(encryptedMessage)"
   ]
  },
  {
   "cell_type": "markdown",
   "metadata": {},
   "source": [
    "The interviewee should now suggest that the function needs to check whether the index is even, but isn't sure how to do so.\n",
    "\n",
    "* **Prompt**: Given that we don't know whether the function exists and what it is called, could you try finding a different way to check if it is even or not?\n",
    "\n",
    "The interviewer should then guide the interviewee to the solution below, where we divide the index by 2, convert the result to an integer and then multiply by 2 to see if we get the same number."
   ]
  },
  {
   "cell_type": "code",
   "execution_count": 31,
   "metadata": {},
   "outputs": [
    {
     "name": "stdout",
     "output_type": "stream",
     "text": [
      "C\n",
      "o\n",
      "d\n",
      "i\n",
      "n\n",
      "g\n",
      "i\n",
      "s\n",
      "C\n",
      "o\n",
      "o\n",
      "l\n"
     ]
    }
   ],
   "source": [
    "def decryptMessage(inputString):\n",
    "    index = 0\n",
    "    for element in inputString:\n",
    "        x=int(index/2)*2;  \n",
    "        if x == index:\n",
    "            print(element)\n",
    "        index = index + 1        \n",
    "decryptMessage(encryptedMessage)"
   ]
  },
  {
   "cell_type": "markdown",
   "metadata": {},
   "source": [
    "### Congratulations!\n",
    "\n",
    "Congratulate the interviewee for solving the problem and provide them with the enumerate function and the modulus function. Ask them to change their solution by using both:"
   ]
  },
  {
   "cell_type": "markdown",
   "metadata": {},
   "source": [
    "##### 1) Using enumerate:"
   ]
  },
  {
   "cell_type": "code",
   "execution_count": 34,
   "metadata": {},
   "outputs": [
    {
     "name": "stdout",
     "output_type": "stream",
     "text": [
      "C\n",
      "o\n",
      "d\n",
      "i\n",
      "n\n",
      "g\n",
      "i\n",
      "s\n",
      "C\n",
      "o\n",
      "o\n",
      "l\n"
     ]
    }
   ],
   "source": [
    "def decryptMessage(inputString):\n",
    "    for index, element in enumerate(inputString):\n",
    "        x=int(index/2)*2;  \n",
    "        if x == index:\n",
    "            print(element)  \n",
    "decryptMessage(encryptedMessage)"
   ]
  },
  {
   "cell_type": "markdown",
   "metadata": {},
   "source": [
    "##### 2) Using the modulus operator:"
   ]
  },
  {
   "cell_type": "code",
   "execution_count": 37,
   "metadata": {},
   "outputs": [
    {
     "name": "stdout",
     "output_type": "stream",
     "text": [
      "C\n",
      "o\n",
      "d\n",
      "i\n",
      "n\n",
      "g\n",
      "i\n",
      "s\n",
      "C\n",
      "o\n",
      "o\n",
      "l\n"
     ]
    }
   ],
   "source": [
    "def decryptMessage(inputString):\n",
    "    for index, element in enumerate(inputString):\n",
    "        if index % 2 == 0:\n",
    "            print(element)\n",
    "decryptMessage(encryptedMessage)"
   ]
  }
 ],
 "metadata": {
  "kernelspec": {
   "display_name": "Python 3",
   "language": "python",
   "name": "python3"
  },
  "language_info": {
   "codemirror_mode": {
    "name": "ipython",
    "version": 3
   },
   "file_extension": ".py",
   "mimetype": "text/x-python",
   "name": "python",
   "nbconvert_exporter": "python",
   "pygments_lexer": "ipython3",
   "version": "3.7.10"
  }
 },
 "nbformat": 4,
 "nbformat_minor": 4
}
