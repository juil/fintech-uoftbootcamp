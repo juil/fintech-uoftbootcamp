{
 "cells": [
  {
   "cell_type": "markdown",
   "metadata": {},
   "source": [
    "# Simple Moving Averages\n",
    "\n",
    "Harold's manager wants him to plot the 20-day, 50-day, and 100-day simple moving averages and rolling standard deviations for Shopify Inc. stock (`SHOP`). Upper management is considering a long-term investment in `SHOP`, but they want to ensure they are making a move at the right time.\n",
    "\n",
    "Use the Pandas library to help Harold plot the simple moving averages and rolling standard deviations to generate insights into whether `SHOP` is worth a long-term investment.\n",
    "\n",
    "## Instructions\n",
    "\n",
    "### Import Libraries and Dependencies"
   ]
  },
  {
   "cell_type": "code",
   "execution_count": null,
   "metadata": {},
   "outputs": [],
   "source": [
    "# Import libraries and dependencies\n",
    "import pandas as pd\n",
    "from pathlib import Path\n",
    "\n",
    "%matplotlib inline"
   ]
  },
  {
   "cell_type": "markdown",
   "metadata": {},
   "source": [
    "### Read CSV in as DataFrame"
   ]
  },
  {
   "cell_type": "code",
   "execution_count": null,
   "metadata": {},
   "outputs": [],
   "source": [
    "# Set file path\n",
    "shop_data = Path(\"../Resources/shop.csv\")\n",
    "\n",
    "# Read the CSV into a DataFrame and set the 'date' column as a datetime index\n",
    "shop_df = pd.read_csv(shop_data, index_col=\"Date\", infer_datetime_format=True, parse_dates=True)\n",
    "\n",
    "# Sort the date index in ascending order\n",
    "shop_df = shop_df.sort_index()\n",
    "\n",
    "# Display a few records\n",
    "shop_df.head()"
   ]
  },
  {
   "cell_type": "markdown",
   "metadata": {},
   "source": [
    "### Plot Daily Closing Price of `SHOP`"
   ]
  },
  {
   "cell_type": "code",
   "execution_count": null,
   "metadata": {},
   "outputs": [],
   "source": [
    "# Plot DataFrame\n"
   ]
  },
  {
   "cell_type": "markdown",
   "metadata": {},
   "source": [
    "### Calculate 20-Day Simple Moving Average (SMA20)"
   ]
  },
  {
   "cell_type": "code",
   "execution_count": null,
   "metadata": {},
   "outputs": [],
   "source": [
    "# Calculate 20-day Simple Moving Average for SHOP Closing Prices\n"
   ]
  },
  {
   "cell_type": "markdown",
   "metadata": {},
   "source": [
    "### Calculate 50-Day Simple Moving Average (SMA50)"
   ]
  },
  {
   "cell_type": "code",
   "execution_count": null,
   "metadata": {},
   "outputs": [],
   "source": [
    "# Calculate 50-day Simple Moving Average for SHOP Closing Prices\n"
   ]
  },
  {
   "cell_type": "markdown",
   "metadata": {},
   "source": [
    "### Calculate 100-Day Simple Moving Average (SMA100)"
   ]
  },
  {
   "cell_type": "code",
   "execution_count": null,
   "metadata": {},
   "outputs": [],
   "source": [
    "# Calculate 100-day Simple Moving Average for SHOP Closing Prices\n"
   ]
  },
  {
   "cell_type": "markdown",
   "metadata": {},
   "source": [
    "### Overlay Daily Closing Prices of `SHOP` and SMAs"
   ]
  },
  {
   "cell_type": "code",
   "execution_count": null,
   "metadata": {},
   "outputs": [],
   "source": [
    "# Set figure of the daily closing prices of SHOP\n",
    "\n",
    "# Overlay SMA20, SMA50, and SMA100 on the same figure\n",
    "\n",
    "# Set the legend of the figure\n"
   ]
  },
  {
   "cell_type": "markdown",
   "metadata": {},
   "source": [
    "### Calculate 20-, 50- and 100-day Standard Deviation and Overlay Daily Closing Prices of `SHOP` and STDs"
   ]
  },
  {
   "cell_type": "code",
   "execution_count": null,
   "metadata": {},
   "outputs": [],
   "source": [
    "# Set figure of the daily closing prices of SHOP\n",
    "\n",
    "# Overlay STD20, STD50, and STD100 on the same figure\n",
    "\n",
    "\n",
    "# Set the legend of the figure\n"
   ]
  },
  {
   "cell_type": "markdown",
   "metadata": {},
   "source": [
    "### Should Harold's firm invest long term in Shopify?"
   ]
  },
  {
   "cell_type": "markdown",
   "metadata": {},
   "source": [
    "**Your answer here**"
   ]
  }
 ],
 "metadata": {
  "kernelspec": {
   "display_name": "Python 3",
   "language": "python",
   "name": "python3"
  },
  "language_info": {
   "codemirror_mode": {
    "name": "ipython",
    "version": 3
   },
   "file_extension": ".py",
   "mimetype": "text/x-python",
   "name": "python",
   "nbconvert_exporter": "python",
   "pygments_lexer": "ipython3",
   "version": "3.7.3"
  }
 },
 "nbformat": 4,
 "nbformat_minor": 4
}
