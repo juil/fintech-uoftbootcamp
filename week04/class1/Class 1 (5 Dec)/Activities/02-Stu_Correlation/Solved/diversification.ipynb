{
 "cells": [
  {
   "cell_type": "markdown",
   "metadata": {},
   "source": [
    "# Diversification\n",
    "\n",
    "Harold's company wants to build a diversified stock portfolio. So far, it has added `BMO` (Bank of Montreal) and `CNQ` (Canadian Natural Resources Limited), which reside within the Financial Services and Energy sectors in [the S&P TSX 60 index](https://en.wikipedia.org/wiki/S%26P/TSX_60), respectively. Now they want to add a third energy sector stock to the mix.\n",
    "\n",
    "Harold's manager has asked him to research a set of five energy stocks to add to the existing portfolio. To create a diversified portfolio that tends to minimize long-term volatility/risk, stocks within the portfolio should be as uncorrelated as possible so as to create a counterbalance effect (i.e, when some stocks fall in price, others may rise in price).\n",
    "\n",
    "Use the Pandas library to help Harold analyze five energy stocks—`CVE`, `ENB`, `IMO`, `IPL`, and `TRP`—and choose the stock with the least correlation to `BMO` and `CNQ`.\n",
    "\n",
    "## Instructions\n",
    "\n",
    "## Import libraries and dependencies"
   ]
  },
  {
   "cell_type": "code",
   "execution_count": 1,
   "metadata": {},
   "outputs": [],
   "source": [
    "# Import libraries and dependencies\n",
    "import pandas as pd\n",
    "from pathlib import Path\n",
    "import seaborn as sns\n",
    "\n",
    "%matplotlib inline"
   ]
  },
  {
   "cell_type": "markdown",
   "metadata": {},
   "source": [
    "### Read CSV in as DataFrame"
   ]
  },
  {
   "cell_type": "code",
   "execution_count": 2,
   "metadata": {},
   "outputs": [
    {
     "data": {
      "text/html": [
       "<div>\n",
       "<style scoped>\n",
       "    .dataframe tbody tr th:only-of-type {\n",
       "        vertical-align: middle;\n",
       "    }\n",
       "\n",
       "    .dataframe tbody tr th {\n",
       "        vertical-align: top;\n",
       "    }\n",
       "\n",
       "    .dataframe thead th {\n",
       "        text-align: right;\n",
       "    }\n",
       "</style>\n",
       "<table border=\"1\" class=\"dataframe\">\n",
       "  <thead>\n",
       "    <tr style=\"text-align: right;\">\n",
       "      <th></th>\n",
       "      <th>BMO</th>\n",
       "    </tr>\n",
       "    <tr>\n",
       "      <th>date</th>\n",
       "      <th></th>\n",
       "    </tr>\n",
       "  </thead>\n",
       "  <tbody>\n",
       "    <tr>\n",
       "      <th>5/14/19</th>\n",
       "      <td>66.97</td>\n",
       "    </tr>\n",
       "    <tr>\n",
       "      <th>5/13/19</th>\n",
       "      <td>66.49</td>\n",
       "    </tr>\n",
       "    <tr>\n",
       "      <th>5/10/19</th>\n",
       "      <td>67.22</td>\n",
       "    </tr>\n",
       "    <tr>\n",
       "      <th>5/9/19</th>\n",
       "      <td>66.04</td>\n",
       "    </tr>\n",
       "    <tr>\n",
       "      <th>5/8/19</th>\n",
       "      <td>66.02</td>\n",
       "    </tr>\n",
       "  </tbody>\n",
       "</table>\n",
       "</div>"
      ],
      "text/plain": [
       "           BMO\n",
       "date          \n",
       "5/14/19  66.97\n",
       "5/13/19  66.49\n",
       "5/10/19  67.22\n",
       "5/9/19   66.04\n",
       "5/8/19   66.02"
      ]
     },
     "execution_count": 2,
     "metadata": {},
     "output_type": "execute_result"
    }
   ],
   "source": [
    "# Set file paths\n",
    "cnq_data = Path(\"../Resources/CNQ.csv\")\n",
    "bmo_data = Path(\"../Resources/BMO.csv\")\n",
    "cve_data = Path(\"../Resources/CVE.csv\")\n",
    "enb_data = Path(\"../Resources/ENB.csv\")\n",
    "imo_data = Path(\"../Resources/IMO.csv\")\n",
    "ipl_data = Path(\"../Resources/IPL.csv\")\n",
    "trp_data = Path(\"../Resources/TRP.csv\")\n",
    "\n",
    "# Read the individual CSV datasets\n",
    "cnq_df = pd.read_csv(cnq_data, index_col=\"date\")\n",
    "bmo_df = pd.read_csv(bmo_data, index_col=\"date\")\n",
    "cve_df = pd.read_csv(cve_data, index_col=\"date\")\n",
    "enb_df = pd.read_csv(enb_data, index_col=\"date\")\n",
    "imo_df = pd.read_csv(imo_data, index_col=\"date\")\n",
    "ipl_df = pd.read_csv(ipl_data, index_col=\"date\")\n",
    "trp_df = pd.read_csv(trp_data, index_col=\"date\")\n",
    "\n",
    "# Display sample data from `BMO` (all files have the same structure)\n",
    "bmo_df.head()"
   ]
  },
  {
   "cell_type": "markdown",
   "metadata": {},
   "source": [
    "### Combine the DataFrames"
   ]
  },
  {
   "cell_type": "code",
   "execution_count": 3,
   "metadata": {},
   "outputs": [
    {
     "data": {
      "text/html": [
       "<div>\n",
       "<style scoped>\n",
       "    .dataframe tbody tr th:only-of-type {\n",
       "        vertical-align: middle;\n",
       "    }\n",
       "\n",
       "    .dataframe tbody tr th {\n",
       "        vertical-align: top;\n",
       "    }\n",
       "\n",
       "    .dataframe thead th {\n",
       "        text-align: right;\n",
       "    }\n",
       "</style>\n",
       "<table border=\"1\" class=\"dataframe\">\n",
       "  <thead>\n",
       "    <tr style=\"text-align: right;\">\n",
       "      <th></th>\n",
       "      <th>CNQ</th>\n",
       "      <th>BMO</th>\n",
       "      <th>CVE</th>\n",
       "      <th>ENB</th>\n",
       "      <th>IMO</th>\n",
       "      <th>IPL</th>\n",
       "      <th>TRP</th>\n",
       "    </tr>\n",
       "    <tr>\n",
       "      <th>date</th>\n",
       "      <th></th>\n",
       "      <th></th>\n",
       "      <th></th>\n",
       "      <th></th>\n",
       "      <th></th>\n",
       "      <th></th>\n",
       "      <th></th>\n",
       "    </tr>\n",
       "  </thead>\n",
       "  <tbody>\n",
       "    <tr>\n",
       "      <th>5/14/19</th>\n",
       "      <td>191.62</td>\n",
       "      <td>66.97</td>\n",
       "      <td>45.17</td>\n",
       "      <td>27.32</td>\n",
       "      <td>38.51</td>\n",
       "      <td>162.04</td>\n",
       "      <td>41.97</td>\n",
       "    </tr>\n",
       "    <tr>\n",
       "      <th>5/13/19</th>\n",
       "      <td>190.34</td>\n",
       "      <td>66.49</td>\n",
       "      <td>44.76</td>\n",
       "      <td>26.24</td>\n",
       "      <td>37.38</td>\n",
       "      <td>158.45</td>\n",
       "      <td>40.99</td>\n",
       "    </tr>\n",
       "    <tr>\n",
       "      <th>5/10/19</th>\n",
       "      <td>194.58</td>\n",
       "      <td>67.22</td>\n",
       "      <td>46.20</td>\n",
       "      <td>27.96</td>\n",
       "      <td>38.94</td>\n",
       "      <td>168.82</td>\n",
       "      <td>42.83</td>\n",
       "    </tr>\n",
       "    <tr>\n",
       "      <th>5/9/19</th>\n",
       "      <td>194.58</td>\n",
       "      <td>66.04</td>\n",
       "      <td>46.62</td>\n",
       "      <td>27.21</td>\n",
       "      <td>39.27</td>\n",
       "      <td>170.19</td>\n",
       "      <td>43.25</td>\n",
       "    </tr>\n",
       "    <tr>\n",
       "      <th>5/8/19</th>\n",
       "      <td>195.17</td>\n",
       "      <td>66.02</td>\n",
       "      <td>49.24</td>\n",
       "      <td>27.09</td>\n",
       "      <td>39.75</td>\n",
       "      <td>173.92</td>\n",
       "      <td>43.70</td>\n",
       "    </tr>\n",
       "  </tbody>\n",
       "</table>\n",
       "</div>"
      ],
      "text/plain": [
       "            CNQ    BMO    CVE    ENB    IMO     IPL    TRP\n",
       "date                                                      \n",
       "5/14/19  191.62  66.97  45.17  27.32  38.51  162.04  41.97\n",
       "5/13/19  190.34  66.49  44.76  26.24  37.38  158.45  40.99\n",
       "5/10/19  194.58  67.22  46.20  27.96  38.94  168.82  42.83\n",
       "5/9/19   194.58  66.04  46.62  27.21  39.27  170.19  43.25\n",
       "5/8/19   195.17  66.02  49.24  27.09  39.75  173.92  43.70"
      ]
     },
     "execution_count": 3,
     "metadata": {},
     "output_type": "execute_result"
    }
   ],
   "source": [
    "# Use the `concat` function to combine the DataFrames by matching indexes (or in this case `date`)\n",
    "combined_df = pd.concat([cnq_df, bmo_df, cve_df, enb_df, imo_df, ipl_df, trp_df], axis=\"columns\", join=\"inner\")\n",
    "combined_df.head()"
   ]
  },
  {
   "cell_type": "markdown",
   "metadata": {},
   "source": [
    "### Calculate Daily Returns"
   ]
  },
  {
   "cell_type": "code",
   "execution_count": 4,
   "metadata": {},
   "outputs": [
    {
     "data": {
      "text/html": [
       "<div>\n",
       "<style scoped>\n",
       "    .dataframe tbody tr th:only-of-type {\n",
       "        vertical-align: middle;\n",
       "    }\n",
       "\n",
       "    .dataframe tbody tr th {\n",
       "        vertical-align: top;\n",
       "    }\n",
       "\n",
       "    .dataframe thead th {\n",
       "        text-align: right;\n",
       "    }\n",
       "</style>\n",
       "<table border=\"1\" class=\"dataframe\">\n",
       "  <thead>\n",
       "    <tr style=\"text-align: right;\">\n",
       "      <th></th>\n",
       "      <th>CNQ</th>\n",
       "      <th>BMO</th>\n",
       "      <th>CVE</th>\n",
       "      <th>ENB</th>\n",
       "      <th>IMO</th>\n",
       "      <th>IPL</th>\n",
       "      <th>TRP</th>\n",
       "    </tr>\n",
       "    <tr>\n",
       "      <th>date</th>\n",
       "      <th></th>\n",
       "      <th></th>\n",
       "      <th></th>\n",
       "      <th></th>\n",
       "      <th></th>\n",
       "      <th></th>\n",
       "      <th></th>\n",
       "    </tr>\n",
       "  </thead>\n",
       "  <tbody>\n",
       "    <tr>\n",
       "      <th>5/14/19</th>\n",
       "      <td>NaN</td>\n",
       "      <td>NaN</td>\n",
       "      <td>NaN</td>\n",
       "      <td>NaN</td>\n",
       "      <td>NaN</td>\n",
       "      <td>NaN</td>\n",
       "      <td>NaN</td>\n",
       "    </tr>\n",
       "    <tr>\n",
       "      <th>5/13/19</th>\n",
       "      <td>-0.006680</td>\n",
       "      <td>-0.007167</td>\n",
       "      <td>-0.009077</td>\n",
       "      <td>-0.039531</td>\n",
       "      <td>-0.029343</td>\n",
       "      <td>-0.022155</td>\n",
       "      <td>-0.023350</td>\n",
       "    </tr>\n",
       "    <tr>\n",
       "      <th>5/10/19</th>\n",
       "      <td>0.022276</td>\n",
       "      <td>0.010979</td>\n",
       "      <td>0.032172</td>\n",
       "      <td>0.065549</td>\n",
       "      <td>0.041734</td>\n",
       "      <td>0.065447</td>\n",
       "      <td>0.044889</td>\n",
       "    </tr>\n",
       "    <tr>\n",
       "      <th>5/9/19</th>\n",
       "      <td>0.000000</td>\n",
       "      <td>-0.017554</td>\n",
       "      <td>0.009091</td>\n",
       "      <td>-0.026824</td>\n",
       "      <td>0.008475</td>\n",
       "      <td>0.008115</td>\n",
       "      <td>0.009806</td>\n",
       "    </tr>\n",
       "    <tr>\n",
       "      <th>5/8/19</th>\n",
       "      <td>0.003032</td>\n",
       "      <td>-0.000303</td>\n",
       "      <td>0.056199</td>\n",
       "      <td>-0.004410</td>\n",
       "      <td>0.012223</td>\n",
       "      <td>0.021917</td>\n",
       "      <td>0.010405</td>\n",
       "    </tr>\n",
       "  </tbody>\n",
       "</table>\n",
       "</div>"
      ],
      "text/plain": [
       "              CNQ       BMO       CVE       ENB       IMO       IPL       TRP\n",
       "date                                                                         \n",
       "5/14/19       NaN       NaN       NaN       NaN       NaN       NaN       NaN\n",
       "5/13/19 -0.006680 -0.007167 -0.009077 -0.039531 -0.029343 -0.022155 -0.023350\n",
       "5/10/19  0.022276  0.010979  0.032172  0.065549  0.041734  0.065447  0.044889\n",
       "5/9/19   0.000000 -0.017554  0.009091 -0.026824  0.008475  0.008115  0.009806\n",
       "5/8/19   0.003032 -0.000303  0.056199 -0.004410  0.012223  0.021917  0.010405"
      ]
     },
     "execution_count": 4,
     "metadata": {},
     "output_type": "execute_result"
    }
   ],
   "source": [
    "# Use the `pct_change` function to calculate daily returns for each stock\n",
    "daily_returns = combined_df.pct_change()\n",
    "daily_returns.head()"
   ]
  },
  {
   "cell_type": "markdown",
   "metadata": {},
   "source": [
    "### Calculate Correlation"
   ]
  },
  {
   "cell_type": "code",
   "execution_count": 5,
   "metadata": {},
   "outputs": [
    {
     "data": {
      "text/html": [
       "<div>\n",
       "<style scoped>\n",
       "    .dataframe tbody tr th:only-of-type {\n",
       "        vertical-align: middle;\n",
       "    }\n",
       "\n",
       "    .dataframe tbody tr th {\n",
       "        vertical-align: top;\n",
       "    }\n",
       "\n",
       "    .dataframe thead th {\n",
       "        text-align: right;\n",
       "    }\n",
       "</style>\n",
       "<table border=\"1\" class=\"dataframe\">\n",
       "  <thead>\n",
       "    <tr style=\"text-align: right;\">\n",
       "      <th></th>\n",
       "      <th>CNQ</th>\n",
       "      <th>BMO</th>\n",
       "      <th>CVE</th>\n",
       "      <th>ENB</th>\n",
       "      <th>IMO</th>\n",
       "      <th>IPL</th>\n",
       "      <th>TRP</th>\n",
       "    </tr>\n",
       "  </thead>\n",
       "  <tbody>\n",
       "    <tr>\n",
       "      <th>CNQ</th>\n",
       "      <td>1.000000</td>\n",
       "      <td>0.329386</td>\n",
       "      <td>0.429047</td>\n",
       "      <td>0.294653</td>\n",
       "      <td>0.375932</td>\n",
       "      <td>0.360918</td>\n",
       "      <td>0.393293</td>\n",
       "    </tr>\n",
       "    <tr>\n",
       "      <th>BMO</th>\n",
       "      <td>0.329386</td>\n",
       "      <td>1.000000</td>\n",
       "      <td>0.318188</td>\n",
       "      <td>0.254498</td>\n",
       "      <td>0.337060</td>\n",
       "      <td>0.257717</td>\n",
       "      <td>0.317493</td>\n",
       "    </tr>\n",
       "    <tr>\n",
       "      <th>CVE</th>\n",
       "      <td>0.429047</td>\n",
       "      <td>0.318188</td>\n",
       "      <td>1.000000</td>\n",
       "      <td>0.385877</td>\n",
       "      <td>0.511066</td>\n",
       "      <td>0.483262</td>\n",
       "      <td>0.500741</td>\n",
       "    </tr>\n",
       "    <tr>\n",
       "      <th>ENB</th>\n",
       "      <td>0.294653</td>\n",
       "      <td>0.254498</td>\n",
       "      <td>0.385877</td>\n",
       "      <td>1.000000</td>\n",
       "      <td>0.438329</td>\n",
       "      <td>0.471212</td>\n",
       "      <td>0.352482</td>\n",
       "    </tr>\n",
       "    <tr>\n",
       "      <th>IMO</th>\n",
       "      <td>0.375932</td>\n",
       "      <td>0.337060</td>\n",
       "      <td>0.511066</td>\n",
       "      <td>0.438329</td>\n",
       "      <td>1.000000</td>\n",
       "      <td>0.517198</td>\n",
       "      <td>0.477247</td>\n",
       "    </tr>\n",
       "    <tr>\n",
       "      <th>IPL</th>\n",
       "      <td>0.360918</td>\n",
       "      <td>0.257717</td>\n",
       "      <td>0.483262</td>\n",
       "      <td>0.471212</td>\n",
       "      <td>0.517198</td>\n",
       "      <td>1.000000</td>\n",
       "      <td>0.472496</td>\n",
       "    </tr>\n",
       "    <tr>\n",
       "      <th>TRP</th>\n",
       "      <td>0.393293</td>\n",
       "      <td>0.317493</td>\n",
       "      <td>0.500741</td>\n",
       "      <td>0.352482</td>\n",
       "      <td>0.477247</td>\n",
       "      <td>0.472496</td>\n",
       "      <td>1.000000</td>\n",
       "    </tr>\n",
       "  </tbody>\n",
       "</table>\n",
       "</div>"
      ],
      "text/plain": [
       "          CNQ       BMO       CVE       ENB       IMO       IPL       TRP\n",
       "CNQ  1.000000  0.329386  0.429047  0.294653  0.375932  0.360918  0.393293\n",
       "BMO  0.329386  1.000000  0.318188  0.254498  0.337060  0.257717  0.317493\n",
       "CVE  0.429047  0.318188  1.000000  0.385877  0.511066  0.483262  0.500741\n",
       "ENB  0.294653  0.254498  0.385877  1.000000  0.438329  0.471212  0.352482\n",
       "IMO  0.375932  0.337060  0.511066  0.438329  1.000000  0.517198  0.477247\n",
       "IPL  0.360918  0.257717  0.483262  0.471212  0.517198  1.000000  0.472496\n",
       "TRP  0.393293  0.317493  0.500741  0.352482  0.477247  0.472496  1.000000"
      ]
     },
     "execution_count": 5,
     "metadata": {},
     "output_type": "execute_result"
    }
   ],
   "source": [
    "# Use the `corr` function to calculate correlations for each stock pair\n",
    "correlation = daily_returns.corr()\n",
    "correlation"
   ]
  },
  {
   "cell_type": "markdown",
   "metadata": {},
   "source": [
    "### Plot Correlation"
   ]
  },
  {
   "cell_type": "code",
   "execution_count": 6,
   "metadata": {},
   "outputs": [
    {
     "data": {
      "text/plain": [
       "<matplotlib.axes._subplots.AxesSubplot at 0x1a1bc01290>"
      ]
     },
     "execution_count": 6,
     "metadata": {},
     "output_type": "execute_result"
    },
    {
     "data": {
      "image/png": "[encoded data removed]",
      "text/plain": [
       "<Figure size 432x288 with 2 Axes>"
      ]
     },
     "metadata": {
      "needs_background": "light"
     },
     "output_type": "display_data"
    }
   ],
   "source": [
    "# Create a heatmap from the correlation values\n",
    "sns.heatmap(correlation)"
   ]
  },
  {
   "cell_type": "code",
   "execution_count": 7,
   "metadata": {},
   "outputs": [
    {
     "data": {
      "text/plain": [
       "<matplotlib.axes._subplots.AxesSubplot at 0x1a1c445810>"
      ]
     },
     "execution_count": 7,
     "metadata": {},
     "output_type": "execute_result"
    },
    {
     "data": {
      "image/png": "[encoded data removed]",
      "text/plain": [
       "<Figure size 432x288 with 2 Axes>"
      ]
     },
     "metadata": {
      "needs_background": "light"
     },
     "output_type": "display_data"
    }
   ],
   "source": [
    "# Create a heatmap from the correlation values and adjust the scale\n",
    "sns.heatmap(correlation, vmin=-1, vmax=1)"
   ]
  },
  {
   "cell_type": "markdown",
   "metadata": {},
   "source": [
    "### Which energy stock would be the best candidate to add to the existing portfolio?"
   ]
  },
  {
   "cell_type": "markdown",
   "metadata": {},
   "source": [
    "**Sample Answer:** `ENB` stock would be the best candidate to add to the existing portfolio as it is the stock that has the least correlation with `BMO` and `CNQ`."
   ]
  }
 ],
 "metadata": {
  "kernelspec": {
   "display_name": "Python 3",
   "language": "python",
   "name": "python3"
  },
  "language_info": {
   "codemirror_mode": {
    "name": "ipython",
    "version": 3
   },
   "file_extension": ".py",
   "mimetype": "text/x-python",
   "name": "python",
   "nbconvert_exporter": "python",
   "pygments_lexer": "ipython3",
   "version": "3.7.3"
  }
 },
 "nbformat": 4,
 "nbformat_minor": 4
}
