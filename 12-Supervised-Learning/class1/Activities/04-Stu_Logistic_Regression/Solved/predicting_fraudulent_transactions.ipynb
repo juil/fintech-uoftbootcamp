{
 "cells": [
  {
   "cell_type": "markdown",
   "metadata": {},
   "source": [
    "# Predicting Fraudulent Transactions\n",
    "\n",
    "You’ll try logistic regression on the real-world problem of fraud detection and find out how it fares.\n",
    "\n",
    "## Instructions:\n",
    "\n",
    "The instructions for this activity are divided into the following stages:\n",
    "\n",
    "1. Prepare the data\n",
    "\n",
    "2. Split the data into training and testing sets\n",
    "\n",
    "3. Model and fit the data into a logistic regression\n",
    "\n",
    "4. Predict the testing labels \n",
    "\n",
    "5. Calculate the performance metrics\n",
    "\n",
    "#### Prepare the Data\n",
    "\n",
    "1. Load the `transaction_fraud_data.csv` file from the `Resources` folder into a Pandas DataFrame. Set the “id” column as the index.\n",
    "\n",
    "2. Note that you want to predict the `fraud` variable. Answer the following question: Using `value_counts`, how many fraudulent transactions exist in this dataset?\n",
    "\n",
    "#### Split the Data into Training and Testing Sets\n",
    "\n",
    "1. Using the `transaction_fraud_data` DataFrame, separate the data into training and testing data. Start by defining the `target` (the “fraud” column) and the `features` of the data (all the columns except “fraud”).\n",
    "\n",
    "2. Split the features and target data into `training_features`, `testing_features`, `training_targets`, and `testing_targets` datasets by using the `train_test_split` function.\n",
    "\n",
    "#### Model and Fit the Data to a Logistic Regression\n",
    "\n",
    "1. Declare a `LogisticRegression` model.\n",
    "\n",
    "2. Fit the training data to the model, and save the model.\n",
    "\n",
    "#### Predict the Testing Labels\n",
    "\n",
    "1. Make predictions about fraud by using the testing dataset, and save those predictions.\n",
    "\n",
    "#### Calculate the Performance Metrics\n",
    "\n",
    "1. Calculate the accuracy score by evaluating `testing_targets` vs. `testing_predictions`. \n",
    "2. Answer the following question: For this dataset, how well did the model predict the actually fraudulent transactions?\n",
    "\n",
    "\n",
    "## Resources:\n",
    "\n",
    "Following are links to modules from the scikit learn library that will be utilized:\n",
    "\n",
    "[Logistic Regression](https://scikit-learn.org/stable/modules/generated/sklearn.linear_model.LogisticRegression.html)\n",
    "\n",
    "[train_test_split](https://scikit-learn.org/stable/modules/generated/sklearn.model_selection.train_test_split.html)\n",
    "\n",
    "[accuracy score](https://scikit-learn.org/stable/modules/generated/sklearn.metrics.accuracy_score.html)\n",
    "\n",
    "[classifiction report](https://scikit-learn.org/stable/modules/generated/sklearn.metrics.classification_report.html)\n",
    "\n"
   ]
  },
  {
   "cell_type": "code",
   "execution_count": 1,
   "metadata": {},
   "outputs": [],
   "source": [
    "# Import the required modules\n",
    "import pandas as pd\n",
    "from pathlib import Path\n",
    "from sklearn.model_selection import train_test_split\n",
    "import matplotlib.pyplot as plt\n",
    "from imblearn.metrics import classification_report_imbalanced\n",
    "from sklearn.metrics import accuracy_score, classification_report\n",
    "from sklearn.linear_model import LogisticRegression\n"
   ]
  },
  {
   "cell_type": "markdown",
   "metadata": {},
   "source": [
    "# Prepare the Data"
   ]
  },
  {
   "cell_type": "markdown",
   "metadata": {},
   "source": [
    "### Step 1: Load the `transaction_fraud_data.csv` file from the `Resources` folder into a Pandas DataFrame. Set the “id” column as the index."
   ]
  },
  {
   "cell_type": "code",
   "execution_count": 2,
   "metadata": {},
   "outputs": [
    {
     "data": {
      "text/html": [
       "<div>\n",
       "<style scoped>\n",
       "    .dataframe tbody tr th:only-of-type {\n",
       "        vertical-align: middle;\n",
       "    }\n",
       "\n",
       "    .dataframe tbody tr th {\n",
       "        vertical-align: top;\n",
       "    }\n",
       "\n",
       "    .dataframe thead th {\n",
       "        text-align: right;\n",
       "    }\n",
       "</style>\n",
       "<table border=\"1\" class=\"dataframe\">\n",
       "  <thead>\n",
       "    <tr style=\"text-align: right;\">\n",
       "      <th></th>\n",
       "      <th>Z_0</th>\n",
       "      <th>Z_1</th>\n",
       "      <th>Z_2</th>\n",
       "      <th>Z_3</th>\n",
       "      <th>Z_4</th>\n",
       "      <th>Z_5</th>\n",
       "      <th>Z_6</th>\n",
       "      <th>Z_7</th>\n",
       "      <th>Z_8</th>\n",
       "      <th>Z_9</th>\n",
       "      <th>fraud</th>\n",
       "    </tr>\n",
       "    <tr>\n",
       "      <th>id</th>\n",
       "      <th></th>\n",
       "      <th></th>\n",
       "      <th></th>\n",
       "      <th></th>\n",
       "      <th></th>\n",
       "      <th></th>\n",
       "      <th></th>\n",
       "      <th></th>\n",
       "      <th></th>\n",
       "      <th></th>\n",
       "      <th></th>\n",
       "    </tr>\n",
       "  </thead>\n",
       "  <tbody>\n",
       "    <tr>\n",
       "      <th>0</th>\n",
       "      <td>-2.346302</td>\n",
       "      <td>-1.026583</td>\n",
       "      <td>-10.363716</td>\n",
       "      <td>-8.054260</td>\n",
       "      <td>7.519907</td>\n",
       "      <td>1.860217</td>\n",
       "      <td>9.056866</td>\n",
       "      <td>0.392113</td>\n",
       "      <td>-12.937505</td>\n",
       "      <td>-0.801264</td>\n",
       "      <td>0</td>\n",
       "    </tr>\n",
       "    <tr>\n",
       "      <th>1</th>\n",
       "      <td>-3.296776</td>\n",
       "      <td>-8.487700</td>\n",
       "      <td>9.175655</td>\n",
       "      <td>1.097409</td>\n",
       "      <td>-1.766353</td>\n",
       "      <td>-2.293392</td>\n",
       "      <td>-2.247549</td>\n",
       "      <td>-0.041269</td>\n",
       "      <td>8.216953</td>\n",
       "      <td>8.883102</td>\n",
       "      <td>0</td>\n",
       "    </tr>\n",
       "    <tr>\n",
       "      <th>2</th>\n",
       "      <td>12.839610</td>\n",
       "      <td>4.475612</td>\n",
       "      <td>-5.213528</td>\n",
       "      <td>-5.722660</td>\n",
       "      <td>-4.073390</td>\n",
       "      <td>-5.661766</td>\n",
       "      <td>5.967037</td>\n",
       "      <td>-9.826743</td>\n",
       "      <td>-17.443248</td>\n",
       "      <td>5.266470</td>\n",
       "      <td>0</td>\n",
       "    </tr>\n",
       "    <tr>\n",
       "      <th>3</th>\n",
       "      <td>13.237325</td>\n",
       "      <td>13.605183</td>\n",
       "      <td>-5.958039</td>\n",
       "      <td>4.392244</td>\n",
       "      <td>4.763587</td>\n",
       "      <td>3.781628</td>\n",
       "      <td>-2.722725</td>\n",
       "      <td>-5.814775</td>\n",
       "      <td>11.236515</td>\n",
       "      <td>2.582494</td>\n",
       "      <td>0</td>\n",
       "    </tr>\n",
       "    <tr>\n",
       "      <th>4</th>\n",
       "      <td>4.161311</td>\n",
       "      <td>2.520646</td>\n",
       "      <td>7.171650</td>\n",
       "      <td>1.301273</td>\n",
       "      <td>-5.408190</td>\n",
       "      <td>4.651314</td>\n",
       "      <td>9.639546</td>\n",
       "      <td>4.648132</td>\n",
       "      <td>3.928619</td>\n",
       "      <td>2.358164</td>\n",
       "      <td>0</td>\n",
       "    </tr>\n",
       "  </tbody>\n",
       "</table>\n",
       "</div>"
      ],
      "text/plain": [
       "          Z_0        Z_1        Z_2       Z_3       Z_4       Z_5       Z_6  \\\n",
       "id                                                                            \n",
       "0   -2.346302  -1.026583 -10.363716 -8.054260  7.519907  1.860217  9.056866   \n",
       "1   -3.296776  -8.487700   9.175655  1.097409 -1.766353 -2.293392 -2.247549   \n",
       "2   12.839610   4.475612  -5.213528 -5.722660 -4.073390 -5.661766  5.967037   \n",
       "3   13.237325  13.605183  -5.958039  4.392244  4.763587  3.781628 -2.722725   \n",
       "4    4.161311   2.520646   7.171650  1.301273 -5.408190  4.651314  9.639546   \n",
       "\n",
       "         Z_7        Z_8       Z_9  fraud  \n",
       "id                                        \n",
       "0   0.392113 -12.937505 -0.801264      0  \n",
       "1  -0.041269   8.216953  8.883102      0  \n",
       "2  -9.826743 -17.443248  5.266470      0  \n",
       "3  -5.814775  11.236515  2.582494      0  \n",
       "4   4.648132   3.928619  2.358164      0  "
      ]
     },
     "execution_count": 2,
     "metadata": {},
     "output_type": "execute_result"
    }
   ],
   "source": [
    "# Read in the transaction_fraud_data.csv file into a PandasDataFrame.\n",
    "transaction_fraud_data = pd.read_csv(\n",
    "    Path(\"../Resources/transaction_fraud_data.csv\"), \n",
    "    index_col=\"id\"\n",
    ")\n",
    "\n",
    "# Review the DataFrame\n",
    "transaction_fraud_data.head()\n"
   ]
  },
  {
   "cell_type": "markdown",
   "metadata": {},
   "source": [
    "### Step 2: Answer the following question:\n",
    "\n",
    "Note that you want to predict the `fraud` variable. Answer the following question: Using `value_counts`, how many fraudulent transactions exist in this dataset?"
   ]
  },
  {
   "cell_type": "code",
   "execution_count": 3,
   "metadata": {},
   "outputs": [
    {
     "data": {
      "text/plain": [
       "0    993\n",
       "1      7\n",
       "Name: fraud, dtype: int64"
      ]
     },
     "execution_count": 3,
     "metadata": {},
     "output_type": "execute_result"
    }
   ],
   "source": [
    "# The  column 'fraud' is the thing you want to predict. \n",
    "# Class 0 indicates no-fraud trasactions and class 1 indicates fraudulent transactions\n",
    "# Using value_counts, how many fraudulent transactions are in this dataset?\n",
    "transaction_fraud_data[\"fraud\"].value_counts()"
   ]
  },
  {
   "cell_type": "markdown",
   "metadata": {},
   "source": [
    "# Split the data into training and testing sets"
   ]
  },
  {
   "cell_type": "markdown",
   "metadata": {},
   "source": [
    "### Step 1: Using the `transaction_fraud_data` DataFrame, separate the data into training and testing data. Start by defining the `target` (the “fraud” column) and the `features` of the data (all the columns except “fraud”)."
   ]
  },
  {
   "cell_type": "code",
   "execution_count": 4,
   "metadata": {},
   "outputs": [],
   "source": [
    "# The target column should be the binary `fraud` column.\n",
    "target = transaction_fraud_data[\"fraud\"]\n",
    "\n",
    "\n",
    "# The features column should be all of the features. \n",
    "features = transaction_fraud_data.drop(columns=\"fraud\")\n"
   ]
  },
  {
   "cell_type": "markdown",
   "metadata": {},
   "source": [
    "### Step 2: Split the features and target data into `training_features`, `testing_features`, `training_targets`, and `testing_targets` datasets by using the `train_test_split` function."
   ]
  },
  {
   "cell_type": "code",
   "execution_count": 5,
   "metadata": {},
   "outputs": [],
   "source": [
    "# Split the dataset using the train_test_split function\n",
    "training_features, testing_features, training_targets, testing_targets = train_test_split(features, target)"
   ]
  },
  {
   "cell_type": "markdown",
   "metadata": {},
   "source": [
    "# Model and Fit the Data to a Logistic Regression"
   ]
  },
  {
   "cell_type": "markdown",
   "metadata": {},
   "source": [
    "### Step 1: Declare a `LogisticRegression` model."
   ]
  },
  {
   "cell_type": "code",
   "execution_count": 6,
   "metadata": {},
   "outputs": [],
   "source": [
    "# Declare a logistic regression model.\n",
    "# Apply a random_state of 7 to the model\n",
    "logistic_regression_model = LogisticRegression(random_state=7)"
   ]
  },
  {
   "cell_type": "markdown",
   "metadata": {},
   "source": [
    "### Step 2: Fit the training data to the model, and save the model."
   ]
  },
  {
   "cell_type": "code",
   "execution_count": 7,
   "metadata": {},
   "outputs": [],
   "source": [
    "# Fit and save the logistic regression model using the training data\n",
    "lr_model = logistic_regression_model.fit(training_features, training_targets)"
   ]
  },
  {
   "cell_type": "markdown",
   "metadata": {},
   "source": [
    "# Predict the Testing Labels"
   ]
  },
  {
   "cell_type": "markdown",
   "metadata": {},
   "source": [
    "### Step 1: Make predictions about fraud by using the testing dataset, and save those predictions."
   ]
  },
  {
   "cell_type": "code",
   "execution_count": 8,
   "metadata": {},
   "outputs": [
    {
     "data": {
      "text/plain": [
       "array([0, 0, 0, 0, 0, 0, 0, 0, 0, 0, 0, 0, 0, 0, 0, 0, 0, 0, 0, 0, 0, 0,\n",
       "       0, 0, 0, 0, 0, 0, 0, 0, 0, 0, 0, 0, 0, 0, 0, 0, 0, 0, 0, 0, 0, 0,\n",
       "       0, 0, 0, 0, 0, 0, 0, 0, 0, 0, 0, 0, 0, 0, 0, 0, 0, 0, 0, 0, 0, 0,\n",
       "       0, 0, 0, 0, 0, 0, 0, 0, 0, 0, 0, 0, 0, 0, 0, 0, 0, 0, 0, 0, 0, 0,\n",
       "       0, 0, 0, 0, 0, 0, 0, 0, 0, 0, 0, 0, 0, 0, 0, 0, 0, 0, 0, 0, 0, 0,\n",
       "       0, 0, 0, 0, 0, 0, 0, 0, 0, 0, 0, 0, 0, 0, 0, 0, 0, 0, 0, 0, 0, 0,\n",
       "       0, 0, 0, 0, 0, 0, 0, 0, 0, 0, 0, 0, 0, 0, 0, 0, 0, 0, 0, 0, 0, 0,\n",
       "       0, 0, 0, 0, 0, 0, 0, 0, 0, 0, 0, 0, 0, 0, 0, 0, 0, 0, 0, 0, 0, 0,\n",
       "       0, 0, 0, 0, 0, 0, 0, 0, 0, 0, 0, 0, 0, 0, 0, 0, 0, 0, 0, 0, 0, 0,\n",
       "       0, 0, 0, 0, 0, 0, 0, 0, 0, 0, 0, 0, 0, 0, 0, 0, 0, 0, 0, 0, 0, 0,\n",
       "       0, 0, 0, 0, 0, 0, 0, 0, 0, 0, 0, 0, 0, 0, 0, 0, 0, 0, 0, 0, 0, 0,\n",
       "       0, 0, 0, 0, 0, 0, 0, 0])"
      ]
     },
     "execution_count": 8,
     "metadata": {},
     "output_type": "execute_result"
    }
   ],
   "source": [
    "# Make and save testing predictions with the saved logistic regression model using the test data\n",
    "testing_predictions = lr_model.predict(testing_features)\n",
    "\n",
    "# Review the predictions\n",
    "testing_predictions"
   ]
  },
  {
   "cell_type": "markdown",
   "metadata": {},
   "source": [
    "# Calculate the Performance Metrics"
   ]
  },
  {
   "cell_type": "markdown",
   "metadata": {},
   "source": [
    "### Step 1: Calculate the accuracy score by evaluating `testing_targets` vs. `testing_predictions`."
   ]
  },
  {
   "cell_type": "code",
   "execution_count": 9,
   "metadata": {},
   "outputs": [
    {
     "data": {
      "text/plain": [
       "0.996"
      ]
     },
     "execution_count": 9,
     "metadata": {},
     "output_type": "execute_result"
    }
   ],
   "source": [
    "# Display the accuracy score for the test dataset.\n",
    "accuracy_score(testing_targets, testing_predictions)"
   ]
  },
  {
   "cell_type": "markdown",
   "metadata": {},
   "source": [
    "### Step 2: Answer the following question"
   ]
  },
  {
   "cell_type": "markdown",
   "metadata": {},
   "source": [
    "**Question:**: For this dataset, how well did the model predict the actual fraudulent transactions?\n",
    "\n",
    "**Answer:**: For this test data: Accuracy looks extremely good:  approximately 99% of the transactions in the test data were accurately categorized by the model. However, based on `value_counts`, there were very few transactions in the data that were actually fraudulent, and so our model could have had high accuracy by simply predicting all transactions to be valid. In subsequent lessons, we'll discuss how to deal with this type of **imbalanced class** problem.  "
   ]
  },
  {
   "cell_type": "code",
   "execution_count": null,
   "metadata": {},
   "outputs": [],
   "source": []
  }
 ],
 "metadata": {
  "kernelspec": {
   "display_name": "Python 3 (ipykernel)",
   "language": "python",
   "name": "python3"
  },
  "language_info": {
   "codemirror_mode": {
    "name": "ipython",
    "version": 3
   },
   "file_extension": ".py",
   "mimetype": "text/x-python",
   "name": "python",
   "nbconvert_exporter": "python",
   "pygments_lexer": "ipython3",
   "version": "3.8.11"
  },
  "nteract": {
   "version": "0.28.0"
  }
 },
 "nbformat": 4,
 "nbformat_minor": 4
}
