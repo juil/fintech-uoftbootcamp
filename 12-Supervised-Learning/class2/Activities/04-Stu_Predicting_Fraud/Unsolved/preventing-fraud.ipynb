{
  "cells": [
    {
      "cell_type": "markdown",
      "source": [
        "# Students Do: Predicting Fraudulent Loans Applications\n",
        "\n",
        "Every year, banks and credit card companies lose billions of dollars to compensating users for fraudulent loan or credit card applications. That's one reason why predicting fraud using machine learning techniques becomes a [broad area of research](https://scholar.google.com.mx/scholar?q=fraud+detection+machine+learning&btnG=&oq=fraud+detection+) and a great [business opportunity for FinTech startups](https://www.eu-startups.com/2019/06/paris-based-fintech-bleckwen-raises-e8-8-million-for-its-fraud-detection-software-to-prevent-financial-crime/).\n",
        "\n",
        "In this activity, you are going to explore how tree-based algorithms can be used to identify fraudulent loan applications. You will start using a decision tree model that will be trained with the `sba_loans_encoded.csv` file that you created before."
      ],
      "metadata": {}
    },
    {
      "cell_type": "code",
      "source": [
        "# Initial imports\n",
        "import pandas as pd\n",
        "from pathlib import Path\n",
        "from sklearn import tree\n",
        "from sklearn.preprocessing import StandardScaler\n",
        "from sklearn.model_selection import train_test_split\n",
        "from sklearn.metrics import confusion_matrix, accuracy_score, classification_report\n",
        "\n",
        "# Needed for decision tree visualization\n",
        "import pydotplus\n",
        "from IPython.display import Image\n"
      ],
      "outputs": [],
      "execution_count": null,
      "metadata": {}
    },
    {
      "cell_type": "markdown",
      "source": [
        "## Loading and Preprocessing Loans Encoded Data\n",
        "\n",
        "Load the `sba_loans_encoded.csv` in a pandas DataFrame called `df_loans`."
      ],
      "metadata": {}
    },
    {
      "cell_type": "code",
      "source": [
        "# Loading data\n",
        "\n"
      ],
      "outputs": [],
      "execution_count": null,
      "metadata": {}
    },
    {
      "cell_type": "markdown",
      "source": [
        "Define the features set, by copying the `df_loans` DataFrame and dropping the `Default` column."
      ],
      "metadata": {}
    },
    {
      "cell_type": "code",
      "source": [
        "# Define features set\n",
        "\n"
      ],
      "outputs": [],
      "execution_count": null,
      "metadata": {}
    },
    {
      "cell_type": "markdown",
      "source": [
        "Create the target vector by assigning the values of the `Default` column from the `df_loans` DataFrame."
      ],
      "metadata": {}
    },
    {
      "cell_type": "code",
      "source": [
        "# Define target vector\n",
        "\n"
      ],
      "outputs": [],
      "execution_count": null,
      "metadata": {}
    },
    {
      "cell_type": "markdown",
      "source": [
        "Split the data into training and testing sets."
      ],
      "metadata": {}
    },
    {
      "cell_type": "code",
      "source": [
        "# Splitting into Train and Test sets\n",
        "\n"
      ],
      "outputs": [],
      "execution_count": null,
      "metadata": {}
    },
    {
      "cell_type": "markdown",
      "source": [
        "Use the `StandardScaler` to scale the features data, remember that only `X_train` and `X_testing` DataFrames should be scaled."
      ],
      "metadata": {}
    },
    {
      "cell_type": "code",
      "source": [
        "# Create the StandardScaler instance\n",
        "\n"
      ],
      "outputs": [],
      "execution_count": null,
      "metadata": {}
    },
    {
      "cell_type": "code",
      "source": [
        "# Fit the Standard Scaler with the training data\n",
        "\n"
      ],
      "outputs": [],
      "execution_count": null,
      "metadata": {}
    },
    {
      "cell_type": "code",
      "source": [
        "# Scale the training data\n",
        "\n"
      ],
      "outputs": [],
      "execution_count": null,
      "metadata": {}
    },
    {
      "cell_type": "markdown",
      "source": [
        "## Fitting the Decision Tree Model\n",
        "\n",
        "Once data is scaled, create a decision tree instance and train it with the training data (`X_train_scaled` and `y_train`)."
      ],
      "metadata": {}
    },
    {
      "cell_type": "code",
      "source": [
        "# Create the decision tree classifier instance\n",
        "\n"
      ],
      "outputs": [],
      "execution_count": null,
      "metadata": {}
    },
    {
      "cell_type": "code",
      "source": [
        "# Fit the model\n",
        "\n"
      ],
      "outputs": [],
      "execution_count": null,
      "metadata": {}
    },
    {
      "cell_type": "markdown",
      "source": [
        "## Making Predictions Using the Tree Model\n",
        "\n",
        "Validate the trained model, by predicting fraudulent loan applications using the testing data (`X_test_scaled`)."
      ],
      "metadata": {}
    },
    {
      "cell_type": "code",
      "source": [
        "# Making predictions using the testing data\n",
        "\n"
      ],
      "outputs": [],
      "execution_count": null,
      "metadata": {}
    },
    {
      "cell_type": "markdown",
      "source": [
        "## Model Evaluation\n",
        "\n",
        "Evaluate model's results, by using `sklearn` to calculate the confusion matrix, the accuracy score and to generate the classification report."
      ],
      "metadata": {}
    },
    {
      "cell_type": "code",
      "source": [
        "# Calculating the confusion matrix\n",
        "\n",
        "# Calculating the accuracy score\n",
        "\n"
      ],
      "outputs": [],
      "execution_count": null,
      "metadata": {}
    },
    {
      "cell_type": "code",
      "source": [
        "# Displaying results\n",
        "\n"
      ],
      "outputs": [],
      "execution_count": null,
      "metadata": {}
    },
    {
      "cell_type": "markdown",
      "source": [
        "## Visualizing the Decision Tree\n",
        "\n",
        "In this section, you should create a visual representation of the decision tree using `pydotplus`. Show the graph on the notebook, and also save it in `PDF` and `PNG` formats."
      ],
      "metadata": {}
    },
    {
      "cell_type": "code",
      "source": [
        "# Create DOT data\n",
        "\n",
        "# Draw graph\n",
        "\n",
        "# Show graph\n",
        "\n"
      ],
      "outputs": [],
      "execution_count": null,
      "metadata": {}
    },
    {
      "cell_type": "code",
      "source": [
        "# Saving the tree as PDF\n",
        "\n",
        "\n",
        "# Saving the tree as PNG\n",
        "\n"
      ],
      "outputs": [],
      "execution_count": null,
      "metadata": {}
    },
    {
      "cell_type": "markdown",
      "source": [
        "## Analysis Question\n",
        "\n",
        "Finally, analyze the model's evaluation results and answer the following question.\n",
        "\n",
        "* Would you trust in this model to deploy a loans application approval solution in a bank?\n",
        "\n",
        " * **Your answer here**"
      ],
      "metadata": {}
    }
  ],
  "metadata": {
    "pygments_lexer": "ipython3",
    "name": "python",
    "mimetype": "text/x-python",
    "npconvert_exporter": "python",
    "language_info": {
      "codemirror_mode": {
        "name": "ipython",
        "version": 3
      },
      "file_extension": ".py",
      "mimetype": "text/x-python",
      "name": "python",
      "nbconvert_exporter": "python",
      "pygments_lexer": "ipython3",
      "version": "3.7.3"
    },
    "version": 3,
    "kernelspec": {
      "display_name": "Python 3",
      "language": "python",
      "name": "python3"
    },
    "file_extension": ".py",
    "nteract": {
      "version": "0.28.0"
    }
  },
  "nbformat": 4,
  "nbformat_minor": 2
}