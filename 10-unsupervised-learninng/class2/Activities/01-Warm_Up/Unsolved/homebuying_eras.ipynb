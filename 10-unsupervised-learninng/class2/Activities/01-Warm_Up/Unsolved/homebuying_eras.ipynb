{
 "cells": [
  {
   "cell_type": "markdown",
   "metadata": {},
   "source": [
    "# Clustering National Home Markets\n",
    "\n",
    "You work for a large national bank, who has a large lending business devoted toward providing loans to people who want to borrow to buy homes across the United States. The bank wants to have a model which can identify how similar, at any given time, the national real estate market is to other real estate periods which have occured in the past. After all, quantifying the nature of today's real estate market to those that have occured in the past will help the bank understand its lending risk, as well as the potential for new growth.\n",
    "\n",
    "To that effect, you've decided to use the `KMeans` unsupervised learning algorithm to segment different periods in the U.S. market for national residential house prices."
   ]
  },
  {
   "cell_type": "code",
   "execution_count": 12,
   "metadata": {},
   "outputs": [],
   "source": [
    "# Import the modules\n",
    "import pandas as pd\n",
    "import hvplot.pandas\n",
    "from pathlib import Path\n",
    "from sklearn.cluster import KMeans"
   ]
  },
  {
   "cell_type": "markdown",
   "metadata": {},
   "source": [
    "## Read in the `national-home-sales.csv` file from the Resources folder and create a DataFrame. Set the “date” column to create the DatetimeIndex. Be sure to include parameters for `parse_dates` and `infer_datetime_format`."
   ]
  },
  {
   "cell_type": "code",
   "execution_count": 13,
   "metadata": {},
   "outputs": [
    {
     "data": {
      "text/html": [
       "<div>\n",
       "<style scoped>\n",
       "    .dataframe tbody tr th:only-of-type {\n",
       "        vertical-align: middle;\n",
       "    }\n",
       "\n",
       "    .dataframe tbody tr th {\n",
       "        vertical-align: top;\n",
       "    }\n",
       "\n",
       "    .dataframe thead th {\n",
       "        text-align: right;\n",
       "    }\n",
       "</style>\n",
       "<table border=\"1\" class=\"dataframe\">\n",
       "  <thead>\n",
       "    <tr style=\"text-align: right;\">\n",
       "      <th></th>\n",
       "      <th>inventory</th>\n",
       "      <th>homes_sold</th>\n",
       "      <th>median_sale_price</th>\n",
       "    </tr>\n",
       "    <tr>\n",
       "      <th>date</th>\n",
       "      <th></th>\n",
       "      <th></th>\n",
       "      <th></th>\n",
       "    </tr>\n",
       "  </thead>\n",
       "  <tbody>\n",
       "    <tr>\n",
       "      <th>2020-01-01</th>\n",
       "      <td>1250798</td>\n",
       "      <td>377964</td>\n",
       "      <td>289000</td>\n",
       "    </tr>\n",
       "    <tr>\n",
       "      <th>2020-02-01</th>\n",
       "      <td>1265253</td>\n",
       "      <td>405992</td>\n",
       "      <td>294000</td>\n",
       "    </tr>\n",
       "    <tr>\n",
       "      <th>2020-03-01</th>\n",
       "      <td>1316823</td>\n",
       "      <td>507324</td>\n",
       "      <td>303000</td>\n",
       "    </tr>\n",
       "    <tr>\n",
       "      <th>2020-04-01</th>\n",
       "      <td>1297460</td>\n",
       "      <td>436855</td>\n",
       "      <td>304000</td>\n",
       "    </tr>\n",
       "    <tr>\n",
       "      <th>2020-05-01</th>\n",
       "      <td>1289500</td>\n",
       "      <td>421351</td>\n",
       "      <td>299000</td>\n",
       "    </tr>\n",
       "  </tbody>\n",
       "</table>\n",
       "</div>"
      ],
      "text/plain": [
       "            inventory  homes_sold  median_sale_price\n",
       "date                                                \n",
       "2020-01-01    1250798      377964             289000\n",
       "2020-02-01    1265253      405992             294000\n",
       "2020-03-01    1316823      507324             303000\n",
       "2020-04-01    1297460      436855             304000\n",
       "2020-05-01    1289500      421351             299000"
      ]
     },
     "execution_count": 13,
     "metadata": {},
     "output_type": "execute_result"
    }
   ],
   "source": [
    "# Read in the CSV file as a Pandas DataFrame\n",
    "home_sales_df = pd.read_csv(\n",
    "  Path(\"../Resources/national-home-sales.csv\"),\n",
    "  index_col=\"date\", \n",
    "  parse_dates=True, \n",
    "  infer_datetime_format=True \n",
    ")\n",
    "\n",
    "# Review the DataFrame\n",
    "home_sales_df.head()"
   ]
  },
  {
   "cell_type": "markdown",
   "metadata": {},
   "source": [
    "## Create two lists: one to hold the list of inertia scores and another for the range of k values (from 1 to 11) to analyze."
   ]
  },
  {
   "cell_type": "code",
   "execution_count": 14,
   "metadata": {},
   "outputs": [],
   "source": [
    "# Create a a list to store inertia values\n",
    "inertia = # YOUR CODE HERE\n",
    "\n",
    "# Create a a list to store the values of k\n",
    "k = # YOUR CODE HERE"
   ]
  },
  {
   "cell_type": "markdown",
   "metadata": {},
   "source": [
    "## Using a for-loop to evaluate each instance of k, define a K-means model, fit the K-means model based on the scaled DataFrame, and append the model’s inertia to the empty inertia list that you created in the previous step."
   ]
  },
  {
   "cell_type": "code",
   "execution_count": 15,
   "metadata": {},
   "outputs": [],
   "source": [
    "# Create a for-loop where each value of k is evaluated using the K-means algorithm\n",
    "# Fit the model using the spread_df DataFrame\n",
    "# Append the value of the computed inertia from the `inertia_` attribute of the KMeans model instance\n",
    "\n",
    "# YOUR CODE HERE"
   ]
  },
  {
   "cell_type": "markdown",
   "metadata": {},
   "source": [
    "## Store the values for k and the inertia in a Dictionary called `elbow_data`. Use `elbow_data` to create a Pandas DataFrame called `df_elbow`."
   ]
  },
  {
   "cell_type": "code",
   "execution_count": 16,
   "metadata": {},
   "outputs": [
    {
     "data": {
      "text/html": [
       "<div>\n",
       "<style scoped>\n",
       "    .dataframe tbody tr th:only-of-type {\n",
       "        vertical-align: middle;\n",
       "    }\n",
       "\n",
       "    .dataframe tbody tr th {\n",
       "        vertical-align: top;\n",
       "    }\n",
       "\n",
       "    .dataframe thead th {\n",
       "        text-align: right;\n",
       "    }\n",
       "</style>\n",
       "<table border=\"1\" class=\"dataframe\">\n",
       "  <thead>\n",
       "    <tr style=\"text-align: right;\">\n",
       "      <th></th>\n",
       "      <th>k</th>\n",
       "      <th>inertia</th>\n",
       "    </tr>\n",
       "  </thead>\n",
       "  <tbody>\n",
       "    <tr>\n",
       "      <th>0</th>\n",
       "      <td>1</td>\n",
       "      <td>8.048111e+12</td>\n",
       "    </tr>\n",
       "    <tr>\n",
       "      <th>1</th>\n",
       "      <td>2</td>\n",
       "      <td>3.460149e+12</td>\n",
       "    </tr>\n",
       "    <tr>\n",
       "      <th>2</th>\n",
       "      <td>3</td>\n",
       "      <td>1.894158e+12</td>\n",
       "    </tr>\n",
       "    <tr>\n",
       "      <th>3</th>\n",
       "      <td>4</td>\n",
       "      <td>1.356238e+12</td>\n",
       "    </tr>\n",
       "    <tr>\n",
       "      <th>4</th>\n",
       "      <td>5</td>\n",
       "      <td>1.119878e+12</td>\n",
       "    </tr>\n",
       "  </tbody>\n",
       "</table>\n",
       "</div>"
      ],
      "text/plain": [
       "   k       inertia\n",
       "0  1  8.048111e+12\n",
       "1  2  3.460149e+12\n",
       "2  3  1.894158e+12\n",
       "3  4  1.356238e+12\n",
       "4  5  1.119878e+12"
      ]
     },
     "execution_count": 16,
     "metadata": {},
     "output_type": "execute_result"
    }
   ],
   "source": [
    "# Create a Dictionary that holds the list values for k and inertia\n",
    "elbow_data = # YOUR CODE HERE\n",
    "\n",
    "# Create a DataFrame using the elbow_data Dictionary\n",
    "df_elbow = # YOUR CODE HERE\n",
    "\n",
    "# Review the DataFrame\n",
    "# YOUR CODE HERE"
   ]
  },
  {
   "cell_type": "markdown",
   "metadata": {},
   "source": [
    "## Using hvPlot, plot the `df_elbow` DataFrame to visualize the elbow curve."
   ]
  },
  {
   "cell_type": "code",
   "execution_count": 17,
   "metadata": {},
   "outputs": [
    {
     "data": {},
     "metadata": {},
     "output_type": "display_data"
    },
    {
     "data": {
      "application/vnd.holoviews_exec.v0+json": "",
      "text/html": [
       "<div id='1002'>\n",
       "\n",
       "\n",
       "\n",
       "\n",
       "\n",
       "  <div class=\"bk-root\" id=\"bb7797c8-8b7b-4549-a9b2-9a715cd83998\" data-root-id=\"1002\"></div>\n",
       "</div>\n",
       "<script type=\"application/javascript\">(function(root) {\n",
       "  function embed_document(root) {\n",
       "    var docs_json = {\"5d649063-0950-440b-946b-6ecfb36d9299\":{\"defs\":[{\"extends\":null,\"module\":null,\"name\":\"ReactiveHTML1\",\"overrides\":[],\"properties\":[]},{\"extends\":null,\"module\":null,\"name\":\"FlexBox1\",\"overrides\":[],\"properties\":[{\"default\":\"flex-start\",\"kind\":null,\"name\":\"align_content\"},{\"default\":\"flex-start\",\"kind\":null,\"name\":\"align_items\"},{\"default\":\"row\",\"kind\":null,\"name\":\"flex_direction\"},{\"default\":\"wrap\",\"kind\":null,\"name\":\"flex_wrap\"},{\"default\":\"flex-start\",\"kind\":null,\"name\":\"justify_content\"}]},{\"extends\":null,\"module\":null,\"name\":\"TemplateActions1\",\"overrides\":[],\"properties\":[{\"default\":0,\"kind\":null,\"name\":\"open_modal\"},{\"default\":0,\"kind\":null,\"name\":\"close_modal\"}]},{\"extends\":null,\"module\":null,\"name\":\"MaterialTemplateActions1\",\"overrides\":[],\"properties\":[{\"default\":0,\"kind\":null,\"name\":\"open_modal\"},{\"default\":0,\"kind\":null,\"name\":\"close_modal\"}]}],\"roots\":{\"references\":[{\"attributes\":{},\"id\":\"1028\",\"type\":\"ResetTool\"},{\"attributes\":{\"line_alpha\":0.1,\"line_color\":\"#30a2da\",\"line_width\":2,\"x\":{\"field\":\"k\"},\"y\":{\"field\":\"inertia\"}},\"id\":\"1041\",\"type\":\"Line\"},{\"attributes\":{\"line_color\":\"#30a2da\",\"line_width\":2,\"x\":{\"field\":\"k\"},\"y\":{\"field\":\"inertia\"}},\"id\":\"1040\",\"type\":\"Line\"},{\"attributes\":{\"below\":[{\"id\":\"1016\"}],\"center\":[{\"id\":\"1019\"},{\"id\":\"1023\"}],\"height\":300,\"left\":[{\"id\":\"1020\"}],\"margin\":[5,5,5,5],\"min_border_bottom\":10,\"min_border_left\":10,\"min_border_right\":10,\"min_border_top\":10,\"renderers\":[{\"id\":\"1043\"}],\"sizing_mode\":\"fixed\",\"title\":{\"id\":\"1008\"},\"toolbar\":{\"id\":\"1030\"},\"width\":700,\"x_range\":{\"id\":\"1004\"},\"x_scale\":{\"id\":\"1012\"},\"y_range\":{\"id\":\"1005\"},\"y_scale\":{\"id\":\"1014\"}},\"id\":\"1007\",\"subtype\":\"Figure\",\"type\":\"Plot\"},{\"attributes\":{},\"id\":\"1047\",\"type\":\"BasicTickFormatter\"},{\"attributes\":{},\"id\":\"1038\",\"type\":\"Selection\"},{\"attributes\":{\"data_source\":{\"id\":\"1037\"},\"glyph\":{\"id\":\"1040\"},\"hover_glyph\":null,\"muted_glyph\":{\"id\":\"1042\"},\"nonselection_glyph\":{\"id\":\"1041\"},\"selection_glyph\":{\"id\":\"1045\"},\"view\":{\"id\":\"1044\"}},\"id\":\"1043\",\"type\":\"GlyphRenderer\"},{\"attributes\":{\"axis_label\":\"k\",\"formatter\":{\"id\":\"1047\"},\"major_label_policy\":{\"id\":\"1049\"},\"ticker\":{\"id\":\"1046\"}},\"id\":\"1016\",\"type\":\"LinearAxis\"},{\"attributes\":{\"children\":[{\"id\":\"1003\"},{\"id\":\"1007\"},{\"id\":\"1073\"}],\"margin\":[0,0,0,0],\"name\":\"Row01627\",\"tags\":[\"embedded\"]},\"id\":\"1002\",\"type\":\"Row\"},{\"attributes\":{\"ticks\":[1,2,3,4,5,6,7,8,9,10]},\"id\":\"1046\",\"type\":\"FixedTicker\"},{\"attributes\":{\"source\":{\"id\":\"1037\"}},\"id\":\"1044\",\"type\":\"CDSView\"},{\"attributes\":{},\"id\":\"1052\",\"type\":\"BasicTickFormatter\"},{\"attributes\":{\"line_alpha\":0.2,\"line_color\":\"#30a2da\",\"line_width\":2,\"x\":{\"field\":\"k\"},\"y\":{\"field\":\"inertia\"}},\"id\":\"1042\",\"type\":\"Line\"},{\"attributes\":{\"end\":8804767846615.557,\"reset_end\":8804767846615.557,\"reset_start\":-275112376072.912,\"start\":-275112376072.912,\"tags\":[[[\"inertia\",\"inertia\",null]]]},\"id\":\"1005\",\"type\":\"Range1d\"},{\"attributes\":{\"bottom_units\":\"screen\",\"fill_alpha\":0.5,\"fill_color\":\"lightgrey\",\"left_units\":\"screen\",\"level\":\"overlay\",\"line_alpha\":1.0,\"line_color\":\"black\",\"line_dash\":[4,4],\"line_width\":2,\"right_units\":\"screen\",\"syncable\":false,\"top_units\":\"screen\"},\"id\":\"1029\",\"type\":\"BoxAnnotation\"},{\"attributes\":{\"callback\":null,\"renderers\":[{\"id\":\"1043\"}],\"tags\":[\"hv_created\"],\"tooltips\":[[\"k\",\"@{k}\"],[\"inertia\",\"@{inertia}\"]]},\"id\":\"1006\",\"type\":\"HoverTool\"},{\"attributes\":{},\"id\":\"1054\",\"type\":\"AllLabels\"},{\"attributes\":{\"text\":\"Elbow Curve\",\"text_color\":\"black\",\"text_font_size\":\"12pt\"},\"id\":\"1008\",\"type\":\"Title\"},{\"attributes\":{},\"id\":\"1063\",\"type\":\"UnionRenderers\"},{\"attributes\":{\"end\":10.0,\"reset_end\":10.0,\"reset_start\":1.0,\"start\":1.0,\"tags\":[[[\"k\",\"k\",null]]]},\"id\":\"1004\",\"type\":\"Range1d\"},{\"attributes\":{\"margin\":[5,5,5,5],\"name\":\"HSpacer01632\",\"sizing_mode\":\"stretch_width\"},\"id\":\"1073\",\"type\":\"Spacer\"},{\"attributes\":{},\"id\":\"1012\",\"type\":\"LinearScale\"},{\"attributes\":{},\"id\":\"1049\",\"type\":\"AllLabels\"},{\"attributes\":{},\"id\":\"1025\",\"type\":\"PanTool\"},{\"attributes\":{},\"id\":\"1014\",\"type\":\"LinearScale\"},{\"attributes\":{\"axis\":{\"id\":\"1016\"},\"grid_line_color\":null,\"ticker\":null},\"id\":\"1019\",\"type\":\"Grid\"},{\"attributes\":{\"axis\":{\"id\":\"1020\"},\"dimension\":1,\"grid_line_color\":null,\"ticker\":null},\"id\":\"1023\",\"type\":\"Grid\"},{\"attributes\":{\"data\":{\"inertia\":{\"__ndarray__\":\"Er5AOmNHnULrmCaqBy2JQufptDlKkHtCAdrHhWG8c0IN84Fp3ktwQkFcW/aP82lCOclGVaBxZkKGNis5qsJiQkXshgwdRGBCIshnwpEHXEI=\",\"dtype\":\"float64\",\"order\":\"little\",\"shape\":[10]},\"k\":[1,2,3,4,5,6,7,8,9,10]},\"selected\":{\"id\":\"1038\"},\"selection_policy\":{\"id\":\"1063\"}},\"id\":\"1037\",\"type\":\"ColumnDataSource\"},{\"attributes\":{\"axis_label\":\"inertia\",\"formatter\":{\"id\":\"1052\"},\"major_label_policy\":{\"id\":\"1054\"},\"ticker\":{\"id\":\"1021\"}},\"id\":\"1020\",\"type\":\"LinearAxis\"},{\"attributes\":{\"line_color\":\"#30a2da\",\"line_width\":2,\"x\":{\"field\":\"k\"},\"y\":{\"field\":\"inertia\"}},\"id\":\"1045\",\"type\":\"Line\"},{\"attributes\":{},\"id\":\"1021\",\"type\":\"BasicTicker\"},{\"attributes\":{\"margin\":[5,5,5,5],\"name\":\"HSpacer01631\",\"sizing_mode\":\"stretch_width\"},\"id\":\"1003\",\"type\":\"Spacer\"},{\"attributes\":{},\"id\":\"1026\",\"type\":\"WheelZoomTool\"},{\"attributes\":{\"overlay\":{\"id\":\"1029\"}},\"id\":\"1027\",\"type\":\"BoxZoomTool\"},{\"attributes\":{},\"id\":\"1024\",\"type\":\"SaveTool\"},{\"attributes\":{\"active_multi\":null,\"tools\":[{\"id\":\"1006\"},{\"id\":\"1024\"},{\"id\":\"1025\"},{\"id\":\"1026\"},{\"id\":\"1027\"},{\"id\":\"1028\"}]},\"id\":\"1030\",\"type\":\"Toolbar\"}],\"root_ids\":[\"1002\"]},\"title\":\"Bokeh Application\",\"version\":\"2.3.2\"}};\n",
       "    var render_items = [{\"docid\":\"5d649063-0950-440b-946b-6ecfb36d9299\",\"root_ids\":[\"1002\"],\"roots\":{\"1002\":\"bb7797c8-8b7b-4549-a9b2-9a715cd83998\"}}];\n",
       "    root.Bokeh.embed.embed_items_notebook(docs_json, render_items);\n",
       "  }\n",
       "  if (root.Bokeh !== undefined && root.Bokeh.Panel !== undefined) {\n",
       "    embed_document(root);\n",
       "  } else {\n",
       "    var attempts = 0;\n",
       "    var timer = setInterval(function(root) {\n",
       "      if (root.Bokeh !== undefined && root.Bokeh.Panel !== undefined) {\n",
       "        clearInterval(timer);\n",
       "        embed_document(root);\n",
       "      } else if (document.readyState == \"complete\") {\n",
       "        attempts++;\n",
       "        if (attempts > 200) {\n",
       "          clearInterval(timer);\n",
       "          console.log(\"Bokeh: ERROR: Unable to run BokehJS code because BokehJS library is missing\");\n",
       "        }\n",
       "      }\n",
       "    }, 25, root)\n",
       "  }\n",
       "})(window);</script>"
      ],
      "text/plain": [
       ":Curve   [k]   (inertia)"
      ]
     },
     "execution_count": 17,
     "metadata": {
      "application/vnd.holoviews_exec.v0+json": {
       "id": "1002"
      }
     },
     "output_type": "execute_result"
    }
   ],
   "source": [
    "# Plot the DataFrame\n",
    "# YOUR CODE HERE"
   ]
  },
  {
   "cell_type": "markdown",
   "metadata": {},
   "source": [
    "## Perform the following tasks for each of the two most likely values of `k`:\n",
    "\n",
    "* Define a K-means model using `k` to define the clusters, fit the model, make predictions, and add the prediction values to a copy of the scaled DataFrame and call it `spread_predictions_df`.\n",
    "\n",
    "* Plot the clusters. The x-axis should reflect home \"inventory\", and the y-axis should reflect either the \"median_sale_price\" or \"homes_sold\" variable."
   ]
  },
  {
   "cell_type": "code",
   "execution_count": 24,
   "metadata": {},
   "outputs": [],
   "source": [
    "# Define the model with the lower value of k clusters\n",
    "# Use a random_state of 1 to generate the model\n",
    "model = # YOUR CODE HERE\n",
    "\n",
    "# Fit the model\n",
    "# YOUR CODE HERE\n",
    "\n",
    "# Make predictions\n",
    "k_lower = # YOUR CODE HERE\n",
    "\n",
    "# Create a copy of the DataFrame and name it as spread_df_predictions\n",
    "home_sales_predictions_df = # YOUR CODE HERE\n",
    "\n",
    "# Add a class column with the labels to the spread_df_predictions DataFrame\n",
    "home_sales_predictions_df['clusters_lower'] = k_lower"
   ]
  },
  {
   "cell_type": "code",
   "execution_count": 26,
   "metadata": {},
   "outputs": [
    {
     "data": {},
     "metadata": {},
     "output_type": "display_data"
    },
    {
     "data": {
      "application/vnd.holoviews_exec.v0+json": "",
      "text/html": [
       "<div id='1708'>\n",
       "\n",
       "\n",
       "\n",
       "\n",
       "\n",
       "  <div class=\"bk-root\" id=\"a0a02dae-ce24-4ea6-948a-60cc0d4dd8f7\" data-root-id=\"1708\"></div>\n",
       "</div>\n",
       "<script type=\"application/javascript\">(function(root) {\n",
       "  function embed_document(root) {\n",
       "    var docs_json = {\"5686ae3e-72a8-4120-917e-2dcfe16aaa47\":{\"defs\":[{\"extends\":null,\"module\":null,\"name\":\"ReactiveHTML1\",\"overrides\":[],\"properties\":[]},{\"extends\":null,\"module\":null,\"name\":\"FlexBox1\",\"overrides\":[],\"properties\":[{\"default\":\"flex-start\",\"kind\":null,\"name\":\"align_content\"},{\"default\":\"flex-start\",\"kind\":null,\"name\":\"align_items\"},{\"default\":\"row\",\"kind\":null,\"name\":\"flex_direction\"},{\"default\":\"wrap\",\"kind\":null,\"name\":\"flex_wrap\"},{\"default\":\"flex-start\",\"kind\":null,\"name\":\"justify_content\"}]},{\"extends\":null,\"module\":null,\"name\":\"TemplateActions1\",\"overrides\":[],\"properties\":[{\"default\":0,\"kind\":null,\"name\":\"open_modal\"},{\"default\":0,\"kind\":null,\"name\":\"close_modal\"}]},{\"extends\":null,\"module\":null,\"name\":\"MaterialTemplateActions1\",\"overrides\":[],\"properties\":[{\"default\":0,\"kind\":null,\"name\":\"open_modal\"},{\"default\":0,\"kind\":null,\"name\":\"close_modal\"}]}],\"roots\":{\"references\":[{\"attributes\":{\"data_source\":{\"id\":\"1754\"},\"glyph\":{\"id\":\"1757\"},\"hover_glyph\":null,\"muted_glyph\":{\"id\":\"1759\"},\"nonselection_glyph\":{\"id\":\"1758\"},\"selection_glyph\":{\"id\":\"1773\"},\"view\":{\"id\":\"1761\"}},\"id\":\"1760\",\"type\":\"GlyphRenderer\"},{\"attributes\":{\"angle\":{\"value\":0.0},\"fill_alpha\":{\"value\":1.0},\"fill_color\":{\"value\":\"#e5ae38\"},\"hatch_alpha\":{\"value\":1.0},\"hatch_color\":{\"value\":\"black\"},\"hatch_scale\":{\"value\":12.0},\"hatch_weight\":{\"value\":1.0},\"line_alpha\":{\"value\":1.0},\"line_cap\":{\"value\":\"butt\"},\"line_color\":{\"value\":\"#e5ae38\"},\"line_dash\":{\"value\":[]},\"line_dash_offset\":{\"value\":0},\"line_join\":{\"value\":\"bevel\"},\"line_width\":{\"value\":1},\"marker\":{\"value\":\"circle\"},\"size\":{\"value\":5.477225575051661},\"x\":{\"field\":\"inventory\"},\"y\":{\"field\":\"homes_sold\"}},\"id\":\"1817\",\"type\":\"Scatter\"},{\"attributes\":{\"label\":{\"value\":\"2\"},\"renderers\":[{\"id\":\"1801\"}]},\"id\":\"1816\",\"type\":\"LegendItem\"},{\"attributes\":{\"label\":{\"value\":\"1\"},\"renderers\":[{\"id\":\"1780\"}]},\"id\":\"1793\",\"type\":\"LegendItem\"},{\"attributes\":{},\"id\":\"1755\",\"type\":\"Selection\"},{\"attributes\":{\"source\":{\"id\":\"1774\"}},\"id\":\"1781\",\"type\":\"CDSView\"},{\"attributes\":{\"text_color\":\"black\",\"text_font_size\":\"12pt\"},\"id\":\"1716\",\"type\":\"Title\"},{\"attributes\":{\"margin\":[5,5,5,5],\"name\":\"HSpacer03221\",\"sizing_mode\":\"stretch_width\"},\"id\":\"1935\",\"type\":\"Spacer\"},{\"attributes\":{\"margin\":[5,5,5,5],\"name\":\"HSpacer03220\",\"sizing_mode\":\"stretch_width\"},\"id\":\"1709\",\"type\":\"Spacer\"},{\"attributes\":{\"end\":2210291.5714285714,\"reset_end\":2210291.5714285714,\"reset_start\":1019914.4285714285,\"start\":1019914.4285714285,\"tags\":[[[\"inventory\",\"inventory\",null]]]},\"id\":\"1710\",\"type\":\"Range1d\"},{\"attributes\":{\"data\":{\"clusters_lower\":[0,0,0,0,0,0,0,0,0,0,0,0,0,0,0,0,0,0,0,0,0,0,0,0,0,0,0,0,0,0,0,0,0],\"homes_sold\":[304737,394034,404927,464281,487959,451243,485480,392397,423079,534797,526615,548495,537397,448002,447647,384211,444227,507516,542753,534616,514686,469975,480451,378599,496899,545672,633602,624705,564118,525632,496814,661162,584704],\"inventory\":[2078931,2120173,2155803,2163303,2145658,2109202,2048712,2010080,1936114,1911782,1953106,1983624,1984408,1990299,1963663,1863258,1889755,1963564,2040323,2114760,2104706,2090802,2030677,1905627,1925430,2011729,2047119,2062443,2032207,2002245,1930467,1871580,1890218]},\"selected\":{\"id\":\"1755\"},\"selection_policy\":{\"id\":\"1770\"}},\"id\":\"1754\",\"type\":\"ColumnDataSource\"},{\"attributes\":{\"bottom_units\":\"screen\",\"fill_alpha\":0.5,\"fill_color\":\"lightgrey\",\"left_units\":\"screen\",\"level\":\"overlay\",\"line_alpha\":1.0,\"line_color\":\"black\",\"line_dash\":[4,4],\"line_width\":2,\"right_units\":\"screen\",\"syncable\":false,\"top_units\":\"screen\"},\"id\":\"1737\",\"type\":\"BoxAnnotation\"},{\"attributes\":{\"label\":{\"value\":\"0\"},\"renderers\":[{\"id\":\"1760\"}]},\"id\":\"1772\",\"type\":\"LegendItem\"},{\"attributes\":{\"fill_alpha\":{\"value\":0.1},\"fill_color\":{\"value\":\"#30a2da\"},\"line_alpha\":{\"value\":0.1},\"line_color\":{\"value\":\"#30a2da\"},\"size\":{\"value\":5.477225575051661},\"x\":{\"field\":\"inventory\"},\"y\":{\"field\":\"homes_sold\"}},\"id\":\"1758\",\"type\":\"Scatter\"},{\"attributes\":{\"callback\":null,\"renderers\":[{\"id\":\"1760\"},{\"id\":\"1780\"},{\"id\":\"1801\"}],\"tags\":[\"hv_created\"],\"tooltips\":[[\"clusters_lower\",\"@{clusters_lower}\"],[\"inventory\",\"@{inventory}\"],[\"homes_sold\",\"@{homes_sold}\"]]},\"id\":\"1712\",\"type\":\"HoverTool\"},{\"attributes\":{\"source\":{\"id\":\"1754\"}},\"id\":\"1761\",\"type\":\"CDSView\"},{\"attributes\":{\"angle\":{\"value\":0.0},\"fill_alpha\":{\"value\":1.0},\"fill_color\":{\"value\":\"#30a2da\"},\"hatch_alpha\":{\"value\":1.0},\"hatch_color\":{\"value\":\"black\"},\"hatch_scale\":{\"value\":12.0},\"hatch_weight\":{\"value\":1.0},\"line_alpha\":{\"value\":1.0},\"line_cap\":{\"value\":\"butt\"},\"line_color\":{\"value\":\"#30a2da\"},\"line_dash\":{\"value\":[]},\"line_dash_offset\":{\"value\":0},\"line_join\":{\"value\":\"bevel\"},\"line_width\":{\"value\":1},\"marker\":{\"value\":\"circle\"},\"size\":{\"value\":5.477225575051661},\"x\":{\"field\":\"inventory\"},\"y\":{\"field\":\"homes_sold\"}},\"id\":\"1773\",\"type\":\"Scatter\"},{\"attributes\":{},\"id\":\"1792\",\"type\":\"UnionRenderers\"},{\"attributes\":{\"click_policy\":\"mute\",\"items\":[{\"id\":\"1772\"},{\"id\":\"1793\"},{\"id\":\"1816\"}],\"location\":[0,0],\"title\":\"clusters_lower\"},\"id\":\"1771\",\"type\":\"Legend\"},{\"attributes\":{\"data_source\":{\"id\":\"1774\"},\"glyph\":{\"id\":\"1777\"},\"hover_glyph\":null,\"muted_glyph\":{\"id\":\"1779\"},\"nonselection_glyph\":{\"id\":\"1778\"},\"selection_glyph\":{\"id\":\"1794\"},\"view\":{\"id\":\"1781\"}},\"id\":\"1780\",\"type\":\"GlyphRenderer\"},{\"attributes\":{},\"id\":\"1725\",\"type\":\"BasicTicker\"},{\"attributes\":{\"axis_label\":\"inventory\",\"formatter\":{\"id\":\"1746\"},\"major_label_policy\":{\"id\":\"1748\"},\"ticker\":{\"id\":\"1725\"}},\"id\":\"1724\",\"type\":\"LinearAxis\"},{\"attributes\":{\"fill_alpha\":{\"value\":0.2},\"fill_color\":{\"value\":\"#30a2da\"},\"line_alpha\":{\"value\":0.2},\"line_color\":{\"value\":\"#30a2da\"},\"size\":{\"value\":5.477225575051661},\"x\":{\"field\":\"inventory\"},\"y\":{\"field\":\"homes_sold\"}},\"id\":\"1759\",\"type\":\"Scatter\"},{\"attributes\":{\"fill_alpha\":{\"value\":0.1},\"fill_color\":{\"value\":\"#fc4f30\"},\"line_alpha\":{\"value\":0.1},\"line_color\":{\"value\":\"#fc4f30\"},\"size\":{\"value\":5.477225575051661},\"x\":{\"field\":\"inventory\"},\"y\":{\"field\":\"homes_sold\"}},\"id\":\"1778\",\"type\":\"Scatter\"},{\"attributes\":{\"axis\":{\"id\":\"1724\"},\"grid_line_color\":null,\"ticker\":null},\"id\":\"1727\",\"type\":\"Grid\"},{\"attributes\":{\"end\":740460.9,\"reset_end\":740460.9,\"reset_start\":263726.1,\"start\":263726.1,\"tags\":[[[\"homes_sold\",\"homes_sold\",null]]]},\"id\":\"1711\",\"type\":\"Range1d\"},{\"attributes\":{\"fill_color\":{\"value\":\"#30a2da\"},\"line_color\":{\"value\":\"#30a2da\"},\"size\":{\"value\":5.477225575051661},\"x\":{\"field\":\"inventory\"},\"y\":{\"field\":\"homes_sold\"}},\"id\":\"1757\",\"type\":\"Scatter\"},{\"attributes\":{},\"id\":\"1729\",\"type\":\"BasicTicker\"},{\"attributes\":{},\"id\":\"1770\",\"type\":\"UnionRenderers\"},{\"attributes\":{},\"id\":\"1720\",\"type\":\"LinearScale\"},{\"attributes\":{},\"id\":\"1722\",\"type\":\"LinearScale\"},{\"attributes\":{},\"id\":\"1796\",\"type\":\"Selection\"},{\"attributes\":{\"source\":{\"id\":\"1795\"}},\"id\":\"1802\",\"type\":\"CDSView\"},{\"attributes\":{\"below\":[{\"id\":\"1724\"}],\"center\":[{\"id\":\"1727\"},{\"id\":\"1731\"}],\"height\":300,\"left\":[{\"id\":\"1728\"}],\"margin\":[5,5,5,5],\"min_border_bottom\":10,\"min_border_left\":10,\"min_border_right\":10,\"min_border_top\":10,\"renderers\":[{\"id\":\"1760\"},{\"id\":\"1780\"},{\"id\":\"1801\"}],\"right\":[{\"id\":\"1771\"}],\"sizing_mode\":\"fixed\",\"title\":{\"id\":\"1716\"},\"toolbar\":{\"id\":\"1738\"},\"width\":700,\"x_range\":{\"id\":\"1710\"},\"x_scale\":{\"id\":\"1720\"},\"y_range\":{\"id\":\"1711\"},\"y_scale\":{\"id\":\"1722\"}},\"id\":\"1715\",\"subtype\":\"Figure\",\"type\":\"Plot\"},{\"attributes\":{},\"id\":\"1775\",\"type\":\"Selection\"},{\"attributes\":{\"angle\":{\"value\":0.0},\"fill_alpha\":{\"value\":1.0},\"fill_color\":{\"value\":\"#fc4f30\"},\"hatch_alpha\":{\"value\":1.0},\"hatch_color\":{\"value\":\"black\"},\"hatch_scale\":{\"value\":12.0},\"hatch_weight\":{\"value\":1.0},\"line_alpha\":{\"value\":1.0},\"line_cap\":{\"value\":\"butt\"},\"line_color\":{\"value\":\"#fc4f30\"},\"line_dash\":{\"value\":[]},\"line_dash_offset\":{\"value\":0},\"line_join\":{\"value\":\"bevel\"},\"line_width\":{\"value\":1},\"marker\":{\"value\":\"circle\"},\"size\":{\"value\":5.477225575051661},\"x\":{\"field\":\"inventory\"},\"y\":{\"field\":\"homes_sold\"}},\"id\":\"1794\",\"type\":\"Scatter\"},{\"attributes\":{},\"id\":\"1815\",\"type\":\"UnionRenderers\"},{\"attributes\":{\"children\":[{\"id\":\"1709\"},{\"id\":\"1715\"},{\"id\":\"1935\"}],\"margin\":[0,0,0,0],\"name\":\"Row03216\",\"tags\":[\"embedded\"]},\"id\":\"1708\",\"type\":\"Row\"},{\"attributes\":{},\"id\":\"1751\",\"type\":\"AllLabels\"},{\"attributes\":{},\"id\":\"1746\",\"type\":\"BasicTickFormatter\"},{\"attributes\":{},\"id\":\"1733\",\"type\":\"PanTool\"},{\"attributes\":{\"fill_color\":{\"value\":\"#fc4f30\"},\"line_color\":{\"value\":\"#fc4f30\"},\"size\":{\"value\":5.477225575051661},\"x\":{\"field\":\"inventory\"},\"y\":{\"field\":\"homes_sold\"}},\"id\":\"1777\",\"type\":\"Scatter\"},{\"attributes\":{\"fill_alpha\":{\"value\":0.2},\"fill_color\":{\"value\":\"#e5ae38\"},\"line_alpha\":{\"value\":0.2},\"line_color\":{\"value\":\"#e5ae38\"},\"size\":{\"value\":5.477225575051661},\"x\":{\"field\":\"inventory\"},\"y\":{\"field\":\"homes_sold\"}},\"id\":\"1800\",\"type\":\"Scatter\"},{\"attributes\":{\"format\":\"%.0f\"},\"id\":\"1745\",\"type\":\"PrintfTickFormatter\"},{\"attributes\":{\"axis_label\":\"homes_sold\",\"formatter\":{\"id\":\"1745\"},\"major_label_policy\":{\"id\":\"1751\"},\"ticker\":{\"id\":\"1729\"}},\"id\":\"1728\",\"type\":\"LinearAxis\"},{\"attributes\":{},\"id\":\"1734\",\"type\":\"WheelZoomTool\"},{\"attributes\":{\"active_multi\":null,\"tools\":[{\"id\":\"1712\"},{\"id\":\"1732\"},{\"id\":\"1733\"},{\"id\":\"1734\"},{\"id\":\"1735\"},{\"id\":\"1736\"}]},\"id\":\"1738\",\"type\":\"Toolbar\"},{\"attributes\":{\"fill_alpha\":{\"value\":0.1},\"fill_color\":{\"value\":\"#e5ae38\"},\"line_alpha\":{\"value\":0.1},\"line_color\":{\"value\":\"#e5ae38\"},\"size\":{\"value\":5.477225575051661},\"x\":{\"field\":\"inventory\"},\"y\":{\"field\":\"homes_sold\"}},\"id\":\"1799\",\"type\":\"Scatter\"},{\"attributes\":{\"fill_alpha\":{\"value\":0.2},\"fill_color\":{\"value\":\"#fc4f30\"},\"line_alpha\":{\"value\":0.2},\"line_color\":{\"value\":\"#fc4f30\"},\"size\":{\"value\":5.477225575051661},\"x\":{\"field\":\"inventory\"},\"y\":{\"field\":\"homes_sold\"}},\"id\":\"1779\",\"type\":\"Scatter\"},{\"attributes\":{\"axis\":{\"id\":\"1728\"},\"dimension\":1,\"grid_line_color\":null,\"ticker\":null},\"id\":\"1731\",\"type\":\"Grid\"},{\"attributes\":{},\"id\":\"1732\",\"type\":\"SaveTool\"},{\"attributes\":{\"overlay\":{\"id\":\"1737\"}},\"id\":\"1735\",\"type\":\"BoxZoomTool\"},{\"attributes\":{},\"id\":\"1748\",\"type\":\"AllLabels\"},{\"attributes\":{},\"id\":\"1736\",\"type\":\"ResetTool\"},{\"attributes\":{\"data\":{\"clusters_lower\":[2,2,2,2,2,2,2,2,2,2,2,2,2,2,2,2,2,2,2,2,2,2,2],\"homes_sold\":[377964,405992,507324,436855,421351,587635,700733,652878,497955,361174,369326,495462,499650,366414,377871,520689,544884,445037,336063,374990,490722,480575,511937],\"inventory\":[1250798,1265253,1316823,1297460,1289500,1219863,1165359,1066903,1426958,1415212,1446179,1479362,1299249,1286362,1327008,1385696,1465347,1406298,1421187,1439784,1494395,1459546,1260286]},\"selected\":{\"id\":\"1796\"},\"selection_policy\":{\"id\":\"1815\"}},\"id\":\"1795\",\"type\":\"ColumnDataSource\"},{\"attributes\":{\"data_source\":{\"id\":\"1795\"},\"glyph\":{\"id\":\"1798\"},\"hover_glyph\":null,\"muted_glyph\":{\"id\":\"1800\"},\"nonselection_glyph\":{\"id\":\"1799\"},\"selection_glyph\":{\"id\":\"1817\"},\"view\":{\"id\":\"1802\"}},\"id\":\"1801\",\"type\":\"GlyphRenderer\"},{\"attributes\":{\"fill_color\":{\"value\":\"#e5ae38\"},\"line_color\":{\"value\":\"#e5ae38\"},\"size\":{\"value\":5.477225575051661},\"x\":{\"field\":\"inventory\"},\"y\":{\"field\":\"homes_sold\"}},\"id\":\"1798\",\"type\":\"Scatter\"},{\"attributes\":{\"data\":{\"clusters_lower\":[1,1,1,1,1,1,1,1,1,1,1,1,1,1,1,1,1,1,1,1,1,1,1,1,1,1,1,1,1,1,1,1,1,1,1,1,1,1,1,1,1,1,1,1,1,1,1],\"homes_sold\":[398471,391200,311458,322111,419901,459989,408673,303454,310918,392509,445766,309723,336264,459391,393948,489030,341903,365754,486821,526883,591629,614179,552047,502638,476043,534054,516942,631410,692914,592302,629131,535338,526858,633938,670694,623847,640299,499189,528733,479668,550804,647282,624623,636452,627929,532688,543858],\"inventory\":[1823542,1666931,1680276,1715241,1758071,1842873,1698019,1713791,1748964,1820559,1734475,1738614,1751581,1811084,1803188,1615706,1604314,1639331,1719652,1793818,1831656,1850571,1830744,1746324,1611721,1522912,1586017,1645405,1704387,1716298,1696710,1676769,1606239,1570615,1645582,1668224,1691330,1711008,1679657,1577743,1563284,1657511,1696761,1681451,1660309,1651469,1598498]},\"selected\":{\"id\":\"1775\"},\"selection_policy\":{\"id\":\"1792\"}},\"id\":\"1774\",\"type\":\"ColumnDataSource\"}],\"root_ids\":[\"1708\"]},\"title\":\"Bokeh Application\",\"version\":\"2.3.2\"}};\n",
       "    var render_items = [{\"docid\":\"5686ae3e-72a8-4120-917e-2dcfe16aaa47\",\"root_ids\":[\"1708\"],\"roots\":{\"1708\":\"a0a02dae-ce24-4ea6-948a-60cc0d4dd8f7\"}}];\n",
       "    root.Bokeh.embed.embed_items_notebook(docs_json, render_items);\n",
       "  }\n",
       "  if (root.Bokeh !== undefined && root.Bokeh.Panel !== undefined) {\n",
       "    embed_document(root);\n",
       "  } else {\n",
       "    var attempts = 0;\n",
       "    var timer = setInterval(function(root) {\n",
       "      if (root.Bokeh !== undefined && root.Bokeh.Panel !== undefined) {\n",
       "        clearInterval(timer);\n",
       "        embed_document(root);\n",
       "      } else if (document.readyState == \"complete\") {\n",
       "        attempts++;\n",
       "        if (attempts > 200) {\n",
       "          clearInterval(timer);\n",
       "          console.log(\"Bokeh: ERROR: Unable to run BokehJS code because BokehJS library is missing\");\n",
       "        }\n",
       "      }\n",
       "    }, 25, root)\n",
       "  }\n",
       "})(window);</script>"
      ],
      "text/plain": [
       ":NdOverlay   [clusters_lower]\n",
       "   :Scatter   [inventory]   (homes_sold)"
      ]
     },
     "execution_count": 26,
     "metadata": {
      "application/vnd.holoviews_exec.v0+json": {
       "id": "1708"
      }
     },
     "output_type": "execute_result"
    }
   ],
   "source": [
    "# Plot the clusters\n",
    "# YOUR CODE HERE"
   ]
  },
  {
   "cell_type": "code",
   "execution_count": 27,
   "metadata": {},
   "outputs": [],
   "source": [
    "# Define the model with the higher value of k clusters\n",
    "# Use a random_state of 1 to generate the model\n",
    "model = # YOUR CODE HERE\n",
    "\n",
    "# Fit the model\n",
    "# YOUR CODE HERE\n",
    "\n",
    "# Make predictions\n",
    "k_higher = # YOUR CODE HERE\n",
    "\n",
    "# Add a class column with the labels to the spread_df_predictions DataFrame\n",
    "home_sales_predictions_df['clusters_higher'] = k_higher"
   ]
  },
  {
   "cell_type": "code",
   "execution_count": 29,
   "metadata": {},
   "outputs": [
    {
     "data": {},
     "metadata": {},
     "output_type": "display_data"
    },
    {
     "data": {
      "application/vnd.holoviews_exec.v0+json": "",
      "text/html": [
       "<div id='2002'>\n",
       "\n",
       "\n",
       "\n",
       "\n",
       "\n",
       "  <div class=\"bk-root\" id=\"48a0a764-32d1-479b-a093-9fae5c16af1f\" data-root-id=\"2002\"></div>\n",
       "</div>\n",
       "<script type=\"application/javascript\">(function(root) {\n",
       "  function embed_document(root) {\n",
       "    var docs_json = {\"d57d1b78-ad50-4a8e-81cc-e5908df3518e\":{\"defs\":[{\"extends\":null,\"module\":null,\"name\":\"ReactiveHTML1\",\"overrides\":[],\"properties\":[]},{\"extends\":null,\"module\":null,\"name\":\"FlexBox1\",\"overrides\":[],\"properties\":[{\"default\":\"flex-start\",\"kind\":null,\"name\":\"align_content\"},{\"default\":\"flex-start\",\"kind\":null,\"name\":\"align_items\"},{\"default\":\"row\",\"kind\":null,\"name\":\"flex_direction\"},{\"default\":\"wrap\",\"kind\":null,\"name\":\"flex_wrap\"},{\"default\":\"flex-start\",\"kind\":null,\"name\":\"justify_content\"}]},{\"extends\":null,\"module\":null,\"name\":\"TemplateActions1\",\"overrides\":[],\"properties\":[{\"default\":0,\"kind\":null,\"name\":\"open_modal\"},{\"default\":0,\"kind\":null,\"name\":\"close_modal\"}]},{\"extends\":null,\"module\":null,\"name\":\"MaterialTemplateActions1\",\"overrides\":[],\"properties\":[{\"default\":0,\"kind\":null,\"name\":\"open_modal\"},{\"default\":0,\"kind\":null,\"name\":\"close_modal\"}]}],\"roots\":{\"references\":[{\"attributes\":{\"text_color\":\"black\",\"text_font_size\":\"12pt\"},\"id\":\"2011\",\"type\":\"Title\"},{\"attributes\":{\"source\":{\"id\":\"2049\"}},\"id\":\"2056\",\"type\":\"CDSView\"},{\"attributes\":{\"source\":{\"id\":\"2069\"}},\"id\":\"2076\",\"type\":\"CDSView\"},{\"attributes\":{\"fill_color\":{\"value\":\"#30a2da\"},\"line_color\":{\"value\":\"#30a2da\"},\"size\":{\"value\":5.477225575051661},\"x\":{\"field\":\"inventory\"},\"y\":{\"field\":\"homes_sold\"}},\"id\":\"2052\",\"type\":\"Scatter\"},{\"attributes\":{\"margin\":[5,5,5,5],\"name\":\"HSpacer03911\",\"sizing_mode\":\"stretch_width\"},\"id\":\"2273\",\"type\":\"Spacer\"},{\"attributes\":{},\"id\":\"2020\",\"type\":\"BasicTicker\"},{\"attributes\":{\"fill_alpha\":{\"value\":0.1},\"fill_color\":{\"value\":\"#30a2da\"},\"line_alpha\":{\"value\":0.1},\"line_color\":{\"value\":\"#30a2da\"},\"size\":{\"value\":5.477225575051661},\"x\":{\"field\":\"inventory\"},\"y\":{\"field\":\"homes_sold\"}},\"id\":\"2053\",\"type\":\"Scatter\"},{\"attributes\":{\"data_source\":{\"id\":\"2069\"},\"glyph\":{\"id\":\"2072\"},\"hover_glyph\":null,\"muted_glyph\":{\"id\":\"2074\"},\"nonselection_glyph\":{\"id\":\"2073\"},\"selection_glyph\":{\"id\":\"2089\"},\"view\":{\"id\":\"2076\"}},\"id\":\"2075\",\"type\":\"GlyphRenderer\"},{\"attributes\":{\"fill_alpha\":{\"value\":0.1},\"fill_color\":{\"value\":\"#fc4f30\"},\"line_alpha\":{\"value\":0.1},\"line_color\":{\"value\":\"#fc4f30\"},\"size\":{\"value\":5.477225575051661},\"x\":{\"field\":\"inventory\"},\"y\":{\"field\":\"homes_sold\"}},\"id\":\"2073\",\"type\":\"Scatter\"},{\"attributes\":{},\"id\":\"2015\",\"type\":\"LinearScale\"},{\"attributes\":{\"click_policy\":\"mute\",\"items\":[{\"id\":\"2067\"},{\"id\":\"2088\"},{\"id\":\"2111\"},{\"id\":\"2136\"}],\"location\":[0,0],\"title\":\"clusters_higher\"},\"id\":\"2066\",\"type\":\"Legend\"},{\"attributes\":{\"data_source\":{\"id\":\"2049\"},\"glyph\":{\"id\":\"2052\"},\"hover_glyph\":null,\"muted_glyph\":{\"id\":\"2054\"},\"nonselection_glyph\":{\"id\":\"2053\"},\"selection_glyph\":{\"id\":\"2068\"},\"view\":{\"id\":\"2056\"}},\"id\":\"2055\",\"type\":\"GlyphRenderer\"},{\"attributes\":{\"axis\":{\"id\":\"2019\"},\"grid_line_color\":null,\"ticker\":null},\"id\":\"2022\",\"type\":\"Grid\"},{\"attributes\":{},\"id\":\"2070\",\"type\":\"Selection\"},{\"attributes\":{\"axis_label\":\"inventory\",\"formatter\":{\"id\":\"2041\"},\"major_label_policy\":{\"id\":\"2043\"},\"ticker\":{\"id\":\"2020\"}},\"id\":\"2019\",\"type\":\"LinearAxis\"},{\"attributes\":{\"data_source\":{\"id\":\"2090\"},\"glyph\":{\"id\":\"2093\"},\"hover_glyph\":null,\"muted_glyph\":{\"id\":\"2095\"},\"nonselection_glyph\":{\"id\":\"2094\"},\"selection_glyph\":{\"id\":\"2112\"},\"view\":{\"id\":\"2097\"}},\"id\":\"2096\",\"type\":\"GlyphRenderer\"},{\"attributes\":{},\"id\":\"2029\",\"type\":\"WheelZoomTool\"},{\"attributes\":{\"fill_alpha\":{\"value\":0.2},\"fill_color\":{\"value\":\"#30a2da\"},\"line_alpha\":{\"value\":0.2},\"line_color\":{\"value\":\"#30a2da\"},\"size\":{\"value\":5.477225575051661},\"x\":{\"field\":\"inventory\"},\"y\":{\"field\":\"homes_sold\"}},\"id\":\"2054\",\"type\":\"Scatter\"},{\"attributes\":{\"fill_color\":{\"value\":\"#fc4f30\"},\"line_color\":{\"value\":\"#fc4f30\"},\"size\":{\"value\":5.477225575051661},\"x\":{\"field\":\"inventory\"},\"y\":{\"field\":\"homes_sold\"}},\"id\":\"2072\",\"type\":\"Scatter\"},{\"attributes\":{},\"id\":\"2110\",\"type\":\"UnionRenderers\"},{\"attributes\":{},\"id\":\"2017\",\"type\":\"LinearScale\"},{\"attributes\":{},\"id\":\"2024\",\"type\":\"BasicTicker\"},{\"attributes\":{\"label\":{\"value\":\"1\"},\"renderers\":[{\"id\":\"2075\"}]},\"id\":\"2088\",\"type\":\"LegendItem\"},{\"attributes\":{\"fill_alpha\":{\"value\":0.2},\"fill_color\":{\"value\":\"#fc4f30\"},\"line_alpha\":{\"value\":0.2},\"line_color\":{\"value\":\"#fc4f30\"},\"size\":{\"value\":5.477225575051661},\"x\":{\"field\":\"inventory\"},\"y\":{\"field\":\"homes_sold\"}},\"id\":\"2074\",\"type\":\"Scatter\"},{\"attributes\":{\"angle\":{\"value\":0.0},\"fill_alpha\":{\"value\":1.0},\"fill_color\":{\"value\":\"#e5ae38\"},\"hatch_alpha\":{\"value\":1.0},\"hatch_color\":{\"value\":\"black\"},\"hatch_scale\":{\"value\":12.0},\"hatch_weight\":{\"value\":1.0},\"line_alpha\":{\"value\":1.0},\"line_cap\":{\"value\":\"butt\"},\"line_color\":{\"value\":\"#e5ae38\"},\"line_dash\":{\"value\":[]},\"line_dash_offset\":{\"value\":0},\"line_join\":{\"value\":\"bevel\"},\"line_width\":{\"value\":1},\"marker\":{\"value\":\"circle\"},\"size\":{\"value\":5.477225575051661},\"x\":{\"field\":\"inventory\"},\"y\":{\"field\":\"homes_sold\"}},\"id\":\"2112\",\"type\":\"Scatter\"},{\"attributes\":{\"angle\":{\"value\":0.0},\"fill_alpha\":{\"value\":1.0},\"fill_color\":{\"value\":\"#fc4f30\"},\"hatch_alpha\":{\"value\":1.0},\"hatch_color\":{\"value\":\"black\"},\"hatch_scale\":{\"value\":12.0},\"hatch_weight\":{\"value\":1.0},\"line_alpha\":{\"value\":1.0},\"line_cap\":{\"value\":\"butt\"},\"line_color\":{\"value\":\"#fc4f30\"},\"line_dash\":{\"value\":[]},\"line_dash_offset\":{\"value\":0},\"line_join\":{\"value\":\"bevel\"},\"line_width\":{\"value\":1},\"marker\":{\"value\":\"circle\"},\"size\":{\"value\":5.477225575051661},\"x\":{\"field\":\"inventory\"},\"y\":{\"field\":\"homes_sold\"}},\"id\":\"2089\",\"type\":\"Scatter\"},{\"attributes\":{\"axis_label\":\"homes_sold\",\"formatter\":{\"id\":\"2040\"},\"major_label_policy\":{\"id\":\"2046\"},\"ticker\":{\"id\":\"2024\"}},\"id\":\"2023\",\"type\":\"LinearAxis\"},{\"attributes\":{\"axis\":{\"id\":\"2023\"},\"dimension\":1,\"grid_line_color\":null,\"ticker\":null},\"id\":\"2026\",\"type\":\"Grid\"},{\"attributes\":{},\"id\":\"2028\",\"type\":\"PanTool\"},{\"attributes\":{},\"id\":\"2027\",\"type\":\"SaveTool\"},{\"attributes\":{},\"id\":\"2114\",\"type\":\"Selection\"},{\"attributes\":{\"source\":{\"id\":\"2113\"}},\"id\":\"2120\",\"type\":\"CDSView\"},{\"attributes\":{\"overlay\":{\"id\":\"2032\"}},\"id\":\"2030\",\"type\":\"BoxZoomTool\"},{\"attributes\":{},\"id\":\"2031\",\"type\":\"ResetTool\"},{\"attributes\":{\"fill_alpha\":{\"value\":0.1},\"fill_color\":{\"value\":\"#6d904f\"},\"line_alpha\":{\"value\":0.1},\"line_color\":{\"value\":\"#6d904f\"},\"size\":{\"value\":5.477225575051661},\"x\":{\"field\":\"inventory\"},\"y\":{\"field\":\"homes_sold\"}},\"id\":\"2117\",\"type\":\"Scatter\"},{\"attributes\":{\"data_source\":{\"id\":\"2113\"},\"glyph\":{\"id\":\"2116\"},\"hover_glyph\":null,\"muted_glyph\":{\"id\":\"2118\"},\"nonselection_glyph\":{\"id\":\"2117\"},\"selection_glyph\":{\"id\":\"2137\"},\"view\":{\"id\":\"2120\"}},\"id\":\"2119\",\"type\":\"GlyphRenderer\"},{\"attributes\":{\"fill_color\":{\"value\":\"#6d904f\"},\"line_color\":{\"value\":\"#6d904f\"},\"size\":{\"value\":5.477225575051661},\"x\":{\"field\":\"inventory\"},\"y\":{\"field\":\"homes_sold\"}},\"id\":\"2116\",\"type\":\"Scatter\"},{\"attributes\":{\"label\":{\"value\":\"3\"},\"renderers\":[{\"id\":\"2119\"}]},\"id\":\"2136\",\"type\":\"LegendItem\"},{\"attributes\":{\"bottom_units\":\"screen\",\"fill_alpha\":0.5,\"fill_color\":\"lightgrey\",\"left_units\":\"screen\",\"level\":\"overlay\",\"line_alpha\":1.0,\"line_color\":\"black\",\"line_dash\":[4,4],\"line_width\":2,\"right_units\":\"screen\",\"syncable\":false,\"top_units\":\"screen\"},\"id\":\"2032\",\"type\":\"BoxAnnotation\"},{\"attributes\":{\"fill_alpha\":{\"value\":0.2},\"fill_color\":{\"value\":\"#6d904f\"},\"line_alpha\":{\"value\":0.2},\"line_color\":{\"value\":\"#6d904f\"},\"size\":{\"value\":5.477225575051661},\"x\":{\"field\":\"inventory\"},\"y\":{\"field\":\"homes_sold\"}},\"id\":\"2118\",\"type\":\"Scatter\"},{\"attributes\":{\"angle\":{\"value\":0.0},\"fill_alpha\":{\"value\":1.0},\"fill_color\":{\"value\":\"#6d904f\"},\"hatch_alpha\":{\"value\":1.0},\"hatch_color\":{\"value\":\"black\"},\"hatch_scale\":{\"value\":12.0},\"hatch_weight\":{\"value\":1.0},\"line_alpha\":{\"value\":1.0},\"line_cap\":{\"value\":\"butt\"},\"line_color\":{\"value\":\"#6d904f\"},\"line_dash\":{\"value\":[]},\"line_dash_offset\":{\"value\":0},\"line_join\":{\"value\":\"bevel\"},\"line_width\":{\"value\":1},\"marker\":{\"value\":\"circle\"},\"size\":{\"value\":5.477225575051661},\"x\":{\"field\":\"inventory\"},\"y\":{\"field\":\"homes_sold\"}},\"id\":\"2137\",\"type\":\"Scatter\"},{\"attributes\":{},\"id\":\"2087\",\"type\":\"UnionRenderers\"},{\"attributes\":{},\"id\":\"2091\",\"type\":\"Selection\"},{\"attributes\":{\"fill_alpha\":{\"value\":0.1},\"fill_color\":{\"value\":\"#e5ae38\"},\"line_alpha\":{\"value\":0.1},\"line_color\":{\"value\":\"#e5ae38\"},\"size\":{\"value\":5.477225575051661},\"x\":{\"field\":\"inventory\"},\"y\":{\"field\":\"homes_sold\"}},\"id\":\"2094\",\"type\":\"Scatter\"},{\"attributes\":{\"data\":{\"clusters_higher\":[3,3,3,3,3,3,3,3,3,3,3,3,3,3,3,3,3,3,3],\"homes_sold\":[398471,391200,311458,322111,419901,459989,384211,408673,303454,310918,392509,378599,445766,309723,336264,459391,393948,341903,365754],\"inventory\":[1823542,1666931,1680276,1715241,1758071,1842873,1863258,1698019,1713791,1748964,1820559,1905627,1734475,1738614,1751581,1811084,1803188,1604314,1639331]},\"selected\":{\"id\":\"2114\"},\"selection_policy\":{\"id\":\"2135\"}},\"id\":\"2113\",\"type\":\"ColumnDataSource\"},{\"attributes\":{\"active_multi\":null,\"tools\":[{\"id\":\"2006\"},{\"id\":\"2027\"},{\"id\":\"2028\"},{\"id\":\"2029\"},{\"id\":\"2030\"},{\"id\":\"2031\"}]},\"id\":\"2033\",\"type\":\"Toolbar\"},{\"attributes\":{},\"id\":\"2135\",\"type\":\"UnionRenderers\"},{\"attributes\":{},\"id\":\"2065\",\"type\":\"UnionRenderers\"},{\"attributes\":{\"source\":{\"id\":\"2090\"}},\"id\":\"2097\",\"type\":\"CDSView\"},{\"attributes\":{\"margin\":[5,5,5,5],\"name\":\"HSpacer03910\",\"sizing_mode\":\"stretch_width\"},\"id\":\"2003\",\"type\":\"Spacer\"},{\"attributes\":{},\"id\":\"2041\",\"type\":\"BasicTickFormatter\"},{\"attributes\":{\"data\":{\"clusters_higher\":[2,2,2,2,2,2,2,2,2,2,2,2,2,2,2,2,2,2,2,2,2,2,2],\"homes_sold\":[377964,405992,507324,436855,421351,587635,700733,652878,497955,361174,369326,495462,499650,366414,377871,520689,544884,445037,336063,374990,490722,480575,511937],\"inventory\":[1250798,1265253,1316823,1297460,1289500,1219863,1165359,1066903,1426958,1415212,1446179,1479362,1299249,1286362,1327008,1385696,1465347,1406298,1421187,1439784,1494395,1459546,1260286]},\"selected\":{\"id\":\"2091\"},\"selection_policy\":{\"id\":\"2110\"}},\"id\":\"2090\",\"type\":\"ColumnDataSource\"},{\"attributes\":{\"fill_color\":{\"value\":\"#e5ae38\"},\"line_color\":{\"value\":\"#e5ae38\"},\"size\":{\"value\":5.477225575051661},\"x\":{\"field\":\"inventory\"},\"y\":{\"field\":\"homes_sold\"}},\"id\":\"2093\",\"type\":\"Scatter\"},{\"attributes\":{\"format\":\"%.0f\"},\"id\":\"2040\",\"type\":\"PrintfTickFormatter\"},{\"attributes\":{\"below\":[{\"id\":\"2019\"}],\"center\":[{\"id\":\"2022\"},{\"id\":\"2026\"}],\"height\":300,\"left\":[{\"id\":\"2023\"}],\"margin\":[5,5,5,5],\"min_border_bottom\":10,\"min_border_left\":10,\"min_border_right\":10,\"min_border_top\":10,\"renderers\":[{\"id\":\"2055\"},{\"id\":\"2075\"},{\"id\":\"2096\"},{\"id\":\"2119\"}],\"right\":[{\"id\":\"2066\"}],\"sizing_mode\":\"fixed\",\"title\":{\"id\":\"2011\"},\"toolbar\":{\"id\":\"2033\"},\"width\":700,\"x_range\":{\"id\":\"2004\"},\"x_scale\":{\"id\":\"2015\"},\"y_range\":{\"id\":\"2005\"},\"y_scale\":{\"id\":\"2017\"}},\"id\":\"2010\",\"subtype\":\"Figure\",\"type\":\"Plot\"},{\"attributes\":{\"label\":{\"value\":\"2\"},\"renderers\":[{\"id\":\"2096\"}]},\"id\":\"2111\",\"type\":\"LegendItem\"},{\"attributes\":{},\"id\":\"2050\",\"type\":\"Selection\"},{\"attributes\":{\"callback\":null,\"renderers\":[{\"id\":\"2055\"},{\"id\":\"2075\"},{\"id\":\"2096\"},{\"id\":\"2119\"}],\"tags\":[\"hv_created\"],\"tooltips\":[[\"clusters_higher\",\"@{clusters_higher}\"],[\"inventory\",\"@{inventory}\"],[\"homes_sold\",\"@{homes_sold}\"]]},\"id\":\"2006\",\"type\":\"HoverTool\"},{\"attributes\":{\"fill_alpha\":{\"value\":0.2},\"fill_color\":{\"value\":\"#e5ae38\"},\"line_alpha\":{\"value\":0.2},\"line_color\":{\"value\":\"#e5ae38\"},\"size\":{\"value\":5.477225575051661},\"x\":{\"field\":\"inventory\"},\"y\":{\"field\":\"homes_sold\"}},\"id\":\"2095\",\"type\":\"Scatter\"},{\"attributes\":{\"data\":{\"clusters_higher\":[0,0,0,0,0,0,0,0,0,0,0,0,0,0,0,0,0,0,0,0,0,0,0,0,0,0,0,0,0,0],\"homes_sold\":[304737,394034,404927,464281,487959,451243,485480,392397,423079,534797,526615,548495,537397,448002,447647,444227,507516,542753,534616,514686,469975,480451,496899,545672,633602,624705,564118,525632,496814,584704],\"inventory\":[2078931,2120173,2155803,2163303,2145658,2109202,2048712,2010080,1936114,1911782,1953106,1983624,1984408,1990299,1963663,1889755,1963564,2040323,2114760,2104706,2090802,2030677,1925430,2011729,2047119,2062443,2032207,2002245,1930467,1890218]},\"selected\":{\"id\":\"2050\"},\"selection_policy\":{\"id\":\"2065\"}},\"id\":\"2049\",\"type\":\"ColumnDataSource\"},{\"attributes\":{\"data\":{\"clusters_higher\":[1,1,1,1,1,1,1,1,1,1,1,1,1,1,1,1,1,1,1,1,1,1,1,1,1,1,1,1,1,1,1],\"homes_sold\":[489030,486821,526883,591629,661162,614179,552047,502638,476043,534054,516942,631410,692914,592302,629131,535338,526858,633938,670694,623847,640299,499189,528733,479668,550804,647282,624623,636452,627929,532688,543858],\"inventory\":[1615706,1719652,1793818,1831656,1871580,1850571,1830744,1746324,1611721,1522912,1586017,1645405,1704387,1716298,1696710,1676769,1606239,1570615,1645582,1668224,1691330,1711008,1679657,1577743,1563284,1657511,1696761,1681451,1660309,1651469,1598498]},\"selected\":{\"id\":\"2070\"},\"selection_policy\":{\"id\":\"2087\"}},\"id\":\"2069\",\"type\":\"ColumnDataSource\"},{\"attributes\":{\"label\":{\"value\":\"0\"},\"renderers\":[{\"id\":\"2055\"}]},\"id\":\"2067\",\"type\":\"LegendItem\"},{\"attributes\":{\"end\":2210291.5714285714,\"reset_end\":2210291.5714285714,\"reset_start\":1019914.4285714285,\"start\":1019914.4285714285,\"tags\":[[[\"inventory\",\"inventory\",null]]]},\"id\":\"2004\",\"type\":\"Range1d\"},{\"attributes\":{\"children\":[{\"id\":\"2003\"},{\"id\":\"2010\"},{\"id\":\"2273\"}],\"margin\":[0,0,0,0],\"name\":\"Row03906\",\"tags\":[\"embedded\"]},\"id\":\"2002\",\"type\":\"Row\"},{\"attributes\":{\"end\":740460.9,\"reset_end\":740460.9,\"reset_start\":263726.1,\"start\":263726.1,\"tags\":[[[\"homes_sold\",\"homes_sold\",null]]]},\"id\":\"2005\",\"type\":\"Range1d\"},{\"attributes\":{\"angle\":{\"value\":0.0},\"fill_alpha\":{\"value\":1.0},\"fill_color\":{\"value\":\"#30a2da\"},\"hatch_alpha\":{\"value\":1.0},\"hatch_color\":{\"value\":\"black\"},\"hatch_scale\":{\"value\":12.0},\"hatch_weight\":{\"value\":1.0},\"line_alpha\":{\"value\":1.0},\"line_cap\":{\"value\":\"butt\"},\"line_color\":{\"value\":\"#30a2da\"},\"line_dash\":{\"value\":[]},\"line_dash_offset\":{\"value\":0},\"line_join\":{\"value\":\"bevel\"},\"line_width\":{\"value\":1},\"marker\":{\"value\":\"circle\"},\"size\":{\"value\":5.477225575051661},\"x\":{\"field\":\"inventory\"},\"y\":{\"field\":\"homes_sold\"}},\"id\":\"2068\",\"type\":\"Scatter\"},{\"attributes\":{},\"id\":\"2046\",\"type\":\"AllLabels\"},{\"attributes\":{},\"id\":\"2043\",\"type\":\"AllLabels\"}],\"root_ids\":[\"2002\"]},\"title\":\"Bokeh Application\",\"version\":\"2.3.2\"}};\n",
       "    var render_items = [{\"docid\":\"d57d1b78-ad50-4a8e-81cc-e5908df3518e\",\"root_ids\":[\"2002\"],\"roots\":{\"2002\":\"48a0a764-32d1-479b-a093-9fae5c16af1f\"}}];\n",
       "    root.Bokeh.embed.embed_items_notebook(docs_json, render_items);\n",
       "  }\n",
       "  if (root.Bokeh !== undefined && root.Bokeh.Panel !== undefined) {\n",
       "    embed_document(root);\n",
       "  } else {\n",
       "    var attempts = 0;\n",
       "    var timer = setInterval(function(root) {\n",
       "      if (root.Bokeh !== undefined && root.Bokeh.Panel !== undefined) {\n",
       "        clearInterval(timer);\n",
       "        embed_document(root);\n",
       "      } else if (document.readyState == \"complete\") {\n",
       "        attempts++;\n",
       "        if (attempts > 200) {\n",
       "          clearInterval(timer);\n",
       "          console.log(\"Bokeh: ERROR: Unable to run BokehJS code because BokehJS library is missing\");\n",
       "        }\n",
       "      }\n",
       "    }, 25, root)\n",
       "  }\n",
       "})(window);</script>"
      ],
      "text/plain": [
       ":NdOverlay   [clusters_higher]\n",
       "   :Scatter   [inventory]   (homes_sold)"
      ]
     },
     "execution_count": 29,
     "metadata": {
      "application/vnd.holoviews_exec.v0+json": {
       "id": "2002"
      }
     },
     "output_type": "execute_result"
    }
   ],
   "source": [
    "# Plot the clusters\n",
    "# YOUR CODE HERE"
   ]
  },
  {
   "cell_type": "markdown",
   "metadata": {},
   "source": [
    "## Answer the following question\n",
    "\n",
    "* Considering the plot, what’s the best number of clusters to choose, or value of k? \n",
    "    >* Your Answer Here"
   ]
  }
 ],
 "metadata": {
  "kernelspec": {
   "display_name": "Python 3 (ipykernel)",
   "language": "python",
   "name": "python3"
  },
  "language_info": {
   "codemirror_mode": {
    "name": "ipython",
    "version": 3
   },
   "file_extension": ".py",
   "mimetype": "text/x-python",
   "name": "python",
   "nbconvert_exporter": "python",
   "pygments_lexer": "ipython3",
   "version": "3.8.11"
  }
 },
 "nbformat": 4,
 "nbformat_minor": 4
}
