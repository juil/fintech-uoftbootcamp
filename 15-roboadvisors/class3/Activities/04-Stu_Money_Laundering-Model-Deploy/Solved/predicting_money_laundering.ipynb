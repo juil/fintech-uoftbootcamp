{
 "cells": [
  {
   "cell_type": "markdown",
   "metadata": {},
   "source": [
    "# Predicting Money Laundering\n",
    "\n",
    "In this activity, you will gain hands-on experience in deploying a machine learning model into the cloud to predict whether or not a cash or transfer bank transaction is a potential money laundering fraud.\n",
    "\n",
    "## Instructions"
   ]
  },
  {
   "cell_type": "code",
   "execution_count": 1,
   "metadata": {},
   "outputs": [],
   "source": [
    "# Initial imports\n",
    "import pandas as pd\n",
    "from pathlib import Path\n",
    "from sklearn.preprocessing import StandardScaler, OneHotEncoder\n",
    "from sklearn.model_selection import train_test_split"
   ]
  },
  {
   "cell_type": "markdown",
   "metadata": {},
   "source": [
    "### Load the Data into Pandas"
   ]
  },
  {
   "cell_type": "code",
   "execution_count": 2,
   "metadata": {},
   "outputs": [
    {
     "data": {
      "text/html": [
       "<div>\n",
       "<style scoped>\n",
       "    .dataframe tbody tr th:only-of-type {\n",
       "        vertical-align: middle;\n",
       "    }\n",
       "\n",
       "    .dataframe tbody tr th {\n",
       "        vertical-align: top;\n",
       "    }\n",
       "\n",
       "    .dataframe thead th {\n",
       "        text-align: right;\n",
       "    }\n",
       "</style>\n",
       "<table border=\"1\" class=\"dataframe\">\n",
       "  <thead>\n",
       "    <tr style=\"text-align: right;\">\n",
       "      <th></th>\n",
       "      <th>typeofaction</th>\n",
       "      <th>sourceid</th>\n",
       "      <th>destinationid</th>\n",
       "      <th>amountofmoney</th>\n",
       "      <th>year</th>\n",
       "      <th>month</th>\n",
       "      <th>day</th>\n",
       "      <th>dayofweek</th>\n",
       "      <th>isfraud</th>\n",
       "    </tr>\n",
       "  </thead>\n",
       "  <tbody>\n",
       "    <tr>\n",
       "      <th>0</th>\n",
       "      <td>cash-in</td>\n",
       "      <td>30105</td>\n",
       "      <td>28942</td>\n",
       "      <td>494528</td>\n",
       "      <td>2019</td>\n",
       "      <td>7</td>\n",
       "      <td>19</td>\n",
       "      <td>4</td>\n",
       "      <td>1</td>\n",
       "    </tr>\n",
       "    <tr>\n",
       "      <th>1</th>\n",
       "      <td>cash-in</td>\n",
       "      <td>30105</td>\n",
       "      <td>8692</td>\n",
       "      <td>494528</td>\n",
       "      <td>2019</td>\n",
       "      <td>5</td>\n",
       "      <td>17</td>\n",
       "      <td>4</td>\n",
       "      <td>1</td>\n",
       "    </tr>\n",
       "    <tr>\n",
       "      <th>2</th>\n",
       "      <td>cash-in</td>\n",
       "      <td>30105</td>\n",
       "      <td>60094</td>\n",
       "      <td>494528</td>\n",
       "      <td>2019</td>\n",
       "      <td>7</td>\n",
       "      <td>20</td>\n",
       "      <td>5</td>\n",
       "      <td>1</td>\n",
       "    </tr>\n",
       "    <tr>\n",
       "      <th>3</th>\n",
       "      <td>cash-in</td>\n",
       "      <td>30105</td>\n",
       "      <td>20575</td>\n",
       "      <td>494528</td>\n",
       "      <td>2019</td>\n",
       "      <td>7</td>\n",
       "      <td>3</td>\n",
       "      <td>2</td>\n",
       "      <td>1</td>\n",
       "    </tr>\n",
       "    <tr>\n",
       "      <th>4</th>\n",
       "      <td>cash-in</td>\n",
       "      <td>30105</td>\n",
       "      <td>45938</td>\n",
       "      <td>494528</td>\n",
       "      <td>2019</td>\n",
       "      <td>5</td>\n",
       "      <td>26</td>\n",
       "      <td>6</td>\n",
       "      <td>1</td>\n",
       "    </tr>\n",
       "  </tbody>\n",
       "</table>\n",
       "</div>"
      ],
      "text/plain": [
       "  typeofaction  sourceid  destinationid  amountofmoney  year  month  day  \\\n",
       "0      cash-in     30105          28942         494528  2019      7   19   \n",
       "1      cash-in     30105           8692         494528  2019      5   17   \n",
       "2      cash-in     30105          60094         494528  2019      7   20   \n",
       "3      cash-in     30105          20575         494528  2019      7    3   \n",
       "4      cash-in     30105          45938         494528  2019      5   26   \n",
       "\n",
       "   dayofweek  isfraud  \n",
       "0          4        1  \n",
       "1          4        1  \n",
       "2          5        1  \n",
       "3          2        1  \n",
       "4          6        1  "
      ]
     },
     "execution_count": 2,
     "metadata": {},
     "output_type": "execute_result"
    }
   ],
   "source": [
    "# Load the CSV data into a DataFrame\n",
    "file_path = Path(\"Resources/money_laundering.csv\")\n",
    "df = pd.read_csv(file_path)\n",
    "\n",
    "# Display sample data\n",
    "df.head()"
   ]
  },
  {
   "cell_type": "markdown",
   "metadata": {},
   "source": [
    "## Preprocess Data"
   ]
  },
  {
   "cell_type": "markdown",
   "metadata": {},
   "source": [
    "### Encode Categorical Data\n",
    "\n",
    "Since the `typeofaction` column has categorical data, use the `OneHotEncoder` module from Scikit-learn to transform this column's categories into a numerical representation.\n",
    "\n",
    "> **Hint:** You can recall how to use the `OneHotEncode` module in [this article from the Scikit-learn's User Guide](https://scikit-learn.org/stable/modules/preprocessing.html#preprocessing-categorical-features). You can also review Lesson 3 in Module 13 for additional information."
   ]
  },
  {
   "cell_type": "code",
   "execution_count": 3,
   "metadata": {},
   "outputs": [],
   "source": [
    "# Create a OneHotEncoder instance\n",
    "enc = OneHotEncoder(sparse=False)"
   ]
  },
  {
   "cell_type": "markdown",
   "metadata": {},
   "source": [
    "Use the `count_values()` function from Pandas to identify the names of the categorical variables."
   ]
  },
  {
   "cell_type": "code",
   "execution_count": 4,
   "metadata": {},
   "outputs": [],
   "source": [
    "# Create a list of the columns with categorical variables\n",
    "categorical_variables = [\"typeofaction\"]"
   ]
  },
  {
   "cell_type": "code",
   "execution_count": 5,
   "metadata": {},
   "outputs": [],
   "source": [
    "# Use the fit_transform function from the OneHotEncoder to encode the data\n",
    "encoded_data = enc.fit_transform(df[categorical_variables])"
   ]
  },
  {
   "cell_type": "code",
   "execution_count": 6,
   "metadata": {},
   "outputs": [
    {
     "data": {
      "text/html": [
       "<div>\n",
       "<style scoped>\n",
       "    .dataframe tbody tr th:only-of-type {\n",
       "        vertical-align: middle;\n",
       "    }\n",
       "\n",
       "    .dataframe tbody tr th {\n",
       "        vertical-align: top;\n",
       "    }\n",
       "\n",
       "    .dataframe thead th {\n",
       "        text-align: right;\n",
       "    }\n",
       "</style>\n",
       "<table border=\"1\" class=\"dataframe\">\n",
       "  <thead>\n",
       "    <tr style=\"text-align: right;\">\n",
       "      <th></th>\n",
       "      <th>typeofaction_cash-in</th>\n",
       "      <th>typeofaction_transfer</th>\n",
       "    </tr>\n",
       "  </thead>\n",
       "  <tbody>\n",
       "    <tr>\n",
       "      <th>0</th>\n",
       "      <td>1.0</td>\n",
       "      <td>0.0</td>\n",
       "    </tr>\n",
       "    <tr>\n",
       "      <th>1</th>\n",
       "      <td>1.0</td>\n",
       "      <td>0.0</td>\n",
       "    </tr>\n",
       "    <tr>\n",
       "      <th>2</th>\n",
       "      <td>1.0</td>\n",
       "      <td>0.0</td>\n",
       "    </tr>\n",
       "    <tr>\n",
       "      <th>3</th>\n",
       "      <td>1.0</td>\n",
       "      <td>0.0</td>\n",
       "    </tr>\n",
       "    <tr>\n",
       "      <th>4</th>\n",
       "      <td>1.0</td>\n",
       "      <td>0.0</td>\n",
       "    </tr>\n",
       "  </tbody>\n",
       "</table>\n",
       "</div>"
      ],
      "text/plain": [
       "   typeofaction_cash-in  typeofaction_transfer\n",
       "0                   1.0                    0.0\n",
       "1                   1.0                    0.0\n",
       "2                   1.0                    0.0\n",
       "3                   1.0                    0.0\n",
       "4                   1.0                    0.0"
      ]
     },
     "execution_count": 6,
     "metadata": {},
     "output_type": "execute_result"
    }
   ],
   "source": [
    "# Create a DataFrame with the encoded variables\n",
    "encoded_df = pd.DataFrame(\n",
    "    encoded_data,\n",
    "    columns = enc.get_feature_names(categorical_variables)\n",
    ")\n",
    "\n",
    "# Display sample data\n",
    "encoded_df.head()"
   ]
  },
  {
   "cell_type": "code",
   "execution_count": 7,
   "metadata": {},
   "outputs": [
    {
     "data": {
      "text/html": [
       "<div>\n",
       "<style scoped>\n",
       "    .dataframe tbody tr th:only-of-type {\n",
       "        vertical-align: middle;\n",
       "    }\n",
       "\n",
       "    .dataframe tbody tr th {\n",
       "        vertical-align: top;\n",
       "    }\n",
       "\n",
       "    .dataframe thead th {\n",
       "        text-align: right;\n",
       "    }\n",
       "</style>\n",
       "<table border=\"1\" class=\"dataframe\">\n",
       "  <thead>\n",
       "    <tr style=\"text-align: right;\">\n",
       "      <th></th>\n",
       "      <th>sourceid</th>\n",
       "      <th>destinationid</th>\n",
       "      <th>amountofmoney</th>\n",
       "      <th>year</th>\n",
       "      <th>month</th>\n",
       "      <th>day</th>\n",
       "      <th>dayofweek</th>\n",
       "      <th>isfraud</th>\n",
       "    </tr>\n",
       "  </thead>\n",
       "  <tbody>\n",
       "    <tr>\n",
       "      <th>0</th>\n",
       "      <td>30105</td>\n",
       "      <td>28942</td>\n",
       "      <td>494528</td>\n",
       "      <td>2019</td>\n",
       "      <td>7</td>\n",
       "      <td>19</td>\n",
       "      <td>4</td>\n",
       "      <td>1</td>\n",
       "    </tr>\n",
       "    <tr>\n",
       "      <th>1</th>\n",
       "      <td>30105</td>\n",
       "      <td>8692</td>\n",
       "      <td>494528</td>\n",
       "      <td>2019</td>\n",
       "      <td>5</td>\n",
       "      <td>17</td>\n",
       "      <td>4</td>\n",
       "      <td>1</td>\n",
       "    </tr>\n",
       "    <tr>\n",
       "      <th>2</th>\n",
       "      <td>30105</td>\n",
       "      <td>60094</td>\n",
       "      <td>494528</td>\n",
       "      <td>2019</td>\n",
       "      <td>7</td>\n",
       "      <td>20</td>\n",
       "      <td>5</td>\n",
       "      <td>1</td>\n",
       "    </tr>\n",
       "    <tr>\n",
       "      <th>3</th>\n",
       "      <td>30105</td>\n",
       "      <td>20575</td>\n",
       "      <td>494528</td>\n",
       "      <td>2019</td>\n",
       "      <td>7</td>\n",
       "      <td>3</td>\n",
       "      <td>2</td>\n",
       "      <td>1</td>\n",
       "    </tr>\n",
       "    <tr>\n",
       "      <th>4</th>\n",
       "      <td>30105</td>\n",
       "      <td>45938</td>\n",
       "      <td>494528</td>\n",
       "      <td>2019</td>\n",
       "      <td>5</td>\n",
       "      <td>26</td>\n",
       "      <td>6</td>\n",
       "      <td>1</td>\n",
       "    </tr>\n",
       "  </tbody>\n",
       "</table>\n",
       "</div>"
      ],
      "text/plain": [
       "   sourceid  destinationid  amountofmoney  year  month  day  dayofweek  \\\n",
       "0     30105          28942         494528  2019      7   19          4   \n",
       "1     30105           8692         494528  2019      5   17          4   \n",
       "2     30105          60094         494528  2019      7   20          5   \n",
       "3     30105          20575         494528  2019      7    3          2   \n",
       "4     30105          45938         494528  2019      5   26          6   \n",
       "\n",
       "   isfraud  \n",
       "0        1  \n",
       "1        1  \n",
       "2        1  \n",
       "3        1  \n",
       "4        1  "
      ]
     },
     "execution_count": 7,
     "metadata": {},
     "output_type": "execute_result"
    }
   ],
   "source": [
    "# Drop the 'typeofaction' column from the original DataFrame\n",
    "df = df.drop(columns=[\"typeofaction\"])\n",
    "\n",
    "# Display sample data\n",
    "df.head()"
   ]
  },
  {
   "cell_type": "markdown",
   "metadata": {},
   "source": [
    "Next, we will add to the original DataFrame a new column called `operationtype`. Where `1` will represent a cash-in operation, and `0` will describe a transfer."
   ]
  },
  {
   "cell_type": "code",
   "execution_count": 8,
   "metadata": {},
   "outputs": [
    {
     "data": {
      "text/html": [
       "<div>\n",
       "<style scoped>\n",
       "    .dataframe tbody tr th:only-of-type {\n",
       "        vertical-align: middle;\n",
       "    }\n",
       "\n",
       "    .dataframe tbody tr th {\n",
       "        vertical-align: top;\n",
       "    }\n",
       "\n",
       "    .dataframe thead th {\n",
       "        text-align: right;\n",
       "    }\n",
       "</style>\n",
       "<table border=\"1\" class=\"dataframe\">\n",
       "  <thead>\n",
       "    <tr style=\"text-align: right;\">\n",
       "      <th></th>\n",
       "      <th>sourceid</th>\n",
       "      <th>destinationid</th>\n",
       "      <th>amountofmoney</th>\n",
       "      <th>year</th>\n",
       "      <th>month</th>\n",
       "      <th>day</th>\n",
       "      <th>dayofweek</th>\n",
       "      <th>isfraud</th>\n",
       "      <th>operationtype</th>\n",
       "    </tr>\n",
       "  </thead>\n",
       "  <tbody>\n",
       "    <tr>\n",
       "      <th>0</th>\n",
       "      <td>30105</td>\n",
       "      <td>28942</td>\n",
       "      <td>494528</td>\n",
       "      <td>2019</td>\n",
       "      <td>7</td>\n",
       "      <td>19</td>\n",
       "      <td>4</td>\n",
       "      <td>1</td>\n",
       "      <td>1.0</td>\n",
       "    </tr>\n",
       "    <tr>\n",
       "      <th>1</th>\n",
       "      <td>30105</td>\n",
       "      <td>8692</td>\n",
       "      <td>494528</td>\n",
       "      <td>2019</td>\n",
       "      <td>5</td>\n",
       "      <td>17</td>\n",
       "      <td>4</td>\n",
       "      <td>1</td>\n",
       "      <td>1.0</td>\n",
       "    </tr>\n",
       "    <tr>\n",
       "      <th>2</th>\n",
       "      <td>30105</td>\n",
       "      <td>60094</td>\n",
       "      <td>494528</td>\n",
       "      <td>2019</td>\n",
       "      <td>7</td>\n",
       "      <td>20</td>\n",
       "      <td>5</td>\n",
       "      <td>1</td>\n",
       "      <td>1.0</td>\n",
       "    </tr>\n",
       "    <tr>\n",
       "      <th>3</th>\n",
       "      <td>30105</td>\n",
       "      <td>20575</td>\n",
       "      <td>494528</td>\n",
       "      <td>2019</td>\n",
       "      <td>7</td>\n",
       "      <td>3</td>\n",
       "      <td>2</td>\n",
       "      <td>1</td>\n",
       "      <td>1.0</td>\n",
       "    </tr>\n",
       "    <tr>\n",
       "      <th>4</th>\n",
       "      <td>30105</td>\n",
       "      <td>45938</td>\n",
       "      <td>494528</td>\n",
       "      <td>2019</td>\n",
       "      <td>5</td>\n",
       "      <td>26</td>\n",
       "      <td>6</td>\n",
       "      <td>1</td>\n",
       "      <td>1.0</td>\n",
       "    </tr>\n",
       "  </tbody>\n",
       "</table>\n",
       "</div>"
      ],
      "text/plain": [
       "   sourceid  destinationid  amountofmoney  year  month  day  dayofweek  \\\n",
       "0     30105          28942         494528  2019      7   19          4   \n",
       "1     30105           8692         494528  2019      5   17          4   \n",
       "2     30105          60094         494528  2019      7   20          5   \n",
       "3     30105          20575         494528  2019      7    3          2   \n",
       "4     30105          45938         494528  2019      5   26          6   \n",
       "\n",
       "   isfraud  operationtype  \n",
       "0        1            1.0  \n",
       "1        1            1.0  \n",
       "2        1            1.0  \n",
       "3        1            1.0  \n",
       "4        1            1.0  "
      ]
     },
     "execution_count": 8,
     "metadata": {},
     "output_type": "execute_result"
    }
   ],
   "source": [
    "# Add the encoded 'typeofaction' data to the original DataFrame\n",
    "df[\"operationtype\"] = encoded_df[\"typeofaction_cash-in\"]\n",
    "\n",
    "# Display sample data\n",
    "df.head()"
   ]
  },
  {
   "cell_type": "markdown",
   "metadata": {},
   "source": [
    "### Create the features and target sets\n",
    "\n",
    "The features set will be all the columns from the original DataFrame except the `isfraud` column that constitutes the target set."
   ]
  },
  {
   "cell_type": "code",
   "execution_count": 9,
   "metadata": {},
   "outputs": [
    {
     "data": {
      "text/html": [
       "<div>\n",
       "<style scoped>\n",
       "    .dataframe tbody tr th:only-of-type {\n",
       "        vertical-align: middle;\n",
       "    }\n",
       "\n",
       "    .dataframe tbody tr th {\n",
       "        vertical-align: top;\n",
       "    }\n",
       "\n",
       "    .dataframe thead th {\n",
       "        text-align: right;\n",
       "    }\n",
       "</style>\n",
       "<table border=\"1\" class=\"dataframe\">\n",
       "  <thead>\n",
       "    <tr style=\"text-align: right;\">\n",
       "      <th></th>\n",
       "      <th>sourceid</th>\n",
       "      <th>destinationid</th>\n",
       "      <th>amountofmoney</th>\n",
       "      <th>year</th>\n",
       "      <th>month</th>\n",
       "      <th>day</th>\n",
       "      <th>dayofweek</th>\n",
       "      <th>operationtype</th>\n",
       "    </tr>\n",
       "  </thead>\n",
       "  <tbody>\n",
       "    <tr>\n",
       "      <th>0</th>\n",
       "      <td>30105</td>\n",
       "      <td>28942</td>\n",
       "      <td>494528</td>\n",
       "      <td>2019</td>\n",
       "      <td>7</td>\n",
       "      <td>19</td>\n",
       "      <td>4</td>\n",
       "      <td>1.0</td>\n",
       "    </tr>\n",
       "    <tr>\n",
       "      <th>1</th>\n",
       "      <td>30105</td>\n",
       "      <td>8692</td>\n",
       "      <td>494528</td>\n",
       "      <td>2019</td>\n",
       "      <td>5</td>\n",
       "      <td>17</td>\n",
       "      <td>4</td>\n",
       "      <td>1.0</td>\n",
       "    </tr>\n",
       "    <tr>\n",
       "      <th>2</th>\n",
       "      <td>30105</td>\n",
       "      <td>60094</td>\n",
       "      <td>494528</td>\n",
       "      <td>2019</td>\n",
       "      <td>7</td>\n",
       "      <td>20</td>\n",
       "      <td>5</td>\n",
       "      <td>1.0</td>\n",
       "    </tr>\n",
       "    <tr>\n",
       "      <th>3</th>\n",
       "      <td>30105</td>\n",
       "      <td>20575</td>\n",
       "      <td>494528</td>\n",
       "      <td>2019</td>\n",
       "      <td>7</td>\n",
       "      <td>3</td>\n",
       "      <td>2</td>\n",
       "      <td>1.0</td>\n",
       "    </tr>\n",
       "    <tr>\n",
       "      <th>4</th>\n",
       "      <td>30105</td>\n",
       "      <td>45938</td>\n",
       "      <td>494528</td>\n",
       "      <td>2019</td>\n",
       "      <td>5</td>\n",
       "      <td>26</td>\n",
       "      <td>6</td>\n",
       "      <td>1.0</td>\n",
       "    </tr>\n",
       "  </tbody>\n",
       "</table>\n",
       "</div>"
      ],
      "text/plain": [
       "   sourceid  destinationid  amountofmoney  year  month  day  dayofweek  \\\n",
       "0     30105          28942         494528  2019      7   19          4   \n",
       "1     30105           8692         494528  2019      5   17          4   \n",
       "2     30105          60094         494528  2019      7   20          5   \n",
       "3     30105          20575         494528  2019      7    3          2   \n",
       "4     30105          45938         494528  2019      5   26          6   \n",
       "\n",
       "   operationtype  \n",
       "0            1.0  \n",
       "1            1.0  \n",
       "2            1.0  \n",
       "3            1.0  \n",
       "4            1.0  "
      ]
     },
     "execution_count": 9,
     "metadata": {},
     "output_type": "execute_result"
    }
   ],
   "source": [
    "# Creating the features set X\n",
    "X = df.drop(columns=[\"isfraud\"])\n",
    "\n",
    "# Display sample data\n",
    "X.head()"
   ]
  },
  {
   "cell_type": "code",
   "execution_count": 10,
   "metadata": {},
   "outputs": [
    {
     "data": {
      "text/plain": [
       "0    1\n",
       "1    1\n",
       "2    1\n",
       "3    1\n",
       "4    1\n",
       "Name: isfraud, dtype: int64"
      ]
     },
     "execution_count": 10,
     "metadata": {},
     "output_type": "execute_result"
    }
   ],
   "source": [
    "# Creating the target set y\n",
    "y = df[\"isfraud\"]\n",
    "\n",
    "# Display sample data\n",
    "y.head()"
   ]
  },
  {
   "cell_type": "markdown",
   "metadata": {},
   "source": [
    "### Split the features and target sets into training and testing datasets"
   ]
  },
  {
   "cell_type": "code",
   "execution_count": 11,
   "metadata": {},
   "outputs": [],
   "source": [
    "# Split the preprocessed data into a training and testing dataset\n",
    "X_train, X_test, y_train, y_test = train_test_split(X, y, random_state=1)"
   ]
  },
  {
   "cell_type": "markdown",
   "metadata": {},
   "source": [
    "### Use the Scikit-Learn’s `StandardScaler` to scale the features data"
   ]
  },
  {
   "cell_type": "code",
   "execution_count": 12,
   "metadata": {},
   "outputs": [],
   "source": [
    "# Create a StandardScaler instance\n",
    "scaler = StandardScaler()\n",
    "\n",
    "# Fit the StandardScaler\n",
    "X_scaler = scaler.fit(X_train)\n",
    "\n",
    "# Scale the data\n",
    "X_train_scaled = X_scaler.transform(X_train)\n",
    "X_test_scaled = X_scaler.transform(X_test)"
   ]
  },
  {
   "cell_type": "markdown",
   "metadata": {},
   "source": [
    "## Create a Machine Learning Model in SageMaker Studio"
   ]
  },
  {
   "cell_type": "markdown",
   "metadata": {},
   "source": [
    "### Importing the required libraries"
   ]
  },
  {
   "cell_type": "code",
   "execution_count": 13,
   "metadata": {},
   "outputs": [],
   "source": [
    "# Import Amazon SageMaker libraries and modules\n",
    "import sagemaker\n",
    "import sagemaker.amazon.common as smac\n",
    "from sagemaker import get_execution_role\n",
    "from sagemaker.predictor import csv_serializer, json_deserializer\n",
    "\n",
    "# Import AWS Python SDK\n",
    "import boto3\n",
    "\n",
    "# Import support libraries\n",
    "import io\n",
    "import os\n",
    "import json\n",
    "import numpy as np"
   ]
  },
  {
   "cell_type": "markdown",
   "metadata": {},
   "source": [
    "### Configure general settings for the SageMaker model"
   ]
  },
  {
   "cell_type": "code",
   "execution_count": 14,
   "metadata": {},
   "outputs": [],
   "source": [
    "# Set the S3 bucket name\n",
    "bucket = \"fintech-bootcamp-activities-jams-2022-01-11\""
   ]
  },
  {
   "cell_type": "code",
   "execution_count": 15,
   "metadata": {},
   "outputs": [],
   "source": [
    "# Set a prefix for the data files\n",
    "prefix = \"money-laundering\""
   ]
  },
  {
   "cell_type": "code",
   "execution_count": 16,
   "metadata": {},
   "outputs": [],
   "source": [
    "# Set the IAM execution role\n",
    "role = get_execution_role()"
   ]
  },
  {
   "cell_type": "markdown",
   "metadata": {},
   "source": [
    "### Upload the training and testing data to Amazon S3"
   ]
  },
  {
   "cell_type": "markdown",
   "metadata": {},
   "source": [
    "#### Encode and upload the training data"
   ]
  },
  {
   "cell_type": "code",
   "execution_count": 17,
   "metadata": {},
   "outputs": [
    {
     "name": "stdout",
     "output_type": "stream",
     "text": [
      "Training data uploaded to: s3://fintech-bootcamp-activities-jams-2022-01-11/money-laundering/train/linear_train.data\n"
     ]
    }
   ],
   "source": [
    "# Encode the training data as Protocol Buffer\n",
    "buf = io.BytesIO()\n",
    "vectors = np.array(X_train).astype(\"float32\")\n",
    "labels = np.array(y_train).astype(\"float32\")\n",
    "smac.write_numpy_to_dense_tensor(buf, vectors, labels)\n",
    "buf.seek(0)\n",
    "\n",
    "# Upload encoded training data to Amazon S3\n",
    "key = 'linear_train.data'\n",
    "boto3.resource(\"s3\").Bucket(bucket).Object(os.path.join(prefix, \"train\", key)).upload_fileobj(buf)\n",
    "s3_train_data = \"s3://{}/{}/train/{}\".format(bucket, prefix, key)\n",
    "print(\"Training data uploaded to: {}\".format(s3_train_data))"
   ]
  },
  {
   "cell_type": "markdown",
   "metadata": {},
   "source": [
    "#### Encode and upload the testing data"
   ]
  },
  {
   "cell_type": "code",
   "execution_count": 18,
   "metadata": {},
   "outputs": [
    {
     "name": "stdout",
     "output_type": "stream",
     "text": [
      "Testing data uploaded to: s3://fintech-bootcamp-activities-jams-2022-01-11/money-laundering/test/linear_test.data\n"
     ]
    }
   ],
   "source": [
    "# Encode the testing data as Protocol Buffer\n",
    "buf = io.BytesIO()\n",
    "vectors = np.array(X_test).astype(\"float32\")\n",
    "labels = np.array(y_test).astype(\"float32\")\n",
    "smac.write_numpy_to_dense_tensor(buf, vectors, labels)\n",
    "buf.seek(0)\n",
    "\n",
    "# Upload encoded testing data to Amazon S3\n",
    "key = \"linear_test.data\"\n",
    "boto3.resource(\"s3\").Bucket(bucket).Object(os.path.join(prefix, \"test\", key)).upload_fileobj(buf)\n",
    "s3_test_data = \"s3://{}/{}/test/{}\".format(bucket, prefix, key)\n",
    "print(\"Testing data uploaded to: {}\".format(s3_test_data))"
   ]
  },
  {
   "cell_type": "markdown",
   "metadata": {},
   "source": [
    "### Specify the Amazon SageMaker session to use"
   ]
  },
  {
   "cell_type": "code",
   "execution_count": 19,
   "metadata": {},
   "outputs": [],
   "source": [
    "# Save the current session in a variable\n",
    "sess = sagemaker.Session()"
   ]
  },
  {
   "cell_type": "markdown",
   "metadata": {},
   "source": [
    "### Create an instance of the machine learning model"
   ]
  },
  {
   "cell_type": "code",
   "execution_count": 20,
   "metadata": {},
   "outputs": [],
   "source": [
    "# Import the get_image_uri module from the sagamaker library\n",
    "from sagemaker.amazon.amazon_estimator import get_image_uri"
   ]
  },
  {
   "cell_type": "code",
   "execution_count": 21,
   "metadata": {},
   "outputs": [
    {
     "name": "stderr",
     "output_type": "stream",
     "text": [
      "The method get_image_uri has been renamed in sagemaker>=2.\n",
      "See: https://sagemaker.readthedocs.io/en/stable/v2.html for details.\n",
      "Defaulting to the only supported framework/algorithm version: 1. Ignoring framework/algorithm version: 1.\n"
     ]
    }
   ],
   "source": [
    "# Import the container image\n",
    "container = get_image_uri(boto3.Session().region_name, \"linear-learner\")"
   ]
  },
  {
   "cell_type": "code",
   "execution_count": 22,
   "metadata": {},
   "outputs": [
    {
     "name": "stderr",
     "output_type": "stream",
     "text": [
      "train_instance_count has been renamed in sagemaker>=2.\n",
      "See: https://sagemaker.readthedocs.io/en/stable/v2.html for details.\n",
      "train_instance_type has been renamed in sagemaker>=2.\n",
      "See: https://sagemaker.readthedocs.io/en/stable/v2.html for details.\n"
     ]
    }
   ],
   "source": [
    "# Create an instance of the machine learning model\n",
    "linear = sagemaker.estimator.Estimator(\n",
    "    container,\n",
    "    role,\n",
    "    train_instance_count=1,\n",
    "    train_instance_type=\"ml.m4.xlarge\",\n",
    "    output_path=\"s3://{}/{}/output\".format(bucket, prefix),\n",
    "    sagemaker_session=sess,\n",
    ")"
   ]
  },
  {
   "cell_type": "markdown",
   "metadata": {},
   "source": [
    "### Define Linear Learner hyperparameters"
   ]
  },
  {
   "cell_type": "code",
   "execution_count": 23,
   "metadata": {},
   "outputs": [],
   "source": [
    "# Get the dimension of the feature-input vector\n",
    "feature_dim = X.shape[1]"
   ]
  },
  {
   "cell_type": "code",
   "execution_count": 24,
   "metadata": {},
   "outputs": [],
   "source": [
    "# Define linear learner hyperparameters\n",
    "linear.set_hyperparameters(\n",
    "    feature_dim=feature_dim,\n",
    "    mini_batch_size=200,\n",
    "    predictor_type=\"binary_classifier\"\n",
    ")"
   ]
  },
  {
   "cell_type": "markdown",
   "metadata": {},
   "source": [
    "## Fit the Machine Learning Model in SageMaker Studio\n",
    "\n",
    "Use the fit function of the model to train it using the train and testing data stored in the Amazon S3 bucket."
   ]
  },
  {
   "cell_type": "code",
   "execution_count": 25,
   "metadata": {
    "scrolled": true
   },
   "outputs": [
    {
     "name": "stdout",
     "output_type": "stream",
     "text": [
      "2022-01-11 18:17:38 Starting - Starting the training job...\n",
      "2022-01-11 18:18:03 Starting - Launching requested ML instancesProfilerReport-1641925058: InProgress\n",
      "......\n",
      "2022-01-11 18:19:04 Starting - Preparing the instances for training.........\n",
      "2022-01-11 18:20:24 Downloading - Downloading input data...\n",
      "2022-01-11 18:21:04 Training - Downloading the training image..\u001b[34mDocker entrypoint called with argument(s): train\u001b[0m\n",
      "\u001b[34mRunning default environment configuration script\u001b[0m\n",
      "\n",
      "2022-01-11 18:21:33 Uploading - Uploading generated training model\u001b[34m[01/11/2022 18:21:28 INFO 139726488319808] Reading default configuration from /opt/amazon/lib/python3.7/site-packages/algorithm/resources/default-input.json: {'mini_batch_size': '1000', 'epochs': '15', 'feature_dim': 'auto', 'use_bias': 'true', 'binary_classifier_model_selection_criteria': 'accuracy', 'f_beta': '1.0', 'target_recall': '0.8', 'target_precision': '0.8', 'num_models': 'auto', 'num_calibration_samples': '10000000', 'init_method': 'uniform', 'init_scale': '0.07', 'init_sigma': '0.01', 'init_bias': '0.0', 'optimizer': 'auto', 'loss': 'auto', 'margin': '1.0', 'quantile': '0.5', 'loss_insensitivity': '0.01', 'huber_delta': '1.0', 'num_classes': '1', 'accuracy_top_k': '3', 'wd': 'auto', 'l1': 'auto', 'momentum': 'auto', 'learning_rate': 'auto', 'beta_1': 'auto', 'beta_2': 'auto', 'bias_lr_mult': 'auto', 'bias_wd_mult': 'auto', 'use_lr_scheduler': 'true', 'lr_scheduler_step': 'auto', 'lr_scheduler_factor': 'auto', 'lr_scheduler_minimum_lr': 'auto', 'positive_example_weight_mult': '1.0', 'balance_multiclass_weights': 'false', 'normalize_data': 'true', 'normalize_label': 'auto', 'unbias_data': 'auto', 'unbias_label': 'auto', 'num_point_for_scaler': '10000', '_kvstore': 'auto', '_num_gpus': 'auto', '_num_kv_servers': 'auto', '_log_level': 'info', '_tuning_objective_metric': '', 'early_stopping_patience': '3', 'early_stopping_tolerance': '0.001', '_enable_profiler': 'false'}\u001b[0m\n",
      "\u001b[34m[01/11/2022 18:21:28 INFO 139726488319808] Merging with provided configuration from /opt/ml/input/config/hyperparameters.json: {'feature_dim': '8', 'predictor_type': 'binary_classifier', 'mini_batch_size': '200'}\u001b[0m\n",
      "\u001b[34m[01/11/2022 18:21:28 INFO 139726488319808] Final configuration: {'mini_batch_size': '200', 'epochs': '15', 'feature_dim': '8', 'use_bias': 'true', 'binary_classifier_model_selection_criteria': 'accuracy', 'f_beta': '1.0', 'target_recall': '0.8', 'target_precision': '0.8', 'num_models': 'auto', 'num_calibration_samples': '10000000', 'init_method': 'uniform', 'init_scale': '0.07', 'init_sigma': '0.01', 'init_bias': '0.0', 'optimizer': 'auto', 'loss': 'auto', 'margin': '1.0', 'quantile': '0.5', 'loss_insensitivity': '0.01', 'huber_delta': '1.0', 'num_classes': '1', 'accuracy_top_k': '3', 'wd': 'auto', 'l1': 'auto', 'momentum': 'auto', 'learning_rate': 'auto', 'beta_1': 'auto', 'beta_2': 'auto', 'bias_lr_mult': 'auto', 'bias_wd_mult': 'auto', 'use_lr_scheduler': 'true', 'lr_scheduler_step': 'auto', 'lr_scheduler_factor': 'auto', 'lr_scheduler_minimum_lr': 'auto', 'positive_example_weight_mult': '1.0', 'balance_multiclass_weights': 'false', 'normalize_data': 'true', 'normalize_label': 'auto', 'unbias_data': 'auto', 'unbias_label': 'auto', 'num_point_for_scaler': '10000', '_kvstore': 'auto', '_num_gpus': 'auto', '_num_kv_servers': 'auto', '_log_level': 'info', '_tuning_objective_metric': '', 'early_stopping_patience': '3', 'early_stopping_tolerance': '0.001', '_enable_profiler': 'false', 'predictor_type': 'binary_classifier'}\u001b[0m\n",
      "\u001b[34m[01/11/2022 18:21:28 WARNING 139726488319808] Loggers have already been setup.\u001b[0m\n",
      "\u001b[34mProcess 1 is a worker.\u001b[0m\n",
      "\u001b[34m[01/11/2022 18:21:28 INFO 139726488319808] Using default worker.\u001b[0m\n",
      "\u001b[34m[01/11/2022 18:21:28 INFO 139726488319808] Checkpoint loading and saving are disabled.\u001b[0m\n",
      "\u001b[34m[2022-01-11 18:21:28.723] [tensorio] [warning] TensorIO is already initialized; ignoring the initialization routine.\u001b[0m\n",
      "\u001b[34m[2022-01-11 18:21:28.740] [tensorio] [info] epoch_stats={\"data_pipeline\": \"/opt/ml/input/data/train\", \"epoch\": 0, \"duration\": 18, \"num_examples\": 1, \"num_bytes\": 15200}\u001b[0m\n",
      "\u001b[34m[01/11/2022 18:21:28 INFO 139726488319808] Create Store: local\u001b[0m\n",
      "\u001b[34m[2022-01-11 18:21:28.802] [tensorio] [info] epoch_stats={\"data_pipeline\": \"/opt/ml/input/data/train\", \"epoch\": 1, \"duration\": 60, \"num_examples\": 9, \"num_bytes\": 133380}\u001b[0m\n",
      "\u001b[34m[01/11/2022 18:21:28 INFO 139726488319808] Scaler algorithm parameters\n",
      " <algorithm.scaler.ScalerAlgorithmStable object at 0x7f143774fad0>\u001b[0m\n",
      "\u001b[34m[01/11/2022 18:21:28 INFO 139726488319808] Scaling model computed with parameters:\n",
      " {'stdev_label': None, 'stdev_weight': \u001b[0m\n",
      "\u001b[34m[2.9651891e+04 2.9053816e+04 2.5471455e+06 1.2207031e-04 1.4417648e+00\n",
      " 8.6851788e+00 1.9944726e+00 4.7220850e-01]\u001b[0m\n",
      "\u001b[34m<NDArray 8 @cpu(0)>, 'mean_label': None, 'mean_weight': \u001b[0m\n",
      "\u001b[34m[4.8553828e+04 5.2081477e+04 2.4836655e+06 2.0190001e+03 4.7237496e+00\n",
      " 1.5571877e+01 3.0381253e+00 3.3562499e-01]\u001b[0m\n",
      "\u001b[34m<NDArray 8 @cpu(0)>}\u001b[0m\n",
      "\u001b[34m[01/11/2022 18:21:28 INFO 139726488319808] nvidia-smi: took 0.032 seconds to run.\u001b[0m\n",
      "\u001b[34m[01/11/2022 18:21:28 INFO 139726488319808] nvidia-smi identified 0 GPUs.\u001b[0m\n",
      "\u001b[34m[01/11/2022 18:21:28 INFO 139726488319808] Number of GPUs being used: 0\u001b[0m\n",
      "\u001b[34m#metrics {\"StartTime\": 1641925288.9319384, \"EndTime\": 1641925288.9319801, \"Dimensions\": {\"Algorithm\": \"Linear Learner\", \"Host\": \"algo-1\", \"Operation\": \"training\", \"Meta\": \"init_train_data_iter\"}, \"Metrics\": {\"Total Records Seen\": {\"sum\": 1955.0, \"count\": 1, \"min\": 1955, \"max\": 1955}, \"Total Batches Seen\": {\"sum\": 10.0, \"count\": 1, \"min\": 10, \"max\": 10}, \"Max Records Seen Between Resets\": {\"sum\": 1755.0, \"count\": 1, \"min\": 1755, \"max\": 1755}, \"Max Batches Seen Between Resets\": {\"sum\": 9.0, \"count\": 1, \"min\": 9, \"max\": 9}, \"Reset Count\": {\"sum\": 2.0, \"count\": 1, \"min\": 2, \"max\": 2}, \"Number of Records Since Last Reset\": {\"sum\": 0.0, \"count\": 1, \"min\": 0, \"max\": 0}, \"Number of Batches Since Last Reset\": {\"sum\": 0.0, \"count\": 1, \"min\": 0, \"max\": 0}}}\u001b[0m\n",
      "\u001b[34m[2022-01-11 18:21:29.233] [tensorio] [info] epoch_stats={\"data_pipeline\": \"/opt/ml/input/data/train\", \"epoch\": 4, \"duration\": 301, \"num_examples\": 9, \"num_bytes\": 133380}\u001b[0m\n",
      "\u001b[34m#metrics {\"StartTime\": 1641925289.2339594, \"EndTime\": 1641925289.234068, \"Dimensions\": {\"Algorithm\": \"Linear Learner\", \"Host\": \"algo-1\", \"Operation\": \"training\", \"epoch\": 0, \"model\": 0}, \"Metrics\": {\"train_binary_classification_cross_entropy_objective\": {\"sum\": 0.6860115623474121, \"count\": 1, \"min\": 0.6860115623474121, \"max\": 0.6860115623474121}}}\u001b[0m\n",
      "\u001b[34m#metrics {\"StartTime\": 1641925289.2341876, \"EndTime\": 1641925289.2342129, \"Dimensions\": {\"Algorithm\": \"Linear Learner\", \"Host\": \"algo-1\", \"Operation\": \"training\", \"epoch\": 0, \"model\": 1}, \"Metrics\": {\"train_binary_classification_cross_entropy_objective\": {\"sum\": 0.6804778480529785, \"count\": 1, \"min\": 0.6804778480529785, \"max\": 0.6804778480529785}}}\u001b[0m\n",
      "\u001b[34m#metrics {\"StartTime\": 1641925289.2342615, \"EndTime\": 1641925289.2342725, \"Dimensions\": {\"Algorithm\": \"Linear Learner\", \"Host\": \"algo-1\", \"Operation\": \"training\", \"epoch\": 0, \"model\": 2}, \"Metrics\": {\"train_binary_classification_cross_entropy_objective\": {\"sum\": 0.6853068351745606, \"count\": 1, \"min\": 0.6853068351745606, \"max\": 0.6853068351745606}}}\u001b[0m\n",
      "\u001b[34m#metrics {\"StartTime\": 1641925289.2343228, \"EndTime\": 1641925289.2343411, \"Dimensions\": {\"Algorithm\": \"Linear Learner\", \"Host\": \"algo-1\", \"Operation\": \"training\", \"epoch\": 0, \"model\": 3}, \"Metrics\": {\"train_binary_classification_cross_entropy_objective\": {\"sum\": 0.6845698547363281, \"count\": 1, \"min\": 0.6845698547363281, \"max\": 0.6845698547363281}}}\u001b[0m\n",
      "\u001b[34m#metrics {\"StartTime\": 1641925289.2344036, \"EndTime\": 1641925289.2344484, \"Dimensions\": {\"Algorithm\": \"Linear Learner\", \"Host\": \"algo-1\", \"Operation\": \"training\", \"epoch\": 0, \"model\": 4}, \"Metrics\": {\"train_binary_classification_cross_entropy_objective\": {\"sum\": 0.6969400024414063, \"count\": 1, \"min\": 0.6969400024414063, \"max\": 0.6969400024414063}}}\u001b[0m\n",
      "\u001b[34m#metrics {\"StartTime\": 1641925289.2345097, \"EndTime\": 1641925289.2345283, \"Dimensions\": {\"Algorithm\": \"Linear Learner\", \"Host\": \"algo-1\", \"Operation\": \"training\", \"epoch\": 0, \"model\": 5}, \"Metrics\": {\"train_binary_classification_cross_entropy_objective\": {\"sum\": 0.6941109371185302, \"count\": 1, \"min\": 0.6941109371185302, \"max\": 0.6941109371185302}}}\u001b[0m\n",
      "\u001b[34m#metrics {\"StartTime\": 1641925289.2345934, \"EndTime\": 1641925289.234611, \"Dimensions\": {\"Algorithm\": \"Linear Learner\", \"Host\": \"algo-1\", \"Operation\": \"training\", \"epoch\": 0, \"model\": 6}, \"Metrics\": {\"train_binary_classification_cross_entropy_objective\": {\"sum\": 0.6927959537506103, \"count\": 1, \"min\": 0.6927959537506103, \"max\": 0.6927959537506103}}}\u001b[0m\n",
      "\u001b[34m#metrics {\"StartTime\": 1641925289.2346768, \"EndTime\": 1641925289.2346942, \"Dimensions\": {\"Algorithm\": \"Linear Learner\", \"Host\": \"algo-1\", \"Operation\": \"training\", \"epoch\": 0, \"model\": 7}, \"Metrics\": {\"train_binary_classification_cross_entropy_objective\": {\"sum\": 0.6959295177459717, \"count\": 1, \"min\": 0.6959295177459717, \"max\": 0.6959295177459717}}}\u001b[0m\n",
      "\u001b[34m#metrics {\"StartTime\": 1641925289.2347548, \"EndTime\": 1641925289.234773, \"Dimensions\": {\"Algorithm\": \"Linear Learner\", \"Host\": \"algo-1\", \"Operation\": \"training\", \"epoch\": 0, \"model\": 8}, \"Metrics\": {\"train_binary_classification_cross_entropy_objective\": {\"sum\": 0.6820973110198975, \"count\": 1, \"min\": 0.6820973110198975, \"max\": 0.6820973110198975}}}\u001b[0m\n",
      "\u001b[34m#metrics {\"StartTime\": 1641925289.2348294, \"EndTime\": 1641925289.234847, \"Dimensions\": {\"Algorithm\": \"Linear Learner\", \"Host\": \"algo-1\", \"Operation\": \"training\", \"epoch\": 0, \"model\": 9}, \"Metrics\": {\"train_binary_classification_cross_entropy_objective\": {\"sum\": 0.683103265762329, \"count\": 1, \"min\": 0.683103265762329, \"max\": 0.683103265762329}}}\u001b[0m\n",
      "\u001b[34m#metrics {\"StartTime\": 1641925289.2349045, \"EndTime\": 1641925289.2349222, \"Dimensions\": {\"Algorithm\": \"Linear Learner\", \"Host\": \"algo-1\", \"Operation\": \"training\", \"epoch\": 0, \"model\": 10}, \"Metrics\": {\"train_binary_classification_cross_entropy_objective\": {\"sum\": 0.6821413707733154, \"count\": 1, \"min\": 0.6821413707733154, \"max\": 0.6821413707733154}}}\u001b[0m\n",
      "\u001b[34m#metrics {\"StartTime\": 1641925289.2349877, \"EndTime\": 1641925289.2350056, \"Dimensions\": {\"Algorithm\": \"Linear Learner\", \"Host\": \"algo-1\", \"Operation\": \"training\", \"epoch\": 0, \"model\": 11}, \"Metrics\": {\"train_binary_classification_cross_entropy_objective\": {\"sum\": 0.6838372421264648, \"count\": 1, \"min\": 0.6838372421264648, \"max\": 0.6838372421264648}}}\u001b[0m\n",
      "\u001b[34m#metrics {\"StartTime\": 1641925289.23506, \"EndTime\": 1641925289.235077, \"Dimensions\": {\"Algorithm\": \"Linear Learner\", \"Host\": \"algo-1\", \"Operation\": \"training\", \"epoch\": 0, \"model\": 12}, \"Metrics\": {\"train_binary_classification_cross_entropy_objective\": {\"sum\": 0.6932842063903809, \"count\": 1, \"min\": 0.6932842063903809, \"max\": 0.6932842063903809}}}\u001b[0m\n",
      "\u001b[34m#metrics {\"StartTime\": 1641925289.2351317, \"EndTime\": 1641925289.2351484, \"Dimensions\": {\"Algorithm\": \"Linear Learner\", \"Host\": \"algo-1\", \"Operation\": \"training\", \"epoch\": 0, \"model\": 13}, \"Metrics\": {\"train_binary_classification_cross_entropy_objective\": {\"sum\": 0.6933366966247558, \"count\": 1, \"min\": 0.6933366966247558, \"max\": 0.6933366966247558}}}\u001b[0m\n",
      "\u001b[34m#metrics {\"StartTime\": 1641925289.2352037, \"EndTime\": 1641925289.2352295, \"Dimensions\": {\"Algorithm\": \"Linear Learner\", \"Host\": \"algo-1\", \"Operation\": \"training\", \"epoch\": 0, \"model\": 14}, \"Metrics\": {\"train_binary_classification_cross_entropy_objective\": {\"sum\": 0.6939684391021729, \"count\": 1, \"min\": 0.6939684391021729, \"max\": 0.6939684391021729}}}\u001b[0m\n",
      "\u001b[34m#metrics {\"StartTime\": 1641925289.2352912, \"EndTime\": 1641925289.2353103, \"Dimensions\": {\"Algorithm\": \"Linear Learner\", \"Host\": \"algo-1\", \"Operation\": \"training\", \"epoch\": 0, \"model\": 15}, \"Metrics\": {\"train_binary_classification_cross_entropy_objective\": {\"sum\": 0.6929528903961182, \"count\": 1, \"min\": 0.6929528903961182, \"max\": 0.6929528903961182}}}\u001b[0m\n",
      "\u001b[34m#metrics {\"StartTime\": 1641925289.2353716, \"EndTime\": 1641925289.2353911, \"Dimensions\": {\"Algorithm\": \"Linear Learner\", \"Host\": \"algo-1\", \"Operation\": \"training\", \"epoch\": 0, \"model\": 16}, \"Metrics\": {\"train_binary_classification_cross_entropy_objective\": {\"sum\": 0.6853672122955322, \"count\": 1, \"min\": 0.6853672122955322, \"max\": 0.6853672122955322}}}\u001b[0m\n",
      "\u001b[34m#metrics {\"StartTime\": 1641925289.23545, \"EndTime\": 1641925289.2354698, \"Dimensions\": {\"Algorithm\": \"Linear Learner\", \"Host\": \"algo-1\", \"Operation\": \"training\", \"epoch\": 0, \"model\": 17}, \"Metrics\": {\"train_binary_classification_cross_entropy_objective\": {\"sum\": 0.6827764225006103, \"count\": 1, \"min\": 0.6827764225006103, \"max\": 0.6827764225006103}}}\u001b[0m\n",
      "\u001b[34m#metrics {\"StartTime\": 1641925289.2355282, \"EndTime\": 1641925289.2355452, \"Dimensions\": {\"Algorithm\": \"Linear Learner\", \"Host\": \"algo-1\", \"Operation\": \"training\", \"epoch\": 0, \"model\": 18}, \"Metrics\": {\"train_binary_classification_cross_entropy_objective\": {\"sum\": 0.6843938827514648, \"count\": 1, \"min\": 0.6843938827514648, \"max\": 0.6843938827514648}}}\u001b[0m\n",
      "\u001b[34m#metrics {\"StartTime\": 1641925289.235601, \"EndTime\": 1641925289.2356186, \"Dimensions\": {\"Algorithm\": \"Linear Learner\", \"Host\": \"algo-1\", \"Operation\": \"training\", \"epoch\": 0, \"model\": 19}, \"Metrics\": {\"train_binary_classification_cross_entropy_objective\": {\"sum\": 0.6862820148468017, \"count\": 1, \"min\": 0.6862820148468017, \"max\": 0.6862820148468017}}}\u001b[0m\n",
      "\u001b[34m#metrics {\"StartTime\": 1641925289.2356822, \"EndTime\": 1641925289.2357008, \"Dimensions\": {\"Algorithm\": \"Linear Learner\", \"Host\": \"algo-1\", \"Operation\": \"training\", \"epoch\": 0, \"model\": 20}, \"Metrics\": {\"train_binary_classification_cross_entropy_objective\": {\"sum\": 0.6900393867492676, \"count\": 1, \"min\": 0.6900393867492676, \"max\": 0.6900393867492676}}}\u001b[0m\n",
      "\u001b[34m#metrics {\"StartTime\": 1641925289.2357502, \"EndTime\": 1641925289.235767, \"Dimensions\": {\"Algorithm\": \"Linear Learner\", \"Host\": \"algo-1\", \"Operation\": \"training\", \"epoch\": 0, \"model\": 21}, \"Metrics\": {\"train_binary_classification_cross_entropy_objective\": {\"sum\": 0.6893032932281494, \"count\": 1, \"min\": 0.6893032932281494, \"max\": 0.6893032932281494}}}\u001b[0m\n",
      "\u001b[34m#metrics {\"StartTime\": 1641925289.2358248, \"EndTime\": 1641925289.235842, \"Dimensions\": {\"Algorithm\": \"Linear Learner\", \"Host\": \"algo-1\", \"Operation\": \"training\", \"epoch\": 0, \"model\": 22}, \"Metrics\": {\"train_binary_classification_cross_entropy_objective\": {\"sum\": 0.6912676048278809, \"count\": 1, \"min\": 0.6912676048278809, \"max\": 0.6912676048278809}}}\u001b[0m\n",
      "\u001b[34m#metrics {\"StartTime\": 1641925289.2358873, \"EndTime\": 1641925289.2359045, \"Dimensions\": {\"Algorithm\": \"Linear Learner\", \"Host\": \"algo-1\", \"Operation\": \"training\", \"epoch\": 0, \"model\": 23}, \"Metrics\": {\"train_binary_classification_cross_entropy_objective\": {\"sum\": 0.6894371795654297, \"count\": 1, \"min\": 0.6894371795654297, \"max\": 0.6894371795654297}}}\u001b[0m\n",
      "\u001b[34m#metrics {\"StartTime\": 1641925289.2359507, \"EndTime\": 1641925289.2359653, \"Dimensions\": {\"Algorithm\": \"Linear Learner\", \"Host\": \"algo-1\", \"Operation\": \"training\", \"epoch\": 0, \"model\": 24}, \"Metrics\": {\"train_binary_classification_cross_entropy_objective\": {\"sum\": 0.6832230567932129, \"count\": 1, \"min\": 0.6832230567932129, \"max\": 0.6832230567932129}}}\u001b[0m\n",
      "\u001b[34m#metrics {\"StartTime\": 1641925289.2360241, \"EndTime\": 1641925289.2360418, \"Dimensions\": {\"Algorithm\": \"Linear Learner\", \"Host\": \"algo-1\", \"Operation\": \"training\", \"epoch\": 0, \"model\": 25}, \"Metrics\": {\"train_binary_classification_cross_entropy_objective\": {\"sum\": 0.6869813632965088, \"count\": 1, \"min\": 0.6869813632965088, \"max\": 0.6869813632965088}}}\u001b[0m\n",
      "\u001b[34m#metrics {\"StartTime\": 1641925289.236085, \"EndTime\": 1641925289.2361016, \"Dimensions\": {\"Algorithm\": \"Linear Learner\", \"Host\": \"algo-1\", \"Operation\": \"training\", \"epoch\": 0, \"model\": 26}, \"Metrics\": {\"train_binary_classification_cross_entropy_objective\": {\"sum\": 0.685201301574707, \"count\": 1, \"min\": 0.685201301574707, \"max\": 0.685201301574707}}}\u001b[0m\n",
      "\u001b[34m#metrics {\"StartTime\": 1641925289.2361457, \"EndTime\": 1641925289.2361612, \"Dimensions\": {\"Algorithm\": \"Linear Learner\", \"Host\": \"algo-1\", \"Operation\": \"training\", \"epoch\": 0, \"model\": 27}, \"Metrics\": {\"train_binary_classification_cross_entropy_objective\": {\"sum\": 0.6820261669158936, \"count\": 1, \"min\": 0.6820261669158936, \"max\": 0.6820261669158936}}}\u001b[0m\n",
      "\u001b[34m#metrics {\"StartTime\": 1641925289.2362175, \"EndTime\": 1641925289.2362342, \"Dimensions\": {\"Algorithm\": \"Linear Learner\", \"Host\": \"algo-1\", \"Operation\": \"training\", \"epoch\": 0, \"model\": 28}, \"Metrics\": {\"train_binary_classification_cross_entropy_objective\": {\"sum\": 0.6899580860137939, \"count\": 1, \"min\": 0.6899580860137939, \"max\": 0.6899580860137939}}}\u001b[0m\n",
      "\u001b[34m#metrics {\"StartTime\": 1641925289.236282, \"EndTime\": 1641925289.236299, \"Dimensions\": {\"Algorithm\": \"Linear Learner\", \"Host\": \"algo-1\", \"Operation\": \"training\", \"epoch\": 0, \"model\": 29}, \"Metrics\": {\"train_binary_classification_cross_entropy_objective\": {\"sum\": 0.6893245887756347, \"count\": 1, \"min\": 0.6893245887756347, \"max\": 0.6893245887756347}}}\u001b[0m\n",
      "\u001b[34m#metrics {\"StartTime\": 1641925289.2363443, \"EndTime\": 1641925289.2363615, \"Dimensions\": {\"Algorithm\": \"Linear Learner\", \"Host\": \"algo-1\", \"Operation\": \"training\", \"epoch\": 0, \"model\": 30}, \"Metrics\": {\"train_binary_classification_cross_entropy_objective\": {\"sum\": 0.6908002567291259, \"count\": 1, \"min\": 0.6908002567291259, \"max\": 0.6908002567291259}}}\u001b[0m\n",
      "\u001b[34m#metrics {\"StartTime\": 1641925289.236405, \"EndTime\": 1641925289.2364204, \"Dimensions\": {\"Algorithm\": \"Linear Learner\", \"Host\": \"algo-1\", \"Operation\": \"training\", \"epoch\": 0, \"model\": 31}, \"Metrics\": {\"train_binary_classification_cross_entropy_objective\": {\"sum\": 0.6837297821044922, \"count\": 1, \"min\": 0.6837297821044922, \"max\": 0.6837297821044922}}}\u001b[0m\n",
      "\u001b[34m[01/11/2022 18:21:29 INFO 139726488319808] #quality_metric: host=algo-1, epoch=0, train binary_classification_cross_entropy_objective <loss>=0.6860115623474121\u001b[0m\n",
      "\u001b[34m[01/11/2022 18:21:29 INFO 139726488319808] #early_stopping_criteria_metric: host=algo-1, epoch=0, criteria=binary_classification_cross_entropy_objective, value=0.6804778480529785\u001b[0m\n",
      "\u001b[34m[01/11/2022 18:21:29 INFO 139726488319808] Epoch 0: Loss improved. Updating best model\u001b[0m\n",
      "\u001b[34m[01/11/2022 18:21:29 INFO 139726488319808] Saving model for epoch: 0\u001b[0m\n",
      "\u001b[34m[01/11/2022 18:21:29 INFO 139726488319808] Saved checkpoint to \"/tmp/tmpk9dq2zcv/mx-mod-0000.params\"\u001b[0m\n",
      "\u001b[34m[01/11/2022 18:21:29 INFO 139726488319808] #progress_metric: host=algo-1, completed 6.666666666666667 % of epochs\u001b[0m\n",
      "\u001b[34m#metrics {\"StartTime\": 1641925288.932292, \"EndTime\": 1641925289.2509375, \"Dimensions\": {\"Algorithm\": \"Linear Learner\", \"Host\": \"algo-1\", \"Operation\": \"training\", \"epoch\": 0, \"Meta\": \"training_data_iter\"}, \"Metrics\": {\"Total Records Seen\": {\"sum\": 3710.0, \"count\": 1, \"min\": 3710, \"max\": 3710}, \"Total Batches Seen\": {\"sum\": 19.0, \"count\": 1, \"min\": 19, \"max\": 19}, \"Max Records Seen Between Resets\": {\"sum\": 1755.0, \"count\": 1, \"min\": 1755, \"max\": 1755}, \"Max Batches Seen Between Resets\": {\"sum\": 9.0, \"count\": 1, \"min\": 9, \"max\": 9}, \"Reset Count\": {\"sum\": 3.0, \"count\": 1, \"min\": 3, \"max\": 3}, \"Number of Records Since Last Reset\": {\"sum\": 1755.0, \"count\": 1, \"min\": 1755, \"max\": 1755}, \"Number of Batches Since Last Reset\": {\"sum\": 9.0, \"count\": 1, \"min\": 9, \"max\": 9}}}\u001b[0m\n",
      "\u001b[34m[01/11/2022 18:21:29 INFO 139726488319808] #throughput_metric: host=algo-1, train throughput=5505.006943888742 records/second\u001b[0m\n",
      "\u001b[34m[2022-01-11 18:21:29.535] [tensorio] [info] epoch_stats={\"data_pipeline\": \"/opt/ml/input/data/train\", \"epoch\": 6, \"duration\": 283, \"num_examples\": 9, \"num_bytes\": 133380}\u001b[0m\n",
      "\u001b[34m#metrics {\"StartTime\": 1641925289.5354574, \"EndTime\": 1641925289.535566, \"Dimensions\": {\"Algorithm\": \"Linear Learner\", \"Host\": \"algo-1\", \"Operation\": \"training\", \"epoch\": 1, \"model\": 0}, \"Metrics\": {\"train_binary_classification_cross_entropy_objective\": {\"sum\": 0.6758360195159913, \"count\": 1, \"min\": 0.6758360195159913, \"max\": 0.6758360195159913}}}\u001b[0m\n",
      "\u001b[34m#metrics {\"StartTime\": 1641925289.5356607, \"EndTime\": 1641925289.535683, \"Dimensions\": {\"Algorithm\": \"Linear Learner\", \"Host\": \"algo-1\", \"Operation\": \"training\", \"epoch\": 1, \"model\": 1}, \"Metrics\": {\"train_binary_classification_cross_entropy_objective\": {\"sum\": 0.6751447868347168, \"count\": 1, \"min\": 0.6751447868347168, \"max\": 0.6751447868347168}}}\u001b[0m\n",
      "\u001b[34m#metrics {\"StartTime\": 1641925289.5357468, \"EndTime\": 1641925289.5357666, \"Dimensions\": {\"Algorithm\": \"Linear Learner\", \"Host\": \"algo-1\", \"Operation\": \"training\", \"epoch\": 1, \"model\": 2}, \"Metrics\": {\"train_binary_classification_cross_entropy_objective\": {\"sum\": 0.6781490993499756, \"count\": 1, \"min\": 0.6781490993499756, \"max\": 0.6781490993499756}}}\u001b[0m\n",
      "\u001b[34m#metrics {\"StartTime\": 1641925289.53583, \"EndTime\": 1641925289.5358493, \"Dimensions\": {\"Algorithm\": \"Linear Learner\", \"Host\": \"algo-1\", \"Operation\": \"training\", \"epoch\": 1, \"model\": 3}, \"Metrics\": {\"train_binary_classification_cross_entropy_objective\": {\"sum\": 0.6756681156158447, \"count\": 1, \"min\": 0.6756681156158447, \"max\": 0.6756681156158447}}}\u001b[0m\n",
      "\u001b[34m#metrics {\"StartTime\": 1641925289.535904, \"EndTime\": 1641925289.5359223, \"Dimensions\": {\"Algorithm\": \"Linear Learner\", \"Host\": \"algo-1\", \"Operation\": \"training\", \"epoch\": 1, \"model\": 4}, \"Metrics\": {\"train_binary_classification_cross_entropy_objective\": {\"sum\": 0.6813770771026612, \"count\": 1, \"min\": 0.6813770771026612, \"max\": 0.6813770771026612}}}\u001b[0m\n",
      "\u001b[34m#metrics {\"StartTime\": 1641925289.5359771, \"EndTime\": 1641925289.5359952, \"Dimensions\": {\"Algorithm\": \"Linear Learner\", \"Host\": \"algo-1\", \"Operation\": \"training\", \"epoch\": 1, \"model\": 5}, \"Metrics\": {\"train_binary_classification_cross_entropy_objective\": {\"sum\": 0.6806290531158448, \"count\": 1, \"min\": 0.6806290531158448, \"max\": 0.6806290531158448}}}\u001b[0m\n",
      "\u001b[34m#metrics {\"StartTime\": 1641925289.5360572, \"EndTime\": 1641925289.5360742, \"Dimensions\": {\"Algorithm\": \"Linear Learner\", \"Host\": \"algo-1\", \"Operation\": \"training\", \"epoch\": 1, \"model\": 6}, \"Metrics\": {\"train_binary_classification_cross_entropy_objective\": {\"sum\": 0.6807762718200684, \"count\": 1, \"min\": 0.6807762718200684, \"max\": 0.6807762718200684}}}\u001b[0m\n",
      "\u001b[34m#metrics {\"StartTime\": 1641925289.5361376, \"EndTime\": 1641925289.5361557, \"Dimensions\": {\"Algorithm\": \"Linear Learner\", \"Host\": \"algo-1\", \"Operation\": \"training\", \"epoch\": 1, \"model\": 7}, \"Metrics\": {\"train_binary_classification_cross_entropy_objective\": {\"sum\": 0.681677713394165, \"count\": 1, \"min\": 0.681677713394165, \"max\": 0.681677713394165}}}\u001b[0m\n",
      "\u001b[34m#metrics {\"StartTime\": 1641925289.5362086, \"EndTime\": 1641925289.536226, \"Dimensions\": {\"Algorithm\": \"Linear Learner\", \"Host\": \"algo-1\", \"Operation\": \"training\", \"epoch\": 1, \"model\": 8}, \"Metrics\": {\"train_binary_classification_cross_entropy_objective\": {\"sum\": 0.6748907566070557, \"count\": 1, \"min\": 0.6748907566070557, \"max\": 0.6748907566070557}}}\u001b[0m\n",
      "\u001b[34m#metrics {\"StartTime\": 1641925289.5362775, \"EndTime\": 1641925289.5362937, \"Dimensions\": {\"Algorithm\": \"Linear Learner\", \"Host\": \"algo-1\", \"Operation\": \"training\", \"epoch\": 1, \"model\": 9}, \"Metrics\": {\"train_binary_classification_cross_entropy_objective\": {\"sum\": 0.6756707191467285, \"count\": 1, \"min\": 0.6756707191467285, \"max\": 0.6756707191467285}}}\u001b[0m\n",
      "\u001b[34m#metrics {\"StartTime\": 1641925289.5363312, \"EndTime\": 1641925289.5363462, \"Dimensions\": {\"Algorithm\": \"Linear Learner\", \"Host\": \"algo-1\", \"Operation\": \"training\", \"epoch\": 1, \"model\": 10}, \"Metrics\": {\"train_binary_classification_cross_entropy_objective\": {\"sum\": 0.6754798221588135, \"count\": 1, \"min\": 0.6754798221588135, \"max\": 0.6754798221588135}}}\u001b[0m\n",
      "\u001b[34m#metrics {\"StartTime\": 1641925289.5363982, \"EndTime\": 1641925289.5364099, \"Dimensions\": {\"Algorithm\": \"Linear Learner\", \"Host\": \"algo-1\", \"Operation\": \"training\", \"epoch\": 1, \"model\": 11}, \"Metrics\": {\"train_binary_classification_cross_entropy_objective\": {\"sum\": 0.6763497543334961, \"count\": 1, \"min\": 0.6763497543334961, \"max\": 0.6763497543334961}}}\u001b[0m\n",
      "\u001b[34m#metrics {\"StartTime\": 1641925289.53644, \"EndTime\": 1641925289.5364475, \"Dimensions\": {\"Algorithm\": \"Linear Learner\", \"Host\": \"algo-1\", \"Operation\": \"training\", \"epoch\": 1, \"model\": 12}, \"Metrics\": {\"train_binary_classification_cross_entropy_objective\": {\"sum\": 0.6798126697540283, \"count\": 1, \"min\": 0.6798126697540283, \"max\": 0.6798126697540283}}}\u001b[0m\n",
      "\u001b[34m#metrics {\"StartTime\": 1641925289.5364745, \"EndTime\": 1641925289.5364883, \"Dimensions\": {\"Algorithm\": \"Linear Learner\", \"Host\": \"algo-1\", \"Operation\": \"training\", \"epoch\": 1, \"model\": 13}, \"Metrics\": {\"train_binary_classification_cross_entropy_objective\": {\"sum\": 0.6792366409301758, \"count\": 1, \"min\": 0.6792366409301758, \"max\": 0.6792366409301758}}}\u001b[0m\n",
      "\u001b[34m#metrics {\"StartTime\": 1641925289.536538, \"EndTime\": 1641925289.5365531, \"Dimensions\": {\"Algorithm\": \"Linear Learner\", \"Host\": \"algo-1\", \"Operation\": \"training\", \"epoch\": 1, \"model\": 14}, \"Metrics\": {\"train_binary_classification_cross_entropy_objective\": {\"sum\": 0.6799364757537841, \"count\": 1, \"min\": 0.6799364757537841, \"max\": 0.6799364757537841}}}\u001b[0m\n",
      "\u001b[34m#metrics {\"StartTime\": 1641925289.5366068, \"EndTime\": 1641925289.5366173, \"Dimensions\": {\"Algorithm\": \"Linear Learner\", \"Host\": \"algo-1\", \"Operation\": \"training\", \"epoch\": 1, \"model\": 15}, \"Metrics\": {\"train_binary_classification_cross_entropy_objective\": {\"sum\": 0.6809007740020752, \"count\": 1, \"min\": 0.6809007740020752, \"max\": 0.6809007740020752}}}\u001b[0m\n",
      "\u001b[34m#metrics {\"StartTime\": 1641925289.5366607, \"EndTime\": 1641925289.5366764, \"Dimensions\": {\"Algorithm\": \"Linear Learner\", \"Host\": \"algo-1\", \"Operation\": \"training\", \"epoch\": 1, \"model\": 16}, \"Metrics\": {\"train_binary_classification_cross_entropy_objective\": {\"sum\": 0.6771713161468506, \"count\": 1, \"min\": 0.6771713161468506, \"max\": 0.6771713161468506}}}\u001b[0m\n",
      "\u001b[34m#metrics {\"StartTime\": 1641925289.5367305, \"EndTime\": 1641925289.5367475, \"Dimensions\": {\"Algorithm\": \"Linear Learner\", \"Host\": \"algo-1\", \"Operation\": \"training\", \"epoch\": 1, \"model\": 17}, \"Metrics\": {\"train_binary_classification_cross_entropy_objective\": {\"sum\": 0.6764909934997558, \"count\": 1, \"min\": 0.6764909934997558, \"max\": 0.6764909934997558}}}\u001b[0m\n",
      "\u001b[34m#metrics {\"StartTime\": 1641925289.5367994, \"EndTime\": 1641925289.5368161, \"Dimensions\": {\"Algorithm\": \"Linear Learner\", \"Host\": \"algo-1\", \"Operation\": \"training\", \"epoch\": 1, \"model\": 18}, \"Metrics\": {\"train_binary_classification_cross_entropy_objective\": {\"sum\": 0.6769053936004639, \"count\": 1, \"min\": 0.6769053936004639, \"max\": 0.6769053936004639}}}\u001b[0m\n",
      "\u001b[34m#metrics {\"StartTime\": 1641925289.5368805, \"EndTime\": 1641925289.5368974, \"Dimensions\": {\"Algorithm\": \"Linear Learner\", \"Host\": \"algo-1\", \"Operation\": \"training\", \"epoch\": 1, \"model\": 19}, \"Metrics\": {\"train_binary_classification_cross_entropy_objective\": {\"sum\": 0.6766431045532226, \"count\": 1, \"min\": 0.6766431045532226, \"max\": 0.6766431045532226}}}\u001b[0m\n",
      "\u001b[34m#metrics {\"StartTime\": 1641925289.5369606, \"EndTime\": 1641925289.536985, \"Dimensions\": {\"Algorithm\": \"Linear Learner\", \"Host\": \"algo-1\", \"Operation\": \"training\", \"epoch\": 1, \"model\": 20}, \"Metrics\": {\"train_binary_classification_cross_entropy_objective\": {\"sum\": 0.6827512645721435, \"count\": 1, \"min\": 0.6827512645721435, \"max\": 0.6827512645721435}}}\u001b[0m\n",
      "\u001b[34m#metrics {\"StartTime\": 1641925289.5370371, \"EndTime\": 1641925289.5370543, \"Dimensions\": {\"Algorithm\": \"Linear Learner\", \"Host\": \"algo-1\", \"Operation\": \"training\", \"epoch\": 1, \"model\": 21}, \"Metrics\": {\"train_binary_classification_cross_entropy_objective\": {\"sum\": 0.6833911705017089, \"count\": 1, \"min\": 0.6833911705017089, \"max\": 0.6833911705017089}}}\u001b[0m\n",
      "\u001b[34m#metrics {\"StartTime\": 1641925289.5371084, \"EndTime\": 1641925289.5371258, \"Dimensions\": {\"Algorithm\": \"Linear Learner\", \"Host\": \"algo-1\", \"Operation\": \"training\", \"epoch\": 1, \"model\": 22}, \"Metrics\": {\"train_binary_classification_cross_entropy_objective\": {\"sum\": 0.6836995887756347, \"count\": 1, \"min\": 0.6836995887756347, \"max\": 0.6836995887756347}}}\u001b[0m\n",
      "\u001b[34m#metrics {\"StartTime\": 1641925289.537189, \"EndTime\": 1641925289.5372074, \"Dimensions\": {\"Algorithm\": \"Linear Learner\", \"Host\": \"algo-1\", \"Operation\": \"training\", \"epoch\": 1, \"model\": 23}, \"Metrics\": {\"train_binary_classification_cross_entropy_objective\": {\"sum\": 0.682404432296753, \"count\": 1, \"min\": 0.682404432296753, \"max\": 0.682404432296753}}}\u001b[0m\n",
      "\u001b[34m#metrics {\"StartTime\": 1641925289.5372612, \"EndTime\": 1641925289.537278, \"Dimensions\": {\"Algorithm\": \"Linear Learner\", \"Host\": \"algo-1\", \"Operation\": \"training\", \"epoch\": 1, \"model\": 24}, \"Metrics\": {\"train_binary_classification_cross_entropy_objective\": {\"sum\": 0.6772667503356934, \"count\": 1, \"min\": 0.6772667503356934, \"max\": 0.6772667503356934}}}\u001b[0m\n",
      "\u001b[34m#metrics {\"StartTime\": 1641925289.53734, \"EndTime\": 1641925289.5373578, \"Dimensions\": {\"Algorithm\": \"Linear Learner\", \"Host\": \"algo-1\", \"Operation\": \"training\", \"epoch\": 1, \"model\": 25}, \"Metrics\": {\"train_binary_classification_cross_entropy_objective\": {\"sum\": 0.6787453651428222, \"count\": 1, \"min\": 0.6787453651428222, \"max\": 0.6787453651428222}}}\u001b[0m\n",
      "\u001b[34m#metrics {\"StartTime\": 1641925289.5374126, \"EndTime\": 1641925289.5374298, \"Dimensions\": {\"Algorithm\": \"Linear Learner\", \"Host\": \"algo-1\", \"Operation\": \"training\", \"epoch\": 1, \"model\": 26}, \"Metrics\": {\"train_binary_classification_cross_entropy_objective\": {\"sum\": 0.6778554630279541, \"count\": 1, \"min\": 0.6778554630279541, \"max\": 0.6778554630279541}}}\u001b[0m\n",
      "\u001b[34m#metrics {\"StartTime\": 1641925289.5374846, \"EndTime\": 1641925289.537501, \"Dimensions\": {\"Algorithm\": \"Linear Learner\", \"Host\": \"algo-1\", \"Operation\": \"training\", \"epoch\": 1, \"model\": 27}, \"Metrics\": {\"train_binary_classification_cross_entropy_objective\": {\"sum\": 0.6771156978607178, \"count\": 1, \"min\": 0.6771156978607178, \"max\": 0.6771156978607178}}}\u001b[0m\n",
      "\u001b[34m#metrics {\"StartTime\": 1641925289.5375628, \"EndTime\": 1641925289.5375803, \"Dimensions\": {\"Algorithm\": \"Linear Learner\", \"Host\": \"algo-1\", \"Operation\": \"training\", \"epoch\": 1, \"model\": 28}, \"Metrics\": {\"train_binary_classification_cross_entropy_objective\": {\"sum\": 0.6813200664520264, \"count\": 1, \"min\": 0.6813200664520264, \"max\": 0.6813200664520264}}}\u001b[0m\n",
      "\u001b[34m#metrics {\"StartTime\": 1641925289.5376353, \"EndTime\": 1641925289.5376525, \"Dimensions\": {\"Algorithm\": \"Linear Learner\", \"Host\": \"algo-1\", \"Operation\": \"training\", \"epoch\": 1, \"model\": 29}, \"Metrics\": {\"train_binary_classification_cross_entropy_objective\": {\"sum\": 0.6824115467071533, \"count\": 1, \"min\": 0.6824115467071533, \"max\": 0.6824115467071533}}}\u001b[0m\n",
      "\u001b[34m#metrics {\"StartTime\": 1641925289.5377162, \"EndTime\": 1641925289.5377345, \"Dimensions\": {\"Algorithm\": \"Linear Learner\", \"Host\": \"algo-1\", \"Operation\": \"training\", \"epoch\": 1, \"model\": 30}, \"Metrics\": {\"train_binary_classification_cross_entropy_objective\": {\"sum\": 0.6816715335845948, \"count\": 1, \"min\": 0.6816715335845948, \"max\": 0.6816715335845948}}}\u001b[0m\n",
      "\u001b[34m#metrics {\"StartTime\": 1641925289.537801, \"EndTime\": 1641925289.5378191, \"Dimensions\": {\"Algorithm\": \"Linear Learner\", \"Host\": \"algo-1\", \"Operation\": \"training\", \"epoch\": 1, \"model\": 31}, \"Metrics\": {\"train_binary_classification_cross_entropy_objective\": {\"sum\": 0.6838490295410157, \"count\": 1, \"min\": 0.6838490295410157, \"max\": 0.6838490295410157}}}\u001b[0m\n",
      "\u001b[34m[01/11/2022 18:21:29 INFO 139726488319808] #quality_metric: host=algo-1, epoch=1, train binary_classification_cross_entropy_objective <loss>=0.6758360195159913\u001b[0m\n",
      "\u001b[34m[01/11/2022 18:21:29 INFO 139726488319808] #early_stopping_criteria_metric: host=algo-1, epoch=1, criteria=binary_classification_cross_entropy_objective, value=0.6748907566070557\u001b[0m\n",
      "\u001b[34m[01/11/2022 18:21:29 INFO 139726488319808] Epoch 1: Loss improved. Updating best model\u001b[0m\n",
      "\u001b[34m[01/11/2022 18:21:29 INFO 139726488319808] Saving model for epoch: 1\u001b[0m\n",
      "\u001b[34m[01/11/2022 18:21:29 INFO 139726488319808] Saved checkpoint to \"/tmp/tmpgt2ou8of/mx-mod-0000.params\"\u001b[0m\n",
      "\u001b[34m[01/11/2022 18:21:29 INFO 139726488319808] #progress_metric: host=algo-1, completed 13.333333333333334 % of epochs\u001b[0m\n",
      "\u001b[34m#metrics {\"StartTime\": 1641925289.251279, \"EndTime\": 1641925289.547157, \"Dimensions\": {\"Algorithm\": \"Linear Learner\", \"Host\": \"algo-1\", \"Operation\": \"training\", \"epoch\": 1, \"Meta\": \"training_data_iter\"}, \"Metrics\": {\"Total Records Seen\": {\"sum\": 5465.0, \"count\": 1, \"min\": 5465, \"max\": 5465}, \"Total Batches Seen\": {\"sum\": 28.0, \"count\": 1, \"min\": 28, \"max\": 28}, \"Max Records Seen Between Resets\": {\"sum\": 1755.0, \"count\": 1, \"min\": 1755, \"max\": 1755}, \"Max Batches Seen Between Resets\": {\"sum\": 9.0, \"count\": 1, \"min\": 9, \"max\": 9}, \"Reset Count\": {\"sum\": 4.0, \"count\": 1, \"min\": 4, \"max\": 4}, \"Number of Records Since Last Reset\": {\"sum\": 1755.0, \"count\": 1, \"min\": 1755, \"max\": 1755}, \"Number of Batches Since Last Reset\": {\"sum\": 9.0, \"count\": 1, \"min\": 9, \"max\": 9}}}\u001b[0m\n",
      "\u001b[34m[01/11/2022 18:21:29 INFO 139726488319808] #throughput_metric: host=algo-1, train throughput=5928.519151499727 records/second\u001b[0m\n",
      "\u001b[34m[2022-01-11 18:21:29.858] [tensorio] [info] epoch_stats={\"data_pipeline\": \"/opt/ml/input/data/train\", \"epoch\": 8, \"duration\": 310, \"num_examples\": 9, \"num_bytes\": 133380}\u001b[0m\n",
      "\u001b[34m#metrics {\"StartTime\": 1641925289.8587334, \"EndTime\": 1641925289.8588362, \"Dimensions\": {\"Algorithm\": \"Linear Learner\", \"Host\": \"algo-1\", \"Operation\": \"training\", \"epoch\": 2, \"model\": 0}, \"Metrics\": {\"train_binary_classification_cross_entropy_objective\": {\"sum\": 0.6745922470092773, \"count\": 1, \"min\": 0.6745922470092773, \"max\": 0.6745922470092773}}}\u001b[0m\n",
      "\u001b[34m#metrics {\"StartTime\": 1641925289.8589404, \"EndTime\": 1641925289.8589637, \"Dimensions\": {\"Algorithm\": \"Linear Learner\", \"Host\": \"algo-1\", \"Operation\": \"training\", \"epoch\": 2, \"model\": 1}, \"Metrics\": {\"train_binary_classification_cross_entropy_objective\": {\"sum\": 0.6734292507171631, \"count\": 1, \"min\": 0.6734292507171631, \"max\": 0.6734292507171631}}}\u001b[0m\n",
      "\u001b[34m#metrics {\"StartTime\": 1641925289.8590245, \"EndTime\": 1641925289.8590436, \"Dimensions\": {\"Algorithm\": \"Linear Learner\", \"Host\": \"algo-1\", \"Operation\": \"training\", \"epoch\": 2, \"model\": 2}, \"Metrics\": {\"train_binary_classification_cross_entropy_objective\": {\"sum\": 0.675540771484375, \"count\": 1, \"min\": 0.675540771484375, \"max\": 0.675540771484375}}}\u001b[0m\n",
      "\u001b[34m#metrics {\"StartTime\": 1641925289.8590996, \"EndTime\": 1641925289.859117, \"Dimensions\": {\"Algorithm\": \"Linear Learner\", \"Host\": \"algo-1\", \"Operation\": \"training\", \"epoch\": 2, \"model\": 3}, \"Metrics\": {\"train_binary_classification_cross_entropy_objective\": {\"sum\": 0.6743094730377197, \"count\": 1, \"min\": 0.6743094730377197, \"max\": 0.6743094730377197}}}\u001b[0m\n",
      "\u001b[34m#metrics {\"StartTime\": 1641925289.8591728, \"EndTime\": 1641925289.8591897, \"Dimensions\": {\"Algorithm\": \"Linear Learner\", \"Host\": \"algo-1\", \"Operation\": \"training\", \"epoch\": 2, \"model\": 4}, \"Metrics\": {\"train_binary_classification_cross_entropy_objective\": {\"sum\": 0.6803051090240478, \"count\": 1, \"min\": 0.6803051090240478, \"max\": 0.6803051090240478}}}\u001b[0m\n",
      "\u001b[34m#metrics {\"StartTime\": 1641925289.8592448, \"EndTime\": 1641925289.8592625, \"Dimensions\": {\"Algorithm\": \"Linear Learner\", \"Host\": \"algo-1\", \"Operation\": \"training\", \"epoch\": 2, \"model\": 5}, \"Metrics\": {\"train_binary_classification_cross_entropy_objective\": {\"sum\": 0.6800097942352294, \"count\": 1, \"min\": 0.6800097942352294, \"max\": 0.6800097942352294}}}\u001b[0m\n",
      "\u001b[34m#metrics {\"StartTime\": 1641925289.859319, \"EndTime\": 1641925289.8593357, \"Dimensions\": {\"Algorithm\": \"Linear Learner\", \"Host\": \"algo-1\", \"Operation\": \"training\", \"epoch\": 2, \"model\": 6}, \"Metrics\": {\"train_binary_classification_cross_entropy_objective\": {\"sum\": 0.6794347286224365, \"count\": 1, \"min\": 0.6794347286224365, \"max\": 0.6794347286224365}}}\u001b[0m\n",
      "\u001b[34m#metrics {\"StartTime\": 1641925289.8593931, \"EndTime\": 1641925289.8594115, \"Dimensions\": {\"Algorithm\": \"Linear Learner\", \"Host\": \"algo-1\", \"Operation\": \"training\", \"epoch\": 2, \"model\": 7}, \"Metrics\": {\"train_binary_classification_cross_entropy_objective\": {\"sum\": 0.6799167728424073, \"count\": 1, \"min\": 0.6799167728424073, \"max\": 0.6799167728424073}}}\u001b[0m\n",
      "\u001b[34m#metrics {\"StartTime\": 1641925289.8594687, \"EndTime\": 1641925289.8594859, \"Dimensions\": {\"Algorithm\": \"Linear Learner\", \"Host\": \"algo-1\", \"Operation\": \"training\", \"epoch\": 2, \"model\": 8}, \"Metrics\": {\"train_binary_classification_cross_entropy_objective\": {\"sum\": 0.6736761283874512, \"count\": 1, \"min\": 0.6736761283874512, \"max\": 0.6736761283874512}}}\u001b[0m\n",
      "\u001b[34m#metrics {\"StartTime\": 1641925289.8595417, \"EndTime\": 1641925289.8595574, \"Dimensions\": {\"Algorithm\": \"Linear Learner\", \"Host\": \"algo-1\", \"Operation\": \"training\", \"epoch\": 2, \"model\": 9}, \"Metrics\": {\"train_binary_classification_cross_entropy_objective\": {\"sum\": 0.6739778709411621, \"count\": 1, \"min\": 0.6739778709411621, \"max\": 0.6739778709411621}}}\u001b[0m\n",
      "\u001b[34m#metrics {\"StartTime\": 1641925289.8596106, \"EndTime\": 1641925289.859628, \"Dimensions\": {\"Algorithm\": \"Linear Learner\", \"Host\": \"algo-1\", \"Operation\": \"training\", \"epoch\": 2, \"model\": 10}, \"Metrics\": {\"train_binary_classification_cross_entropy_objective\": {\"sum\": 0.6738162231445313, \"count\": 1, \"min\": 0.6738162231445313, \"max\": 0.6738162231445313}}}\u001b[0m\n",
      "\u001b[34m#metrics {\"StartTime\": 1641925289.8596847, \"EndTime\": 1641925289.8597012, \"Dimensions\": {\"Algorithm\": \"Linear Learner\", \"Host\": \"algo-1\", \"Operation\": \"training\", \"epoch\": 2, \"model\": 11}, \"Metrics\": {\"train_binary_classification_cross_entropy_objective\": {\"sum\": 0.6745457077026367, \"count\": 1, \"min\": 0.6745457077026367, \"max\": 0.6745457077026367}}}\u001b[0m\n",
      "\u001b[34m#metrics {\"StartTime\": 1641925289.8597538, \"EndTime\": 1641925289.8597708, \"Dimensions\": {\"Algorithm\": \"Linear Learner\", \"Host\": \"algo-1\", \"Operation\": \"training\", \"epoch\": 2, \"model\": 12}, \"Metrics\": {\"train_binary_classification_cross_entropy_objective\": {\"sum\": 0.6786153030395508, \"count\": 1, \"min\": 0.6786153030395508, \"max\": 0.6786153030395508}}}\u001b[0m\n",
      "\u001b[34m#metrics {\"StartTime\": 1641925289.8598247, \"EndTime\": 1641925289.859842, \"Dimensions\": {\"Algorithm\": \"Linear Learner\", \"Host\": \"algo-1\", \"Operation\": \"training\", \"epoch\": 2, \"model\": 13}, \"Metrics\": {\"train_binary_classification_cross_entropy_objective\": {\"sum\": 0.6782599449157715, \"count\": 1, \"min\": 0.6782599449157715, \"max\": 0.6782599449157715}}}\u001b[0m\n",
      "\u001b[34m#metrics {\"StartTime\": 1641925289.8599045, \"EndTime\": 1641925289.8599224, \"Dimensions\": {\"Algorithm\": \"Linear Learner\", \"Host\": \"algo-1\", \"Operation\": \"training\", \"epoch\": 2, \"model\": 14}, \"Metrics\": {\"train_binary_classification_cross_entropy_objective\": {\"sum\": 0.6790261840820313, \"count\": 1, \"min\": 0.6790261840820313, \"max\": 0.6790261840820313}}}\u001b[0m\n",
      "\u001b[34m#metrics {\"StartTime\": 1641925289.859986, \"EndTime\": 1641925289.860005, \"Dimensions\": {\"Algorithm\": \"Linear Learner\", \"Host\": \"algo-1\", \"Operation\": \"training\", \"epoch\": 2, \"model\": 15}, \"Metrics\": {\"train_binary_classification_cross_entropy_objective\": {\"sum\": 0.6794132995605469, \"count\": 1, \"min\": 0.6794132995605469, \"max\": 0.6794132995605469}}}\u001b[0m\n",
      "\u001b[34m#metrics {\"StartTime\": 1641925289.8600607, \"EndTime\": 1641925289.8600779, \"Dimensions\": {\"Algorithm\": \"Linear Learner\", \"Host\": \"algo-1\", \"Operation\": \"training\", \"epoch\": 2, \"model\": 16}, \"Metrics\": {\"train_binary_classification_cross_entropy_objective\": {\"sum\": 0.6756182861328125, \"count\": 1, \"min\": 0.6756182861328125, \"max\": 0.6756182861328125}}}\u001b[0m\n",
      "\u001b[34m#metrics {\"StartTime\": 1641925289.8601334, \"EndTime\": 1641925289.8601506, \"Dimensions\": {\"Algorithm\": \"Linear Learner\", \"Host\": \"algo-1\", \"Operation\": \"training\", \"epoch\": 2, \"model\": 17}, \"Metrics\": {\"train_binary_classification_cross_entropy_objective\": {\"sum\": 0.6751573848724365, \"count\": 1, \"min\": 0.6751573848724365, \"max\": 0.6751573848724365}}}\u001b[0m\n",
      "\u001b[34m#metrics {\"StartTime\": 1641925289.860204, \"EndTime\": 1641925289.8602216, \"Dimensions\": {\"Algorithm\": \"Linear Learner\", \"Host\": \"algo-1\", \"Operation\": \"training\", \"epoch\": 2, \"model\": 18}, \"Metrics\": {\"train_binary_classification_cross_entropy_objective\": {\"sum\": 0.6753399276733398, \"count\": 1, \"min\": 0.6753399276733398, \"max\": 0.6753399276733398}}}\u001b[0m\n",
      "\u001b[34m#metrics {\"StartTime\": 1641925289.860284, \"EndTime\": 1641925289.8603013, \"Dimensions\": {\"Algorithm\": \"Linear Learner\", \"Host\": \"algo-1\", \"Operation\": \"training\", \"epoch\": 2, \"model\": 19}, \"Metrics\": {\"train_binary_classification_cross_entropy_objective\": {\"sum\": 0.6765820026397705, \"count\": 1, \"min\": 0.6765820026397705, \"max\": 0.6765820026397705}}}\u001b[0m\n",
      "\u001b[34m#metrics {\"StartTime\": 1641925289.8603566, \"EndTime\": 1641925289.8603733, \"Dimensions\": {\"Algorithm\": \"Linear Learner\", \"Host\": \"algo-1\", \"Operation\": \"training\", \"epoch\": 2, \"model\": 20}, \"Metrics\": {\"train_binary_classification_cross_entropy_objective\": {\"sum\": 0.6829471588134766, \"count\": 1, \"min\": 0.6829471588134766, \"max\": 0.6829471588134766}}}\u001b[0m\n",
      "\u001b[34m#metrics {\"StartTime\": 1641925289.8604288, \"EndTime\": 1641925289.8604467, \"Dimensions\": {\"Algorithm\": \"Linear Learner\", \"Host\": \"algo-1\", \"Operation\": \"training\", \"epoch\": 2, \"model\": 21}, \"Metrics\": {\"train_binary_classification_cross_entropy_objective\": {\"sum\": 0.6825098514556884, \"count\": 1, \"min\": 0.6825098514556884, \"max\": 0.6825098514556884}}}\u001b[0m\n",
      "\u001b[34m#metrics {\"StartTime\": 1641925289.8604994, \"EndTime\": 1641925289.8605165, \"Dimensions\": {\"Algorithm\": \"Linear Learner\", \"Host\": \"algo-1\", \"Operation\": \"training\", \"epoch\": 2, \"model\": 22}, \"Metrics\": {\"train_binary_classification_cross_entropy_objective\": {\"sum\": 0.6822976207733155, \"count\": 1, \"min\": 0.6822976207733155, \"max\": 0.6822976207733155}}}\u001b[0m\n",
      "\u001b[34m#metrics {\"StartTime\": 1641925289.8605797, \"EndTime\": 1641925289.8605983, \"Dimensions\": {\"Algorithm\": \"Linear Learner\", \"Host\": \"algo-1\", \"Operation\": \"training\", \"epoch\": 2, \"model\": 23}, \"Metrics\": {\"train_binary_classification_cross_entropy_objective\": {\"sum\": 0.6826210021972656, \"count\": 1, \"min\": 0.6826210021972656, \"max\": 0.6826210021972656}}}\u001b[0m\n",
      "\u001b[34m#metrics {\"StartTime\": 1641925289.8606496, \"EndTime\": 1641925289.8606653, \"Dimensions\": {\"Algorithm\": \"Linear Learner\", \"Host\": \"algo-1\", \"Operation\": \"training\", \"epoch\": 2, \"model\": 24}, \"Metrics\": {\"train_binary_classification_cross_entropy_objective\": {\"sum\": 0.6781772232055664, \"count\": 1, \"min\": 0.6781772232055664, \"max\": 0.6781772232055664}}}\u001b[0m\n",
      "\u001b[34m#metrics {\"StartTime\": 1641925289.8607163, \"EndTime\": 1641925289.8607323, \"Dimensions\": {\"Algorithm\": \"Linear Learner\", \"Host\": \"algo-1\", \"Operation\": \"training\", \"epoch\": 2, \"model\": 25}, \"Metrics\": {\"train_binary_classification_cross_entropy_objective\": {\"sum\": 0.6787598323822022, \"count\": 1, \"min\": 0.6787598323822022, \"max\": 0.6787598323822022}}}\u001b[0m\n",
      "\u001b[34m#metrics {\"StartTime\": 1641925289.8607826, \"EndTime\": 1641925289.8608, \"Dimensions\": {\"Algorithm\": \"Linear Learner\", \"Host\": \"algo-1\", \"Operation\": \"training\", \"epoch\": 2, \"model\": 26}, \"Metrics\": {\"train_binary_classification_cross_entropy_objective\": {\"sum\": 0.6776961898803711, \"count\": 1, \"min\": 0.6776961898803711, \"max\": 0.6776961898803711}}}\u001b[0m\n",
      "\u001b[34m#metrics {\"StartTime\": 1641925289.8608534, \"EndTime\": 1641925289.8608696, \"Dimensions\": {\"Algorithm\": \"Linear Learner\", \"Host\": \"algo-1\", \"Operation\": \"training\", \"epoch\": 2, \"model\": 27}, \"Metrics\": {\"train_binary_classification_cross_entropy_objective\": {\"sum\": 0.6784539985656738, \"count\": 1, \"min\": 0.6784539985656738, \"max\": 0.6784539985656738}}}\u001b[0m\n",
      "\u001b[34m#metrics {\"StartTime\": 1641925289.8609188, \"EndTime\": 1641925289.860932, \"Dimensions\": {\"Algorithm\": \"Linear Learner\", \"Host\": \"algo-1\", \"Operation\": \"training\", \"epoch\": 2, \"model\": 28}, \"Metrics\": {\"train_binary_classification_cross_entropy_objective\": {\"sum\": 0.6775992584228515, \"count\": 1, \"min\": 0.6775992584228515, \"max\": 0.6775992584228515}}}\u001b[0m\n",
      "\u001b[34m#metrics {\"StartTime\": 1641925289.8609762, \"EndTime\": 1641925289.8609886, \"Dimensions\": {\"Algorithm\": \"Linear Learner\", \"Host\": \"algo-1\", \"Operation\": \"training\", \"epoch\": 2, \"model\": 29}, \"Metrics\": {\"train_binary_classification_cross_entropy_objective\": {\"sum\": 0.679496841430664, \"count\": 1, \"min\": 0.679496841430664, \"max\": 0.679496841430664}}}\u001b[0m\n",
      "\u001b[34m#metrics {\"StartTime\": 1641925289.8610375, \"EndTime\": 1641925289.8610523, \"Dimensions\": {\"Algorithm\": \"Linear Learner\", \"Host\": \"algo-1\", \"Operation\": \"training\", \"epoch\": 2, \"model\": 30}, \"Metrics\": {\"train_binary_classification_cross_entropy_objective\": {\"sum\": 0.6797335529327393, \"count\": 1, \"min\": 0.6797335529327393, \"max\": 0.6797335529327393}}}\u001b[0m\n",
      "\u001b[34m#metrics {\"StartTime\": 1641925289.8610995, \"EndTime\": 1641925289.8611138, \"Dimensions\": {\"Algorithm\": \"Linear Learner\", \"Host\": \"algo-1\", \"Operation\": \"training\", \"epoch\": 2, \"model\": 31}, \"Metrics\": {\"train_binary_classification_cross_entropy_objective\": {\"sum\": 0.6916793251037597, \"count\": 1, \"min\": 0.6916793251037597, \"max\": 0.6916793251037597}}}\u001b[0m\n",
      "\u001b[34m[01/11/2022 18:21:29 INFO 139726488319808] #quality_metric: host=algo-1, epoch=2, train binary_classification_cross_entropy_objective <loss>=0.6745922470092773\u001b[0m\n",
      "\u001b[34m[01/11/2022 18:21:29 INFO 139726488319808] #early_stopping_criteria_metric: host=algo-1, epoch=2, criteria=binary_classification_cross_entropy_objective, value=0.6734292507171631\u001b[0m\n",
      "\u001b[34m[01/11/2022 18:21:29 INFO 139726488319808] Epoch 2: Loss improved. Updating best model\u001b[0m\n",
      "\u001b[34m[01/11/2022 18:21:29 INFO 139726488319808] Saving model for epoch: 2\u001b[0m\n",
      "\u001b[34m[01/11/2022 18:21:29 INFO 139726488319808] Saved checkpoint to \"/tmp/tmpy3n7qbh4/mx-mod-0000.params\"\u001b[0m\n",
      "\u001b[34m[01/11/2022 18:21:29 INFO 139726488319808] #progress_metric: host=algo-1, completed 20.0 % of epochs\u001b[0m\n",
      "\u001b[34m#metrics {\"StartTime\": 1641925289.5474796, \"EndTime\": 1641925289.8726814, \"Dimensions\": {\"Algorithm\": \"Linear Learner\", \"Host\": \"algo-1\", \"Operation\": \"training\", \"epoch\": 2, \"Meta\": \"training_data_iter\"}, \"Metrics\": {\"Total Records Seen\": {\"sum\": 7220.0, \"count\": 1, \"min\": 7220, \"max\": 7220}, \"Total Batches Seen\": {\"sum\": 37.0, \"count\": 1, \"min\": 37, \"max\": 37}, \"Max Records Seen Between Resets\": {\"sum\": 1755.0, \"count\": 1, \"min\": 1755, \"max\": 1755}, \"Max Batches Seen Between Resets\": {\"sum\": 9.0, \"count\": 1, \"min\": 9, \"max\": 9}, \"Reset Count\": {\"sum\": 5.0, \"count\": 1, \"min\": 5, \"max\": 5}, \"Number of Records Since Last Reset\": {\"sum\": 1755.0, \"count\": 1, \"min\": 1755, \"max\": 1755}, \"Number of Batches Since Last Reset\": {\"sum\": 9.0, \"count\": 1, \"min\": 9, \"max\": 9}}}\u001b[0m\n",
      "\u001b[34m[01/11/2022 18:21:29 INFO 139726488319808] #throughput_metric: host=algo-1, train throughput=5393.739513501196 records/second\u001b[0m\n",
      "\u001b[34m[2022-01-11 18:21:30.224] [tensorio] [info] epoch_stats={\"data_pipeline\": \"/opt/ml/input/data/train\", \"epoch\": 10, \"duration\": 351, \"num_examples\": 9, \"num_bytes\": 133380}\u001b[0m\n",
      "\u001b[34m#metrics {\"StartTime\": 1641925290.2250104, \"EndTime\": 1641925290.2251136, \"Dimensions\": {\"Algorithm\": \"Linear Learner\", \"Host\": \"algo-1\", \"Operation\": \"training\", \"epoch\": 3, \"model\": 0}, \"Metrics\": {\"train_binary_classification_cross_entropy_objective\": {\"sum\": 0.6727629089355469, \"count\": 1, \"min\": 0.6727629089355469, \"max\": 0.6727629089355469}}}\u001b[0m\n",
      "\u001b[34m#metrics {\"StartTime\": 1641925290.225249, \"EndTime\": 1641925290.2252736, \"Dimensions\": {\"Algorithm\": \"Linear Learner\", \"Host\": \"algo-1\", \"Operation\": \"training\", \"epoch\": 3, \"model\": 1}, \"Metrics\": {\"train_binary_classification_cross_entropy_objective\": {\"sum\": 0.6727785015106201, \"count\": 1, \"min\": 0.6727785015106201, \"max\": 0.6727785015106201}}}\u001b[0m\n",
      "\u001b[34m#metrics {\"StartTime\": 1641925290.2253373, \"EndTime\": 1641925290.2253563, \"Dimensions\": {\"Algorithm\": \"Linear Learner\", \"Host\": \"algo-1\", \"Operation\": \"training\", \"epoch\": 3, \"model\": 2}, \"Metrics\": {\"train_binary_classification_cross_entropy_objective\": {\"sum\": 0.6740139293670654, \"count\": 1, \"min\": 0.6740139293670654, \"max\": 0.6740139293670654}}}\u001b[0m\n",
      "\u001b[34m#metrics {\"StartTime\": 1641925290.2254183, \"EndTime\": 1641925290.225436, \"Dimensions\": {\"Algorithm\": \"Linear Learner\", \"Host\": \"algo-1\", \"Operation\": \"training\", \"epoch\": 3, \"model\": 3}, \"Metrics\": {\"train_binary_classification_cross_entropy_objective\": {\"sum\": 0.6727175235748291, \"count\": 1, \"min\": 0.6727175235748291, \"max\": 0.6727175235748291}}}\u001b[0m\n",
      "\u001b[34m#metrics {\"StartTime\": 1641925290.225493, \"EndTime\": 1641925290.225511, \"Dimensions\": {\"Algorithm\": \"Linear Learner\", \"Host\": \"algo-1\", \"Operation\": \"training\", \"epoch\": 3, \"model\": 4}, \"Metrics\": {\"train_binary_classification_cross_entropy_objective\": {\"sum\": 0.6797739601135254, \"count\": 1, \"min\": 0.6797739601135254, \"max\": 0.6797739601135254}}}\u001b[0m\n",
      "\u001b[34m#metrics {\"StartTime\": 1641925290.2255657, \"EndTime\": 1641925290.225582, \"Dimensions\": {\"Algorithm\": \"Linear Learner\", \"Host\": \"algo-1\", \"Operation\": \"training\", \"epoch\": 3, \"model\": 5}, \"Metrics\": {\"train_binary_classification_cross_entropy_objective\": {\"sum\": 0.6809727668762207, \"count\": 1, \"min\": 0.6809727668762207, \"max\": 0.6809727668762207}}}\u001b[0m\n",
      "\u001b[34m#metrics {\"StartTime\": 1641925290.2256386, \"EndTime\": 1641925290.225657, \"Dimensions\": {\"Algorithm\": \"Linear Learner\", \"Host\": \"algo-1\", \"Operation\": \"training\", \"epoch\": 3, \"model\": 6}, \"Metrics\": {\"train_binary_classification_cross_entropy_objective\": {\"sum\": 0.6802824974060059, \"count\": 1, \"min\": 0.6802824974060059, \"max\": 0.6802824974060059}}}\u001b[0m\n",
      "\u001b[34m#metrics {\"StartTime\": 1641925290.2257116, \"EndTime\": 1641925290.225729, \"Dimensions\": {\"Algorithm\": \"Linear Learner\", \"Host\": \"algo-1\", \"Operation\": \"training\", \"epoch\": 3, \"model\": 7}, \"Metrics\": {\"train_binary_classification_cross_entropy_objective\": {\"sum\": 0.6791358375549317, \"count\": 1, \"min\": 0.6791358375549317, \"max\": 0.6791358375549317}}}\u001b[0m\n",
      "\u001b[34m#metrics {\"StartTime\": 1641925290.2257836, \"EndTime\": 1641925290.2258005, \"Dimensions\": {\"Algorithm\": \"Linear Learner\", \"Host\": \"algo-1\", \"Operation\": \"training\", \"epoch\": 3, \"model\": 8}, \"Metrics\": {\"train_binary_classification_cross_entropy_objective\": {\"sum\": 0.67256742477417, \"count\": 1, \"min\": 0.67256742477417, \"max\": 0.67256742477417}}}\u001b[0m\n",
      "\u001b[34m#metrics {\"StartTime\": 1641925290.2258544, \"EndTime\": 1641925290.2258716, \"Dimensions\": {\"Algorithm\": \"Linear Learner\", \"Host\": \"algo-1\", \"Operation\": \"training\", \"epoch\": 3, \"model\": 9}, \"Metrics\": {\"train_binary_classification_cross_entropy_objective\": {\"sum\": 0.6727714920043946, \"count\": 1, \"min\": 0.6727714920043946, \"max\": 0.6727714920043946}}}\u001b[0m\n",
      "\u001b[34m#metrics {\"StartTime\": 1641925290.2259278, \"EndTime\": 1641925290.225946, \"Dimensions\": {\"Algorithm\": \"Linear Learner\", \"Host\": \"algo-1\", \"Operation\": \"training\", \"epoch\": 3, \"model\": 10}, \"Metrics\": {\"train_binary_classification_cross_entropy_objective\": {\"sum\": 0.6727626705169678, \"count\": 1, \"min\": 0.6727626705169678, \"max\": 0.6727626705169678}}}\u001b[0m\n",
      "\u001b[34m#metrics {\"StartTime\": 1641925290.226, \"EndTime\": 1641925290.2260168, \"Dimensions\": {\"Algorithm\": \"Linear Learner\", \"Host\": \"algo-1\", \"Operation\": \"training\", \"epoch\": 3, \"model\": 11}, \"Metrics\": {\"train_binary_classification_cross_entropy_objective\": {\"sum\": 0.6732066154479981, \"count\": 1, \"min\": 0.6732066154479981, \"max\": 0.6732066154479981}}}\u001b[0m\n",
      "\u001b[34m#metrics {\"StartTime\": 1641925290.2260716, \"EndTime\": 1641925290.2260876, \"Dimensions\": {\"Algorithm\": \"Linear Learner\", \"Host\": \"algo-1\", \"Operation\": \"training\", \"epoch\": 3, \"model\": 12}, \"Metrics\": {\"train_binary_classification_cross_entropy_objective\": {\"sum\": 0.6807271766662598, \"count\": 1, \"min\": 0.6807271766662598, \"max\": 0.6807271766662598}}}\u001b[0m\n",
      "\u001b[34m#metrics {\"StartTime\": 1641925290.2261477, \"EndTime\": 1641925290.226165, \"Dimensions\": {\"Algorithm\": \"Linear Learner\", \"Host\": \"algo-1\", \"Operation\": \"training\", \"epoch\": 3, \"model\": 13}, \"Metrics\": {\"train_binary_classification_cross_entropy_objective\": {\"sum\": 0.6799692153930664, \"count\": 1, \"min\": 0.6799692153930664, \"max\": 0.6799692153930664}}}\u001b[0m\n",
      "\u001b[34m#metrics {\"StartTime\": 1641925290.2262213, \"EndTime\": 1641925290.226239, \"Dimensions\": {\"Algorithm\": \"Linear Learner\", \"Host\": \"algo-1\", \"Operation\": \"training\", \"epoch\": 3, \"model\": 14}, \"Metrics\": {\"train_binary_classification_cross_entropy_objective\": {\"sum\": 0.6806557178497314, \"count\": 1, \"min\": 0.6806557178497314, \"max\": 0.6806557178497314}}}\u001b[0m\n",
      "\u001b[34m#metrics {\"StartTime\": 1641925290.2262933, \"EndTime\": 1641925290.226311, \"Dimensions\": {\"Algorithm\": \"Linear Learner\", \"Host\": \"algo-1\", \"Operation\": \"training\", \"epoch\": 3, \"model\": 15}, \"Metrics\": {\"train_binary_classification_cross_entropy_objective\": {\"sum\": 0.680206880569458, \"count\": 1, \"min\": 0.680206880569458, \"max\": 0.680206880569458}}}\u001b[0m\n",
      "\u001b[34m#metrics {\"StartTime\": 1641925290.2263627, \"EndTime\": 1641925290.2263799, \"Dimensions\": {\"Algorithm\": \"Linear Learner\", \"Host\": \"algo-1\", \"Operation\": \"training\", \"epoch\": 3, \"model\": 16}, \"Metrics\": {\"train_binary_classification_cross_entropy_objective\": {\"sum\": 0.6749343490600586, \"count\": 1, \"min\": 0.6749343490600586, \"max\": 0.6749343490600586}}}\u001b[0m\n",
      "\u001b[34m#metrics {\"StartTime\": 1641925290.2264597, \"EndTime\": 1641925290.2264786, \"Dimensions\": {\"Algorithm\": \"Linear Learner\", \"Host\": \"algo-1\", \"Operation\": \"training\", \"epoch\": 3, \"model\": 17}, \"Metrics\": {\"train_binary_classification_cross_entropy_objective\": {\"sum\": 0.6749816799163818, \"count\": 1, \"min\": 0.6749816799163818, \"max\": 0.6749816799163818}}}\u001b[0m\n",
      "\u001b[34m#metrics {\"StartTime\": 1641925290.2265372, \"EndTime\": 1641925290.2265556, \"Dimensions\": {\"Algorithm\": \"Linear Learner\", \"Host\": \"algo-1\", \"Operation\": \"training\", \"epoch\": 3, \"model\": 18}, \"Metrics\": {\"train_binary_classification_cross_entropy_objective\": {\"sum\": 0.6748979187011719, \"count\": 1, \"min\": 0.6748979187011719, \"max\": 0.6748979187011719}}}\u001b[0m\n",
      "\u001b[34m#metrics {\"StartTime\": 1641925290.2266102, \"EndTime\": 1641925290.2266273, \"Dimensions\": {\"Algorithm\": \"Linear Learner\", \"Host\": \"algo-1\", \"Operation\": \"training\", \"epoch\": 3, \"model\": 19}, \"Metrics\": {\"train_binary_classification_cross_entropy_objective\": {\"sum\": 0.675153579711914, \"count\": 1, \"min\": 0.675153579711914, \"max\": 0.675153579711914}}}\u001b[0m\n",
      "\u001b[34m#metrics {\"StartTime\": 1641925290.2266839, \"EndTime\": 1641925290.2267, \"Dimensions\": {\"Algorithm\": \"Linear Learner\", \"Host\": \"algo-1\", \"Operation\": \"training\", \"epoch\": 3, \"model\": 20}, \"Metrics\": {\"train_binary_classification_cross_entropy_objective\": {\"sum\": 0.6823035335540771, \"count\": 1, \"min\": 0.6823035335540771, \"max\": 0.6823035335540771}}}\u001b[0m\n",
      "\u001b[34m#metrics {\"StartTime\": 1641925290.2267551, \"EndTime\": 1641925290.226774, \"Dimensions\": {\"Algorithm\": \"Linear Learner\", \"Host\": \"algo-1\", \"Operation\": \"training\", \"epoch\": 3, \"model\": 21}, \"Metrics\": {\"train_binary_classification_cross_entropy_objective\": {\"sum\": 0.685762882232666, \"count\": 1, \"min\": 0.685762882232666, \"max\": 0.685762882232666}}}\u001b[0m\n",
      "\u001b[34m#metrics {\"StartTime\": 1641925290.2268288, \"EndTime\": 1641925290.2268455, \"Dimensions\": {\"Algorithm\": \"Linear Learner\", \"Host\": \"algo-1\", \"Operation\": \"training\", \"epoch\": 3, \"model\": 22}, \"Metrics\": {\"train_binary_classification_cross_entropy_objective\": {\"sum\": 0.6835025119781494, \"count\": 1, \"min\": 0.6835025119781494, \"max\": 0.6835025119781494}}}\u001b[0m\n",
      "\u001b[34m#metrics {\"StartTime\": 1641925290.2268999, \"EndTime\": 1641925290.2269173, \"Dimensions\": {\"Algorithm\": \"Linear Learner\", \"Host\": \"algo-1\", \"Operation\": \"training\", \"epoch\": 3, \"model\": 23}, \"Metrics\": {\"train_binary_classification_cross_entropy_objective\": {\"sum\": 0.6845920944213867, \"count\": 1, \"min\": 0.6845920944213867, \"max\": 0.6845920944213867}}}\u001b[0m\n",
      "\u001b[34m#metrics {\"StartTime\": 1641925290.2269728, \"EndTime\": 1641925290.2269895, \"Dimensions\": {\"Algorithm\": \"Linear Learner\", \"Host\": \"algo-1\", \"Operation\": \"training\", \"epoch\": 3, \"model\": 24}, \"Metrics\": {\"train_binary_classification_cross_entropy_objective\": {\"sum\": 0.677457275390625, \"count\": 1, \"min\": 0.677457275390625, \"max\": 0.677457275390625}}}\u001b[0m\n",
      "\u001b[34m#metrics {\"StartTime\": 1641925290.2270443, \"EndTime\": 1641925290.2270615, \"Dimensions\": {\"Algorithm\": \"Linear Learner\", \"Host\": \"algo-1\", \"Operation\": \"training\", \"epoch\": 3, \"model\": 25}, \"Metrics\": {\"train_binary_classification_cross_entropy_objective\": {\"sum\": 0.6767964267730713, \"count\": 1, \"min\": 0.6767964267730713, \"max\": 0.6767964267730713}}}\u001b[0m\n",
      "\u001b[34m#metrics {\"StartTime\": 1641925290.2271152, \"EndTime\": 1641925290.2271326, \"Dimensions\": {\"Algorithm\": \"Linear Learner\", \"Host\": \"algo-1\", \"Operation\": \"training\", \"epoch\": 3, \"model\": 26}, \"Metrics\": {\"train_binary_classification_cross_entropy_objective\": {\"sum\": 0.6769040870666504, \"count\": 1, \"min\": 0.6769040870666504, \"max\": 0.6769040870666504}}}\u001b[0m\n",
      "\u001b[34m#metrics {\"StartTime\": 1641925290.2271886, \"EndTime\": 1641925290.227206, \"Dimensions\": {\"Algorithm\": \"Linear Learner\", \"Host\": \"algo-1\", \"Operation\": \"training\", \"epoch\": 3, \"model\": 27}, \"Metrics\": {\"train_binary_classification_cross_entropy_objective\": {\"sum\": 0.6775421810150146, \"count\": 1, \"min\": 0.6775421810150146, \"max\": 0.6775421810150146}}}\u001b[0m\n",
      "\u001b[34m#metrics {\"StartTime\": 1641925290.2272599, \"EndTime\": 1641925290.2272778, \"Dimensions\": {\"Algorithm\": \"Linear Learner\", \"Host\": \"algo-1\", \"Operation\": \"training\", \"epoch\": 3, \"model\": 28}, \"Metrics\": {\"train_binary_classification_cross_entropy_objective\": {\"sum\": 0.6809761810302735, \"count\": 1, \"min\": 0.6809761810302735, \"max\": 0.6809761810302735}}}\u001b[0m\n",
      "\u001b[34m#metrics {\"StartTime\": 1641925290.227343, \"EndTime\": 1641925290.2273614, \"Dimensions\": {\"Algorithm\": \"Linear Learner\", \"Host\": \"algo-1\", \"Operation\": \"training\", \"epoch\": 3, \"model\": 29}, \"Metrics\": {\"train_binary_classification_cross_entropy_objective\": {\"sum\": 0.68176344871521, \"count\": 1, \"min\": 0.68176344871521, \"max\": 0.68176344871521}}}\u001b[0m\n",
      "\u001b[34m#metrics {\"StartTime\": 1641925290.2274206, \"EndTime\": 1641925290.227438, \"Dimensions\": {\"Algorithm\": \"Linear Learner\", \"Host\": \"algo-1\", \"Operation\": \"training\", \"epoch\": 3, \"model\": 30}, \"Metrics\": {\"train_binary_classification_cross_entropy_objective\": {\"sum\": 0.6806764888763428, \"count\": 1, \"min\": 0.6806764888763428, \"max\": 0.6806764888763428}}}\u001b[0m\n",
      "\u001b[34m#metrics {\"StartTime\": 1641925290.2275174, \"EndTime\": 1641925290.2275374, \"Dimensions\": {\"Algorithm\": \"Linear Learner\", \"Host\": \"algo-1\", \"Operation\": \"training\", \"epoch\": 3, \"model\": 31}, \"Metrics\": {\"train_binary_classification_cross_entropy_objective\": {\"sum\": 0.6922376251220703, \"count\": 1, \"min\": 0.6922376251220703, \"max\": 0.6922376251220703}}}\u001b[0m\n",
      "\u001b[34m[01/11/2022 18:21:30 INFO 139726488319808] #quality_metric: host=algo-1, epoch=3, train binary_classification_cross_entropy_objective <loss>=0.6727629089355469\u001b[0m\n",
      "\u001b[34m[01/11/2022 18:21:30 INFO 139726488319808] #early_stopping_criteria_metric: host=algo-1, epoch=3, criteria=binary_classification_cross_entropy_objective, value=0.67256742477417\u001b[0m\n",
      "\u001b[34m[01/11/2022 18:21:30 INFO 139726488319808] Epoch 3: Loss improved. Updating best model\u001b[0m\n",
      "\u001b[34m[01/11/2022 18:21:30 INFO 139726488319808] Saving model for epoch: 3\u001b[0m\n",
      "\u001b[34m[01/11/2022 18:21:30 INFO 139726488319808] Saved checkpoint to \"/tmp/tmpcfm34xjr/mx-mod-0000.params\"\u001b[0m\n",
      "\u001b[34m[01/11/2022 18:21:30 INFO 139726488319808] #progress_metric: host=algo-1, completed 26.666666666666668 % of epochs\u001b[0m\n",
      "\u001b[34m#metrics {\"StartTime\": 1641925289.8730543, \"EndTime\": 1641925290.2492914, \"Dimensions\": {\"Algorithm\": \"Linear Learner\", \"Host\": \"algo-1\", \"Operation\": \"training\", \"epoch\": 3, \"Meta\": \"training_data_iter\"}, \"Metrics\": {\"Total Records Seen\": {\"sum\": 8975.0, \"count\": 1, \"min\": 8975, \"max\": 8975}, \"Total Batches Seen\": {\"sum\": 46.0, \"count\": 1, \"min\": 46, \"max\": 46}, \"Max Records Seen Between Resets\": {\"sum\": 1755.0, \"count\": 1, \"min\": 1755, \"max\": 1755}, \"Max Batches Seen Between Resets\": {\"sum\": 9.0, \"count\": 1, \"min\": 9, \"max\": 9}, \"Reset Count\": {\"sum\": 6.0, \"count\": 1, \"min\": 6, \"max\": 6}, \"Number of Records Since Last Reset\": {\"sum\": 1755.0, \"count\": 1, \"min\": 1755, \"max\": 1755}, \"Number of Batches Since Last Reset\": {\"sum\": 9.0, \"count\": 1, \"min\": 9, \"max\": 9}}}\u001b[0m\n",
      "\u001b[34m[01/11/2022 18:21:30 INFO 139726488319808] #throughput_metric: host=algo-1, train throughput=4662.344991829341 records/second\u001b[0m\n",
      "\u001b[34m[2022-01-11 18:21:30.590] [tensorio] [info] epoch_stats={\"data_pipeline\": \"/opt/ml/input/data/train\", \"epoch\": 12, \"duration\": 340, \"num_examples\": 9, \"num_bytes\": 133380}\u001b[0m\n",
      "\u001b[34m#metrics {\"StartTime\": 1641925290.5903013, \"EndTime\": 1641925290.590441, \"Dimensions\": {\"Algorithm\": \"Linear Learner\", \"Host\": \"algo-1\", \"Operation\": \"training\", \"epoch\": 4, \"model\": 0}, \"Metrics\": {\"train_binary_classification_cross_entropy_objective\": {\"sum\": 0.6727222537994385, \"count\": 1, \"min\": 0.6727222537994385, \"max\": 0.6727222537994385}}}\u001b[0m\n",
      "\u001b[34m#metrics {\"StartTime\": 1641925290.5905757, \"EndTime\": 1641925290.5905998, \"Dimensions\": {\"Algorithm\": \"Linear Learner\", \"Host\": \"algo-1\", \"Operation\": \"training\", \"epoch\": 4, \"model\": 1}, \"Metrics\": {\"train_binary_classification_cross_entropy_objective\": {\"sum\": 0.6725943374633789, \"count\": 1, \"min\": 0.6725943374633789, \"max\": 0.6725943374633789}}}\u001b[0m\n",
      "\u001b[34m#metrics {\"StartTime\": 1641925290.5906599, \"EndTime\": 1641925290.5906763, \"Dimensions\": {\"Algorithm\": \"Linear Learner\", \"Host\": \"algo-1\", \"Operation\": \"training\", \"epoch\": 4, \"model\": 2}, \"Metrics\": {\"train_binary_classification_cross_entropy_objective\": {\"sum\": 0.673433609008789, \"count\": 1, \"min\": 0.673433609008789, \"max\": 0.673433609008789}}}\u001b[0m\n",
      "\u001b[34m#metrics {\"StartTime\": 1641925290.5907266, \"EndTime\": 1641925290.5907423, \"Dimensions\": {\"Algorithm\": \"Linear Learner\", \"Host\": \"algo-1\", \"Operation\": \"training\", \"epoch\": 4, \"model\": 3}, \"Metrics\": {\"train_binary_classification_cross_entropy_objective\": {\"sum\": 0.6727096271514893, \"count\": 1, \"min\": 0.6727096271514893, \"max\": 0.6727096271514893}}}\u001b[0m\n",
      "\u001b[34m#metrics {\"StartTime\": 1641925290.5907967, \"EndTime\": 1641925290.5908127, \"Dimensions\": {\"Algorithm\": \"Linear Learner\", \"Host\": \"algo-1\", \"Operation\": \"training\", \"epoch\": 4, \"model\": 4}, \"Metrics\": {\"train_binary_classification_cross_entropy_objective\": {\"sum\": 0.6797679328918457, \"count\": 1, \"min\": 0.6797679328918457, \"max\": 0.6797679328918457}}}\u001b[0m\n",
      "\u001b[34m#metrics {\"StartTime\": 1641925290.5908613, \"EndTime\": 1641925290.5908754, \"Dimensions\": {\"Algorithm\": \"Linear Learner\", \"Host\": \"algo-1\", \"Operation\": \"training\", \"epoch\": 4, \"model\": 5}, \"Metrics\": {\"train_binary_classification_cross_entropy_objective\": {\"sum\": 0.6820369625091552, \"count\": 1, \"min\": 0.6820369625091552, \"max\": 0.6820369625091552}}}\u001b[0m\n",
      "\u001b[34m#metrics {\"StartTime\": 1641925290.5909233, \"EndTime\": 1641925290.5909374, \"Dimensions\": {\"Algorithm\": \"Linear Learner\", \"Host\": \"algo-1\", \"Operation\": \"training\", \"epoch\": 4, \"model\": 6}, \"Metrics\": {\"train_binary_classification_cross_entropy_objective\": {\"sum\": 0.6813576316833496, \"count\": 1, \"min\": 0.6813576316833496, \"max\": 0.6813576316833496}}}\u001b[0m\n",
      "\u001b[34m#metrics {\"StartTime\": 1641925290.5909848, \"EndTime\": 1641925290.5909996, \"Dimensions\": {\"Algorithm\": \"Linear Learner\", \"Host\": \"algo-1\", \"Operation\": \"training\", \"epoch\": 4, \"model\": 7}, \"Metrics\": {\"train_binary_classification_cross_entropy_objective\": {\"sum\": 0.6800918674468994, \"count\": 1, \"min\": 0.6800918674468994, \"max\": 0.6800918674468994}}}\u001b[0m\n",
      "\u001b[34m#metrics {\"StartTime\": 1641925290.5910494, \"EndTime\": 1641925290.5910652, \"Dimensions\": {\"Algorithm\": \"Linear Learner\", \"Host\": \"algo-1\", \"Operation\": \"training\", \"epoch\": 4, \"model\": 8}, \"Metrics\": {\"train_binary_classification_cross_entropy_objective\": {\"sum\": 0.6726260089874267, \"count\": 1, \"min\": 0.6726260089874267, \"max\": 0.6726260089874267}}}\u001b[0m\n",
      "\u001b[34m#metrics {\"StartTime\": 1641925290.5911136, \"EndTime\": 1641925290.5911279, \"Dimensions\": {\"Algorithm\": \"Linear Learner\", \"Host\": \"algo-1\", \"Operation\": \"training\", \"epoch\": 4, \"model\": 9}, \"Metrics\": {\"train_binary_classification_cross_entropy_objective\": {\"sum\": 0.6727002620697021, \"count\": 1, \"min\": 0.6727002620697021, \"max\": 0.6727002620697021}}}\u001b[0m\n",
      "\u001b[34m#metrics {\"StartTime\": 1641925290.5911763, \"EndTime\": 1641925290.5911908, \"Dimensions\": {\"Algorithm\": \"Linear Learner\", \"Host\": \"algo-1\", \"Operation\": \"training\", \"epoch\": 4, \"model\": 10}, \"Metrics\": {\"train_binary_classification_cross_entropy_objective\": {\"sum\": 0.6726686382293701, \"count\": 1, \"min\": 0.6726686382293701, \"max\": 0.6726686382293701}}}\u001b[0m\n",
      "\u001b[34m#metrics {\"StartTime\": 1641925290.5912454, \"EndTime\": 1641925290.5912588, \"Dimensions\": {\"Algorithm\": \"Linear Learner\", \"Host\": \"algo-1\", \"Operation\": \"training\", \"epoch\": 4, \"model\": 11}, \"Metrics\": {\"train_binary_classification_cross_entropy_objective\": {\"sum\": 0.6730120182037354, \"count\": 1, \"min\": 0.6730120182037354, \"max\": 0.6730120182037354}}}\u001b[0m\n",
      "\u001b[34m#metrics {\"StartTime\": 1641925290.591307, \"EndTime\": 1641925290.5913217, \"Dimensions\": {\"Algorithm\": \"Linear Learner\", \"Host\": \"algo-1\", \"Operation\": \"training\", \"epoch\": 4, \"model\": 12}, \"Metrics\": {\"train_binary_classification_cross_entropy_objective\": {\"sum\": 0.6820934295654297, \"count\": 1, \"min\": 0.6820934295654297, \"max\": 0.6820934295654297}}}\u001b[0m\n",
      "\u001b[34m#metrics {\"StartTime\": 1641925290.5913699, \"EndTime\": 1641925290.5913844, \"Dimensions\": {\"Algorithm\": \"Linear Learner\", \"Host\": \"algo-1\", \"Operation\": \"training\", \"epoch\": 4, \"model\": 13}, \"Metrics\": {\"train_binary_classification_cross_entropy_objective\": {\"sum\": 0.682865924835205, \"count\": 1, \"min\": 0.682865924835205, \"max\": 0.682865924835205}}}\u001b[0m\n",
      "\u001b[34m#metrics {\"StartTime\": 1641925290.5914328, \"EndTime\": 1641925290.5914469, \"Dimensions\": {\"Algorithm\": \"Linear Learner\", \"Host\": \"algo-1\", \"Operation\": \"training\", \"epoch\": 4, \"model\": 14}, \"Metrics\": {\"train_binary_classification_cross_entropy_objective\": {\"sum\": 0.68192138671875, \"count\": 1, \"min\": 0.68192138671875, \"max\": 0.68192138671875}}}\u001b[0m\n",
      "\u001b[34m#metrics {\"StartTime\": 1641925290.5914934, \"EndTime\": 1641925290.5915072, \"Dimensions\": {\"Algorithm\": \"Linear Learner\", \"Host\": \"algo-1\", \"Operation\": \"training\", \"epoch\": 4, \"model\": 15}, \"Metrics\": {\"train_binary_classification_cross_entropy_objective\": {\"sum\": 0.6811683845520019, \"count\": 1, \"min\": 0.6811683845520019, \"max\": 0.6811683845520019}}}\u001b[0m\n",
      "\u001b[34m#metrics {\"StartTime\": 1641925290.5915504, \"EndTime\": 1641925290.5915647, \"Dimensions\": {\"Algorithm\": \"Linear Learner\", \"Host\": \"algo-1\", \"Operation\": \"training\", \"epoch\": 4, \"model\": 16}, \"Metrics\": {\"train_binary_classification_cross_entropy_objective\": {\"sum\": 0.6751651287078857, \"count\": 1, \"min\": 0.6751651287078857, \"max\": 0.6751651287078857}}}\u001b[0m\n",
      "\u001b[34m#metrics {\"StartTime\": 1641925290.5916111, \"EndTime\": 1641925290.5916255, \"Dimensions\": {\"Algorithm\": \"Linear Learner\", \"Host\": \"algo-1\", \"Operation\": \"training\", \"epoch\": 4, \"model\": 17}, \"Metrics\": {\"train_binary_classification_cross_entropy_objective\": {\"sum\": 0.6751787376403808, \"count\": 1, \"min\": 0.6751787376403808, \"max\": 0.6751787376403808}}}\u001b[0m\n",
      "\u001b[34m#metrics {\"StartTime\": 1641925290.5916736, \"EndTime\": 1641925290.5916874, \"Dimensions\": {\"Algorithm\": \"Linear Learner\", \"Host\": \"algo-1\", \"Operation\": \"training\", \"epoch\": 4, \"model\": 18}, \"Metrics\": {\"train_binary_classification_cross_entropy_objective\": {\"sum\": 0.6751599502563477, \"count\": 1, \"min\": 0.6751599502563477, \"max\": 0.6751599502563477}}}\u001b[0m\n",
      "\u001b[34m#metrics {\"StartTime\": 1641925290.5917337, \"EndTime\": 1641925290.5917475, \"Dimensions\": {\"Algorithm\": \"Linear Learner\", \"Host\": \"algo-1\", \"Operation\": \"training\", \"epoch\": 4, \"model\": 19}, \"Metrics\": {\"train_binary_classification_cross_entropy_objective\": {\"sum\": 0.6754516792297364, \"count\": 1, \"min\": 0.6754516792297364, \"max\": 0.6754516792297364}}}\u001b[0m\n",
      "\u001b[34m#metrics {\"StartTime\": 1641925290.5917945, \"EndTime\": 1641925290.5918088, \"Dimensions\": {\"Algorithm\": \"Linear Learner\", \"Host\": \"algo-1\", \"Operation\": \"training\", \"epoch\": 4, \"model\": 20}, \"Metrics\": {\"train_binary_classification_cross_entropy_objective\": {\"sum\": 0.6838667297363281, \"count\": 1, \"min\": 0.6838667297363281, \"max\": 0.6838667297363281}}}\u001b[0m\n",
      "\u001b[34m#metrics {\"StartTime\": 1641925290.5918577, \"EndTime\": 1641925290.591873, \"Dimensions\": {\"Algorithm\": \"Linear Learner\", \"Host\": \"algo-1\", \"Operation\": \"training\", \"epoch\": 4, \"model\": 21}, \"Metrics\": {\"train_binary_classification_cross_entropy_objective\": {\"sum\": 0.6855851745605469, \"count\": 1, \"min\": 0.6855851745605469, \"max\": 0.6855851745605469}}}\u001b[0m\n",
      "\u001b[34m#metrics {\"StartTime\": 1641925290.5919273, \"EndTime\": 1641925290.591942, \"Dimensions\": {\"Algorithm\": \"Linear Learner\", \"Host\": \"algo-1\", \"Operation\": \"training\", \"epoch\": 4, \"model\": 22}, \"Metrics\": {\"train_binary_classification_cross_entropy_objective\": {\"sum\": 0.683389482498169, \"count\": 1, \"min\": 0.683389482498169, \"max\": 0.683389482498169}}}\u001b[0m\n",
      "\u001b[34m#metrics {\"StartTime\": 1641925290.5919907, \"EndTime\": 1641925290.592005, \"Dimensions\": {\"Algorithm\": \"Linear Learner\", \"Host\": \"algo-1\", \"Operation\": \"training\", \"epoch\": 4, \"model\": 23}, \"Metrics\": {\"train_binary_classification_cross_entropy_objective\": {\"sum\": 0.6863337421417236, \"count\": 1, \"min\": 0.6863337421417236, \"max\": 0.6863337421417236}}}\u001b[0m\n",
      "\u001b[34m#metrics {\"StartTime\": 1641925290.5920546, \"EndTime\": 1641925290.5920682, \"Dimensions\": {\"Algorithm\": \"Linear Learner\", \"Host\": \"algo-1\", \"Operation\": \"training\", \"epoch\": 4, \"model\": 24}, \"Metrics\": {\"train_binary_classification_cross_entropy_objective\": {\"sum\": 0.6772274971008301, \"count\": 1, \"min\": 0.6772274971008301, \"max\": 0.6772274971008301}}}\u001b[0m\n",
      "\u001b[34m#metrics {\"StartTime\": 1641925290.5921967, \"EndTime\": 1641925290.5922167, \"Dimensions\": {\"Algorithm\": \"Linear Learner\", \"Host\": \"algo-1\", \"Operation\": \"training\", \"epoch\": 4, \"model\": 25}, \"Metrics\": {\"train_binary_classification_cross_entropy_objective\": {\"sum\": 0.6772502708435059, \"count\": 1, \"min\": 0.6772502708435059, \"max\": 0.6772502708435059}}}\u001b[0m\n",
      "\u001b[34m#metrics {\"StartTime\": 1641925290.5922716, \"EndTime\": 1641925290.592325, \"Dimensions\": {\"Algorithm\": \"Linear Learner\", \"Host\": \"algo-1\", \"Operation\": \"training\", \"epoch\": 4, \"model\": 26}, \"Metrics\": {\"train_binary_classification_cross_entropy_objective\": {\"sum\": 0.6771893119812011, \"count\": 1, \"min\": 0.6771893119812011, \"max\": 0.6771893119812011}}}\u001b[0m\n",
      "\u001b[34m#metrics {\"StartTime\": 1641925290.5923822, \"EndTime\": 1641925290.5923982, \"Dimensions\": {\"Algorithm\": \"Linear Learner\", \"Host\": \"algo-1\", \"Operation\": \"training\", \"epoch\": 4, \"model\": 27}, \"Metrics\": {\"train_binary_classification_cross_entropy_objective\": {\"sum\": 0.6772093772888184, \"count\": 1, \"min\": 0.6772093772888184, \"max\": 0.6772093772888184}}}\u001b[0m\n",
      "\u001b[34m#metrics {\"StartTime\": 1641925290.5924459, \"EndTime\": 1641925290.592498, \"Dimensions\": {\"Algorithm\": \"Linear Learner\", \"Host\": \"algo-1\", \"Operation\": \"training\", \"epoch\": 4, \"model\": 28}, \"Metrics\": {\"train_binary_classification_cross_entropy_objective\": {\"sum\": 0.6861398029327392, \"count\": 1, \"min\": 0.6861398029327392, \"max\": 0.6861398029327392}}}\u001b[0m\n",
      "\u001b[34m#metrics {\"StartTime\": 1641925290.5925596, \"EndTime\": 1641925290.5925763, \"Dimensions\": {\"Algorithm\": \"Linear Learner\", \"Host\": \"algo-1\", \"Operation\": \"training\", \"epoch\": 4, \"model\": 29}, \"Metrics\": {\"train_binary_classification_cross_entropy_objective\": {\"sum\": 0.6848116588592529, \"count\": 1, \"min\": 0.6848116588592529, \"max\": 0.6848116588592529}}}\u001b[0m\n",
      "\u001b[34m#metrics {\"StartTime\": 1641925290.592625, \"EndTime\": 1641925290.5926385, \"Dimensions\": {\"Algorithm\": \"Linear Learner\", \"Host\": \"algo-1\", \"Operation\": \"training\", \"epoch\": 4, \"model\": 30}, \"Metrics\": {\"train_binary_classification_cross_entropy_objective\": {\"sum\": 0.6829215908050537, \"count\": 1, \"min\": 0.6829215908050537, \"max\": 0.6829215908050537}}}\u001b[0m\n",
      "\u001b[34m#metrics {\"StartTime\": 1641925290.5926838, \"EndTime\": 1641925290.5926974, \"Dimensions\": {\"Algorithm\": \"Linear Learner\", \"Host\": \"algo-1\", \"Operation\": \"training\", \"epoch\": 4, \"model\": 31}, \"Metrics\": {\"train_binary_classification_cross_entropy_objective\": {\"sum\": 0.682618989944458, \"count\": 1, \"min\": 0.682618989944458, \"max\": 0.682618989944458}}}\u001b[0m\n",
      "\u001b[34m[01/11/2022 18:21:30 INFO 139726488319808] #quality_metric: host=algo-1, epoch=4, train binary_classification_cross_entropy_objective <loss>=0.6727222537994385\u001b[0m\n",
      "\u001b[34m[01/11/2022 18:21:30 INFO 139726488319808] #early_stopping_criteria_metric: host=algo-1, epoch=4, criteria=binary_classification_cross_entropy_objective, value=0.6725943374633789\u001b[0m\n",
      "\u001b[34m[01/11/2022 18:21:30 INFO 139726488319808] Saving model for epoch: 4\u001b[0m\n",
      "\u001b[34m[01/11/2022 18:21:30 INFO 139726488319808] Saved checkpoint to \"/tmp/tmpjbtcu71v/mx-mod-0000.params\"\u001b[0m\n",
      "\u001b[34m[01/11/2022 18:21:30 INFO 139726488319808] #progress_metric: host=algo-1, completed 33.333333333333336 % of epochs\u001b[0m\n",
      "\u001b[34m#metrics {\"StartTime\": 1641925290.249685, \"EndTime\": 1641925290.6056623, \"Dimensions\": {\"Algorithm\": \"Linear Learner\", \"Host\": \"algo-1\", \"Operation\": \"training\", \"epoch\": 4, \"Meta\": \"training_data_iter\"}, \"Metrics\": {\"Total Records Seen\": {\"sum\": 10730.0, \"count\": 1, \"min\": 10730, \"max\": 10730}, \"Total Batches Seen\": {\"sum\": 55.0, \"count\": 1, \"min\": 55, \"max\": 55}, \"Max Records Seen Between Resets\": {\"sum\": 1755.0, \"count\": 1, \"min\": 1755, \"max\": 1755}, \"Max Batches Seen Between Resets\": {\"sum\": 9.0, \"count\": 1, \"min\": 9, \"max\": 9}, \"Reset Count\": {\"sum\": 7.0, \"count\": 1, \"min\": 7, \"max\": 7}, \"Number of Records Since Last Reset\": {\"sum\": 1755.0, \"count\": 1, \"min\": 1755, \"max\": 1755}, \"Number of Batches Since Last Reset\": {\"sum\": 9.0, \"count\": 1, \"min\": 9, \"max\": 9}}}\u001b[0m\n",
      "\u001b[34m[01/11/2022 18:21:30 INFO 139726488319808] #throughput_metric: host=algo-1, train throughput=4927.776095243068 records/second\u001b[0m\n",
      "\u001b[34m[2022-01-11 18:21:30.895] [tensorio] [info] epoch_stats={\"data_pipeline\": \"/opt/ml/input/data/train\", \"epoch\": 14, \"duration\": 288, \"num_examples\": 9, \"num_bytes\": 133380}\u001b[0m\n",
      "\u001b[34m#metrics {\"StartTime\": 1641925290.8954735, \"EndTime\": 1641925290.8955846, \"Dimensions\": {\"Algorithm\": \"Linear Learner\", \"Host\": \"algo-1\", \"Operation\": \"training\", \"epoch\": 5, \"model\": 0}, \"Metrics\": {\"train_binary_classification_cross_entropy_objective\": {\"sum\": 0.6724179649353027, \"count\": 1, \"min\": 0.6724179649353027, \"max\": 0.6724179649353027}}}\u001b[0m\n",
      "\u001b[34m#metrics {\"StartTime\": 1641925290.895693, \"EndTime\": 1641925290.8957171, \"Dimensions\": {\"Algorithm\": \"Linear Learner\", \"Host\": \"algo-1\", \"Operation\": \"training\", \"epoch\": 5, \"model\": 1}, \"Metrics\": {\"train_binary_classification_cross_entropy_objective\": {\"sum\": 0.6722992038726807, \"count\": 1, \"min\": 0.6722992038726807, \"max\": 0.6722992038726807}}}\u001b[0m\n",
      "\u001b[34m#metrics {\"StartTime\": 1641925290.8957736, \"EndTime\": 1641925290.8957906, \"Dimensions\": {\"Algorithm\": \"Linear Learner\", \"Host\": \"algo-1\", \"Operation\": \"training\", \"epoch\": 5, \"model\": 2}, \"Metrics\": {\"train_binary_classification_cross_entropy_objective\": {\"sum\": 0.6727982044219971, \"count\": 1, \"min\": 0.6727982044219971, \"max\": 0.6727982044219971}}}\u001b[0m\n",
      "\u001b[34m#metrics {\"StartTime\": 1641925290.8958418, \"EndTime\": 1641925290.8958592, \"Dimensions\": {\"Algorithm\": \"Linear Learner\", \"Host\": \"algo-1\", \"Operation\": \"training\", \"epoch\": 5, \"model\": 3}, \"Metrics\": {\"train_binary_classification_cross_entropy_objective\": {\"sum\": 0.6723745155334473, \"count\": 1, \"min\": 0.6723745155334473, \"max\": 0.6723745155334473}}}\u001b[0m\n",
      "\u001b[34m#metrics {\"StartTime\": 1641925290.8959215, \"EndTime\": 1641925290.895939, \"Dimensions\": {\"Algorithm\": \"Linear Learner\", \"Host\": \"algo-1\", \"Operation\": \"training\", \"epoch\": 5, \"model\": 4}, \"Metrics\": {\"train_binary_classification_cross_entropy_objective\": {\"sum\": 0.6793339920043945, \"count\": 1, \"min\": 0.6793339920043945, \"max\": 0.6793339920043945}}}\u001b[0m\n",
      "\u001b[34m#metrics {\"StartTime\": 1641925290.8960028, \"EndTime\": 1641925290.8960214, \"Dimensions\": {\"Algorithm\": \"Linear Learner\", \"Host\": \"algo-1\", \"Operation\": \"training\", \"epoch\": 5, \"model\": 5}, \"Metrics\": {\"train_binary_classification_cross_entropy_objective\": {\"sum\": 0.6813817310333252, \"count\": 1, \"min\": 0.6813817310333252, \"max\": 0.6813817310333252}}}\u001b[0m\n",
      "\u001b[34m#metrics {\"StartTime\": 1641925290.8960798, \"EndTime\": 1641925290.896098, \"Dimensions\": {\"Algorithm\": \"Linear Learner\", \"Host\": \"algo-1\", \"Operation\": \"training\", \"epoch\": 5, \"model\": 6}, \"Metrics\": {\"train_binary_classification_cross_entropy_objective\": {\"sum\": 0.6806041431427002, \"count\": 1, \"min\": 0.6806041431427002, \"max\": 0.6806041431427002}}}\u001b[0m\n",
      "\u001b[34m#metrics {\"StartTime\": 1641925290.8961518, \"EndTime\": 1641925290.896169, \"Dimensions\": {\"Algorithm\": \"Linear Learner\", \"Host\": \"algo-1\", \"Operation\": \"training\", \"epoch\": 5, \"model\": 7}, \"Metrics\": {\"train_binary_classification_cross_entropy_objective\": {\"sum\": 0.680400276184082, \"count\": 1, \"min\": 0.680400276184082, \"max\": 0.680400276184082}}}\u001b[0m\n",
      "\u001b[34m#metrics {\"StartTime\": 1641925290.8962252, \"EndTime\": 1641925290.8962438, \"Dimensions\": {\"Algorithm\": \"Linear Learner\", \"Host\": \"algo-1\", \"Operation\": \"training\", \"epoch\": 5, \"model\": 8}, \"Metrics\": {\"train_binary_classification_cross_entropy_objective\": {\"sum\": 0.6723391723632812, \"count\": 1, \"min\": 0.6723391723632812, \"max\": 0.6723391723632812}}}\u001b[0m\n",
      "\u001b[34m#metrics {\"StartTime\": 1641925290.8963056, \"EndTime\": 1641925290.8963242, \"Dimensions\": {\"Algorithm\": \"Linear Learner\", \"Host\": \"algo-1\", \"Operation\": \"training\", \"epoch\": 5, \"model\": 9}, \"Metrics\": {\"train_binary_classification_cross_entropy_objective\": {\"sum\": 0.6723500347137451, \"count\": 1, \"min\": 0.6723500347137451, \"max\": 0.6723500347137451}}}\u001b[0m\n",
      "\u001b[34m#metrics {\"StartTime\": 1641925290.8963897, \"EndTime\": 1641925290.8964086, \"Dimensions\": {\"Algorithm\": \"Linear Learner\", \"Host\": \"algo-1\", \"Operation\": \"training\", \"epoch\": 5, \"model\": 10}, \"Metrics\": {\"train_binary_classification_cross_entropy_objective\": {\"sum\": 0.6723380279541016, \"count\": 1, \"min\": 0.6723380279541016, \"max\": 0.6723380279541016}}}\u001b[0m\n",
      "\u001b[34m#metrics {\"StartTime\": 1641925290.8964682, \"EndTime\": 1641925290.8964849, \"Dimensions\": {\"Algorithm\": \"Linear Learner\", \"Host\": \"algo-1\", \"Operation\": \"training\", \"epoch\": 5, \"model\": 11}, \"Metrics\": {\"train_binary_classification_cross_entropy_objective\": {\"sum\": 0.6725572109222412, \"count\": 1, \"min\": 0.6725572109222412, \"max\": 0.6725572109222412}}}\u001b[0m\n",
      "\u001b[34m#metrics {\"StartTime\": 1641925290.8965423, \"EndTime\": 1641925290.896559, \"Dimensions\": {\"Algorithm\": \"Linear Learner\", \"Host\": \"algo-1\", \"Operation\": \"training\", \"epoch\": 5, \"model\": 12}, \"Metrics\": {\"train_binary_classification_cross_entropy_objective\": {\"sum\": 0.6810790824890137, \"count\": 1, \"min\": 0.6810790824890137, \"max\": 0.6810790824890137}}}\u001b[0m\n",
      "\u001b[34m#metrics {\"StartTime\": 1641925290.8966153, \"EndTime\": 1641925290.8966317, \"Dimensions\": {\"Algorithm\": \"Linear Learner\", \"Host\": \"algo-1\", \"Operation\": \"training\", \"epoch\": 5, \"model\": 13}, \"Metrics\": {\"train_binary_classification_cross_entropy_objective\": {\"sum\": 0.6830961990356446, \"count\": 1, \"min\": 0.6830961990356446, \"max\": 0.6830961990356446}}}\u001b[0m\n",
      "\u001b[34m#metrics {\"StartTime\": 1641925290.8966882, \"EndTime\": 1641925290.8967054, \"Dimensions\": {\"Algorithm\": \"Linear Learner\", \"Host\": \"algo-1\", \"Operation\": \"training\", \"epoch\": 5, \"model\": 14}, \"Metrics\": {\"train_binary_classification_cross_entropy_objective\": {\"sum\": 0.6810462760925293, \"count\": 1, \"min\": 0.6810462760925293, \"max\": 0.6810462760925293}}}\u001b[0m\n",
      "\u001b[34m#metrics {\"StartTime\": 1641925290.89676, \"EndTime\": 1641925290.8967772, \"Dimensions\": {\"Algorithm\": \"Linear Learner\", \"Host\": \"algo-1\", \"Operation\": \"training\", \"epoch\": 5, \"model\": 15}, \"Metrics\": {\"train_binary_classification_cross_entropy_objective\": {\"sum\": 0.6810641956329345, \"count\": 1, \"min\": 0.6810641956329345, \"max\": 0.6810641956329345}}}\u001b[0m\n",
      "\u001b[34m#metrics {\"StartTime\": 1641925290.8968327, \"EndTime\": 1641925290.896849, \"Dimensions\": {\"Algorithm\": \"Linear Learner\", \"Host\": \"algo-1\", \"Operation\": \"training\", \"epoch\": 5, \"model\": 16}, \"Metrics\": {\"train_binary_classification_cross_entropy_objective\": {\"sum\": 0.6751897525787354, \"count\": 1, \"min\": 0.6751897525787354, \"max\": 0.6751897525787354}}}\u001b[0m\n",
      "\u001b[34m#metrics {\"StartTime\": 1641925290.8969052, \"EndTime\": 1641925290.896922, \"Dimensions\": {\"Algorithm\": \"Linear Learner\", \"Host\": \"algo-1\", \"Operation\": \"training\", \"epoch\": 5, \"model\": 17}, \"Metrics\": {\"train_binary_classification_cross_entropy_objective\": {\"sum\": 0.6752637672424316, \"count\": 1, \"min\": 0.6752637672424316, \"max\": 0.6752637672424316}}}\u001b[0m\n",
      "\u001b[34m#metrics {\"StartTime\": 1641925290.8969796, \"EndTime\": 1641925290.8969965, \"Dimensions\": {\"Algorithm\": \"Linear Learner\", \"Host\": \"algo-1\", \"Operation\": \"training\", \"epoch\": 5, \"model\": 18}, \"Metrics\": {\"train_binary_classification_cross_entropy_objective\": {\"sum\": 0.6752509498596191, \"count\": 1, \"min\": 0.6752509498596191, \"max\": 0.6752509498596191}}}\u001b[0m\n",
      "\u001b[34m#metrics {\"StartTime\": 1641925290.8970659, \"EndTime\": 1641925290.8970845, \"Dimensions\": {\"Algorithm\": \"Linear Learner\", \"Host\": \"algo-1\", \"Operation\": \"training\", \"epoch\": 5, \"model\": 19}, \"Metrics\": {\"train_binary_classification_cross_entropy_objective\": {\"sum\": 0.6753740787506104, \"count\": 1, \"min\": 0.6753740787506104, \"max\": 0.6753740787506104}}}\u001b[0m\n",
      "\u001b[34m#metrics {\"StartTime\": 1641925290.897138, \"EndTime\": 1641925290.897155, \"Dimensions\": {\"Algorithm\": \"Linear Learner\", \"Host\": \"algo-1\", \"Operation\": \"training\", \"epoch\": 5, \"model\": 20}, \"Metrics\": {\"train_binary_classification_cross_entropy_objective\": {\"sum\": 0.6823966026306152, \"count\": 1, \"min\": 0.6823966026306152, \"max\": 0.6823966026306152}}}\u001b[0m\n",
      "\u001b[34m#metrics {\"StartTime\": 1641925290.8972137, \"EndTime\": 1641925290.8972292, \"Dimensions\": {\"Algorithm\": \"Linear Learner\", \"Host\": \"algo-1\", \"Operation\": \"training\", \"epoch\": 5, \"model\": 21}, \"Metrics\": {\"train_binary_classification_cross_entropy_objective\": {\"sum\": 0.6830567169189453, \"count\": 1, \"min\": 0.6830567169189453, \"max\": 0.6830567169189453}}}\u001b[0m\n",
      "\u001b[34m#metrics {\"StartTime\": 1641925290.8972912, \"EndTime\": 1641925290.8973072, \"Dimensions\": {\"Algorithm\": \"Linear Learner\", \"Host\": \"algo-1\", \"Operation\": \"training\", \"epoch\": 5, \"model\": 22}, \"Metrics\": {\"train_binary_classification_cross_entropy_objective\": {\"sum\": 0.6816409492492675, \"count\": 1, \"min\": 0.6816409492492675, \"max\": 0.6816409492492675}}}\u001b[0m\n",
      "\u001b[34m#metrics {\"StartTime\": 1641925290.897364, \"EndTime\": 1641925290.8973796, \"Dimensions\": {\"Algorithm\": \"Linear Learner\", \"Host\": \"algo-1\", \"Operation\": \"training\", \"epoch\": 5, \"model\": 23}, \"Metrics\": {\"train_binary_classification_cross_entropy_objective\": {\"sum\": 0.6837987899780273, \"count\": 1, \"min\": 0.6837987899780273, \"max\": 0.6837987899780273}}}\u001b[0m\n",
      "\u001b[34m#metrics {\"StartTime\": 1641925290.8974316, \"EndTime\": 1641925290.89745, \"Dimensions\": {\"Algorithm\": \"Linear Learner\", \"Host\": \"algo-1\", \"Operation\": \"training\", \"epoch\": 5, \"model\": 24}, \"Metrics\": {\"train_binary_classification_cross_entropy_objective\": {\"sum\": 0.6768657779693603, \"count\": 1, \"min\": 0.6768657779693603, \"max\": 0.6768657779693603}}}\u001b[0m\n",
      "\u001b[34m#metrics {\"StartTime\": 1641925290.8975074, \"EndTime\": 1641925290.8975246, \"Dimensions\": {\"Algorithm\": \"Linear Learner\", \"Host\": \"algo-1\", \"Operation\": \"training\", \"epoch\": 5, \"model\": 25}, \"Metrics\": {\"train_binary_classification_cross_entropy_objective\": {\"sum\": 0.6771706962585449, \"count\": 1, \"min\": 0.6771706962585449, \"max\": 0.6771706962585449}}}\u001b[0m\n",
      "\u001b[34m#metrics {\"StartTime\": 1641925290.897583, \"EndTime\": 1641925290.8975997, \"Dimensions\": {\"Algorithm\": \"Linear Learner\", \"Host\": \"algo-1\", \"Operation\": \"training\", \"epoch\": 5, \"model\": 26}, \"Metrics\": {\"train_binary_classification_cross_entropy_objective\": {\"sum\": 0.6770889663696289, \"count\": 1, \"min\": 0.6770889663696289, \"max\": 0.6770889663696289}}}\u001b[0m\n",
      "\u001b[34m#metrics {\"StartTime\": 1641925290.8976555, \"EndTime\": 1641925290.8976738, \"Dimensions\": {\"Algorithm\": \"Linear Learner\", \"Host\": \"algo-1\", \"Operation\": \"training\", \"epoch\": 5, \"model\": 27}, \"Metrics\": {\"train_binary_classification_cross_entropy_objective\": {\"sum\": 0.6768522071838379, \"count\": 1, \"min\": 0.6768522071838379, \"max\": 0.6768522071838379}}}\u001b[0m\n",
      "\u001b[34m#metrics {\"StartTime\": 1641925290.897739, \"EndTime\": 1641925290.8977566, \"Dimensions\": {\"Algorithm\": \"Linear Learner\", \"Host\": \"algo-1\", \"Operation\": \"training\", \"epoch\": 5, \"model\": 28}, \"Metrics\": {\"train_binary_classification_cross_entropy_objective\": {\"sum\": 0.6865948963165284, \"count\": 1, \"min\": 0.6865948963165284, \"max\": 0.6865948963165284}}}\u001b[0m\n",
      "\u001b[34m#metrics {\"StartTime\": 1641925290.897813, \"EndTime\": 1641925290.897831, \"Dimensions\": {\"Algorithm\": \"Linear Learner\", \"Host\": \"algo-1\", \"Operation\": \"training\", \"epoch\": 5, \"model\": 29}, \"Metrics\": {\"train_binary_classification_cross_entropy_objective\": {\"sum\": 0.6829135036468506, \"count\": 1, \"min\": 0.6829135036468506, \"max\": 0.6829135036468506}}}\u001b[0m\n",
      "\u001b[34m#metrics {\"StartTime\": 1641925290.897895, \"EndTime\": 1641925290.897914, \"Dimensions\": {\"Algorithm\": \"Linear Learner\", \"Host\": \"algo-1\", \"Operation\": \"training\", \"epoch\": 5, \"model\": 30}, \"Metrics\": {\"train_binary_classification_cross_entropy_objective\": {\"sum\": 0.6839456558227539, \"count\": 1, \"min\": 0.6839456558227539, \"max\": 0.6839456558227539}}}\u001b[0m\n",
      "\u001b[34m#metrics {\"StartTime\": 1641925290.8979716, \"EndTime\": 1641925290.8979886, \"Dimensions\": {\"Algorithm\": \"Linear Learner\", \"Host\": \"algo-1\", \"Operation\": \"training\", \"epoch\": 5, \"model\": 31}, \"Metrics\": {\"train_binary_classification_cross_entropy_objective\": {\"sum\": 0.6779028511047364, \"count\": 1, \"min\": 0.6779028511047364, \"max\": 0.6779028511047364}}}\u001b[0m\n",
      "\u001b[34m[01/11/2022 18:21:30 INFO 139726488319808] #quality_metric: host=algo-1, epoch=5, train binary_classification_cross_entropy_objective <loss>=0.6724179649353027\u001b[0m\n",
      "\u001b[34m[01/11/2022 18:21:30 INFO 139726488319808] #early_stopping_criteria_metric: host=algo-1, epoch=5, criteria=binary_classification_cross_entropy_objective, value=0.6722992038726807\u001b[0m\n",
      "\u001b[34m[01/11/2022 18:21:30 INFO 139726488319808] Saving model for epoch: 5\u001b[0m\n",
      "\u001b[34m[01/11/2022 18:21:30 INFO 139726488319808] Saved checkpoint to \"/tmp/tmpah2hnr_9/mx-mod-0000.params\"\u001b[0m\n",
      "\u001b[34m[01/11/2022 18:21:30 INFO 139726488319808] #progress_metric: host=algo-1, completed 40.0 % of epochs\u001b[0m\n",
      "\u001b[34m#metrics {\"StartTime\": 1641925290.6059728, \"EndTime\": 1641925290.9077604, \"Dimensions\": {\"Algorithm\": \"Linear Learner\", \"Host\": \"algo-1\", \"Operation\": \"training\", \"epoch\": 5, \"Meta\": \"training_data_iter\"}, \"Metrics\": {\"Total Records Seen\": {\"sum\": 12485.0, \"count\": 1, \"min\": 12485, \"max\": 12485}, \"Total Batches Seen\": {\"sum\": 64.0, \"count\": 1, \"min\": 64, \"max\": 64}, \"Max Records Seen Between Resets\": {\"sum\": 1755.0, \"count\": 1, \"min\": 1755, \"max\": 1755}, \"Max Batches Seen Between Resets\": {\"sum\": 9.0, \"count\": 1, \"min\": 9, \"max\": 9}, \"Reset Count\": {\"sum\": 8.0, \"count\": 1, \"min\": 8, \"max\": 8}, \"Number of Records Since Last Reset\": {\"sum\": 1755.0, \"count\": 1, \"min\": 1755, \"max\": 1755}, \"Number of Batches Since Last Reset\": {\"sum\": 9.0, \"count\": 1, \"min\": 9, \"max\": 9}}}\u001b[0m\n",
      "\u001b[34m[01/11/2022 18:21:30 INFO 139726488319808] #throughput_metric: host=algo-1, train throughput=5811.927291332092 records/second\u001b[0m\n",
      "\u001b[34m[2022-01-11 18:21:31.301] [tensorio] [info] epoch_stats={\"data_pipeline\": \"/opt/ml/input/data/train\", \"epoch\": 16, \"duration\": 392, \"num_examples\": 9, \"num_bytes\": 133380}\u001b[0m\n",
      "\u001b[34m#metrics {\"StartTime\": 1641925291.3011966, \"EndTime\": 1641925291.3012986, \"Dimensions\": {\"Algorithm\": \"Linear Learner\", \"Host\": \"algo-1\", \"Operation\": \"training\", \"epoch\": 6, \"model\": 0}, \"Metrics\": {\"train_binary_classification_cross_entropy_objective\": {\"sum\": 0.6722384834289551, \"count\": 1, \"min\": 0.6722384834289551, \"max\": 0.6722384834289551}}}\u001b[0m\n",
      "\u001b[34m#metrics {\"StartTime\": 1641925291.301404, \"EndTime\": 1641925291.301428, \"Dimensions\": {\"Algorithm\": \"Linear Learner\", \"Host\": \"algo-1\", \"Operation\": \"training\", \"epoch\": 6, \"model\": 1}, \"Metrics\": {\"train_binary_classification_cross_entropy_objective\": {\"sum\": 0.6721845626831054, \"count\": 1, \"min\": 0.6721845626831054, \"max\": 0.6721845626831054}}}\u001b[0m\n",
      "\u001b[34m#metrics {\"StartTime\": 1641925291.3014846, \"EndTime\": 1641925291.3014994, \"Dimensions\": {\"Algorithm\": \"Linear Learner\", \"Host\": \"algo-1\", \"Operation\": \"training\", \"epoch\": 6, \"model\": 2}, \"Metrics\": {\"train_binary_classification_cross_entropy_objective\": {\"sum\": 0.6724730014801026, \"count\": 1, \"min\": 0.6724730014801026, \"max\": 0.6724730014801026}}}\u001b[0m\n",
      "\u001b[34m#metrics {\"StartTime\": 1641925291.3015504, \"EndTime\": 1641925291.3015687, \"Dimensions\": {\"Algorithm\": \"Linear Learner\", \"Host\": \"algo-1\", \"Operation\": \"training\", \"epoch\": 6, \"model\": 3}, \"Metrics\": {\"train_binary_classification_cross_entropy_objective\": {\"sum\": 0.6722251796722412, \"count\": 1, \"min\": 0.6722251796722412, \"max\": 0.6722251796722412}}}\u001b[0m\n",
      "\u001b[34m#metrics {\"StartTime\": 1641925291.3016353, \"EndTime\": 1641925291.3016546, \"Dimensions\": {\"Algorithm\": \"Linear Learner\", \"Host\": \"algo-1\", \"Operation\": \"training\", \"epoch\": 6, \"model\": 4}, \"Metrics\": {\"train_binary_classification_cross_entropy_objective\": {\"sum\": 0.6784459972381591, \"count\": 1, \"min\": 0.6784459972381591, \"max\": 0.6784459972381591}}}\u001b[0m\n",
      "\u001b[34m#metrics {\"StartTime\": 1641925291.3017247, \"EndTime\": 1641925291.3017428, \"Dimensions\": {\"Algorithm\": \"Linear Learner\", \"Host\": \"algo-1\", \"Operation\": \"training\", \"epoch\": 6, \"model\": 5}, \"Metrics\": {\"train_binary_classification_cross_entropy_objective\": {\"sum\": 0.6791881656646729, \"count\": 1, \"min\": 0.6791881656646729, \"max\": 0.6791881656646729}}}\u001b[0m\n",
      "\u001b[34m#metrics {\"StartTime\": 1641925291.3018138, \"EndTime\": 1641925291.3018327, \"Dimensions\": {\"Algorithm\": \"Linear Learner\", \"Host\": \"algo-1\", \"Operation\": \"training\", \"epoch\": 6, \"model\": 6}, \"Metrics\": {\"train_binary_classification_cross_entropy_objective\": {\"sum\": 0.6784057235717773, \"count\": 1, \"min\": 0.6784057235717773, \"max\": 0.6784057235717773}}}\u001b[0m\n",
      "\u001b[34m#metrics {\"StartTime\": 1641925291.301904, \"EndTime\": 1641925291.301922, \"Dimensions\": {\"Algorithm\": \"Linear Learner\", \"Host\": \"algo-1\", \"Operation\": \"training\", \"epoch\": 6, \"model\": 7}, \"Metrics\": {\"train_binary_classification_cross_entropy_objective\": {\"sum\": 0.679563798904419, \"count\": 1, \"min\": 0.679563798904419, \"max\": 0.679563798904419}}}\u001b[0m\n",
      "\u001b[34m#metrics {\"StartTime\": 1641925291.3019857, \"EndTime\": 1641925291.3020043, \"Dimensions\": {\"Algorithm\": \"Linear Learner\", \"Host\": \"algo-1\", \"Operation\": \"training\", \"epoch\": 6, \"model\": 8}, \"Metrics\": {\"train_binary_classification_cross_entropy_objective\": {\"sum\": 0.6722268962860107, \"count\": 1, \"min\": 0.6722268962860107, \"max\": 0.6722268962860107}}}\u001b[0m\n",
      "\u001b[34m#metrics {\"StartTime\": 1641925291.3020725, \"EndTime\": 1641925291.302101, \"Dimensions\": {\"Algorithm\": \"Linear Learner\", \"Host\": \"algo-1\", \"Operation\": \"training\", \"epoch\": 6, \"model\": 9}, \"Metrics\": {\"train_binary_classification_cross_entropy_objective\": {\"sum\": 0.672217378616333, \"count\": 1, \"min\": 0.672217378616333, \"max\": 0.672217378616333}}}\u001b[0m\n",
      "\u001b[34m#metrics {\"StartTime\": 1641925291.3021643, \"EndTime\": 1641925291.302182, \"Dimensions\": {\"Algorithm\": \"Linear Learner\", \"Host\": \"algo-1\", \"Operation\": \"training\", \"epoch\": 6, \"model\": 10}, \"Metrics\": {\"train_binary_classification_cross_entropy_objective\": {\"sum\": 0.6722153854370118, \"count\": 1, \"min\": 0.6722153854370118, \"max\": 0.6722153854370118}}}\u001b[0m\n",
      "\u001b[34m#metrics {\"StartTime\": 1641925291.3022377, \"EndTime\": 1641925291.3022556, \"Dimensions\": {\"Algorithm\": \"Linear Learner\", \"Host\": \"algo-1\", \"Operation\": \"training\", \"epoch\": 6, \"model\": 11}, \"Metrics\": {\"train_binary_classification_cross_entropy_objective\": {\"sum\": 0.6723464393615722, \"count\": 1, \"min\": 0.6723464393615722, \"max\": 0.6723464393615722}}}\u001b[0m\n",
      "\u001b[34m#metrics {\"StartTime\": 1641925291.302312, \"EndTime\": 1641925291.30233, \"Dimensions\": {\"Algorithm\": \"Linear Learner\", \"Host\": \"algo-1\", \"Operation\": \"training\", \"epoch\": 6, \"model\": 12}, \"Metrics\": {\"train_binary_classification_cross_entropy_objective\": {\"sum\": 0.6785872650146484, \"count\": 1, \"min\": 0.6785872650146484, \"max\": 0.6785872650146484}}}\u001b[0m\n",
      "\u001b[34m#metrics {\"StartTime\": 1641925291.3023868, \"EndTime\": 1641925291.3024044, \"Dimensions\": {\"Algorithm\": \"Linear Learner\", \"Host\": \"algo-1\", \"Operation\": \"training\", \"epoch\": 6, \"model\": 13}, \"Metrics\": {\"train_binary_classification_cross_entropy_objective\": {\"sum\": 0.6803297615051269, \"count\": 1, \"min\": 0.6803297615051269, \"max\": 0.6803297615051269}}}\u001b[0m\n",
      "\u001b[34m#metrics {\"StartTime\": 1641925291.3024905, \"EndTime\": 1641925291.3025088, \"Dimensions\": {\"Algorithm\": \"Linear Learner\", \"Host\": \"algo-1\", \"Operation\": \"training\", \"epoch\": 6, \"model\": 14}, \"Metrics\": {\"train_binary_classification_cross_entropy_objective\": {\"sum\": 0.6785772228240967, \"count\": 1, \"min\": 0.6785772228240967, \"max\": 0.6785772228240967}}}\u001b[0m\n",
      "\u001b[34m#metrics {\"StartTime\": 1641925291.3025777, \"EndTime\": 1641925291.302596, \"Dimensions\": {\"Algorithm\": \"Linear Learner\", \"Host\": \"algo-1\", \"Operation\": \"training\", \"epoch\": 6, \"model\": 15}, \"Metrics\": {\"train_binary_classification_cross_entropy_objective\": {\"sum\": 0.6792968368530273, \"count\": 1, \"min\": 0.6792968368530273, \"max\": 0.6792968368530273}}}\u001b[0m\n",
      "\u001b[34m#metrics {\"StartTime\": 1641925291.3026645, \"EndTime\": 1641925291.3026822, \"Dimensions\": {\"Algorithm\": \"Linear Learner\", \"Host\": \"algo-1\", \"Operation\": \"training\", \"epoch\": 6, \"model\": 16}, \"Metrics\": {\"train_binary_classification_cross_entropy_objective\": {\"sum\": 0.675262622833252, \"count\": 1, \"min\": 0.675262622833252, \"max\": 0.675262622833252}}}\u001b[0m\n",
      "\u001b[34m#metrics {\"StartTime\": 1641925291.3027458, \"EndTime\": 1641925291.3027637, \"Dimensions\": {\"Algorithm\": \"Linear Learner\", \"Host\": \"algo-1\", \"Operation\": \"training\", \"epoch\": 6, \"model\": 17}, \"Metrics\": {\"train_binary_classification_cross_entropy_objective\": {\"sum\": 0.6753112125396729, \"count\": 1, \"min\": 0.6753112125396729, \"max\": 0.6753112125396729}}}\u001b[0m\n",
      "\u001b[34m#metrics {\"StartTime\": 1641925291.3028276, \"EndTime\": 1641925291.3028452, \"Dimensions\": {\"Algorithm\": \"Linear Learner\", \"Host\": \"algo-1\", \"Operation\": \"training\", \"epoch\": 6, \"model\": 18}, \"Metrics\": {\"train_binary_classification_cross_entropy_objective\": {\"sum\": 0.6753240585327148, \"count\": 1, \"min\": 0.6753240585327148, \"max\": 0.6753240585327148}}}\u001b[0m\n",
      "\u001b[34m#metrics {\"StartTime\": 1641925291.3029027, \"EndTime\": 1641925291.302921, \"Dimensions\": {\"Algorithm\": \"Linear Learner\", \"Host\": \"algo-1\", \"Operation\": \"training\", \"epoch\": 6, \"model\": 19}, \"Metrics\": {\"train_binary_classification_cross_entropy_objective\": {\"sum\": 0.675306921005249, \"count\": 1, \"min\": 0.675306921005249, \"max\": 0.675306921005249}}}\u001b[0m\n",
      "\u001b[34m#metrics {\"StartTime\": 1641925291.3029802, \"EndTime\": 1641925291.3029983, \"Dimensions\": {\"Algorithm\": \"Linear Learner\", \"Host\": \"algo-1\", \"Operation\": \"training\", \"epoch\": 6, \"model\": 20}, \"Metrics\": {\"train_binary_classification_cross_entropy_objective\": {\"sum\": 0.6812985420227051, \"count\": 1, \"min\": 0.6812985420227051, \"max\": 0.6812985420227051}}}\u001b[0m\n",
      "\u001b[34m#metrics {\"StartTime\": 1641925291.3030546, \"EndTime\": 1641925291.303071, \"Dimensions\": {\"Algorithm\": \"Linear Learner\", \"Host\": \"algo-1\", \"Operation\": \"training\", \"epoch\": 6, \"model\": 21}, \"Metrics\": {\"train_binary_classification_cross_entropy_objective\": {\"sum\": 0.681320161819458, \"count\": 1, \"min\": 0.681320161819458, \"max\": 0.681320161819458}}}\u001b[0m\n",
      "\u001b[34m#metrics {\"StartTime\": 1641925291.3031266, \"EndTime\": 1641925291.3031447, \"Dimensions\": {\"Algorithm\": \"Linear Learner\", \"Host\": \"algo-1\", \"Operation\": \"training\", \"epoch\": 6, \"model\": 22}, \"Metrics\": {\"train_binary_classification_cross_entropy_objective\": {\"sum\": 0.6807343006134033, \"count\": 1, \"min\": 0.6807343006134033, \"max\": 0.6807343006134033}}}\u001b[0m\n",
      "\u001b[34m#metrics {\"StartTime\": 1641925291.3032017, \"EndTime\": 1641925291.3032186, \"Dimensions\": {\"Algorithm\": \"Linear Learner\", \"Host\": \"algo-1\", \"Operation\": \"training\", \"epoch\": 6, \"model\": 23}, \"Metrics\": {\"train_binary_classification_cross_entropy_objective\": {\"sum\": 0.6817073917388916, \"count\": 1, \"min\": 0.6817073917388916, \"max\": 0.6817073917388916}}}\u001b[0m\n",
      "\u001b[34m#metrics {\"StartTime\": 1641925291.3032882, \"EndTime\": 1641925291.303307, \"Dimensions\": {\"Algorithm\": \"Linear Learner\", \"Host\": \"algo-1\", \"Operation\": \"training\", \"epoch\": 6, \"model\": 24}, \"Metrics\": {\"train_binary_classification_cross_entropy_objective\": {\"sum\": 0.676776876449585, \"count\": 1, \"min\": 0.676776876449585, \"max\": 0.676776876449585}}}\u001b[0m\n",
      "\u001b[34m#metrics {\"StartTime\": 1641925291.30336, \"EndTime\": 1641925291.3033748, \"Dimensions\": {\"Algorithm\": \"Linear Learner\", \"Host\": \"algo-1\", \"Operation\": \"training\", \"epoch\": 6, \"model\": 25}, \"Metrics\": {\"train_binary_classification_cross_entropy_objective\": {\"sum\": 0.6770254039764404, \"count\": 1, \"min\": 0.6770254039764404, \"max\": 0.6770254039764404}}}\u001b[0m\n",
      "\u001b[34m#metrics {\"StartTime\": 1641925291.3034189, \"EndTime\": 1641925291.3034334, \"Dimensions\": {\"Algorithm\": \"Linear Learner\", \"Host\": \"algo-1\", \"Operation\": \"training\", \"epoch\": 6, \"model\": 26}, \"Metrics\": {\"train_binary_classification_cross_entropy_objective\": {\"sum\": 0.6769280815124512, \"count\": 1, \"min\": 0.6769280815124512, \"max\": 0.6769280815124512}}}\u001b[0m\n",
      "\u001b[34m#metrics {\"StartTime\": 1641925291.3034813, \"EndTime\": 1641925291.3034983, \"Dimensions\": {\"Algorithm\": \"Linear Learner\", \"Host\": \"algo-1\", \"Operation\": \"training\", \"epoch\": 6, \"model\": 27}, \"Metrics\": {\"train_binary_classification_cross_entropy_objective\": {\"sum\": 0.6768799304962159, \"count\": 1, \"min\": 0.6768799304962159, \"max\": 0.6768799304962159}}}\u001b[0m\n",
      "\u001b[34m#metrics {\"StartTime\": 1641925291.3035457, \"EndTime\": 1641925291.303561, \"Dimensions\": {\"Algorithm\": \"Linear Learner\", \"Host\": \"algo-1\", \"Operation\": \"training\", \"epoch\": 6, \"model\": 28}, \"Metrics\": {\"train_binary_classification_cross_entropy_objective\": {\"sum\": 0.6827421379089356, \"count\": 1, \"min\": 0.6827421379089356, \"max\": 0.6827421379089356}}}\u001b[0m\n",
      "\u001b[34m#metrics {\"StartTime\": 1641925291.3036108, \"EndTime\": 1641925291.3036256, \"Dimensions\": {\"Algorithm\": \"Linear Learner\", \"Host\": \"algo-1\", \"Operation\": \"training\", \"epoch\": 6, \"model\": 29}, \"Metrics\": {\"train_binary_classification_cross_entropy_objective\": {\"sum\": 0.680880708694458, \"count\": 1, \"min\": 0.680880708694458, \"max\": 0.680880708694458}}}\u001b[0m\n",
      "\u001b[34m#metrics {\"StartTime\": 1641925291.3036742, \"EndTime\": 1641925291.30369, \"Dimensions\": {\"Algorithm\": \"Linear Learner\", \"Host\": \"algo-1\", \"Operation\": \"training\", \"epoch\": 6, \"model\": 30}, \"Metrics\": {\"train_binary_classification_cross_entropy_objective\": {\"sum\": 0.6828747177124024, \"count\": 1, \"min\": 0.6828747177124024, \"max\": 0.6828747177124024}}}\u001b[0m\n",
      "\u001b[34m#metrics {\"StartTime\": 1641925291.3037379, \"EndTime\": 1641925291.3037517, \"Dimensions\": {\"Algorithm\": \"Linear Learner\", \"Host\": \"algo-1\", \"Operation\": \"training\", \"epoch\": 6, \"model\": 31}, \"Metrics\": {\"train_binary_classification_cross_entropy_objective\": {\"sum\": 0.6793674945831298, \"count\": 1, \"min\": 0.6793674945831298, \"max\": 0.6793674945831298}}}\u001b[0m\n",
      "\u001b[34m[01/11/2022 18:21:31 INFO 139726488319808] #quality_metric: host=algo-1, epoch=6, train binary_classification_cross_entropy_objective <loss>=0.6722384834289551\u001b[0m\n",
      "\u001b[34m[01/11/2022 18:21:31 INFO 139726488319808] #early_stopping_criteria_metric: host=algo-1, epoch=6, criteria=binary_classification_cross_entropy_objective, value=0.6721845626831054\u001b[0m\n",
      "\u001b[34m[01/11/2022 18:21:31 INFO 139726488319808] Saving model for epoch: 6\u001b[0m\n",
      "\u001b[34m[01/11/2022 18:21:31 INFO 139726488319808] Saved checkpoint to \"/tmp/tmplc0in7vu/mx-mod-0000.params\"\u001b[0m\n",
      "\u001b[34m[01/11/2022 18:21:31 INFO 139726488319808] #progress_metric: host=algo-1, completed 46.666666666666664 % of epochs\u001b[0m\n",
      "\u001b[34m#metrics {\"StartTime\": 1641925290.9081438, \"EndTime\": 1641925291.31568, \"Dimensions\": {\"Algorithm\": \"Linear Learner\", \"Host\": \"algo-1\", \"Operation\": \"training\", \"epoch\": 6, \"Meta\": \"training_data_iter\"}, \"Metrics\": {\"Total Records Seen\": {\"sum\": 14240.0, \"count\": 1, \"min\": 14240, \"max\": 14240}, \"Total Batches Seen\": {\"sum\": 73.0, \"count\": 1, \"min\": 73, \"max\": 73}, \"Max Records Seen Between Resets\": {\"sum\": 1755.0, \"count\": 1, \"min\": 1755, \"max\": 1755}, \"Max Batches Seen Between Resets\": {\"sum\": 9.0, \"count\": 1, \"min\": 9, \"max\": 9}, \"Reset Count\": {\"sum\": 9.0, \"count\": 1, \"min\": 9, \"max\": 9}, \"Number of Records Since Last Reset\": {\"sum\": 1755.0, \"count\": 1, \"min\": 1755, \"max\": 1755}, \"Number of Batches Since Last Reset\": {\"sum\": 9.0, \"count\": 1, \"min\": 9, \"max\": 9}}}\u001b[0m\n",
      "\u001b[34m[01/11/2022 18:21:31 INFO 139726488319808] #throughput_metric: host=algo-1, train throughput=4304.803775078935 records/second\u001b[0m\n",
      "\u001b[34m[2022-01-11 18:21:31.678] [tensorio] [info] epoch_stats={\"data_pipeline\": \"/opt/ml/input/data/train\", \"epoch\": 18, \"duration\": 362, \"num_examples\": 9, \"num_bytes\": 133380}\u001b[0m\n",
      "\u001b[34m#metrics {\"StartTime\": 1641925291.6783442, \"EndTime\": 1641925291.6784768, \"Dimensions\": {\"Algorithm\": \"Linear Learner\", \"Host\": \"algo-1\", \"Operation\": \"training\", \"epoch\": 7, \"model\": 0}, \"Metrics\": {\"train_binary_classification_cross_entropy_objective\": {\"sum\": 0.6721605491638184, \"count\": 1, \"min\": 0.6721605491638184, \"max\": 0.6721605491638184}}}\u001b[0m\n",
      "\u001b[34m#metrics {\"StartTime\": 1641925291.678588, \"EndTime\": 1641925291.6786115, \"Dimensions\": {\"Algorithm\": \"Linear Learner\", \"Host\": \"algo-1\", \"Operation\": \"training\", \"epoch\": 7, \"model\": 1}, \"Metrics\": {\"train_binary_classification_cross_entropy_objective\": {\"sum\": 0.6721712589263916, \"count\": 1, \"min\": 0.6721712589263916, \"max\": 0.6721712589263916}}}\u001b[0m\n",
      "\u001b[34m#metrics {\"StartTime\": 1641925291.6786683, \"EndTime\": 1641925291.6786852, \"Dimensions\": {\"Algorithm\": \"Linear Learner\", \"Host\": \"algo-1\", \"Operation\": \"training\", \"epoch\": 7, \"model\": 2}, \"Metrics\": {\"train_binary_classification_cross_entropy_objective\": {\"sum\": 0.6723099136352539, \"count\": 1, \"min\": 0.6723099136352539, \"max\": 0.6723099136352539}}}\u001b[0m\n",
      "\u001b[34m#metrics {\"StartTime\": 1641925291.6787384, \"EndTime\": 1641925291.678757, \"Dimensions\": {\"Algorithm\": \"Linear Learner\", \"Host\": \"algo-1\", \"Operation\": \"training\", \"epoch\": 7, \"model\": 3}, \"Metrics\": {\"train_binary_classification_cross_entropy_objective\": {\"sum\": 0.6721564102172851, \"count\": 1, \"min\": 0.6721564102172851, \"max\": 0.6721564102172851}}}\u001b[0m\n",
      "\u001b[34m#metrics {\"StartTime\": 1641925291.6788125, \"EndTime\": 1641925291.6788304, \"Dimensions\": {\"Algorithm\": \"Linear Learner\", \"Host\": \"algo-1\", \"Operation\": \"training\", \"epoch\": 7, \"model\": 4}, \"Metrics\": {\"train_binary_classification_cross_entropy_objective\": {\"sum\": 0.677878942489624, \"count\": 1, \"min\": 0.677878942489624, \"max\": 0.677878942489624}}}\u001b[0m\n",
      "\u001b[34m#metrics {\"StartTime\": 1641925291.6788852, \"EndTime\": 1641925291.6789029, \"Dimensions\": {\"Algorithm\": \"Linear Learner\", \"Host\": \"algo-1\", \"Operation\": \"training\", \"epoch\": 7, \"model\": 5}, \"Metrics\": {\"train_binary_classification_cross_entropy_objective\": {\"sum\": 0.678123083114624, \"count\": 1, \"min\": 0.678123083114624, \"max\": 0.678123083114624}}}\u001b[0m\n",
      "\u001b[34m#metrics {\"StartTime\": 1641925291.6789556, \"EndTime\": 1641925291.6789732, \"Dimensions\": {\"Algorithm\": \"Linear Learner\", \"Host\": \"algo-1\", \"Operation\": \"training\", \"epoch\": 7, \"model\": 6}, \"Metrics\": {\"train_binary_classification_cross_entropy_objective\": {\"sum\": 0.6773403835296631, \"count\": 1, \"min\": 0.6773403835296631, \"max\": 0.6773403835296631}}}\u001b[0m\n",
      "\u001b[34m#metrics {\"StartTime\": 1641925291.6790283, \"EndTime\": 1641925291.6790435, \"Dimensions\": {\"Algorithm\": \"Linear Learner\", \"Host\": \"algo-1\", \"Operation\": \"training\", \"epoch\": 7, \"model\": 7}, \"Metrics\": {\"train_binary_classification_cross_entropy_objective\": {\"sum\": 0.6788466644287109, \"count\": 1, \"min\": 0.6788466644287109, \"max\": 0.6788466644287109}}}\u001b[0m\n",
      "\u001b[34m#metrics {\"StartTime\": 1641925291.6790955, \"EndTime\": 1641925291.6791108, \"Dimensions\": {\"Algorithm\": \"Linear Learner\", \"Host\": \"algo-1\", \"Operation\": \"training\", \"epoch\": 7, \"model\": 8}, \"Metrics\": {\"train_binary_classification_cross_entropy_objective\": {\"sum\": 0.672172040939331, \"count\": 1, \"min\": 0.672172040939331, \"max\": 0.672172040939331}}}\u001b[0m\n",
      "\u001b[34m#metrics {\"StartTime\": 1641925291.679164, \"EndTime\": 1641925291.6791806, \"Dimensions\": {\"Algorithm\": \"Linear Learner\", \"Host\": \"algo-1\", \"Operation\": \"training\", \"epoch\": 7, \"model\": 9}, \"Metrics\": {\"train_binary_classification_cross_entropy_objective\": {\"sum\": 0.6721665096282959, \"count\": 1, \"min\": 0.6721665096282959, \"max\": 0.6721665096282959}}}\u001b[0m\n",
      "\u001b[34m#metrics {\"StartTime\": 1641925291.679234, \"EndTime\": 1641925291.679252, \"Dimensions\": {\"Algorithm\": \"Linear Learner\", \"Host\": \"algo-1\", \"Operation\": \"training\", \"epoch\": 7, \"model\": 10}, \"Metrics\": {\"train_binary_classification_cross_entropy_objective\": {\"sum\": 0.6721679306030274, \"count\": 1, \"min\": 0.6721679306030274, \"max\": 0.6721679306030274}}}\u001b[0m\n",
      "\u001b[34m#metrics {\"StartTime\": 1641925291.6793075, \"EndTime\": 1641925291.6793234, \"Dimensions\": {\"Algorithm\": \"Linear Learner\", \"Host\": \"algo-1\", \"Operation\": \"training\", \"epoch\": 7, \"model\": 11}, \"Metrics\": {\"train_binary_classification_cross_entropy_objective\": {\"sum\": 0.6722435283660889, \"count\": 1, \"min\": 0.6722435283660889, \"max\": 0.6722435283660889}}}\u001b[0m\n",
      "\u001b[34m#metrics {\"StartTime\": 1641925291.6793797, \"EndTime\": 1641925291.679397, \"Dimensions\": {\"Algorithm\": \"Linear Learner\", \"Host\": \"algo-1\", \"Operation\": \"training\", \"epoch\": 7, \"model\": 12}, \"Metrics\": {\"train_binary_classification_cross_entropy_objective\": {\"sum\": 0.6772510623931884, \"count\": 1, \"min\": 0.6772510623931884, \"max\": 0.6772510623931884}}}\u001b[0m\n",
      "\u001b[34m#metrics {\"StartTime\": 1641925291.6794488, \"EndTime\": 1641925291.6794643, \"Dimensions\": {\"Algorithm\": \"Linear Learner\", \"Host\": \"algo-1\", \"Operation\": \"training\", \"epoch\": 7, \"model\": 13}, \"Metrics\": {\"train_binary_classification_cross_entropy_objective\": {\"sum\": 0.6782572364807129, \"count\": 1, \"min\": 0.6782572364807129, \"max\": 0.6782572364807129}}}\u001b[0m\n",
      "\u001b[34m#metrics {\"StartTime\": 1641925291.6795137, \"EndTime\": 1641925291.6795294, \"Dimensions\": {\"Algorithm\": \"Linear Learner\", \"Host\": \"algo-1\", \"Operation\": \"training\", \"epoch\": 7, \"model\": 14}, \"Metrics\": {\"train_binary_classification_cross_entropy_objective\": {\"sum\": 0.6772526836395264, \"count\": 1, \"min\": 0.6772526836395264, \"max\": 0.6772526836395264}}}\u001b[0m\n",
      "\u001b[34m#metrics {\"StartTime\": 1641925291.6795797, \"EndTime\": 1641925291.679596, \"Dimensions\": {\"Algorithm\": \"Linear Learner\", \"Host\": \"algo-1\", \"Operation\": \"training\", \"epoch\": 7, \"model\": 15}, \"Metrics\": {\"train_binary_classification_cross_entropy_objective\": {\"sum\": 0.6784517383575439, \"count\": 1, \"min\": 0.6784517383575439, \"max\": 0.6784517383575439}}}\u001b[0m\n",
      "\u001b[34m#metrics {\"StartTime\": 1641925291.67965, \"EndTime\": 1641925291.6796672, \"Dimensions\": {\"Algorithm\": \"Linear Learner\", \"Host\": \"algo-1\", \"Operation\": \"training\", \"epoch\": 7, \"model\": 16}, \"Metrics\": {\"train_binary_classification_cross_entropy_objective\": {\"sum\": 0.6752896404266358, \"count\": 1, \"min\": 0.6752896404266358, \"max\": 0.6752896404266358}}}\u001b[0m\n",
      "\u001b[34m#metrics {\"StartTime\": 1641925291.6797223, \"EndTime\": 1641925291.6797385, \"Dimensions\": {\"Algorithm\": \"Linear Learner\", \"Host\": \"algo-1\", \"Operation\": \"training\", \"epoch\": 7, \"model\": 17}, \"Metrics\": {\"train_binary_classification_cross_entropy_objective\": {\"sum\": 0.6753526878356934, \"count\": 1, \"min\": 0.6753526878356934, \"max\": 0.6753526878356934}}}\u001b[0m\n",
      "\u001b[34m#metrics {\"StartTime\": 1641925291.6797938, \"EndTime\": 1641925291.6798122, \"Dimensions\": {\"Algorithm\": \"Linear Learner\", \"Host\": \"algo-1\", \"Operation\": \"training\", \"epoch\": 7, \"model\": 18}, \"Metrics\": {\"train_binary_classification_cross_entropy_objective\": {\"sum\": 0.6753306484222412, \"count\": 1, \"min\": 0.6753306484222412, \"max\": 0.6753306484222412}}}\u001b[0m\n",
      "\u001b[34m#metrics {\"StartTime\": 1641925291.6798668, \"EndTime\": 1641925291.6798832, \"Dimensions\": {\"Algorithm\": \"Linear Learner\", \"Host\": \"algo-1\", \"Operation\": \"training\", \"epoch\": 7, \"model\": 19}, \"Metrics\": {\"train_binary_classification_cross_entropy_objective\": {\"sum\": 0.6752829551696777, \"count\": 1, \"min\": 0.6752829551696777, \"max\": 0.6752829551696777}}}\u001b[0m\n",
      "\u001b[34m#metrics {\"StartTime\": 1641925291.6799395, \"EndTime\": 1641925291.6799562, \"Dimensions\": {\"Algorithm\": \"Linear Learner\", \"Host\": \"algo-1\", \"Operation\": \"training\", \"epoch\": 7, \"model\": 20}, \"Metrics\": {\"train_binary_classification_cross_entropy_objective\": {\"sum\": 0.6810024356842042, \"count\": 1, \"min\": 0.6810024356842042, \"max\": 0.6810024356842042}}}\u001b[0m\n",
      "\u001b[34m#metrics {\"StartTime\": 1641925291.6800082, \"EndTime\": 1641925291.6800244, \"Dimensions\": {\"Algorithm\": \"Linear Learner\", \"Host\": \"algo-1\", \"Operation\": \"training\", \"epoch\": 7, \"model\": 21}, \"Metrics\": {\"train_binary_classification_cross_entropy_objective\": {\"sum\": 0.6808200263977051, \"count\": 1, \"min\": 0.6808200263977051, \"max\": 0.6808200263977051}}}\u001b[0m\n",
      "\u001b[34m#metrics {\"StartTime\": 1641925291.6800797, \"EndTime\": 1641925291.6800966, \"Dimensions\": {\"Algorithm\": \"Linear Learner\", \"Host\": \"algo-1\", \"Operation\": \"training\", \"epoch\": 7, \"model\": 22}, \"Metrics\": {\"train_binary_classification_cross_entropy_objective\": {\"sum\": 0.6809752941131592, \"count\": 1, \"min\": 0.6809752941131592, \"max\": 0.6809752941131592}}}\u001b[0m\n",
      "\u001b[34m#metrics {\"StartTime\": 1641925291.6801515, \"EndTime\": 1641925291.6801672, \"Dimensions\": {\"Algorithm\": \"Linear Learner\", \"Host\": \"algo-1\", \"Operation\": \"training\", \"epoch\": 7, \"model\": 23}, \"Metrics\": {\"train_binary_classification_cross_entropy_objective\": {\"sum\": 0.6811086177825928, \"count\": 1, \"min\": 0.6811086177825928, \"max\": 0.6811086177825928}}}\u001b[0m\n",
      "\u001b[34m#metrics {\"StartTime\": 1641925291.6802192, \"EndTime\": 1641925291.6802366, \"Dimensions\": {\"Algorithm\": \"Linear Learner\", \"Host\": \"algo-1\", \"Operation\": \"training\", \"epoch\": 7, \"model\": 24}, \"Metrics\": {\"train_binary_classification_cross_entropy_objective\": {\"sum\": 0.6769117069244385, \"count\": 1, \"min\": 0.6769117069244385, \"max\": 0.6769117069244385}}}\u001b[0m\n",
      "\u001b[34m#metrics {\"StartTime\": 1641925291.6802912, \"EndTime\": 1641925291.6803083, \"Dimensions\": {\"Algorithm\": \"Linear Learner\", \"Host\": \"algo-1\", \"Operation\": \"training\", \"epoch\": 7, \"model\": 25}, \"Metrics\": {\"train_binary_classification_cross_entropy_objective\": {\"sum\": 0.6769799518585206, \"count\": 1, \"min\": 0.6769799518585206, \"max\": 0.6769799518585206}}}\u001b[0m\n",
      "\u001b[34m#metrics {\"StartTime\": 1641925291.6803648, \"EndTime\": 1641925291.6803806, \"Dimensions\": {\"Algorithm\": \"Linear Learner\", \"Host\": \"algo-1\", \"Operation\": \"training\", \"epoch\": 7, \"model\": 26}, \"Metrics\": {\"train_binary_classification_cross_entropy_objective\": {\"sum\": 0.676886281967163, \"count\": 1, \"min\": 0.676886281967163, \"max\": 0.676886281967163}}}\u001b[0m\n",
      "\u001b[34m#metrics {\"StartTime\": 1641925291.6804342, \"EndTime\": 1641925291.6804523, \"Dimensions\": {\"Algorithm\": \"Linear Learner\", \"Host\": \"algo-1\", \"Operation\": \"training\", \"epoch\": 7, \"model\": 27}, \"Metrics\": {\"train_binary_classification_cross_entropy_objective\": {\"sum\": 0.6768883037567138, \"count\": 1, \"min\": 0.6768883037567138, \"max\": 0.6768883037567138}}}\u001b[0m\n",
      "\u001b[34m#metrics {\"StartTime\": 1641925291.6805074, \"EndTime\": 1641925291.6805246, \"Dimensions\": {\"Algorithm\": \"Linear Learner\", \"Host\": \"algo-1\", \"Operation\": \"training\", \"epoch\": 7, \"model\": 28}, \"Metrics\": {\"train_binary_classification_cross_entropy_objective\": {\"sum\": 0.6799067687988282, \"count\": 1, \"min\": 0.6799067687988282, \"max\": 0.6799067687988282}}}\u001b[0m\n",
      "\u001b[34m#metrics {\"StartTime\": 1641925291.6805787, \"EndTime\": 1641925291.6805966, \"Dimensions\": {\"Algorithm\": \"Linear Learner\", \"Host\": \"algo-1\", \"Operation\": \"training\", \"epoch\": 7, \"model\": 29}, \"Metrics\": {\"train_binary_classification_cross_entropy_objective\": {\"sum\": 0.6812282943725586, \"count\": 1, \"min\": 0.6812282943725586, \"max\": 0.6812282943725586}}}\u001b[0m\n",
      "\u001b[34m#metrics {\"StartTime\": 1641925291.6806488, \"EndTime\": 1641925291.6806648, \"Dimensions\": {\"Algorithm\": \"Linear Learner\", \"Host\": \"algo-1\", \"Operation\": \"training\", \"epoch\": 7, \"model\": 30}, \"Metrics\": {\"train_binary_classification_cross_entropy_objective\": {\"sum\": 0.6812243366241455, \"count\": 1, \"min\": 0.6812243366241455, \"max\": 0.6812243366241455}}}\u001b[0m\n",
      "\u001b[34m#metrics {\"StartTime\": 1641925291.680715, \"EndTime\": 1641925291.6807315, \"Dimensions\": {\"Algorithm\": \"Linear Learner\", \"Host\": \"algo-1\", \"Operation\": \"training\", \"epoch\": 7, \"model\": 31}, \"Metrics\": {\"train_binary_classification_cross_entropy_objective\": {\"sum\": 0.682056016921997, \"count\": 1, \"min\": 0.682056016921997, \"max\": 0.682056016921997}}}\u001b[0m\n",
      "\u001b[34m[01/11/2022 18:21:31 INFO 139726488319808] #quality_metric: host=algo-1, epoch=7, train binary_classification_cross_entropy_objective <loss>=0.6721605491638184\u001b[0m\n",
      "\u001b[34m[01/11/2022 18:21:31 INFO 139726488319808] #early_stopping_criteria_metric: host=algo-1, epoch=7, criteria=binary_classification_cross_entropy_objective, value=0.6721564102172851\u001b[0m\n",
      "\u001b[34m[01/11/2022 18:21:31 INFO 139726488319808] Saving model for epoch: 7\u001b[0m\n",
      "\u001b[34m[01/11/2022 18:21:31 INFO 139726488319808] Saved checkpoint to \"/tmp/tmp01shyo9r/mx-mod-0000.params\"\u001b[0m\n",
      "\u001b[34m[01/11/2022 18:21:31 INFO 139726488319808] Early stop condition met. Stopping training.\u001b[0m\n",
      "\u001b[34m[01/11/2022 18:21:31 INFO 139726488319808] #progress_metric: host=algo-1, completed 100 % epochs\u001b[0m\n",
      "\u001b[34m#metrics {\"StartTime\": 1641925291.3160124, \"EndTime\": 1641925291.6963654, \"Dimensions\": {\"Algorithm\": \"Linear Learner\", \"Host\": \"algo-1\", \"Operation\": \"training\", \"epoch\": 7, \"Meta\": \"training_data_iter\"}, \"Metrics\": {\"Total Records Seen\": {\"sum\": 15995.0, \"count\": 1, \"min\": 15995, \"max\": 15995}, \"Total Batches Seen\": {\"sum\": 82.0, \"count\": 1, \"min\": 82, \"max\": 82}, \"Max Records Seen Between Resets\": {\"sum\": 1755.0, \"count\": 1, \"min\": 1755, \"max\": 1755}, \"Max Batches Seen Between Resets\": {\"sum\": 9.0, \"count\": 1, \"min\": 9, \"max\": 9}, \"Reset Count\": {\"sum\": 10.0, \"count\": 1, \"min\": 10, \"max\": 10}, \"Number of Records Since Last Reset\": {\"sum\": 1755.0, \"count\": 1, \"min\": 1755, \"max\": 1755}, \"Number of Batches Since Last Reset\": {\"sum\": 9.0, \"count\": 1, \"min\": 9, \"max\": 9}}}\u001b[0m\n",
      "\u001b[34m[01/11/2022 18:21:31 INFO 139726488319808] #throughput_metric: host=algo-1, train throughput=4611.764611536862 records/second\u001b[0m\n",
      "\u001b[34m[01/11/2022 18:21:31 WARNING 139726488319808] wait_for_all_workers will not sync workers since the kv store is not running distributed\u001b[0m\n",
      "\u001b[34m[01/11/2022 18:21:31 WARNING 139726488319808] wait_for_all_workers will not sync workers since the kv store is not running distributed\u001b[0m\n",
      "\u001b[34m[2022-01-11 18:21:31.700] [tensorio] [info] epoch_stats={\"data_pipeline\": \"/opt/ml/input/data/train\", \"epoch\": 20, \"duration\": 3, \"num_examples\": 1, \"num_bytes\": 15200}\u001b[0m\n",
      "\u001b[34m[2022-01-11 18:21:31.841] [tensorio] [info] epoch_stats={\"data_pipeline\": \"/opt/ml/input/data/train\", \"epoch\": 23, \"duration\": 130, \"num_examples\": 9, \"num_bytes\": 133380}\u001b[0m\n",
      "\u001b[34m[2022-01-11 18:21:31.885] [tensorio] [info] epoch_stats={\"data_pipeline\": \"/opt/ml/input/data/train\", \"epoch\": 25, \"duration\": 26, \"num_examples\": 9, \"num_bytes\": 133380}\u001b[0m\n",
      "\u001b[34m[01/11/2022 18:21:31 INFO 139726488319808] #train_score (algo-1) : ('binary_classification_cross_entropy_objective', 0.6715034506599448)\u001b[0m\n",
      "\u001b[34m[01/11/2022 18:21:31 INFO 139726488319808] #train_score (algo-1) : ('binary_classification_accuracy', 0.5920227920227921)\u001b[0m\n",
      "\u001b[34m[01/11/2022 18:21:31 INFO 139726488319808] #train_score (algo-1) : ('binary_f_1.000', 0.7437365783822477)\u001b[0m\n",
      "\u001b[34m[01/11/2022 18:21:31 INFO 139726488319808] #train_score (algo-1) : ('precision', 0.5920227920227921)\u001b[0m\n",
      "\u001b[34m[01/11/2022 18:21:31 INFO 139726488319808] #train_score (algo-1) : ('recall', 1.0)\u001b[0m\n",
      "\u001b[34m[01/11/2022 18:21:31 INFO 139726488319808] #train_score (algo-1) : ('roc_auc_score', 0.5627557384894155)\u001b[0m\n",
      "\u001b[34m[01/11/2022 18:21:31 INFO 139726488319808] #train_score (algo-1) : ('binary_balanced_accuracy', 0.5)\u001b[0m\n",
      "\u001b[34m[01/11/2022 18:21:31 INFO 139726488319808] #train_score (algo-1) : ('binary_log_loss', 0.6796029219879901)\u001b[0m\n",
      "\u001b[34m[01/11/2022 18:21:31 INFO 139726488319808] #quality_metric: host=algo-1, train binary_classification_cross_entropy_objective <loss>=0.6715034506599448\u001b[0m\n",
      "\u001b[34m[01/11/2022 18:21:31 INFO 139726488319808] #quality_metric: host=algo-1, train binary_classification_accuracy <score>=0.5920227920227921\u001b[0m\n",
      "\u001b[34m[01/11/2022 18:21:31 INFO 139726488319808] #quality_metric: host=algo-1, train binary_f_1.000 <score>=0.7437365783822477\u001b[0m\n",
      "\u001b[34m[01/11/2022 18:21:31 INFO 139726488319808] #quality_metric: host=algo-1, train precision <score>=0.5920227920227921\u001b[0m\n",
      "\u001b[34m[01/11/2022 18:21:31 INFO 139726488319808] #quality_metric: host=algo-1, train recall <score>=1.0\u001b[0m\n",
      "\u001b[34m[01/11/2022 18:21:31 INFO 139726488319808] #quality_metric: host=algo-1, train roc_auc_score <score>=0.5627557384894155\u001b[0m\n",
      "\u001b[34m[01/11/2022 18:21:31 INFO 139726488319808] #quality_metric: host=algo-1, train binary_balanced_accuracy <score>=0.5\u001b[0m\n",
      "\u001b[34m[01/11/2022 18:21:31 INFO 139726488319808] #quality_metric: host=algo-1, train binary_log_loss <score>=0.6796029219879901\u001b[0m\n",
      "\u001b[34m[01/11/2022 18:21:31 INFO 139726488319808] Best model found for hyperparameters: {\"optimizer\": \"adam\", \"learning_rate\": 0.005, \"wd\": 0.01, \"l1\": 0.0, \"lr_scheduler_step\": 10, \"lr_scheduler_factor\": 0.99, \"lr_scheduler_minimum_lr\": 1e-05}\u001b[0m\n",
      "\u001b[34m[01/11/2022 18:21:31 INFO 139726488319808] Saved checkpoint to \"/tmp/tmpynvoizrm/mx-mod-0000.params\"\u001b[0m\n",
      "\u001b[34m[2022-01-11 18:21:31.901] [tensorio] [info] epoch_stats={\"data_pipeline\": \"/opt/ml/input/data/test\", \"epoch\": 0, \"duration\": 3177, \"num_examples\": 1, \"num_bytes\": 15200}\u001b[0m\n",
      "\u001b[34m[2022-01-11 18:21:31.912] [tensorio] [info] epoch_stats={\"data_pipeline\": \"/opt/ml/input/data/test\", \"epoch\": 1, \"duration\": 10, \"num_examples\": 3, \"num_bytes\": 44460}\u001b[0m\n",
      "\u001b[34m#metrics {\"StartTime\": 1641925291.9012809, \"EndTime\": 1641925291.916408, \"Dimensions\": {\"Algorithm\": \"Linear Learner\", \"Host\": \"algo-1\", \"Operation\": \"training\", \"Meta\": \"test_data_iter\"}, \"Metrics\": {\"Total Records Seen\": {\"sum\": 585.0, \"count\": 1, \"min\": 585, \"max\": 585}, \"Total Batches Seen\": {\"sum\": 3.0, \"count\": 1, \"min\": 3, \"max\": 3}, \"Max Records Seen Between Resets\": {\"sum\": 585.0, \"count\": 1, \"min\": 585, \"max\": 585}, \"Max Batches Seen Between Resets\": {\"sum\": 3.0, \"count\": 1, \"min\": 3, \"max\": 3}, \"Reset Count\": {\"sum\": 1.0, \"count\": 1, \"min\": 1, \"max\": 1}, \"Number of Records Since Last Reset\": {\"sum\": 585.0, \"count\": 1, \"min\": 585, \"max\": 585}, \"Number of Batches Since Last Reset\": {\"sum\": 3.0, \"count\": 1, \"min\": 3, \"max\": 3}}}\u001b[0m\n",
      "\u001b[34m[01/11/2022 18:21:31 INFO 139726488319808] #test_score (algo-1) : ('binary_classification_cross_entropy_objective', 0.6641113411667)\u001b[0m\n",
      "\u001b[34m[01/11/2022 18:21:31 INFO 139726488319808] #test_score (algo-1) : ('binary_classification_accuracy', 0.6153846153846154)\u001b[0m\n",
      "\u001b[34m[01/11/2022 18:21:31 INFO 139726488319808] #test_score (algo-1) : ('binary_f_1.000', 0.7619047619047619)\u001b[0m\n",
      "\u001b[34m[01/11/2022 18:21:31 INFO 139726488319808] #test_score (algo-1) : ('precision', 0.6153846153846154)\u001b[0m\n",
      "\u001b[34m[01/11/2022 18:21:31 INFO 139726488319808] #test_score (algo-1) : ('recall', 1.0)\u001b[0m\n",
      "\u001b[34m[01/11/2022 18:21:31 INFO 139726488319808] #test_score (algo-1) : ('roc_auc_score', 0.5549999999999999)\u001b[0m\n",
      "\u001b[34m[01/11/2022 18:21:31 INFO 139726488319808] #test_score (algo-1) : ('binary_balanced_accuracy', 0.5)\u001b[0m\n",
      "\u001b[34m[01/11/2022 18:21:31 INFO 139726488319808] #test_score (algo-1) : ('binary_log_loss', 0.666346770748268)\u001b[0m\n",
      "\u001b[34m[01/11/2022 18:21:31 INFO 139726488319808] #quality_metric: host=algo-1, test binary_classification_cross_entropy_objective <loss>=0.6641113411667\u001b[0m\n",
      "\u001b[34m[01/11/2022 18:21:31 INFO 139726488319808] #quality_metric: host=algo-1, test binary_classification_accuracy <score>=0.6153846153846154\u001b[0m\n",
      "\u001b[34m[01/11/2022 18:21:31 INFO 139726488319808] #quality_metric: host=algo-1, test binary_f_1.000 <score>=0.7619047619047619\u001b[0m\n",
      "\u001b[34m[01/11/2022 18:21:31 INFO 139726488319808] #quality_metric: host=algo-1, test precision <score>=0.6153846153846154\u001b[0m\n",
      "\u001b[34m[01/11/2022 18:21:31 INFO 139726488319808] #quality_metric: host=algo-1, test recall <score>=1.0\u001b[0m\n",
      "\u001b[34m[01/11/2022 18:21:31 INFO 139726488319808] #quality_metric: host=algo-1, test roc_auc_score <score>=0.5549999999999999\u001b[0m\n",
      "\u001b[34m[01/11/2022 18:21:31 INFO 139726488319808] #quality_metric: host=algo-1, test binary_balanced_accuracy <score>=0.5\u001b[0m\n",
      "\u001b[34m[01/11/2022 18:21:31 INFO 139726488319808] #quality_metric: host=algo-1, test binary_log_loss <score>=0.666346770748268\u001b[0m\n",
      "\u001b[34m#metrics {\"StartTime\": 1641925288.7221355, \"EndTime\": 1641925291.922086, \"Dimensions\": {\"Algorithm\": \"Linear Learner\", \"Host\": \"algo-1\", \"Operation\": \"training\"}, \"Metrics\": {\"initialize.time\": {\"sum\": 206.99691772460938, \"count\": 1, \"min\": 206.99691772460938, \"max\": 206.99691772460938}, \"epochs\": {\"sum\": 15.0, \"count\": 1, \"min\": 15, \"max\": 15}, \"check_early_stopping.time\": {\"sum\": 5.636453628540039, \"count\": 8, \"min\": 0.24580955505371094, \"max\": 1.2531280517578125}, \"update.time\": {\"sum\": 2711.9245529174805, \"count\": 8, \"min\": 292.8633689880371, \"max\": 401.31068229675293}, \"finalize.time\": {\"sum\": 201.29084587097168, \"count\": 1, \"min\": 201.29084587097168, \"max\": 201.29084587097168}, \"setuptime\": {\"sum\": 29.12592887878418, \"count\": 1, \"min\": 29.12592887878418, \"max\": 29.12592887878418}, \"totaltime\": {\"sum\": 3484.321117401123, \"count\": 1, \"min\": 3484.321117401123, \"max\": 3484.321117401123}}}\u001b[0m\n",
      "\n",
      "2022-01-11 18:22:04 Completed - Training job completed\n",
      "ProfilerReport-1641925058: NoIssuesFound\n",
      "Training seconds: 84\n",
      "Billable seconds: 84\n"
     ]
    }
   ],
   "source": [
    "# Fitting the linear learner model\n",
    "linear.fit({\"train\": s3_train_data, \"test\": s3_test_data})"
   ]
  },
  {
   "cell_type": "markdown",
   "metadata": {},
   "source": [
    "## Make Predictions With the Model in SageMaker Studio"
   ]
  },
  {
   "cell_type": "markdown",
   "metadata": {},
   "source": [
    "### Deploy the model"
   ]
  },
  {
   "cell_type": "code",
   "execution_count": 26,
   "metadata": {},
   "outputs": [
    {
     "name": "stdout",
     "output_type": "stream",
     "text": [
      "---------!"
     ]
    }
   ],
   "source": [
    "# Deploy an instance of the linear-learner model to create a predictor\n",
    "linear_predictor = linear.deploy(initial_instance_count=1, instance_type=\"ml.t2.medium\")"
   ]
  },
  {
   "cell_type": "markdown",
   "metadata": {},
   "source": [
    "### Setting configurations for the predictor"
   ]
  },
  {
   "cell_type": "code",
   "execution_count": 27,
   "metadata": {},
   "outputs": [],
   "source": [
    "# Linear predictor configurations\n",
    "linear_predictor.serializer = csv_serializer\n",
    "linear_predictor.deserializer = json_deserializer"
   ]
  },
  {
   "cell_type": "markdown",
   "metadata": {},
   "source": [
    "### Make Predictions Using Testing Data"
   ]
  },
  {
   "cell_type": "markdown",
   "metadata": {},
   "source": [
    "#### Use the `predict` function of the predictor to make predictions using the testing data stored in Pandas"
   ]
  },
  {
   "cell_type": "code",
   "execution_count": 28,
   "metadata": {},
   "outputs": [
    {
     "name": "stderr",
     "output_type": "stream",
     "text": [
      "The csv_serializer has been renamed in sagemaker>=2.\n",
      "See: https://sagemaker.readthedocs.io/en/stable/v2.html for details.\n",
      "The json_deserializer has been renamed in sagemaker>=2.\n",
      "See: https://sagemaker.readthedocs.io/en/stable/v2.html for details.\n"
     ]
    }
   ],
   "source": [
    "# Making some predictions using the test data\n",
    "model_predictions = linear_predictor.predict(X_test_scaled)"
   ]
  },
  {
   "cell_type": "code",
   "execution_count": 29,
   "metadata": {},
   "outputs": [
    {
     "data": {
      "text/plain": [
       "[{'score': 1.0, 'predicted_label': 1},\n",
       " {'score': 1.0, 'predicted_label': 1},\n",
       " {'score': 1.0, 'predicted_label': 1}]"
      ]
     },
     "execution_count": 29,
     "metadata": {},
     "output_type": "execute_result"
    }
   ],
   "source": [
    "# Display sample predictions\n",
    "model_predictions[\"predictions\"][:3]"
   ]
  },
  {
   "cell_type": "markdown",
   "metadata": {},
   "source": [
    "#### Creating a list of the predicted values"
   ]
  },
  {
   "cell_type": "code",
   "execution_count": 30,
   "metadata": {},
   "outputs": [
    {
     "data": {
      "text/plain": [
       "array([1, 1, 1, 1, 1, 1, 1, 1, 1, 1], dtype=uint8)"
      ]
     },
     "execution_count": 30,
     "metadata": {},
     "output_type": "execute_result"
    }
   ],
   "source": [
    "# Create a list with the predicted values\n",
    "y_predictions = [np.uint8(value[\"predicted_label\"]) for value in model_predictions[\"predictions\"]]\n",
    "\n",
    "# Transforming the list into an array\n",
    "y_predictions = np.array(y_predictions)\n",
    "\n",
    "# Display sample data\n",
    "y_predictions[:10]"
   ]
  },
  {
   "cell_type": "markdown",
   "metadata": {},
   "source": [
    "## Evaluate the Machine Model\n",
    "\n",
    "Use the `classification_report` module from Scikit-learn to assess the performance of the model to predict fraudulent credit card transactions."
   ]
  },
  {
   "cell_type": "code",
   "execution_count": 31,
   "metadata": {},
   "outputs": [],
   "source": [
    "# Import the classification report from Scikit-learn\n",
    "from sklearn.metrics import classification_report"
   ]
  },
  {
   "cell_type": "code",
   "execution_count": 32,
   "metadata": {},
   "outputs": [
    {
     "name": "stdout",
     "output_type": "stream",
     "text": [
      "Classification report\n",
      "              precision    recall  f1-score   support\n",
      "\n",
      "           0       0.00      0.00      0.00       225\n",
      "           1       0.62      1.00      0.76       360\n",
      "\n",
      "    accuracy                           0.62       585\n",
      "   macro avg       0.31      0.50      0.38       585\n",
      "weighted avg       0.38      0.62      0.47       585\n",
      "\n"
     ]
    },
    {
     "name": "stderr",
     "output_type": "stream",
     "text": [
      "/opt/conda/lib/python3.7/site-packages/sklearn/metrics/_classification.py:1272: UndefinedMetricWarning: Precision and F-score are ill-defined and being set to 0.0 in labels with no predicted samples. Use `zero_division` parameter to control this behavior.\n",
      "  _warn_prf(average, modifier, msg_start, len(result))\n"
     ]
    }
   ],
   "source": [
    "# Display classification report\n",
    "print(\"Classification report\")\n",
    "print(classification_report(y_test, y_predictions))"
   ]
  },
  {
   "cell_type": "markdown",
   "metadata": {},
   "source": [
    "## Delete the End-Point to Avoid Additional AWS Resources Usage and Billing\n",
    "\n",
    "Make sure that you delete all the Amazon SageMaker endpoints to prevent unwanted charges."
   ]
  },
  {
   "cell_type": "code",
   "execution_count": 33,
   "metadata": {},
   "outputs": [
    {
     "name": "stderr",
     "output_type": "stream",
     "text": [
      "The endpoint attribute has been renamed in sagemaker>=2.\n",
      "See: https://sagemaker.readthedocs.io/en/stable/v2.html for details.\n"
     ]
    }
   ],
   "source": [
    "# Delete Amazon SageMaker end-point\n",
    "sagemaker.Session().delete_endpoint(linear_predictor.endpoint)"
   ]
  },
  {
   "cell_type": "code",
   "execution_count": null,
   "metadata": {},
   "outputs": [],
   "source": []
  }
 ],
 "metadata": {
  "instance_type": "ml.t3.medium",
  "kernelspec": {
   "display_name": "Python 3 (Data Science)",
   "language": "python",
   "name": "python3__SAGEMAKER_INTERNAL__arn:aws:sagemaker:us-west-2:236514542706:image/datascience-1.0"
  },
  "language_info": {
   "codemirror_mode": {
    "name": "ipython",
    "version": 3
   },
   "file_extension": ".py",
   "mimetype": "text/x-python",
   "name": "python",
   "nbconvert_exporter": "python",
   "pygments_lexer": "ipython3",
   "version": "3.7.10"
  }
 },
 "nbformat": 4,
 "nbformat_minor": 4
}
