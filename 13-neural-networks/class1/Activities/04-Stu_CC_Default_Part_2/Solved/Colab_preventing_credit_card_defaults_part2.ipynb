{
  "cells": [
    {
      "cell_type": "markdown",
      "metadata": {
        "id": "wMRNYXflyC4H"
      },
      "source": [
        "# Preventing Credit Card Defaults - Part 2\n",
        "\n",
        "In this activity, you will continue working on the neural network model to prevent credit card defaults. In this second part, you will compile, fit, and evaluate the model.\n",
        "\n",
        "## Instructions:\n",
        "\n",
        "1. Open the notebook, and run all the cells in the Jupyter notebook that correspond to “Preventing Credit Card Defaults Part 1”.\n",
        "\n",
        "2. Compile the neural network model using the `binary_crossentropy` loss function, the `adam` optimizer, and the additional metric `accuracy`.\n",
        "\n",
        "3. Fit the model with the training data, using 100 epochs.\n",
        "\n",
        "4. Plot the model’s loss function and accuracy over the 100 epochs.\n",
        "\n",
        "5. Evaluate the model using testing data and the `evaluate` method.\n",
        "\n",
        "\n",
        "## References:\n",
        "\n",
        "[Keras Sequential model](https://keras.io/api/models/sequential/)\n",
        "\n",
        "[Keras Dense module](https://keras.io/api/layers/core_layers/dense/)\n",
        "\n",
        "[Keras evaluate](https://keras.io/api/models/model_training_apis/)"
      ]
    },
    {
      "cell_type": "code",
      "execution_count": 1,
      "metadata": {
        "id": "VMMKvDdEyC4P"
      },
      "outputs": [],
      "source": [
        "# Imports\n",
        "import pandas as pd\n",
        "import tensorflow as tf\n",
        "from tensorflow.keras.layers import Dense\n",
        "from tensorflow.keras.models import Sequential\n",
        "from sklearn.preprocessing import StandardScaler\n",
        "from sklearn.model_selection import train_test_split\n",
        "\n",
        "%matplotlib inline"
      ]
    },
    {
      "cell_type": "markdown",
      "metadata": {
        "id": "7jUJamkxyC4Q"
      },
      "source": [
        "## Step 1: Run all the cells in the Jupyter notebook that correspond to “Preventing Credit Card Defaults Part 1”."
      ]
    },
    {
      "cell_type": "markdown",
      "metadata": {
        "id": "ZZbdQakRyC4Q"
      },
      "source": [
        "### Read the CSV file from the Resources folder into a Pandas DataFrame."
      ]
    },
    {
      "cell_type": "code",
      "source": [
        "# Import cc_default.csv to Google Colab\n",
        "from google.colab import files\n",
        "uploaded = files.upload()"
      ],
      "metadata": {
        "colab": {
          "resources": {
            "http://localhost:8080/nbextensions/google.colab/files.js": {
              "data": "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",
              "ok": true,
              "headers": [
                [
                  "content-type",
                  "application/javascript"
                ]
              ],
              "status": 200,
              "status_text": ""
            }
          },
          "base_uri": "https://localhost:8080/",
          "height": 74
        },
        "id": "8UNb9-tUyNcf",
        "outputId": "a208732e-8965-48af-ace6-0b5329f56347"
      },
      "execution_count": 2,
      "outputs": [
        {
          "output_type": "display_data",
          "data": {
            "text/plain": [
              "<IPython.core.display.HTML object>"
            ],
            "text/html": [
              "\n",
              "     <input type=\"file\" id=\"files-2e5adf4a-ca05-44ed-8e50-44821985ca56\" name=\"files[]\" multiple disabled\n",
              "        style=\"border:none\" />\n",
              "     <output id=\"result-2e5adf4a-ca05-44ed-8e50-44821985ca56\">\n",
              "      Upload widget is only available when the cell has been executed in the\n",
              "      current browser session. Please rerun this cell to enable.\n",
              "      </output>\n",
              "      <script src=\"/nbextensions/google.colab/files.js\"></script> "
            ]
          },
          "metadata": {}
        },
        {
          "output_type": "stream",
          "name": "stdout",
          "text": [
            "Saving cc_default.csv to cc_default.csv\n"
          ]
        }
      ]
    },
    {
      "cell_type": "code",
      "execution_count": 3,
      "metadata": {
        "colab": {
          "base_uri": "https://localhost:8080/",
          "height": 300
        },
        "id": "0K0_GkOSyC4Q",
        "outputId": "b10ce5c1-c789-45dd-c049-d7dfab0b7ac5"
      },
      "outputs": [
        {
          "output_type": "execute_result",
          "data": {
            "text/plain": [
              "   LIMIT_BAL  EDUCATION  MARITAL_STATUS  AGE  PAY_0  PAY_2  PAY_3  PAY_4  \\\n",
              "0      20000          2               1   24      2      2     -1     -1   \n",
              "1     120000          2               2   26     -1      2      0      0   \n",
              "2      90000          2               2   34      0      0      0      0   \n",
              "3      50000          2               1   37      0      0      0      0   \n",
              "4      50000          2               1   57     -1      0     -1      0   \n",
              "\n",
              "   PAY_5  PAY_6  ...           \"BILL_AMT4\"  BILL_AMT5  BILL_AMT6  PAY_AMT1  \\\n",
              "0     -2     -2  ...                     0          0          0         0   \n",
              "1      0      2  ...                  3272       3455       3261         0   \n",
              "2      0      0  ...                 14331      14948      15549      1518   \n",
              "3      0      0  ...                 28314      28959      29547      2000   \n",
              "4      0      0  ...                 20940      19146      19131      2000   \n",
              "\n",
              "   PAY_AMT2  PAY_AMT3  PAY_AMT4  PAY_AMT5  PAY_AMT6  DEFAULT  \n",
              "0       689         0         0         0         0        1  \n",
              "1      1000      1000      1000         0      2000        1  \n",
              "2      1500      1000      1000      1000      5000        0  \n",
              "3      2019      1200      1100      1069      1000        0  \n",
              "4     36681     10000      9000       689       679        0  \n",
              "\n",
              "[5 rows x 23 columns]"
            ],
            "text/html": [
              "\n",
              "  <div id=\"df-a36488d2-839c-402c-bdf7-996ef8097c87\">\n",
              "    <div class=\"colab-df-container\">\n",
              "      <div>\n",
              "<style scoped>\n",
              "    .dataframe tbody tr th:only-of-type {\n",
              "        vertical-align: middle;\n",
              "    }\n",
              "\n",
              "    .dataframe tbody tr th {\n",
              "        vertical-align: top;\n",
              "    }\n",
              "\n",
              "    .dataframe thead th {\n",
              "        text-align: right;\n",
              "    }\n",
              "</style>\n",
              "<table border=\"1\" class=\"dataframe\">\n",
              "  <thead>\n",
              "    <tr style=\"text-align: right;\">\n",
              "      <th></th>\n",
              "      <th>LIMIT_BAL</th>\n",
              "      <th>EDUCATION</th>\n",
              "      <th>MARITAL_STATUS</th>\n",
              "      <th>AGE</th>\n",
              "      <th>PAY_0</th>\n",
              "      <th>PAY_2</th>\n",
              "      <th>PAY_3</th>\n",
              "      <th>PAY_4</th>\n",
              "      <th>PAY_5</th>\n",
              "      <th>PAY_6</th>\n",
              "      <th>...</th>\n",
              "      <th>\"BILL_AMT4\"</th>\n",
              "      <th>BILL_AMT5</th>\n",
              "      <th>BILL_AMT6</th>\n",
              "      <th>PAY_AMT1</th>\n",
              "      <th>PAY_AMT2</th>\n",
              "      <th>PAY_AMT3</th>\n",
              "      <th>PAY_AMT4</th>\n",
              "      <th>PAY_AMT5</th>\n",
              "      <th>PAY_AMT6</th>\n",
              "      <th>DEFAULT</th>\n",
              "    </tr>\n",
              "  </thead>\n",
              "  <tbody>\n",
              "    <tr>\n",
              "      <th>0</th>\n",
              "      <td>20000</td>\n",
              "      <td>2</td>\n",
              "      <td>1</td>\n",
              "      <td>24</td>\n",
              "      <td>2</td>\n",
              "      <td>2</td>\n",
              "      <td>-1</td>\n",
              "      <td>-1</td>\n",
              "      <td>-2</td>\n",
              "      <td>-2</td>\n",
              "      <td>...</td>\n",
              "      <td>0</td>\n",
              "      <td>0</td>\n",
              "      <td>0</td>\n",
              "      <td>0</td>\n",
              "      <td>689</td>\n",
              "      <td>0</td>\n",
              "      <td>0</td>\n",
              "      <td>0</td>\n",
              "      <td>0</td>\n",
              "      <td>1</td>\n",
              "    </tr>\n",
              "    <tr>\n",
              "      <th>1</th>\n",
              "      <td>120000</td>\n",
              "      <td>2</td>\n",
              "      <td>2</td>\n",
              "      <td>26</td>\n",
              "      <td>-1</td>\n",
              "      <td>2</td>\n",
              "      <td>0</td>\n",
              "      <td>0</td>\n",
              "      <td>0</td>\n",
              "      <td>2</td>\n",
              "      <td>...</td>\n",
              "      <td>3272</td>\n",
              "      <td>3455</td>\n",
              "      <td>3261</td>\n",
              "      <td>0</td>\n",
              "      <td>1000</td>\n",
              "      <td>1000</td>\n",
              "      <td>1000</td>\n",
              "      <td>0</td>\n",
              "      <td>2000</td>\n",
              "      <td>1</td>\n",
              "    </tr>\n",
              "    <tr>\n",
              "      <th>2</th>\n",
              "      <td>90000</td>\n",
              "      <td>2</td>\n",
              "      <td>2</td>\n",
              "      <td>34</td>\n",
              "      <td>0</td>\n",
              "      <td>0</td>\n",
              "      <td>0</td>\n",
              "      <td>0</td>\n",
              "      <td>0</td>\n",
              "      <td>0</td>\n",
              "      <td>...</td>\n",
              "      <td>14331</td>\n",
              "      <td>14948</td>\n",
              "      <td>15549</td>\n",
              "      <td>1518</td>\n",
              "      <td>1500</td>\n",
              "      <td>1000</td>\n",
              "      <td>1000</td>\n",
              "      <td>1000</td>\n",
              "      <td>5000</td>\n",
              "      <td>0</td>\n",
              "    </tr>\n",
              "    <tr>\n",
              "      <th>3</th>\n",
              "      <td>50000</td>\n",
              "      <td>2</td>\n",
              "      <td>1</td>\n",
              "      <td>37</td>\n",
              "      <td>0</td>\n",
              "      <td>0</td>\n",
              "      <td>0</td>\n",
              "      <td>0</td>\n",
              "      <td>0</td>\n",
              "      <td>0</td>\n",
              "      <td>...</td>\n",
              "      <td>28314</td>\n",
              "      <td>28959</td>\n",
              "      <td>29547</td>\n",
              "      <td>2000</td>\n",
              "      <td>2019</td>\n",
              "      <td>1200</td>\n",
              "      <td>1100</td>\n",
              "      <td>1069</td>\n",
              "      <td>1000</td>\n",
              "      <td>0</td>\n",
              "    </tr>\n",
              "    <tr>\n",
              "      <th>4</th>\n",
              "      <td>50000</td>\n",
              "      <td>2</td>\n",
              "      <td>1</td>\n",
              "      <td>57</td>\n",
              "      <td>-1</td>\n",
              "      <td>0</td>\n",
              "      <td>-1</td>\n",
              "      <td>0</td>\n",
              "      <td>0</td>\n",
              "      <td>0</td>\n",
              "      <td>...</td>\n",
              "      <td>20940</td>\n",
              "      <td>19146</td>\n",
              "      <td>19131</td>\n",
              "      <td>2000</td>\n",
              "      <td>36681</td>\n",
              "      <td>10000</td>\n",
              "      <td>9000</td>\n",
              "      <td>689</td>\n",
              "      <td>679</td>\n",
              "      <td>0</td>\n",
              "    </tr>\n",
              "  </tbody>\n",
              "</table>\n",
              "<p>5 rows × 23 columns</p>\n",
              "</div>\n",
              "      <button class=\"colab-df-convert\" onclick=\"convertToInteractive('df-a36488d2-839c-402c-bdf7-996ef8097c87')\"\n",
              "              title=\"Convert this dataframe to an interactive table.\"\n",
              "              style=\"display:none;\">\n",
              "        \n",
              "  <svg xmlns=\"http://www.w3.org/2000/svg\" height=\"24px\"viewBox=\"0 0 24 24\"\n",
              "       width=\"24px\">\n",
              "    <path d=\"M0 0h24v24H0V0z\" fill=\"none\"/>\n",
              "    <path d=\"M18.56 5.44l.94 2.06.94-2.06 2.06-.94-2.06-.94-.94-2.06-.94 2.06-2.06.94zm-11 1L8.5 8.5l.94-2.06 2.06-.94-2.06-.94L8.5 2.5l-.94 2.06-2.06.94zm10 10l.94 2.06.94-2.06 2.06-.94-2.06-.94-.94-2.06-.94 2.06-2.06.94z\"/><path d=\"M17.41 7.96l-1.37-1.37c-.4-.4-.92-.59-1.43-.59-.52 0-1.04.2-1.43.59L10.3 9.45l-7.72 7.72c-.78.78-.78 2.05 0 2.83L4 21.41c.39.39.9.59 1.41.59.51 0 1.02-.2 1.41-.59l7.78-7.78 2.81-2.81c.8-.78.8-2.07 0-2.86zM5.41 20L4 18.59l7.72-7.72 1.47 1.35L5.41 20z\"/>\n",
              "  </svg>\n",
              "      </button>\n",
              "      \n",
              "  <style>\n",
              "    .colab-df-container {\n",
              "      display:flex;\n",
              "      flex-wrap:wrap;\n",
              "      gap: 12px;\n",
              "    }\n",
              "\n",
              "    .colab-df-convert {\n",
              "      background-color: #E8F0FE;\n",
              "      border: none;\n",
              "      border-radius: 50%;\n",
              "      cursor: pointer;\n",
              "      display: none;\n",
              "      fill: #1967D2;\n",
              "      height: 32px;\n",
              "      padding: 0 0 0 0;\n",
              "      width: 32px;\n",
              "    }\n",
              "\n",
              "    .colab-df-convert:hover {\n",
              "      background-color: #E2EBFA;\n",
              "      box-shadow: 0px 1px 2px rgba(60, 64, 67, 0.3), 0px 1px 3px 1px rgba(60, 64, 67, 0.15);\n",
              "      fill: #174EA6;\n",
              "    }\n",
              "\n",
              "    [theme=dark] .colab-df-convert {\n",
              "      background-color: #3B4455;\n",
              "      fill: #D2E3FC;\n",
              "    }\n",
              "\n",
              "    [theme=dark] .colab-df-convert:hover {\n",
              "      background-color: #434B5C;\n",
              "      box-shadow: 0px 1px 3px 1px rgba(0, 0, 0, 0.15);\n",
              "      filter: drop-shadow(0px 1px 2px rgba(0, 0, 0, 0.3));\n",
              "      fill: #FFFFFF;\n",
              "    }\n",
              "  </style>\n",
              "\n",
              "      <script>\n",
              "        const buttonEl =\n",
              "          document.querySelector('#df-a36488d2-839c-402c-bdf7-996ef8097c87 button.colab-df-convert');\n",
              "        buttonEl.style.display =\n",
              "          google.colab.kernel.accessAllowed ? 'block' : 'none';\n",
              "\n",
              "        async function convertToInteractive(key) {\n",
              "          const element = document.querySelector('#df-a36488d2-839c-402c-bdf7-996ef8097c87');\n",
              "          const dataTable =\n",
              "            await google.colab.kernel.invokeFunction('convertToInteractive',\n",
              "                                                     [key], {});\n",
              "          if (!dataTable) return;\n",
              "\n",
              "          const docLinkHtml = 'Like what you see? Visit the ' +\n",
              "            '<a target=\"_blank\" href=https://colab.research.google.com/notebooks/data_table.ipynb>data table notebook</a>'\n",
              "            + ' to learn more about interactive tables.';\n",
              "          element.innerHTML = '';\n",
              "          dataTable['output_type'] = 'display_data';\n",
              "          await google.colab.output.renderOutput(dataTable, element);\n",
              "          const docLink = document.createElement('div');\n",
              "          docLink.innerHTML = docLinkHtml;\n",
              "          element.appendChild(docLink);\n",
              "        }\n",
              "      </script>\n",
              "    </div>\n",
              "  </div>\n",
              "  "
            ]
          },
          "metadata": {},
          "execution_count": 3
        }
      ],
      "source": [
        "# Read the cc_default.csv file from the Resources folder into a Pandas DataFrame\n",
        "cc_df = pd.read_csv(\"cc_default.csv\")\n",
        "\n",
        "\n",
        "# Review the DataFrame\n",
        "cc_df.head()"
      ]
    },
    {
      "cell_type": "markdown",
      "metadata": {
        "id": "OvDT56ezyC4R"
      },
      "source": [
        "### Define the features set `X` by including all of the DataFrame columns except the “DEFAULT” column."
      ]
    },
    {
      "cell_type": "code",
      "execution_count": 4,
      "metadata": {
        "colab": {
          "base_uri": "https://localhost:8080/",
          "height": 300
        },
        "id": "p_rnr51XyC4S",
        "outputId": "9b3bba35-f60a-4f64-dcfd-bb9b8196163a"
      },
      "outputs": [
        {
          "output_type": "execute_result",
          "data": {
            "text/plain": [
              "   LIMIT_BAL  EDUCATION  MARITAL_STATUS  AGE  PAY_0  PAY_2  PAY_3  PAY_4  \\\n",
              "0      20000          2               1   24      2      2     -1     -1   \n",
              "1     120000          2               2   26     -1      2      0      0   \n",
              "2      90000          2               2   34      0      0      0      0   \n",
              "3      50000          2               1   37      0      0      0      0   \n",
              "4      50000          2               1   57     -1      0     -1      0   \n",
              "\n",
              "   PAY_5  PAY_6  ...  BILL_AMT3           \"BILL_AMT4\"  BILL_AMT5  BILL_AMT6  \\\n",
              "0     -2     -2  ...        689                     0          0          0   \n",
              "1      0      2  ...       2682                  3272       3455       3261   \n",
              "2      0      0  ...      13559                 14331      14948      15549   \n",
              "3      0      0  ...      49291                 28314      28959      29547   \n",
              "4      0      0  ...      35835                 20940      19146      19131   \n",
              "\n",
              "   PAY_AMT1  PAY_AMT2  PAY_AMT3  PAY_AMT4  PAY_AMT5  PAY_AMT6  \n",
              "0         0       689         0         0         0         0  \n",
              "1         0      1000      1000      1000         0      2000  \n",
              "2      1518      1500      1000      1000      1000      5000  \n",
              "3      2000      2019      1200      1100      1069      1000  \n",
              "4      2000     36681     10000      9000       689       679  \n",
              "\n",
              "[5 rows x 22 columns]"
            ],
            "text/html": [
              "\n",
              "  <div id=\"df-29da8468-97a7-4b0f-ba11-d1ce244ddfda\">\n",
              "    <div class=\"colab-df-container\">\n",
              "      <div>\n",
              "<style scoped>\n",
              "    .dataframe tbody tr th:only-of-type {\n",
              "        vertical-align: middle;\n",
              "    }\n",
              "\n",
              "    .dataframe tbody tr th {\n",
              "        vertical-align: top;\n",
              "    }\n",
              "\n",
              "    .dataframe thead th {\n",
              "        text-align: right;\n",
              "    }\n",
              "</style>\n",
              "<table border=\"1\" class=\"dataframe\">\n",
              "  <thead>\n",
              "    <tr style=\"text-align: right;\">\n",
              "      <th></th>\n",
              "      <th>LIMIT_BAL</th>\n",
              "      <th>EDUCATION</th>\n",
              "      <th>MARITAL_STATUS</th>\n",
              "      <th>AGE</th>\n",
              "      <th>PAY_0</th>\n",
              "      <th>PAY_2</th>\n",
              "      <th>PAY_3</th>\n",
              "      <th>PAY_4</th>\n",
              "      <th>PAY_5</th>\n",
              "      <th>PAY_6</th>\n",
              "      <th>...</th>\n",
              "      <th>BILL_AMT3</th>\n",
              "      <th>\"BILL_AMT4\"</th>\n",
              "      <th>BILL_AMT5</th>\n",
              "      <th>BILL_AMT6</th>\n",
              "      <th>PAY_AMT1</th>\n",
              "      <th>PAY_AMT2</th>\n",
              "      <th>PAY_AMT3</th>\n",
              "      <th>PAY_AMT4</th>\n",
              "      <th>PAY_AMT5</th>\n",
              "      <th>PAY_AMT6</th>\n",
              "    </tr>\n",
              "  </thead>\n",
              "  <tbody>\n",
              "    <tr>\n",
              "      <th>0</th>\n",
              "      <td>20000</td>\n",
              "      <td>2</td>\n",
              "      <td>1</td>\n",
              "      <td>24</td>\n",
              "      <td>2</td>\n",
              "      <td>2</td>\n",
              "      <td>-1</td>\n",
              "      <td>-1</td>\n",
              "      <td>-2</td>\n",
              "      <td>-2</td>\n",
              "      <td>...</td>\n",
              "      <td>689</td>\n",
              "      <td>0</td>\n",
              "      <td>0</td>\n",
              "      <td>0</td>\n",
              "      <td>0</td>\n",
              "      <td>689</td>\n",
              "      <td>0</td>\n",
              "      <td>0</td>\n",
              "      <td>0</td>\n",
              "      <td>0</td>\n",
              "    </tr>\n",
              "    <tr>\n",
              "      <th>1</th>\n",
              "      <td>120000</td>\n",
              "      <td>2</td>\n",
              "      <td>2</td>\n",
              "      <td>26</td>\n",
              "      <td>-1</td>\n",
              "      <td>2</td>\n",
              "      <td>0</td>\n",
              "      <td>0</td>\n",
              "      <td>0</td>\n",
              "      <td>2</td>\n",
              "      <td>...</td>\n",
              "      <td>2682</td>\n",
              "      <td>3272</td>\n",
              "      <td>3455</td>\n",
              "      <td>3261</td>\n",
              "      <td>0</td>\n",
              "      <td>1000</td>\n",
              "      <td>1000</td>\n",
              "      <td>1000</td>\n",
              "      <td>0</td>\n",
              "      <td>2000</td>\n",
              "    </tr>\n",
              "    <tr>\n",
              "      <th>2</th>\n",
              "      <td>90000</td>\n",
              "      <td>2</td>\n",
              "      <td>2</td>\n",
              "      <td>34</td>\n",
              "      <td>0</td>\n",
              "      <td>0</td>\n",
              "      <td>0</td>\n",
              "      <td>0</td>\n",
              "      <td>0</td>\n",
              "      <td>0</td>\n",
              "      <td>...</td>\n",
              "      <td>13559</td>\n",
              "      <td>14331</td>\n",
              "      <td>14948</td>\n",
              "      <td>15549</td>\n",
              "      <td>1518</td>\n",
              "      <td>1500</td>\n",
              "      <td>1000</td>\n",
              "      <td>1000</td>\n",
              "      <td>1000</td>\n",
              "      <td>5000</td>\n",
              "    </tr>\n",
              "    <tr>\n",
              "      <th>3</th>\n",
              "      <td>50000</td>\n",
              "      <td>2</td>\n",
              "      <td>1</td>\n",
              "      <td>37</td>\n",
              "      <td>0</td>\n",
              "      <td>0</td>\n",
              "      <td>0</td>\n",
              "      <td>0</td>\n",
              "      <td>0</td>\n",
              "      <td>0</td>\n",
              "      <td>...</td>\n",
              "      <td>49291</td>\n",
              "      <td>28314</td>\n",
              "      <td>28959</td>\n",
              "      <td>29547</td>\n",
              "      <td>2000</td>\n",
              "      <td>2019</td>\n",
              "      <td>1200</td>\n",
              "      <td>1100</td>\n",
              "      <td>1069</td>\n",
              "      <td>1000</td>\n",
              "    </tr>\n",
              "    <tr>\n",
              "      <th>4</th>\n",
              "      <td>50000</td>\n",
              "      <td>2</td>\n",
              "      <td>1</td>\n",
              "      <td>57</td>\n",
              "      <td>-1</td>\n",
              "      <td>0</td>\n",
              "      <td>-1</td>\n",
              "      <td>0</td>\n",
              "      <td>0</td>\n",
              "      <td>0</td>\n",
              "      <td>...</td>\n",
              "      <td>35835</td>\n",
              "      <td>20940</td>\n",
              "      <td>19146</td>\n",
              "      <td>19131</td>\n",
              "      <td>2000</td>\n",
              "      <td>36681</td>\n",
              "      <td>10000</td>\n",
              "      <td>9000</td>\n",
              "      <td>689</td>\n",
              "      <td>679</td>\n",
              "    </tr>\n",
              "  </tbody>\n",
              "</table>\n",
              "<p>5 rows × 22 columns</p>\n",
              "</div>\n",
              "      <button class=\"colab-df-convert\" onclick=\"convertToInteractive('df-29da8468-97a7-4b0f-ba11-d1ce244ddfda')\"\n",
              "              title=\"Convert this dataframe to an interactive table.\"\n",
              "              style=\"display:none;\">\n",
              "        \n",
              "  <svg xmlns=\"http://www.w3.org/2000/svg\" height=\"24px\"viewBox=\"0 0 24 24\"\n",
              "       width=\"24px\">\n",
              "    <path d=\"M0 0h24v24H0V0z\" fill=\"none\"/>\n",
              "    <path d=\"M18.56 5.44l.94 2.06.94-2.06 2.06-.94-2.06-.94-.94-2.06-.94 2.06-2.06.94zm-11 1L8.5 8.5l.94-2.06 2.06-.94-2.06-.94L8.5 2.5l-.94 2.06-2.06.94zm10 10l.94 2.06.94-2.06 2.06-.94-2.06-.94-.94-2.06-.94 2.06-2.06.94z\"/><path d=\"M17.41 7.96l-1.37-1.37c-.4-.4-.92-.59-1.43-.59-.52 0-1.04.2-1.43.59L10.3 9.45l-7.72 7.72c-.78.78-.78 2.05 0 2.83L4 21.41c.39.39.9.59 1.41.59.51 0 1.02-.2 1.41-.59l7.78-7.78 2.81-2.81c.8-.78.8-2.07 0-2.86zM5.41 20L4 18.59l7.72-7.72 1.47 1.35L5.41 20z\"/>\n",
              "  </svg>\n",
              "      </button>\n",
              "      \n",
              "  <style>\n",
              "    .colab-df-container {\n",
              "      display:flex;\n",
              "      flex-wrap:wrap;\n",
              "      gap: 12px;\n",
              "    }\n",
              "\n",
              "    .colab-df-convert {\n",
              "      background-color: #E8F0FE;\n",
              "      border: none;\n",
              "      border-radius: 50%;\n",
              "      cursor: pointer;\n",
              "      display: none;\n",
              "      fill: #1967D2;\n",
              "      height: 32px;\n",
              "      padding: 0 0 0 0;\n",
              "      width: 32px;\n",
              "    }\n",
              "\n",
              "    .colab-df-convert:hover {\n",
              "      background-color: #E2EBFA;\n",
              "      box-shadow: 0px 1px 2px rgba(60, 64, 67, 0.3), 0px 1px 3px 1px rgba(60, 64, 67, 0.15);\n",
              "      fill: #174EA6;\n",
              "    }\n",
              "\n",
              "    [theme=dark] .colab-df-convert {\n",
              "      background-color: #3B4455;\n",
              "      fill: #D2E3FC;\n",
              "    }\n",
              "\n",
              "    [theme=dark] .colab-df-convert:hover {\n",
              "      background-color: #434B5C;\n",
              "      box-shadow: 0px 1px 3px 1px rgba(0, 0, 0, 0.15);\n",
              "      filter: drop-shadow(0px 1px 2px rgba(0, 0, 0, 0.3));\n",
              "      fill: #FFFFFF;\n",
              "    }\n",
              "  </style>\n",
              "\n",
              "      <script>\n",
              "        const buttonEl =\n",
              "          document.querySelector('#df-29da8468-97a7-4b0f-ba11-d1ce244ddfda button.colab-df-convert');\n",
              "        buttonEl.style.display =\n",
              "          google.colab.kernel.accessAllowed ? 'block' : 'none';\n",
              "\n",
              "        async function convertToInteractive(key) {\n",
              "          const element = document.querySelector('#df-29da8468-97a7-4b0f-ba11-d1ce244ddfda');\n",
              "          const dataTable =\n",
              "            await google.colab.kernel.invokeFunction('convertToInteractive',\n",
              "                                                     [key], {});\n",
              "          if (!dataTable) return;\n",
              "\n",
              "          const docLinkHtml = 'Like what you see? Visit the ' +\n",
              "            '<a target=\"_blank\" href=https://colab.research.google.com/notebooks/data_table.ipynb>data table notebook</a>'\n",
              "            + ' to learn more about interactive tables.';\n",
              "          element.innerHTML = '';\n",
              "          dataTable['output_type'] = 'display_data';\n",
              "          await google.colab.output.renderOutput(dataTable, element);\n",
              "          const docLink = document.createElement('div');\n",
              "          docLink.innerHTML = docLinkHtml;\n",
              "          element.appendChild(docLink);\n",
              "        }\n",
              "      </script>\n",
              "    </div>\n",
              "  </div>\n",
              "  "
            ]
          },
          "metadata": {},
          "execution_count": 4
        }
      ],
      "source": [
        "# Define features set X by selecting all columns but DEFAULT\n",
        "X = cc_df.drop(columns=[\"DEFAULT\"]).copy()\n",
        "\n",
        "# Display the features DataFrame\n",
        "X.head()"
      ]
    },
    {
      "cell_type": "markdown",
      "metadata": {
        "id": "_uqrp40QyC4T"
      },
      "source": [
        "### Create the target `y` by assigning the values of the DataFrame “DEFAULT” column."
      ]
    },
    {
      "cell_type": "code",
      "execution_count": 5,
      "metadata": {
        "colab": {
          "base_uri": "https://localhost:8080/"
        },
        "id": "DKfknmzlyC4T",
        "outputId": "65574bca-df38-4d50-8383-c489f083c70c"
      },
      "outputs": [
        {
          "output_type": "execute_result",
          "data": {
            "text/plain": [
              "0    1\n",
              "1    1\n",
              "2    0\n",
              "3    0\n",
              "4    0\n",
              "Name: DEFAULT, dtype: int64"
            ]
          },
          "metadata": {},
          "execution_count": 5
        }
      ],
      "source": [
        "# Define target set by selecting the DEFAULT column\n",
        "y = cc_df[\"DEFAULT\"]\n",
        "\n",
        "# Display a sample of y\n",
        "y[:5]"
      ]
    },
    {
      "cell_type": "markdown",
      "metadata": {
        "id": "LfEhk37ByC4U"
      },
      "source": [
        "### Create the training and testing sets using the `train_test_split` function from scikit-learn."
      ]
    },
    {
      "cell_type": "code",
      "execution_count": 6,
      "metadata": {
        "id": "FIV5zNHHyC4U"
      },
      "outputs": [],
      "source": [
        "# Create training and testing datasets using train_test_split\n",
        "# Assign the function a random_state equal to 1\n",
        "X_train, X_test, y_train, y_test = train_test_split(X, y, random_state=1)"
      ]
    },
    {
      "cell_type": "markdown",
      "metadata": {
        "id": "ydOGEFRPyC4V"
      },
      "source": [
        "### Scale the features data using the `StandardScaler` from sklearn."
      ]
    },
    {
      "cell_type": "code",
      "execution_count": 7,
      "metadata": {
        "id": "ey1bsQ65yC4V"
      },
      "outputs": [],
      "source": [
        "# Create the StandardScaler instance\n",
        "X_scaler = StandardScaler()"
      ]
    },
    {
      "cell_type": "code",
      "execution_count": 8,
      "metadata": {
        "colab": {
          "base_uri": "https://localhost:8080/"
        },
        "id": "yBJZPxCkyC4V",
        "outputId": "7bf0cc8c-59fe-4f8f-96be-3ab963f52257"
      },
      "outputs": [
        {
          "output_type": "execute_result",
          "data": {
            "text/plain": [
              "StandardScaler()"
            ]
          },
          "metadata": {},
          "execution_count": 8
        }
      ],
      "source": [
        "# Fit the scaler to the features training dataset\n",
        "X_scaler.fit(X_train)"
      ]
    },
    {
      "cell_type": "code",
      "execution_count": 9,
      "metadata": {
        "id": "aSk6tEnByC4V"
      },
      "outputs": [],
      "source": [
        "# Scale both the training and testing data from the features dataset\n",
        "X_train_scaled = X_scaler.transform(X_train)\n",
        "X_test_scaled = X_scaler.transform(X_test)"
      ]
    },
    {
      "cell_type": "markdown",
      "metadata": {
        "id": "TaIE7yXzyC4W"
      },
      "source": [
        "### Create a neural network model with an input layer that consists of 22 inputs, one hidden layer, and an output layer. Use the `units` parameter to define 12 neurons for the hidden layer and a single output for the output layer. Use the ReLU activation function for the hidden layer and the sigmoid activation function for the output layer."
      ]
    },
    {
      "cell_type": "code",
      "execution_count": 10,
      "metadata": {
        "id": "WzR30oi1yC4W"
      },
      "outputs": [],
      "source": [
        "# Define the the number of inputs to the model\n",
        "number_inputs = 22\n",
        "\n",
        "# Define the number of hidden nodes for the model\n",
        "number_hidden_nodes = 12\n",
        "\n",
        "# Create the Sequential model instance\n",
        "neuron = Sequential()\n",
        "\n",
        "# Add a Dense layer specifying the number of inputs, the number of hidden nodes, and the activation function\n",
        "neuron.add(Dense(units=number_hidden_nodes, input_dim=number_inputs, activation=\"relu\"))\n",
        "\n",
        "# Add the output layer to the model specifying the number of output neurons and activation function\n",
        "neuron.add(Dense(1, activation=\"sigmoid\"))"
      ]
    },
    {
      "cell_type": "markdown",
      "metadata": {
        "id": "lk1mj09WyC4W"
      },
      "source": [
        "### Display the model structure using the `summary` function."
      ]
    },
    {
      "cell_type": "code",
      "execution_count": 11,
      "metadata": {
        "colab": {
          "base_uri": "https://localhost:8080/"
        },
        "id": "KBqZDFPGyC4X",
        "outputId": "16e7c341-ce53-4779-eae5-cf163a7bfa3c"
      },
      "outputs": [
        {
          "output_type": "stream",
          "name": "stdout",
          "text": [
            "Model: \"sequential\"\n",
            "_________________________________________________________________\n",
            " Layer (type)                Output Shape              Param #   \n",
            "=================================================================\n",
            " dense (Dense)               (None, 12)                276       \n",
            "                                                                 \n",
            " dense_1 (Dense)             (None, 1)                 13        \n",
            "                                                                 \n",
            "=================================================================\n",
            "Total params: 289\n",
            "Trainable params: 289\n",
            "Non-trainable params: 0\n",
            "_________________________________________________________________\n"
          ]
        }
      ],
      "source": [
        "# Display the Sequential model summary\n",
        "neuron.summary()"
      ]
    },
    {
      "cell_type": "markdown",
      "metadata": {
        "id": "bsbE51_1yC4X"
      },
      "source": [
        "## Step 2:  Compile the neural network model using the `binary_crossentropy` loss function, the `adam` optimizer, and the additional metric `accuracy`."
      ]
    },
    {
      "cell_type": "code",
      "execution_count": 12,
      "metadata": {
        "id": "MNql2trdyC4X"
      },
      "outputs": [],
      "source": [
        "# Compile the Sequential model\n",
        "neuron.compile(loss=\"binary_crossentropy\", optimizer=\"adam\", metrics=[\"accuracy\"])"
      ]
    },
    {
      "cell_type": "markdown",
      "metadata": {
        "id": "BaXf9gkGyC4X"
      },
      "source": [
        "## Step 3: Fit the model with 100 epochs using the training data."
      ]
    },
    {
      "cell_type": "code",
      "execution_count": 13,
      "metadata": {
        "colab": {
          "base_uri": "https://localhost:8080/"
        },
        "id": "s4D2voNDyC4Y",
        "outputId": "0640df67-a9cb-496e-b1ec-3e220b38f5a3"
      },
      "outputs": [
        {
          "output_type": "stream",
          "name": "stdout",
          "text": [
            "Epoch 1/100\n",
            "704/704 [==============================] - 2s 2ms/step - loss: 0.5191 - accuracy: 0.7776\n",
            "Epoch 2/100\n",
            "704/704 [==============================] - 1s 2ms/step - loss: 0.4604 - accuracy: 0.8113\n",
            "Epoch 3/100\n",
            "704/704 [==============================] - 1s 2ms/step - loss: 0.4515 - accuracy: 0.8166\n",
            "Epoch 4/100\n",
            "704/704 [==============================] - 1s 2ms/step - loss: 0.4464 - accuracy: 0.8181\n",
            "Epoch 5/100\n",
            "704/704 [==============================] - 1s 1ms/step - loss: 0.4434 - accuracy: 0.8191\n",
            "Epoch 6/100\n",
            "704/704 [==============================] - 1s 1ms/step - loss: 0.4411 - accuracy: 0.8202\n",
            "Epoch 7/100\n",
            "704/704 [==============================] - 1s 1ms/step - loss: 0.4395 - accuracy: 0.8197\n",
            "Epoch 8/100\n",
            "704/704 [==============================] - 1s 1ms/step - loss: 0.4384 - accuracy: 0.8200\n",
            "Epoch 9/100\n",
            "704/704 [==============================] - 1s 1ms/step - loss: 0.4374 - accuracy: 0.8208\n",
            "Epoch 10/100\n",
            "704/704 [==============================] - 1s 2ms/step - loss: 0.4364 - accuracy: 0.8209\n",
            "Epoch 11/100\n",
            "704/704 [==============================] - 1s 1ms/step - loss: 0.4356 - accuracy: 0.8209\n",
            "Epoch 12/100\n",
            "704/704 [==============================] - 1s 1ms/step - loss: 0.4350 - accuracy: 0.8211\n",
            "Epoch 13/100\n",
            "704/704 [==============================] - 1s 1ms/step - loss: 0.4346 - accuracy: 0.8218\n",
            "Epoch 14/100\n",
            "704/704 [==============================] - 1s 1ms/step - loss: 0.4342 - accuracy: 0.8208\n",
            "Epoch 15/100\n",
            "704/704 [==============================] - 1s 1ms/step - loss: 0.4334 - accuracy: 0.8213\n",
            "Epoch 16/100\n",
            "704/704 [==============================] - 1s 2ms/step - loss: 0.4334 - accuracy: 0.8220\n",
            "Epoch 17/100\n",
            "704/704 [==============================] - 1s 1ms/step - loss: 0.4329 - accuracy: 0.8213\n",
            "Epoch 18/100\n",
            "704/704 [==============================] - 1s 1ms/step - loss: 0.4329 - accuracy: 0.8210\n",
            "Epoch 19/100\n",
            "704/704 [==============================] - 1s 1ms/step - loss: 0.4326 - accuracy: 0.8217\n",
            "Epoch 20/100\n",
            "704/704 [==============================] - 1s 1ms/step - loss: 0.4321 - accuracy: 0.8224\n",
            "Epoch 21/100\n",
            "704/704 [==============================] - 1s 1ms/step - loss: 0.4322 - accuracy: 0.8216\n",
            "Epoch 22/100\n",
            "704/704 [==============================] - 1s 1ms/step - loss: 0.4320 - accuracy: 0.8220\n",
            "Epoch 23/100\n",
            "704/704 [==============================] - 1s 1ms/step - loss: 0.4315 - accuracy: 0.8219\n",
            "Epoch 24/100\n",
            "704/704 [==============================] - 1s 2ms/step - loss: 0.4316 - accuracy: 0.8220\n",
            "Epoch 25/100\n",
            "704/704 [==============================] - 1s 1ms/step - loss: 0.4317 - accuracy: 0.8223\n",
            "Epoch 26/100\n",
            "704/704 [==============================] - 1s 1ms/step - loss: 0.4314 - accuracy: 0.8224\n",
            "Epoch 27/100\n",
            "704/704 [==============================] - 1s 1ms/step - loss: 0.4308 - accuracy: 0.8227\n",
            "Epoch 28/100\n",
            "704/704 [==============================] - 1s 1ms/step - loss: 0.4309 - accuracy: 0.8227\n",
            "Epoch 29/100\n",
            "704/704 [==============================] - 1s 1ms/step - loss: 0.4307 - accuracy: 0.8230\n",
            "Epoch 30/100\n",
            "704/704 [==============================] - 1s 1ms/step - loss: 0.4307 - accuracy: 0.8222\n",
            "Epoch 31/100\n",
            "704/704 [==============================] - 1s 1ms/step - loss: 0.4307 - accuracy: 0.8223\n",
            "Epoch 32/100\n",
            "704/704 [==============================] - 1s 2ms/step - loss: 0.4306 - accuracy: 0.8214\n",
            "Epoch 33/100\n",
            "704/704 [==============================] - 1s 2ms/step - loss: 0.4304 - accuracy: 0.8235\n",
            "Epoch 34/100\n",
            "704/704 [==============================] - 1s 1ms/step - loss: 0.4306 - accuracy: 0.8228\n",
            "Epoch 35/100\n",
            "704/704 [==============================] - 1s 1ms/step - loss: 0.4302 - accuracy: 0.8218\n",
            "Epoch 36/100\n",
            "704/704 [==============================] - 1s 1ms/step - loss: 0.4300 - accuracy: 0.8222\n",
            "Epoch 37/100\n",
            "704/704 [==============================] - 1s 1ms/step - loss: 0.4302 - accuracy: 0.8219\n",
            "Epoch 38/100\n",
            "704/704 [==============================] - 1s 2ms/step - loss: 0.4297 - accuracy: 0.8229\n",
            "Epoch 39/100\n",
            "704/704 [==============================] - 1s 1ms/step - loss: 0.4299 - accuracy: 0.8231\n",
            "Epoch 40/100\n",
            "704/704 [==============================] - 1s 1ms/step - loss: 0.4297 - accuracy: 0.8225\n",
            "Epoch 41/100\n",
            "704/704 [==============================] - 1s 1ms/step - loss: 0.4304 - accuracy: 0.8224\n",
            "Epoch 42/100\n",
            "704/704 [==============================] - 1s 1ms/step - loss: 0.4297 - accuracy: 0.8228\n",
            "Epoch 43/100\n",
            "704/704 [==============================] - 1s 1ms/step - loss: 0.4299 - accuracy: 0.8226\n",
            "Epoch 44/100\n",
            "704/704 [==============================] - 1s 2ms/step - loss: 0.4293 - accuracy: 0.8231\n",
            "Epoch 45/100\n",
            "704/704 [==============================] - 1s 1ms/step - loss: 0.4295 - accuracy: 0.8217\n",
            "Epoch 46/100\n",
            "704/704 [==============================] - 1s 1ms/step - loss: 0.4291 - accuracy: 0.8231\n",
            "Epoch 47/100\n",
            "704/704 [==============================] - 1s 1ms/step - loss: 0.4291 - accuracy: 0.8225\n",
            "Epoch 48/100\n",
            "704/704 [==============================] - 1s 1ms/step - loss: 0.4295 - accuracy: 0.8234\n",
            "Epoch 49/100\n",
            "704/704 [==============================] - 1s 2ms/step - loss: 0.4294 - accuracy: 0.8238\n",
            "Epoch 50/100\n",
            "704/704 [==============================] - 1s 1ms/step - loss: 0.4289 - accuracy: 0.8225\n",
            "Epoch 51/100\n",
            "704/704 [==============================] - 1s 1ms/step - loss: 0.4292 - accuracy: 0.8220\n",
            "Epoch 52/100\n",
            "704/704 [==============================] - 1s 2ms/step - loss: 0.4291 - accuracy: 0.8228\n",
            "Epoch 53/100\n",
            "704/704 [==============================] - 1s 1ms/step - loss: 0.4291 - accuracy: 0.8226\n",
            "Epoch 54/100\n",
            "704/704 [==============================] - 1s 1ms/step - loss: 0.4287 - accuracy: 0.8227\n",
            "Epoch 55/100\n",
            "704/704 [==============================] - 1s 2ms/step - loss: 0.4288 - accuracy: 0.8226\n",
            "Epoch 56/100\n",
            "704/704 [==============================] - 1s 1ms/step - loss: 0.4287 - accuracy: 0.8224\n",
            "Epoch 57/100\n",
            "704/704 [==============================] - 1s 2ms/step - loss: 0.4286 - accuracy: 0.8228\n",
            "Epoch 58/100\n",
            "704/704 [==============================] - 1s 1ms/step - loss: 0.4291 - accuracy: 0.8224\n",
            "Epoch 59/100\n",
            "704/704 [==============================] - 1s 2ms/step - loss: 0.4285 - accuracy: 0.8228\n",
            "Epoch 60/100\n",
            "704/704 [==============================] - 1s 2ms/step - loss: 0.4285 - accuracy: 0.8228\n",
            "Epoch 61/100\n",
            "704/704 [==============================] - 1s 2ms/step - loss: 0.4286 - accuracy: 0.8227\n",
            "Epoch 62/100\n",
            "704/704 [==============================] - 1s 1ms/step - loss: 0.4286 - accuracy: 0.8229\n",
            "Epoch 63/100\n",
            "704/704 [==============================] - 1s 1ms/step - loss: 0.4287 - accuracy: 0.8217\n",
            "Epoch 64/100\n",
            "704/704 [==============================] - 1s 1ms/step - loss: 0.4285 - accuracy: 0.8223\n",
            "Epoch 65/100\n",
            "704/704 [==============================] - 1s 2ms/step - loss: 0.4282 - accuracy: 0.8230\n",
            "Epoch 66/100\n",
            "704/704 [==============================] - 1s 2ms/step - loss: 0.4283 - accuracy: 0.8232\n",
            "Epoch 67/100\n",
            "704/704 [==============================] - 1s 1ms/step - loss: 0.4280 - accuracy: 0.8231\n",
            "Epoch 68/100\n",
            "704/704 [==============================] - 1s 1ms/step - loss: 0.4280 - accuracy: 0.8231\n",
            "Epoch 69/100\n",
            "704/704 [==============================] - 1s 1ms/step - loss: 0.4280 - accuracy: 0.8233\n",
            "Epoch 70/100\n",
            "704/704 [==============================] - 1s 1ms/step - loss: 0.4278 - accuracy: 0.8238\n",
            "Epoch 71/100\n",
            "704/704 [==============================] - 1s 2ms/step - loss: 0.4279 - accuracy: 0.8225\n",
            "Epoch 72/100\n",
            "704/704 [==============================] - 1s 2ms/step - loss: 0.4279 - accuracy: 0.8228\n",
            "Epoch 73/100\n",
            "704/704 [==============================] - 1s 2ms/step - loss: 0.4280 - accuracy: 0.8231\n",
            "Epoch 74/100\n",
            "704/704 [==============================] - 1s 1ms/step - loss: 0.4277 - accuracy: 0.8221\n",
            "Epoch 75/100\n",
            "704/704 [==============================] - 1s 2ms/step - loss: 0.4275 - accuracy: 0.8230\n",
            "Epoch 76/100\n",
            "704/704 [==============================] - 1s 2ms/step - loss: 0.4275 - accuracy: 0.8225\n",
            "Epoch 77/100\n",
            "704/704 [==============================] - 1s 2ms/step - loss: 0.4276 - accuracy: 0.8229\n",
            "Epoch 78/100\n",
            "704/704 [==============================] - 1s 2ms/step - loss: 0.4277 - accuracy: 0.8226\n",
            "Epoch 79/100\n",
            "704/704 [==============================] - 1s 1ms/step - loss: 0.4277 - accuracy: 0.8228\n",
            "Epoch 80/100\n",
            "704/704 [==============================] - 1s 1ms/step - loss: 0.4277 - accuracy: 0.8224\n",
            "Epoch 81/100\n",
            "704/704 [==============================] - 1s 1ms/step - loss: 0.4273 - accuracy: 0.8227\n",
            "Epoch 82/100\n",
            "704/704 [==============================] - 1s 2ms/step - loss: 0.4274 - accuracy: 0.8228\n",
            "Epoch 83/100\n",
            "704/704 [==============================] - 1s 1ms/step - loss: 0.4271 - accuracy: 0.8220\n",
            "Epoch 84/100\n",
            "704/704 [==============================] - 1s 1ms/step - loss: 0.4273 - accuracy: 0.8222\n",
            "Epoch 85/100\n",
            "704/704 [==============================] - 1s 1ms/step - loss: 0.4272 - accuracy: 0.8228\n",
            "Epoch 86/100\n",
            "704/704 [==============================] - 1s 1ms/step - loss: 0.4269 - accuracy: 0.8238\n",
            "Epoch 87/100\n",
            "704/704 [==============================] - 1s 1ms/step - loss: 0.4268 - accuracy: 0.8229\n",
            "Epoch 88/100\n",
            "704/704 [==============================] - 1s 1ms/step - loss: 0.4267 - accuracy: 0.8229\n",
            "Epoch 89/100\n",
            "704/704 [==============================] - 1s 1ms/step - loss: 0.4268 - accuracy: 0.8230\n",
            "Epoch 90/100\n",
            "704/704 [==============================] - 1s 2ms/step - loss: 0.4272 - accuracy: 0.8236\n",
            "Epoch 91/100\n",
            "704/704 [==============================] - 1s 1ms/step - loss: 0.4271 - accuracy: 0.8228\n",
            "Epoch 92/100\n",
            "704/704 [==============================] - 1s 1ms/step - loss: 0.4268 - accuracy: 0.8232\n",
            "Epoch 93/100\n",
            "704/704 [==============================] - 1s 2ms/step - loss: 0.4266 - accuracy: 0.8228\n",
            "Epoch 94/100\n",
            "704/704 [==============================] - 1s 2ms/step - loss: 0.4265 - accuracy: 0.8232\n",
            "Epoch 95/100\n",
            "704/704 [==============================] - 1s 1ms/step - loss: 0.4265 - accuracy: 0.8232\n",
            "Epoch 96/100\n",
            "704/704 [==============================] - 1s 1ms/step - loss: 0.4265 - accuracy: 0.8230\n",
            "Epoch 97/100\n",
            "704/704 [==============================] - 1s 1ms/step - loss: 0.4262 - accuracy: 0.8229\n",
            "Epoch 98/100\n",
            "704/704 [==============================] - 1s 1ms/step - loss: 0.4265 - accuracy: 0.8227\n",
            "Epoch 99/100\n",
            "704/704 [==============================] - 1s 2ms/step - loss: 0.4263 - accuracy: 0.8228\n",
            "Epoch 100/100\n",
            "704/704 [==============================] - 1s 1ms/step - loss: 0.4263 - accuracy: 0.8223\n"
          ]
        }
      ],
      "source": [
        "# Fit the model using 100 epochs and the training data\n",
        "model = neuron.fit(X_train_scaled, y_train, epochs=100)"
      ]
    },
    {
      "cell_type": "markdown",
      "metadata": {
        "id": "9wRIzUEryC4Y"
      },
      "source": [
        "## Step 4: Plot the model’s loss function and accuracy over the 100 epochs."
      ]
    },
    {
      "cell_type": "code",
      "execution_count": 14,
      "metadata": {
        "id": "gECZ23z6yC4Y"
      },
      "outputs": [],
      "source": [
        "# Create a DataFrame using the model history and an index parameter\n",
        "model_plot = pd.DataFrame(model.history, index=range(1, len(model.history[\"loss\"]) + 1))"
      ]
    },
    {
      "cell_type": "code",
      "execution_count": 15,
      "metadata": {
        "colab": {
          "base_uri": "https://localhost:8080/",
          "height": 143
        },
        "id": "zqc2VBVZyC4Y",
        "outputId": "5146c0c9-5e87-4381-dbc7-263de83b32da"
      },
      "outputs": [
        {
          "output_type": "execute_result",
          "data": {
            "text/plain": [
              "       loss  accuracy\n",
              "1  0.519083  0.777556\n",
              "2  0.460378  0.811289\n",
              "3  0.451497  0.816578"
            ],
            "text/html": [
              "\n",
              "  <div id=\"df-46b6ae12-aa83-4aa6-933c-177cbda896b0\">\n",
              "    <div class=\"colab-df-container\">\n",
              "      <div>\n",
              "<style scoped>\n",
              "    .dataframe tbody tr th:only-of-type {\n",
              "        vertical-align: middle;\n",
              "    }\n",
              "\n",
              "    .dataframe tbody tr th {\n",
              "        vertical-align: top;\n",
              "    }\n",
              "\n",
              "    .dataframe thead th {\n",
              "        text-align: right;\n",
              "    }\n",
              "</style>\n",
              "<table border=\"1\" class=\"dataframe\">\n",
              "  <thead>\n",
              "    <tr style=\"text-align: right;\">\n",
              "      <th></th>\n",
              "      <th>loss</th>\n",
              "      <th>accuracy</th>\n",
              "    </tr>\n",
              "  </thead>\n",
              "  <tbody>\n",
              "    <tr>\n",
              "      <th>1</th>\n",
              "      <td>0.519083</td>\n",
              "      <td>0.777556</td>\n",
              "    </tr>\n",
              "    <tr>\n",
              "      <th>2</th>\n",
              "      <td>0.460378</td>\n",
              "      <td>0.811289</td>\n",
              "    </tr>\n",
              "    <tr>\n",
              "      <th>3</th>\n",
              "      <td>0.451497</td>\n",
              "      <td>0.816578</td>\n",
              "    </tr>\n",
              "  </tbody>\n",
              "</table>\n",
              "</div>\n",
              "      <button class=\"colab-df-convert\" onclick=\"convertToInteractive('df-46b6ae12-aa83-4aa6-933c-177cbda896b0')\"\n",
              "              title=\"Convert this dataframe to an interactive table.\"\n",
              "              style=\"display:none;\">\n",
              "        \n",
              "  <svg xmlns=\"http://www.w3.org/2000/svg\" height=\"24px\"viewBox=\"0 0 24 24\"\n",
              "       width=\"24px\">\n",
              "    <path d=\"M0 0h24v24H0V0z\" fill=\"none\"/>\n",
              "    <path d=\"M18.56 5.44l.94 2.06.94-2.06 2.06-.94-2.06-.94-.94-2.06-.94 2.06-2.06.94zm-11 1L8.5 8.5l.94-2.06 2.06-.94-2.06-.94L8.5 2.5l-.94 2.06-2.06.94zm10 10l.94 2.06.94-2.06 2.06-.94-2.06-.94-.94-2.06-.94 2.06-2.06.94z\"/><path d=\"M17.41 7.96l-1.37-1.37c-.4-.4-.92-.59-1.43-.59-.52 0-1.04.2-1.43.59L10.3 9.45l-7.72 7.72c-.78.78-.78 2.05 0 2.83L4 21.41c.39.39.9.59 1.41.59.51 0 1.02-.2 1.41-.59l7.78-7.78 2.81-2.81c.8-.78.8-2.07 0-2.86zM5.41 20L4 18.59l7.72-7.72 1.47 1.35L5.41 20z\"/>\n",
              "  </svg>\n",
              "      </button>\n",
              "      \n",
              "  <style>\n",
              "    .colab-df-container {\n",
              "      display:flex;\n",
              "      flex-wrap:wrap;\n",
              "      gap: 12px;\n",
              "    }\n",
              "\n",
              "    .colab-df-convert {\n",
              "      background-color: #E8F0FE;\n",
              "      border: none;\n",
              "      border-radius: 50%;\n",
              "      cursor: pointer;\n",
              "      display: none;\n",
              "      fill: #1967D2;\n",
              "      height: 32px;\n",
              "      padding: 0 0 0 0;\n",
              "      width: 32px;\n",
              "    }\n",
              "\n",
              "    .colab-df-convert:hover {\n",
              "      background-color: #E2EBFA;\n",
              "      box-shadow: 0px 1px 2px rgba(60, 64, 67, 0.3), 0px 1px 3px 1px rgba(60, 64, 67, 0.15);\n",
              "      fill: #174EA6;\n",
              "    }\n",
              "\n",
              "    [theme=dark] .colab-df-convert {\n",
              "      background-color: #3B4455;\n",
              "      fill: #D2E3FC;\n",
              "    }\n",
              "\n",
              "    [theme=dark] .colab-df-convert:hover {\n",
              "      background-color: #434B5C;\n",
              "      box-shadow: 0px 1px 3px 1px rgba(0, 0, 0, 0.15);\n",
              "      filter: drop-shadow(0px 1px 2px rgba(0, 0, 0, 0.3));\n",
              "      fill: #FFFFFF;\n",
              "    }\n",
              "  </style>\n",
              "\n",
              "      <script>\n",
              "        const buttonEl =\n",
              "          document.querySelector('#df-46b6ae12-aa83-4aa6-933c-177cbda896b0 button.colab-df-convert');\n",
              "        buttonEl.style.display =\n",
              "          google.colab.kernel.accessAllowed ? 'block' : 'none';\n",
              "\n",
              "        async function convertToInteractive(key) {\n",
              "          const element = document.querySelector('#df-46b6ae12-aa83-4aa6-933c-177cbda896b0');\n",
              "          const dataTable =\n",
              "            await google.colab.kernel.invokeFunction('convertToInteractive',\n",
              "                                                     [key], {});\n",
              "          if (!dataTable) return;\n",
              "\n",
              "          const docLinkHtml = 'Like what you see? Visit the ' +\n",
              "            '<a target=\"_blank\" href=https://colab.research.google.com/notebooks/data_table.ipynb>data table notebook</a>'\n",
              "            + ' to learn more about interactive tables.';\n",
              "          element.innerHTML = '';\n",
              "          dataTable['output_type'] = 'display_data';\n",
              "          await google.colab.output.renderOutput(dataTable, element);\n",
              "          const docLink = document.createElement('div');\n",
              "          docLink.innerHTML = docLinkHtml;\n",
              "          element.appendChild(docLink);\n",
              "        }\n",
              "      </script>\n",
              "    </div>\n",
              "  </div>\n",
              "  "
            ]
          },
          "metadata": {},
          "execution_count": 15
        }
      ],
      "source": [
        "model_plot.head(3)"
      ]
    },
    {
      "cell_type": "code",
      "execution_count": 16,
      "metadata": {
        "colab": {
          "base_uri": "https://localhost:8080/",
          "height": 283
        },
        "id": "-cRebW_QyC4Y",
        "outputId": "55966f34-402c-41d6-becd-67d06327e295"
      },
      "outputs": [
        {
          "output_type": "execute_result",
          "data": {
            "text/plain": [
              "<matplotlib.axes._subplots.AxesSubplot at 0x7f405172eb10>"
            ]
          },
          "metadata": {},
          "execution_count": 16
        },
        {
          "output_type": "display_data",
          "data": {
            "text/plain": [
              "<Figure size 432x288 with 1 Axes>"
            ],
            "image/png": "[encoded data removed]"
          },
          "metadata": {
            "needs_background": "light"
          }
        }
      ],
      "source": [
        "# Vizualize the model plot where the y-axis displays the loss metric\n",
        "model_plot.plot(y=\"loss\")"
      ]
    },
    {
      "cell_type": "code",
      "execution_count": 17,
      "metadata": {
        "colab": {
          "base_uri": "https://localhost:8080/",
          "height": 283
        },
        "id": "aQ4DI5JgyC4Y",
        "outputId": "4f6c35ba-74ca-49ee-e918-4f6fdaf6e44b"
      },
      "outputs": [
        {
          "output_type": "execute_result",
          "data": {
            "text/plain": [
              "<matplotlib.axes._subplots.AxesSubplot at 0x7f40516a2890>"
            ]
          },
          "metadata": {},
          "execution_count": 17
        },
        {
          "output_type": "display_data",
          "data": {
            "text/plain": [
              "<Figure size 432x288 with 1 Axes>"
            ],
            "image/png": "[encoded data removed]"
          },
          "metadata": {
            "needs_background": "light"
          }
        }
      ],
      "source": [
        "# Vizualize the model plot where the y-axis displays the accuracy metric\n",
        "model_plot.plot(y=\"accuracy\")"
      ]
    },
    {
      "cell_type": "markdown",
      "metadata": {
        "id": "7H2aL_ZxyC4Z"
      },
      "source": [
        "## Step 5: Evaluate the model using testing data and the `evaluate` method."
      ]
    },
    {
      "cell_type": "code",
      "execution_count": 18,
      "metadata": {
        "colab": {
          "base_uri": "https://localhost:8080/"
        },
        "id": "oszbtF2MyC4Z",
        "outputId": "4eabd62f-46a0-4907-bcf3-10332f4b2a01"
      },
      "outputs": [
        {
          "output_type": "stream",
          "name": "stdout",
          "text": [
            "235/235 - 0s - loss: 0.4389 - accuracy: 0.8153 - 392ms/epoch - 2ms/step\n",
            "Loss: 0.4389007091522217, Accuracy: 0.8153333067893982\n"
          ]
        }
      ],
      "source": [
        "# Evaluate the model loss and accuracy metrics using the evaluate method and the test data\n",
        "model_loss, model_accuracy = neuron.evaluate(X_test_scaled, y_test, verbose=2)\n",
        "\n",
        "# Display the evaluation results\n",
        "print(f\"Loss: {model_loss}, Accuracy: {model_accuracy}\")"
      ]
    },
    {
      "cell_type": "code",
      "execution_count": 18,
      "metadata": {
        "id": "amB-NqBMyC4Z"
      },
      "outputs": [],
      "source": [
        ""
      ]
    }
  ],
  "metadata": {
    "file_extension": ".py",
    "kernelspec": {
      "display_name": "Python 3",
      "language": "python",
      "name": "python3"
    },
    "language_info": {
      "codemirror_mode": {
        "name": "ipython",
        "version": 3
      },
      "file_extension": ".py",
      "mimetype": "text/x-python",
      "name": "python",
      "nbconvert_exporter": "python",
      "pygments_lexer": "ipython3",
      "version": "3.8.8"
    },
    "mimetype": "text/x-python",
    "name": "python",
    "npconvert_exporter": "python",
    "pygments_lexer": "ipython3",
    "version": 3,
    "colab": {
      "name": "Colab_preventing_credit_card_defaults_part2.ipynb",
      "provenance": []
    }
  },
  "nbformat": 4,
  "nbformat_minor": 0
}