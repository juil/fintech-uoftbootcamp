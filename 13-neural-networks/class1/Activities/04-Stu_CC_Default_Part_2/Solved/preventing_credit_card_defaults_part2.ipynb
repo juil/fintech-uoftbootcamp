{
 "cells": [
  {
   "cell_type": "markdown",
   "metadata": {},
   "source": [
    "# Preventing Credit Card Defaults - Part 2\n",
    "\n",
    "In this activity, you will continue working on the neural network model to prevent credit card defaults. In this second part, you will compile, fit, and evaluate the model.\n",
    "\n",
    "## Instructions:\n",
    "\n",
    "1. Open the notebook, and run all the cells in the Jupyter notebook that correspond to “Preventing Credit Card Defaults Part 1”.\n",
    "\n",
    "2. Compile the neural network model using the `binary_crossentropy` loss function, the `adam` optimizer, and the additional metric `accuracy`.\n",
    "\n",
    "3. Fit the model with the training data, using 100 epochs.\n",
    "\n",
    "4. Plot the model’s loss function and accuracy over the 100 epochs.\n",
    "\n",
    "5. Evaluate the model using testing data and the `evaluate` method.\n",
    "\n",
    "\n",
    "## References:\n",
    "\n",
    "[Keras Sequential model](https://keras.io/api/models/sequential/)\n",
    "\n",
    "[Keras Dense module](https://keras.io/api/layers/core_layers/dense/)\n",
    "\n",
    "[Keras evaluate](https://keras.io/api/models/model_training_apis/)"
   ]
  },
  {
   "cell_type": "code",
   "execution_count": 1,
   "metadata": {},
   "outputs": [],
   "source": [
    "# Imports\n",
    "import pandas as pd\n",
    "from path import Path\n",
    "import tensorflow as tf\n",
    "from tensorflow.keras.layers import Dense\n",
    "from tensorflow.keras.models import Sequential\n",
    "from sklearn.preprocessing import StandardScaler\n",
    "from sklearn.model_selection import train_test_split\n",
    "\n",
    "%matplotlib inline"
   ]
  },
  {
   "cell_type": "markdown",
   "metadata": {},
   "source": [
    "## Step 1: Run all the cells in the Jupyter notebook that correspond to “Preventing Credit Card Defaults Part 1”."
   ]
  },
  {
   "cell_type": "markdown",
   "metadata": {},
   "source": [
    "### Read the CSV file from the Resources folder into a Pandas DataFrame."
   ]
  },
  {
   "cell_type": "code",
   "execution_count": 2,
   "metadata": {},
   "outputs": [
    {
     "data": {
      "text/html": [
       "<div>\n",
       "<style scoped>\n",
       "    .dataframe tbody tr th:only-of-type {\n",
       "        vertical-align: middle;\n",
       "    }\n",
       "\n",
       "    .dataframe tbody tr th {\n",
       "        vertical-align: top;\n",
       "    }\n",
       "\n",
       "    .dataframe thead th {\n",
       "        text-align: right;\n",
       "    }\n",
       "</style>\n",
       "<table border=\"1\" class=\"dataframe\">\n",
       "  <thead>\n",
       "    <tr style=\"text-align: right;\">\n",
       "      <th></th>\n",
       "      <th>LIMIT_BAL</th>\n",
       "      <th>EDUCATION</th>\n",
       "      <th>MARITAL_STATUS</th>\n",
       "      <th>AGE</th>\n",
       "      <th>PAY_0</th>\n",
       "      <th>PAY_2</th>\n",
       "      <th>PAY_3</th>\n",
       "      <th>PAY_4</th>\n",
       "      <th>PAY_5</th>\n",
       "      <th>PAY_6</th>\n",
       "      <th>...</th>\n",
       "      <th>\"BILL_AMT4\"</th>\n",
       "      <th>BILL_AMT5</th>\n",
       "      <th>BILL_AMT6</th>\n",
       "      <th>PAY_AMT1</th>\n",
       "      <th>PAY_AMT2</th>\n",
       "      <th>PAY_AMT3</th>\n",
       "      <th>PAY_AMT4</th>\n",
       "      <th>PAY_AMT5</th>\n",
       "      <th>PAY_AMT6</th>\n",
       "      <th>DEFAULT</th>\n",
       "    </tr>\n",
       "  </thead>\n",
       "  <tbody>\n",
       "    <tr>\n",
       "      <th>0</th>\n",
       "      <td>20000</td>\n",
       "      <td>2</td>\n",
       "      <td>1</td>\n",
       "      <td>24</td>\n",
       "      <td>2</td>\n",
       "      <td>2</td>\n",
       "      <td>-1</td>\n",
       "      <td>-1</td>\n",
       "      <td>-2</td>\n",
       "      <td>-2</td>\n",
       "      <td>...</td>\n",
       "      <td>0</td>\n",
       "      <td>0</td>\n",
       "      <td>0</td>\n",
       "      <td>0</td>\n",
       "      <td>689</td>\n",
       "      <td>0</td>\n",
       "      <td>0</td>\n",
       "      <td>0</td>\n",
       "      <td>0</td>\n",
       "      <td>1</td>\n",
       "    </tr>\n",
       "    <tr>\n",
       "      <th>1</th>\n",
       "      <td>120000</td>\n",
       "      <td>2</td>\n",
       "      <td>2</td>\n",
       "      <td>26</td>\n",
       "      <td>-1</td>\n",
       "      <td>2</td>\n",
       "      <td>0</td>\n",
       "      <td>0</td>\n",
       "      <td>0</td>\n",
       "      <td>2</td>\n",
       "      <td>...</td>\n",
       "      <td>3272</td>\n",
       "      <td>3455</td>\n",
       "      <td>3261</td>\n",
       "      <td>0</td>\n",
       "      <td>1000</td>\n",
       "      <td>1000</td>\n",
       "      <td>1000</td>\n",
       "      <td>0</td>\n",
       "      <td>2000</td>\n",
       "      <td>1</td>\n",
       "    </tr>\n",
       "    <tr>\n",
       "      <th>2</th>\n",
       "      <td>90000</td>\n",
       "      <td>2</td>\n",
       "      <td>2</td>\n",
       "      <td>34</td>\n",
       "      <td>0</td>\n",
       "      <td>0</td>\n",
       "      <td>0</td>\n",
       "      <td>0</td>\n",
       "      <td>0</td>\n",
       "      <td>0</td>\n",
       "      <td>...</td>\n",
       "      <td>14331</td>\n",
       "      <td>14948</td>\n",
       "      <td>15549</td>\n",
       "      <td>1518</td>\n",
       "      <td>1500</td>\n",
       "      <td>1000</td>\n",
       "      <td>1000</td>\n",
       "      <td>1000</td>\n",
       "      <td>5000</td>\n",
       "      <td>0</td>\n",
       "    </tr>\n",
       "    <tr>\n",
       "      <th>3</th>\n",
       "      <td>50000</td>\n",
       "      <td>2</td>\n",
       "      <td>1</td>\n",
       "      <td>37</td>\n",
       "      <td>0</td>\n",
       "      <td>0</td>\n",
       "      <td>0</td>\n",
       "      <td>0</td>\n",
       "      <td>0</td>\n",
       "      <td>0</td>\n",
       "      <td>...</td>\n",
       "      <td>28314</td>\n",
       "      <td>28959</td>\n",
       "      <td>29547</td>\n",
       "      <td>2000</td>\n",
       "      <td>2019</td>\n",
       "      <td>1200</td>\n",
       "      <td>1100</td>\n",
       "      <td>1069</td>\n",
       "      <td>1000</td>\n",
       "      <td>0</td>\n",
       "    </tr>\n",
       "    <tr>\n",
       "      <th>4</th>\n",
       "      <td>50000</td>\n",
       "      <td>2</td>\n",
       "      <td>1</td>\n",
       "      <td>57</td>\n",
       "      <td>-1</td>\n",
       "      <td>0</td>\n",
       "      <td>-1</td>\n",
       "      <td>0</td>\n",
       "      <td>0</td>\n",
       "      <td>0</td>\n",
       "      <td>...</td>\n",
       "      <td>20940</td>\n",
       "      <td>19146</td>\n",
       "      <td>19131</td>\n",
       "      <td>2000</td>\n",
       "      <td>36681</td>\n",
       "      <td>10000</td>\n",
       "      <td>9000</td>\n",
       "      <td>689</td>\n",
       "      <td>679</td>\n",
       "      <td>0</td>\n",
       "    </tr>\n",
       "  </tbody>\n",
       "</table>\n",
       "<p>5 rows × 23 columns</p>\n",
       "</div>"
      ],
      "text/plain": [
       "   LIMIT_BAL  EDUCATION  MARITAL_STATUS  AGE  PAY_0  PAY_2  PAY_3  PAY_4  \\\n",
       "0      20000          2               1   24      2      2     -1     -1   \n",
       "1     120000          2               2   26     -1      2      0      0   \n",
       "2      90000          2               2   34      0      0      0      0   \n",
       "3      50000          2               1   37      0      0      0      0   \n",
       "4      50000          2               1   57     -1      0     -1      0   \n",
       "\n",
       "   PAY_5  PAY_6  ...           \"BILL_AMT4\"  BILL_AMT5  BILL_AMT6  PAY_AMT1  \\\n",
       "0     -2     -2  ...                     0          0          0         0   \n",
       "1      0      2  ...                  3272       3455       3261         0   \n",
       "2      0      0  ...                 14331      14948      15549      1518   \n",
       "3      0      0  ...                 28314      28959      29547      2000   \n",
       "4      0      0  ...                 20940      19146      19131      2000   \n",
       "\n",
       "   PAY_AMT2  PAY_AMT3  PAY_AMT4  PAY_AMT5  PAY_AMT6  DEFAULT  \n",
       "0       689         0         0         0         0        1  \n",
       "1      1000      1000      1000         0      2000        1  \n",
       "2      1500      1000      1000      1000      5000        0  \n",
       "3      2019      1200      1100      1069      1000        0  \n",
       "4     36681     10000      9000       689       679        0  \n",
       "\n",
       "[5 rows x 23 columns]"
      ]
     },
     "execution_count": 2,
     "metadata": {},
     "output_type": "execute_result"
    }
   ],
   "source": [
    "# Read the cc_default.csv file from the Resources folder into a Pandas DataFrame\n",
    "cc_df = pd.read_csv(\n",
    "    Path(\"../Resources/cc_default.csv\")\n",
    ")\n",
    "\n",
    "# Review the DataFrame\n",
    "cc_df.head()"
   ]
  },
  {
   "cell_type": "markdown",
   "metadata": {},
   "source": [
    "### Define the features set `X` by including all of the DataFrame columns except the “DEFAULT” column."
   ]
  },
  {
   "cell_type": "code",
   "execution_count": 3,
   "metadata": {},
   "outputs": [
    {
     "data": {
      "text/html": [
       "<div>\n",
       "<style scoped>\n",
       "    .dataframe tbody tr th:only-of-type {\n",
       "        vertical-align: middle;\n",
       "    }\n",
       "\n",
       "    .dataframe tbody tr th {\n",
       "        vertical-align: top;\n",
       "    }\n",
       "\n",
       "    .dataframe thead th {\n",
       "        text-align: right;\n",
       "    }\n",
       "</style>\n",
       "<table border=\"1\" class=\"dataframe\">\n",
       "  <thead>\n",
       "    <tr style=\"text-align: right;\">\n",
       "      <th></th>\n",
       "      <th>LIMIT_BAL</th>\n",
       "      <th>EDUCATION</th>\n",
       "      <th>MARITAL_STATUS</th>\n",
       "      <th>AGE</th>\n",
       "      <th>PAY_0</th>\n",
       "      <th>PAY_2</th>\n",
       "      <th>PAY_3</th>\n",
       "      <th>PAY_4</th>\n",
       "      <th>PAY_5</th>\n",
       "      <th>PAY_6</th>\n",
       "      <th>...</th>\n",
       "      <th>BILL_AMT3</th>\n",
       "      <th>\"BILL_AMT4\"</th>\n",
       "      <th>BILL_AMT5</th>\n",
       "      <th>BILL_AMT6</th>\n",
       "      <th>PAY_AMT1</th>\n",
       "      <th>PAY_AMT2</th>\n",
       "      <th>PAY_AMT3</th>\n",
       "      <th>PAY_AMT4</th>\n",
       "      <th>PAY_AMT5</th>\n",
       "      <th>PAY_AMT6</th>\n",
       "    </tr>\n",
       "  </thead>\n",
       "  <tbody>\n",
       "    <tr>\n",
       "      <th>0</th>\n",
       "      <td>20000</td>\n",
       "      <td>2</td>\n",
       "      <td>1</td>\n",
       "      <td>24</td>\n",
       "      <td>2</td>\n",
       "      <td>2</td>\n",
       "      <td>-1</td>\n",
       "      <td>-1</td>\n",
       "      <td>-2</td>\n",
       "      <td>-2</td>\n",
       "      <td>...</td>\n",
       "      <td>689</td>\n",
       "      <td>0</td>\n",
       "      <td>0</td>\n",
       "      <td>0</td>\n",
       "      <td>0</td>\n",
       "      <td>689</td>\n",
       "      <td>0</td>\n",
       "      <td>0</td>\n",
       "      <td>0</td>\n",
       "      <td>0</td>\n",
       "    </tr>\n",
       "    <tr>\n",
       "      <th>1</th>\n",
       "      <td>120000</td>\n",
       "      <td>2</td>\n",
       "      <td>2</td>\n",
       "      <td>26</td>\n",
       "      <td>-1</td>\n",
       "      <td>2</td>\n",
       "      <td>0</td>\n",
       "      <td>0</td>\n",
       "      <td>0</td>\n",
       "      <td>2</td>\n",
       "      <td>...</td>\n",
       "      <td>2682</td>\n",
       "      <td>3272</td>\n",
       "      <td>3455</td>\n",
       "      <td>3261</td>\n",
       "      <td>0</td>\n",
       "      <td>1000</td>\n",
       "      <td>1000</td>\n",
       "      <td>1000</td>\n",
       "      <td>0</td>\n",
       "      <td>2000</td>\n",
       "    </tr>\n",
       "    <tr>\n",
       "      <th>2</th>\n",
       "      <td>90000</td>\n",
       "      <td>2</td>\n",
       "      <td>2</td>\n",
       "      <td>34</td>\n",
       "      <td>0</td>\n",
       "      <td>0</td>\n",
       "      <td>0</td>\n",
       "      <td>0</td>\n",
       "      <td>0</td>\n",
       "      <td>0</td>\n",
       "      <td>...</td>\n",
       "      <td>13559</td>\n",
       "      <td>14331</td>\n",
       "      <td>14948</td>\n",
       "      <td>15549</td>\n",
       "      <td>1518</td>\n",
       "      <td>1500</td>\n",
       "      <td>1000</td>\n",
       "      <td>1000</td>\n",
       "      <td>1000</td>\n",
       "      <td>5000</td>\n",
       "    </tr>\n",
       "    <tr>\n",
       "      <th>3</th>\n",
       "      <td>50000</td>\n",
       "      <td>2</td>\n",
       "      <td>1</td>\n",
       "      <td>37</td>\n",
       "      <td>0</td>\n",
       "      <td>0</td>\n",
       "      <td>0</td>\n",
       "      <td>0</td>\n",
       "      <td>0</td>\n",
       "      <td>0</td>\n",
       "      <td>...</td>\n",
       "      <td>49291</td>\n",
       "      <td>28314</td>\n",
       "      <td>28959</td>\n",
       "      <td>29547</td>\n",
       "      <td>2000</td>\n",
       "      <td>2019</td>\n",
       "      <td>1200</td>\n",
       "      <td>1100</td>\n",
       "      <td>1069</td>\n",
       "      <td>1000</td>\n",
       "    </tr>\n",
       "    <tr>\n",
       "      <th>4</th>\n",
       "      <td>50000</td>\n",
       "      <td>2</td>\n",
       "      <td>1</td>\n",
       "      <td>57</td>\n",
       "      <td>-1</td>\n",
       "      <td>0</td>\n",
       "      <td>-1</td>\n",
       "      <td>0</td>\n",
       "      <td>0</td>\n",
       "      <td>0</td>\n",
       "      <td>...</td>\n",
       "      <td>35835</td>\n",
       "      <td>20940</td>\n",
       "      <td>19146</td>\n",
       "      <td>19131</td>\n",
       "      <td>2000</td>\n",
       "      <td>36681</td>\n",
       "      <td>10000</td>\n",
       "      <td>9000</td>\n",
       "      <td>689</td>\n",
       "      <td>679</td>\n",
       "    </tr>\n",
       "  </tbody>\n",
       "</table>\n",
       "<p>5 rows × 22 columns</p>\n",
       "</div>"
      ],
      "text/plain": [
       "   LIMIT_BAL  EDUCATION  MARITAL_STATUS  AGE  PAY_0  PAY_2  PAY_3  PAY_4  \\\n",
       "0      20000          2               1   24      2      2     -1     -1   \n",
       "1     120000          2               2   26     -1      2      0      0   \n",
       "2      90000          2               2   34      0      0      0      0   \n",
       "3      50000          2               1   37      0      0      0      0   \n",
       "4      50000          2               1   57     -1      0     -1      0   \n",
       "\n",
       "   PAY_5  PAY_6  ...  BILL_AMT3           \"BILL_AMT4\"  BILL_AMT5  BILL_AMT6  \\\n",
       "0     -2     -2  ...        689                     0          0          0   \n",
       "1      0      2  ...       2682                  3272       3455       3261   \n",
       "2      0      0  ...      13559                 14331      14948      15549   \n",
       "3      0      0  ...      49291                 28314      28959      29547   \n",
       "4      0      0  ...      35835                 20940      19146      19131   \n",
       "\n",
       "   PAY_AMT1  PAY_AMT2  PAY_AMT3  PAY_AMT4  PAY_AMT5  PAY_AMT6  \n",
       "0         0       689         0         0         0         0  \n",
       "1         0      1000      1000      1000         0      2000  \n",
       "2      1518      1500      1000      1000      1000      5000  \n",
       "3      2000      2019      1200      1100      1069      1000  \n",
       "4      2000     36681     10000      9000       689       679  \n",
       "\n",
       "[5 rows x 22 columns]"
      ]
     },
     "execution_count": 3,
     "metadata": {},
     "output_type": "execute_result"
    }
   ],
   "source": [
    "# Define features set X by selecting all columns but DEFAULT\n",
    "X = cc_df.drop(columns=[\"DEFAULT\"]).copy()\n",
    "\n",
    "# Display the features DataFrame\n",
    "X.head()"
   ]
  },
  {
   "cell_type": "markdown",
   "metadata": {},
   "source": [
    "### Create the target `y` by assigning the values of the DataFrame “DEFAULT” column."
   ]
  },
  {
   "cell_type": "code",
   "execution_count": 4,
   "metadata": {},
   "outputs": [
    {
     "data": {
      "text/plain": [
       "0    1\n",
       "1    1\n",
       "2    0\n",
       "3    0\n",
       "4    0\n",
       "Name: DEFAULT, dtype: int64"
      ]
     },
     "execution_count": 4,
     "metadata": {},
     "output_type": "execute_result"
    }
   ],
   "source": [
    "# Define target set by selecting the DEFAULT column\n",
    "y = cc_df[\"DEFAULT\"]\n",
    "\n",
    "# Display a sample of y\n",
    "y[:5]"
   ]
  },
  {
   "cell_type": "markdown",
   "metadata": {},
   "source": [
    "### Create the training and testing sets using the `train_test_split` function from scikit-learn."
   ]
  },
  {
   "cell_type": "code",
   "execution_count": 5,
   "metadata": {},
   "outputs": [],
   "source": [
    "# Create training and testing datasets using train_test_split\n",
    "# Assign the function a random_state equal to 1\n",
    "X_train, X_test, y_train, y_test = train_test_split(X, y, random_state=1)"
   ]
  },
  {
   "cell_type": "markdown",
   "metadata": {},
   "source": [
    "### Scale the features data using the `StandardScaler` from sklearn."
   ]
  },
  {
   "cell_type": "code",
   "execution_count": 6,
   "metadata": {},
   "outputs": [],
   "source": [
    "# Create the StandardScaler instance\n",
    "X_scaler = StandardScaler()"
   ]
  },
  {
   "cell_type": "code",
   "execution_count": 7,
   "metadata": {},
   "outputs": [
    {
     "data": {
      "text/plain": [
       "StandardScaler()"
      ]
     },
     "execution_count": 7,
     "metadata": {},
     "output_type": "execute_result"
    }
   ],
   "source": [
    "# Fit the scaler to the features training dataset\n",
    "X_scaler.fit(X_train)"
   ]
  },
  {
   "cell_type": "code",
   "execution_count": 8,
   "metadata": {},
   "outputs": [],
   "source": [
    "# Scale both the training and testing data from the features dataset\n",
    "X_train_scaled = X_scaler.transform(X_train)\n",
    "X_test_scaled = X_scaler.transform(X_test)"
   ]
  },
  {
   "cell_type": "markdown",
   "metadata": {},
   "source": [
    "### Create a neural network model with an input layer that consists of 22 inputs, one hidden layer, and an output layer. Use the `units` parameter to define 12 neurons for the hidden layer and a single output for the output layer. Use the ReLU activation function for the hidden layer and the sigmoid activation function for the output layer."
   ]
  },
  {
   "cell_type": "code",
   "execution_count": 9,
   "metadata": {},
   "outputs": [],
   "source": [
    "# Define the the number of inputs to the model\n",
    "number_inputs = 22\n",
    "\n",
    "# Define the number of hidden nodes for the model\n",
    "number_hidden_nodes = 12\n",
    "\n",
    "# Create the Sequential model instance\n",
    "neuron = Sequential()\n",
    "\n",
    "# Add a Dense layer specifying the number of inputs, the number of hidden nodes, and the activation function\n",
    "neuron.add(Dense(units=number_hidden_nodes, input_dim=number_inputs, activation=\"relu\"))\n",
    "\n",
    "# Add the output layer to the model specifying the number of output neurons and activation function\n",
    "neuron.add(Dense(1, activation=\"sigmoid\"))"
   ]
  },
  {
   "cell_type": "markdown",
   "metadata": {},
   "source": [
    "### Display the model structure using the `summary` function."
   ]
  },
  {
   "cell_type": "code",
   "execution_count": 10,
   "metadata": {},
   "outputs": [
    {
     "name": "stdout",
     "output_type": "stream",
     "text": [
      "Model: \"sequential\"\n",
      "_________________________________________________________________\n",
      " Layer (type)                Output Shape              Param #   \n",
      "=================================================================\n",
      " dense (Dense)               (None, 12)                276       \n",
      "                                                                 \n",
      " dense_1 (Dense)             (None, 1)                 13        \n",
      "                                                                 \n",
      "=================================================================\n",
      "Total params: 289\n",
      "Trainable params: 289\n",
      "Non-trainable params: 0\n",
      "_________________________________________________________________\n"
     ]
    }
   ],
   "source": [
    "# Display the Sequential model summary\n",
    "neuron.summary()"
   ]
  },
  {
   "cell_type": "markdown",
   "metadata": {},
   "source": [
    "## Step 2:  Compile the neural network model using the `binary_crossentropy` loss function, the `adam` optimizer, and the additional metric `accuracy`."
   ]
  },
  {
   "cell_type": "code",
   "execution_count": 11,
   "metadata": {},
   "outputs": [],
   "source": [
    "# Compile the Sequential model\n",
    "neuron.compile(loss=\"binary_crossentropy\", optimizer=\"adam\", metrics=[\"accuracy\"])"
   ]
  },
  {
   "cell_type": "markdown",
   "metadata": {},
   "source": [
    "## Step 3: Fit the model with 100 epochs using the training data."
   ]
  },
  {
   "cell_type": "code",
   "execution_count": 12,
   "metadata": {},
   "outputs": [
    {
     "name": "stdout",
     "output_type": "stream",
     "text": [
      "Epoch 1/50\n",
      "704/704 [==============================] - 1s 862us/step - loss: 0.5707 - accuracy: 0.7364\n",
      "Epoch 2/50\n",
      "704/704 [==============================] - 1s 795us/step - loss: 0.4685 - accuracy: 0.8111\n",
      "Epoch 3/50\n",
      "704/704 [==============================] - 1s 802us/step - loss: 0.4540 - accuracy: 0.8140\n",
      "Epoch 4/50\n",
      "704/704 [==============================] - 1s 784us/step - loss: 0.4477 - accuracy: 0.8182\n",
      "Epoch 5/50\n",
      "704/704 [==============================] - 1s 761us/step - loss: 0.4437 - accuracy: 0.8188\n",
      "Epoch 6/50\n",
      "704/704 [==============================] - 1s 789us/step - loss: 0.4410 - accuracy: 0.8192\n",
      "Epoch 7/50\n",
      "704/704 [==============================] - 1s 794us/step - loss: 0.4394 - accuracy: 0.8198\n",
      "Epoch 8/50\n",
      "704/704 [==============================] - 1s 768us/step - loss: 0.4376 - accuracy: 0.8211\n",
      "Epoch 9/50\n",
      "704/704 [==============================] - 1s 809us/step - loss: 0.4366 - accuracy: 0.8213\n",
      "Epoch 10/50\n",
      "704/704 [==============================] - 1s 751us/step - loss: 0.4358 - accuracy: 0.8203\n",
      "Epoch 11/50\n",
      "704/704 [==============================] - 1s 801us/step - loss: 0.4349 - accuracy: 0.8216\n",
      "Epoch 12/50\n",
      "704/704 [==============================] - 1s 770us/step - loss: 0.4347 - accuracy: 0.8215\n",
      "Epoch 13/50\n",
      "704/704 [==============================] - 1s 777us/step - loss: 0.4338 - accuracy: 0.8209\n",
      "Epoch 14/50\n",
      "704/704 [==============================] - 1s 750us/step - loss: 0.4333 - accuracy: 0.8219\n",
      "Epoch 15/50\n",
      "704/704 [==============================] - 1s 778us/step - loss: 0.4333 - accuracy: 0.8215\n",
      "Epoch 16/50\n",
      "704/704 [==============================] - 1s 777us/step - loss: 0.4326 - accuracy: 0.8217\n",
      "Epoch 17/50\n",
      "704/704 [==============================] - 1s 743us/step - loss: 0.4325 - accuracy: 0.8219\n",
      "Epoch 18/50\n",
      "704/704 [==============================] - 1s 810us/step - loss: 0.4323 - accuracy: 0.8216\n",
      "Epoch 19/50\n",
      "704/704 [==============================] - 1s 915us/step - loss: 0.4320 - accuracy: 0.8220\n",
      "Epoch 20/50\n",
      "704/704 [==============================] - 1s 815us/step - loss: 0.4317 - accuracy: 0.8215\n",
      "Epoch 21/50\n",
      "704/704 [==============================] - 1s 1ms/step - loss: 0.4313 - accuracy: 0.8215\n",
      "Epoch 22/50\n",
      "704/704 [==============================] - 1s 1ms/step - loss: 0.4312 - accuracy: 0.8208\n",
      "Epoch 23/50\n",
      "704/704 [==============================] - 1s 863us/step - loss: 0.4308 - accuracy: 0.8215\n",
      "Epoch 24/50\n",
      "704/704 [==============================] - 1s 831us/step - loss: 0.4310 - accuracy: 0.8216\n",
      "Epoch 25/50\n",
      "704/704 [==============================] - 1s 754us/step - loss: 0.4306 - accuracy: 0.8226\n",
      "Epoch 26/50\n",
      "704/704 [==============================] - 1s 781us/step - loss: 0.4306 - accuracy: 0.8226\n",
      "Epoch 27/50\n",
      "704/704 [==============================] - 1s 784us/step - loss: 0.4307 - accuracy: 0.8209\n",
      "Epoch 28/50\n",
      "704/704 [==============================] - 1s 750us/step - loss: 0.4302 - accuracy: 0.8219\n",
      "Epoch 29/50\n",
      "704/704 [==============================] - 1s 780us/step - loss: 0.4301 - accuracy: 0.8210\n",
      "Epoch 30/50\n",
      "704/704 [==============================] - 1s 749us/step - loss: 0.4299 - accuracy: 0.8216\n",
      "Epoch 31/50\n",
      "704/704 [==============================] - 1s 775us/step - loss: 0.4298 - accuracy: 0.8211\n",
      "Epoch 32/50\n",
      "704/704 [==============================] - 1s 834us/step - loss: 0.4298 - accuracy: 0.8226\n",
      "Epoch 33/50\n",
      "704/704 [==============================] - 1s 783us/step - loss: 0.4293 - accuracy: 0.8220\n",
      "Epoch 34/50\n",
      "704/704 [==============================] - 1s 787us/step - loss: 0.4293 - accuracy: 0.8218\n",
      "Epoch 35/50\n",
      "704/704 [==============================] - 1s 826us/step - loss: 0.4294 - accuracy: 0.8208\n",
      "Epoch 36/50\n",
      "704/704 [==============================] - 1s 783us/step - loss: 0.4293 - accuracy: 0.8220\n",
      "Epoch 37/50\n",
      "704/704 [==============================] - 1s 798us/step - loss: 0.4289 - accuracy: 0.8210\n",
      "Epoch 38/50\n",
      "704/704 [==============================] - 1s 1ms/step - loss: 0.4288 - accuracy: 0.8220\n",
      "Epoch 39/50\n",
      "704/704 [==============================] - 1s 796us/step - loss: 0.4284 - accuracy: 0.8213\n",
      "Epoch 40/50\n",
      "704/704 [==============================] - 1s 830us/step - loss: 0.4285 - accuracy: 0.8216\n",
      "Epoch 41/50\n",
      "704/704 [==============================] - 1s 824us/step - loss: 0.4286 - accuracy: 0.8218\n",
      "Epoch 42/50\n",
      "704/704 [==============================] - 1s 825us/step - loss: 0.4285 - accuracy: 0.8218\n",
      "Epoch 43/50\n",
      "704/704 [==============================] - 1s 769us/step - loss: 0.4284 - accuracy: 0.8223\n",
      "Epoch 44/50\n",
      "704/704 [==============================] - 1s 762us/step - loss: 0.4278 - accuracy: 0.8220\n",
      "Epoch 45/50\n",
      "704/704 [==============================] - 1s 756us/step - loss: 0.4278 - accuracy: 0.8223\n",
      "Epoch 46/50\n",
      "704/704 [==============================] - 1s 827us/step - loss: 0.4280 - accuracy: 0.8220\n",
      "Epoch 47/50\n",
      "704/704 [==============================] - 1s 873us/step - loss: 0.4274 - accuracy: 0.8225\n",
      "Epoch 48/50\n",
      "704/704 [==============================] - 1s 809us/step - loss: 0.4279 - accuracy: 0.8216\n",
      "Epoch 49/50\n",
      "704/704 [==============================] - 1s 987us/step - loss: 0.4275 - accuracy: 0.8214\n",
      "Epoch 50/50\n",
      "704/704 [==============================] - 1s 997us/step - loss: 0.4275 - accuracy: 0.8223\n"
     ]
    }
   ],
   "source": [
    "# Fit the model using 100 epochs and the training data\n",
    "model = neuron.fit(X_train_scaled, y_train, epochs=100)"
   ]
  },
  {
   "cell_type": "markdown",
   "metadata": {},
   "source": [
    "## Step 4: Plot the model’s loss function and accuracy over the 100 epochs."
   ]
  },
  {
   "cell_type": "code",
   "execution_count": 13,
   "metadata": {},
   "outputs": [],
   "source": [
    "# Create a DataFrame using the model history and an index parameter\n",
    "model_plot = pd.DataFrame(model.history, index=range(1, len(model.history[\"loss\"]) + 1))"
   ]
  },
  {
   "cell_type": "code",
   "execution_count": 14,
   "metadata": {},
   "outputs": [
    {
     "data": {
      "text/html": [
       "<div>\n",
       "<style scoped>\n",
       "    .dataframe tbody tr th:only-of-type {\n",
       "        vertical-align: middle;\n",
       "    }\n",
       "\n",
       "    .dataframe tbody tr th {\n",
       "        vertical-align: top;\n",
       "    }\n",
       "\n",
       "    .dataframe thead th {\n",
       "        text-align: right;\n",
       "    }\n",
       "</style>\n",
       "<table border=\"1\" class=\"dataframe\">\n",
       "  <thead>\n",
       "    <tr style=\"text-align: right;\">\n",
       "      <th></th>\n",
       "      <th>loss</th>\n",
       "      <th>accuracy</th>\n",
       "    </tr>\n",
       "  </thead>\n",
       "  <tbody>\n",
       "    <tr>\n",
       "      <th>1</th>\n",
       "      <td>0.570742</td>\n",
       "      <td>0.736400</td>\n",
       "    </tr>\n",
       "    <tr>\n",
       "      <th>2</th>\n",
       "      <td>0.468516</td>\n",
       "      <td>0.811111</td>\n",
       "    </tr>\n",
       "    <tr>\n",
       "      <th>3</th>\n",
       "      <td>0.454049</td>\n",
       "      <td>0.814044</td>\n",
       "    </tr>\n",
       "  </tbody>\n",
       "</table>\n",
       "</div>"
      ],
      "text/plain": [
       "       loss  accuracy\n",
       "1  0.570742  0.736400\n",
       "2  0.468516  0.811111\n",
       "3  0.454049  0.814044"
      ]
     },
     "execution_count": 14,
     "metadata": {},
     "output_type": "execute_result"
    }
   ],
   "source": [
    "model_plot.head(3)"
   ]
  },
  {
   "cell_type": "code",
   "execution_count": 15,
   "metadata": {},
   "outputs": [
    {
     "data": {
      "text/plain": [
       "<AxesSubplot:>"
      ]
     },
     "execution_count": 15,
     "metadata": {},
     "output_type": "execute_result"
    },
    {
     "data": {
      "image/png": "[encoded data removed]",
      "text/plain": [
       "<Figure size 432x288 with 1 Axes>"
      ]
     },
     "metadata": {
      "needs_background": "light"
     },
     "output_type": "display_data"
    }
   ],
   "source": [
    "# Vizualize the model plot where the y-axis displays the loss metric\n",
    "model_plot.plot(y=\"loss\")"
   ]
  },
  {
   "cell_type": "code",
   "execution_count": 16,
   "metadata": {},
   "outputs": [
    {
     "data": {
      "text/plain": [
       "<AxesSubplot:>"
      ]
     },
     "execution_count": 16,
     "metadata": {},
     "output_type": "execute_result"
    },
    {
     "data": {
      "image/png": "[encoded data removed]",
      "text/plain": [
       "<Figure size 432x288 with 1 Axes>"
      ]
     },
     "metadata": {
      "needs_background": "light"
     },
     "output_type": "display_data"
    }
   ],
   "source": [
    "# Vizualize the model plot where the y-axis displays the accuracy metric\n",
    "model_plot.plot(y=\"accuracy\")"
   ]
  },
  {
   "cell_type": "markdown",
   "metadata": {},
   "source": [
    "## Step 5: Evaluate the model using testing data and the `evaluate` method."
   ]
  },
  {
   "cell_type": "code",
   "execution_count": 17,
   "metadata": {},
   "outputs": [
    {
     "name": "stdout",
     "output_type": "stream",
     "text": [
      "235/235 - 0s - loss: 0.4392 - accuracy: 0.8143 - 272ms/epoch - 1ms/step\n",
      "Loss: 0.43921729922294617, Accuracy: 0.8142666816711426\n"
     ]
    }
   ],
   "source": [
    "# Evaluate the model loss and accuracy metrics using the evaluate method and the test data\n",
    "model_loss, model_accuracy = neuron.evaluate(X_test_scaled, y_test, verbose=2)\n",
    "\n",
    "# Display the evaluation results\n",
    "print(f\"Loss: {model_loss}, Accuracy: {model_accuracy}\")"
   ]
  },
  {
   "cell_type": "code",
   "execution_count": null,
   "metadata": {},
   "outputs": [],
   "source": []
  }
 ],
 "metadata": {
  "file_extension": ".py",
  "kernelspec": {
   "display_name": "Python 3",
   "language": "python",
   "name": "python3"
  },
  "language_info": {
   "codemirror_mode": {
    "name": "ipython",
    "version": 3
   },
   "file_extension": ".py",
   "mimetype": "text/x-python",
   "name": "python",
   "nbconvert_exporter": "python",
   "pygments_lexer": "ipython3",
   "version": "3.8.8"
  },
  "mimetype": "text/x-python",
  "name": "python",
  "npconvert_exporter": "python",
  "pygments_lexer": "ipython3",
  "version": 3
 },
 "nbformat": 4,
 "nbformat_minor": 4
}
