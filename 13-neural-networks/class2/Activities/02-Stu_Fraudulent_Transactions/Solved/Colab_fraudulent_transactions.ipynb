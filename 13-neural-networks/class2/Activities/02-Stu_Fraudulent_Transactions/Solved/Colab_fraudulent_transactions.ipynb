{
  "cells": [
    {
      "cell_type": "markdown",
      "metadata": {
        "id": "Hwk3itXvqiR_"
      },
      "source": [
        "# Predicting Fraudulent Transactions Using Neural Networks\n",
        "\n",
        "Now that you’ve learned how to build a deep neural network, you’ll apply those skills to create a deep learning model that can predict financial fraud. But in this activity, rather than a regression deep learning model, you will create a classification deep learning model.\n",
        "\n",
        "## Instructions:\n",
        "\n",
        "### Load and Preprocess the Data\n",
        "\n",
        "1. Read the data from the CSV file into a Pandas DataFrame.\n",
        "\n",
        "2. Create the target set `y` by assigning the values of the “isFraud” column of the DataFrame.\n",
        "\n",
        "3. Define the features set `X` by including all of the columns of the DataFrame except for the “isFraud” column.\n",
        "\n",
        "4. Create the training and testing sets using the `train_test_split` function from scikit-learn.\n",
        "\n",
        "5. Scale the features data using the `StandardScaler` from scikit-learn.\n",
        "\n",
        "### Create and Evaluate a Deep Neural Network Model\n",
        "\n",
        "1. Create a deep neural network model with the following structure:\n",
        "\n",
        "    * 9 inputs\n",
        "    * First hidden layer with 18 neurons\n",
        "    * Second hidden layer with 8 neurons\n",
        "    * Output layer with a single output\n",
        "    * Hidden layers use the ReLU activation function, and output layer uses the sigmoid activation function\n",
        "\n",
        "2. Display the model structure using the 'summary` function.\n",
        "\n",
        "3. Compile the neural network model using the `binary_crossentropy` loss function, the `adam` optimizer, and `accuracy` as an additional metric.\n",
        "\n",
        "4. Fit the model with the training data, using 100 epochs.\n",
        "\n",
        "5. Evaluate the model using testing data and the `evaluate` method.\n",
        "\n",
        "\n",
        "## References:\n",
        "\n",
        "[Keras Sequential model](https://keras.io/api/models/sequential/)\n",
        "\n",
        "[Keras Dense module](https://keras.io/api/layers/core_layers/dense/)\n",
        "\n",
        "[Keras evaluate](https://keras.io/api/models/model_training_apis/)\n",
        "\n"
      ]
    },
    {
      "cell_type": "code",
      "execution_count": 1,
      "metadata": {
        "id": "PomyrFO7qiSH"
      },
      "outputs": [],
      "source": [
        "# Imports\n",
        "import pandas as pd\n",
        "import tensorflow as tf\n",
        "from tensorflow.keras.layers import Dense\n",
        "from tensorflow.keras.models import Sequential\n",
        "from sklearn.preprocessing import StandardScaler\n",
        "from sklearn.model_selection import train_test_split"
      ]
    },
    {
      "cell_type": "markdown",
      "metadata": {
        "id": "pK6QCIUTqiSI"
      },
      "source": [
        "## Load and Preprocess the Data"
      ]
    },
    {
      "cell_type": "markdown",
      "metadata": {
        "id": "tA-eFXE2qiSI"
      },
      "source": [
        "### Step 1: Read the data from the CSV file into a Pandas DataFrame."
      ]
    },
    {
      "cell_type": "code",
      "source": [
        "# Import credit_card_transactions.csv to Google Colab\n",
        "from google.colab import files\n",
        "uploaded = files.upload()"
      ],
      "metadata": {
        "colab": {
          "resources": {
            "http://localhost:8080/nbextensions/google.colab/files.js": {
              "data": "Ly8gQ29weXJpZ2h0IDIwMTcgR29vZ2xlIExMQwovLwovLyBMaWNlbnNlZCB1bmRlciB0aGUgQXBhY2hlIExpY2Vuc2UsIFZlcnNpb24gMi4wICh0aGUgIkxpY2Vuc2UiKTsKLy8geW91IG1heSBub3QgdXNlIHRoaXMgZmlsZSBleGNlcHQgaW4gY29tcGxpYW5jZSB3aXRoIHRoZSBMaWNlbnNlLgovLyBZb3UgbWF5IG9idGFpbiBhIGNvcHkgb2YgdGhlIExpY2Vuc2UgYXQKLy8KLy8gICAgICBodHRwOi8vd3d3LmFwYWNoZS5vcmcvbGljZW5zZXMvTElDRU5TRS0yLjAKLy8KLy8gVW5sZXNzIHJlcXVpcmVkIGJ5IGFwcGxpY2FibGUgbGF3IG9yIGFncmVlZCB0byBpbiB3cml0aW5nLCBzb2Z0d2FyZQovLyBkaXN0cmlidXRlZCB1bmRlciB0aGUgTGljZW5zZSBpcyBkaXN0cmlidXRlZCBvbiBhbiAiQVMgSVMiIEJBU0lTLAovLyBXSVRIT1VUIFdBUlJBTlRJRVMgT1IgQ09ORElUSU9OUyBPRiBBTlkgS0lORCwgZWl0aGVyIGV4cHJlc3Mgb3IgaW1wbGllZC4KLy8gU2VlIHRoZSBMaWNlbnNlIGZvciB0aGUgc3BlY2lmaWMgbGFuZ3VhZ2UgZ292ZXJuaW5nIHBlcm1pc3Npb25zIGFuZAovLyBsaW1pdGF0aW9ucyB1bmRlciB0aGUgTGljZW5zZS4KCi8qKgogKiBAZmlsZW92ZXJ2aWV3IEhlbHBlcnMgZm9yIGdvb2dsZS5jb2xhYiBQeXRob24gbW9kdWxlLgogKi8KKGZ1bmN0aW9uKHNjb3BlKSB7CmZ1bmN0aW9uIHNwYW4odGV4dCwgc3R5bGVBdHRyaWJ1dGVzID0ge30pIHsKICBjb25zdCBlbGVtZW50ID0gZG9jdW1lbnQuY3JlYXRlRWxlbWVudCgnc3BhbicpOwogIGVsZW1lbnQudGV4dENvbnRlbnQgPSB0ZXh0OwogIGZvciAoY29uc3Qga2V5IG9mIE9iamVjdC5rZXlzKHN0eWxlQXR0cmlidXRlcykpIHsKICAgIGVsZW1lbnQuc3R5bGVba2V5XSA9IHN0eWxlQXR0cmlidXRlc1trZXldOwogIH0KICByZXR1cm4gZWxlbWVudDsKfQoKLy8gTWF4IG51bWJlciBvZiBieXRlcyB3aGljaCB3aWxsIGJlIHVwbG9hZGVkIGF0IGEgdGltZS4KY29uc3QgTUFYX1BBWUxPQURfU0laRSA9IDEwMCAqIDEwMjQ7CgpmdW5jdGlvbiBfdXBsb2FkRmlsZXMoaW5wdXRJZCwgb3V0cHV0SWQpIHsKICBjb25zdCBzdGVwcyA9IHVwbG9hZEZpbGVzU3RlcChpbnB1dElkLCBvdXRwdXRJZCk7CiAgY29uc3Qgb3V0cHV0RWxlbWVudCA9IGRvY3VtZW50LmdldEVsZW1lbnRCeUlkKG91dHB1dElkKTsKICAvLyBDYWNoZSBzdGVwcyBvbiB0aGUgb3V0cHV0RWxlbWVudCB0byBtYWtlIGl0IGF2YWlsYWJsZSBmb3IgdGhlIG5leHQgY2FsbAogIC8vIHRvIHVwbG9hZEZpbGVzQ29udGludWUgZnJvbSBQeXRob24uCiAgb3V0cHV0RWxlbWVudC5zdGVwcyA9IHN0ZXBzOwoKICByZXR1cm4gX3VwbG9hZEZpbGVzQ29udGludWUob3V0cHV0SWQpOwp9CgovLyBUaGlzIGlzIHJvdWdobHkgYW4gYXN5bmMgZ2VuZXJhdG9yIChub3Qgc3VwcG9ydGVkIGluIHRoZSBicm93c2VyIHlldCksCi8vIHdoZXJlIHRoZXJlIGFyZSBtdWx0aXBsZSBhc3luY2hyb25vdXMgc3RlcHMgYW5kIHRoZSBQeXRob24gc2lkZSBpcyBnb2luZwovLyB0byBwb2xsIGZvciBjb21wbGV0aW9uIG9mIGVhY2ggc3RlcC4KLy8gVGhpcyB1c2VzIGEgUHJvbWlzZSB0byBibG9jayB0aGUgcHl0aG9uIHNpZGUgb24gY29tcGxldGlvbiBvZiBlYWNoIHN0ZXAsCi8vIHRoZW4gcGFzc2VzIHRoZSByZXN1bHQgb2YgdGhlIHByZXZpb3VzIHN0ZXAgYXMgdGhlIGlucHV0IHRvIHRoZSBuZXh0IHN0ZXAuCmZ1bmN0aW9uIF91cGxvYWRGaWxlc0NvbnRpbnVlKG91dHB1dElkKSB7CiAgY29uc3Qgb3V0cHV0RWxlbWVudCA9IGRvY3VtZW50LmdldEVsZW1lbnRCeUlkKG91dHB1dElkKTsKICBjb25zdCBzdGVwcyA9IG91dHB1dEVsZW1lbnQuc3RlcHM7CgogIGNvbnN0IG5leHQgPSBzdGVwcy5uZXh0KG91dHB1dEVsZW1lbnQubGFzdFByb21pc2VWYWx1ZSk7CiAgcmV0dXJuIFByb21pc2UucmVzb2x2ZShuZXh0LnZhbHVlLnByb21pc2UpLnRoZW4oKHZhbHVlKSA9PiB7CiAgICAvLyBDYWNoZSB0aGUgbGFzdCBwcm9taXNlIHZhbHVlIHRvIG1ha2UgaXQgYXZhaWxhYmxlIHRvIHRoZSBuZXh0CiAgICAvLyBzdGVwIG9mIHRoZSBnZW5lcmF0b3IuCiAgICBvdXRwdXRFbGVtZW50Lmxhc3RQcm9taXNlVmFsdWUgPSB2YWx1ZTsKICAgIHJldHVybiBuZXh0LnZhbHVlLnJlc3BvbnNlOwogIH0pOwp9CgovKioKICogR2VuZXJhdG9yIGZ1bmN0aW9uIHdoaWNoIGlzIGNhbGxlZCBiZXR3ZWVuIGVhY2ggYXN5bmMgc3RlcCBvZiB0aGUgdXBsb2FkCiAqIHByb2Nlc3MuCiAqIEBwYXJhbSB7c3RyaW5nfSBpbnB1dElkIEVsZW1lbnQgSUQgb2YgdGhlIGlucHV0IGZpbGUgcGlja2VyIGVsZW1lbnQuCiAqIEBwYXJhbSB7c3RyaW5nfSBvdXRwdXRJZCBFbGVtZW50IElEIG9mIHRoZSBvdXRwdXQgZGlzcGxheS4KICogQHJldHVybiB7IUl0ZXJhYmxlPCFPYmplY3Q+fSBJdGVyYWJsZSBvZiBuZXh0IHN0ZXBzLgogKi8KZnVuY3Rpb24qIHVwbG9hZEZpbGVzU3RlcChpbnB1dElkLCBvdXRwdXRJZCkgewogIGNvbnN0IGlucHV0RWxlbWVudCA9IGRvY3VtZW50LmdldEVsZW1lbnRCeUlkKGlucHV0SWQpOwogIGlucHV0RWxlbWVudC5kaXNhYmxlZCA9IGZhbHNlOwoKICBjb25zdCBvdXRwdXRFbGVtZW50ID0gZG9jdW1lbnQuZ2V0RWxlbWVudEJ5SWQob3V0cHV0SWQpOwogIG91dHB1dEVsZW1lbnQuaW5uZXJIVE1MID0gJyc7CgogIGNvbnN0IHBpY2tlZFByb21pc2UgPSBuZXcgUHJvbWlzZSgocmVzb2x2ZSkgPT4gewogICAgaW5wdXRFbGVtZW50LmFkZEV2ZW50TGlzdGVuZXIoJ2NoYW5nZScsIChlKSA9PiB7CiAgICAgIHJlc29sdmUoZS50YXJnZXQuZmlsZXMpOwogICAgfSk7CiAgfSk7CgogIGNvbnN0IGNhbmNlbCA9IGRvY3VtZW50LmNyZWF0ZUVsZW1lbnQoJ2J1dHRvbicpOwogIGlucHV0RWxlbWVudC5wYXJlbnRFbGVtZW50LmFwcGVuZENoaWxkKGNhbmNlbCk7CiAgY2FuY2VsLnRleHRDb250ZW50ID0gJ0NhbmNlbCB1cGxvYWQnOwogIGNvbnN0IGNhbmNlbFByb21pc2UgPSBuZXcgUHJvbWlzZSgocmVzb2x2ZSkgPT4gewogICAgY2FuY2VsLm9uY2xpY2sgPSAoKSA9PiB7CiAgICAgIHJlc29sdmUobnVsbCk7CiAgICB9OwogIH0pOwoKICAvLyBXYWl0IGZvciB0aGUgdXNlciB0byBwaWNrIHRoZSBmaWxlcy4KICBjb25zdCBmaWxlcyA9IHlpZWxkIHsKICAgIHByb21pc2U6IFByb21pc2UucmFjZShbcGlja2VkUHJvbWlzZSwgY2FuY2VsUHJvbWlzZV0pLAogICAgcmVzcG9uc2U6IHsKICAgICAgYWN0aW9uOiAnc3RhcnRpbmcnLAogICAgfQogIH07CgogIGNhbmNlbC5yZW1vdmUoKTsKCiAgLy8gRGlzYWJsZSB0aGUgaW5wdXQgZWxlbWVudCBzaW5jZSBmdXJ0aGVyIHBpY2tzIGFyZSBub3QgYWxsb3dlZC4KICBpbnB1dEVsZW1lbnQuZGlzYWJsZWQgPSB0cnVlOwoKICBpZiAoIWZpbGVzKSB7CiAgICByZXR1cm4gewogICAgICByZXNwb25zZTogewogICAgICAgIGFjdGlvbjogJ2NvbXBsZXRlJywKICAgICAgfQogICAgfTsKICB9CgogIGZvciAoY29uc3QgZmlsZSBvZiBmaWxlcykgewogICAgY29uc3QgbGkgPSBkb2N1bWVudC5jcmVhdGVFbGVtZW50KCdsaScpOwogICAgbGkuYXBwZW5kKHNwYW4oZmlsZS5uYW1lLCB7Zm9udFdlaWdodDogJ2JvbGQnfSkpOwogICAgbGkuYXBwZW5kKHNwYW4oCiAgICAgICAgYCgke2ZpbGUudHlwZSB8fCAnbi9hJ30pIC0gJHtmaWxlLnNpemV9IGJ5dGVzLCBgICsKICAgICAgICBgbGFzdCBtb2RpZmllZDogJHsKICAgICAgICAgICAgZmlsZS5sYXN0TW9kaWZpZWREYXRlID8gZmlsZS5sYXN0TW9kaWZpZWREYXRlLnRvTG9jYWxlRGF0ZVN0cmluZygpIDoKICAgICAgICAgICAgICAgICAgICAgICAgICAgICAgICAgICAgJ24vYSd9IC0gYCkpOwogICAgY29uc3QgcGVyY2VudCA9IHNwYW4oJzAlIGRvbmUnKTsKICAgIGxpLmFwcGVuZENoaWxkKHBlcmNlbnQpOwoKICAgIG91dHB1dEVsZW1lbnQuYXBwZW5kQ2hpbGQobGkpOwoKICAgIGNvbnN0IGZpbGVEYXRhUHJvbWlzZSA9IG5ldyBQcm9taXNlKChyZXNvbHZlKSA9PiB7CiAgICAgIGNvbnN0IHJlYWRlciA9IG5ldyBGaWxlUmVhZGVyKCk7CiAgICAgIHJlYWRlci5vbmxvYWQgPSAoZSkgPT4gewogICAgICAgIHJlc29sdmUoZS50YXJnZXQucmVzdWx0KTsKICAgICAgfTsKICAgICAgcmVhZGVyLnJlYWRBc0FycmF5QnVmZmVyKGZpbGUpOwogICAgfSk7CiAgICAvLyBXYWl0IGZvciB0aGUgZGF0YSB0byBiZSByZWFkeS4KICAgIGxldCBmaWxlRGF0YSA9IHlpZWxkIHsKICAgICAgcHJvbWlzZTogZmlsZURhdGFQcm9taXNlLAogICAgICByZXNwb25zZTogewogICAgICAgIGFjdGlvbjogJ2NvbnRpbnVlJywKICAgICAgfQogICAgfTsKCiAgICAvLyBVc2UgYSBjaHVua2VkIHNlbmRpbmcgdG8gYXZvaWQgbWVzc2FnZSBzaXplIGxpbWl0cy4gU2VlIGIvNjIxMTU2NjAuCiAgICBsZXQgcG9zaXRpb24gPSAwOwogICAgZG8gewogICAgICBjb25zdCBsZW5ndGggPSBNYXRoLm1pbihmaWxlRGF0YS5ieXRlTGVuZ3RoIC0gcG9zaXRpb24sIE1BWF9QQVlMT0FEX1NJWkUpOwogICAgICBjb25zdCBjaHVuayA9IG5ldyBVaW50OEFycmF5KGZpbGVEYXRhLCBwb3NpdGlvbiwgbGVuZ3RoKTsKICAgICAgcG9zaXRpb24gKz0gbGVuZ3RoOwoKICAgICAgY29uc3QgYmFzZTY0ID0gYnRvYShTdHJpbmcuZnJvbUNoYXJDb2RlLmFwcGx5KG51bGwsIGNodW5rKSk7CiAgICAgIHlpZWxkIHsKICAgICAgICByZXNwb25zZTogewogICAgICAgICAgYWN0aW9uOiAnYXBwZW5kJywKICAgICAgICAgIGZpbGU6IGZpbGUubmFtZSwKICAgICAgICAgIGRhdGE6IGJhc2U2NCwKICAgICAgICB9LAogICAgICB9OwoKICAgICAgbGV0IHBlcmNlbnREb25lID0gZmlsZURhdGEuYnl0ZUxlbmd0aCA9PT0gMCA/CiAgICAgICAgICAxMDAgOgogICAgICAgICAgTWF0aC5yb3VuZCgocG9zaXRpb24gLyBmaWxlRGF0YS5ieXRlTGVuZ3RoKSAqIDEwMCk7CiAgICAgIHBlcmNlbnQudGV4dENvbnRlbnQgPSBgJHtwZXJjZW50RG9uZX0lIGRvbmVgOwoKICAgIH0gd2hpbGUgKHBvc2l0aW9uIDwgZmlsZURhdGEuYnl0ZUxlbmd0aCk7CiAgfQoKICAvLyBBbGwgZG9uZS4KICB5aWVsZCB7CiAgICByZXNwb25zZTogewogICAgICBhY3Rpb246ICdjb21wbGV0ZScsCiAgICB9CiAgfTsKfQoKc2NvcGUuZ29vZ2xlID0gc2NvcGUuZ29vZ2xlIHx8IHt9OwpzY29wZS5nb29nbGUuY29sYWIgPSBzY29wZS5nb29nbGUuY29sYWIgfHwge307CnNjb3BlLmdvb2dsZS5jb2xhYi5fZmlsZXMgPSB7CiAgX3VwbG9hZEZpbGVzLAogIF91cGxvYWRGaWxlc0NvbnRpbnVlLAp9Owp9KShzZWxmKTsK",
              "ok": true,
              "headers": [
                [
                  "content-type",
                  "application/javascript"
                ]
              ],
              "status": 200,
              "status_text": ""
            }
          },
          "base_uri": "https://localhost:8080/",
          "height": 74
        },
        "id": "k9gMLlCUqnnE",
        "outputId": "9817b772-7016-496f-b575-12dfe1a460ce"
      },
      "execution_count": 2,
      "outputs": [
        {
          "output_type": "display_data",
          "data": {
            "text/plain": [
              "<IPython.core.display.HTML object>"
            ],
            "text/html": [
              "\n",
              "     <input type=\"file\" id=\"files-e0c2e00a-3ada-4581-be1a-1cb642e06ee8\" name=\"files[]\" multiple disabled\n",
              "        style=\"border:none\" />\n",
              "     <output id=\"result-e0c2e00a-3ada-4581-be1a-1cb642e06ee8\">\n",
              "      Upload widget is only available when the cell has been executed in the\n",
              "      current browser session. Please rerun this cell to enable.\n",
              "      </output>\n",
              "      <script src=\"/nbextensions/google.colab/files.js\"></script> "
            ]
          },
          "metadata": {}
        },
        {
          "output_type": "stream",
          "name": "stdout",
          "text": [
            "Saving credit_card_transactions.csv to credit_card_transactions.csv\n"
          ]
        }
      ]
    },
    {
      "cell_type": "code",
      "execution_count": 3,
      "metadata": {
        "colab": {
          "base_uri": "https://localhost:8080/",
          "height": 206
        },
        "id": "0EIhUWj8qiSI",
        "outputId": "276e88cf-7d36-4f10-ee5e-57a7d4a39aa0"
      },
      "outputs": [
        {
          "output_type": "execute_result",
          "data": {
            "text/plain": [
              "   dateMonth  dateWeekday  dateQuarter  operationType     amount  \\\n",
              "0          1            1            1              4     736.76   \n",
              "1          1            1            1              2  256226.20   \n",
              "2          1            1            1              5  310027.49   \n",
              "3          1            1            1              1   76695.35   \n",
              "4          1            1            1              4    4761.57   \n",
              "\n",
              "   oldbalanceOrig  newbalanceOrig  oldbalanceDest  newbalanceDest  isFraud  \n",
              "0         1120.00          383.24            0.00            0.00        0  \n",
              "1            0.00            0.00       518041.64      1305828.01        0  \n",
              "2        61594.00            0.00        10089.00      1157398.83        0  \n",
              "3      9064440.33      9141135.68       880045.33       206147.08        0  \n",
              "4            0.00            0.00            0.00            0.00        0  "
            ],
            "text/html": [
              "\n",
              "  <div id=\"df-82a8ea04-8b67-4b3c-9ac9-fe3ad3cedc99\">\n",
              "    <div class=\"colab-df-container\">\n",
              "      <div>\n",
              "<style scoped>\n",
              "    .dataframe tbody tr th:only-of-type {\n",
              "        vertical-align: middle;\n",
              "    }\n",
              "\n",
              "    .dataframe tbody tr th {\n",
              "        vertical-align: top;\n",
              "    }\n",
              "\n",
              "    .dataframe thead th {\n",
              "        text-align: right;\n",
              "    }\n",
              "</style>\n",
              "<table border=\"1\" class=\"dataframe\">\n",
              "  <thead>\n",
              "    <tr style=\"text-align: right;\">\n",
              "      <th></th>\n",
              "      <th>dateMonth</th>\n",
              "      <th>dateWeekday</th>\n",
              "      <th>dateQuarter</th>\n",
              "      <th>operationType</th>\n",
              "      <th>amount</th>\n",
              "      <th>oldbalanceOrig</th>\n",
              "      <th>newbalanceOrig</th>\n",
              "      <th>oldbalanceDest</th>\n",
              "      <th>newbalanceDest</th>\n",
              "      <th>isFraud</th>\n",
              "    </tr>\n",
              "  </thead>\n",
              "  <tbody>\n",
              "    <tr>\n",
              "      <th>0</th>\n",
              "      <td>1</td>\n",
              "      <td>1</td>\n",
              "      <td>1</td>\n",
              "      <td>4</td>\n",
              "      <td>736.76</td>\n",
              "      <td>1120.00</td>\n",
              "      <td>383.24</td>\n",
              "      <td>0.00</td>\n",
              "      <td>0.00</td>\n",
              "      <td>0</td>\n",
              "    </tr>\n",
              "    <tr>\n",
              "      <th>1</th>\n",
              "      <td>1</td>\n",
              "      <td>1</td>\n",
              "      <td>1</td>\n",
              "      <td>2</td>\n",
              "      <td>256226.20</td>\n",
              "      <td>0.00</td>\n",
              "      <td>0.00</td>\n",
              "      <td>518041.64</td>\n",
              "      <td>1305828.01</td>\n",
              "      <td>0</td>\n",
              "    </tr>\n",
              "    <tr>\n",
              "      <th>2</th>\n",
              "      <td>1</td>\n",
              "      <td>1</td>\n",
              "      <td>1</td>\n",
              "      <td>5</td>\n",
              "      <td>310027.49</td>\n",
              "      <td>61594.00</td>\n",
              "      <td>0.00</td>\n",
              "      <td>10089.00</td>\n",
              "      <td>1157398.83</td>\n",
              "      <td>0</td>\n",
              "    </tr>\n",
              "    <tr>\n",
              "      <th>3</th>\n",
              "      <td>1</td>\n",
              "      <td>1</td>\n",
              "      <td>1</td>\n",
              "      <td>1</td>\n",
              "      <td>76695.35</td>\n",
              "      <td>9064440.33</td>\n",
              "      <td>9141135.68</td>\n",
              "      <td>880045.33</td>\n",
              "      <td>206147.08</td>\n",
              "      <td>0</td>\n",
              "    </tr>\n",
              "    <tr>\n",
              "      <th>4</th>\n",
              "      <td>1</td>\n",
              "      <td>1</td>\n",
              "      <td>1</td>\n",
              "      <td>4</td>\n",
              "      <td>4761.57</td>\n",
              "      <td>0.00</td>\n",
              "      <td>0.00</td>\n",
              "      <td>0.00</td>\n",
              "      <td>0.00</td>\n",
              "      <td>0</td>\n",
              "    </tr>\n",
              "  </tbody>\n",
              "</table>\n",
              "</div>\n",
              "      <button class=\"colab-df-convert\" onclick=\"convertToInteractive('df-82a8ea04-8b67-4b3c-9ac9-fe3ad3cedc99')\"\n",
              "              title=\"Convert this dataframe to an interactive table.\"\n",
              "              style=\"display:none;\">\n",
              "        \n",
              "  <svg xmlns=\"http://www.w3.org/2000/svg\" height=\"24px\"viewBox=\"0 0 24 24\"\n",
              "       width=\"24px\">\n",
              "    <path d=\"M0 0h24v24H0V0z\" fill=\"none\"/>\n",
              "    <path d=\"M18.56 5.44l.94 2.06.94-2.06 2.06-.94-2.06-.94-.94-2.06-.94 2.06-2.06.94zm-11 1L8.5 8.5l.94-2.06 2.06-.94-2.06-.94L8.5 2.5l-.94 2.06-2.06.94zm10 10l.94 2.06.94-2.06 2.06-.94-2.06-.94-.94-2.06-.94 2.06-2.06.94z\"/><path d=\"M17.41 7.96l-1.37-1.37c-.4-.4-.92-.59-1.43-.59-.52 0-1.04.2-1.43.59L10.3 9.45l-7.72 7.72c-.78.78-.78 2.05 0 2.83L4 21.41c.39.39.9.59 1.41.59.51 0 1.02-.2 1.41-.59l7.78-7.78 2.81-2.81c.8-.78.8-2.07 0-2.86zM5.41 20L4 18.59l7.72-7.72 1.47 1.35L5.41 20z\"/>\n",
              "  </svg>\n",
              "      </button>\n",
              "      \n",
              "  <style>\n",
              "    .colab-df-container {\n",
              "      display:flex;\n",
              "      flex-wrap:wrap;\n",
              "      gap: 12px;\n",
              "    }\n",
              "\n",
              "    .colab-df-convert {\n",
              "      background-color: #E8F0FE;\n",
              "      border: none;\n",
              "      border-radius: 50%;\n",
              "      cursor: pointer;\n",
              "      display: none;\n",
              "      fill: #1967D2;\n",
              "      height: 32px;\n",
              "      padding: 0 0 0 0;\n",
              "      width: 32px;\n",
              "    }\n",
              "\n",
              "    .colab-df-convert:hover {\n",
              "      background-color: #E2EBFA;\n",
              "      box-shadow: 0px 1px 2px rgba(60, 64, 67, 0.3), 0px 1px 3px 1px rgba(60, 64, 67, 0.15);\n",
              "      fill: #174EA6;\n",
              "    }\n",
              "\n",
              "    [theme=dark] .colab-df-convert {\n",
              "      background-color: #3B4455;\n",
              "      fill: #D2E3FC;\n",
              "    }\n",
              "\n",
              "    [theme=dark] .colab-df-convert:hover {\n",
              "      background-color: #434B5C;\n",
              "      box-shadow: 0px 1px 3px 1px rgba(0, 0, 0, 0.15);\n",
              "      filter: drop-shadow(0px 1px 2px rgba(0, 0, 0, 0.3));\n",
              "      fill: #FFFFFF;\n",
              "    }\n",
              "  </style>\n",
              "\n",
              "      <script>\n",
              "        const buttonEl =\n",
              "          document.querySelector('#df-82a8ea04-8b67-4b3c-9ac9-fe3ad3cedc99 button.colab-df-convert');\n",
              "        buttonEl.style.display =\n",
              "          google.colab.kernel.accessAllowed ? 'block' : 'none';\n",
              "\n",
              "        async function convertToInteractive(key) {\n",
              "          const element = document.querySelector('#df-82a8ea04-8b67-4b3c-9ac9-fe3ad3cedc99');\n",
              "          const dataTable =\n",
              "            await google.colab.kernel.invokeFunction('convertToInteractive',\n",
              "                                                     [key], {});\n",
              "          if (!dataTable) return;\n",
              "\n",
              "          const docLinkHtml = 'Like what you see? Visit the ' +\n",
              "            '<a target=\"_blank\" href=https://colab.research.google.com/notebooks/data_table.ipynb>data table notebook</a>'\n",
              "            + ' to learn more about interactive tables.';\n",
              "          element.innerHTML = '';\n",
              "          dataTable['output_type'] = 'display_data';\n",
              "          await google.colab.output.renderOutput(dataTable, element);\n",
              "          const docLink = document.createElement('div');\n",
              "          docLink.innerHTML = docLinkHtml;\n",
              "          element.appendChild(docLink);\n",
              "        }\n",
              "      </script>\n",
              "    </div>\n",
              "  </div>\n",
              "  "
            ]
          },
          "metadata": {},
          "execution_count": 3
        }
      ],
      "source": [
        "# Read the credit_card_transactions.csv file from the Resources folder into a Pandas DataFrame\n",
        "cc_transactions_df = pd.read_csv(\"credit_card_transactions.csv\")\n",
        "\n",
        "# Review the DataFrame\n",
        "cc_transactions_df.head()"
      ]
    },
    {
      "cell_type": "markdown",
      "metadata": {
        "id": "rsag1Gu0qiSJ"
      },
      "source": [
        "### Step 2: Create the target set `y` by assigning the values of the “isFraud” column of the DataFrame."
      ]
    },
    {
      "cell_type": "code",
      "execution_count": 4,
      "metadata": {
        "colab": {
          "base_uri": "https://localhost:8080/"
        },
        "id": "WkwtzxsfqiSJ",
        "outputId": "ae89c33e-b90f-435c-8829-21ff71860abc"
      },
      "outputs": [
        {
          "output_type": "execute_result",
          "data": {
            "text/plain": [
              "0    0\n",
              "1    0\n",
              "2    0\n",
              "3    0\n",
              "4    0\n",
              "Name: isFraud, dtype: int64"
            ]
          },
          "metadata": {},
          "execution_count": 4
        }
      ],
      "source": [
        "# Define the target set by selecting the isFraud column\n",
        "y = cc_transactions_df[\"isFraud\"]\n",
        "\n",
        "# Display a sample of y\n",
        "y[:5]"
      ]
    },
    {
      "cell_type": "markdown",
      "metadata": {
        "id": "JtNbHAomqiSK"
      },
      "source": [
        "### Step 3: Define the features set `X` by including all of the columns of the DataFrame except for the “isFraud” column."
      ]
    },
    {
      "cell_type": "code",
      "execution_count": 5,
      "metadata": {
        "colab": {
          "base_uri": "https://localhost:8080/",
          "height": 206
        },
        "id": "osD8V1pHqiSK",
        "outputId": "cf68e17d-3e7d-4001-dff5-fa9ebd912789"
      },
      "outputs": [
        {
          "output_type": "execute_result",
          "data": {
            "text/plain": [
              "   dateMonth  dateWeekday  dateQuarter  operationType     amount  \\\n",
              "0          1            1            1              4     736.76   \n",
              "1          1            1            1              2  256226.20   \n",
              "2          1            1            1              5  310027.49   \n",
              "3          1            1            1              1   76695.35   \n",
              "4          1            1            1              4    4761.57   \n",
              "\n",
              "   oldbalanceOrig  newbalanceOrig  oldbalanceDest  newbalanceDest  \n",
              "0         1120.00          383.24            0.00            0.00  \n",
              "1            0.00            0.00       518041.64      1305828.01  \n",
              "2        61594.00            0.00        10089.00      1157398.83  \n",
              "3      9064440.33      9141135.68       880045.33       206147.08  \n",
              "4            0.00            0.00            0.00            0.00  "
            ],
            "text/html": [
              "\n",
              "  <div id=\"df-2e2cac77-342d-4085-8fb9-22eb0399763a\">\n",
              "    <div class=\"colab-df-container\">\n",
              "      <div>\n",
              "<style scoped>\n",
              "    .dataframe tbody tr th:only-of-type {\n",
              "        vertical-align: middle;\n",
              "    }\n",
              "\n",
              "    .dataframe tbody tr th {\n",
              "        vertical-align: top;\n",
              "    }\n",
              "\n",
              "    .dataframe thead th {\n",
              "        text-align: right;\n",
              "    }\n",
              "</style>\n",
              "<table border=\"1\" class=\"dataframe\">\n",
              "  <thead>\n",
              "    <tr style=\"text-align: right;\">\n",
              "      <th></th>\n",
              "      <th>dateMonth</th>\n",
              "      <th>dateWeekday</th>\n",
              "      <th>dateQuarter</th>\n",
              "      <th>operationType</th>\n",
              "      <th>amount</th>\n",
              "      <th>oldbalanceOrig</th>\n",
              "      <th>newbalanceOrig</th>\n",
              "      <th>oldbalanceDest</th>\n",
              "      <th>newbalanceDest</th>\n",
              "    </tr>\n",
              "  </thead>\n",
              "  <tbody>\n",
              "    <tr>\n",
              "      <th>0</th>\n",
              "      <td>1</td>\n",
              "      <td>1</td>\n",
              "      <td>1</td>\n",
              "      <td>4</td>\n",
              "      <td>736.76</td>\n",
              "      <td>1120.00</td>\n",
              "      <td>383.24</td>\n",
              "      <td>0.00</td>\n",
              "      <td>0.00</td>\n",
              "    </tr>\n",
              "    <tr>\n",
              "      <th>1</th>\n",
              "      <td>1</td>\n",
              "      <td>1</td>\n",
              "      <td>1</td>\n",
              "      <td>2</td>\n",
              "      <td>256226.20</td>\n",
              "      <td>0.00</td>\n",
              "      <td>0.00</td>\n",
              "      <td>518041.64</td>\n",
              "      <td>1305828.01</td>\n",
              "    </tr>\n",
              "    <tr>\n",
              "      <th>2</th>\n",
              "      <td>1</td>\n",
              "      <td>1</td>\n",
              "      <td>1</td>\n",
              "      <td>5</td>\n",
              "      <td>310027.49</td>\n",
              "      <td>61594.00</td>\n",
              "      <td>0.00</td>\n",
              "      <td>10089.00</td>\n",
              "      <td>1157398.83</td>\n",
              "    </tr>\n",
              "    <tr>\n",
              "      <th>3</th>\n",
              "      <td>1</td>\n",
              "      <td>1</td>\n",
              "      <td>1</td>\n",
              "      <td>1</td>\n",
              "      <td>76695.35</td>\n",
              "      <td>9064440.33</td>\n",
              "      <td>9141135.68</td>\n",
              "      <td>880045.33</td>\n",
              "      <td>206147.08</td>\n",
              "    </tr>\n",
              "    <tr>\n",
              "      <th>4</th>\n",
              "      <td>1</td>\n",
              "      <td>1</td>\n",
              "      <td>1</td>\n",
              "      <td>4</td>\n",
              "      <td>4761.57</td>\n",
              "      <td>0.00</td>\n",
              "      <td>0.00</td>\n",
              "      <td>0.00</td>\n",
              "      <td>0.00</td>\n",
              "    </tr>\n",
              "  </tbody>\n",
              "</table>\n",
              "</div>\n",
              "      <button class=\"colab-df-convert\" onclick=\"convertToInteractive('df-2e2cac77-342d-4085-8fb9-22eb0399763a')\"\n",
              "              title=\"Convert this dataframe to an interactive table.\"\n",
              "              style=\"display:none;\">\n",
              "        \n",
              "  <svg xmlns=\"http://www.w3.org/2000/svg\" height=\"24px\"viewBox=\"0 0 24 24\"\n",
              "       width=\"24px\">\n",
              "    <path d=\"M0 0h24v24H0V0z\" fill=\"none\"/>\n",
              "    <path d=\"M18.56 5.44l.94 2.06.94-2.06 2.06-.94-2.06-.94-.94-2.06-.94 2.06-2.06.94zm-11 1L8.5 8.5l.94-2.06 2.06-.94-2.06-.94L8.5 2.5l-.94 2.06-2.06.94zm10 10l.94 2.06.94-2.06 2.06-.94-2.06-.94-.94-2.06-.94 2.06-2.06.94z\"/><path d=\"M17.41 7.96l-1.37-1.37c-.4-.4-.92-.59-1.43-.59-.52 0-1.04.2-1.43.59L10.3 9.45l-7.72 7.72c-.78.78-.78 2.05 0 2.83L4 21.41c.39.39.9.59 1.41.59.51 0 1.02-.2 1.41-.59l7.78-7.78 2.81-2.81c.8-.78.8-2.07 0-2.86zM5.41 20L4 18.59l7.72-7.72 1.47 1.35L5.41 20z\"/>\n",
              "  </svg>\n",
              "      </button>\n",
              "      \n",
              "  <style>\n",
              "    .colab-df-container {\n",
              "      display:flex;\n",
              "      flex-wrap:wrap;\n",
              "      gap: 12px;\n",
              "    }\n",
              "\n",
              "    .colab-df-convert {\n",
              "      background-color: #E8F0FE;\n",
              "      border: none;\n",
              "      border-radius: 50%;\n",
              "      cursor: pointer;\n",
              "      display: none;\n",
              "      fill: #1967D2;\n",
              "      height: 32px;\n",
              "      padding: 0 0 0 0;\n",
              "      width: 32px;\n",
              "    }\n",
              "\n",
              "    .colab-df-convert:hover {\n",
              "      background-color: #E2EBFA;\n",
              "      box-shadow: 0px 1px 2px rgba(60, 64, 67, 0.3), 0px 1px 3px 1px rgba(60, 64, 67, 0.15);\n",
              "      fill: #174EA6;\n",
              "    }\n",
              "\n",
              "    [theme=dark] .colab-df-convert {\n",
              "      background-color: #3B4455;\n",
              "      fill: #D2E3FC;\n",
              "    }\n",
              "\n",
              "    [theme=dark] .colab-df-convert:hover {\n",
              "      background-color: #434B5C;\n",
              "      box-shadow: 0px 1px 3px 1px rgba(0, 0, 0, 0.15);\n",
              "      filter: drop-shadow(0px 1px 2px rgba(0, 0, 0, 0.3));\n",
              "      fill: #FFFFFF;\n",
              "    }\n",
              "  </style>\n",
              "\n",
              "      <script>\n",
              "        const buttonEl =\n",
              "          document.querySelector('#df-2e2cac77-342d-4085-8fb9-22eb0399763a button.colab-df-convert');\n",
              "        buttonEl.style.display =\n",
              "          google.colab.kernel.accessAllowed ? 'block' : 'none';\n",
              "\n",
              "        async function convertToInteractive(key) {\n",
              "          const element = document.querySelector('#df-2e2cac77-342d-4085-8fb9-22eb0399763a');\n",
              "          const dataTable =\n",
              "            await google.colab.kernel.invokeFunction('convertToInteractive',\n",
              "                                                     [key], {});\n",
              "          if (!dataTable) return;\n",
              "\n",
              "          const docLinkHtml = 'Like what you see? Visit the ' +\n",
              "            '<a target=\"_blank\" href=https://colab.research.google.com/notebooks/data_table.ipynb>data table notebook</a>'\n",
              "            + ' to learn more about interactive tables.';\n",
              "          element.innerHTML = '';\n",
              "          dataTable['output_type'] = 'display_data';\n",
              "          await google.colab.output.renderOutput(dataTable, element);\n",
              "          const docLink = document.createElement('div');\n",
              "          docLink.innerHTML = docLinkHtml;\n",
              "          element.appendChild(docLink);\n",
              "        }\n",
              "      </script>\n",
              "    </div>\n",
              "  </div>\n",
              "  "
            ]
          },
          "metadata": {},
          "execution_count": 5
        }
      ],
      "source": [
        "# Define features set X by selecting all columns but the isFraud\n",
        "X = cc_transactions_df.drop(columns=[\"isFraud\"])\n",
        "\n",
        "# Display the features DataFrame\n",
        "X.head()"
      ]
    },
    {
      "cell_type": "markdown",
      "metadata": {
        "id": "9S9qsT_mqiSL"
      },
      "source": [
        "### Step 4: Create the training and testing sets using the `train_test_split` function from scikit-learn."
      ]
    },
    {
      "cell_type": "code",
      "execution_count": 6,
      "metadata": {
        "id": "kpH_FDIxqiSL"
      },
      "outputs": [],
      "source": [
        "# Create training and testing datasets using train_teat_split\n",
        "# Assign the function a random_state equal to 1\n",
        "X_train, X_test, y_train, y_test = train_test_split(X, y, random_state=1)"
      ]
    },
    {
      "cell_type": "markdown",
      "metadata": {
        "id": "18Ntg0_LqiSL"
      },
      "source": [
        "### Step 5:  Scale the features data using the `StandardScaler` from scikit-learn."
      ]
    },
    {
      "cell_type": "code",
      "execution_count": 7,
      "metadata": {
        "id": "efr2FbQvqiSM"
      },
      "outputs": [],
      "source": [
        "# Create the StandardScaler instance\n",
        "X_scaler = StandardScaler()"
      ]
    },
    {
      "cell_type": "code",
      "execution_count": 8,
      "metadata": {
        "colab": {
          "base_uri": "https://localhost:8080/"
        },
        "id": "_e8_sLNtqiSM",
        "outputId": "9ad07992-dbcb-466d-87b8-56e78d23705b"
      },
      "outputs": [
        {
          "output_type": "execute_result",
          "data": {
            "text/plain": [
              "StandardScaler()"
            ]
          },
          "metadata": {},
          "execution_count": 8
        }
      ],
      "source": [
        "# Fit the scaler to the features training dataset\n",
        "X_scaler.fit(X_train)"
      ]
    },
    {
      "cell_type": "code",
      "execution_count": 9,
      "metadata": {
        "id": "aqA0fENTqiSM"
      },
      "outputs": [],
      "source": [
        "# Scale both the training and testing data from the features dataset\n",
        "X_train_scaled = X_scaler.transform(X_train)\n",
        "X_test_scaled = X_scaler.transform(X_test)"
      ]
    },
    {
      "cell_type": "markdown",
      "metadata": {
        "id": "vEJ8V-lfqiSM"
      },
      "source": [
        "---\n",
        "\n",
        "## Create and Evaluate a Deep Neural Network Model"
      ]
    },
    {
      "cell_type": "markdown",
      "metadata": {
        "id": "a5gpMOPeqiSN"
      },
      "source": [
        "### Step 1: Create a deep neural network model with the following structure:\n",
        "\n",
        "    * 9 inputs\n",
        "    * First hidden layer with 18 neurons\n",
        "    * Second hidden layer with 8 neurons\n",
        "    * Output layer with a single output\n",
        "    * Hidden layers use the ReLU activation function, and output layer uses the sigmoid activation function\n"
      ]
    },
    {
      "cell_type": "code",
      "execution_count": 10,
      "metadata": {
        "id": "MjabUzZhqiSN"
      },
      "outputs": [],
      "source": [
        "# Define the the number of inputs to the model\n",
        "number_inputs = 9\n",
        "\n",
        "# Define the number of hidden nodes for the first hidden layer\n",
        "hidden_nodes_layer1 = 18\n",
        "\n",
        "# Define the number of hidden nodes for the second hidden layer\n",
        "hidden_nodes_layer2 = 8\n",
        "\n",
        "# Create the Sequential model instance\n",
        "nn = Sequential()\n",
        "\n",
        "# Add the first Dense layer specifying the number of inputs, the number of hidden nodes, and the activation function\n",
        "nn.add(Dense(units=hidden_nodes_layer1, input_dim=number_inputs, activation=\"relu\"))\n",
        "\n",
        "# Add the second Dense layer specifying the number of hidden nodes and the activation function\n",
        "nn.add(Dense(units=hidden_nodes_layer2, activation=\"relu\"))\n",
        "\n",
        "# Add the output layer to the model specifying the number of output neurons and activation function\n",
        "nn.add(Dense(1, activation=\"sigmoid\"))"
      ]
    },
    {
      "cell_type": "markdown",
      "metadata": {
        "id": "FcW3Cah8qiSN"
      },
      "source": [
        "### Step 2. Display the model structure using the `summary` function."
      ]
    },
    {
      "cell_type": "code",
      "execution_count": 11,
      "metadata": {
        "colab": {
          "base_uri": "https://localhost:8080/"
        },
        "id": "A9uZaZhIqiSO",
        "outputId": "8eb49b5d-1a2e-43aa-b032-07cdc667c2de"
      },
      "outputs": [
        {
          "output_type": "stream",
          "name": "stdout",
          "text": [
            "Model: \"sequential\"\n",
            "_________________________________________________________________\n",
            " Layer (type)                Output Shape              Param #   \n",
            "=================================================================\n",
            " dense (Dense)               (None, 18)                180       \n",
            "                                                                 \n",
            " dense_1 (Dense)             (None, 8)                 152       \n",
            "                                                                 \n",
            " dense_2 (Dense)             (None, 1)                 9         \n",
            "                                                                 \n",
            "=================================================================\n",
            "Total params: 341\n",
            "Trainable params: 341\n",
            "Non-trainable params: 0\n",
            "_________________________________________________________________\n"
          ]
        }
      ],
      "source": [
        "# Display the Sequential model summary\n",
        "nn.summary()"
      ]
    },
    {
      "cell_type": "markdown",
      "metadata": {
        "id": "-r_7AdfaqiSO"
      },
      "source": [
        "### Step 3: Compile the neural network model using the `binary_crossentropy` loss function, the `adam` optimizer, and `accuracy` as an additional metric."
      ]
    },
    {
      "cell_type": "code",
      "execution_count": 12,
      "metadata": {
        "id": "RXUkXGakqiSP"
      },
      "outputs": [],
      "source": [
        "# Compile the Sequential model\n",
        "nn.compile(loss=\"binary_crossentropy\", optimizer=\"adam\", metrics=[\"accuracy\"])"
      ]
    },
    {
      "cell_type": "markdown",
      "metadata": {
        "id": "QmRShcvLqiSP"
      },
      "source": [
        "### Step 4: Fit the model with the training data, using 100 epochs."
      ]
    },
    {
      "cell_type": "code",
      "execution_count": 13,
      "metadata": {
        "colab": {
          "base_uri": "https://localhost:8080/"
        },
        "id": "9vmS22_2qiSP",
        "outputId": "c6da5838-bd24-4352-87eb-9670a01aa808"
      },
      "outputs": [
        {
          "output_type": "stream",
          "name": "stdout",
          "text": [
            "Epoch 1/100\n",
            "2344/2344 [==============================] - 5s 2ms/step - loss: 0.0427 - accuracy: 0.9898\n",
            "Epoch 2/100\n",
            "2344/2344 [==============================] - 4s 2ms/step - loss: 0.0094 - accuracy: 0.9988\n",
            "Epoch 3/100\n",
            "2344/2344 [==============================] - 4s 2ms/step - loss: 0.0088 - accuracy: 0.9988\n",
            "Epoch 4/100\n",
            "2344/2344 [==============================] - 4s 2ms/step - loss: 0.0085 - accuracy: 0.9989\n",
            "Epoch 5/100\n",
            "2344/2344 [==============================] - 4s 2ms/step - loss: 0.0083 - accuracy: 0.9989\n",
            "Epoch 6/100\n",
            "2344/2344 [==============================] - 4s 2ms/step - loss: 0.0081 - accuracy: 0.9989\n",
            "Epoch 7/100\n",
            "2344/2344 [==============================] - 4s 2ms/step - loss: 0.0080 - accuracy: 0.9989\n",
            "Epoch 8/100\n",
            "2344/2344 [==============================] - 4s 2ms/step - loss: 0.0078 - accuracy: 0.9989\n",
            "Epoch 9/100\n",
            "2344/2344 [==============================] - 4s 2ms/step - loss: 0.0077 - accuracy: 0.9989\n",
            "Epoch 10/100\n",
            "2344/2344 [==============================] - 4s 2ms/step - loss: 0.0075 - accuracy: 0.9989\n",
            "Epoch 11/100\n",
            "2344/2344 [==============================] - 4s 2ms/step - loss: 0.0073 - accuracy: 0.9989\n",
            "Epoch 12/100\n",
            "2344/2344 [==============================] - 4s 2ms/step - loss: 0.0071 - accuracy: 0.9989\n",
            "Epoch 13/100\n",
            "2344/2344 [==============================] - 4s 2ms/step - loss: 0.0068 - accuracy: 0.9989\n",
            "Epoch 14/100\n",
            "2344/2344 [==============================] - 4s 2ms/step - loss: 0.0066 - accuracy: 0.9989\n",
            "Epoch 15/100\n",
            "2344/2344 [==============================] - 4s 2ms/step - loss: 0.0063 - accuracy: 0.9989\n",
            "Epoch 16/100\n",
            "2344/2344 [==============================] - 4s 2ms/step - loss: 0.0062 - accuracy: 0.9989\n",
            "Epoch 17/100\n",
            "2344/2344 [==============================] - 4s 2ms/step - loss: 0.0060 - accuracy: 0.9989\n",
            "Epoch 18/100\n",
            "2344/2344 [==============================] - 4s 2ms/step - loss: 0.0058 - accuracy: 0.9989\n",
            "Epoch 19/100\n",
            "2344/2344 [==============================] - 4s 2ms/step - loss: 0.0056 - accuracy: 0.9990\n",
            "Epoch 20/100\n",
            "2344/2344 [==============================] - 4s 2ms/step - loss: 0.0056 - accuracy: 0.9990\n",
            "Epoch 21/100\n",
            "2344/2344 [==============================] - 5s 2ms/step - loss: 0.0056 - accuracy: 0.9990\n",
            "Epoch 22/100\n",
            "2344/2344 [==============================] - 4s 2ms/step - loss: 0.0055 - accuracy: 0.9990\n",
            "Epoch 23/100\n",
            "2344/2344 [==============================] - 4s 2ms/step - loss: 0.0053 - accuracy: 0.9990\n",
            "Epoch 24/100\n",
            "2344/2344 [==============================] - 4s 2ms/step - loss: 0.0054 - accuracy: 0.9989\n",
            "Epoch 25/100\n",
            "2344/2344 [==============================] - 4s 2ms/step - loss: 0.0053 - accuracy: 0.9990\n",
            "Epoch 26/100\n",
            "2344/2344 [==============================] - 4s 2ms/step - loss: 0.0053 - accuracy: 0.9990\n",
            "Epoch 27/100\n",
            "2344/2344 [==============================] - 4s 2ms/step - loss: 0.0053 - accuracy: 0.9990\n",
            "Epoch 28/100\n",
            "2344/2344 [==============================] - 4s 2ms/step - loss: 0.0052 - accuracy: 0.9990\n",
            "Epoch 29/100\n",
            "2344/2344 [==============================] - 5s 2ms/step - loss: 0.0052 - accuracy: 0.9990\n",
            "Epoch 30/100\n",
            "2344/2344 [==============================] - 4s 2ms/step - loss: 0.0051 - accuracy: 0.9990\n",
            "Epoch 31/100\n",
            "2344/2344 [==============================] - 4s 2ms/step - loss: 0.0052 - accuracy: 0.9990\n",
            "Epoch 32/100\n",
            "2344/2344 [==============================] - 4s 2ms/step - loss: 0.0051 - accuracy: 0.9990\n",
            "Epoch 33/100\n",
            "2344/2344 [==============================] - 4s 2ms/step - loss: 0.0051 - accuracy: 0.9990\n",
            "Epoch 34/100\n",
            "2344/2344 [==============================] - 4s 2ms/step - loss: 0.0051 - accuracy: 0.9990\n",
            "Epoch 35/100\n",
            "2344/2344 [==============================] - 4s 2ms/step - loss: 0.0050 - accuracy: 0.9990\n",
            "Epoch 36/100\n",
            "2344/2344 [==============================] - 4s 2ms/step - loss: 0.0051 - accuracy: 0.9990\n",
            "Epoch 37/100\n",
            "2344/2344 [==============================] - 4s 2ms/step - loss: 0.0051 - accuracy: 0.9990\n",
            "Epoch 38/100\n",
            "2344/2344 [==============================] - 4s 2ms/step - loss: 0.0050 - accuracy: 0.9990\n",
            "Epoch 39/100\n",
            "2344/2344 [==============================] - 4s 2ms/step - loss: 0.0049 - accuracy: 0.9990\n",
            "Epoch 40/100\n",
            "2344/2344 [==============================] - 4s 2ms/step - loss: 0.0050 - accuracy: 0.9990\n",
            "Epoch 41/100\n",
            "2344/2344 [==============================] - 4s 2ms/step - loss: 0.0050 - accuracy: 0.9990\n",
            "Epoch 42/100\n",
            "2344/2344 [==============================] - 4s 2ms/step - loss: 0.0049 - accuracy: 0.9990\n",
            "Epoch 43/100\n",
            "2344/2344 [==============================] - 5s 2ms/step - loss: 0.0049 - accuracy: 0.9990\n",
            "Epoch 44/100\n",
            "2344/2344 [==============================] - 4s 2ms/step - loss: 0.0050 - accuracy: 0.9990\n",
            "Epoch 45/100\n",
            "2344/2344 [==============================] - 5s 2ms/step - loss: 0.0050 - accuracy: 0.9990\n",
            "Epoch 46/100\n",
            "2344/2344 [==============================] - 5s 2ms/step - loss: 0.0048 - accuracy: 0.9990\n",
            "Epoch 47/100\n",
            "2344/2344 [==============================] - 5s 2ms/step - loss: 0.0050 - accuracy: 0.9990\n",
            "Epoch 48/100\n",
            "2344/2344 [==============================] - 5s 2ms/step - loss: 0.0048 - accuracy: 0.9990\n",
            "Epoch 49/100\n",
            "2344/2344 [==============================] - 5s 2ms/step - loss: 0.0049 - accuracy: 0.9990\n",
            "Epoch 50/100\n",
            "2344/2344 [==============================] - 4s 2ms/step - loss: 0.0049 - accuracy: 0.9990\n",
            "Epoch 51/100\n",
            "2344/2344 [==============================] - 5s 2ms/step - loss: 0.0049 - accuracy: 0.9990\n",
            "Epoch 52/100\n",
            "2344/2344 [==============================] - 4s 2ms/step - loss: 0.0048 - accuracy: 0.9990\n",
            "Epoch 53/100\n",
            "2344/2344 [==============================] - 5s 2ms/step - loss: 0.0049 - accuracy: 0.9990\n",
            "Epoch 54/100\n",
            "2344/2344 [==============================] - 4s 2ms/step - loss: 0.0048 - accuracy: 0.9990\n",
            "Epoch 55/100\n",
            "2344/2344 [==============================] - 5s 2ms/step - loss: 0.0049 - accuracy: 0.9990\n",
            "Epoch 56/100\n",
            "2344/2344 [==============================] - 4s 2ms/step - loss: 0.0048 - accuracy: 0.9990\n",
            "Epoch 57/100\n",
            "2344/2344 [==============================] - 4s 2ms/step - loss: 0.0048 - accuracy: 0.9990\n",
            "Epoch 58/100\n",
            "2344/2344 [==============================] - 4s 2ms/step - loss: 0.0049 - accuracy: 0.9990\n",
            "Epoch 59/100\n",
            "2344/2344 [==============================] - 4s 2ms/step - loss: 0.0049 - accuracy: 0.9990\n",
            "Epoch 60/100\n",
            "2344/2344 [==============================] - 4s 2ms/step - loss: 0.0047 - accuracy: 0.9990\n",
            "Epoch 61/100\n",
            "2344/2344 [==============================] - 4s 2ms/step - loss: 0.0048 - accuracy: 0.9990\n",
            "Epoch 62/100\n",
            "2344/2344 [==============================] - 5s 2ms/step - loss: 0.0048 - accuracy: 0.9990\n",
            "Epoch 63/100\n",
            "2344/2344 [==============================] - 4s 2ms/step - loss: 0.0048 - accuracy: 0.9990\n",
            "Epoch 64/100\n",
            "2344/2344 [==============================] - 4s 2ms/step - loss: 0.0048 - accuracy: 0.9990\n",
            "Epoch 65/100\n",
            "2344/2344 [==============================] - 4s 2ms/step - loss: 0.0047 - accuracy: 0.9990\n",
            "Epoch 66/100\n",
            "2344/2344 [==============================] - 4s 2ms/step - loss: 0.0047 - accuracy: 0.9990\n",
            "Epoch 67/100\n",
            "2344/2344 [==============================] - 4s 2ms/step - loss: 0.0046 - accuracy: 0.9990\n",
            "Epoch 68/100\n",
            "2344/2344 [==============================] - 4s 2ms/step - loss: 0.0047 - accuracy: 0.9990\n",
            "Epoch 69/100\n",
            "2344/2344 [==============================] - 4s 2ms/step - loss: 0.0048 - accuracy: 0.9990\n",
            "Epoch 70/100\n",
            "2344/2344 [==============================] - 4s 2ms/step - loss: 0.0047 - accuracy: 0.9990\n",
            "Epoch 71/100\n",
            "2344/2344 [==============================] - 4s 2ms/step - loss: 0.0046 - accuracy: 0.9990\n",
            "Epoch 72/100\n",
            "2344/2344 [==============================] - 4s 2ms/step - loss: 0.0049 - accuracy: 0.9991\n",
            "Epoch 73/100\n",
            "2344/2344 [==============================] - 4s 2ms/step - loss: 0.0045 - accuracy: 0.9990\n",
            "Epoch 74/100\n",
            "2344/2344 [==============================] - 4s 2ms/step - loss: 0.0047 - accuracy: 0.9990\n",
            "Epoch 75/100\n",
            "2344/2344 [==============================] - 4s 2ms/step - loss: 0.0046 - accuracy: 0.9990\n",
            "Epoch 76/100\n",
            "2344/2344 [==============================] - 4s 2ms/step - loss: 0.0046 - accuracy: 0.9990\n",
            "Epoch 77/100\n",
            "2344/2344 [==============================] - 4s 2ms/step - loss: 0.0047 - accuracy: 0.9990\n",
            "Epoch 78/100\n",
            "2344/2344 [==============================] - 4s 2ms/step - loss: 0.0046 - accuracy: 0.9990\n",
            "Epoch 79/100\n",
            "2344/2344 [==============================] - 4s 2ms/step - loss: 0.0047 - accuracy: 0.9990\n",
            "Epoch 80/100\n",
            "2344/2344 [==============================] - 4s 2ms/step - loss: 0.0046 - accuracy: 0.9990\n",
            "Epoch 81/100\n",
            "2344/2344 [==============================] - 5s 2ms/step - loss: 0.0046 - accuracy: 0.9990\n",
            "Epoch 82/100\n",
            "2344/2344 [==============================] - 4s 2ms/step - loss: 0.0045 - accuracy: 0.9990\n",
            "Epoch 83/100\n",
            "2344/2344 [==============================] - 4s 2ms/step - loss: 0.0046 - accuracy: 0.9990\n",
            "Epoch 84/100\n",
            "2344/2344 [==============================] - 4s 2ms/step - loss: 0.0046 - accuracy: 0.9990\n",
            "Epoch 85/100\n",
            "2344/2344 [==============================] - 4s 2ms/step - loss: 0.0046 - accuracy: 0.9990\n",
            "Epoch 86/100\n",
            "2344/2344 [==============================] - 5s 2ms/step - loss: 0.0046 - accuracy: 0.9990\n",
            "Epoch 87/100\n",
            "2344/2344 [==============================] - 4s 2ms/step - loss: 0.0046 - accuracy: 0.9991\n",
            "Epoch 88/100\n",
            "2344/2344 [==============================] - 4s 2ms/step - loss: 0.0047 - accuracy: 0.9990\n",
            "Epoch 89/100\n",
            "2344/2344 [==============================] - 4s 2ms/step - loss: 0.0045 - accuracy: 0.9990\n",
            "Epoch 90/100\n",
            "2344/2344 [==============================] - 5s 2ms/step - loss: 0.0047 - accuracy: 0.9990\n",
            "Epoch 91/100\n",
            "2344/2344 [==============================] - 5s 2ms/step - loss: 0.0046 - accuracy: 0.9990\n",
            "Epoch 92/100\n",
            "2344/2344 [==============================] - 4s 2ms/step - loss: 0.0046 - accuracy: 0.9990\n",
            "Epoch 93/100\n",
            "2344/2344 [==============================] - 4s 2ms/step - loss: 0.0046 - accuracy: 0.9990\n",
            "Epoch 94/100\n",
            "2344/2344 [==============================] - 4s 2ms/step - loss: 0.0046 - accuracy: 0.9990\n",
            "Epoch 95/100\n",
            "2344/2344 [==============================] - 4s 2ms/step - loss: 0.0046 - accuracy: 0.9990\n",
            "Epoch 96/100\n",
            "2344/2344 [==============================] - 4s 2ms/step - loss: 0.0047 - accuracy: 0.9990\n",
            "Epoch 97/100\n",
            "2344/2344 [==============================] - 5s 2ms/step - loss: 0.0045 - accuracy: 0.9990\n",
            "Epoch 98/100\n",
            "2344/2344 [==============================] - 4s 2ms/step - loss: 0.0046 - accuracy: 0.9990\n",
            "Epoch 99/100\n",
            "2344/2344 [==============================] - 4s 2ms/step - loss: 0.0045 - accuracy: 0.9990\n",
            "Epoch 100/100\n",
            "2344/2344 [==============================] - 5s 2ms/step - loss: 0.0046 - accuracy: 0.9990\n"
          ]
        }
      ],
      "source": [
        "# Fit the model using 100 epochs and the training data\n",
        "model = nn.fit(X_train_scaled, y_train, epochs=100)"
      ]
    },
    {
      "cell_type": "markdown",
      "metadata": {
        "id": "dsIEmKt7qiSP"
      },
      "source": [
        "### Step 5: Evaluate the model using testing data and the `evaluate` method."
      ]
    },
    {
      "cell_type": "code",
      "execution_count": 14,
      "metadata": {
        "colab": {
          "base_uri": "https://localhost:8080/"
        },
        "id": "HaYLxXAZqiSQ",
        "outputId": "fc69dbff-d90d-48f7-b355-d63eaf510018"
      },
      "outputs": [
        {
          "output_type": "stream",
          "name": "stdout",
          "text": [
            "782/782 - 1s - loss: 0.0064 - accuracy: 0.9988 - 1s/epoch - 1ms/step\n",
            "Loss: 0.006394528318196535, Accuracy: 0.9988399744033813\n"
          ]
        }
      ],
      "source": [
        "# Evaluate the model loss and accuracy metrics using the evaluate method and the test data\n",
        "model_loss, model_accuracy = nn.evaluate(X_test_scaled, y_test, verbose=2)\n",
        "\n",
        "# Display the evaluation results\n",
        "print(f\"Loss: {model_loss}, Accuracy: {model_accuracy}\")"
      ]
    },
    {
      "cell_type": "code",
      "execution_count": 14,
      "metadata": {
        "id": "P6hPYh44qiSQ"
      },
      "outputs": [],
      "source": [
        ""
      ]
    }
  ],
  "metadata": {
    "kernelspec": {
      "display_name": "Python 3 (ipykernel)",
      "language": "python",
      "name": "python3"
    },
    "language_info": {
      "codemirror_mode": {
        "name": "ipython",
        "version": 3
      },
      "file_extension": ".py",
      "mimetype": "text/x-python",
      "name": "python",
      "nbconvert_exporter": "python",
      "pygments_lexer": "ipython3",
      "version": "3.8.11"
    },
    "colab": {
      "name": "Colab_fraudulent_transactions.ipynb",
      "provenance": []
    }
  },
  "nbformat": 4,
  "nbformat_minor": 0
}