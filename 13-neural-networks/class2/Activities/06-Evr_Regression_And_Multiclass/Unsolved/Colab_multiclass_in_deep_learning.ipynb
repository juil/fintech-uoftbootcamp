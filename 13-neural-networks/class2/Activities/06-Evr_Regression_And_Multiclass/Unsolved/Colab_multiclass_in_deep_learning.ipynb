{
 "cells": [
  {
   "cell_type": "markdown",
   "id": "8a552be4",
   "metadata": {},
   "source": [
    "# Multiclass Prediction in Deep Learning Models"
   ]
  },
  {
   "cell_type": "markdown",
   "id": "35602e50",
   "metadata": {},
   "source": [
    "## Read in the Data"
   ]
  },
  {
   "cell_type": "code",
   "execution_count": 1,
   "id": "038c919a",
   "metadata": {},
   "outputs": [],
   "source": [
    "# Import required packages"
   ]
  },
  {
   "cell_type": "code",
   "execution_count": 3,
   "id": "322048df",
   "metadata": {},
   "outputs": [],
   "source": [
    "# Upload in the data\n",
    "from google.colab import files\n",
    "uploaded = files.upload()"
   ]
  },
  {
   "cell_type": "code",
   "execution_count": null,
   "id": "5837a6e9",
   "metadata": {},
   "outputs": [],
   "source": [
    "# Read the data into a Dataframe\n",
    "df = pd.read_csv('meet_or_beat.csv')"
   ]
  },
  {
   "cell_type": "code",
   "execution_count": 1,
   "id": "70ff1285",
   "metadata": {},
   "outputs": [],
   "source": [
    "# Check dataset size"
   ]
  },
  {
   "cell_type": "code",
   "execution_count": 2,
   "id": "312b3afd",
   "metadata": {},
   "outputs": [],
   "source": [
    "# Preview dataframe"
   ]
  },
  {
   "cell_type": "markdown",
   "id": "fae1c189",
   "metadata": {},
   "source": [
    "## Preparing the Data"
   ]
  },
  {
   "cell_type": "code",
   "execution_count": 4,
   "id": "c9dd1da4",
   "metadata": {},
   "outputs": [],
   "source": [
    "# Generate the categorical outcome variable"
   ]
  },
  {
   "cell_type": "code",
   "execution_count": 5,
   "id": "1e7d9653",
   "metadata": {},
   "outputs": [],
   "source": [
    "# Preview the output variable "
   ]
  },
  {
   "cell_type": "code",
   "execution_count": 6,
   "id": "d773c015",
   "metadata": {},
   "outputs": [],
   "source": [
    "# Encode earnings labels to integers"
   ]
  },
  {
   "cell_type": "code",
   "execution_count": 7,
   "id": "306f47d7",
   "metadata": {},
   "outputs": [],
   "source": [
    "# Save the unique number of labels for future use"
   ]
  },
  {
   "cell_type": "code",
   "execution_count": 8,
   "id": "c4512446",
   "metadata": {},
   "outputs": [],
   "source": [
    "# Convert labeled integers to a Keras `categorical` data type"
   ]
  },
  {
   "cell_type": "code",
   "execution_count": 9,
   "id": "8085ae8a",
   "metadata": {},
   "outputs": [],
   "source": [
    "# Specify X (predictor) variables"
   ]
  },
  {
   "cell_type": "code",
   "execution_count": 10,
   "id": "be22b90d",
   "metadata": {},
   "outputs": [],
   "source": [
    "# Split into training and testing windows"
   ]
  },
  {
   "cell_type": "code",
   "execution_count": 11,
   "id": "2ce7e477",
   "metadata": {},
   "outputs": [],
   "source": [
    "# Preview the encoded data we're trying to predict"
   ]
  },
  {
   "cell_type": "code",
   "execution_count": 12,
   "id": "5ef48afd",
   "metadata": {},
   "outputs": [],
   "source": [
    "# Check for class balance"
   ]
  },
  {
   "cell_type": "code",
   "execution_count": 13,
   "id": "ec0c8fde",
   "metadata": {},
   "outputs": [],
   "source": [
    "# Save the count of unique predictor variables for use in model"
   ]
  },
  {
   "cell_type": "markdown",
   "id": "8ae85fb7",
   "metadata": {},
   "source": [
    "## Building, Fitting and Predicting with Multiple Classes"
   ]
  },
  {
   "cell_type": "code",
   "execution_count": 14,
   "id": "03388619",
   "metadata": {},
   "outputs": [],
   "source": [
    "# Build the neural network layers"
   ]
  },
  {
   "cell_type": "code",
   "execution_count": 15,
   "id": "13d03f72",
   "metadata": {},
   "outputs": [],
   "source": [
    "# Add the final output layer\n",
    "# With the # of possible outputs equal to the number classes "
   ]
  },
  {
   "cell_type": "code",
   "execution_count": 16,
   "id": "04e990e4",
   "metadata": {},
   "outputs": [],
   "source": [
    "# Compile the model (with multi-class specific parameters)"
   ]
  },
  {
   "cell_type": "code",
   "execution_count": 17,
   "id": "be2b30af",
   "metadata": {},
   "outputs": [],
   "source": [
    "# Summarise the structure of the model"
   ]
  },
  {
   "cell_type": "code",
   "execution_count": 18,
   "id": "bc04be47",
   "metadata": {},
   "outputs": [],
   "source": [
    "# Fit the model"
   ]
  },
  {
   "cell_type": "code",
   "execution_count": 19,
   "id": "86f5dfc0",
   "metadata": {},
   "outputs": [],
   "source": [
    "# Evaluate model on the test data"
   ]
  },
  {
   "cell_type": "code",
   "execution_count": 20,
   "id": "c9b5e361",
   "metadata": {
    "scrolled": true
   },
   "outputs": [],
   "source": [
    "# Save predictions on the test data"
   ]
  },
  {
   "cell_type": "code",
   "execution_count": 21,
   "id": "abf270f9",
   "metadata": {},
   "outputs": [],
   "source": [
    "# Get the most likely prediction for each observation"
   ]
  },
  {
   "cell_type": "code",
   "execution_count": 22,
   "id": "fd386959",
   "metadata": {},
   "outputs": [],
   "source": [
    "# Convert most likely category back to original labels"
   ]
  },
  {
   "cell_type": "code",
   "execution_count": 23,
   "id": "e2589f7f",
   "metadata": {},
   "outputs": [],
   "source": [
    "# Evaluate prediction balance"
   ]
  }
 ],
 "metadata": {
  "kernelspec": {
   "display_name": "Python 3 (ipykernel)",
   "language": "python",
   "name": "python3"
  },
  "language_info": {
   "codemirror_mode": {
    "name": "ipython",
    "version": 3
   },
   "file_extension": ".py",
   "mimetype": "text/x-python",
   "name": "python",
   "nbconvert_exporter": "python",
   "pygments_lexer": "ipython3",
   "version": "3.8.11"
  }
 },
 "nbformat": 4,
 "nbformat_minor": 5
}
