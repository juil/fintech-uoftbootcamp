{
  "cells": [
    {
      "cell_type": "markdown",
      "metadata": {
        "id": "IC1Omm_yx-GN"
      },
      "source": [
        "# Instructor Do: Intro to the ROC Curve and AUC\n",
        "\n",
        "In this activity, students will learn how to measure the performance of a binary classification model by fetching metrics from Keras, as well as plotting and interpreting the ROC curve and AUC."
      ]
    },
    {
      "cell_type": "code",
      "execution_count": 1,
      "metadata": {
        "id": "eJ6F05-qx-GU"
      },
      "outputs": [],
      "source": [
        "# Initial imports\n",
        "import pandas as pd\n",
        "import numpy as np\n",
        "import matplotlib.pyplot as plt\n",
        "import tensorflow as tf\n",
        "\n",
        "%matplotlib inline"
      ]
    },
    {
      "cell_type": "markdown",
      "metadata": {
        "id": "SlwsL6oAx-GV"
      },
      "source": [
        "## The Dataset\n",
        "\n",
        "The data provided for this demo contains anonymous information about `284807` credit card transactions made by European credit cardholders in September 2013.\n",
        "\n",
        "The dataset is going to be used to create a binary classification model using a deep neural network to detect fraudulent transactions. It contains nine numerical variables, which are the result of PCA transformation to protect the confidentiality of credit cardholders. Only the transaction amount can be seen as is.\n",
        "\n",
        "This dataset is an abstract of the file shared by the [Machine Learning Group](http://mlg.ulb.ac.be) of the Université Libre de Bruxelles (ULB)."
      ]
    },
    {
      "cell_type": "code",
      "source": [
        "# Upload the data\n",
        "from google.colab import files\n",
        "uploaded = files.upload()"
      ],
      "metadata": {
        "colab": {
          "resources": {
            "http://localhost:8080/nbextensions/google.colab/files.js": {
              "data": "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",
              "ok": true,
              "headers": [
                [
                  "content-type",
                  "application/javascript"
                ]
              ],
              "status": 200,
              "status_text": ""
            }
          },
          "base_uri": "https://localhost:8080/",
          "height": 74
        },
        "id": "zCTNKTdryCcE",
        "outputId": "2b0ed092-9dd6-4c69-c0cc-b4162bb97ccc"
      },
      "execution_count": 2,
      "outputs": [
        {
          "output_type": "display_data",
          "data": {
            "text/plain": [
              "<IPython.core.display.HTML object>"
            ],
            "text/html": [
              "\n",
              "     <input type=\"file\" id=\"files-9293e7ad-c091-4172-ab1d-9fd9b1c3d6ac\" name=\"files[]\" multiple disabled\n",
              "        style=\"border:none\" />\n",
              "     <output id=\"result-9293e7ad-c091-4172-ab1d-9fd9b1c3d6ac\">\n",
              "      Upload widget is only available when the cell has been executed in the\n",
              "      current browser session. Please rerun this cell to enable.\n",
              "      </output>\n",
              "      <script src=\"/nbextensions/google.colab/files.js\"></script> "
            ]
          },
          "metadata": {}
        },
        {
          "output_type": "stream",
          "name": "stdout",
          "text": [
            "Saving transactions.csv to transactions.csv\n"
          ]
        }
      ]
    },
    {
      "cell_type": "code",
      "execution_count": 3,
      "metadata": {
        "colab": {
          "base_uri": "https://localhost:8080/",
          "height": 206
        },
        "id": "IfFaZQYrx-GV",
        "outputId": "f466843d-1c27-47fb-9e38-7c4b25216f67"
      },
      "outputs": [
        {
          "output_type": "execute_result",
          "data": {
            "text/plain": [
              "         V1        V2        V3        V4        V5        V6        V7  \\\n",
              "0 -1.359807 -0.072781  2.536347  1.378155 -0.338321  0.462388  0.239599   \n",
              "1  1.191857  0.266151  0.166480  0.448154  0.060018 -0.082361 -0.078803   \n",
              "2 -1.358354 -1.340163  1.773209  0.379780 -0.503198  1.800499  0.791461   \n",
              "3 -0.966272 -0.185226  1.792993 -0.863291 -0.010309  1.247203  0.237609   \n",
              "4 -1.158233  0.877737  1.548718  0.403034 -0.407193  0.095921  0.592941   \n",
              "\n",
              "         V8        V9  Amount  Class  \n",
              "0  0.098698  0.363787  149.62      0  \n",
              "1  0.085102 -0.255425    2.69      0  \n",
              "2  0.247676 -1.514654  378.66      0  \n",
              "3  0.377436 -1.387024  123.50      0  \n",
              "4 -0.270533  0.817739   69.99      0  "
            ],
            "text/html": [
              "\n",
              "  <div id=\"df-17b0d146-ebec-4993-91a3-7619e1c76d4f\">\n",
              "    <div class=\"colab-df-container\">\n",
              "      <div>\n",
              "<style scoped>\n",
              "    .dataframe tbody tr th:only-of-type {\n",
              "        vertical-align: middle;\n",
              "    }\n",
              "\n",
              "    .dataframe tbody tr th {\n",
              "        vertical-align: top;\n",
              "    }\n",
              "\n",
              "    .dataframe thead th {\n",
              "        text-align: right;\n",
              "    }\n",
              "</style>\n",
              "<table border=\"1\" class=\"dataframe\">\n",
              "  <thead>\n",
              "    <tr style=\"text-align: right;\">\n",
              "      <th></th>\n",
              "      <th>V1</th>\n",
              "      <th>V2</th>\n",
              "      <th>V3</th>\n",
              "      <th>V4</th>\n",
              "      <th>V5</th>\n",
              "      <th>V6</th>\n",
              "      <th>V7</th>\n",
              "      <th>V8</th>\n",
              "      <th>V9</th>\n",
              "      <th>Amount</th>\n",
              "      <th>Class</th>\n",
              "    </tr>\n",
              "  </thead>\n",
              "  <tbody>\n",
              "    <tr>\n",
              "      <th>0</th>\n",
              "      <td>-1.359807</td>\n",
              "      <td>-0.072781</td>\n",
              "      <td>2.536347</td>\n",
              "      <td>1.378155</td>\n",
              "      <td>-0.338321</td>\n",
              "      <td>0.462388</td>\n",
              "      <td>0.239599</td>\n",
              "      <td>0.098698</td>\n",
              "      <td>0.363787</td>\n",
              "      <td>149.62</td>\n",
              "      <td>0</td>\n",
              "    </tr>\n",
              "    <tr>\n",
              "      <th>1</th>\n",
              "      <td>1.191857</td>\n",
              "      <td>0.266151</td>\n",
              "      <td>0.166480</td>\n",
              "      <td>0.448154</td>\n",
              "      <td>0.060018</td>\n",
              "      <td>-0.082361</td>\n",
              "      <td>-0.078803</td>\n",
              "      <td>0.085102</td>\n",
              "      <td>-0.255425</td>\n",
              "      <td>2.69</td>\n",
              "      <td>0</td>\n",
              "    </tr>\n",
              "    <tr>\n",
              "      <th>2</th>\n",
              "      <td>-1.358354</td>\n",
              "      <td>-1.340163</td>\n",
              "      <td>1.773209</td>\n",
              "      <td>0.379780</td>\n",
              "      <td>-0.503198</td>\n",
              "      <td>1.800499</td>\n",
              "      <td>0.791461</td>\n",
              "      <td>0.247676</td>\n",
              "      <td>-1.514654</td>\n",
              "      <td>378.66</td>\n",
              "      <td>0</td>\n",
              "    </tr>\n",
              "    <tr>\n",
              "      <th>3</th>\n",
              "      <td>-0.966272</td>\n",
              "      <td>-0.185226</td>\n",
              "      <td>1.792993</td>\n",
              "      <td>-0.863291</td>\n",
              "      <td>-0.010309</td>\n",
              "      <td>1.247203</td>\n",
              "      <td>0.237609</td>\n",
              "      <td>0.377436</td>\n",
              "      <td>-1.387024</td>\n",
              "      <td>123.50</td>\n",
              "      <td>0</td>\n",
              "    </tr>\n",
              "    <tr>\n",
              "      <th>4</th>\n",
              "      <td>-1.158233</td>\n",
              "      <td>0.877737</td>\n",
              "      <td>1.548718</td>\n",
              "      <td>0.403034</td>\n",
              "      <td>-0.407193</td>\n",
              "      <td>0.095921</td>\n",
              "      <td>0.592941</td>\n",
              "      <td>-0.270533</td>\n",
              "      <td>0.817739</td>\n",
              "      <td>69.99</td>\n",
              "      <td>0</td>\n",
              "    </tr>\n",
              "  </tbody>\n",
              "</table>\n",
              "</div>\n",
              "      <button class=\"colab-df-convert\" onclick=\"convertToInteractive('df-17b0d146-ebec-4993-91a3-7619e1c76d4f')\"\n",
              "              title=\"Convert this dataframe to an interactive table.\"\n",
              "              style=\"display:none;\">\n",
              "        \n",
              "  <svg xmlns=\"http://www.w3.org/2000/svg\" height=\"24px\"viewBox=\"0 0 24 24\"\n",
              "       width=\"24px\">\n",
              "    <path d=\"M0 0h24v24H0V0z\" fill=\"none\"/>\n",
              "    <path d=\"M18.56 5.44l.94 2.06.94-2.06 2.06-.94-2.06-.94-.94-2.06-.94 2.06-2.06.94zm-11 1L8.5 8.5l.94-2.06 2.06-.94-2.06-.94L8.5 2.5l-.94 2.06-2.06.94zm10 10l.94 2.06.94-2.06 2.06-.94-2.06-.94-.94-2.06-.94 2.06-2.06.94z\"/><path d=\"M17.41 7.96l-1.37-1.37c-.4-.4-.92-.59-1.43-.59-.52 0-1.04.2-1.43.59L10.3 9.45l-7.72 7.72c-.78.78-.78 2.05 0 2.83L4 21.41c.39.39.9.59 1.41.59.51 0 1.02-.2 1.41-.59l7.78-7.78 2.81-2.81c.8-.78.8-2.07 0-2.86zM5.41 20L4 18.59l7.72-7.72 1.47 1.35L5.41 20z\"/>\n",
              "  </svg>\n",
              "      </button>\n",
              "      \n",
              "  <style>\n",
              "    .colab-df-container {\n",
              "      display:flex;\n",
              "      flex-wrap:wrap;\n",
              "      gap: 12px;\n",
              "    }\n",
              "\n",
              "    .colab-df-convert {\n",
              "      background-color: #E8F0FE;\n",
              "      border: none;\n",
              "      border-radius: 50%;\n",
              "      cursor: pointer;\n",
              "      display: none;\n",
              "      fill: #1967D2;\n",
              "      height: 32px;\n",
              "      padding: 0 0 0 0;\n",
              "      width: 32px;\n",
              "    }\n",
              "\n",
              "    .colab-df-convert:hover {\n",
              "      background-color: #E2EBFA;\n",
              "      box-shadow: 0px 1px 2px rgba(60, 64, 67, 0.3), 0px 1px 3px 1px rgba(60, 64, 67, 0.15);\n",
              "      fill: #174EA6;\n",
              "    }\n",
              "\n",
              "    [theme=dark] .colab-df-convert {\n",
              "      background-color: #3B4455;\n",
              "      fill: #D2E3FC;\n",
              "    }\n",
              "\n",
              "    [theme=dark] .colab-df-convert:hover {\n",
              "      background-color: #434B5C;\n",
              "      box-shadow: 0px 1px 3px 1px rgba(0, 0, 0, 0.15);\n",
              "      filter: drop-shadow(0px 1px 2px rgba(0, 0, 0, 0.3));\n",
              "      fill: #FFFFFF;\n",
              "    }\n",
              "  </style>\n",
              "\n",
              "      <script>\n",
              "        const buttonEl =\n",
              "          document.querySelector('#df-17b0d146-ebec-4993-91a3-7619e1c76d4f button.colab-df-convert');\n",
              "        buttonEl.style.display =\n",
              "          google.colab.kernel.accessAllowed ? 'block' : 'none';\n",
              "\n",
              "        async function convertToInteractive(key) {\n",
              "          const element = document.querySelector('#df-17b0d146-ebec-4993-91a3-7619e1c76d4f');\n",
              "          const dataTable =\n",
              "            await google.colab.kernel.invokeFunction('convertToInteractive',\n",
              "                                                     [key], {});\n",
              "          if (!dataTable) return;\n",
              "\n",
              "          const docLinkHtml = 'Like what you see? Visit the ' +\n",
              "            '<a target=\"_blank\" href=https://colab.research.google.com/notebooks/data_table.ipynb>data table notebook</a>'\n",
              "            + ' to learn more about interactive tables.';\n",
              "          element.innerHTML = '';\n",
              "          dataTable['output_type'] = 'display_data';\n",
              "          await google.colab.output.renderOutput(dataTable, element);\n",
              "          const docLink = document.createElement('div');\n",
              "          docLink.innerHTML = docLinkHtml;\n",
              "          element.appendChild(docLink);\n",
              "        }\n",
              "      </script>\n",
              "    </div>\n",
              "  </div>\n",
              "  "
            ]
          },
          "metadata": {},
          "execution_count": 3
        }
      ],
      "source": [
        "# Import the dataset\n",
        "file_path = \"transactions.csv\"\n",
        "transactions_df = pd.read_csv(file_path)\n",
        "transactions_df.head()"
      ]
    },
    {
      "cell_type": "markdown",
      "metadata": {
        "id": "vuvPz7Ijx-GW"
      },
      "source": [
        "## Data Preprocessing"
      ]
    },
    {
      "cell_type": "code",
      "execution_count": 4,
      "metadata": {
        "id": "zjFHebD-x-GW"
      },
      "outputs": [],
      "source": [
        "# Creating the X and y sets\n",
        "X = transactions_df.iloc[:, 0:10].values\n",
        "y = transactions_df[\"Class\"].values"
      ]
    },
    {
      "cell_type": "code",
      "execution_count": 5,
      "metadata": {
        "id": "-A6sRPIkx-GW"
      },
      "outputs": [],
      "source": [
        "# Creating training, validation, and testing sets\n",
        "from sklearn.model_selection import train_test_split\n",
        "\n",
        "X_train, X_test, y_train, y_test = train_test_split(X, y, random_state=78)\n",
        "\n",
        "X_train, X_val, y_train, y_val = train_test_split(X_train, y_train, random_state=78)"
      ]
    },
    {
      "cell_type": "code",
      "execution_count": 6,
      "metadata": {
        "id": "Ly6OLEd6x-GX"
      },
      "outputs": [],
      "source": [
        "# Import the StandardScaler from sklearn\n",
        "from sklearn.preprocessing import StandardScaler\n",
        "\n",
        "# Scale the data\n",
        "scaler = StandardScaler().fit(X_train)\n",
        "X_train = scaler.transform(X_train)"
      ]
    },
    {
      "cell_type": "markdown",
      "metadata": {
        "id": "PYdaGII_x-GY"
      },
      "source": [
        "## Build and Train the Deep Learning Model"
      ]
    },
    {
      "cell_type": "markdown",
      "metadata": {
        "id": "Mfvev6Ewx-GY"
      },
      "source": [
        " ### Importing the Keras Modules"
      ]
    },
    {
      "cell_type": "code",
      "execution_count": 7,
      "metadata": {
        "id": "fMaQQxobx-GY"
      },
      "outputs": [],
      "source": [
        "# Import Keras modules for model creation\n",
        "from tensorflow.keras.models import Sequential\n",
        "from tensorflow.keras.layers import Dense"
      ]
    },
    {
      "cell_type": "markdown",
      "metadata": {
        "id": "TS1MYn7mx-GY"
      },
      "source": [
        " ### Setting Up the Model"
      ]
    },
    {
      "cell_type": "code",
      "execution_count": 8,
      "metadata": {
        "id": "f0UxuqcOx-GZ"
      },
      "outputs": [],
      "source": [
        "# Model set-up\n",
        "number_input_features = 10\n",
        "hidden_nodes_layer1 = 15\n",
        "hidden_nodes_layer2 = 5"
      ]
    },
    {
      "cell_type": "markdown",
      "metadata": {
        "id": "7Y4H6rZ-x-GZ"
      },
      "source": [
        " ### Defining the Model's Structure"
      ]
    },
    {
      "cell_type": "code",
      "execution_count": 9,
      "metadata": {
        "id": "lFAKuwogx-GZ"
      },
      "outputs": [],
      "source": [
        "# Define the LSTM RNN model\n",
        "model = Sequential()\n",
        "\n",
        "# Layer 1\n",
        "model.add(\n",
        "    Dense(units=hidden_nodes_layer1, input_dim=number_input_features, activation=\"relu\")\n",
        ")\n",
        "\n",
        "# Layer 2\n",
        "model.add(Dense(units=hidden_nodes_layer2, activation=\"relu\"))\n",
        "\n",
        "# Output layer\n",
        "model.add(Dense(1, activation=\"sigmoid\"))"
      ]
    },
    {
      "cell_type": "markdown",
      "metadata": {
        "id": "uNVwRScjx-GZ"
      },
      "source": [
        " ### Compiling the Model"
      ]
    },
    {
      "cell_type": "code",
      "execution_count": 10,
      "metadata": {
        "id": "urnHTUs7x-Ga"
      },
      "outputs": [],
      "source": [
        "# Compile the model\n",
        "model.compile(\n",
        "    loss=\"binary_crossentropy\",\n",
        "    optimizer=\"adam\",\n",
        "    metrics=[\n",
        "        \"accuracy\",\n",
        "        tf.keras.metrics.TruePositives(name=\"tp\"),\n",
        "        tf.keras.metrics.TrueNegatives(name=\"tn\"),\n",
        "        tf.keras.metrics.FalsePositives(name=\"fp\"),\n",
        "        tf.keras.metrics.FalseNegatives(name=\"fn\"),\n",
        "        tf.keras.metrics.Precision(name=\"precision\"),\n",
        "        tf.keras.metrics.Recall(name=\"recall\"),\n",
        "        tf.keras.metrics.AUC(name=\"auc\"),\n",
        "    ],\n",
        ")"
      ]
    },
    {
      "cell_type": "code",
      "execution_count": 11,
      "metadata": {
        "colab": {
          "base_uri": "https://localhost:8080/"
        },
        "id": "M2og6W95x-Ga",
        "outputId": "cc49bef7-2e54-4149-b27d-b0e240812cb2"
      },
      "outputs": [
        {
          "output_type": "stream",
          "name": "stdout",
          "text": [
            "Model: \"sequential\"\n",
            "_________________________________________________________________\n",
            " Layer (type)                Output Shape              Param #   \n",
            "=================================================================\n",
            " dense (Dense)               (None, 15)                165       \n",
            "                                                                 \n",
            " dense_1 (Dense)             (None, 5)                 80        \n",
            "                                                                 \n",
            " dense_2 (Dense)             (None, 1)                 6         \n",
            "                                                                 \n",
            "=================================================================\n",
            "Total params: 251\n",
            "Trainable params: 251\n",
            "Non-trainable params: 0\n",
            "_________________________________________________________________\n"
          ]
        }
      ],
      "source": [
        "# Summarize the model\n",
        "model.summary()"
      ]
    },
    {
      "cell_type": "markdown",
      "metadata": {
        "id": "EhBajQbDx-Ga"
      },
      "source": [
        " ### Training the Model"
      ]
    },
    {
      "cell_type": "code",
      "execution_count": 12,
      "metadata": {
        "colab": {
          "base_uri": "https://localhost:8080/"
        },
        "id": "5xvFyHF_x-Ga",
        "outputId": "0e2a1bfd-c376-4c2b-f09c-6afc721a3815"
      },
      "outputs": [
        {
          "output_type": "stream",
          "name": "stdout",
          "text": [
            "Epoch 1/50\n",
            "161/161 [==============================] - 4s 9ms/step - loss: 0.4269 - accuracy: 0.8908 - tp: 6.0000 - tn: 142704.0000 - fp: 17242.0000 - fn: 251.0000 - precision: 3.4787e-04 - recall: 0.0233 - auc: 0.1615 - val_loss: 0.1419 - val_accuracy: 0.9980 - val_tp: 0.0000e+00 - val_tn: 53297.0000 - val_fp: 0.0000e+00 - val_fn: 105.0000 - val_precision: 0.0000e+00 - val_recall: 0.0000e+00 - val_auc: 0.4174\n",
            "Epoch 2/50\n",
            "161/161 [==============================] - 1s 4ms/step - loss: 0.0843 - accuracy: 0.9984 - tp: 0.0000e+00 - tn: 159946.0000 - fp: 0.0000e+00 - fn: 257.0000 - precision: 0.0000e+00 - recall: 0.0000e+00 - auc: 0.1435 - val_loss: 0.1484 - val_accuracy: 0.9980 - val_tp: 0.0000e+00 - val_tn: 53297.0000 - val_fp: 0.0000e+00 - val_fn: 105.0000 - val_precision: 0.0000e+00 - val_recall: 0.0000e+00 - val_auc: 0.4571\n",
            "Epoch 3/50\n",
            "161/161 [==============================] - 1s 4ms/step - loss: 0.0317 - accuracy: 0.9984 - tp: 0.0000e+00 - tn: 159946.0000 - fp: 0.0000e+00 - fn: 257.0000 - precision: 0.0000e+00 - recall: 0.0000e+00 - auc: 0.2897 - val_loss: 0.1474 - val_accuracy: 0.9980 - val_tp: 0.0000e+00 - val_tn: 53297.0000 - val_fp: 0.0000e+00 - val_fn: 105.0000 - val_precision: 0.0000e+00 - val_recall: 0.0000e+00 - val_auc: 0.5709\n",
            "Epoch 4/50\n",
            "161/161 [==============================] - 1s 4ms/step - loss: 0.0162 - accuracy: 0.9984 - tp: 0.0000e+00 - tn: 159946.0000 - fp: 0.0000e+00 - fn: 257.0000 - precision: 0.0000e+00 - recall: 0.0000e+00 - auc: 0.6919 - val_loss: 0.1480 - val_accuracy: 0.9981 - val_tp: 10.0000 - val_tn: 53291.0000 - val_fp: 6.0000 - val_fn: 95.0000 - val_precision: 0.6250 - val_recall: 0.0952 - val_auc: 0.6531\n",
            "Epoch 5/50\n",
            "161/161 [==============================] - 1s 4ms/step - loss: 0.0107 - accuracy: 0.9985 - tp: 29.0000 - tn: 159935.0000 - fp: 11.0000 - fn: 228.0000 - precision: 0.7250 - recall: 0.1128 - auc: 0.8316 - val_loss: 0.1503 - val_accuracy: 0.9982 - val_tp: 20.0000 - val_tn: 53288.0000 - val_fp: 9.0000 - val_fn: 85.0000 - val_precision: 0.6897 - val_recall: 0.1905 - val_auc: 0.6783\n",
            "Epoch 6/50\n",
            "161/161 [==============================] - 1s 4ms/step - loss: 0.0084 - accuracy: 0.9987 - tp: 77.0000 - tn: 159925.0000 - fp: 21.0000 - fn: 180.0000 - precision: 0.7857 - recall: 0.2996 - auc: 0.8689 - val_loss: 0.1497 - val_accuracy: 0.9983 - val_tp: 25.0000 - val_tn: 53286.0000 - val_fp: 11.0000 - val_fn: 80.0000 - val_precision: 0.6944 - val_recall: 0.2381 - val_auc: 0.6896\n",
            "Epoch 7/50\n",
            "161/161 [==============================] - 1s 4ms/step - loss: 0.0072 - accuracy: 0.9988 - tp: 94.0000 - tn: 159919.0000 - fp: 27.0000 - fn: 163.0000 - precision: 0.7769 - recall: 0.3658 - auc: 0.8935 - val_loss: 0.1471 - val_accuracy: 0.9983 - val_tp: 26.0000 - val_tn: 53286.0000 - val_fp: 11.0000 - val_fn: 79.0000 - val_precision: 0.7027 - val_recall: 0.2476 - val_auc: 0.7073\n",
            "Epoch 8/50\n",
            "161/161 [==============================] - 1s 4ms/step - loss: 0.0064 - accuracy: 0.9989 - tp: 114.0000 - tn: 159913.0000 - fp: 33.0000 - fn: 143.0000 - precision: 0.7755 - recall: 0.4436 - auc: 0.9057 - val_loss: 0.1429 - val_accuracy: 0.9984 - val_tp: 32.0000 - val_tn: 53283.0000 - val_fp: 14.0000 - val_fn: 73.0000 - val_precision: 0.6957 - val_recall: 0.3048 - val_auc: 0.7192\n",
            "Epoch 9/50\n",
            "161/161 [==============================] - 1s 4ms/step - loss: 0.0059 - accuracy: 0.9989 - tp: 116.0000 - tn: 159914.0000 - fp: 32.0000 - fn: 141.0000 - precision: 0.7838 - recall: 0.4514 - auc: 0.9013 - val_loss: 0.1352 - val_accuracy: 0.9984 - val_tp: 34.0000 - val_tn: 53282.0000 - val_fp: 15.0000 - val_fn: 71.0000 - val_precision: 0.6939 - val_recall: 0.3238 - val_auc: 0.7390\n",
            "Epoch 10/50\n",
            "161/161 [==============================] - 1s 3ms/step - loss: 0.0054 - accuracy: 0.9989 - tp: 121.0000 - tn: 159908.0000 - fp: 38.0000 - fn: 136.0000 - precision: 0.7610 - recall: 0.4708 - auc: 0.9046 - val_loss: 0.1291 - val_accuracy: 0.9984 - val_tp: 36.0000 - val_tn: 53280.0000 - val_fp: 17.0000 - val_fn: 69.0000 - val_precision: 0.6792 - val_recall: 0.3429 - val_auc: 0.7450\n",
            "Epoch 11/50\n",
            "161/161 [==============================] - 1s 4ms/step - loss: 0.0051 - accuracy: 0.9990 - tp: 124.0000 - tn: 159913.0000 - fp: 33.0000 - fn: 133.0000 - precision: 0.7898 - recall: 0.4825 - auc: 0.9055 - val_loss: 0.1209 - val_accuracy: 0.9985 - val_tp: 41.0000 - val_tn: 53280.0000 - val_fp: 17.0000 - val_fn: 64.0000 - val_precision: 0.7069 - val_recall: 0.3905 - val_auc: 0.7551\n",
            "Epoch 12/50\n",
            "161/161 [==============================] - 1s 4ms/step - loss: 0.0048 - accuracy: 0.9990 - tp: 137.0000 - tn: 159909.0000 - fp: 37.0000 - fn: 120.0000 - precision: 0.7874 - recall: 0.5331 - auc: 0.9086 - val_loss: 0.1166 - val_accuracy: 0.9985 - val_tp: 37.0000 - val_tn: 53283.0000 - val_fp: 14.0000 - val_fn: 68.0000 - val_precision: 0.7255 - val_recall: 0.3524 - val_auc: 0.7605\n",
            "Epoch 13/50\n",
            "161/161 [==============================] - 1s 4ms/step - loss: 0.0047 - accuracy: 0.9990 - tp: 130.0000 - tn: 159915.0000 - fp: 31.0000 - fn: 127.0000 - precision: 0.8075 - recall: 0.5058 - auc: 0.9070 - val_loss: 0.1079 - val_accuracy: 0.9984 - val_tp: 42.0000 - val_tn: 53274.0000 - val_fp: 23.0000 - val_fn: 63.0000 - val_precision: 0.6462 - val_recall: 0.4000 - val_auc: 0.7604\n",
            "Epoch 14/50\n",
            "161/161 [==============================] - 1s 4ms/step - loss: 0.0045 - accuracy: 0.9991 - tp: 136.0000 - tn: 159919.0000 - fp: 27.0000 - fn: 121.0000 - precision: 0.8344 - recall: 0.5292 - auc: 0.9096 - val_loss: 0.1029 - val_accuracy: 0.9984 - val_tp: 46.0000 - val_tn: 53271.0000 - val_fp: 26.0000 - val_fn: 59.0000 - val_precision: 0.6389 - val_recall: 0.4381 - val_auc: 0.7606\n",
            "Epoch 15/50\n",
            "161/161 [==============================] - 1s 4ms/step - loss: 0.0043 - accuracy: 0.9991 - tp: 138.0000 - tn: 159920.0000 - fp: 26.0000 - fn: 119.0000 - precision: 0.8415 - recall: 0.5370 - auc: 0.9099 - val_loss: 0.0971 - val_accuracy: 0.9984 - val_tp: 46.0000 - val_tn: 53270.0000 - val_fp: 27.0000 - val_fn: 59.0000 - val_precision: 0.6301 - val_recall: 0.4381 - val_auc: 0.7602\n",
            "Epoch 16/50\n",
            "161/161 [==============================] - 1s 4ms/step - loss: 0.0042 - accuracy: 0.9992 - tp: 149.0000 - tn: 159920.0000 - fp: 26.0000 - fn: 108.0000 - precision: 0.8514 - recall: 0.5798 - auc: 0.9081 - val_loss: 0.0926 - val_accuracy: 0.9983 - val_tp: 44.0000 - val_tn: 53267.0000 - val_fp: 30.0000 - val_fn: 61.0000 - val_precision: 0.5946 - val_recall: 0.4190 - val_auc: 0.7641\n",
            "Epoch 17/50\n",
            "161/161 [==============================] - 1s 4ms/step - loss: 0.0041 - accuracy: 0.9991 - tp: 144.0000 - tn: 159922.0000 - fp: 24.0000 - fn: 113.0000 - precision: 0.8571 - recall: 0.5603 - auc: 0.9103 - val_loss: 0.0919 - val_accuracy: 0.9982 - val_tp: 48.0000 - val_tn: 53260.0000 - val_fp: 37.0000 - val_fn: 57.0000 - val_precision: 0.5647 - val_recall: 0.4571 - val_auc: 0.7644\n",
            "Epoch 18/50\n",
            "161/161 [==============================] - 1s 4ms/step - loss: 0.0041 - accuracy: 0.9992 - tp: 151.0000 - tn: 159924.0000 - fp: 22.0000 - fn: 106.0000 - precision: 0.8728 - recall: 0.5875 - auc: 0.9084 - val_loss: 0.0844 - val_accuracy: 0.9980 - val_tp: 49.0000 - val_tn: 53247.0000 - val_fp: 50.0000 - val_fn: 56.0000 - val_precision: 0.4949 - val_recall: 0.4667 - val_auc: 0.7618\n",
            "Epoch 19/50\n",
            "161/161 [==============================] - 1s 4ms/step - loss: 0.0040 - accuracy: 0.9992 - tp: 155.0000 - tn: 159923.0000 - fp: 23.0000 - fn: 102.0000 - precision: 0.8708 - recall: 0.6031 - auc: 0.9105 - val_loss: 0.0806 - val_accuracy: 0.9980 - val_tp: 48.0000 - val_tn: 53246.0000 - val_fp: 51.0000 - val_fn: 57.0000 - val_precision: 0.4848 - val_recall: 0.4571 - val_auc: 0.7609\n",
            "Epoch 20/50\n",
            "161/161 [==============================] - 1s 3ms/step - loss: 0.0040 - accuracy: 0.9992 - tp: 151.0000 - tn: 159924.0000 - fp: 22.0000 - fn: 106.0000 - precision: 0.8728 - recall: 0.5875 - auc: 0.9143 - val_loss: 0.0762 - val_accuracy: 0.9975 - val_tp: 49.0000 - val_tn: 53222.0000 - val_fp: 75.0000 - val_fn: 56.0000 - val_precision: 0.3952 - val_recall: 0.4667 - val_auc: 0.7718\n",
            "Epoch 21/50\n",
            "161/161 [==============================] - 1s 4ms/step - loss: 0.0039 - accuracy: 0.9992 - tp: 154.0000 - tn: 159924.0000 - fp: 22.0000 - fn: 103.0000 - precision: 0.8750 - recall: 0.5992 - auc: 0.9164 - val_loss: 0.0749 - val_accuracy: 0.9976 - val_tp: 48.0000 - val_tn: 53224.0000 - val_fp: 73.0000 - val_fn: 57.0000 - val_precision: 0.3967 - val_recall: 0.4571 - val_auc: 0.7724\n",
            "Epoch 22/50\n",
            "161/161 [==============================] - 1s 4ms/step - loss: 0.0039 - accuracy: 0.9992 - tp: 154.0000 - tn: 159924.0000 - fp: 22.0000 - fn: 103.0000 - precision: 0.8750 - recall: 0.5992 - auc: 0.9184 - val_loss: 0.0717 - val_accuracy: 0.9973 - val_tp: 48.0000 - val_tn: 53210.0000 - val_fp: 87.0000 - val_fn: 57.0000 - val_precision: 0.3556 - val_recall: 0.4571 - val_auc: 0.7717\n",
            "Epoch 23/50\n",
            "161/161 [==============================] - 1s 4ms/step - loss: 0.0039 - accuracy: 0.9992 - tp: 151.0000 - tn: 159924.0000 - fp: 22.0000 - fn: 106.0000 - precision: 0.8728 - recall: 0.5875 - auc: 0.9184 - val_loss: 0.0699 - val_accuracy: 0.9972 - val_tp: 51.0000 - val_tn: 53200.0000 - val_fp: 97.0000 - val_fn: 54.0000 - val_precision: 0.3446 - val_recall: 0.4857 - val_auc: 0.7711\n",
            "Epoch 24/50\n",
            "161/161 [==============================] - 1s 4ms/step - loss: 0.0039 - accuracy: 0.9992 - tp: 153.0000 - tn: 159925.0000 - fp: 21.0000 - fn: 104.0000 - precision: 0.8793 - recall: 0.5953 - auc: 0.9204 - val_loss: 0.0690 - val_accuracy: 0.9972 - val_tp: 50.0000 - val_tn: 53202.0000 - val_fp: 95.0000 - val_fn: 55.0000 - val_precision: 0.3448 - val_recall: 0.4762 - val_auc: 0.7760\n",
            "Epoch 25/50\n",
            "161/161 [==============================] - 1s 4ms/step - loss: 0.0038 - accuracy: 0.9992 - tp: 156.0000 - tn: 159925.0000 - fp: 21.0000 - fn: 101.0000 - precision: 0.8814 - recall: 0.6070 - auc: 0.9206 - val_loss: 0.0654 - val_accuracy: 0.9971 - val_tp: 49.0000 - val_tn: 53196.0000 - val_fp: 101.0000 - val_fn: 56.0000 - val_precision: 0.3267 - val_recall: 0.4667 - val_auc: 0.7783\n",
            "Epoch 26/50\n",
            "161/161 [==============================] - 1s 4ms/step - loss: 0.0038 - accuracy: 0.9992 - tp: 153.0000 - tn: 159925.0000 - fp: 21.0000 - fn: 104.0000 - precision: 0.8793 - recall: 0.5953 - auc: 0.9225 - val_loss: 0.0624 - val_accuracy: 0.9966 - val_tp: 50.0000 - val_tn: 53170.0000 - val_fp: 127.0000 - val_fn: 55.0000 - val_precision: 0.2825 - val_recall: 0.4762 - val_auc: 0.7911\n",
            "Epoch 27/50\n",
            "161/161 [==============================] - 1s 4ms/step - loss: 0.0037 - accuracy: 0.9992 - tp: 158.0000 - tn: 159923.0000 - fp: 23.0000 - fn: 99.0000 - precision: 0.8729 - recall: 0.6148 - auc: 0.9244 - val_loss: 0.0607 - val_accuracy: 0.9966 - val_tp: 50.0000 - val_tn: 53171.0000 - val_fp: 126.0000 - val_fn: 55.0000 - val_precision: 0.2841 - val_recall: 0.4762 - val_auc: 0.7904\n",
            "Epoch 28/50\n",
            "161/161 [==============================] - 1s 4ms/step - loss: 0.0037 - accuracy: 0.9992 - tp: 154.0000 - tn: 159924.0000 - fp: 22.0000 - fn: 103.0000 - precision: 0.8750 - recall: 0.5992 - auc: 0.9245 - val_loss: 0.0588 - val_accuracy: 0.9962 - val_tp: 50.0000 - val_tn: 53147.0000 - val_fp: 150.0000 - val_fn: 55.0000 - val_precision: 0.2500 - val_recall: 0.4762 - val_auc: 0.7948\n",
            "Epoch 29/50\n",
            "161/161 [==============================] - 1s 4ms/step - loss: 0.0037 - accuracy: 0.9992 - tp: 155.0000 - tn: 159924.0000 - fp: 22.0000 - fn: 102.0000 - precision: 0.8757 - recall: 0.6031 - auc: 0.9245 - val_loss: 0.0569 - val_accuracy: 0.9962 - val_tp: 50.0000 - val_tn: 53151.0000 - val_fp: 146.0000 - val_fn: 55.0000 - val_precision: 0.2551 - val_recall: 0.4762 - val_auc: 0.7907\n",
            "Epoch 30/50\n",
            "161/161 [==============================] - 1s 4ms/step - loss: 0.0037 - accuracy: 0.9992 - tp: 158.0000 - tn: 159923.0000 - fp: 23.0000 - fn: 99.0000 - precision: 0.8729 - recall: 0.6148 - auc: 0.9246 - val_loss: 0.0551 - val_accuracy: 0.9959 - val_tp: 50.0000 - val_tn: 53135.0000 - val_fp: 162.0000 - val_fn: 55.0000 - val_precision: 0.2358 - val_recall: 0.4762 - val_auc: 0.7936\n",
            "Epoch 31/50\n",
            "161/161 [==============================] - 1s 4ms/step - loss: 0.0037 - accuracy: 0.9992 - tp: 154.0000 - tn: 159925.0000 - fp: 21.0000 - fn: 103.0000 - precision: 0.8800 - recall: 0.5992 - auc: 0.9265 - val_loss: 0.0536 - val_accuracy: 0.9959 - val_tp: 50.0000 - val_tn: 53133.0000 - val_fp: 164.0000 - val_fn: 55.0000 - val_precision: 0.2336 - val_recall: 0.4762 - val_auc: 0.7938\n",
            "Epoch 32/50\n",
            "161/161 [==============================] - 1s 4ms/step - loss: 0.0036 - accuracy: 0.9993 - tp: 157.0000 - tn: 159926.0000 - fp: 20.0000 - fn: 100.0000 - precision: 0.8870 - recall: 0.6109 - auc: 0.9265 - val_loss: 0.0527 - val_accuracy: 0.9957 - val_tp: 51.0000 - val_tn: 53119.0000 - val_fp: 178.0000 - val_fn: 54.0000 - val_precision: 0.2227 - val_recall: 0.4857 - val_auc: 0.8011\n",
            "Epoch 33/50\n",
            "161/161 [==============================] - 1s 4ms/step - loss: 0.0036 - accuracy: 0.9992 - tp: 154.0000 - tn: 159923.0000 - fp: 23.0000 - fn: 103.0000 - precision: 0.8701 - recall: 0.5992 - auc: 0.9265 - val_loss: 0.0526 - val_accuracy: 0.9958 - val_tp: 52.0000 - val_tn: 53126.0000 - val_fp: 171.0000 - val_fn: 53.0000 - val_precision: 0.2332 - val_recall: 0.4952 - val_auc: 0.7981\n",
            "Epoch 34/50\n",
            "161/161 [==============================] - 1s 4ms/step - loss: 0.0036 - accuracy: 0.9993 - tp: 160.0000 - tn: 159924.0000 - fp: 22.0000 - fn: 97.0000 - precision: 0.8791 - recall: 0.6226 - auc: 0.9265 - val_loss: 0.0513 - val_accuracy: 0.9957 - val_tp: 54.0000 - val_tn: 53116.0000 - val_fp: 181.0000 - val_fn: 51.0000 - val_precision: 0.2298 - val_recall: 0.5143 - val_auc: 0.8050\n",
            "Epoch 35/50\n",
            "161/161 [==============================] - 1s 4ms/step - loss: 0.0036 - accuracy: 0.9993 - tp: 163.0000 - tn: 159925.0000 - fp: 21.0000 - fn: 94.0000 - precision: 0.8859 - recall: 0.6342 - auc: 0.9228 - val_loss: 0.0514 - val_accuracy: 0.9958 - val_tp: 52.0000 - val_tn: 53126.0000 - val_fp: 171.0000 - val_fn: 53.0000 - val_precision: 0.2332 - val_recall: 0.4952 - val_auc: 0.8063\n",
            "Epoch 36/50\n",
            "161/161 [==============================] - 1s 4ms/step - loss: 0.0036 - accuracy: 0.9993 - tp: 162.0000 - tn: 159925.0000 - fp: 21.0000 - fn: 95.0000 - precision: 0.8852 - recall: 0.6304 - auc: 0.9304 - val_loss: 0.0493 - val_accuracy: 0.9961 - val_tp: 52.0000 - val_tn: 53140.0000 - val_fp: 157.0000 - val_fn: 53.0000 - val_precision: 0.2488 - val_recall: 0.4952 - val_auc: 0.8044\n",
            "Epoch 37/50\n",
            "161/161 [==============================] - 1s 4ms/step - loss: 0.0036 - accuracy: 0.9993 - tp: 160.0000 - tn: 159925.0000 - fp: 21.0000 - fn: 97.0000 - precision: 0.8840 - recall: 0.6226 - auc: 0.9285 - val_loss: 0.0498 - val_accuracy: 0.9962 - val_tp: 52.0000 - val_tn: 53149.0000 - val_fp: 148.0000 - val_fn: 53.0000 - val_precision: 0.2600 - val_recall: 0.4952 - val_auc: 0.8067\n",
            "Epoch 38/50\n",
            "161/161 [==============================] - 1s 4ms/step - loss: 0.0035 - accuracy: 0.9993 - tp: 163.0000 - tn: 159926.0000 - fp: 20.0000 - fn: 94.0000 - precision: 0.8907 - recall: 0.6342 - auc: 0.9285 - val_loss: 0.0485 - val_accuracy: 0.9963 - val_tp: 53.0000 - val_tn: 53153.0000 - val_fp: 144.0000 - val_fn: 52.0000 - val_precision: 0.2690 - val_recall: 0.5048 - val_auc: 0.8112\n",
            "Epoch 39/50\n",
            "161/161 [==============================] - 1s 4ms/step - loss: 0.0035 - accuracy: 0.9993 - tp: 160.0000 - tn: 159924.0000 - fp: 22.0000 - fn: 97.0000 - precision: 0.8791 - recall: 0.6226 - auc: 0.9286 - val_loss: 0.0473 - val_accuracy: 0.9964 - val_tp: 52.0000 - val_tn: 53160.0000 - val_fp: 137.0000 - val_fn: 53.0000 - val_precision: 0.2751 - val_recall: 0.4952 - val_auc: 0.8110\n",
            "Epoch 40/50\n",
            "161/161 [==============================] - 1s 4ms/step - loss: 0.0035 - accuracy: 0.9993 - tp: 164.0000 - tn: 159924.0000 - fp: 22.0000 - fn: 93.0000 - precision: 0.8817 - recall: 0.6381 - auc: 0.9286 - val_loss: 0.0464 - val_accuracy: 0.9967 - val_tp: 52.0000 - val_tn: 53176.0000 - val_fp: 121.0000 - val_fn: 53.0000 - val_precision: 0.3006 - val_recall: 0.4952 - val_auc: 0.8126\n",
            "Epoch 41/50\n",
            "161/161 [==============================] - 1s 4ms/step - loss: 0.0035 - accuracy: 0.9993 - tp: 162.0000 - tn: 159924.0000 - fp: 22.0000 - fn: 95.0000 - precision: 0.8804 - recall: 0.6304 - auc: 0.9285 - val_loss: 0.0475 - val_accuracy: 0.9971 - val_tp: 50.0000 - val_tn: 53198.0000 - val_fp: 99.0000 - val_fn: 55.0000 - val_precision: 0.3356 - val_recall: 0.4762 - val_auc: 0.8077\n",
            "Epoch 42/50\n",
            "161/161 [==============================] - 1s 4ms/step - loss: 0.0035 - accuracy: 0.9993 - tp: 161.0000 - tn: 159927.0000 - fp: 19.0000 - fn: 96.0000 - precision: 0.8944 - recall: 0.6265 - auc: 0.9286 - val_loss: 0.0440 - val_accuracy: 0.9968 - val_tp: 54.0000 - val_tn: 53177.0000 - val_fp: 120.0000 - val_fn: 51.0000 - val_precision: 0.3103 - val_recall: 0.5143 - val_auc: 0.8180\n",
            "Epoch 43/50\n",
            "161/161 [==============================] - 1s 4ms/step - loss: 0.0035 - accuracy: 0.9993 - tp: 163.0000 - tn: 159924.0000 - fp: 22.0000 - fn: 94.0000 - precision: 0.8811 - recall: 0.6342 - auc: 0.9287 - val_loss: 0.0448 - val_accuracy: 0.9974 - val_tp: 50.0000 - val_tn: 53213.0000 - val_fp: 84.0000 - val_fn: 55.0000 - val_precision: 0.3731 - val_recall: 0.4762 - val_auc: 0.8084\n",
            "Epoch 44/50\n",
            "161/161 [==============================] - 1s 4ms/step - loss: 0.0035 - accuracy: 0.9993 - tp: 164.0000 - tn: 159924.0000 - fp: 22.0000 - fn: 93.0000 - precision: 0.8817 - recall: 0.6381 - auc: 0.9287 - val_loss: 0.0430 - val_accuracy: 0.9972 - val_tp: 53.0000 - val_tn: 53200.0000 - val_fp: 97.0000 - val_fn: 52.0000 - val_precision: 0.3533 - val_recall: 0.5048 - val_auc: 0.8155\n",
            "Epoch 45/50\n",
            "161/161 [==============================] - 1s 4ms/step - loss: 0.0035 - accuracy: 0.9993 - tp: 166.0000 - tn: 159925.0000 - fp: 21.0000 - fn: 91.0000 - precision: 0.8877 - recall: 0.6459 - auc: 0.9324 - val_loss: 0.0414 - val_accuracy: 0.9974 - val_tp: 52.0000 - val_tn: 53211.0000 - val_fp: 86.0000 - val_fn: 53.0000 - val_precision: 0.3768 - val_recall: 0.4952 - val_auc: 0.8157\n",
            "Epoch 46/50\n",
            "161/161 [==============================] - 1s 4ms/step - loss: 0.0034 - accuracy: 0.9993 - tp: 162.0000 - tn: 159924.0000 - fp: 22.0000 - fn: 95.0000 - precision: 0.8804 - recall: 0.6304 - auc: 0.9306 - val_loss: 0.0408 - val_accuracy: 0.9974 - val_tp: 53.0000 - val_tn: 53208.0000 - val_fp: 89.0000 - val_fn: 52.0000 - val_precision: 0.3732 - val_recall: 0.5048 - val_auc: 0.8163\n",
            "Epoch 47/50\n",
            "161/161 [==============================] - 1s 4ms/step - loss: 0.0034 - accuracy: 0.9993 - tp: 168.0000 - tn: 159925.0000 - fp: 21.0000 - fn: 89.0000 - precision: 0.8889 - recall: 0.6537 - auc: 0.9306 - val_loss: 0.0397 - val_accuracy: 0.9972 - val_tp: 55.0000 - val_tn: 53197.0000 - val_fp: 100.0000 - val_fn: 50.0000 - val_precision: 0.3548 - val_recall: 0.5238 - val_auc: 0.8242\n",
            "Epoch 48/50\n",
            "161/161 [==============================] - 1s 4ms/step - loss: 0.0034 - accuracy: 0.9993 - tp: 167.0000 - tn: 159924.0000 - fp: 22.0000 - fn: 90.0000 - precision: 0.8836 - recall: 0.6498 - auc: 0.9363 - val_loss: 0.0403 - val_accuracy: 0.9975 - val_tp: 52.0000 - val_tn: 53215.0000 - val_fp: 82.0000 - val_fn: 53.0000 - val_precision: 0.3881 - val_recall: 0.4952 - val_auc: 0.8135\n",
            "Epoch 49/50\n",
            "161/161 [==============================] - 1s 4ms/step - loss: 0.0034 - accuracy: 0.9993 - tp: 166.0000 - tn: 159925.0000 - fp: 21.0000 - fn: 91.0000 - precision: 0.8877 - recall: 0.6459 - auc: 0.9326 - val_loss: 0.0386 - val_accuracy: 0.9974 - val_tp: 53.0000 - val_tn: 53210.0000 - val_fp: 87.0000 - val_fn: 52.0000 - val_precision: 0.3786 - val_recall: 0.5048 - val_auc: 0.8213\n",
            "Epoch 50/50\n",
            "161/161 [==============================] - 1s 4ms/step - loss: 0.0034 - accuracy: 0.9993 - tp: 170.0000 - tn: 159924.0000 - fp: 22.0000 - fn: 87.0000 - precision: 0.8854 - recall: 0.6615 - auc: 0.9363 - val_loss: 0.0385 - val_accuracy: 0.9976 - val_tp: 51.0000 - val_tn: 53223.0000 - val_fp: 74.0000 - val_fn: 54.0000 - val_precision: 0.4080 - val_recall: 0.4857 - val_auc: 0.8138\n"
          ]
        }
      ],
      "source": [
        "# Training the model\n",
        "batch_size = 1000\n",
        "epochs = 50\n",
        "training_history = model.fit(\n",
        "    X_train,\n",
        "    y_train,\n",
        "    validation_data=(X_val, y_val),\n",
        "    epochs=epochs,\n",
        "    batch_size=batch_size,\n",
        "    verbose=1,\n",
        ")"
      ]
    },
    {
      "cell_type": "markdown",
      "metadata": {
        "id": "TCoOIcwRx-Ga"
      },
      "source": [
        "### Model Performance"
      ]
    },
    {
      "cell_type": "markdown",
      "metadata": {
        "id": "Wwrnq-tFx-Gb"
      },
      "source": [
        "#### Checking Training History"
      ]
    },
    {
      "cell_type": "code",
      "execution_count": 13,
      "metadata": {
        "colab": {
          "base_uri": "https://localhost:8080/",
          "height": 313
        },
        "id": "V4x5-vdAx-Gb",
        "outputId": "298ddd22-41a1-4566-a440-8c02c2c70aa4"
      },
      "outputs": [
        {
          "output_type": "execute_result",
          "data": {
            "text/plain": [
              "<matplotlib.axes._subplots.AxesSubplot at 0x7f8b7d1b6a10>"
            ]
          },
          "metadata": {},
          "execution_count": 13
        },
        {
          "output_type": "display_data",
          "data": {
            "text/plain": [
              "<Figure size 432x288 with 1 Axes>"
            ],
            "image/png": "[encoded data removed]"
          },
          "metadata": {
            "needs_background": "light"
          }
        }
      ],
      "source": [
        "# Plotting loss\n",
        "loss_df = pd.DataFrame(\n",
        "    {\n",
        "        \"Epoch\": range(1, epochs + 1),\n",
        "        \"Train\": training_history.history[\"loss\"],\n",
        "        \"Val\": training_history.history[\"val_loss\"],\n",
        "    }\n",
        ")\n",
        "loss_df.set_index(\"Epoch\", inplace=True)\n",
        "loss_df.plot(title=\"Loss\")"
      ]
    },
    {
      "cell_type": "code",
      "execution_count": 14,
      "metadata": {
        "colab": {
          "base_uri": "https://localhost:8080/",
          "height": 313
        },
        "id": "zeyRKaoNx-Gb",
        "outputId": "b196497a-f91b-4f09-e689-7dc25c5a4435"
      },
      "outputs": [
        {
          "output_type": "execute_result",
          "data": {
            "text/plain": [
              "<matplotlib.axes._subplots.AxesSubplot at 0x7f8b7e8a6dd0>"
            ]
          },
          "metadata": {},
          "execution_count": 14
        },
        {
          "output_type": "display_data",
          "data": {
            "text/plain": [
              "<Figure size 432x288 with 1 Axes>"
            ],
            "image/png": "[encoded data removed]"
          },
          "metadata": {
            "needs_background": "light"
          }
        }
      ],
      "source": [
        "# Plotting accuracy\n",
        "accuracy_df = pd.DataFrame(\n",
        "    {\n",
        "        \"Epoch\": range(1, epochs + 1),\n",
        "        \"Train\": training_history.history[\"accuracy\"],\n",
        "        \"Val\": training_history.history[\"val_accuracy\"],\n",
        "    }\n",
        ")\n",
        "accuracy_df.set_index(\"Epoch\", inplace=True)\n",
        "accuracy_df.plot(title=\"Accuracy\")"
      ]
    },
    {
      "cell_type": "code",
      "execution_count": 15,
      "metadata": {
        "colab": {
          "base_uri": "https://localhost:8080/",
          "height": 313
        },
        "id": "G5PGUPjUx-Gc",
        "outputId": "721bebb0-db60-4e3a-ecf4-7a51e56fe312"
      },
      "outputs": [
        {
          "output_type": "execute_result",
          "data": {
            "text/plain": [
              "<matplotlib.axes._subplots.AxesSubplot at 0x7f8b79d3f890>"
            ]
          },
          "metadata": {},
          "execution_count": 15
        },
        {
          "output_type": "display_data",
          "data": {
            "text/plain": [
              "<Figure size 432x288 with 1 Axes>"
            ],
            "image/png": "[encoded data removed]"
          },
          "metadata": {
            "needs_background": "light"
          }
        }
      ],
      "source": [
        "# Plotting AUC\n",
        "auc_df = pd.DataFrame(\n",
        "    {\n",
        "        \"Epoch\": range(1, epochs + 1),\n",
        "        \"Train\": training_history.history[\"auc\"],\n",
        "        \"Val\": training_history.history[\"val_auc\"],\n",
        "    }\n",
        ")\n",
        "auc_df.set_index(\"Epoch\", inplace=True)\n",
        "auc_df.plot(title=\"AUC\")"
      ]
    },
    {
      "cell_type": "markdown",
      "metadata": {
        "id": "SfTI8xuSx-Gc"
      },
      "source": [
        "#### Plotting the ROC Curve"
      ]
    },
    {
      "cell_type": "code",
      "execution_count": 16,
      "metadata": {
        "id": "eACSEgwHx-Gc"
      },
      "outputs": [],
      "source": [
        "# Import the roc_curve and auc metrics from sklearn\n",
        "from sklearn.metrics import roc_curve, auc"
      ]
    },
    {
      "cell_type": "code",
      "execution_count": 17,
      "metadata": {
        "id": "LBeo5oSpx-Gc"
      },
      "outputs": [],
      "source": [
        "# Making predictions to feed the roc_curve module\n",
        "train_predictions = model.predict(X_train, batch_size=1000)\n",
        "test_predictions = model.predict(X_test, batch_size=1000)"
      ]
    },
    {
      "cell_type": "code",
      "execution_count": 18,
      "metadata": {
        "id": "IkOeWg2qx-Gc"
      },
      "outputs": [],
      "source": [
        "# Calculate the ROC curve and AUC for the training set\n",
        "fpr_train, tpr_train, thresholds_train = roc_curve(y_train, train_predictions)\n",
        "auc_train = auc(fpr_train, tpr_train)\n",
        "auc_train = round(auc_train, 4)\n",
        "\n",
        "# Calculate the ROC curve and AUC for the testing set\n",
        "fpr_test, tpr_test, thresholds_test = roc_curve(y_test, test_predictions)\n",
        "auc_test = auc(fpr_test, tpr_test)\n",
        "auc_test = round(auc_test, 4)"
      ]
    },
    {
      "cell_type": "code",
      "execution_count": 19,
      "metadata": {
        "id": "j7gxIn9qx-Gd"
      },
      "outputs": [],
      "source": [
        "# Create a DataFrame with the fpr and tpr results\n",
        "roc_df_train = pd.DataFrame({\"FPR Train\": fpr_train, \"TPR Train\": tpr_train,})\n",
        "\n",
        "roc_df_test = pd.DataFrame({\"FPR Test\": fpr_test, \"TPR Test\": tpr_test,})"
      ]
    },
    {
      "cell_type": "code",
      "execution_count": 20,
      "metadata": {
        "colab": {
          "base_uri": "https://localhost:8080/",
          "height": 591
        },
        "id": "prR6cd5Dx-Gd",
        "outputId": "87303c49-ef7e-4b52-8039-7f6c9246a31c"
      },
      "outputs": [
        {
          "output_type": "execute_result",
          "data": {
            "text/plain": [
              "<matplotlib.axes._subplots.AxesSubplot at 0x7f8b79edfe10>"
            ]
          },
          "metadata": {},
          "execution_count": 20
        },
        {
          "output_type": "display_data",
          "data": {
            "text/plain": [
              "<Figure size 432x288 with 1 Axes>"
            ],
            "image/png": "[encoded data removed]"
          },
          "metadata": {
            "needs_background": "light"
          }
        },
        {
          "output_type": "display_data",
          "data": {
            "text/plain": [
              "<Figure size 432x288 with 1 Axes>"
            ],
            "image/png": "[encoded data removed]"
          },
          "metadata": {
            "needs_background": "light"
          }
        }
      ],
      "source": [
        "# Plotting the ROC Curves\n",
        "roc_df_train.plot(\n",
        "    x=\"FPR Train\",\n",
        "    y=\"TPR Train\",\n",
        "    xlim=([-0.05, 1.05]),\n",
        "    title=f\"Train ROC Curve (AUC={auc_train})\",\n",
        ")\n",
        "\n",
        "roc_df_test.plot(\n",
        "    x=\"FPR Test\",\n",
        "    y=\"TPR Test\",\n",
        "    color=\"red\",\n",
        "    style=\"--\",\n",
        "    xlim=([-0.05, 1.05]),\n",
        "    title=f\"Test ROC Curve (AUC={auc_test})\",\n",
        ")"
      ]
    },
    {
      "cell_type": "markdown",
      "metadata": {
        "id": "3_ptXWoqx-Gd"
      },
      "source": [
        "#### Evaluate the Model"
      ]
    },
    {
      "cell_type": "code",
      "execution_count": 21,
      "metadata": {
        "colab": {
          "base_uri": "https://localhost:8080/",
          "height": 178
        },
        "id": "-1RVGe4dx-Gd",
        "outputId": "fb5614f6-0eff-4a18-94b1-88b936d8368d"
      },
      "outputs": [
        {
          "output_type": "display_data",
          "data": {
            "text/plain": [
              "{'accuracy': 0.997584342956543,\n",
              " 'auc': 0.8066099286079407,\n",
              " 'fn': 74.0,\n",
              " 'fp': 98.0,\n",
              " 'loss': 0.040800541639328,\n",
              " 'precision': 0.3636363744735718,\n",
              " 'recall': 0.4307692348957062,\n",
              " 'tn': 70974.0,\n",
              " 'tp': 56.0}"
            ]
          },
          "metadata": {}
        }
      ],
      "source": [
        "# Evaluate the model\n",
        "scores = model.evaluate(X_test, y_test, verbose=0)\n",
        "\n",
        "# Define metrics dictionary\n",
        "metrics = {k: v for k, v in zip(model.metrics_names, scores)}\n",
        "\n",
        "# Display evaluation metrics results\n",
        "display(metrics)"
      ]
    },
    {
      "cell_type": "markdown",
      "metadata": {
        "id": "28KWZ8SPx-Ge"
      },
      "source": [
        "#### Confusion Matrix"
      ]
    },
    {
      "cell_type": "code",
      "execution_count": 22,
      "metadata": {
        "colab": {
          "base_uri": "https://localhost:8080/",
          "height": 143
        },
        "id": "dhDNtYKex-Ge",
        "outputId": "b82a9f86-644d-4972-9391-8fea067f4d6f"
      },
      "outputs": [
        {
          "output_type": "execute_result",
          "data": {
            "text/plain": [
              "Predicted   Positive (1) Negative (0)\n",
              "Actual                               \n",
              "Positive(1)      TP=56.0      FN=98.0\n",
              "Negative(0)      FP=74.0   TN=70974.0"
            ],
            "text/html": [
              "\n",
              "  <div id=\"df-6a77a964-ae45-43bb-84a4-3c4e878b3abe\">\n",
              "    <div class=\"colab-df-container\">\n",
              "      <div>\n",
              "<style scoped>\n",
              "    .dataframe tbody tr th:only-of-type {\n",
              "        vertical-align: middle;\n",
              "    }\n",
              "\n",
              "    .dataframe tbody tr th {\n",
              "        vertical-align: top;\n",
              "    }\n",
              "\n",
              "    .dataframe thead th {\n",
              "        text-align: right;\n",
              "    }\n",
              "</style>\n",
              "<table border=\"1\" class=\"dataframe\">\n",
              "  <thead>\n",
              "    <tr style=\"text-align: right;\">\n",
              "      <th>Predicted</th>\n",
              "      <th>Positive (1)</th>\n",
              "      <th>Negative (0)</th>\n",
              "    </tr>\n",
              "    <tr>\n",
              "      <th>Actual</th>\n",
              "      <th></th>\n",
              "      <th></th>\n",
              "    </tr>\n",
              "  </thead>\n",
              "  <tbody>\n",
              "    <tr>\n",
              "      <th>Positive(1)</th>\n",
              "      <td>TP=56.0</td>\n",
              "      <td>FN=98.0</td>\n",
              "    </tr>\n",
              "    <tr>\n",
              "      <th>Negative(0)</th>\n",
              "      <td>FP=74.0</td>\n",
              "      <td>TN=70974.0</td>\n",
              "    </tr>\n",
              "  </tbody>\n",
              "</table>\n",
              "</div>\n",
              "      <button class=\"colab-df-convert\" onclick=\"convertToInteractive('df-6a77a964-ae45-43bb-84a4-3c4e878b3abe')\"\n",
              "              title=\"Convert this dataframe to an interactive table.\"\n",
              "              style=\"display:none;\">\n",
              "        \n",
              "  <svg xmlns=\"http://www.w3.org/2000/svg\" height=\"24px\"viewBox=\"0 0 24 24\"\n",
              "       width=\"24px\">\n",
              "    <path d=\"M0 0h24v24H0V0z\" fill=\"none\"/>\n",
              "    <path d=\"M18.56 5.44l.94 2.06.94-2.06 2.06-.94-2.06-.94-.94-2.06-.94 2.06-2.06.94zm-11 1L8.5 8.5l.94-2.06 2.06-.94-2.06-.94L8.5 2.5l-.94 2.06-2.06.94zm10 10l.94 2.06.94-2.06 2.06-.94-2.06-.94-.94-2.06-.94 2.06-2.06.94z\"/><path d=\"M17.41 7.96l-1.37-1.37c-.4-.4-.92-.59-1.43-.59-.52 0-1.04.2-1.43.59L10.3 9.45l-7.72 7.72c-.78.78-.78 2.05 0 2.83L4 21.41c.39.39.9.59 1.41.59.51 0 1.02-.2 1.41-.59l7.78-7.78 2.81-2.81c.8-.78.8-2.07 0-2.86zM5.41 20L4 18.59l7.72-7.72 1.47 1.35L5.41 20z\"/>\n",
              "  </svg>\n",
              "      </button>\n",
              "      \n",
              "  <style>\n",
              "    .colab-df-container {\n",
              "      display:flex;\n",
              "      flex-wrap:wrap;\n",
              "      gap: 12px;\n",
              "    }\n",
              "\n",
              "    .colab-df-convert {\n",
              "      background-color: #E8F0FE;\n",
              "      border: none;\n",
              "      border-radius: 50%;\n",
              "      cursor: pointer;\n",
              "      display: none;\n",
              "      fill: #1967D2;\n",
              "      height: 32px;\n",
              "      padding: 0 0 0 0;\n",
              "      width: 32px;\n",
              "    }\n",
              "\n",
              "    .colab-df-convert:hover {\n",
              "      background-color: #E2EBFA;\n",
              "      box-shadow: 0px 1px 2px rgba(60, 64, 67, 0.3), 0px 1px 3px 1px rgba(60, 64, 67, 0.15);\n",
              "      fill: #174EA6;\n",
              "    }\n",
              "\n",
              "    [theme=dark] .colab-df-convert {\n",
              "      background-color: #3B4455;\n",
              "      fill: #D2E3FC;\n",
              "    }\n",
              "\n",
              "    [theme=dark] .colab-df-convert:hover {\n",
              "      background-color: #434B5C;\n",
              "      box-shadow: 0px 1px 3px 1px rgba(0, 0, 0, 0.15);\n",
              "      filter: drop-shadow(0px 1px 2px rgba(0, 0, 0, 0.3));\n",
              "      fill: #FFFFFF;\n",
              "    }\n",
              "  </style>\n",
              "\n",
              "      <script>\n",
              "        const buttonEl =\n",
              "          document.querySelector('#df-6a77a964-ae45-43bb-84a4-3c4e878b3abe button.colab-df-convert');\n",
              "        buttonEl.style.display =\n",
              "          google.colab.kernel.accessAllowed ? 'block' : 'none';\n",
              "\n",
              "        async function convertToInteractive(key) {\n",
              "          const element = document.querySelector('#df-6a77a964-ae45-43bb-84a4-3c4e878b3abe');\n",
              "          const dataTable =\n",
              "            await google.colab.kernel.invokeFunction('convertToInteractive',\n",
              "                                                     [key], {});\n",
              "          if (!dataTable) return;\n",
              "\n",
              "          const docLinkHtml = 'Like what you see? Visit the ' +\n",
              "            '<a target=\"_blank\" href=https://colab.research.google.com/notebooks/data_table.ipynb>data table notebook</a>'\n",
              "            + ' to learn more about interactive tables.';\n",
              "          element.innerHTML = '';\n",
              "          dataTable['output_type'] = 'display_data';\n",
              "          await google.colab.output.renderOutput(dataTable, element);\n",
              "          const docLink = document.createElement('div');\n",
              "          docLink.innerHTML = docLinkHtml;\n",
              "          element.appendChild(docLink);\n",
              "        }\n",
              "      </script>\n",
              "    </div>\n",
              "  </div>\n",
              "  "
            ]
          },
          "metadata": {},
          "execution_count": 22
        }
      ],
      "source": [
        "# Define the confusion matrix data\n",
        "cm_df = pd.DataFrame(\n",
        "    {\n",
        "        \"Positive (1)\": [f\"TP={metrics['tp']}\", f\"FP={metrics['fn']}\"],\n",
        "        \"Negative (0)\": [f\"FN={metrics['fp']}\", f\"TN={metrics['tn']}\"],\n",
        "    },\n",
        "    index=[\"Positive(1)\", \"Negative(0)\"],\n",
        ")\n",
        "cm_df.index.name = \"Actual\"\n",
        "cm_df.columns.name = \"Predicted\"\n",
        "\n",
        "# Show the confusion matrix\n",
        "cm_df"
      ]
    },
    {
      "cell_type": "markdown",
      "metadata": {
        "id": "emTYlk-bx-Gf"
      },
      "source": [
        "#### Classification Report"
      ]
    },
    {
      "cell_type": "code",
      "execution_count": 23,
      "metadata": {
        "colab": {
          "base_uri": "https://localhost:8080/"
        },
        "id": "fz1lNXfOx-Gf",
        "outputId": "52ec9453-bc26-45b7-deba-623eacd03ebb"
      },
      "outputs": [
        {
          "output_type": "stream",
          "name": "stdout",
          "text": [
            "              precision    recall  f1-score   support\n",
            "\n",
            "           0       1.00      1.00      1.00     71048\n",
            "           1       0.43      0.36      0.39       154\n",
            "\n",
            "    accuracy                           1.00     71202\n",
            "   macro avg       0.71      0.68      0.70     71202\n",
            "weighted avg       1.00      1.00      1.00     71202\n",
            "\n"
          ]
        }
      ],
      "source": [
        "# Import the classification_report method from sklearn\n",
        "from sklearn.metrics import classification_report\n",
        "\n",
        "# Predict classes using testing data\n",
        "y_predict_classes = (model.predict(X_test) > 0.5).astype(\"int32\")\n",
        "\n",
        "# Display classification report\n",
        "print(classification_report(y_predict_classes, y_test))"
      ]
    },
    {
      "cell_type": "code",
      "execution_count": 23,
      "metadata": {
        "id": "iUiNiB_Gx-Gf"
      },
      "outputs": [],
      "source": [
        ""
      ]
    }
  ],
  "metadata": {
    "file_extension": ".py",
    "kernelspec": {
      "display_name": "Python 3 (ipykernel)",
      "language": "python",
      "name": "python3"
    },
    "language_info": {
      "codemirror_mode": {
        "name": "ipython",
        "version": 3
      },
      "file_extension": ".py",
      "mimetype": "text/x-python",
      "name": "python",
      "nbconvert_exporter": "python",
      "pygments_lexer": "ipython3",
      "version": "3.8.11"
    },
    "mimetype": "text/x-python",
    "name": "python",
    "npconvert_exporter": "python",
    "pygments_lexer": "ipython3",
    "version": 3,
    "colab": {
      "name": "Colab_roc_auc_fraud.ipynb",
      "provenance": []
    }
  },
  "nbformat": 4,
  "nbformat_minor": 0
}