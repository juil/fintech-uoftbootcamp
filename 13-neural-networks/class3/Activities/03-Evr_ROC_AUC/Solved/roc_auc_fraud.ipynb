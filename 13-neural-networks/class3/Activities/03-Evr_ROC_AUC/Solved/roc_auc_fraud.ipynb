{
 "cells": [
  {
   "cell_type": "markdown",
   "metadata": {},
   "source": [
    "# Instructor Do: Intro to the ROC Curve and AUC\n",
    "\n",
    "In this activity, students will learn how to measure the performance of a binary classification model by fetching metrics from Keras, as well as plotting and interpreting the ROC curve and AUC."
   ]
  },
  {
   "cell_type": "code",
   "execution_count": 1,
   "metadata": {},
   "outputs": [],
   "source": [
    "# Initial imports\n",
    "import pandas as pd\n",
    "import numpy as np\n",
    "import matplotlib.pyplot as plt\n",
    "import tensorflow as tf\n",
    "from pathlib import Path\n",
    "\n",
    "%matplotlib inline"
   ]
  },
  {
   "cell_type": "markdown",
   "metadata": {},
   "source": [
    "## The Dataset\n",
    "\n",
    "The data provided for this demo contains anonymous information about `284807` credit card transactions made by European credit cardholders in September 2013.\n",
    "\n",
    "The dataset is going to be used to create a binary classification model using a deep neural network to detect fraudulent transactions. It contains nine numerical variables, which are the result of PCA transformation to protect the confidentiality of credit cardholders. Only the transaction amount can be seen as is.\n",
    "\n",
    "This dataset is an abstract of the file shared by the [Machine Learning Group](http://mlg.ulb.ac.be) of the Université Libre de Bruxelles (ULB)."
   ]
  },
  {
   "cell_type": "code",
   "execution_count": 2,
   "metadata": {},
   "outputs": [
    {
     "data": {
      "text/html": [
       "<div>\n",
       "<style scoped>\n",
       "    .dataframe tbody tr th:only-of-type {\n",
       "        vertical-align: middle;\n",
       "    }\n",
       "\n",
       "    .dataframe tbody tr th {\n",
       "        vertical-align: top;\n",
       "    }\n",
       "\n",
       "    .dataframe thead th {\n",
       "        text-align: right;\n",
       "    }\n",
       "</style>\n",
       "<table border=\"1\" class=\"dataframe\">\n",
       "  <thead>\n",
       "    <tr style=\"text-align: right;\">\n",
       "      <th></th>\n",
       "      <th>V1</th>\n",
       "      <th>V2</th>\n",
       "      <th>V3</th>\n",
       "      <th>V4</th>\n",
       "      <th>V5</th>\n",
       "      <th>V6</th>\n",
       "      <th>V7</th>\n",
       "      <th>V8</th>\n",
       "      <th>V9</th>\n",
       "      <th>Amount</th>\n",
       "      <th>Class</th>\n",
       "    </tr>\n",
       "  </thead>\n",
       "  <tbody>\n",
       "    <tr>\n",
       "      <th>0</th>\n",
       "      <td>-1.359807</td>\n",
       "      <td>-0.072781</td>\n",
       "      <td>2.536347</td>\n",
       "      <td>1.378155</td>\n",
       "      <td>-0.338321</td>\n",
       "      <td>0.462388</td>\n",
       "      <td>0.239599</td>\n",
       "      <td>0.098698</td>\n",
       "      <td>0.363787</td>\n",
       "      <td>149.62</td>\n",
       "      <td>0</td>\n",
       "    </tr>\n",
       "    <tr>\n",
       "      <th>1</th>\n",
       "      <td>1.191857</td>\n",
       "      <td>0.266151</td>\n",
       "      <td>0.166480</td>\n",
       "      <td>0.448154</td>\n",
       "      <td>0.060018</td>\n",
       "      <td>-0.082361</td>\n",
       "      <td>-0.078803</td>\n",
       "      <td>0.085102</td>\n",
       "      <td>-0.255425</td>\n",
       "      <td>2.69</td>\n",
       "      <td>0</td>\n",
       "    </tr>\n",
       "    <tr>\n",
       "      <th>2</th>\n",
       "      <td>-1.358354</td>\n",
       "      <td>-1.340163</td>\n",
       "      <td>1.773209</td>\n",
       "      <td>0.379780</td>\n",
       "      <td>-0.503198</td>\n",
       "      <td>1.800499</td>\n",
       "      <td>0.791461</td>\n",
       "      <td>0.247676</td>\n",
       "      <td>-1.514654</td>\n",
       "      <td>378.66</td>\n",
       "      <td>0</td>\n",
       "    </tr>\n",
       "    <tr>\n",
       "      <th>3</th>\n",
       "      <td>-0.966272</td>\n",
       "      <td>-0.185226</td>\n",
       "      <td>1.792993</td>\n",
       "      <td>-0.863291</td>\n",
       "      <td>-0.010309</td>\n",
       "      <td>1.247203</td>\n",
       "      <td>0.237609</td>\n",
       "      <td>0.377436</td>\n",
       "      <td>-1.387024</td>\n",
       "      <td>123.50</td>\n",
       "      <td>0</td>\n",
       "    </tr>\n",
       "    <tr>\n",
       "      <th>4</th>\n",
       "      <td>-1.158233</td>\n",
       "      <td>0.877737</td>\n",
       "      <td>1.548718</td>\n",
       "      <td>0.403034</td>\n",
       "      <td>-0.407193</td>\n",
       "      <td>0.095921</td>\n",
       "      <td>0.592941</td>\n",
       "      <td>-0.270533</td>\n",
       "      <td>0.817739</td>\n",
       "      <td>69.99</td>\n",
       "      <td>0</td>\n",
       "    </tr>\n",
       "  </tbody>\n",
       "</table>\n",
       "</div>"
      ],
      "text/plain": [
       "         V1        V2        V3        V4        V5        V6        V7  \\\n",
       "0 -1.359807 -0.072781  2.536347  1.378155 -0.338321  0.462388  0.239599   \n",
       "1  1.191857  0.266151  0.166480  0.448154  0.060018 -0.082361 -0.078803   \n",
       "2 -1.358354 -1.340163  1.773209  0.379780 -0.503198  1.800499  0.791461   \n",
       "3 -0.966272 -0.185226  1.792993 -0.863291 -0.010309  1.247203  0.237609   \n",
       "4 -1.158233  0.877737  1.548718  0.403034 -0.407193  0.095921  0.592941   \n",
       "\n",
       "         V8        V9  Amount  Class  \n",
       "0  0.098698  0.363787  149.62      0  \n",
       "1  0.085102 -0.255425    2.69      0  \n",
       "2  0.247676 -1.514654  378.66      0  \n",
       "3  0.377436 -1.387024  123.50      0  \n",
       "4 -0.270533  0.817739   69.99      0  "
      ]
     },
     "execution_count": 2,
     "metadata": {},
     "output_type": "execute_result"
    }
   ],
   "source": [
    "# Import the dataset\n",
    "file_path = Path(\"../Resources/transactions.csv\")\n",
    "transactions_df = pd.read_csv(file_path)\n",
    "transactions_df.head()"
   ]
  },
  {
   "cell_type": "markdown",
   "metadata": {},
   "source": [
    "## Data Preprocessing"
   ]
  },
  {
   "cell_type": "code",
   "execution_count": 3,
   "metadata": {},
   "outputs": [],
   "source": [
    "# Creating the X and y sets\n",
    "X = transactions_df.iloc[:, 0:10].values\n",
    "y = transactions_df[\"Class\"].values"
   ]
  },
  {
   "cell_type": "code",
   "execution_count": 4,
   "metadata": {},
   "outputs": [],
   "source": [
    "# Creating training, validation, and testing sets\n",
    "from sklearn.model_selection import train_test_split\n",
    "\n",
    "X_train, X_test, y_train, y_test = train_test_split(X, y, random_state=78)\n",
    "\n",
    "X_train, X_val, y_train, y_val = train_test_split(X_train, y_train, random_state=78)"
   ]
  },
  {
   "cell_type": "code",
   "execution_count": 5,
   "metadata": {},
   "outputs": [],
   "source": [
    "# Import the StandardScaler from sklearn\n",
    "from sklearn.preprocessing import StandardScaler\n",
    "\n",
    "# Scale the data\n",
    "scaler = StandardScaler().fit(X_train)\n",
    "X_train = scaler.transform(X_train)"
   ]
  },
  {
   "cell_type": "markdown",
   "metadata": {},
   "source": [
    "## Build and Train the Deep Learning Model"
   ]
  },
  {
   "cell_type": "markdown",
   "metadata": {},
   "source": [
    " ### Importing the Keras Modules"
   ]
  },
  {
   "cell_type": "code",
   "execution_count": 6,
   "metadata": {},
   "outputs": [],
   "source": [
    "# Import Keras modules for model creation\n",
    "from tensorflow.keras.models import Sequential\n",
    "from tensorflow.keras.layers import Dense"
   ]
  },
  {
   "cell_type": "markdown",
   "metadata": {},
   "source": [
    " ### Setting Up the Model"
   ]
  },
  {
   "cell_type": "code",
   "execution_count": 7,
   "metadata": {},
   "outputs": [],
   "source": [
    "# Model set-up\n",
    "number_input_features = 10\n",
    "hidden_nodes_layer1 = 15\n",
    "hidden_nodes_layer2 = 5"
   ]
  },
  {
   "cell_type": "markdown",
   "metadata": {},
   "source": [
    " ### Defining the Model's Structure"
   ]
  },
  {
   "cell_type": "code",
   "execution_count": 8,
   "metadata": {},
   "outputs": [],
   "source": [
    "# Define the LSTM RNN model\n",
    "model = Sequential()\n",
    "\n",
    "# Layer 1\n",
    "model.add(\n",
    "    Dense(units=hidden_nodes_layer1, input_dim=number_input_features, activation=\"relu\")\n",
    ")\n",
    "\n",
    "# Layer 2\n",
    "model.add(Dense(units=hidden_nodes_layer2, activation=\"relu\"))\n",
    "\n",
    "# Output layer\n",
    "model.add(Dense(1, activation=\"sigmoid\"))"
   ]
  },
  {
   "cell_type": "markdown",
   "metadata": {},
   "source": [
    " ### Compiling the Model"
   ]
  },
  {
   "cell_type": "code",
   "execution_count": 9,
   "metadata": {},
   "outputs": [],
   "source": [
    "# Compile the model\n",
    "model.compile(\n",
    "    loss=\"binary_crossentropy\",\n",
    "    optimizer=\"adam\",\n",
    "    metrics=[\n",
    "        \"accuracy\",\n",
    "        tf.keras.metrics.TruePositives(name=\"tp\"),\n",
    "        tf.keras.metrics.TrueNegatives(name=\"tn\"),\n",
    "        tf.keras.metrics.FalsePositives(name=\"fp\"),\n",
    "        tf.keras.metrics.FalseNegatives(name=\"fn\"),\n",
    "        tf.keras.metrics.Precision(name=\"precision\"),\n",
    "        tf.keras.metrics.Recall(name=\"recall\"),\n",
    "        tf.keras.metrics.AUC(name=\"auc\"),\n",
    "    ],\n",
    ")"
   ]
  },
  {
   "cell_type": "code",
   "execution_count": 10,
   "metadata": {},
   "outputs": [
    {
     "name": "stdout",
     "output_type": "stream",
     "text": [
      "Model: \"sequential\"\n",
      "_________________________________________________________________\n",
      "Layer (type)                 Output Shape              Param #   \n",
      "=================================================================\n",
      "dense (Dense)                (None, 15)                165       \n",
      "_________________________________________________________________\n",
      "dense_1 (Dense)              (None, 5)                 80        \n",
      "_________________________________________________________________\n",
      "dense_2 (Dense)              (None, 1)                 6         \n",
      "=================================================================\n",
      "Total params: 251\n",
      "Trainable params: 251\n",
      "Non-trainable params: 0\n",
      "_________________________________________________________________\n"
     ]
    }
   ],
   "source": [
    "# Summarize the model\n",
    "model.summary()"
   ]
  },
  {
   "cell_type": "markdown",
   "metadata": {},
   "source": [
    " ### Training the Model"
   ]
  },
  {
   "cell_type": "code",
   "execution_count": 11,
   "metadata": {},
   "outputs": [
    {
     "name": "stdout",
     "output_type": "stream",
     "text": [
      "Epoch 1/50\n",
      "161/161 [==============================] - 4s 9ms/step - loss: 0.1355 - accuracy: 0.9984 - tp: 0.0000e+00 - tn: 159946.0000 - fp: 0.0000e+00 - fn: 257.0000 - precision: 0.0000e+00 - recall: 0.0000e+00 - auc: 0.2137 - val_loss: 0.1041 - val_accuracy: 0.9980 - val_tp: 0.0000e+00 - val_tn: 53297.0000 - val_fp: 0.0000e+00 - val_fn: 105.0000 - val_precision: 0.0000e+00 - val_recall: 0.0000e+00 - val_auc: 0.3542\n",
      "Epoch 2/50\n",
      "161/161 [==============================] - 0s 3ms/step - loss: 0.0251 - accuracy: 0.9984 - tp: 0.0000e+00 - tn: 159946.0000 - fp: 0.0000e+00 - fn: 257.0000 - precision: 0.0000e+00 - recall: 0.0000e+00 - auc: 0.4766 - val_loss: 0.1419 - val_accuracy: 0.9980 - val_tp: 0.0000e+00 - val_tn: 53297.0000 - val_fp: 0.0000e+00 - val_fn: 105.0000 - val_precision: 0.0000e+00 - val_recall: 0.0000e+00 - val_auc: 0.5104\n",
      "Epoch 3/50\n",
      "161/161 [==============================] - 0s 3ms/step - loss: 0.0123 - accuracy: 0.9984 - tp: 0.0000e+00 - tn: 159946.0000 - fp: 0.0000e+00 - fn: 257.0000 - precision: 0.0000e+00 - recall: 0.0000e+00 - auc: 0.7816 - val_loss: 0.1636 - val_accuracy: 0.9980 - val_tp: 0.0000e+00 - val_tn: 53297.0000 - val_fp: 0.0000e+00 - val_fn: 105.0000 - val_precision: 0.0000e+00 - val_recall: 0.0000e+00 - val_auc: 0.6433\n",
      "Epoch 4/50\n",
      "161/161 [==============================] - 0s 3ms/step - loss: 0.0084 - accuracy: 0.9984 - tp: 0.0000e+00 - tn: 159946.0000 - fp: 0.0000e+00 - fn: 257.0000 - precision: 0.0000e+00 - recall: 0.0000e+00 - auc: 0.8683 - val_loss: 0.1601 - val_accuracy: 0.9980 - val_tp: 0.0000e+00 - val_tn: 53297.0000 - val_fp: 0.0000e+00 - val_fn: 105.0000 - val_precision: 0.0000e+00 - val_recall: 0.0000e+00 - val_auc: 0.6912\n",
      "Epoch 5/50\n",
      "161/161 [==============================] - 1s 4ms/step - loss: 0.0068 - accuracy: 0.9984 - tp: 0.0000e+00 - tn: 159946.0000 - fp: 0.0000e+00 - fn: 257.0000 - precision: 0.0000e+00 - recall: 0.0000e+00 - auc: 0.8890 - val_loss: 0.1531 - val_accuracy: 0.9980 - val_tp: 0.0000e+00 - val_tn: 53297.0000 - val_fp: 0.0000e+00 - val_fn: 105.0000 - val_precision: 0.0000e+00 - val_recall: 0.0000e+00 - val_auc: 0.7097\n",
      "Epoch 6/50\n",
      "161/161 [==============================] - 1s 3ms/step - loss: 0.0061 - accuracy: 0.9984 - tp: 0.0000e+00 - tn: 159946.0000 - fp: 0.0000e+00 - fn: 257.0000 - precision: 0.0000e+00 - recall: 0.0000e+00 - auc: 0.8919 - val_loss: 0.1430 - val_accuracy: 0.9980 - val_tp: 0.0000e+00 - val_tn: 53297.0000 - val_fp: 0.0000e+00 - val_fn: 105.0000 - val_precision: 0.0000e+00 - val_recall: 0.0000e+00 - val_auc: 0.7115\n",
      "Epoch 7/50\n",
      "161/161 [==============================] - 1s 5ms/step - loss: 0.0056 - accuracy: 0.9984 - tp: 0.0000e+00 - tn: 159946.0000 - fp: 0.0000e+00 - fn: 257.0000 - precision: 0.0000e+00 - recall: 0.0000e+00 - auc: 0.8970 - val_loss: 0.1340 - val_accuracy: 0.9980 - val_tp: 0.0000e+00 - val_tn: 53297.0000 - val_fp: 0.0000e+00 - val_fn: 105.0000 - val_precision: 0.0000e+00 - val_recall: 0.0000e+00 - val_auc: 0.7220\n",
      "Epoch 8/50\n",
      "161/161 [==============================] - 1s 4ms/step - loss: 0.0054 - accuracy: 0.9984 - tp: 0.0000e+00 - tn: 159946.0000 - fp: 0.0000e+00 - fn: 257.0000 - precision: 0.0000e+00 - recall: 0.0000e+00 - auc: 0.8982 - val_loss: 0.1235 - val_accuracy: 0.9980 - val_tp: 0.0000e+00 - val_tn: 53297.0000 - val_fp: 0.0000e+00 - val_fn: 105.0000 - val_precision: 0.0000e+00 - val_recall: 0.0000e+00 - val_auc: 0.7316\n",
      "Epoch 9/50\n",
      "161/161 [==============================] - 0s 3ms/step - loss: 0.0051 - accuracy: 0.9984 - tp: 0.0000e+00 - tn: 159946.0000 - fp: 0.0000e+00 - fn: 257.0000 - precision: 0.0000e+00 - recall: 0.0000e+00 - auc: 0.9007 - val_loss: 0.1186 - val_accuracy: 0.9980 - val_tp: 0.0000e+00 - val_tn: 53297.0000 - val_fp: 0.0000e+00 - val_fn: 105.0000 - val_precision: 0.0000e+00 - val_recall: 0.0000e+00 - val_auc: 0.7413\n",
      "Epoch 10/50\n",
      "161/161 [==============================] - 1s 3ms/step - loss: 0.0049 - accuracy: 0.9984 - tp: 0.0000e+00 - tn: 159946.0000 - fp: 0.0000e+00 - fn: 257.0000 - precision: 0.0000e+00 - recall: 0.0000e+00 - auc: 0.9068 - val_loss: 0.1118 - val_accuracy: 0.9980 - val_tp: 0.0000e+00 - val_tn: 53297.0000 - val_fp: 0.0000e+00 - val_fn: 105.0000 - val_precision: 0.0000e+00 - val_recall: 0.0000e+00 - val_auc: 0.7416\n",
      "Epoch 11/50\n",
      "161/161 [==============================] - 0s 3ms/step - loss: 0.0048 - accuracy: 0.9984 - tp: 0.0000e+00 - tn: 159946.0000 - fp: 0.0000e+00 - fn: 257.0000 - precision: 0.0000e+00 - recall: 0.0000e+00 - auc: 0.9070 - val_loss: 0.1029 - val_accuracy: 0.9980 - val_tp: 0.0000e+00 - val_tn: 53297.0000 - val_fp: 0.0000e+00 - val_fn: 105.0000 - val_precision: 0.0000e+00 - val_recall: 0.0000e+00 - val_auc: 0.7464\n",
      "Epoch 12/50\n",
      "161/161 [==============================] - 1s 3ms/step - loss: 0.0047 - accuracy: 0.9984 - tp: 0.0000e+00 - tn: 159946.0000 - fp: 0.0000e+00 - fn: 257.0000 - precision: 0.0000e+00 - recall: 0.0000e+00 - auc: 0.9113 - val_loss: 0.0944 - val_accuracy: 0.9980 - val_tp: 0.0000e+00 - val_tn: 53297.0000 - val_fp: 0.0000e+00 - val_fn: 105.0000 - val_precision: 0.0000e+00 - val_recall: 0.0000e+00 - val_auc: 0.7591\n",
      "Epoch 13/50\n",
      "161/161 [==============================] - 0s 3ms/step - loss: 0.0046 - accuracy: 0.9984 - tp: 0.0000e+00 - tn: 159946.0000 - fp: 0.0000e+00 - fn: 257.0000 - precision: 0.0000e+00 - recall: 0.0000e+00 - auc: 0.9134 - val_loss: 0.0925 - val_accuracy: 0.9980 - val_tp: 0.0000e+00 - val_tn: 53297.0000 - val_fp: 0.0000e+00 - val_fn: 105.0000 - val_precision: 0.0000e+00 - val_recall: 0.0000e+00 - val_auc: 0.7554\n",
      "Epoch 14/50\n",
      "161/161 [==============================] - 0s 3ms/step - loss: 0.0045 - accuracy: 0.9984 - tp: 0.0000e+00 - tn: 159946.0000 - fp: 0.0000e+00 - fn: 257.0000 - precision: 0.0000e+00 - recall: 0.0000e+00 - auc: 0.9117 - val_loss: 0.0881 - val_accuracy: 0.9980 - val_tp: 0.0000e+00 - val_tn: 53297.0000 - val_fp: 0.0000e+00 - val_fn: 105.0000 - val_precision: 0.0000e+00 - val_recall: 0.0000e+00 - val_auc: 0.7602\n",
      "Epoch 15/50\n",
      "161/161 [==============================] - 1s 4ms/step - loss: 0.0044 - accuracy: 0.9984 - tp: 0.0000e+00 - tn: 159946.0000 - fp: 0.0000e+00 - fn: 257.0000 - precision: 0.0000e+00 - recall: 0.0000e+00 - auc: 0.9178 - val_loss: 0.0818 - val_accuracy: 0.9980 - val_tp: 0.0000e+00 - val_tn: 53297.0000 - val_fp: 0.0000e+00 - val_fn: 105.0000 - val_precision: 0.0000e+00 - val_recall: 0.0000e+00 - val_auc: 0.7587\n",
      "Epoch 16/50\n",
      "161/161 [==============================] - 1s 4ms/step - loss: 0.0044 - accuracy: 0.9984 - tp: 0.0000e+00 - tn: 159946.0000 - fp: 0.0000e+00 - fn: 257.0000 - precision: 0.0000e+00 - recall: 0.0000e+00 - auc: 0.9159 - val_loss: 0.0779 - val_accuracy: 0.9980 - val_tp: 0.0000e+00 - val_tn: 53297.0000 - val_fp: 0.0000e+00 - val_fn: 105.0000 - val_precision: 0.0000e+00 - val_recall: 0.0000e+00 - val_auc: 0.7584\n",
      "Epoch 17/50\n",
      "161/161 [==============================] - 1s 4ms/step - loss: 0.0043 - accuracy: 0.9984 - tp: 0.0000e+00 - tn: 159946.0000 - fp: 0.0000e+00 - fn: 257.0000 - precision: 0.0000e+00 - recall: 0.0000e+00 - auc: 0.9219 - val_loss: 0.0742 - val_accuracy: 0.9980 - val_tp: 0.0000e+00 - val_tn: 53297.0000 - val_fp: 0.0000e+00 - val_fn: 105.0000 - val_precision: 0.0000e+00 - val_recall: 0.0000e+00 - val_auc: 0.7574\n",
      "Epoch 18/50\n",
      "161/161 [==============================] - 1s 3ms/step - loss: 0.0043 - accuracy: 0.9984 - tp: 0.0000e+00 - tn: 159946.0000 - fp: 0.0000e+00 - fn: 257.0000 - precision: 0.0000e+00 - recall: 0.0000e+00 - auc: 0.9220 - val_loss: 0.0681 - val_accuracy: 0.9980 - val_tp: 0.0000e+00 - val_tn: 53297.0000 - val_fp: 0.0000e+00 - val_fn: 105.0000 - val_precision: 0.0000e+00 - val_recall: 0.0000e+00 - val_auc: 0.7646\n",
      "Epoch 19/50\n",
      "161/161 [==============================] - 0s 3ms/step - loss: 0.0042 - accuracy: 0.9984 - tp: 0.0000e+00 - tn: 159946.0000 - fp: 0.0000e+00 - fn: 257.0000 - precision: 0.0000e+00 - recall: 0.0000e+00 - auc: 0.9222 - val_loss: 0.0643 - val_accuracy: 0.9980 - val_tp: 0.0000e+00 - val_tn: 53297.0000 - val_fp: 0.0000e+00 - val_fn: 105.0000 - val_precision: 0.0000e+00 - val_recall: 0.0000e+00 - val_auc: 0.7687\n",
      "Epoch 20/50\n",
      "161/161 [==============================] - 1s 4ms/step - loss: 0.0042 - accuracy: 0.9984 - tp: 0.0000e+00 - tn: 159946.0000 - fp: 0.0000e+00 - fn: 257.0000 - precision: 0.0000e+00 - recall: 0.0000e+00 - auc: 0.9220 - val_loss: 0.0598 - val_accuracy: 0.9980 - val_tp: 0.0000e+00 - val_tn: 53297.0000 - val_fp: 0.0000e+00 - val_fn: 105.0000 - val_precision: 0.0000e+00 - val_recall: 0.0000e+00 - val_auc: 0.7672\n",
      "Epoch 21/50\n",
      "161/161 [==============================] - 1s 3ms/step - loss: 0.0041 - accuracy: 0.9984 - tp: 0.0000e+00 - tn: 159946.0000 - fp: 0.0000e+00 - fn: 257.0000 - precision: 0.0000e+00 - recall: 0.0000e+00 - auc: 0.9185 - val_loss: 0.0627 - val_accuracy: 0.9980 - val_tp: 0.0000e+00 - val_tn: 53297.0000 - val_fp: 0.0000e+00 - val_fn: 105.0000 - val_precision: 0.0000e+00 - val_recall: 0.0000e+00 - val_auc: 0.7697\n",
      "Epoch 22/50\n",
      "161/161 [==============================] - 1s 3ms/step - loss: 0.0041 - accuracy: 0.9984 - tp: 0.0000e+00 - tn: 159946.0000 - fp: 0.0000e+00 - fn: 257.0000 - precision: 0.0000e+00 - recall: 0.0000e+00 - auc: 0.9205 - val_loss: 0.0562 - val_accuracy: 0.9980 - val_tp: 0.0000e+00 - val_tn: 53297.0000 - val_fp: 0.0000e+00 - val_fn: 105.0000 - val_precision: 0.0000e+00 - val_recall: 0.0000e+00 - val_auc: 0.7759\n",
      "Epoch 23/50\n",
      "161/161 [==============================] - 0s 3ms/step - loss: 0.0040 - accuracy: 0.9984 - tp: 0.0000e+00 - tn: 159946.0000 - fp: 0.0000e+00 - fn: 257.0000 - precision: 0.0000e+00 - recall: 0.0000e+00 - auc: 0.9205 - val_loss: 0.0555 - val_accuracy: 0.9980 - val_tp: 0.0000e+00 - val_tn: 53297.0000 - val_fp: 0.0000e+00 - val_fn: 105.0000 - val_precision: 0.0000e+00 - val_recall: 0.0000e+00 - val_auc: 0.7758\n",
      "Epoch 24/50\n",
      "161/161 [==============================] - 1s 5ms/step - loss: 0.0040 - accuracy: 0.9984 - tp: 0.0000e+00 - tn: 159946.0000 - fp: 0.0000e+00 - fn: 257.0000 - precision: 0.0000e+00 - recall: 0.0000e+00 - auc: 0.9206 - val_loss: 0.0605 - val_accuracy: 0.9980 - val_tp: 0.0000e+00 - val_tn: 53297.0000 - val_fp: 0.0000e+00 - val_fn: 105.0000 - val_precision: 0.0000e+00 - val_recall: 0.0000e+00 - val_auc: 0.7778\n",
      "Epoch 25/50\n",
      "161/161 [==============================] - 1s 4ms/step - loss: 0.0040 - accuracy: 0.9984 - tp: 0.0000e+00 - tn: 159946.0000 - fp: 0.0000e+00 - fn: 257.0000 - precision: 0.0000e+00 - recall: 0.0000e+00 - auc: 0.9206 - val_loss: 0.0651 - val_accuracy: 0.9980 - val_tp: 0.0000e+00 - val_tn: 53297.0000 - val_fp: 0.0000e+00 - val_fn: 105.0000 - val_precision: 0.0000e+00 - val_recall: 0.0000e+00 - val_auc: 0.7792\n",
      "Epoch 26/50\n",
      "161/161 [==============================] - 0s 3ms/step - loss: 0.0039 - accuracy: 0.9984 - tp: 0.0000e+00 - tn: 159946.0000 - fp: 0.0000e+00 - fn: 257.0000 - precision: 0.0000e+00 - recall: 0.0000e+00 - auc: 0.9207 - val_loss: 0.0680 - val_accuracy: 0.9980 - val_tp: 0.0000e+00 - val_tn: 53297.0000 - val_fp: 0.0000e+00 - val_fn: 105.0000 - val_precision: 0.0000e+00 - val_recall: 0.0000e+00 - val_auc: 0.7758\n",
      "Epoch 27/50\n",
      "161/161 [==============================] - 0s 3ms/step - loss: 0.0039 - accuracy: 0.9984 - tp: 0.0000e+00 - tn: 159946.0000 - fp: 0.0000e+00 - fn: 257.0000 - precision: 0.0000e+00 - recall: 0.0000e+00 - auc: 0.9207 - val_loss: 0.0706 - val_accuracy: 0.9980 - val_tp: 0.0000e+00 - val_tn: 53297.0000 - val_fp: 0.0000e+00 - val_fn: 105.0000 - val_precision: 0.0000e+00 - val_recall: 0.0000e+00 - val_auc: 0.7768\n",
      "Epoch 28/50\n",
      "161/161 [==============================] - 1s 4ms/step - loss: 0.0039 - accuracy: 0.9984 - tp: 0.0000e+00 - tn: 159946.0000 - fp: 0.0000e+00 - fn: 257.0000 - precision: 0.0000e+00 - recall: 0.0000e+00 - auc: 0.9246 - val_loss: 0.0717 - val_accuracy: 0.9980 - val_tp: 0.0000e+00 - val_tn: 53297.0000 - val_fp: 0.0000e+00 - val_fn: 105.0000 - val_precision: 0.0000e+00 - val_recall: 0.0000e+00 - val_auc: 0.7757\n",
      "Epoch 29/50\n",
      "161/161 [==============================] - 1s 3ms/step - loss: 0.0039 - accuracy: 0.9984 - tp: 0.0000e+00 - tn: 159946.0000 - fp: 0.0000e+00 - fn: 257.0000 - precision: 0.0000e+00 - recall: 0.0000e+00 - auc: 0.9266 - val_loss: 0.0718 - val_accuracy: 0.9980 - val_tp: 0.0000e+00 - val_tn: 53297.0000 - val_fp: 0.0000e+00 - val_fn: 105.0000 - val_precision: 0.0000e+00 - val_recall: 0.0000e+00 - val_auc: 0.7761\n",
      "Epoch 30/50\n",
      "161/161 [==============================] - 1s 4ms/step - loss: 0.0038 - accuracy: 0.9985 - tp: 14.0000 - tn: 159945.0000 - fp: 1.0000 - fn: 243.0000 - precision: 0.9333 - recall: 0.0545 - auc: 0.9304 - val_loss: 0.0813 - val_accuracy: 0.9985 - val_tp: 40.0000 - val_tn: 53284.0000 - val_fp: 13.0000 - val_fn: 65.0000 - val_precision: 0.7547 - val_recall: 0.3810 - val_auc: 0.7827\n",
      "Epoch 31/50\n",
      "161/161 [==============================] - 1s 3ms/step - loss: 0.0038 - accuracy: 0.9992 - tp: 146.0000 - tn: 159930.0000 - fp: 16.0000 - fn: 111.0000 - precision: 0.9012 - recall: 0.5681 - auc: 0.9285 - val_loss: 0.0818 - val_accuracy: 0.9985 - val_tp: 39.0000 - val_tn: 53283.0000 - val_fp: 14.0000 - val_fn: 66.0000 - val_precision: 0.7358 - val_recall: 0.3714 - val_auc: 0.7786\n",
      "Epoch 32/50\n",
      "161/161 [==============================] - 0s 3ms/step - loss: 0.0038 - accuracy: 0.9992 - tp: 151.0000 - tn: 159930.0000 - fp: 16.0000 - fn: 106.0000 - precision: 0.9042 - recall: 0.5875 - auc: 0.9267 - val_loss: 0.0857 - val_accuracy: 0.9984 - val_tp: 43.0000 - val_tn: 53276.0000 - val_fp: 21.0000 - val_fn: 62.0000 - val_precision: 0.6719 - val_recall: 0.4095 - val_auc: 0.7831\n",
      "Epoch 33/50\n",
      "161/161 [==============================] - 1s 4ms/step - loss: 0.0038 - accuracy: 0.9992 - tp: 149.0000 - tn: 159929.0000 - fp: 17.0000 - fn: 108.0000 - precision: 0.8976 - recall: 0.5798 - auc: 0.9342 - val_loss: 0.0990 - val_accuracy: 0.9985 - val_tp: 40.0000 - val_tn: 53282.0000 - val_fp: 15.0000 - val_fn: 65.0000 - val_precision: 0.7273 - val_recall: 0.3810 - val_auc: 0.7754\n",
      "Epoch 34/50\n",
      "161/161 [==============================] - 1s 5ms/step - loss: 0.0037 - accuracy: 0.9993 - tp: 155.0000 - tn: 159930.0000 - fp: 16.0000 - fn: 102.0000 - precision: 0.9064 - recall: 0.6031 - auc: 0.9325 - val_loss: 0.0965 - val_accuracy: 0.9985 - val_tp: 38.0000 - val_tn: 53282.0000 - val_fp: 15.0000 - val_fn: 67.0000 - val_precision: 0.7170 - val_recall: 0.3619 - val_auc: 0.7844\n",
      "Epoch 35/50\n",
      "161/161 [==============================] - 0s 3ms/step - loss: 0.0037 - accuracy: 0.9993 - tp: 159.0000 - tn: 159929.0000 - fp: 17.0000 - fn: 98.0000 - precision: 0.9034 - recall: 0.6187 - auc: 0.9344 - val_loss: 0.0958 - val_accuracy: 0.9984 - val_tp: 46.0000 - val_tn: 53273.0000 - val_fp: 24.0000 - val_fn: 59.0000 - val_precision: 0.6571 - val_recall: 0.4381 - val_auc: 0.7790\n",
      "Epoch 36/50\n",
      "161/161 [==============================] - 1s 3ms/step - loss: 0.0037 - accuracy: 0.9993 - tp: 162.0000 - tn: 159927.0000 - fp: 19.0000 - fn: 95.0000 - precision: 0.8950 - recall: 0.6304 - auc: 0.9306 - val_loss: 0.0951 - val_accuracy: 0.9985 - val_tp: 45.0000 - val_tn: 53275.0000 - val_fp: 22.0000 - val_fn: 60.0000 - val_precision: 0.6716 - val_recall: 0.4286 - val_auc: 0.7839\n",
      "Epoch 37/50\n",
      "161/161 [==============================] - 0s 3ms/step - loss: 0.0037 - accuracy: 0.9993 - tp: 165.0000 - tn: 159928.0000 - fp: 18.0000 - fn: 92.0000 - precision: 0.9016 - recall: 0.6420 - auc: 0.9325 - val_loss: 0.0985 - val_accuracy: 0.9985 - val_tp: 41.0000 - val_tn: 53279.0000 - val_fp: 18.0000 - val_fn: 64.0000 - val_precision: 0.6949 - val_recall: 0.3905 - val_auc: 0.7797\n",
      "Epoch 38/50\n",
      "161/161 [==============================] - 1s 4ms/step - loss: 0.0037 - accuracy: 0.9993 - tp: 163.0000 - tn: 159924.0000 - fp: 22.0000 - fn: 94.0000 - precision: 0.8811 - recall: 0.6342 - auc: 0.9383 - val_loss: 0.1032 - val_accuracy: 0.9985 - val_tp: 46.0000 - val_tn: 53274.0000 - val_fp: 23.0000 - val_fn: 59.0000 - val_precision: 0.6667 - val_recall: 0.4381 - val_auc: 0.7797\n",
      "Epoch 39/50\n",
      "161/161 [==============================] - 1s 3ms/step - loss: 0.0037 - accuracy: 0.9993 - tp: 167.0000 - tn: 159926.0000 - fp: 20.0000 - fn: 90.0000 - precision: 0.8930 - recall: 0.6498 - auc: 0.9402 - val_loss: 0.1125 - val_accuracy: 0.9985 - val_tp: 42.0000 - val_tn: 53280.0000 - val_fp: 17.0000 - val_fn: 63.0000 - val_precision: 0.7119 - val_recall: 0.4000 - val_auc: 0.7670\n",
      "Epoch 40/50\n",
      "161/161 [==============================] - 0s 3ms/step - loss: 0.0036 - accuracy: 0.9993 - tp: 167.0000 - tn: 159924.0000 - fp: 22.0000 - fn: 90.0000 - precision: 0.8836 - recall: 0.6498 - auc: 0.9364 - val_loss: 0.1081 - val_accuracy: 0.9983 - val_tp: 46.0000 - val_tn: 53267.0000 - val_fp: 30.0000 - val_fn: 59.0000 - val_precision: 0.6053 - val_recall: 0.4381 - val_auc: 0.7755\n",
      "Epoch 41/50\n",
      "161/161 [==============================] - 1s 3ms/step - loss: 0.0036 - accuracy: 0.9993 - tp: 172.0000 - tn: 159923.0000 - fp: 23.0000 - fn: 85.0000 - precision: 0.8821 - recall: 0.6693 - auc: 0.9327 - val_loss: 0.1057 - val_accuracy: 0.9984 - val_tp: 44.0000 - val_tn: 53272.0000 - val_fp: 25.0000 - val_fn: 61.0000 - val_precision: 0.6377 - val_recall: 0.4190 - val_auc: 0.7844\n",
      "Epoch 42/50\n",
      "161/161 [==============================] - 1s 5ms/step - loss: 0.0036 - accuracy: 0.9993 - tp: 168.0000 - tn: 159927.0000 - fp: 19.0000 - fn: 89.0000 - precision: 0.8984 - recall: 0.6537 - auc: 0.9344 - val_loss: 0.1115 - val_accuracy: 0.9984 - val_tp: 43.0000 - val_tn: 53276.0000 - val_fp: 21.0000 - val_fn: 62.0000 - val_precision: 0.6719 - val_recall: 0.4095 - val_auc: 0.7803\n",
      "Epoch 43/50\n",
      "161/161 [==============================] - 1s 3ms/step - loss: 0.0036 - accuracy: 0.9993 - tp: 167.0000 - tn: 159924.0000 - fp: 22.0000 - fn: 90.0000 - precision: 0.8836 - recall: 0.6498 - auc: 0.9422 - val_loss: 0.1127 - val_accuracy: 0.9984 - val_tp: 46.0000 - val_tn: 53273.0000 - val_fp: 24.0000 - val_fn: 59.0000 - val_precision: 0.6571 - val_recall: 0.4381 - val_auc: 0.7756\n",
      "Epoch 44/50\n",
      "161/161 [==============================] - 0s 3ms/step - loss: 0.0035 - accuracy: 0.9993 - tp: 172.0000 - tn: 159922.0000 - fp: 24.0000 - fn: 85.0000 - precision: 0.8776 - recall: 0.6693 - auc: 0.9403 - val_loss: 0.1138 - val_accuracy: 0.9984 - val_tp: 45.0000 - val_tn: 53269.0000 - val_fp: 28.0000 - val_fn: 60.0000 - val_precision: 0.6164 - val_recall: 0.4286 - val_auc: 0.7848\n",
      "Epoch 45/50\n",
      "161/161 [==============================] - 0s 3ms/step - loss: 0.0035 - accuracy: 0.9993 - tp: 172.0000 - tn: 159922.0000 - fp: 24.0000 - fn: 85.0000 - precision: 0.8776 - recall: 0.6693 - auc: 0.9403 - val_loss: 0.1109 - val_accuracy: 0.9985 - val_tp: 45.0000 - val_tn: 53276.0000 - val_fp: 21.0000 - val_fn: 60.0000 - val_precision: 0.6818 - val_recall: 0.4286 - val_auc: 0.7761\n",
      "Epoch 46/50\n",
      "161/161 [==============================] - 1s 4ms/step - loss: 0.0035 - accuracy: 0.9993 - tp: 174.0000 - tn: 159922.0000 - fp: 24.0000 - fn: 83.0000 - precision: 0.8788 - recall: 0.6770 - auc: 0.9347 - val_loss: 0.1183 - val_accuracy: 0.9984 - val_tp: 44.0000 - val_tn: 53271.0000 - val_fp: 26.0000 - val_fn: 61.0000 - val_precision: 0.6286 - val_recall: 0.4190 - val_auc: 0.7756\n",
      "Epoch 47/50\n",
      "161/161 [==============================] - 1s 3ms/step - loss: 0.0035 - accuracy: 0.9993 - tp: 173.0000 - tn: 159923.0000 - fp: 23.0000 - fn: 84.0000 - precision: 0.8827 - recall: 0.6732 - auc: 0.9384 - val_loss: 0.1177 - val_accuracy: 0.9983 - val_tp: 45.0000 - val_tn: 53268.0000 - val_fp: 29.0000 - val_fn: 60.0000 - val_precision: 0.6081 - val_recall: 0.4286 - val_auc: 0.7804\n",
      "Epoch 48/50\n",
      "161/161 [==============================] - 0s 3ms/step - loss: 0.0034 - accuracy: 0.9994 - tp: 177.0000 - tn: 159922.0000 - fp: 24.0000 - fn: 80.0000 - precision: 0.8806 - recall: 0.6887 - auc: 0.9404 - val_loss: 0.1201 - val_accuracy: 0.9983 - val_tp: 43.0000 - val_tn: 53270.0000 - val_fp: 27.0000 - val_fn: 62.0000 - val_precision: 0.6143 - val_recall: 0.4095 - val_auc: 0.7758\n",
      "Epoch 49/50\n",
      "161/161 [==============================] - 0s 3ms/step - loss: 0.0034 - accuracy: 0.9993 - tp: 174.0000 - tn: 159924.0000 - fp: 22.0000 - fn: 83.0000 - precision: 0.8878 - recall: 0.6770 - auc: 0.9423 - val_loss: 0.1273 - val_accuracy: 0.9984 - val_tp: 43.0000 - val_tn: 53275.0000 - val_fp: 22.0000 - val_fn: 62.0000 - val_precision: 0.6615 - val_recall: 0.4095 - val_auc: 0.7762\n",
      "Epoch 50/50\n",
      "161/161 [==============================] - 0s 3ms/step - loss: 0.0034 - accuracy: 0.9993 - tp: 176.0000 - tn: 159921.0000 - fp: 25.0000 - fn: 81.0000 - precision: 0.8756 - recall: 0.6848 - auc: 0.9384 - val_loss: 0.1296 - val_accuracy: 0.9984 - val_tp: 43.0000 - val_tn: 53273.0000 - val_fp: 24.0000 - val_fn: 62.0000 - val_precision: 0.6418 - val_recall: 0.4095 - val_auc: 0.7717\n"
     ]
    }
   ],
   "source": [
    "# Training the model\n",
    "batch_size = 1000\n",
    "epochs = 50\n",
    "training_history = model.fit(\n",
    "    X_train,\n",
    "    y_train,\n",
    "    validation_data=(X_val, y_val),\n",
    "    epochs=epochs,\n",
    "    batch_size=batch_size,\n",
    "    verbose=1,\n",
    ")"
   ]
  },
  {
   "cell_type": "markdown",
   "metadata": {},
   "source": [
    "### Model Performance"
   ]
  },
  {
   "cell_type": "markdown",
   "metadata": {},
   "source": [
    "#### Checking Training History"
   ]
  },
  {
   "cell_type": "code",
   "execution_count": 12,
   "metadata": {},
   "outputs": [
    {
     "data": {
      "text/plain": [
       "<AxesSubplot:title={'center':'Loss'}, xlabel='Epoch'>"
      ]
     },
     "execution_count": 12,
     "metadata": {},
     "output_type": "execute_result"
    },
    {
     "data": {
      "image/png": "[encoded data removed]",
      "text/plain": [
       "<Figure size 432x288 with 1 Axes>"
      ]
     },
     "metadata": {
      "needs_background": "light"
     },
     "output_type": "display_data"
    }
   ],
   "source": [
    "# Plotting loss\n",
    "loss_df = pd.DataFrame(\n",
    "    {\n",
    "        \"Epoch\": range(1, epochs + 1),\n",
    "        \"Train\": training_history.history[\"loss\"],\n",
    "        \"Val\": training_history.history[\"val_loss\"],\n",
    "    }\n",
    ")\n",
    "loss_df.set_index(\"Epoch\", inplace=True)\n",
    "loss_df.plot(title=\"Loss\")"
   ]
  },
  {
   "cell_type": "code",
   "execution_count": 13,
   "metadata": {},
   "outputs": [
    {
     "data": {
      "text/plain": [
       "<AxesSubplot:title={'center':'Accuracy'}, xlabel='Epoch'>"
      ]
     },
     "execution_count": 13,
     "metadata": {},
     "output_type": "execute_result"
    },
    {
     "data": {
      "image/png": "[encoded data removed]",
      "text/plain": [
       "<Figure size 432x288 with 1 Axes>"
      ]
     },
     "metadata": {
      "needs_background": "light"
     },
     "output_type": "display_data"
    }
   ],
   "source": [
    "# Plotting accuracy\n",
    "accuracy_df = pd.DataFrame(\n",
    "    {\n",
    "        \"Epoch\": range(1, epochs + 1),\n",
    "        \"Train\": training_history.history[\"accuracy\"],\n",
    "        \"Val\": training_history.history[\"val_accuracy\"],\n",
    "    }\n",
    ")\n",
    "accuracy_df.set_index(\"Epoch\", inplace=True)\n",
    "accuracy_df.plot(title=\"Accuracy\")"
   ]
  },
  {
   "cell_type": "code",
   "execution_count": 14,
   "metadata": {},
   "outputs": [
    {
     "data": {
      "text/plain": [
       "<AxesSubplot:title={'center':'AUC'}, xlabel='Epoch'>"
      ]
     },
     "execution_count": 14,
     "metadata": {},
     "output_type": "execute_result"
    },
    {
     "data": {
      "image/png": "[encoded data removed]",
      "text/plain": [
       "<Figure size 432x288 with 1 Axes>"
      ]
     },
     "metadata": {
      "needs_background": "light"
     },
     "output_type": "display_data"
    }
   ],
   "source": [
    "# Plotting AUC\n",
    "auc_df = pd.DataFrame(\n",
    "    {\n",
    "        \"Epoch\": range(1, epochs + 1),\n",
    "        \"Train\": training_history.history[\"auc\"],\n",
    "        \"Val\": training_history.history[\"val_auc\"],\n",
    "    }\n",
    ")\n",
    "auc_df.set_index(\"Epoch\", inplace=True)\n",
    "auc_df.plot(title=\"AUC\")"
   ]
  },
  {
   "cell_type": "markdown",
   "metadata": {},
   "source": [
    "#### Plotting the ROC Curve"
   ]
  },
  {
   "cell_type": "code",
   "execution_count": 15,
   "metadata": {},
   "outputs": [],
   "source": [
    "# Import the roc_curve and auc metrics from sklearn\n",
    "from sklearn.metrics import roc_curve, auc"
   ]
  },
  {
   "cell_type": "code",
   "execution_count": 16,
   "metadata": {},
   "outputs": [],
   "source": [
    "# Making predictions to feed the roc_curve module\n",
    "train_predictions = model.predict(X_train, batch_size=1000)\n",
    "test_predictions = model.predict(X_test, batch_size=1000)"
   ]
  },
  {
   "cell_type": "code",
   "execution_count": 17,
   "metadata": {},
   "outputs": [],
   "source": [
    "# Calculate the ROC curve and AUC for the training set\n",
    "fpr_train, tpr_train, thresholds_train = roc_curve(y_train, train_predictions)\n",
    "auc_train = auc(fpr_train, tpr_train)\n",
    "auc_train = round(auc_train, 4)\n",
    "\n",
    "# Calculate the ROC curve and AUC for the testing set\n",
    "fpr_test, tpr_test, thresholds_test = roc_curve(y_test, test_predictions)\n",
    "auc_test = auc(fpr_test, tpr_test)\n",
    "auc_test = round(auc_test, 4)"
   ]
  },
  {
   "cell_type": "code",
   "execution_count": 18,
   "metadata": {},
   "outputs": [],
   "source": [
    "# Create a DataFrame with the fpr and tpr results\n",
    "roc_df_train = pd.DataFrame({\"FPR Train\": fpr_train, \"TPR Train\": tpr_train,})\n",
    "\n",
    "roc_df_test = pd.DataFrame({\"FPR Test\": fpr_test, \"TPR Test\": tpr_test,})"
   ]
  },
  {
   "cell_type": "code",
   "execution_count": 19,
   "metadata": {},
   "outputs": [
    {
     "data": {
      "text/plain": [
       "<AxesSubplot:title={'center':'Test ROC Curve (AUC=0.7021)'}, xlabel='FPR Test'>"
      ]
     },
     "execution_count": 19,
     "metadata": {},
     "output_type": "execute_result"
    },
    {
     "data": {
      "image/png": "[encoded data removed]",
      "text/plain": [
       "<Figure size 432x288 with 1 Axes>"
      ]
     },
     "metadata": {
      "needs_background": "light"
     },
     "output_type": "display_data"
    },
    {
     "data": {
      "image/png": "[encoded data removed]",
      "text/plain": [
       "<Figure size 432x288 with 1 Axes>"
      ]
     },
     "metadata": {
      "needs_background": "light"
     },
     "output_type": "display_data"
    }
   ],
   "source": [
    "# Plotting the ROC Curves\n",
    "roc_df_train.plot(\n",
    "    x=\"FPR Train\",\n",
    "    y=\"TPR Train\",\n",
    "    xlim=([-0.05, 1.05]),\n",
    "    title=f\"Train ROC Curve (AUC={auc_train})\",\n",
    ")\n",
    "\n",
    "roc_df_test.plot(\n",
    "    x=\"FPR Test\",\n",
    "    y=\"TPR Test\",\n",
    "    color=\"red\",\n",
    "    style=\"--\",\n",
    "    xlim=([-0.05, 1.05]),\n",
    "    title=f\"Test ROC Curve (AUC={auc_test})\",\n",
    ")"
   ]
  },
  {
   "cell_type": "markdown",
   "metadata": {},
   "source": [
    "#### Evaluate the Model"
   ]
  },
  {
   "cell_type": "code",
   "execution_count": 20,
   "metadata": {},
   "outputs": [
    {
     "data": {
      "text/plain": [
       "{'loss': 0.1368214190006256,\n",
       " 'accuracy': 0.9983989000320435,\n",
       " 'tp': 52.0,\n",
       " 'tn': 71036.0,\n",
       " 'fp': 36.0,\n",
       " 'fn': 78.0,\n",
       " 'precision': 0.5909090638160706,\n",
       " 'recall': 0.4000000059604645,\n",
       " 'auc': 0.7799060940742493}"
      ]
     },
     "metadata": {},
     "output_type": "display_data"
    }
   ],
   "source": [
    "# Evaluate the model\n",
    "scores = model.evaluate(X_test, y_test, verbose=0)\n",
    "\n",
    "# Define metrics dictionary\n",
    "metrics = {k: v for k, v in zip(model.metrics_names, scores)}\n",
    "\n",
    "# Display evaluation metrics results\n",
    "display(metrics)"
   ]
  },
  {
   "cell_type": "markdown",
   "metadata": {},
   "source": [
    "#### Confusion Matrix"
   ]
  },
  {
   "cell_type": "code",
   "execution_count": 21,
   "metadata": {},
   "outputs": [
    {
     "data": {
      "text/html": [
       "<div>\n",
       "<style scoped>\n",
       "    .dataframe tbody tr th:only-of-type {\n",
       "        vertical-align: middle;\n",
       "    }\n",
       "\n",
       "    .dataframe tbody tr th {\n",
       "        vertical-align: top;\n",
       "    }\n",
       "\n",
       "    .dataframe thead th {\n",
       "        text-align: right;\n",
       "    }\n",
       "</style>\n",
       "<table border=\"1\" class=\"dataframe\">\n",
       "  <thead>\n",
       "    <tr style=\"text-align: right;\">\n",
       "      <th>Predicted</th>\n",
       "      <th>Positive (1)</th>\n",
       "      <th>Negative (0)</th>\n",
       "    </tr>\n",
       "    <tr>\n",
       "      <th>Actual</th>\n",
       "      <th></th>\n",
       "      <th></th>\n",
       "    </tr>\n",
       "  </thead>\n",
       "  <tbody>\n",
       "    <tr>\n",
       "      <th>Positive(1)</th>\n",
       "      <td>TP=52.0</td>\n",
       "      <td>FN=36.0</td>\n",
       "    </tr>\n",
       "    <tr>\n",
       "      <th>Negative(0)</th>\n",
       "      <td>FP=78.0</td>\n",
       "      <td>TN=71036.0</td>\n",
       "    </tr>\n",
       "  </tbody>\n",
       "</table>\n",
       "</div>"
      ],
      "text/plain": [
       "Predicted   Positive (1) Negative (0)\n",
       "Actual                               \n",
       "Positive(1)      TP=52.0      FN=36.0\n",
       "Negative(0)      FP=78.0   TN=71036.0"
      ]
     },
     "execution_count": 21,
     "metadata": {},
     "output_type": "execute_result"
    }
   ],
   "source": [
    "# Define the confusion matrix data\n",
    "cm_df = pd.DataFrame(\n",
    "    {\n",
    "        \"Positive (1)\": [f\"TP={metrics['tp']}\", f\"FP={metrics['fn']}\"],\n",
    "        \"Negative (0)\": [f\"FN={metrics['fp']}\", f\"TN={metrics['tn']}\"],\n",
    "    },\n",
    "    index=[\"Positive(1)\", \"Negative(0)\"],\n",
    ")\n",
    "cm_df.index.name = \"Actual\"\n",
    "cm_df.columns.name = \"Predicted\"\n",
    "\n",
    "# Show the confusion matrix\n",
    "cm_df"
   ]
  },
  {
   "cell_type": "markdown",
   "metadata": {},
   "source": [
    "#### Classification Report"
   ]
  },
  {
   "cell_type": "code",
   "execution_count": 22,
   "metadata": {},
   "outputs": [
    {
     "name": "stdout",
     "output_type": "stream",
     "text": [
      "              precision    recall  f1-score   support\n",
      "\n",
      "           0       1.00      1.00      1.00     71114\n",
      "           1       0.40      0.59      0.48        88\n",
      "\n",
      "    accuracy                           1.00     71202\n",
      "   macro avg       0.70      0.79      0.74     71202\n",
      "weighted avg       1.00      1.00      1.00     71202\n",
      "\n"
     ]
    }
   ],
   "source": [
    "# Import the classification_report method from sklearn\n",
    "from sklearn.metrics import classification_report\n",
    "\n",
    "# Predict classes using testing data\n",
    "y_predict_classes = (model.predict(X_test) > 0.5).astype(\"int32\")\n",
    "\n",
    "# Display classification report\n",
    "print(classification_report(y_predict_classes, y_test))"
   ]
  },
  {
   "cell_type": "code",
   "execution_count": null,
   "metadata": {},
   "outputs": [],
   "source": []
  }
 ],
 "metadata": {
  "file_extension": ".py",
  "kernelspec": {
   "display_name": "Python 3 (ipykernel)",
   "language": "python",
   "name": "python3"
  },
  "language_info": {
   "codemirror_mode": {
    "name": "ipython",
    "version": 3
   },
   "file_extension": ".py",
   "mimetype": "text/x-python",
   "name": "python",
   "nbconvert_exporter": "python",
   "pygments_lexer": "ipython3",
   "version": "3.8.11"
  },
  "mimetype": "text/x-python",
  "name": "python",
  "npconvert_exporter": "python",
  "pygments_lexer": "ipython3",
  "version": 3
 },
 "nbformat": 4,
 "nbformat_minor": 4
}
