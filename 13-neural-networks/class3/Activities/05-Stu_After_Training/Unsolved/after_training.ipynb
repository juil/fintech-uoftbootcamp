{
  "cells": [
    {
      "cell_type": "markdown",
      "source": [
        "# After Training\n",
        "\n",
        "\n",
        "In this activity, you will create a deep learning model from the credit score data, save it, and load it to evaluate its performance on unseen data.\n",
        "\n",
        "1. Split the data into training and test sets using the `train_test_split` method from `sklearn`. Then scale the features data using an instance of the `StandardScaler`.\n",
        "\n",
        "2. Using the training set, construct a shallow neural net model to predict the credit score features (you can use the same model that you constructed in the _Credit Scoring_ Activity).\n",
        "\n",
        "> **Note** When fitting the model, you will not need a `validation-split` parameter because the data was seperated into training and testing datasets.\n",
        "\n",
        "3. Using relative file paths, save the model and its weights.\n",
        "\n",
        "4. Load the model and its weights.\n",
        "\n",
        "5.  Use this loaded model to predict points for the test data and print the mean squared error metric for the predicted points vs. the actual points.\n",
        "\n",
        "## The Dataset\n",
        "\n",
        "This dataset is built around the same dataset used in the previous activity. The dataset contains `68` encoded features (columns from `0` to `67`), with all personal identifying information removed. The last two columns of the dataset (columns `68` and `69`) are preliminary credit score quality indicators that have been manually assigned by staff at the firm."
      ],
      "metadata": {}
    },
    {
      "cell_type": "code",
      "source": [
        "# Imports\n",
        "import pandas as pd\n",
        "from pathlib import Path\n",
        "import matplotlib.pyplot as plt\n",
        "from sklearn.model_selection import train_test_split\n",
        "from sklearn.preprocessing import StandardScaler\n",
        "from tensorflow.keras.models import Sequential\n",
        "from tensorflow.keras.layers import Dense\n",
        "from tensorflow.keras.models import model_from_json\n",
        "from sklearn.metrics import mean_squared_error\n",
        "\n",
        "%matplotlib inline"
      ],
      "outputs": [],
      "execution_count": 1,
      "metadata": {}
    },
    {
      "cell_type": "code",
      "source": [
        "# Read in data\n",
        "data = Path(\"../Resources/credit_scores.csv\")\n",
        "df = pd.read_csv(data, header=None)\n",
        "df.head()"
      ],
      "outputs": [
        {
          "output_type": "execute_result",
          "execution_count": 2,
          "data": {
            "text/html": "<div>\n<style scoped>\n    .dataframe tbody tr th:only-of-type {\n        vertical-align: middle;\n    }\n\n    .dataframe tbody tr th {\n        vertical-align: top;\n    }\n\n    .dataframe thead th {\n        text-align: right;\n    }\n</style>\n<table border=\"1\" class=\"dataframe\">\n  <thead>\n    <tr style=\"text-align: right;\">\n      <th></th>\n      <th>0</th>\n      <th>1</th>\n      <th>2</th>\n      <th>3</th>\n      <th>4</th>\n      <th>5</th>\n      <th>6</th>\n      <th>7</th>\n      <th>8</th>\n      <th>9</th>\n      <th>...</th>\n      <th>60</th>\n      <th>61</th>\n      <th>62</th>\n      <th>63</th>\n      <th>64</th>\n      <th>65</th>\n      <th>66</th>\n      <th>67</th>\n      <th>68</th>\n      <th>69</th>\n    </tr>\n  </thead>\n  <tbody>\n    <tr>\n      <th>0</th>\n      <td>7.161286</td>\n      <td>7.835325</td>\n      <td>2.911583</td>\n      <td>0.984049</td>\n      <td>-1.499546</td>\n      <td>-2.094097</td>\n      <td>0.576000</td>\n      <td>-1.205671</td>\n      <td>1.849122</td>\n      <td>-0.425598</td>\n      <td>...</td>\n      <td>-1.504263</td>\n      <td>0.351267</td>\n      <td>-1.018726</td>\n      <td>-0.174878</td>\n      <td>-1.089543</td>\n      <td>-0.668840</td>\n      <td>-0.914772</td>\n      <td>-0.836250</td>\n      <td>-15.75</td>\n      <td>-47.95</td>\n    </tr>\n    <tr>\n      <th>1</th>\n      <td>0.225763</td>\n      <td>-0.094169</td>\n      <td>-0.603646</td>\n      <td>0.497745</td>\n      <td>0.874036</td>\n      <td>0.290280</td>\n      <td>-0.077659</td>\n      <td>-0.887385</td>\n      <td>0.432062</td>\n      <td>-0.093963</td>\n      <td>...</td>\n      <td>-0.495712</td>\n      <td>-0.465077</td>\n      <td>-0.157861</td>\n      <td>-0.157189</td>\n      <td>0.380951</td>\n      <td>1.088478</td>\n      <td>-0.123595</td>\n      <td>1.391141</td>\n      <td>14.91</td>\n      <td>-23.51</td>\n    </tr>\n    <tr>\n      <th>2</th>\n      <td>-0.692525</td>\n      <td>-0.517801</td>\n      <td>-0.788035</td>\n      <td>1.214351</td>\n      <td>-0.907214</td>\n      <td>0.880213</td>\n      <td>0.406899</td>\n      <td>-0.694895</td>\n      <td>-0.901869</td>\n      <td>-1.701574</td>\n      <td>...</td>\n      <td>-0.637167</td>\n      <td>0.147260</td>\n      <td>0.217914</td>\n      <td>2.718442</td>\n      <td>0.972919</td>\n      <td>2.081069</td>\n      <td>1.375763</td>\n      <td>1.063847</td>\n      <td>12.65</td>\n      <td>-8.00</td>\n    </tr>\n    <tr>\n      <th>3</th>\n      <td>-0.735562</td>\n      <td>-0.684055</td>\n      <td>2.058215</td>\n      <td>0.716328</td>\n      <td>-0.011393</td>\n      <td>0.805396</td>\n      <td>1.497982</td>\n      <td>0.114752</td>\n      <td>0.692847</td>\n      <td>0.052377</td>\n      <td>...</td>\n      <td>-0.178325</td>\n      <td>-0.065059</td>\n      <td>-0.724247</td>\n      <td>-1.020687</td>\n      <td>-0.751380</td>\n      <td>-0.385005</td>\n      <td>-0.012326</td>\n      <td>-0.392197</td>\n      <td>9.03</td>\n      <td>38.74</td>\n    </tr>\n    <tr>\n      <th>4</th>\n      <td>0.570272</td>\n      <td>0.273157</td>\n      <td>-0.279214</td>\n      <td>0.083456</td>\n      <td>1.049331</td>\n      <td>-0.869295</td>\n      <td>-0.265858</td>\n      <td>-0.401676</td>\n      <td>-0.872639</td>\n      <td>1.147483</td>\n      <td>...</td>\n      <td>-0.919463</td>\n      <td>-0.667912</td>\n      <td>-0.820172</td>\n      <td>-0.190488</td>\n      <td>0.306974</td>\n      <td>0.119658</td>\n      <td>0.271838</td>\n      <td>1.289783</td>\n      <td>34.03</td>\n      <td>-6.85</td>\n    </tr>\n  </tbody>\n</table>\n<p>5 rows × 70 columns</p>\n</div>",
            "text/plain": "         0         1         2         3         4         5         6   \\\n0  7.161286  7.835325  2.911583  0.984049 -1.499546 -2.094097  0.576000   \n1  0.225763 -0.094169 -0.603646  0.497745  0.874036  0.290280 -0.077659   \n2 -0.692525 -0.517801 -0.788035  1.214351 -0.907214  0.880213  0.406899   \n3 -0.735562 -0.684055  2.058215  0.716328 -0.011393  0.805396  1.497982   \n4  0.570272  0.273157 -0.279214  0.083456  1.049331 -0.869295 -0.265858   \n\n         7         8         9   ...        60        61        62        63  \\\n0 -1.205671  1.849122 -0.425598  ... -1.504263  0.351267 -1.018726 -0.174878   \n1 -0.887385  0.432062 -0.093963  ... -0.495712 -0.465077 -0.157861 -0.157189   \n2 -0.694895 -0.901869 -1.701574  ... -0.637167  0.147260  0.217914  2.718442   \n3  0.114752  0.692847  0.052377  ... -0.178325 -0.065059 -0.724247 -1.020687   \n4 -0.401676 -0.872639  1.147483  ... -0.919463 -0.667912 -0.820172 -0.190488   \n\n         64        65        66        67     68     69  \n0 -1.089543 -0.668840 -0.914772 -0.836250 -15.75 -47.95  \n1  0.380951  1.088478 -0.123595  1.391141  14.91 -23.51  \n2  0.972919  2.081069  1.375763  1.063847  12.65  -8.00  \n3 -0.751380 -0.385005 -0.012326 -0.392197   9.03  38.74  \n4  0.306974  0.119658  0.271838  1.289783  34.03  -6.85  \n\n[5 rows x 70 columns]"
          },
          "metadata": {}
        }
      ],
      "execution_count": 2,
      "metadata": {}
    },
    {
      "cell_type": "markdown",
      "source": [
        "## Prepare the data"
      ],
      "metadata": {}
    },
    {
      "cell_type": "code",
      "source": [
        "# Define the features set 'X', and the target 'y' set\n",
        "\n",
        "# The features dataset consists of columns 0 to 67\n",
        "X = df.iloc[:, 0:68]\n",
        "\n",
        "# The target conststs of columns 68 and 69\n",
        "y = df.iloc[:, 68:70]\n",
        "\n",
        "# View data for the features set\n",
        "X.head()"
      ],
      "outputs": [
        {
          "output_type": "execute_result",
          "execution_count": 3,
          "data": {
            "text/html": "<div>\n<style scoped>\n    .dataframe tbody tr th:only-of-type {\n        vertical-align: middle;\n    }\n\n    .dataframe tbody tr th {\n        vertical-align: top;\n    }\n\n    .dataframe thead th {\n        text-align: right;\n    }\n</style>\n<table border=\"1\" class=\"dataframe\">\n  <thead>\n    <tr style=\"text-align: right;\">\n      <th></th>\n      <th>0</th>\n      <th>1</th>\n      <th>2</th>\n      <th>3</th>\n      <th>4</th>\n      <th>5</th>\n      <th>6</th>\n      <th>7</th>\n      <th>8</th>\n      <th>9</th>\n      <th>...</th>\n      <th>58</th>\n      <th>59</th>\n      <th>60</th>\n      <th>61</th>\n      <th>62</th>\n      <th>63</th>\n      <th>64</th>\n      <th>65</th>\n      <th>66</th>\n      <th>67</th>\n    </tr>\n  </thead>\n  <tbody>\n    <tr>\n      <th>0</th>\n      <td>7.161286</td>\n      <td>7.835325</td>\n      <td>2.911583</td>\n      <td>0.984049</td>\n      <td>-1.499546</td>\n      <td>-2.094097</td>\n      <td>0.576000</td>\n      <td>-1.205671</td>\n      <td>1.849122</td>\n      <td>-0.425598</td>\n      <td>...</td>\n      <td>-0.944584</td>\n      <td>-0.043610</td>\n      <td>-1.504263</td>\n      <td>0.351267</td>\n      <td>-1.018726</td>\n      <td>-0.174878</td>\n      <td>-1.089543</td>\n      <td>-0.668840</td>\n      <td>-0.914772</td>\n      <td>-0.836250</td>\n    </tr>\n    <tr>\n      <th>1</th>\n      <td>0.225763</td>\n      <td>-0.094169</td>\n      <td>-0.603646</td>\n      <td>0.497745</td>\n      <td>0.874036</td>\n      <td>0.290280</td>\n      <td>-0.077659</td>\n      <td>-0.887385</td>\n      <td>0.432062</td>\n      <td>-0.093963</td>\n      <td>...</td>\n      <td>-0.082645</td>\n      <td>-0.947933</td>\n      <td>-0.495712</td>\n      <td>-0.465077</td>\n      <td>-0.157861</td>\n      <td>-0.157189</td>\n      <td>0.380951</td>\n      <td>1.088478</td>\n      <td>-0.123595</td>\n      <td>1.391141</td>\n    </tr>\n    <tr>\n      <th>2</th>\n      <td>-0.692525</td>\n      <td>-0.517801</td>\n      <td>-0.788035</td>\n      <td>1.214351</td>\n      <td>-0.907214</td>\n      <td>0.880213</td>\n      <td>0.406899</td>\n      <td>-0.694895</td>\n      <td>-0.901869</td>\n      <td>-1.701574</td>\n      <td>...</td>\n      <td>-0.797954</td>\n      <td>-0.556109</td>\n      <td>-0.637167</td>\n      <td>0.147260</td>\n      <td>0.217914</td>\n      <td>2.718442</td>\n      <td>0.972919</td>\n      <td>2.081069</td>\n      <td>1.375763</td>\n      <td>1.063847</td>\n    </tr>\n    <tr>\n      <th>3</th>\n      <td>-0.735562</td>\n      <td>-0.684055</td>\n      <td>2.058215</td>\n      <td>0.716328</td>\n      <td>-0.011393</td>\n      <td>0.805396</td>\n      <td>1.497982</td>\n      <td>0.114752</td>\n      <td>0.692847</td>\n      <td>0.052377</td>\n      <td>...</td>\n      <td>-0.805626</td>\n      <td>0.166616</td>\n      <td>-0.178325</td>\n      <td>-0.065059</td>\n      <td>-0.724247</td>\n      <td>-1.020687</td>\n      <td>-0.751380</td>\n      <td>-0.385005</td>\n      <td>-0.012326</td>\n      <td>-0.392197</td>\n    </tr>\n    <tr>\n      <th>4</th>\n      <td>0.570272</td>\n      <td>0.273157</td>\n      <td>-0.279214</td>\n      <td>0.083456</td>\n      <td>1.049331</td>\n      <td>-0.869295</td>\n      <td>-0.265858</td>\n      <td>-0.401676</td>\n      <td>-0.872639</td>\n      <td>1.147483</td>\n      <td>...</td>\n      <td>-0.180181</td>\n      <td>-0.500785</td>\n      <td>-0.919463</td>\n      <td>-0.667912</td>\n      <td>-0.820172</td>\n      <td>-0.190488</td>\n      <td>0.306974</td>\n      <td>0.119658</td>\n      <td>0.271838</td>\n      <td>1.289783</td>\n    </tr>\n  </tbody>\n</table>\n<p>5 rows × 68 columns</p>\n</div>",
            "text/plain": "         0         1         2         3         4         5         6   \\\n0  7.161286  7.835325  2.911583  0.984049 -1.499546 -2.094097  0.576000   \n1  0.225763 -0.094169 -0.603646  0.497745  0.874036  0.290280 -0.077659   \n2 -0.692525 -0.517801 -0.788035  1.214351 -0.907214  0.880213  0.406899   \n3 -0.735562 -0.684055  2.058215  0.716328 -0.011393  0.805396  1.497982   \n4  0.570272  0.273157 -0.279214  0.083456  1.049331 -0.869295 -0.265858   \n\n         7         8         9   ...        58        59        60        61  \\\n0 -1.205671  1.849122 -0.425598  ... -0.944584 -0.043610 -1.504263  0.351267   \n1 -0.887385  0.432062 -0.093963  ... -0.082645 -0.947933 -0.495712 -0.465077   \n2 -0.694895 -0.901869 -1.701574  ... -0.797954 -0.556109 -0.637167  0.147260   \n3  0.114752  0.692847  0.052377  ... -0.805626  0.166616 -0.178325 -0.065059   \n4 -0.401676 -0.872639  1.147483  ... -0.180181 -0.500785 -0.919463 -0.667912   \n\n         62        63        64        65        66        67  \n0 -1.018726 -0.174878 -1.089543 -0.668840 -0.914772 -0.836250  \n1 -0.157861 -0.157189  0.380951  1.088478 -0.123595  1.391141  \n2  0.217914  2.718442  0.972919  2.081069  1.375763  1.063847  \n3 -0.724247 -1.020687 -0.751380 -0.385005 -0.012326 -0.392197  \n4 -0.820172 -0.190488  0.306974  0.119658  0.271838  1.289783  \n\n[5 rows x 68 columns]"
          },
          "metadata": {}
        }
      ],
      "execution_count": 3,
      "metadata": {}
    },
    {
      "cell_type": "markdown",
      "source": [
        "### Step 1: Split the data into training and test sets using the `train_test_split` method from `sklearn`. Then scale the features data using an instance of the `StandardScaler`."
      ],
      "metadata": {}
    },
    {
      "cell_type": "code",
      "source": [
        "# Split the data into traning and testing sets using the train_test_split \n",
        "X_train, X_test, y_train, y_test = # YOUR CODE HERE"
      ],
      "outputs": [],
      "execution_count": 4,
      "metadata": {}
    },
    {
      "cell_type": "code",
      "source": [
        "# Scale the data for the features set X_tain and X_test\n",
        "\n",
        "# Fit the training data to a StandardScaler instance\n",
        "scaler = # YOUR CODE HERE\n",
        "\n",
        "# Scale the training data\n",
        "X_train_scaled = # YOUR CODE HERE\n",
        "\n",
        "# Scale the testing data\n",
        "X_test_scaled = # YOUR CODE HERE\n"
      ],
      "outputs": [],
      "execution_count": 5,
      "metadata": {}
    },
    {
      "cell_type": "markdown",
      "source": [
        "## Step 2: Using the training set, construct a shallow neural net model to predict the credit score data (you can use the same model that you constructed in the _Credit Scoring_ Activity)."
      ],
      "metadata": {}
    },
    {
      "cell_type": "code",
      "source": [
        "# Create a shallow, 1 hidden layer, neural network\n",
        "\n",
        "# Instantiate an instance of the Sequential model\n",
        "nn = # YOUR CODE HERE\n",
        "\n",
        "# Create 1 hidden layer\n",
        "# YOUR CODE HERE\n",
        "\n",
        "# Create the output layer\n",
        "# YOUR CODE HERE\n",
        "\n",
        "# Compile the model \n",
        "# Set the parameters as mean_squared_error, adam, and mse.\n",
        "# YOUR CODE HERE\n"
      ],
      "outputs": [],
      "execution_count": 6,
      "metadata": {}
    },
    {
      "cell_type": "code",
      "source": [
        "# Fit the model using the training data\n",
        "# YOUR CODE HERE"
      ],
      "outputs": [],
      "execution_count": 7,
      "metadata": {}
    },
    {
      "cell_type": "code",
      "source": [
        "# Plot the train function\n",
        "plt.plot(model_1.history[\"loss\"])\n",
        "plt.title(\"loss_function - training\")\n",
        "plt.legend([\"loss\"])\n",
        "plt.show()"
      ],
      "outputs": [
        {
          "output_type": "display_data",
          "data": {
            "image/png": "[encoded data removed]",
            "text/plain": "<Figure size 432x288 with 1 Axes>"
          },
          "metadata": {
            "needs_background": "light"
          }
        }
      ],
      "execution_count": 8,
      "metadata": {}
    },
    {
      "cell_type": "markdown",
      "source": [
        "## Step 3: Using relative file paths, save the model and its weights."
      ],
      "metadata": {}
    },
    {
      "cell_type": "code",
      "source": [
        "# Save model in JSON format\n",
        "nn_json = # YOUR CODE HERE\n",
        "\n",
        "# Define a relative path to save the model\n",
        "# The model should be saved with a .json file extension\n",
        "file_path = # YOUR CODE HERE\n",
        "\n",
        "# Write the model to the the file \n",
        "# YOUR CODE HERE\n",
        "\n",
        "# Define a relative path to save the model weights\n",
        "# The model weights should be saved with a .h5 file extension\n",
        "file_path = # YOUR CODE HERE\n",
        "\n",
        "# Save the weights to the file path\n",
        "# YOUR CODE HERE\n"
      ],
      "outputs": [],
      "execution_count": 9,
      "metadata": {}
    },
    {
      "cell_type": "markdown",
      "source": [
        "## Step 4: Load the model and its weights."
      ],
      "metadata": {}
    },
    {
      "cell_type": "code",
      "source": [
        "# Load the model to predict values\n",
        "\n",
        "# Identify the relative path of the model's location\n",
        "file_path = # YOUR CODE HERE\n",
        "\n",
        "# Read in the model and save it as the variable loaded_model\n",
        "# YOUR CODE HERE\n",
        "\n",
        "# Identify the relative path for the model's weights\n",
        "file_path =# YOUR CODE HERE\n",
        "\n",
        "# Load the model's weights to the variable loaded_model\n",
        "# YOUR CODE HERE\n"
      ],
      "outputs": [],
      "execution_count": 10,
      "metadata": {}
    },
    {
      "cell_type": "markdown",
      "source": [
        "## Step 5: Use this loaded model to predict points for the test data and print the mean squared error metric for the predicted points vs. the actual points."
      ],
      "metadata": {}
    },
    {
      "cell_type": "code",
      "source": [
        "# Predict values using the testing data\n",
        "y_pred = # YOUR CODE HERE\n",
        "\n",
        "# View the model's predictions\n",
        "y_pred[:5, :]"
      ],
      "outputs": [
        {
          "output_type": "execute_result",
          "execution_count": 16,
          "data": {
            "text/plain": "array([[ 21.656557 ,  36.376328 ],\n       [ 26.79811  , 142.14178  ],\n       [ 34.032845 ,  49.234795 ],\n       [ 27.073143 ,   7.5474963],\n       [ 20.364601 ,   7.9093523]], dtype=float32)"
          },
          "metadata": {}
        }
      ],
      "execution_count": 16,
      "metadata": {}
    },
    {
      "cell_type": "code",
      "source": [
        "# Import\n",
        "from sklearn.metrics import mean_squared_error\n",
        "\n",
        "# Evaluate the model with the MSE metric\n",
        "# YOUR CODE HERE\n"
      ],
      "outputs": [
        {
          "output_type": "stream",
          "name": "stdout",
          "text": [
            "1119.9300248924346\n"
          ]
        }
      ],
      "execution_count": 12,
      "metadata": {}
    }
  ],
  "metadata": {
    "pygments_lexer": "ipython3",
    "name": "python",
    "mimetype": "text/x-python",
    "npconvert_exporter": "python",
    "language_info": {
      "codemirror_mode": {
        "name": "ipython",
        "version": 3
      },
      "file_extension": ".py",
      "mimetype": "text/x-python",
      "name": "python",
      "nbconvert_exporter": "python",
      "pygments_lexer": "ipython3",
      "version": "3.7.7"
    },
    "version": 3,
    "kernelspec": {
      "display_name": "Python 3",
      "language": "python",
      "name": "python3"
    },
    "file_extension": ".py",
    "nteract": {
      "version": "0.28.0"
    }
  },
  "nbformat": 4,
  "nbformat_minor": 4
}