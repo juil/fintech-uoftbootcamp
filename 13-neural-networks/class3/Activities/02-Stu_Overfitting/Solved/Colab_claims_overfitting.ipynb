{
  "cells": [
    {
      "cell_type": "markdown",
      "id": "e8790310",
      "metadata": {
        "id": "e8790310"
      },
      "source": [
        "# Insurtech: Categorical Risk\n",
        "\n",
        "## Background\n",
        "\n",
        "The insurance business revolves around quantifying risk: the insurer invests insurance premiums in financial markets, and makes payouts in the form of insurance claims. Both investments and claims payouts require models in order to quantify and predict risk, or the level of potential financial loss. \n",
        "\n",
        "This dataset contains historical claims payouts for a number of different medical insurance buyers, along with their characteristics (\"age\", \"smoker\", and so forth). Can you build a deep neural network that uses people's characteristics to quantify the potential level of dollar claims, and can you model be made robust to overfitting? \n",
        "\n",
        "## Instructions\n",
        "\n",
        "### Preparing the Data\n",
        "1) Read in the data.\n",
        "\n",
        "2) Use `pd.qcut` to split the dependent variable, `charges`, into 5 categorical buckets. Save this result to a `charges_quantile` column.\n",
        "\n",
        "3) Use `LabelEncoder` and `to_categorical` to set this column as your `y` variable. \n",
        "\n",
        "4) Set the remaining data as your `X` data.\n",
        "\n",
        "5) Split the data into training and test windows using `train_test_split`.\n",
        "\n",
        "### Fitting the Model\n",
        "\n",
        "1) Fit and evaluate the model, including at least one dropout layer, and one layer with regularization. Include a validation set as part of fitting the model.\n",
        "\n",
        "2) Plot performance on the training and validation set across epochs. \n",
        "\n",
        "3) Finally, re-fit the new model, adjusting the amount of epochs for training so as to avoid overfitting as much as possible."
      ]
    },
    {
      "cell_type": "code",
      "execution_count": 1,
      "id": "038c919a",
      "metadata": {
        "id": "038c919a"
      },
      "outputs": [],
      "source": [
        "import pandas as pd\n",
        "import numpy as np"
      ]
    },
    {
      "cell_type": "code",
      "execution_count": 2,
      "id": "292c574b",
      "metadata": {
        "id": "292c574b"
      },
      "outputs": [],
      "source": [
        "from keras.models import Sequential\n",
        "from keras.layers import Dense, Activation\n",
        "\n",
        "# This code is neccessary to produce the same results every time\n",
        "import tensorflow as tf\n",
        "tf.keras.utils.set_random_seed(1)"
      ]
    },
    {
      "cell_type": "code",
      "source": [
        "# Upload the data\n",
        "from google.colab import files\n",
        "uploaded = files.upload()"
      ],
      "metadata": {
        "colab": {
          "resources": {
            "http://localhost:8080/nbextensions/google.colab/files.js": {
              "data": "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",
              "ok": true,
              "headers": [
                [
                  "content-type",
                  "application/javascript"
                ]
              ],
              "status": 200,
              "status_text": ""
            }
          },
          "base_uri": "https://localhost:8080/",
          "height": 74
        },
        "id": "0LXYyyGYxVPY",
        "outputId": "b6b3af54-dc98-430b-c26f-19a50d4ed4c7"
      },
      "id": "0LXYyyGYxVPY",
      "execution_count": 3,
      "outputs": [
        {
          "output_type": "display_data",
          "data": {
            "text/plain": [
              "<IPython.core.display.HTML object>"
            ],
            "text/html": [
              "\n",
              "     <input type=\"file\" id=\"files-0b409448-10ba-4f27-9f2b-e4b7676c560a\" name=\"files[]\" multiple disabled\n",
              "        style=\"border:none\" />\n",
              "     <output id=\"result-0b409448-10ba-4f27-9f2b-e4b7676c560a\">\n",
              "      Upload widget is only available when the cell has been executed in the\n",
              "      current browser session. Please rerun this cell to enable.\n",
              "      </output>\n",
              "      <script src=\"/nbextensions/google.colab/files.js\"></script> "
            ]
          },
          "metadata": {}
        },
        {
          "output_type": "stream",
          "name": "stdout",
          "text": [
            "Saving insurance_claims.csv to insurance_claims.csv\n"
          ]
        }
      ]
    },
    {
      "cell_type": "code",
      "execution_count": 4,
      "id": "322048df",
      "metadata": {
        "id": "322048df"
      },
      "outputs": [],
      "source": [
        "# Read in the data\n",
        "df = pd.read_csv('insurance_claims.csv')"
      ]
    },
    {
      "cell_type": "code",
      "execution_count": 5,
      "id": "6445c810",
      "metadata": {
        "colab": {
          "base_uri": "https://localhost:8080/",
          "height": 206
        },
        "id": "6445c810",
        "outputId": "992f45ea-5bbd-40b5-cf51-4d665c6ff6de"
      },
      "outputs": [
        {
          "output_type": "execute_result",
          "data": {
            "text/plain": [
              "   age     bmi  children  smoker      charges\n",
              "0   19  27.900         0       1  16884.92400\n",
              "1   18  33.770         1       0   1725.55230\n",
              "2   28  33.000         3       0   4449.46200\n",
              "3   33  22.705         0       0  21984.47061\n",
              "4   32  28.880         0       0   3866.85520"
            ],
            "text/html": [
              "\n",
              "  <div id=\"df-1da1d991-b544-4da7-ad07-0d9c9e87a852\">\n",
              "    <div class=\"colab-df-container\">\n",
              "      <div>\n",
              "<style scoped>\n",
              "    .dataframe tbody tr th:only-of-type {\n",
              "        vertical-align: middle;\n",
              "    }\n",
              "\n",
              "    .dataframe tbody tr th {\n",
              "        vertical-align: top;\n",
              "    }\n",
              "\n",
              "    .dataframe thead th {\n",
              "        text-align: right;\n",
              "    }\n",
              "</style>\n",
              "<table border=\"1\" class=\"dataframe\">\n",
              "  <thead>\n",
              "    <tr style=\"text-align: right;\">\n",
              "      <th></th>\n",
              "      <th>age</th>\n",
              "      <th>bmi</th>\n",
              "      <th>children</th>\n",
              "      <th>smoker</th>\n",
              "      <th>charges</th>\n",
              "    </tr>\n",
              "  </thead>\n",
              "  <tbody>\n",
              "    <tr>\n",
              "      <th>0</th>\n",
              "      <td>19</td>\n",
              "      <td>27.900</td>\n",
              "      <td>0</td>\n",
              "      <td>1</td>\n",
              "      <td>16884.92400</td>\n",
              "    </tr>\n",
              "    <tr>\n",
              "      <th>1</th>\n",
              "      <td>18</td>\n",
              "      <td>33.770</td>\n",
              "      <td>1</td>\n",
              "      <td>0</td>\n",
              "      <td>1725.55230</td>\n",
              "    </tr>\n",
              "    <tr>\n",
              "      <th>2</th>\n",
              "      <td>28</td>\n",
              "      <td>33.000</td>\n",
              "      <td>3</td>\n",
              "      <td>0</td>\n",
              "      <td>4449.46200</td>\n",
              "    </tr>\n",
              "    <tr>\n",
              "      <th>3</th>\n",
              "      <td>33</td>\n",
              "      <td>22.705</td>\n",
              "      <td>0</td>\n",
              "      <td>0</td>\n",
              "      <td>21984.47061</td>\n",
              "    </tr>\n",
              "    <tr>\n",
              "      <th>4</th>\n",
              "      <td>32</td>\n",
              "      <td>28.880</td>\n",
              "      <td>0</td>\n",
              "      <td>0</td>\n",
              "      <td>3866.85520</td>\n",
              "    </tr>\n",
              "  </tbody>\n",
              "</table>\n",
              "</div>\n",
              "      <button class=\"colab-df-convert\" onclick=\"convertToInteractive('df-1da1d991-b544-4da7-ad07-0d9c9e87a852')\"\n",
              "              title=\"Convert this dataframe to an interactive table.\"\n",
              "              style=\"display:none;\">\n",
              "        \n",
              "  <svg xmlns=\"http://www.w3.org/2000/svg\" height=\"24px\"viewBox=\"0 0 24 24\"\n",
              "       width=\"24px\">\n",
              "    <path d=\"M0 0h24v24H0V0z\" fill=\"none\"/>\n",
              "    <path d=\"M18.56 5.44l.94 2.06.94-2.06 2.06-.94-2.06-.94-.94-2.06-.94 2.06-2.06.94zm-11 1L8.5 8.5l.94-2.06 2.06-.94-2.06-.94L8.5 2.5l-.94 2.06-2.06.94zm10 10l.94 2.06.94-2.06 2.06-.94-2.06-.94-.94-2.06-.94 2.06-2.06.94z\"/><path d=\"M17.41 7.96l-1.37-1.37c-.4-.4-.92-.59-1.43-.59-.52 0-1.04.2-1.43.59L10.3 9.45l-7.72 7.72c-.78.78-.78 2.05 0 2.83L4 21.41c.39.39.9.59 1.41.59.51 0 1.02-.2 1.41-.59l7.78-7.78 2.81-2.81c.8-.78.8-2.07 0-2.86zM5.41 20L4 18.59l7.72-7.72 1.47 1.35L5.41 20z\"/>\n",
              "  </svg>\n",
              "      </button>\n",
              "      \n",
              "  <style>\n",
              "    .colab-df-container {\n",
              "      display:flex;\n",
              "      flex-wrap:wrap;\n",
              "      gap: 12px;\n",
              "    }\n",
              "\n",
              "    .colab-df-convert {\n",
              "      background-color: #E8F0FE;\n",
              "      border: none;\n",
              "      border-radius: 50%;\n",
              "      cursor: pointer;\n",
              "      display: none;\n",
              "      fill: #1967D2;\n",
              "      height: 32px;\n",
              "      padding: 0 0 0 0;\n",
              "      width: 32px;\n",
              "    }\n",
              "\n",
              "    .colab-df-convert:hover {\n",
              "      background-color: #E2EBFA;\n",
              "      box-shadow: 0px 1px 2px rgba(60, 64, 67, 0.3), 0px 1px 3px 1px rgba(60, 64, 67, 0.15);\n",
              "      fill: #174EA6;\n",
              "    }\n",
              "\n",
              "    [theme=dark] .colab-df-convert {\n",
              "      background-color: #3B4455;\n",
              "      fill: #D2E3FC;\n",
              "    }\n",
              "\n",
              "    [theme=dark] .colab-df-convert:hover {\n",
              "      background-color: #434B5C;\n",
              "      box-shadow: 0px 1px 3px 1px rgba(0, 0, 0, 0.15);\n",
              "      filter: drop-shadow(0px 1px 2px rgba(0, 0, 0, 0.3));\n",
              "      fill: #FFFFFF;\n",
              "    }\n",
              "  </style>\n",
              "\n",
              "      <script>\n",
              "        const buttonEl =\n",
              "          document.querySelector('#df-1da1d991-b544-4da7-ad07-0d9c9e87a852 button.colab-df-convert');\n",
              "        buttonEl.style.display =\n",
              "          google.colab.kernel.accessAllowed ? 'block' : 'none';\n",
              "\n",
              "        async function convertToInteractive(key) {\n",
              "          const element = document.querySelector('#df-1da1d991-b544-4da7-ad07-0d9c9e87a852');\n",
              "          const dataTable =\n",
              "            await google.colab.kernel.invokeFunction('convertToInteractive',\n",
              "                                                     [key], {});\n",
              "          if (!dataTable) return;\n",
              "\n",
              "          const docLinkHtml = 'Like what you see? Visit the ' +\n",
              "            '<a target=\"_blank\" href=https://colab.research.google.com/notebooks/data_table.ipynb>data table notebook</a>'\n",
              "            + ' to learn more about interactive tables.';\n",
              "          element.innerHTML = '';\n",
              "          dataTable['output_type'] = 'display_data';\n",
              "          await google.colab.output.renderOutput(dataTable, element);\n",
              "          const docLink = document.createElement('div');\n",
              "          docLink.innerHTML = docLinkHtml;\n",
              "          element.appendChild(docLink);\n",
              "        }\n",
              "      </script>\n",
              "    </div>\n",
              "  </div>\n",
              "  "
            ]
          },
          "metadata": {},
          "execution_count": 5
        }
      ],
      "source": [
        "df.head()"
      ]
    },
    {
      "cell_type": "code",
      "execution_count": 6,
      "id": "f5765905",
      "metadata": {
        "colab": {
          "base_uri": "https://localhost:8080/"
        },
        "id": "f5765905",
        "outputId": "218a2f4b-a111-471c-8749-dbbf4c4685a5"
      },
      "outputs": [
        {
          "output_type": "execute_result",
          "data": {
            "text/plain": [
              "1    268\n",
              "5    268\n",
              "3    268\n",
              "4    267\n",
              "2    267\n",
              "Name: charges_quantile, dtype: int64"
            ]
          },
          "metadata": {},
          "execution_count": 6
        }
      ],
      "source": [
        "# Use qcut to group claims data (\"charges\") into 5 buckets\n",
        "df['charges_quantile'] = (pd.qcut(df['charges'], q=5, labels=False))+1\n",
        "# Verify buckets are approximately balanced \n",
        "# (Slight imbalance from ties is OK)\n",
        "df['charges_quantile'].value_counts()"
      ]
    },
    {
      "cell_type": "code",
      "execution_count": 7,
      "id": "e029a4ce",
      "metadata": {
        "id": "e029a4ce"
      },
      "outputs": [],
      "source": [
        "# Save bucket (\"quantile\") value as the new  `y` variable\n",
        "y_quantile = df['charges_quantile']"
      ]
    },
    {
      "cell_type": "code",
      "execution_count": 8,
      "id": "56854242",
      "metadata": {
        "id": "56854242"
      },
      "outputs": [],
      "source": [
        "# Save the unique count of categories for later use\n",
        "number_of_classes = len(y_quantile.unique())"
      ]
    },
    {
      "cell_type": "code",
      "execution_count": 9,
      "id": "b225898d",
      "metadata": {
        "colab": {
          "base_uri": "https://localhost:8080/"
        },
        "id": "b225898d",
        "outputId": "a08d1e45-a8b4-45df-efdd-b94e8e50152f"
      },
      "outputs": [
        {
          "output_type": "execute_result",
          "data": {
            "text/plain": [
              "array([3, 0, 1, ..., 0, 0, 4])"
            ]
          },
          "metadata": {},
          "execution_count": 9
        }
      ],
      "source": [
        "# Encode quantiles into labels\n",
        "from sklearn.preprocessing import LabelEncoder\n",
        "encoder = LabelEncoder()\n",
        "encoder.fit(y_quantile)\n",
        "encoded_y = encoder.transform(y_quantile)\n",
        "encoded_y"
      ]
    },
    {
      "cell_type": "code",
      "execution_count": 10,
      "id": "fa4a563f",
      "metadata": {
        "colab": {
          "base_uri": "https://localhost:8080/"
        },
        "id": "fa4a563f",
        "outputId": "3c25aaf4-0589-48d0-c134-fa745375729f"
      },
      "outputs": [
        {
          "output_type": "execute_result",
          "data": {
            "text/plain": [
              "array([[0., 0., 0., 1., 0.],\n",
              "       [1., 0., 0., 0., 0.],\n",
              "       [0., 1., 0., 0., 0.],\n",
              "       ...,\n",
              "       [1., 0., 0., 0., 0.],\n",
              "       [1., 0., 0., 0., 0.],\n",
              "       [0., 0., 0., 0., 1.]], dtype=float32)"
            ]
          },
          "metadata": {},
          "execution_count": 10
        }
      ],
      "source": [
        "# Encode labels into categories\n",
        "from keras.utils.np_utils import to_categorical\n",
        "y_categorical = to_categorical(encoded_y, num_classes=number_of_classes)\n",
        "y_categorical"
      ]
    },
    {
      "cell_type": "code",
      "execution_count": 11,
      "id": "f1219ca4",
      "metadata": {
        "colab": {
          "base_uri": "https://localhost:8080/",
          "height": 143
        },
        "id": "f1219ca4",
        "outputId": "12e929f9-457d-4418-b610-96b82a9f1674"
      },
      "outputs": [
        {
          "output_type": "execute_result",
          "data": {
            "text/plain": [
              "   age    bmi  children  smoker\n",
              "0   19  27.90         0       1\n",
              "1   18  33.77         1       0\n",
              "2   28  33.00         3       0"
            ],
            "text/html": [
              "\n",
              "  <div id=\"df-16199e33-4bac-4280-a856-35dfd27f62cc\">\n",
              "    <div class=\"colab-df-container\">\n",
              "      <div>\n",
              "<style scoped>\n",
              "    .dataframe tbody tr th:only-of-type {\n",
              "        vertical-align: middle;\n",
              "    }\n",
              "\n",
              "    .dataframe tbody tr th {\n",
              "        vertical-align: top;\n",
              "    }\n",
              "\n",
              "    .dataframe thead th {\n",
              "        text-align: right;\n",
              "    }\n",
              "</style>\n",
              "<table border=\"1\" class=\"dataframe\">\n",
              "  <thead>\n",
              "    <tr style=\"text-align: right;\">\n",
              "      <th></th>\n",
              "      <th>age</th>\n",
              "      <th>bmi</th>\n",
              "      <th>children</th>\n",
              "      <th>smoker</th>\n",
              "    </tr>\n",
              "  </thead>\n",
              "  <tbody>\n",
              "    <tr>\n",
              "      <th>0</th>\n",
              "      <td>19</td>\n",
              "      <td>27.90</td>\n",
              "      <td>0</td>\n",
              "      <td>1</td>\n",
              "    </tr>\n",
              "    <tr>\n",
              "      <th>1</th>\n",
              "      <td>18</td>\n",
              "      <td>33.77</td>\n",
              "      <td>1</td>\n",
              "      <td>0</td>\n",
              "    </tr>\n",
              "    <tr>\n",
              "      <th>2</th>\n",
              "      <td>28</td>\n",
              "      <td>33.00</td>\n",
              "      <td>3</td>\n",
              "      <td>0</td>\n",
              "    </tr>\n",
              "  </tbody>\n",
              "</table>\n",
              "</div>\n",
              "      <button class=\"colab-df-convert\" onclick=\"convertToInteractive('df-16199e33-4bac-4280-a856-35dfd27f62cc')\"\n",
              "              title=\"Convert this dataframe to an interactive table.\"\n",
              "              style=\"display:none;\">\n",
              "        \n",
              "  <svg xmlns=\"http://www.w3.org/2000/svg\" height=\"24px\"viewBox=\"0 0 24 24\"\n",
              "       width=\"24px\">\n",
              "    <path d=\"M0 0h24v24H0V0z\" fill=\"none\"/>\n",
              "    <path d=\"M18.56 5.44l.94 2.06.94-2.06 2.06-.94-2.06-.94-.94-2.06-.94 2.06-2.06.94zm-11 1L8.5 8.5l.94-2.06 2.06-.94-2.06-.94L8.5 2.5l-.94 2.06-2.06.94zm10 10l.94 2.06.94-2.06 2.06-.94-2.06-.94-.94-2.06-.94 2.06-2.06.94z\"/><path d=\"M17.41 7.96l-1.37-1.37c-.4-.4-.92-.59-1.43-.59-.52 0-1.04.2-1.43.59L10.3 9.45l-7.72 7.72c-.78.78-.78 2.05 0 2.83L4 21.41c.39.39.9.59 1.41.59.51 0 1.02-.2 1.41-.59l7.78-7.78 2.81-2.81c.8-.78.8-2.07 0-2.86zM5.41 20L4 18.59l7.72-7.72 1.47 1.35L5.41 20z\"/>\n",
              "  </svg>\n",
              "      </button>\n",
              "      \n",
              "  <style>\n",
              "    .colab-df-container {\n",
              "      display:flex;\n",
              "      flex-wrap:wrap;\n",
              "      gap: 12px;\n",
              "    }\n",
              "\n",
              "    .colab-df-convert {\n",
              "      background-color: #E8F0FE;\n",
              "      border: none;\n",
              "      border-radius: 50%;\n",
              "      cursor: pointer;\n",
              "      display: none;\n",
              "      fill: #1967D2;\n",
              "      height: 32px;\n",
              "      padding: 0 0 0 0;\n",
              "      width: 32px;\n",
              "    }\n",
              "\n",
              "    .colab-df-convert:hover {\n",
              "      background-color: #E2EBFA;\n",
              "      box-shadow: 0px 1px 2px rgba(60, 64, 67, 0.3), 0px 1px 3px 1px rgba(60, 64, 67, 0.15);\n",
              "      fill: #174EA6;\n",
              "    }\n",
              "\n",
              "    [theme=dark] .colab-df-convert {\n",
              "      background-color: #3B4455;\n",
              "      fill: #D2E3FC;\n",
              "    }\n",
              "\n",
              "    [theme=dark] .colab-df-convert:hover {\n",
              "      background-color: #434B5C;\n",
              "      box-shadow: 0px 1px 3px 1px rgba(0, 0, 0, 0.15);\n",
              "      filter: drop-shadow(0px 1px 2px rgba(0, 0, 0, 0.3));\n",
              "      fill: #FFFFFF;\n",
              "    }\n",
              "  </style>\n",
              "\n",
              "      <script>\n",
              "        const buttonEl =\n",
              "          document.querySelector('#df-16199e33-4bac-4280-a856-35dfd27f62cc button.colab-df-convert');\n",
              "        buttonEl.style.display =\n",
              "          google.colab.kernel.accessAllowed ? 'block' : 'none';\n",
              "\n",
              "        async function convertToInteractive(key) {\n",
              "          const element = document.querySelector('#df-16199e33-4bac-4280-a856-35dfd27f62cc');\n",
              "          const dataTable =\n",
              "            await google.colab.kernel.invokeFunction('convertToInteractive',\n",
              "                                                     [key], {});\n",
              "          if (!dataTable) return;\n",
              "\n",
              "          const docLinkHtml = 'Like what you see? Visit the ' +\n",
              "            '<a target=\"_blank\" href=https://colab.research.google.com/notebooks/data_table.ipynb>data table notebook</a>'\n",
              "            + ' to learn more about interactive tables.';\n",
              "          element.innerHTML = '';\n",
              "          dataTable['output_type'] = 'display_data';\n",
              "          await google.colab.output.renderOutput(dataTable, element);\n",
              "          const docLink = document.createElement('div');\n",
              "          docLink.innerHTML = docLinkHtml;\n",
              "          element.appendChild(docLink);\n",
              "        }\n",
              "      </script>\n",
              "    </div>\n",
              "  </div>\n",
              "  "
            ]
          },
          "metadata": {},
          "execution_count": 11
        }
      ],
      "source": [
        "# Specify X (predictor) variables\n",
        "X = df[['age','bmi','children', 'smoker']]\n",
        "X.head(3)"
      ]
    },
    {
      "cell_type": "code",
      "execution_count": 12,
      "id": "09f6d2b3",
      "metadata": {
        "id": "09f6d2b3"
      },
      "outputs": [],
      "source": [
        "# Split into training and testing windows\n",
        "from sklearn.model_selection import train_test_split\n",
        "X_train, X_test, y_train, y_test = train_test_split(X, y_categorical, random_state=1)"
      ]
    },
    {
      "cell_type": "code",
      "execution_count": 13,
      "id": "047e581e",
      "metadata": {
        "colab": {
          "base_uri": "https://localhost:8080/"
        },
        "id": "047e581e",
        "outputId": "2666529f-d51b-4e5f-a0d7-fbc385502a30"
      },
      "outputs": [
        {
          "output_type": "execute_result",
          "data": {
            "text/plain": [
              "array([[1., 0., 0., 0., 0.],\n",
              "       [1., 0., 0., 0., 0.],\n",
              "       [0., 1., 0., 0., 0.],\n",
              "       ...,\n",
              "       [0., 0., 0., 0., 1.],\n",
              "       [0., 0., 0., 1., 0.],\n",
              "       [0., 0., 0., 1., 0.]], dtype=float32)"
            ]
          },
          "metadata": {},
          "execution_count": 13
        }
      ],
      "source": [
        "# Preview the `y_train` values\n",
        "y_train"
      ]
    },
    {
      "cell_type": "code",
      "execution_count": 14,
      "id": "d8a8314d",
      "metadata": {
        "colab": {
          "base_uri": "https://localhost:8080/"
        },
        "id": "d8a8314d",
        "outputId": "1221c18a-3d16-432c-a7a8-48f18e1ca285"
      },
      "outputs": [
        {
          "output_type": "execute_result",
          "data": {
            "text/plain": [
              "4"
            ]
          },
          "metadata": {},
          "execution_count": 14
        }
      ],
      "source": [
        "# Save the count of unique predictor variables for use in model\n",
        "number_of_predictors = len(X.columns)\n",
        "len(X.columns)"
      ]
    },
    {
      "cell_type": "markdown",
      "id": "a1c124ca",
      "metadata": {
        "id": "a1c124ca"
      },
      "source": [
        "### Build the Model\n",
        "\n"
      ]
    },
    {
      "cell_type": "code",
      "execution_count": 15,
      "id": "88fff3da",
      "metadata": {
        "id": "88fff3da"
      },
      "outputs": [],
      "source": [
        "# Import the `Dropout` layer\n",
        "from keras.layers import Dropout\n",
        "# Import regularization functions\n",
        "from keras.regularizers import l1, l2"
      ]
    },
    {
      "cell_type": "code",
      "execution_count": 16,
      "id": "d3f0702b",
      "metadata": {
        "id": "d3f0702b"
      },
      "outputs": [],
      "source": [
        "# Build the Model\n",
        "model = Sequential()\n",
        "# Add a dense layer\n",
        "model.add(Dense(10, input_dim=number_of_predictors, activation='relu'))\n",
        "# Now add a dropout layer\n",
        "model.add(Dropout(.2,input_shape=(10,)))\n",
        "# Add another dense layer\n",
        "model.add(Dense(5, activation='relu', kernel_regularizer=l2(0.01), bias_regularizer=l2(0.01)))"
      ]
    },
    {
      "cell_type": "code",
      "execution_count": 17,
      "id": "2e188acc",
      "metadata": {
        "id": "2e188acc"
      },
      "outputs": [],
      "source": [
        "# Add the final output layer\n",
        "# (Set the # of possible outputs equal to the number classes)\n",
        "model.add(Dense(number_of_classes, activation='softmax'))"
      ]
    },
    {
      "cell_type": "code",
      "execution_count": 18,
      "id": "234f97d9",
      "metadata": {
        "id": "234f97d9"
      },
      "outputs": [],
      "source": [
        "# Compile the model\n",
        "model.compile(loss=\"categorical_crossentropy\", \n",
        "              optimizer= \"adam\", \n",
        "              metrics=['categorical_accuracy'])"
      ]
    },
    {
      "cell_type": "code",
      "execution_count": 19,
      "id": "fb552948",
      "metadata": {
        "colab": {
          "base_uri": "https://localhost:8080/"
        },
        "id": "fb552948",
        "outputId": "dde747c9-dfef-4c9f-83fd-b3fd9342afc2"
      },
      "outputs": [
        {
          "output_type": "stream",
          "name": "stdout",
          "text": [
            "Model: \"sequential\"\n",
            "_________________________________________________________________\n",
            " Layer (type)                Output Shape              Param #   \n",
            "=================================================================\n",
            " dense (Dense)               (None, 10)                50        \n",
            "                                                                 \n",
            " dropout (Dropout)           (None, 10)                0         \n",
            "                                                                 \n",
            " dense_1 (Dense)             (None, 5)                 55        \n",
            "                                                                 \n",
            " dense_2 (Dense)             (None, 5)                 30        \n",
            "                                                                 \n",
            "=================================================================\n",
            "Total params: 135\n",
            "Trainable params: 135\n",
            "Non-trainable params: 0\n",
            "_________________________________________________________________\n"
          ]
        }
      ],
      "source": [
        "# Summarise the model\n",
        "model.summary()"
      ]
    },
    {
      "cell_type": "code",
      "execution_count": 20,
      "id": "0cd4bbee",
      "metadata": {
        "colab": {
          "base_uri": "https://localhost:8080/"
        },
        "id": "0cd4bbee",
        "outputId": "a16a3e45-8bf2-4bb3-eb7e-35877a5558e4"
      },
      "outputs": [
        {
          "output_type": "stream",
          "name": "stdout",
          "text": [
            "Epoch 1/50\n",
            "81/81 [==============================] - 1s 5ms/step - loss: 3.8739 - categorical_accuracy: 0.1509 - val_loss: 1.7619 - val_categorical_accuracy: 0.1642\n",
            "Epoch 2/50\n",
            "81/81 [==============================] - 0s 2ms/step - loss: 2.1741 - categorical_accuracy: 0.1945 - val_loss: 1.6525 - val_categorical_accuracy: 0.1990\n",
            "Epoch 3/50\n",
            "81/81 [==============================] - 0s 3ms/step - loss: 1.8667 - categorical_accuracy: 0.2107 - val_loss: 1.6409 - val_categorical_accuracy: 0.2040\n",
            "Epoch 4/50\n",
            "81/81 [==============================] - 0s 2ms/step - loss: 1.7861 - categorical_accuracy: 0.2132 - val_loss: 1.6358 - val_categorical_accuracy: 0.2040\n",
            "Epoch 5/50\n",
            "81/81 [==============================] - 0s 2ms/step - loss: 1.7276 - categorical_accuracy: 0.2095 - val_loss: 1.6324 - val_categorical_accuracy: 0.2040\n",
            "Epoch 6/50\n",
            "81/81 [==============================] - 0s 2ms/step - loss: 1.6820 - categorical_accuracy: 0.2157 - val_loss: 1.6302 - val_categorical_accuracy: 0.2040\n",
            "Epoch 7/50\n",
            "81/81 [==============================] - 0s 3ms/step - loss: 1.6540 - categorical_accuracy: 0.2269 - val_loss: 1.6282 - val_categorical_accuracy: 0.2040\n",
            "Epoch 8/50\n",
            "81/81 [==============================] - 0s 3ms/step - loss: 1.6654 - categorical_accuracy: 0.2182 - val_loss: 1.6269 - val_categorical_accuracy: 0.2040\n",
            "Epoch 9/50\n",
            "81/81 [==============================] - 0s 3ms/step - loss: 1.6544 - categorical_accuracy: 0.2120 - val_loss: 1.6261 - val_categorical_accuracy: 0.2040\n",
            "Epoch 10/50\n",
            "81/81 [==============================] - 0s 2ms/step - loss: 1.6508 - categorical_accuracy: 0.2157 - val_loss: 1.6256 - val_categorical_accuracy: 0.2040\n",
            "Epoch 11/50\n",
            "81/81 [==============================] - 0s 3ms/step - loss: 1.6277 - categorical_accuracy: 0.2195 - val_loss: 1.6250 - val_categorical_accuracy: 0.2040\n",
            "Epoch 12/50\n",
            "81/81 [==============================] - 0s 3ms/step - loss: 1.6374 - categorical_accuracy: 0.2107 - val_loss: 1.6244 - val_categorical_accuracy: 0.2040\n",
            "Epoch 13/50\n",
            "81/81 [==============================] - 0s 2ms/step - loss: 1.6495 - categorical_accuracy: 0.2057 - val_loss: 1.6243 - val_categorical_accuracy: 0.2040\n",
            "Epoch 14/50\n",
            "81/81 [==============================] - 0s 2ms/step - loss: 1.6277 - categorical_accuracy: 0.2170 - val_loss: 1.6241 - val_categorical_accuracy: 0.2040\n",
            "Epoch 15/50\n",
            "81/81 [==============================] - 0s 2ms/step - loss: 1.6235 - categorical_accuracy: 0.2157 - val_loss: 1.6235 - val_categorical_accuracy: 0.2040\n",
            "Epoch 16/50\n",
            "81/81 [==============================] - 0s 2ms/step - loss: 1.6320 - categorical_accuracy: 0.1908 - val_loss: 1.6235 - val_categorical_accuracy: 0.2040\n",
            "Epoch 17/50\n",
            "81/81 [==============================] - 0s 3ms/step - loss: 1.6217 - categorical_accuracy: 0.2132 - val_loss: 1.6233 - val_categorical_accuracy: 0.2040\n",
            "Epoch 18/50\n",
            "81/81 [==============================] - 0s 3ms/step - loss: 1.6119 - categorical_accuracy: 0.2107 - val_loss: 1.6228 - val_categorical_accuracy: 0.2040\n",
            "Epoch 19/50\n",
            "81/81 [==============================] - 0s 2ms/step - loss: 1.6198 - categorical_accuracy: 0.2207 - val_loss: 1.6229 - val_categorical_accuracy: 0.2040\n",
            "Epoch 20/50\n",
            "81/81 [==============================] - 0s 3ms/step - loss: 1.6132 - categorical_accuracy: 0.2095 - val_loss: 1.6225 - val_categorical_accuracy: 0.2040\n",
            "Epoch 21/50\n",
            "81/81 [==============================] - 0s 3ms/step - loss: 1.5952 - categorical_accuracy: 0.2082 - val_loss: 1.5687 - val_categorical_accuracy: 0.3333\n",
            "Epoch 22/50\n",
            "81/81 [==============================] - 0s 2ms/step - loss: 1.5291 - categorical_accuracy: 0.2793 - val_loss: 1.5121 - val_categorical_accuracy: 0.3234\n",
            "Epoch 23/50\n",
            "81/81 [==============================] - 0s 2ms/step - loss: 1.5179 - categorical_accuracy: 0.2706 - val_loss: 1.4975 - val_categorical_accuracy: 0.3234\n",
            "Epoch 24/50\n",
            "81/81 [==============================] - 0s 2ms/step - loss: 1.5290 - categorical_accuracy: 0.2668 - val_loss: 1.4844 - val_categorical_accuracy: 0.3184\n",
            "Epoch 25/50\n",
            "81/81 [==============================] - 0s 3ms/step - loss: 1.5024 - categorical_accuracy: 0.2656 - val_loss: 1.4689 - val_categorical_accuracy: 0.4328\n",
            "Epoch 26/50\n",
            "81/81 [==============================] - 0s 3ms/step - loss: 1.4980 - categorical_accuracy: 0.3441 - val_loss: 1.4511 - val_categorical_accuracy: 0.4080\n",
            "Epoch 27/50\n",
            "81/81 [==============================] - 0s 3ms/step - loss: 1.4914 - categorical_accuracy: 0.3354 - val_loss: 1.4458 - val_categorical_accuracy: 0.4080\n",
            "Epoch 28/50\n",
            "81/81 [==============================] - 0s 3ms/step - loss: 1.4927 - categorical_accuracy: 0.3367 - val_loss: 1.4435 - val_categorical_accuracy: 0.4080\n",
            "Epoch 29/50\n",
            "81/81 [==============================] - 0s 3ms/step - loss: 1.4829 - categorical_accuracy: 0.3441 - val_loss: 1.4289 - val_categorical_accuracy: 0.4328\n",
            "Epoch 30/50\n",
            "81/81 [==============================] - 0s 3ms/step - loss: 1.4734 - categorical_accuracy: 0.3454 - val_loss: 1.4206 - val_categorical_accuracy: 0.4428\n",
            "Epoch 31/50\n",
            "81/81 [==============================] - 0s 3ms/step - loss: 1.4631 - categorical_accuracy: 0.3566 - val_loss: 1.4039 - val_categorical_accuracy: 0.4378\n",
            "Epoch 32/50\n",
            "81/81 [==============================] - 0s 3ms/step - loss: 1.4839 - categorical_accuracy: 0.3342 - val_loss: 1.4039 - val_categorical_accuracy: 0.4279\n",
            "Epoch 33/50\n",
            "81/81 [==============================] - 0s 3ms/step - loss: 1.4538 - categorical_accuracy: 0.3616 - val_loss: 1.3978 - val_categorical_accuracy: 0.4627\n",
            "Epoch 34/50\n",
            "81/81 [==============================] - 0s 3ms/step - loss: 1.4649 - categorical_accuracy: 0.3392 - val_loss: 1.3984 - val_categorical_accuracy: 0.4627\n",
            "Epoch 35/50\n",
            "81/81 [==============================] - 0s 2ms/step - loss: 1.4454 - categorical_accuracy: 0.3678 - val_loss: 1.3898 - val_categorical_accuracy: 0.4229\n",
            "Epoch 36/50\n",
            "81/81 [==============================] - 0s 2ms/step - loss: 1.4724 - categorical_accuracy: 0.3404 - val_loss: 1.3782 - val_categorical_accuracy: 0.4428\n",
            "Epoch 37/50\n",
            "81/81 [==============================] - 0s 2ms/step - loss: 1.4411 - categorical_accuracy: 0.3678 - val_loss: 1.3792 - val_categorical_accuracy: 0.4328\n",
            "Epoch 38/50\n",
            "81/81 [==============================] - 0s 2ms/step - loss: 1.4248 - categorical_accuracy: 0.3853 - val_loss: 1.3708 - val_categorical_accuracy: 0.4677\n",
            "Epoch 39/50\n",
            "81/81 [==============================] - 0s 3ms/step - loss: 1.4411 - categorical_accuracy: 0.3529 - val_loss: 1.3657 - val_categorical_accuracy: 0.4577\n",
            "Epoch 40/50\n",
            "81/81 [==============================] - 0s 2ms/step - loss: 1.4344 - categorical_accuracy: 0.3815 - val_loss: 1.3626 - val_categorical_accuracy: 0.4577\n",
            "Epoch 41/50\n",
            "81/81 [==============================] - 0s 2ms/step - loss: 1.4561 - categorical_accuracy: 0.3491 - val_loss: 1.3498 - val_categorical_accuracy: 0.4577\n",
            "Epoch 42/50\n",
            "81/81 [==============================] - 0s 2ms/step - loss: 1.4538 - categorical_accuracy: 0.3566 - val_loss: 1.3493 - val_categorical_accuracy: 0.4577\n",
            "Epoch 43/50\n",
            "81/81 [==============================] - 0s 2ms/step - loss: 1.4446 - categorical_accuracy: 0.3579 - val_loss: 1.3489 - val_categorical_accuracy: 0.4478\n",
            "Epoch 44/50\n",
            "81/81 [==============================] - 0s 2ms/step - loss: 1.4385 - categorical_accuracy: 0.3741 - val_loss: 1.3546 - val_categorical_accuracy: 0.4677\n",
            "Epoch 45/50\n",
            "81/81 [==============================] - 0s 2ms/step - loss: 1.4209 - categorical_accuracy: 0.3741 - val_loss: 1.3441 - val_categorical_accuracy: 0.4925\n",
            "Epoch 46/50\n",
            "81/81 [==============================] - 0s 3ms/step - loss: 1.4254 - categorical_accuracy: 0.3815 - val_loss: 1.3379 - val_categorical_accuracy: 0.4876\n",
            "Epoch 47/50\n",
            "81/81 [==============================] - 0s 2ms/step - loss: 1.4414 - categorical_accuracy: 0.3691 - val_loss: 1.3456 - val_categorical_accuracy: 0.4876\n",
            "Epoch 48/50\n",
            "81/81 [==============================] - 0s 3ms/step - loss: 1.4373 - categorical_accuracy: 0.3616 - val_loss: 1.3358 - val_categorical_accuracy: 0.5025\n",
            "Epoch 49/50\n",
            "81/81 [==============================] - 0s 2ms/step - loss: 1.4307 - categorical_accuracy: 0.3541 - val_loss: 1.3380 - val_categorical_accuracy: 0.4876\n",
            "Epoch 50/50\n",
            "81/81 [==============================] - 0s 2ms/step - loss: 1.4260 - categorical_accuracy: 0.3728 - val_loss: 1.3351 - val_categorical_accuracy: 0.4876\n"
          ]
        },
        {
          "output_type": "execute_result",
          "data": {
            "text/plain": [
              "<keras.callbacks.History at 0x7f2fe73b5e50>"
            ]
          },
          "metadata": {},
          "execution_count": 20
        }
      ],
      "source": [
        "# Add in validation loss to select the number of epochs\n",
        "# Fit the model\n",
        "number_of_epochs = 50\n",
        "model.fit(X_train,y_train, \n",
        "                    epochs=number_of_epochs,\n",
        "                    batch_size=10,\n",
        "                      validation_split=0.2,\n",
        "                    shuffle=True)"
      ]
    },
    {
      "cell_type": "code",
      "execution_count": 21,
      "id": "53b0063a",
      "metadata": {
        "colab": {
          "base_uri": "https://localhost:8080/"
        },
        "id": "53b0063a",
        "outputId": "fde88f56-1e71-49ca-cc53-d3c6c5c98962"
      },
      "outputs": [
        {
          "output_type": "execute_result",
          "data": {
            "text/plain": [
              "dict_keys(['loss', 'categorical_accuracy', 'val_loss', 'val_categorical_accuracy'])"
            ]
          },
          "metadata": {},
          "execution_count": 21
        }
      ],
      "source": [
        "# Save model history across epochs\n",
        "model_history = model.history.history\n",
        "model_history.keys()"
      ]
    },
    {
      "cell_type": "code",
      "execution_count": 22,
      "id": "2124d070",
      "metadata": {
        "colab": {
          "base_uri": "https://localhost:8080/"
        },
        "id": "2124d070",
        "outputId": "1a5e80b8-0264-4c0b-c16e-a48da86b3463"
      },
      "outputs": [
        {
          "output_type": "execute_result",
          "data": {
            "text/plain": [
              "[0.15087281167507172,\n",
              " 0.1945137083530426,\n",
              " 0.21072319149971008,\n",
              " 0.21321696043014526,\n",
              " 0.2094763070344925,\n",
              " 0.21571072936058044,\n",
              " 0.22693267464637756,\n",
              " 0.21820448338985443,\n",
              " 0.21197007596492767,\n",
              " 0.21571072936058044,\n",
              " 0.21945136785507202,\n",
              " 0.21072319149971008,\n",
              " 0.20573565363883972,\n",
              " 0.21695759892463684,\n",
              " 0.21571072936058044,\n",
              " 0.19077306985855103,\n",
              " 0.21321696043014526,\n",
              " 0.21072319149971008,\n",
              " 0.2206982523202896,\n",
              " 0.2094763070344925,\n",
              " 0.2082294225692749,\n",
              " 0.2793017327785492,\n",
              " 0.27057355642318726,\n",
              " 0.2668329179286957,\n",
              " 0.2655860483646393,\n",
              " 0.3441396653652191,\n",
              " 0.3354114592075348,\n",
              " 0.3366583585739136,\n",
              " 0.3441396653652191,\n",
              " 0.3453865349292755,\n",
              " 0.35660848021507263,\n",
              " 0.3341645896434784,\n",
              " 0.361596018075943,\n",
              " 0.33915212750434875,\n",
              " 0.36783042550086975,\n",
              " 0.34039899706840515,\n",
              " 0.36783042550086975,\n",
              " 0.38528677821159363,\n",
              " 0.35286784172058105,\n",
              " 0.38154613971710205,\n",
              " 0.3491271734237671,\n",
              " 0.35660848021507263,\n",
              " 0.35785534977912903,\n",
              " 0.3740648329257965,\n",
              " 0.3740648329257965,\n",
              " 0.38154613971710205,\n",
              " 0.36907729506492615,\n",
              " 0.361596018075943,\n",
              " 0.35411471128463745,\n",
              " 0.3728179633617401]"
            ]
          },
          "metadata": {},
          "execution_count": 22
        }
      ],
      "source": [
        "# View `categorical_accuracy` for the training dataset\n",
        "model_history['categorical_accuracy']"
      ]
    },
    {
      "cell_type": "code",
      "execution_count": 23,
      "id": "3ef4fda4",
      "metadata": {
        "colab": {
          "base_uri": "https://localhost:8080/",
          "height": 299
        },
        "id": "3ef4fda4",
        "outputId": "a4408474-47ba-4245-fcb1-cc4fc696a93f"
      },
      "outputs": [
        {
          "output_type": "execute_result",
          "data": {
            "text/plain": [
              "<matplotlib.axes._subplots.AxesSubplot at 0x7f2fe2b034d0>"
            ]
          },
          "metadata": {},
          "execution_count": 23
        },
        {
          "output_type": "display_data",
          "data": {
            "text/plain": [
              "<Figure size 432x288 with 1 Axes>"
            ],
            "image/png": "[encoded data removed]"
          },
          "metadata": {
            "needs_background": "light"
          }
        }
      ],
      "source": [
        "# Save accuracy for training and validation set across epochs\n",
        "training_results = pd.DataFrame(index=range(1,number_of_epochs+1))\n",
        "training_results['Training'] = model_history['categorical_accuracy']\n",
        "training_results['Validation'] = model_history['val_categorical_accuracy']\n",
        "training_results.plot(title = 'Performance Across Training and Validation')"
      ]
    },
    {
      "cell_type": "code",
      "execution_count": 24,
      "id": "e1dc8737",
      "metadata": {
        "colab": {
          "base_uri": "https://localhost:8080/"
        },
        "id": "e1dc8737",
        "outputId": "d9b05a6e-fc69-4168-b64f-61543df05d1e"
      },
      "outputs": [
        {
          "output_type": "stream",
          "name": "stdout",
          "text": [
            "Epoch 1/10\n",
            "81/81 [==============================] - 0s 3ms/step - loss: 1.4348 - categorical_accuracy: 0.3691 - val_loss: 1.3175 - val_categorical_accuracy: 0.4826\n",
            "Epoch 2/10\n",
            "81/81 [==============================] - 0s 3ms/step - loss: 1.4218 - categorical_accuracy: 0.3678 - val_loss: 1.3186 - val_categorical_accuracy: 0.4975\n",
            "Epoch 3/10\n",
            "81/81 [==============================] - 0s 2ms/step - loss: 1.4304 - categorical_accuracy: 0.3915 - val_loss: 1.3221 - val_categorical_accuracy: 0.4876\n",
            "Epoch 4/10\n",
            "81/81 [==============================] - 0s 2ms/step - loss: 1.4089 - categorical_accuracy: 0.3878 - val_loss: 1.3188 - val_categorical_accuracy: 0.4776\n",
            "Epoch 5/10\n",
            "81/81 [==============================] - 0s 2ms/step - loss: 1.4235 - categorical_accuracy: 0.3890 - val_loss: 1.3294 - val_categorical_accuracy: 0.4776\n",
            "Epoch 6/10\n",
            "81/81 [==============================] - 0s 2ms/step - loss: 1.4127 - categorical_accuracy: 0.3778 - val_loss: 1.3122 - val_categorical_accuracy: 0.5075\n",
            "Epoch 7/10\n",
            "81/81 [==============================] - 0s 2ms/step - loss: 1.4174 - categorical_accuracy: 0.3716 - val_loss: 1.3083 - val_categorical_accuracy: 0.4975\n",
            "Epoch 8/10\n",
            "81/81 [==============================] - 0s 2ms/step - loss: 1.4191 - categorical_accuracy: 0.3803 - val_loss: 1.3080 - val_categorical_accuracy: 0.5075\n",
            "Epoch 9/10\n",
            "81/81 [==============================] - 0s 3ms/step - loss: 1.4260 - categorical_accuracy: 0.3678 - val_loss: 1.3053 - val_categorical_accuracy: 0.5025\n",
            "Epoch 10/10\n",
            "81/81 [==============================] - 0s 2ms/step - loss: 1.4068 - categorical_accuracy: 0.3878 - val_loss: 1.3036 - val_categorical_accuracy: 0.4975\n"
          ]
        },
        {
          "output_type": "execute_result",
          "data": {
            "text/plain": [
              "<keras.callbacks.History at 0x7f2fe5a9bf50>"
            ]
          },
          "metadata": {},
          "execution_count": 24
        }
      ],
      "source": [
        "# Add in validation loss to select the number of epochs\n",
        "# Fit the model\n",
        "number_of_epochs = 10\n",
        "model.fit(X_train,y_train, \n",
        "                    epochs=number_of_epochs,\n",
        "                    batch_size=10,\n",
        "                      validation_split=0.2,\n",
        "                    shuffle=True)"
      ]
    }
  ],
  "metadata": {
    "kernelspec": {
      "display_name": "Python 3 (ipykernel)",
      "language": "python",
      "name": "python3"
    },
    "language_info": {
      "codemirror_mode": {
        "name": "ipython",
        "version": 3
      },
      "file_extension": ".py",
      "mimetype": "text/x-python",
      "name": "python",
      "nbconvert_exporter": "python",
      "pygments_lexer": "ipython3",
      "version": "3.8.11"
    },
    "colab": {
      "name": "Colab_claims_overfitting.ipynb",
      "provenance": []
    }
  },
  "nbformat": 4,
  "nbformat_minor": 5
}