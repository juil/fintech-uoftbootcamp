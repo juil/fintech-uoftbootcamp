{
 "cells": [
  {
   "cell_type": "markdown",
   "id": "e8790310",
   "metadata": {},
   "source": [
    "# Insurtech: Categorical Risk\n",
    "\n",
    "## Background\n",
    "\n",
    "The insurance business revolves around quantifying risk: the insurer invests insurance premiums in financial markets, and makes payouts in the form of insurance claims. Both investments and claims payouts require models in order to quantify and predict risk, or the level of potential financial loss. \n",
    "\n",
    "This dataset contains historical claims payouts for a number of different medical insurance buyers, along with their characteristics (\"age\", \"smoker\", and so forth). Can you build a deep neural network that uses people's characteristics to quantify the potential level of dollar claims, and can you model be made robust to overfitting? \n",
    "\n",
    "## Instructions\n",
    "\n",
    "### Preparing the Data\n",
    "1) Read in the data.\n",
    "\n",
    "2) Use `pd.qcut` to split the dependent variable, `charges`, into 5 categorical buckets. Save this result to a `charges_quantile` column.\n",
    "\n",
    "3) Use `LabelEncoder` and `to_categorical` to set this column as your `y` variable. \n",
    "\n",
    "4) Set the remaining data as your `X` data.\n",
    "\n",
    "5) Split the data into training and test windows using `train_test_split`.\n",
    "\n",
    "### Fitting the Model\n",
    "\n",
    "1) Fit and evaluate the model, including at least one dropout layer, and one layer with regularization. Include a validation set as part of fitting the model.\n",
    "\n",
    "2) Plot performance on the training and validation set across epochs. \n",
    "\n",
    "3) Finally, re-fit the new model, adjusting the amount of epochs for training so as to avoid overfitting as much as possible."
   ]
  },
  {
   "cell_type": "code",
   "execution_count": 1,
   "id": "038c919a",
   "metadata": {},
   "outputs": [],
   "source": [
    "import pandas as pd\n",
    "import numpy as np"
   ]
  },
  {
   "cell_type": "code",
   "execution_count": 2,
   "id": "292c574b",
   "metadata": {},
   "outputs": [],
   "source": [
    "from keras.models import Sequential\n",
    "from keras.layers import Dense, Activation\n",
    "\n",
    "# This code is neccessary to produce the same results every time\n",
    "import tensorflow as tf\n",
    "tf.keras.utils.set_random_seed(1)"
   ]
  },
  {
   "cell_type": "code",
   "execution_count": 3,
   "id": "322048df",
   "metadata": {},
   "outputs": [],
   "source": [
    "# Read in the data\n",
    "df = pd.read_csv('../Resources/insurance_claims.csv')"
   ]
  },
  {
   "cell_type": "code",
   "execution_count": 4,
   "id": "6445c810",
   "metadata": {},
   "outputs": [
    {
     "data": {
      "text/html": [
       "<div>\n",
       "<style scoped>\n",
       "    .dataframe tbody tr th:only-of-type {\n",
       "        vertical-align: middle;\n",
       "    }\n",
       "\n",
       "    .dataframe tbody tr th {\n",
       "        vertical-align: top;\n",
       "    }\n",
       "\n",
       "    .dataframe thead th {\n",
       "        text-align: right;\n",
       "    }\n",
       "</style>\n",
       "<table border=\"1\" class=\"dataframe\">\n",
       "  <thead>\n",
       "    <tr style=\"text-align: right;\">\n",
       "      <th></th>\n",
       "      <th>age</th>\n",
       "      <th>bmi</th>\n",
       "      <th>children</th>\n",
       "      <th>smoker</th>\n",
       "      <th>charges</th>\n",
       "    </tr>\n",
       "  </thead>\n",
       "  <tbody>\n",
       "    <tr>\n",
       "      <th>0</th>\n",
       "      <td>19</td>\n",
       "      <td>27.900</td>\n",
       "      <td>0</td>\n",
       "      <td>1</td>\n",
       "      <td>16884.92400</td>\n",
       "    </tr>\n",
       "    <tr>\n",
       "      <th>1</th>\n",
       "      <td>18</td>\n",
       "      <td>33.770</td>\n",
       "      <td>1</td>\n",
       "      <td>0</td>\n",
       "      <td>1725.55230</td>\n",
       "    </tr>\n",
       "    <tr>\n",
       "      <th>2</th>\n",
       "      <td>28</td>\n",
       "      <td>33.000</td>\n",
       "      <td>3</td>\n",
       "      <td>0</td>\n",
       "      <td>4449.46200</td>\n",
       "    </tr>\n",
       "    <tr>\n",
       "      <th>3</th>\n",
       "      <td>33</td>\n",
       "      <td>22.705</td>\n",
       "      <td>0</td>\n",
       "      <td>0</td>\n",
       "      <td>21984.47061</td>\n",
       "    </tr>\n",
       "    <tr>\n",
       "      <th>4</th>\n",
       "      <td>32</td>\n",
       "      <td>28.880</td>\n",
       "      <td>0</td>\n",
       "      <td>0</td>\n",
       "      <td>3866.85520</td>\n",
       "    </tr>\n",
       "  </tbody>\n",
       "</table>\n",
       "</div>"
      ],
      "text/plain": [
       "   age     bmi  children  smoker      charges\n",
       "0   19  27.900         0       1  16884.92400\n",
       "1   18  33.770         1       0   1725.55230\n",
       "2   28  33.000         3       0   4449.46200\n",
       "3   33  22.705         0       0  21984.47061\n",
       "4   32  28.880         0       0   3866.85520"
      ]
     },
     "execution_count": 4,
     "metadata": {},
     "output_type": "execute_result"
    }
   ],
   "source": [
    "df.head()"
   ]
  },
  {
   "cell_type": "code",
   "execution_count": 5,
   "id": "f5765905",
   "metadata": {},
   "outputs": [
    {
     "data": {
      "text/plain": [
       "1    268\n",
       "5    268\n",
       "3    268\n",
       "4    267\n",
       "2    267\n",
       "Name: charges_quantile, dtype: int64"
      ]
     },
     "execution_count": 5,
     "metadata": {},
     "output_type": "execute_result"
    }
   ],
   "source": [
    "# Use qcut to group claims data (\"charges\") into 5 buckets\n",
    "df['charges_quantile'] = (pd.qcut(df['charges'], q=5, labels=False))+1\n",
    "# Verify buckets are approximately balanced \n",
    "# (Slight imbalance from ties is OK)\n",
    "df['charges_quantile'].value_counts()"
   ]
  },
  {
   "cell_type": "code",
   "execution_count": 6,
   "id": "e029a4ce",
   "metadata": {},
   "outputs": [],
   "source": [
    "# Save bucket (\"quantile\") value as the new  `y` variable\n",
    "y_quantile = df['charges_quantile']"
   ]
  },
  {
   "cell_type": "code",
   "execution_count": 7,
   "id": "56854242",
   "metadata": {},
   "outputs": [],
   "source": [
    "# Save the unique count of categories for later use\n",
    "number_of_classes = len(y_quantile.unique())"
   ]
  },
  {
   "cell_type": "code",
   "execution_count": 8,
   "id": "b225898d",
   "metadata": {},
   "outputs": [
    {
     "data": {
      "text/plain": [
       "array([3, 0, 1, ..., 0, 0, 4])"
      ]
     },
     "execution_count": 8,
     "metadata": {},
     "output_type": "execute_result"
    }
   ],
   "source": [
    "# Encode quantiles into labels\n",
    "from sklearn.preprocessing import LabelEncoder\n",
    "encoder = LabelEncoder()\n",
    "encoder.fit(y_quantile)\n",
    "encoded_y = encoder.transform(y_quantile)\n",
    "encoded_y"
   ]
  },
  {
   "cell_type": "code",
   "execution_count": 9,
   "id": "fa4a563f",
   "metadata": {},
   "outputs": [
    {
     "data": {
      "text/plain": [
       "array([[0., 0., 0., 1., 0.],\n",
       "       [1., 0., 0., 0., 0.],\n",
       "       [0., 1., 0., 0., 0.],\n",
       "       ...,\n",
       "       [1., 0., 0., 0., 0.],\n",
       "       [1., 0., 0., 0., 0.],\n",
       "       [0., 0., 0., 0., 1.]], dtype=float32)"
      ]
     },
     "execution_count": 9,
     "metadata": {},
     "output_type": "execute_result"
    }
   ],
   "source": [
    "# Encode labels into categories\n",
    "from keras.utils.np_utils import to_categorical\n",
    "y_categorical = to_categorical(encoded_y, num_classes=number_of_classes)\n",
    "y_categorical"
   ]
  },
  {
   "cell_type": "code",
   "execution_count": 10,
   "id": "f1219ca4",
   "metadata": {},
   "outputs": [
    {
     "data": {
      "text/html": [
       "<div>\n",
       "<style scoped>\n",
       "    .dataframe tbody tr th:only-of-type {\n",
       "        vertical-align: middle;\n",
       "    }\n",
       "\n",
       "    .dataframe tbody tr th {\n",
       "        vertical-align: top;\n",
       "    }\n",
       "\n",
       "    .dataframe thead th {\n",
       "        text-align: right;\n",
       "    }\n",
       "</style>\n",
       "<table border=\"1\" class=\"dataframe\">\n",
       "  <thead>\n",
       "    <tr style=\"text-align: right;\">\n",
       "      <th></th>\n",
       "      <th>age</th>\n",
       "      <th>bmi</th>\n",
       "      <th>children</th>\n",
       "      <th>smoker</th>\n",
       "    </tr>\n",
       "  </thead>\n",
       "  <tbody>\n",
       "    <tr>\n",
       "      <th>0</th>\n",
       "      <td>19</td>\n",
       "      <td>27.90</td>\n",
       "      <td>0</td>\n",
       "      <td>1</td>\n",
       "    </tr>\n",
       "    <tr>\n",
       "      <th>1</th>\n",
       "      <td>18</td>\n",
       "      <td>33.77</td>\n",
       "      <td>1</td>\n",
       "      <td>0</td>\n",
       "    </tr>\n",
       "    <tr>\n",
       "      <th>2</th>\n",
       "      <td>28</td>\n",
       "      <td>33.00</td>\n",
       "      <td>3</td>\n",
       "      <td>0</td>\n",
       "    </tr>\n",
       "  </tbody>\n",
       "</table>\n",
       "</div>"
      ],
      "text/plain": [
       "   age    bmi  children  smoker\n",
       "0   19  27.90         0       1\n",
       "1   18  33.77         1       0\n",
       "2   28  33.00         3       0"
      ]
     },
     "execution_count": 10,
     "metadata": {},
     "output_type": "execute_result"
    }
   ],
   "source": [
    "# Specify X (predictor) variables\n",
    "X = df[['age','bmi','children', 'smoker']]\n",
    "X.head(3)"
   ]
  },
  {
   "cell_type": "code",
   "execution_count": 11,
   "id": "09f6d2b3",
   "metadata": {},
   "outputs": [],
   "source": [
    "# Split into training and testing windows\n",
    "from sklearn.model_selection import train_test_split\n",
    "X_train, X_test, y_train, y_test = train_test_split(X, y_categorical, random_state=1)"
   ]
  },
  {
   "cell_type": "code",
   "execution_count": 12,
   "id": "047e581e",
   "metadata": {},
   "outputs": [
    {
     "data": {
      "text/plain": [
       "array([[1., 0., 0., 0., 0.],\n",
       "       [1., 0., 0., 0., 0.],\n",
       "       [0., 1., 0., 0., 0.],\n",
       "       ...,\n",
       "       [0., 0., 0., 0., 1.],\n",
       "       [0., 0., 0., 1., 0.],\n",
       "       [0., 0., 0., 1., 0.]], dtype=float32)"
      ]
     },
     "execution_count": 12,
     "metadata": {},
     "output_type": "execute_result"
    }
   ],
   "source": [
    "# Preview the `y_train` values\n",
    "y_train"
   ]
  },
  {
   "cell_type": "code",
   "execution_count": 13,
   "id": "d8a8314d",
   "metadata": {},
   "outputs": [
    {
     "data": {
      "text/plain": [
       "4"
      ]
     },
     "execution_count": 13,
     "metadata": {},
     "output_type": "execute_result"
    }
   ],
   "source": [
    "# Save the count of unique predictor variables for use in model\n",
    "number_of_predictors = len(X.columns)\n",
    "len(X.columns)"
   ]
  },
  {
   "cell_type": "markdown",
   "id": "a1c124ca",
   "metadata": {},
   "source": [
    "### Build the Model\n",
    "\n"
   ]
  },
  {
   "cell_type": "code",
   "execution_count": 14,
   "id": "88fff3da",
   "metadata": {},
   "outputs": [],
   "source": [
    "# Import the `Dropout` layer\n",
    "from keras.layers import Dropout\n",
    "# Import regularization functions\n",
    "from keras.regularizers import l1, l2"
   ]
  },
  {
   "cell_type": "code",
   "execution_count": 15,
   "id": "d3f0702b",
   "metadata": {},
   "outputs": [
    {
     "name": "stdout",
     "output_type": "stream",
     "text": [
      "Metal device set to: Apple M1 Max\n"
     ]
    },
    {
     "name": "stderr",
     "output_type": "stream",
     "text": [
      "2022-03-14 12:33:28.373618: I tensorflow/core/common_runtime/pluggable_device/pluggable_device_factory.cc:305] Could not identify NUMA node of platform GPU ID 0, defaulting to 0. Your kernel may not have been built with NUMA support.\n",
      "2022-03-14 12:33:28.373730: I tensorflow/core/common_runtime/pluggable_device/pluggable_device_factory.cc:271] Created TensorFlow device (/job:localhost/replica:0/task:0/device:GPU:0 with 0 MB memory) -> physical PluggableDevice (device: 0, name: METAL, pci bus id: <undefined>)\n"
     ]
    }
   ],
   "source": [
    "# Build the Model\n",
    "model = Sequential()\n",
    "# Add a dense layer\n",
    "model.add(Dense(10, input_dim=number_of_predictors, activation='relu'))\n",
    "# Now add a dropout layer\n",
    "model.add(Dropout(.2,input_shape=(10,)))\n",
    "# Add another dense layer\n",
    "model.add(Dense(5, activation='relu', kernel_regularizer=l2(0.01), bias_regularizer=l2(0.01)))"
   ]
  },
  {
   "cell_type": "code",
   "execution_count": 16,
   "id": "2e188acc",
   "metadata": {},
   "outputs": [],
   "source": [
    "# Add the final output layer\n",
    "# (Set the # of possible outputs equal to the number classes)\n",
    "model.add(Dense(number_of_classes, activation='softmax'))"
   ]
  },
  {
   "cell_type": "code",
   "execution_count": 17,
   "id": "234f97d9",
   "metadata": {},
   "outputs": [],
   "source": [
    "# Compile the model\n",
    "model.compile(loss=\"categorical_crossentropy\", \n",
    "              optimizer= \"adam\", \n",
    "              metrics=['categorical_accuracy'])"
   ]
  },
  {
   "cell_type": "code",
   "execution_count": 18,
   "id": "fb552948",
   "metadata": {},
   "outputs": [
    {
     "name": "stdout",
     "output_type": "stream",
     "text": [
      "Model: \"sequential\"\n",
      "_________________________________________________________________\n",
      " Layer (type)                Output Shape              Param #   \n",
      "=================================================================\n",
      " dense (Dense)               (None, 10)                50        \n",
      "                                                                 \n",
      " dropout (Dropout)           (None, 10)                0         \n",
      "                                                                 \n",
      " dense_1 (Dense)             (None, 5)                 55        \n",
      "                                                                 \n",
      " dense_2 (Dense)             (None, 5)                 30        \n",
      "                                                                 \n",
      "=================================================================\n",
      "Total params: 135\n",
      "Trainable params: 135\n",
      "Non-trainable params: 0\n",
      "_________________________________________________________________\n"
     ]
    }
   ],
   "source": [
    "# Summarise the model\n",
    "model.summary()"
   ]
  },
  {
   "cell_type": "code",
   "execution_count": 19,
   "id": "0cd4bbee",
   "metadata": {},
   "outputs": [
    {
     "name": "stdout",
     "output_type": "stream",
     "text": [
      "Epoch 1/50\n"
     ]
    },
    {
     "name": "stderr",
     "output_type": "stream",
     "text": [
      "2022-03-14 12:33:28.459066: W tensorflow/core/platform/profile_utils/cpu_utils.cc:128] Failed to get CPU frequency: 0 Hz\n",
      "2022-03-14 12:33:28.625617: I tensorflow/core/grappler/optimizers/custom_graph_optimizer_registry.cc:113] Plugin optimizer for device_type GPU is enabled.\n"
     ]
    },
    {
     "name": "stdout",
     "output_type": "stream",
     "text": [
      "81/81 [==============================] - 1s 10ms/step - loss: 3.7551 - categorical_accuracy: 0.2020 - val_loss: 2.4432 - val_categorical_accuracy: 0.1592\n",
      "Epoch 2/50\n",
      " 1/81 [..............................] - ETA: 0s - loss: 1.9449 - categorical_accuracy: 0.3000"
     ]
    },
    {
     "name": "stderr",
     "output_type": "stream",
     "text": [
      "2022-03-14 12:33:29.366522: I tensorflow/core/grappler/optimizers/custom_graph_optimizer_registry.cc:113] Plugin optimizer for device_type GPU is enabled.\n"
     ]
    },
    {
     "name": "stdout",
     "output_type": "stream",
     "text": [
      "81/81 [==============================] - 1s 9ms/step - loss: 2.1889 - categorical_accuracy: 0.1970 - val_loss: 1.6767 - val_categorical_accuracy: 0.1692\n",
      "Epoch 3/50\n",
      "81/81 [==============================] - 1s 8ms/step - loss: 1.7828 - categorical_accuracy: 0.1908 - val_loss: 1.6390 - val_categorical_accuracy: 0.2139\n",
      "Epoch 4/50\n",
      "81/81 [==============================] - 1s 8ms/step - loss: 1.7045 - categorical_accuracy: 0.2170 - val_loss: 1.6297 - val_categorical_accuracy: 0.1841\n",
      "Epoch 5/50\n",
      "81/81 [==============================] - 1s 9ms/step - loss: 1.6861 - categorical_accuracy: 0.1845 - val_loss: 1.6276 - val_categorical_accuracy: 0.1891\n",
      "Epoch 6/50\n",
      "81/81 [==============================] - 1s 8ms/step - loss: 1.6379 - categorical_accuracy: 0.2257 - val_loss: 1.5686 - val_categorical_accuracy: 0.2139\n",
      "Epoch 7/50\n",
      "81/81 [==============================] - 1s 8ms/step - loss: 1.5728 - categorical_accuracy: 0.2656 - val_loss: 1.5511 - val_categorical_accuracy: 0.4328\n",
      "Epoch 8/50\n",
      "81/81 [==============================] - 1s 8ms/step - loss: 1.5452 - categorical_accuracy: 0.3092 - val_loss: 1.5216 - val_categorical_accuracy: 0.4428\n",
      "Epoch 9/50\n",
      "81/81 [==============================] - 1s 8ms/step - loss: 1.5202 - categorical_accuracy: 0.3429 - val_loss: 1.4457 - val_categorical_accuracy: 0.5174\n",
      "Epoch 10/50\n",
      "81/81 [==============================] - 1s 8ms/step - loss: 1.4896 - categorical_accuracy: 0.3579 - val_loss: 1.4488 - val_categorical_accuracy: 0.4677\n",
      "Epoch 11/50\n",
      "81/81 [==============================] - 1s 8ms/step - loss: 1.4627 - categorical_accuracy: 0.3728 - val_loss: 1.4008 - val_categorical_accuracy: 0.5622\n",
      "Epoch 12/50\n",
      "81/81 [==============================] - 1s 8ms/step - loss: 1.4464 - categorical_accuracy: 0.3853 - val_loss: 1.3832 - val_categorical_accuracy: 0.5572\n",
      "Epoch 13/50\n",
      "81/81 [==============================] - 1s 8ms/step - loss: 1.4404 - categorical_accuracy: 0.3628 - val_loss: 1.3783 - val_categorical_accuracy: 0.4876\n",
      "Epoch 14/50\n",
      "81/81 [==============================] - 1s 8ms/step - loss: 1.4350 - categorical_accuracy: 0.3703 - val_loss: 1.3724 - val_categorical_accuracy: 0.4876\n",
      "Epoch 15/50\n",
      "81/81 [==============================] - 1s 9ms/step - loss: 1.4308 - categorical_accuracy: 0.3628 - val_loss: 1.3483 - val_categorical_accuracy: 0.5075\n",
      "Epoch 16/50\n",
      "81/81 [==============================] - 1s 8ms/step - loss: 1.4115 - categorical_accuracy: 0.3903 - val_loss: 1.3552 - val_categorical_accuracy: 0.4826\n",
      "Epoch 17/50\n",
      "81/81 [==============================] - 1s 8ms/step - loss: 1.4205 - categorical_accuracy: 0.3741 - val_loss: 1.3323 - val_categorical_accuracy: 0.5323\n",
      "Epoch 18/50\n",
      "81/81 [==============================] - 1s 8ms/step - loss: 1.4032 - categorical_accuracy: 0.4065 - val_loss: 1.3152 - val_categorical_accuracy: 0.5274\n",
      "Epoch 19/50\n",
      "81/81 [==============================] - 1s 8ms/step - loss: 1.3981 - categorical_accuracy: 0.3716 - val_loss: 1.3263 - val_categorical_accuracy: 0.4776\n",
      "Epoch 20/50\n",
      "81/81 [==============================] - 1s 8ms/step - loss: 1.3988 - categorical_accuracy: 0.3828 - val_loss: 1.3047 - val_categorical_accuracy: 0.5025\n",
      "Epoch 21/50\n",
      "81/81 [==============================] - 1s 8ms/step - loss: 1.3929 - categorical_accuracy: 0.3791 - val_loss: 1.2883 - val_categorical_accuracy: 0.5224\n",
      "Epoch 22/50\n",
      "81/81 [==============================] - 1s 8ms/step - loss: 1.3819 - categorical_accuracy: 0.4040 - val_loss: 1.2885 - val_categorical_accuracy: 0.5174\n",
      "Epoch 23/50\n",
      "81/81 [==============================] - 1s 8ms/step - loss: 1.3693 - categorical_accuracy: 0.4127 - val_loss: 1.2942 - val_categorical_accuracy: 0.4826\n",
      "Epoch 24/50\n",
      "81/81 [==============================] - 1s 8ms/step - loss: 1.3784 - categorical_accuracy: 0.4065 - val_loss: 1.2765 - val_categorical_accuracy: 0.4826\n",
      "Epoch 25/50\n",
      "81/81 [==============================] - 1s 8ms/step - loss: 1.3739 - categorical_accuracy: 0.3741 - val_loss: 1.2675 - val_categorical_accuracy: 0.5174\n",
      "Epoch 26/50\n",
      "81/81 [==============================] - 1s 8ms/step - loss: 1.3627 - categorical_accuracy: 0.4040 - val_loss: 1.2591 - val_categorical_accuracy: 0.5124\n",
      "Epoch 27/50\n",
      "81/81 [==============================] - 1s 8ms/step - loss: 1.3498 - categorical_accuracy: 0.4127 - val_loss: 1.2741 - val_categorical_accuracy: 0.4876\n",
      "Epoch 28/50\n",
      "81/81 [==============================] - 1s 9ms/step - loss: 1.3492 - categorical_accuracy: 0.3990 - val_loss: 1.2744 - val_categorical_accuracy: 0.4826\n",
      "Epoch 29/50\n",
      "81/81 [==============================] - 1s 9ms/step - loss: 1.3542 - categorical_accuracy: 0.3953 - val_loss: 1.2506 - val_categorical_accuracy: 0.5274\n",
      "Epoch 30/50\n",
      "81/81 [==============================] - 1s 8ms/step - loss: 1.3511 - categorical_accuracy: 0.3803 - val_loss: 1.2472 - val_categorical_accuracy: 0.4627\n",
      "Epoch 31/50\n",
      "81/81 [==============================] - 1s 10ms/step - loss: 1.3302 - categorical_accuracy: 0.4077 - val_loss: 1.2264 - val_categorical_accuracy: 0.4826\n",
      "Epoch 32/50\n",
      "81/81 [==============================] - 1s 9ms/step - loss: 1.3353 - categorical_accuracy: 0.3953 - val_loss: 1.2125 - val_categorical_accuracy: 0.5522\n",
      "Epoch 33/50\n",
      "81/81 [==============================] - 1s 9ms/step - loss: 1.3174 - categorical_accuracy: 0.4377 - val_loss: 1.2125 - val_categorical_accuracy: 0.5224\n",
      "Epoch 34/50\n",
      "81/81 [==============================] - 1s 9ms/step - loss: 1.3178 - categorical_accuracy: 0.4052 - val_loss: 1.2150 - val_categorical_accuracy: 0.4776\n",
      "Epoch 35/50\n",
      "81/81 [==============================] - 1s 9ms/step - loss: 1.3232 - categorical_accuracy: 0.4190 - val_loss: 1.2110 - val_categorical_accuracy: 0.5224\n",
      "Epoch 36/50\n",
      "81/81 [==============================] - 1s 9ms/step - loss: 1.3184 - categorical_accuracy: 0.4165 - val_loss: 1.1954 - val_categorical_accuracy: 0.5423\n",
      "Epoch 37/50\n",
      "81/81 [==============================] - 1s 9ms/step - loss: 1.3357 - categorical_accuracy: 0.3903 - val_loss: 1.1892 - val_categorical_accuracy: 0.5572\n",
      "Epoch 38/50\n",
      "81/81 [==============================] - 1s 9ms/step - loss: 1.3158 - categorical_accuracy: 0.4289 - val_loss: 1.1970 - val_categorical_accuracy: 0.5075\n",
      "Epoch 39/50\n",
      "81/81 [==============================] - 1s 9ms/step - loss: 1.2927 - categorical_accuracy: 0.4015 - val_loss: 1.1865 - val_categorical_accuracy: 0.4826\n",
      "Epoch 40/50\n",
      "81/81 [==============================] - 1s 9ms/step - loss: 1.2981 - categorical_accuracy: 0.4327 - val_loss: 1.1759 - val_categorical_accuracy: 0.5522\n",
      "Epoch 41/50\n",
      "81/81 [==============================] - 1s 9ms/step - loss: 1.2994 - categorical_accuracy: 0.4077 - val_loss: 1.1963 - val_categorical_accuracy: 0.5323\n",
      "Epoch 42/50\n",
      "81/81 [==============================] - 1s 9ms/step - loss: 1.2975 - categorical_accuracy: 0.4052 - val_loss: 1.1987 - val_categorical_accuracy: 0.5174\n",
      "Epoch 43/50\n",
      "81/81 [==============================] - 1s 9ms/step - loss: 1.3029 - categorical_accuracy: 0.4165 - val_loss: 1.1878 - val_categorical_accuracy: 0.5423\n",
      "Epoch 44/50\n",
      "81/81 [==============================] - 1s 8ms/step - loss: 1.2776 - categorical_accuracy: 0.4352 - val_loss: 1.1744 - val_categorical_accuracy: 0.5423\n",
      "Epoch 45/50\n",
      "81/81 [==============================] - 1s 9ms/step - loss: 1.2874 - categorical_accuracy: 0.3965 - val_loss: 1.1708 - val_categorical_accuracy: 0.5174\n",
      "Epoch 46/50\n",
      "81/81 [==============================] - 1s 10ms/step - loss: 1.2972 - categorical_accuracy: 0.4551 - val_loss: 1.1575 - val_categorical_accuracy: 0.5274\n",
      "Epoch 47/50\n",
      "81/81 [==============================] - 1s 9ms/step - loss: 1.2831 - categorical_accuracy: 0.4414 - val_loss: 1.1836 - val_categorical_accuracy: 0.5423\n",
      "Epoch 48/50\n",
      "81/81 [==============================] - 1s 9ms/step - loss: 1.2630 - categorical_accuracy: 0.4451 - val_loss: 1.1525 - val_categorical_accuracy: 0.5323\n",
      "Epoch 49/50\n",
      "81/81 [==============================] - 1s 9ms/step - loss: 1.2637 - categorical_accuracy: 0.4564 - val_loss: 1.1563 - val_categorical_accuracy: 0.5423\n",
      "Epoch 50/50\n",
      "81/81 [==============================] - 1s 9ms/step - loss: 1.2612 - categorical_accuracy: 0.4377 - val_loss: 1.1167 - val_categorical_accuracy: 0.5473\n"
     ]
    },
    {
     "data": {
      "text/plain": [
       "<keras.callbacks.History at 0x2b8eaac70>"
      ]
     },
     "execution_count": 19,
     "metadata": {},
     "output_type": "execute_result"
    }
   ],
   "source": [
    "# Add in validation loss to select the number of epochs\n",
    "# Fit the model\n",
    "number_of_epochs = 50\n",
    "model.fit(X_train,y_train, \n",
    "                    epochs=number_of_epochs,\n",
    "                    batch_size=10,\n",
    "                      validation_split=0.2,\n",
    "                    shuffle=True)"
   ]
  },
  {
   "cell_type": "code",
   "execution_count": 20,
   "id": "53b0063a",
   "metadata": {},
   "outputs": [
    {
     "data": {
      "text/plain": [
       "dict_keys(['loss', 'categorical_accuracy', 'val_loss', 'val_categorical_accuracy'])"
      ]
     },
     "execution_count": 20,
     "metadata": {},
     "output_type": "execute_result"
    }
   ],
   "source": [
    "# Save model history across epochs\n",
    "model_history = model.history.history\n",
    "model_history.keys()"
   ]
  },
  {
   "cell_type": "code",
   "execution_count": 21,
   "id": "2124d070",
   "metadata": {},
   "outputs": [
    {
     "data": {
      "text/plain": [
       "[0.20199501514434814,\n",
       " 0.19700749218463898,\n",
       " 0.19077306985855103,\n",
       " 0.21695761382579803,\n",
       " 0.18453866243362427,\n",
       " 0.22568579018115997,\n",
       " 0.2655860483646393,\n",
       " 0.309226930141449,\n",
       " 0.34289276599884033,\n",
       " 0.3578553795814514,\n",
       " 0.3728179633617401,\n",
       " 0.385286808013916,\n",
       " 0.3628429174423218,\n",
       " 0.37032419443130493,\n",
       " 0.3628429174423218,\n",
       " 0.390274316072464,\n",
       " 0.3740648627281189,\n",
       " 0.40648379921913147,\n",
       " 0.3715710937976837,\n",
       " 0.38279303908348083,\n",
       " 0.37905237078666687,\n",
       " 0.4039900302886963,\n",
       " 0.4127182066440582,\n",
       " 0.40648379921913147,\n",
       " 0.3740648627281189,\n",
       " 0.4039900302886963,\n",
       " 0.4127182066440582,\n",
       " 0.3990024924278259,\n",
       " 0.39526185393333435,\n",
       " 0.38029927015304565,\n",
       " 0.40773069858551025,\n",
       " 0.39526185393333435,\n",
       " 0.43765586614608765,\n",
       " 0.4052369296550751,\n",
       " 0.4189526438713074,\n",
       " 0.4164588749408722,\n",
       " 0.390274316072464,\n",
       " 0.4289276897907257,\n",
       " 0.4014962613582611,\n",
       " 0.4326683580875397,\n",
       " 0.40773069858551025,\n",
       " 0.4052369296550751,\n",
       " 0.4164588749408722,\n",
       " 0.43516209721565247,\n",
       " 0.39650875329971313,\n",
       " 0.4551122486591339,\n",
       " 0.4413965344429016,\n",
       " 0.4451371729373932,\n",
       " 0.4563591182231903,\n",
       " 0.43765586614608765]"
      ]
     },
     "execution_count": 21,
     "metadata": {},
     "output_type": "execute_result"
    }
   ],
   "source": [
    "# View `categorical_accuracy` for the training dataset\n",
    "model_history['categorical_accuracy']"
   ]
  },
  {
   "cell_type": "code",
   "execution_count": 22,
   "id": "3ef4fda4",
   "metadata": {},
   "outputs": [
    {
     "data": {
      "text/plain": [
       "<AxesSubplot:title={'center':'Performance Across Training and Validation'}>"
      ]
     },
     "execution_count": 22,
     "metadata": {},
     "output_type": "execute_result"
    },
    {
     "data": {
      "image/png": "[encoded data removed]",
      "text/plain": [
       "<Figure size 432x288 with 1 Axes>"
      ]
     },
     "metadata": {
      "needs_background": "light"
     },
     "output_type": "display_data"
    }
   ],
   "source": [
    "# Save accuracy for training and validation set across epochs\n",
    "training_results = pd.DataFrame(index=range(1,number_of_epochs+1))\n",
    "training_results['Training'] = model_history['categorical_accuracy']\n",
    "training_results['Validation'] = model_history['val_categorical_accuracy']\n",
    "training_results.plot(title = 'Performance Across Training and Validation')"
   ]
  },
  {
   "cell_type": "code",
   "execution_count": 23,
   "id": "e1dc8737",
   "metadata": {},
   "outputs": [
    {
     "name": "stdout",
     "output_type": "stream",
     "text": [
      "Epoch 1/10\n",
      "81/81 [==============================] - 1s 9ms/step - loss: 1.2715 - categorical_accuracy: 0.4077 - val_loss: 1.1302 - val_categorical_accuracy: 0.5373\n",
      "Epoch 2/10\n",
      "81/81 [==============================] - 1s 8ms/step - loss: 1.2688 - categorical_accuracy: 0.4489 - val_loss: 1.1235 - val_categorical_accuracy: 0.5622\n",
      "Epoch 3/10\n",
      "81/81 [==============================] - 1s 8ms/step - loss: 1.2676 - categorical_accuracy: 0.4514 - val_loss: 1.1546 - val_categorical_accuracy: 0.5473\n",
      "Epoch 4/10\n",
      "81/81 [==============================] - 1s 8ms/step - loss: 1.2617 - categorical_accuracy: 0.4589 - val_loss: 1.1167 - val_categorical_accuracy: 0.5821\n",
      "Epoch 5/10\n",
      "81/81 [==============================] - 1s 8ms/step - loss: 1.2646 - categorical_accuracy: 0.4339 - val_loss: 1.1337 - val_categorical_accuracy: 0.5522\n",
      "Epoch 6/10\n",
      "81/81 [==============================] - 1s 8ms/step - loss: 1.2621 - categorical_accuracy: 0.4339 - val_loss: 1.1078 - val_categorical_accuracy: 0.5473\n",
      "Epoch 7/10\n",
      "81/81 [==============================] - 1s 9ms/step - loss: 1.2476 - categorical_accuracy: 0.4576 - val_loss: 1.1313 - val_categorical_accuracy: 0.5572\n",
      "Epoch 8/10\n",
      "81/81 [==============================] - 1s 8ms/step - loss: 1.2519 - categorical_accuracy: 0.4589 - val_loss: 1.1165 - val_categorical_accuracy: 0.5622\n",
      "Epoch 9/10\n",
      "81/81 [==============================] - 1s 8ms/step - loss: 1.2363 - categorical_accuracy: 0.4551 - val_loss: 1.1029 - val_categorical_accuracy: 0.5672\n",
      "Epoch 10/10\n",
      "81/81 [==============================] - 1s 9ms/step - loss: 1.2449 - categorical_accuracy: 0.4476 - val_loss: 1.1214 - val_categorical_accuracy: 0.5871\n"
     ]
    },
    {
     "data": {
      "text/plain": [
       "<keras.callbacks.History at 0x2c0388d60>"
      ]
     },
     "execution_count": 23,
     "metadata": {},
     "output_type": "execute_result"
    }
   ],
   "source": [
    "# Add in validation loss to select the number of epochs\n",
    "# Fit the model\n",
    "number_of_epochs = 10\n",
    "model.fit(X_train,y_train, \n",
    "                    epochs=number_of_epochs,\n",
    "                    batch_size=10,\n",
    "                      validation_split=0.2,\n",
    "                    shuffle=True)"
   ]
  }
 ],
 "metadata": {
  "kernelspec": {
   "display_name": "Python 3 (ipykernel)",
   "language": "python",
   "name": "python3"
  },
  "language_info": {
   "codemirror_mode": {
    "name": "ipython",
    "version": 3
   },
   "file_extension": ".py",
   "mimetype": "text/x-python",
   "name": "python",
   "nbconvert_exporter": "python",
   "pygments_lexer": "ipython3",
   "version": "3.8.11"
  }
 },
 "nbformat": 4,
 "nbformat_minor": 5
}
