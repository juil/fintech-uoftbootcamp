{
 "cells": [
  {
   "cell_type": "markdown",
   "id": "f9f3be44",
   "metadata": {},
   "source": [
    "# Transfer Learning: Model Homes\n",
    "\n",
    "## Background \n",
    "\n",
    "One service that some real estate technology (or \"proptech\") companies like [Redfin](https://www.redfin.com/what-is-my-home-worth) or [Zillow](https://www.zillow.com/sellerlanding/pricingtool/) offer are estimates of property value, for just about every property in the United States. \n",
    "\n",
    "But how do they know what any given property is worth? The answer is that they apply ready-made models, feeding the individual characteristics of any house into that model, with the resulting output being the model's prediction of what that home is currently worth.\n",
    "\n",
    "Just like those firms, in this activity, your job is to load a ready-made model built from modeling many thousands of different home prices in Los Angeles County, California. You'll then apply this model to the smaller market for homes in San Diego County, California. Because these markets are similar, yet somewhat different, you'll also apply what you know about transfer learning to make adjustments to your pre-loaded model so that it can be better tailored to the specifics of homes in San Diego County.\n",
    "    \n",
    "## Instructions\n",
    "\n",
    "1. Load the model (`los_angeles_model.json`) and its weights (`los_angeles_model.h5`) from the Resources folder.\n",
    "\n",
    "2. Use the `layers` attribute or `summary` function to count how many layers there are.\n",
    "\n",
    "3. Read in the San Diego County data (`san_diego.csv`, then `train_test_split` that data.\n",
    "    >Note: the `y` variable should be `pricePerSquareFoot`, and the `X` data should include `livingArea`,`bathrooms`,`bedrooms`,and `garageSpaces`.\n",
    "\n",
    "4. Freeze the existing layers of the loaded model. Verify all layers are frozen by printing the `summary` of the model's architecture.\n",
    "\n",
    "5. Create a new network which is an exact copy of this loaded model, except that the top layer of the original model is removed.\n",
    "\n",
    "6. Replace those removed layers with one or two new layers (including the final output layer). Ensure that these new trainable layers are added by using the `summary` function on this revised model. \n",
    "\n",
    "7. Finallly, `compile` and `fit` this newly revised model to the new data."
   ]
  },
  {
   "cell_type": "code",
   "execution_count": 1,
   "id": "566da2ae",
   "metadata": {},
   "outputs": [],
   "source": [
    "#Imports\n",
    "import pandas as pd\n",
    "import numpy as np\n",
    "\n",
    "from keras.models import Sequential, Model\n",
    "from keras.layers import Dense, Activation, Dropout\n",
    "from sklearn.preprocessing import StandardScaler\n",
    "\n",
    "from tensorflow.keras.models import model_from_json"
   ]
  },
  {
   "cell_type": "code",
   "execution_count": null,
   "id": "06f914fe",
   "metadata": {},
   "outputs": [],
   "source": [
    "# Load `los_angeles_model.json`, `los_angeles_model.h5` and `san_diego.csv` by selecting all from the upload prompt\n",
    "# and the data from the Resources folder.\n",
    "from google.colab import files\n",
    "uploaded = files.upload()"
   ]
  },
  {
   "cell_type": "code",
   "execution_count": 2,
   "id": "3cf641ba",
   "metadata": {},
   "outputs": [
    {
     "name": "stdout",
     "output_type": "stream",
     "text": [
      "Metal device set to: Apple M1 Max\n"
     ]
    },
    {
     "name": "stderr",
     "output_type": "stream",
     "text": [
      "2022-03-15 12:43:44.605734: I tensorflow/core/common_runtime/pluggable_device/pluggable_device_factory.cc:305] Could not identify NUMA node of platform GPU ID 0, defaulting to 0. Your kernel may not have been built with NUMA support.\n",
      "2022-03-15 12:43:44.605844: I tensorflow/core/common_runtime/pluggable_device/pluggable_device_factory.cc:271] Created TensorFlow device (/job:localhost/replica:0/task:0/device:GPU:0 with 0 MB memory) -> physical PluggableDevice (device: 0, name: METAL, pci bus id: <undefined>)\n"
     ]
    }
   ],
   "source": [
    "# load json and create model\n",
    "# YOUR CODE HERE!\n",
    "\n",
    "# load weights into new model\n",
    "# YOUR CODE HERE!"
   ]
  },
  {
   "cell_type": "code",
   "execution_count": 3,
   "id": "68027a08",
   "metadata": {},
   "outputs": [
    {
     "data": {
      "text/plain": [
       "[<keras.layers.core.dense.Dense at 0x2946693a0>,\n",
       " <keras.layers.core.dense.Dense at 0x294666be0>,\n",
       " <keras.layers.core.dropout.Dropout at 0x296504e20>,\n",
       " <keras.layers.core.dense.Dense at 0x29650f4c0>,\n",
       " <keras.layers.core.dense.Dense at 0x29651ddf0>]"
      ]
     },
     "execution_count": 3,
     "metadata": {},
     "output_type": "execute_result"
    }
   ],
   "source": [
    "# Use the `layers` attribute or `summary` function to count how many layers there are\n",
    "# YOUR CODE HERE!"
   ]
  },
  {
   "cell_type": "code",
   "execution_count": 4,
   "id": "37b6a26e",
   "metadata": {},
   "outputs": [],
   "source": [
    "# Read in the San Diego County data\n",
    "# YOUR CODE HERE!"
   ]
  },
  {
   "cell_type": "code",
   "execution_count": 5,
   "id": "40b423ad",
   "metadata": {},
   "outputs": [
    {
     "data": {
      "text/html": [
       "<div>\n",
       "<style scoped>\n",
       "    .dataframe tbody tr th:only-of-type {\n",
       "        vertical-align: middle;\n",
       "    }\n",
       "\n",
       "    .dataframe tbody tr th {\n",
       "        vertical-align: top;\n",
       "    }\n",
       "\n",
       "    .dataframe thead th {\n",
       "        text-align: right;\n",
       "    }\n",
       "</style>\n",
       "<table border=\"1\" class=\"dataframe\">\n",
       "  <thead>\n",
       "    <tr style=\"text-align: right;\">\n",
       "      <th></th>\n",
       "      <th>id</th>\n",
       "      <th>stateId</th>\n",
       "      <th>countyId</th>\n",
       "      <th>cityId</th>\n",
       "      <th>country</th>\n",
       "      <th>datePostedString</th>\n",
       "      <th>is_bankOwned</th>\n",
       "      <th>is_forAuction</th>\n",
       "      <th>event</th>\n",
       "      <th>time</th>\n",
       "      <th>price</th>\n",
       "      <th>pricePerSquareFoot</th>\n",
       "      <th>city</th>\n",
       "      <th>state</th>\n",
       "      <th>yearBuilt</th>\n",
       "      <th>streetAddress</th>\n",
       "      <th>zipcode</th>\n",
       "      <th>longitude</th>\n",
       "      <th>latitude</th>\n",
       "      <th>hasBadGeocode</th>\n",
       "      <th>description</th>\n",
       "      <th>currency</th>\n",
       "      <th>livingArea</th>\n",
       "      <th>livingAreaValue</th>\n",
       "      <th>lotAreaUnits</th>\n",
       "      <th>bathrooms</th>\n",
       "      <th>bedrooms</th>\n",
       "      <th>buildingArea</th>\n",
       "      <th>parking</th>\n",
       "      <th>garageSpaces</th>\n",
       "      <th>hasGarage</th>\n",
       "      <th>levels</th>\n",
       "      <th>pool</th>\n",
       "      <th>spa</th>\n",
       "      <th>isNewConstruction</th>\n",
       "      <th>hasPetsAllowed</th>\n",
       "      <th>homeType</th>\n",
       "      <th>county</th>\n",
       "    </tr>\n",
       "  </thead>\n",
       "  <tbody>\n",
       "    <tr>\n",
       "      <th>0</th>\n",
       "      <td>92037-16835229</td>\n",
       "      <td>9</td>\n",
       "      <td>1393</td>\n",
       "      <td>54296</td>\n",
       "      <td>USA</td>\n",
       "      <td>7/13/21</td>\n",
       "      <td>0</td>\n",
       "      <td>0</td>\n",
       "      <td>Listed for sale</td>\n",
       "      <td>1.626130e+12</td>\n",
       "      <td>1150000</td>\n",
       "      <td>648</td>\n",
       "      <td>La Jolla</td>\n",
       "      <td>CA</td>\n",
       "      <td>1975</td>\n",
       "      <td>8874 Caminito Primavera</td>\n",
       "      <td>92037.0</td>\n",
       "      <td>-117.239784</td>\n",
       "      <td>32.868771</td>\n",
       "      <td>0</td>\n",
       "      <td>\"BRIGHT SUNNY 4BR TOWNHOME IN QUIET PRIVATE LO...</td>\n",
       "      <td>USD</td>\n",
       "      <td>1776</td>\n",
       "      <td>1776.0</td>\n",
       "      <td>sqft</td>\n",
       "      <td>3</td>\n",
       "      <td>4</td>\n",
       "      <td>0</td>\n",
       "      <td>1</td>\n",
       "      <td>2</td>\n",
       "      <td>1</td>\n",
       "      <td>Two</td>\n",
       "      <td>0</td>\n",
       "      <td>1</td>\n",
       "      <td>0</td>\n",
       "      <td>0</td>\n",
       "      <td>CONDO</td>\n",
       "      <td>San Diego County</td>\n",
       "    </tr>\n",
       "  </tbody>\n",
       "</table>\n",
       "</div>"
      ],
      "text/plain": [
       "               id  stateId  countyId  cityId country datePostedString  \\\n",
       "0  92037-16835229        9      1393   54296     USA          7/13/21   \n",
       "\n",
       "   is_bankOwned  is_forAuction            event          time    price  \\\n",
       "0             0              0  Listed for sale  1.626130e+12  1150000   \n",
       "\n",
       "   pricePerSquareFoot      city state  yearBuilt            streetAddress  \\\n",
       "0                 648  La Jolla    CA       1975  8874 Caminito Primavera   \n",
       "\n",
       "   zipcode   longitude   latitude  hasBadGeocode  \\\n",
       "0  92037.0 -117.239784  32.868771              0   \n",
       "\n",
       "                                         description currency  livingArea  \\\n",
       "0  \"BRIGHT SUNNY 4BR TOWNHOME IN QUIET PRIVATE LO...      USD        1776   \n",
       "\n",
       "   livingAreaValue lotAreaUnits  bathrooms  bedrooms  buildingArea  parking  \\\n",
       "0           1776.0         sqft          3         4             0        1   \n",
       "\n",
       "   garageSpaces  hasGarage levels  pool  spa  isNewConstruction  \\\n",
       "0             2          1    Two     0    1                  0   \n",
       "\n",
       "   hasPetsAllowed homeType            county  \n",
       "0               0    CONDO  San Diego County  "
      ]
     },
     "execution_count": 5,
     "metadata": {},
     "output_type": "execute_result"
    }
   ],
   "source": [
    "df.head(1)"
   ]
  },
  {
   "cell_type": "code",
   "execution_count": 6,
   "id": "a32211d5",
   "metadata": {},
   "outputs": [],
   "source": [
    "#The `y` variable should be `pricePerSquareFoot` \n",
    "#The `X` data should include `livingArea`,`bathrooms`,`bedrooms`,and `garageSpaces`\n",
    "y = df['pricePerSquareFoot']\n",
    "X = df[['livingArea','bathrooms','bedrooms','garageSpaces']]"
   ]
  },
  {
   "cell_type": "code",
   "execution_count": 7,
   "id": "0c5f4fe2",
   "metadata": {},
   "outputs": [],
   "source": [
    "# Split into training and testing windows\n",
    "# YOUR CODE HERE!"
   ]
  },
  {
   "cell_type": "code",
   "execution_count": 8,
   "id": "877722b0",
   "metadata": {},
   "outputs": [],
   "source": [
    "# Freeze the existing layers of the loaded model\n",
    "# YOUR CODE HERE!"
   ]
  },
  {
   "cell_type": "code",
   "execution_count": 9,
   "id": "31963b03",
   "metadata": {},
   "outputs": [
    {
     "name": "stdout",
     "output_type": "stream",
     "text": [
      "Model: \"sequential_2\"\n",
      "_________________________________________________________________\n",
      " Layer (type)                Output Shape              Param #   \n",
      "=================================================================\n",
      " dense_6 (Dense)             (None, 2)                 10        \n",
      "                                                                 \n",
      " dense_7 (Dense)             (None, 6)                 18        \n",
      "                                                                 \n",
      " dropout_1 (Dropout)         (None, 6)                 0         \n",
      "                                                                 \n",
      " dense_8 (Dense)             (None, 3)                 21        \n",
      "                                                                 \n",
      " dense_9 (Dense)             (None, 1)                 4         \n",
      "                                                                 \n",
      "=================================================================\n",
      "Total params: 53\n",
      "Trainable params: 4\n",
      "Non-trainable params: 49\n",
      "_________________________________________________________________\n"
     ]
    }
   ],
   "source": [
    "# Verify all layers are frozen by printing the `summary` of the\n",
    "# model's architecture.\n",
    "# YOUR CODE HERE!"
   ]
  },
  {
   "cell_type": "code",
   "execution_count": 10,
   "id": "584d8a79",
   "metadata": {},
   "outputs": [],
   "source": [
    "# Create a new network which is an exact copy of this loaded model,\n",
    "# except that the top layer of the original model is removed.\n",
    "\n",
    "# YOUR CODE HERE!"
   ]
  },
  {
   "cell_type": "code",
   "execution_count": 11,
   "id": "2f6db224",
   "metadata": {},
   "outputs": [],
   "source": [
    "# Replace those removed layers with one or two new layers\n",
    "# (including the final output layer). \n",
    "\n",
    "# Add an additional layer\n",
    "# YOUR CODE HERE!\n",
    "\n",
    "# Add the final output layer\n",
    "# YOUR CODE HERE!"
   ]
  },
  {
   "cell_type": "code",
   "execution_count": 12,
   "id": "8a42bdd3",
   "metadata": {},
   "outputs": [
    {
     "name": "stdout",
     "output_type": "stream",
     "text": [
      "Model: \"sequential\"\n",
      "_________________________________________________________________\n",
      " Layer (type)                Output Shape              Param #   \n",
      "=================================================================\n",
      " dense_6 (Dense)             (None, 2)                 10        \n",
      "                                                                 \n",
      " dense_7 (Dense)             (None, 6)                 18        \n",
      "                                                                 \n",
      " dropout_1 (Dropout)         (None, 6)                 0         \n",
      "                                                                 \n",
      " dense_8 (Dense)             (None, 3)                 21        \n",
      "                                                                 \n",
      " dense (Dense)               (None, 10)                40        \n",
      "                                                                 \n",
      " dense_1 (Dense)             (None, 1)                 11        \n",
      "                                                                 \n",
      "=================================================================\n",
      "Total params: 100\n",
      "Trainable params: 51\n",
      "Non-trainable params: 49\n",
      "_________________________________________________________________\n"
     ]
    }
   ],
   "source": [
    "# Ensure that these new trainable layers are added by using\n",
    "# the `summary` function on this revised model.\n",
    "# YOUR CODE HERE!"
   ]
  },
  {
   "cell_type": "code",
   "execution_count": 13,
   "id": "0b2f7471",
   "metadata": {},
   "outputs": [],
   "source": [
    "# Compile the Sequential model\n",
    "# YOUR CODE HERE!"
   ]
  },
  {
   "cell_type": "code",
   "execution_count": 14,
   "id": "9373adec",
   "metadata": {},
   "outputs": [
    {
     "name": "stdout",
     "output_type": "stream",
     "text": [
      "Epoch 1/20\n"
     ]
    },
    {
     "name": "stderr",
     "output_type": "stream",
     "text": [
      "2022-03-15 12:43:44.850553: W tensorflow/core/platform/profile_utils/cpu_utils.cc:128] Failed to get CPU frequency: 0 Hz\n",
      "2022-03-15 12:43:45.001720: I tensorflow/core/grappler/optimizers/custom_graph_optimizer_registry.cc:113] Plugin optimizer for device_type GPU is enabled.\n"
     ]
    },
    {
     "name": "stdout",
     "output_type": "stream",
     "text": [
      "14/14 [==============================] - 0s 7ms/step - loss: 534.6409 - accuracy: 0.0872\n",
      "Epoch 2/20\n",
      "14/14 [==============================] - 0s 5ms/step - loss: 534.6006 - accuracy: 0.0872\n",
      "Epoch 3/20\n",
      "14/14 [==============================] - 0s 5ms/step - loss: 534.5643 - accuracy: 0.0872\n",
      "Epoch 4/20\n",
      "14/14 [==============================] - 0s 5ms/step - loss: 534.5351 - accuracy: 0.0872\n",
      "Epoch 5/20\n",
      "14/14 [==============================] - 0s 5ms/step - loss: 534.5114 - accuracy: 0.0872\n",
      "Epoch 6/20\n",
      "14/14 [==============================] - 0s 5ms/step - loss: 534.4899 - accuracy: 0.0872\n",
      "Epoch 7/20\n",
      "14/14 [==============================] - 0s 5ms/step - loss: 534.4756 - accuracy: 0.0872\n",
      "Epoch 8/20\n",
      "14/14 [==============================] - 0s 5ms/step - loss: 534.4627 - accuracy: 0.0872\n",
      "Epoch 9/20\n",
      "14/14 [==============================] - 0s 5ms/step - loss: 534.4506 - accuracy: 0.0872\n",
      "Epoch 10/20\n",
      "14/14 [==============================] - 0s 5ms/step - loss: 534.4378 - accuracy: 0.0872\n",
      "Epoch 11/20\n",
      "14/14 [==============================] - 0s 5ms/step - loss: 534.4241 - accuracy: 0.0872\n",
      "Epoch 12/20\n",
      "14/14 [==============================] - 0s 5ms/step - loss: 534.4092 - accuracy: 0.0872\n",
      "Epoch 13/20\n",
      "14/14 [==============================] - 0s 5ms/step - loss: 534.3929 - accuracy: 0.0872\n",
      "Epoch 14/20\n",
      "14/14 [==============================] - 0s 5ms/step - loss: 534.3754 - accuracy: 0.0872\n",
      "Epoch 15/20\n",
      "14/14 [==============================] - 0s 5ms/step - loss: 534.3562 - accuracy: 0.0872\n",
      "Epoch 16/20\n",
      "14/14 [==============================] - 0s 5ms/step - loss: 534.3351 - accuracy: 0.0872\n",
      "Epoch 17/20\n",
      "14/14 [==============================] - 0s 5ms/step - loss: 534.3126 - accuracy: 0.0872\n",
      "Epoch 18/20\n",
      "14/14 [==============================] - 0s 5ms/step - loss: 534.2880 - accuracy: 0.0872\n",
      "Epoch 19/20\n",
      "14/14 [==============================] - 0s 5ms/step - loss: 534.2624 - accuracy: 0.0872\n",
      "Epoch 20/20\n",
      "14/14 [==============================] - 0s 5ms/step - loss: 534.2350 - accuracy: 0.0872\n"
     ]
    },
    {
     "data": {
      "text/plain": [
       "<keras.callbacks.History at 0x297530d60>"
      ]
     },
     "execution_count": 14,
     "metadata": {},
     "output_type": "execute_result"
    }
   ],
   "source": [
    "# Fit the model\n",
    "# YOUR CODE HERE!"
   ]
  }
 ],
 "metadata": {
  "kernelspec": {
   "display_name": "Python 3 (ipykernel)",
   "language": "python",
   "name": "python3"
  },
  "language_info": {
   "codemirror_mode": {
    "name": "ipython",
    "version": 3
   },
   "file_extension": ".py",
   "mimetype": "text/x-python",
   "name": "python",
   "nbconvert_exporter": "python",
   "pygments_lexer": "ipython3",
   "version": "3.8.11"
  }
 },
 "nbformat": 4,
 "nbformat_minor": 5
}
