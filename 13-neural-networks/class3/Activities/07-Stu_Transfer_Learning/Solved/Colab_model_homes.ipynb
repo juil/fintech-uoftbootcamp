{
  "cells": [
    {
      "cell_type": "markdown",
      "id": "acba0db7",
      "metadata": {
        "id": "acba0db7"
      },
      "source": [
        "# Transfer Learning: Model Homes\n",
        "\n",
        "## Background \n",
        "\n",
        "One service that some real estate technology (or \"proptech\") companies like [Redfin](https://www.redfin.com/what-is-my-home-worth) or [Zillow](https://www.zillow.com/sellerlanding/pricingtool/) offer are estimates of property value, for just about every property in the United States. \n",
        "\n",
        "But how do they know what any given property is worth? The answer is that they apply ready-made models, feeding the individual characteristics of any house into that model, with the resulting output being the model's prediction of what that home is currently worth.\n",
        "\n",
        "Just like those firms, in this activity, your job is to load a ready-made model built from modeling many thousands of different home prices in Los Angeles County, California. You'll then apply this model to the smaller market for homes in San Diego County, California. Because these markets are similar, yet somewhat different, you'll also apply what you know about transfer learning to make adjustments to your pre-loaded model so that it can be better tailored to the specifics of homes in San Diego County.\n",
        "    \n",
        "## Instructions\n",
        "\n",
        "1. Load the model (`los_angeles_model.json`) and its weights (`los_angeles_model.h5`) from the Resources folder.\n",
        "\n",
        "2. Use the `layers` attribute or `summary` function to count how many layers there are.\n",
        "\n",
        "3. Read in the San Diego County data (`san_diego.csv`, then `train_test_split` that data.\n",
        "    >Note: the `y` variable should be `pricePerSquareFoot`, and the `X` data should include `livingArea`,`bathrooms`,`bedrooms`,and `garageSpaces`.\n",
        "\n",
        "4. Freeze the existing layers of the loaded model. Verify all layers are frozen by printing the `summary` of the model's architecture.\n",
        "\n",
        "5. Create a new network which is an exact copy of this loaded model, except that the top layer of the original model is removed.\n",
        "\n",
        "6. Replace those removed layers with one or two new layers (including the final output layer). Ensure that these new trainable layers are added by using the `summary` function on this revised model. \n",
        "\n",
        "7. Finallly, `compile` and `fit` this newly revised model to the new data."
      ]
    },
    {
      "cell_type": "code",
      "execution_count": 1,
      "id": "1ee841e2",
      "metadata": {
        "id": "1ee841e2"
      },
      "outputs": [],
      "source": [
        "#Imports\n",
        "import pandas as pd\n",
        "import numpy as np\n",
        "\n",
        "from keras.models import Sequential, Model\n",
        "from keras.layers import Dense, Activation, Dropout\n",
        "from sklearn.preprocessing import StandardScaler\n",
        "from tensorflow.keras.models import model_from_json"
      ]
    },
    {
      "cell_type": "code",
      "source": [
        "# Load `los_angeles_model.json`, `los_angeles_model.h5` and `san_diego.csv` by selecting all from the upload prompt\n",
        "# and the data from the Resources folder.\n",
        "from google.colab import files\n",
        "uploaded = files.upload()"
      ],
      "metadata": {
        "colab": {
          "resources": {
            "http://localhost:8080/nbextensions/google.colab/files.js": {
              "data": "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",
              "ok": true,
              "headers": [
                [
                  "content-type",
                  "application/javascript"
                ]
              ],
              "status": 200,
              "status_text": ""
            }
          },
          "base_uri": "https://localhost:8080/",
          "height": 144
        },
        "id": "VpD5tDsX3U-M",
        "outputId": "f2017e05-6fef-40bb-ac0a-3e87c984fe7b"
      },
      "id": "VpD5tDsX3U-M",
      "execution_count": 2,
      "outputs": [
        {
          "output_type": "display_data",
          "data": {
            "text/plain": [
              "<IPython.core.display.HTML object>"
            ],
            "text/html": [
              "\n",
              "     <input type=\"file\" id=\"files-bc18250c-b939-458d-914a-7b480294b815\" name=\"files[]\" multiple disabled\n",
              "        style=\"border:none\" />\n",
              "     <output id=\"result-bc18250c-b939-458d-914a-7b480294b815\">\n",
              "      Upload widget is only available when the cell has been executed in the\n",
              "      current browser session. Please rerun this cell to enable.\n",
              "      </output>\n",
              "      <script src=\"/nbextensions/google.colab/files.js\"></script> "
            ]
          },
          "metadata": {}
        },
        {
          "output_type": "stream",
          "name": "stdout",
          "text": [
            "Saving los_angeles_model.json to los_angeles_model (1).json\n",
            "Saving los_angeles_model.h5 to los_angeles_model (1).h5\n",
            "Saving san_diego.csv to san_diego (1).csv\n"
          ]
        }
      ]
    },
    {
      "cell_type": "code",
      "execution_count": 4,
      "id": "b5ffbafb",
      "metadata": {
        "id": "b5ffbafb"
      },
      "outputs": [],
      "source": [
        "\n",
        "\n",
        "\n",
        "# load json and create model\n",
        "file_path = \"los_angeles_model.json\"\n",
        "with open(\"los_angeles_model.json\", \"r\") as json_file:\n",
        "    model_json = json_file.read()\n",
        "loaded_model = model_from_json(model_json)\n",
        "\n",
        "# load weights into new model\n",
        "file_path = \"los_angeles_model.h5\"\n",
        "loaded_model.load_weights(file_path)"
      ]
    },
    {
      "cell_type": "code",
      "execution_count": 5,
      "id": "59076bd2",
      "metadata": {
        "colab": {
          "base_uri": "https://localhost:8080/"
        },
        "id": "59076bd2",
        "outputId": "cb63898a-49d8-48f6-bfc7-a1935c9f18fa"
      },
      "outputs": [
        {
          "output_type": "execute_result",
          "data": {
            "text/plain": [
              "[<keras.layers.core.dense.Dense at 0x7fd0ccbc9250>,\n",
              " <keras.layers.core.dense.Dense at 0x7fd0ccbc9190>,\n",
              " <keras.layers.core.dropout.Dropout at 0x7fd0ccb3f9d0>,\n",
              " <keras.layers.core.dense.Dense at 0x7fd0ccbc9a90>,\n",
              " <keras.layers.core.dense.Dense at 0x7fd0cca9b110>]"
            ]
          },
          "metadata": {},
          "execution_count": 5
        }
      ],
      "source": [
        "# Use the `layers` attribute or `summary` function to count how many layers there are\n",
        "loaded_model.layers"
      ]
    },
    {
      "cell_type": "code",
      "execution_count": 6,
      "id": "d3f4976d",
      "metadata": {
        "id": "d3f4976d"
      },
      "outputs": [],
      "source": [
        "# Read in the San Diego County data\n",
        "df = pd.read_csv('san_diego.csv')"
      ]
    },
    {
      "cell_type": "code",
      "execution_count": 7,
      "id": "cb341dab",
      "metadata": {
        "colab": {
          "base_uri": "https://localhost:8080/",
          "height": 209
        },
        "id": "cb341dab",
        "outputId": "096985de-8e58-4c45-b101-d41a36fcec6d"
      },
      "outputs": [
        {
          "output_type": "execute_result",
          "data": {
            "text/plain": [
              "               id  stateId  countyId  cityId country datePostedString  \\\n",
              "0  92037-16835229        9      1393   54296     USA          7/13/21   \n",
              "\n",
              "   is_bankOwned  is_forAuction            event          time  ...  parking  \\\n",
              "0             0              0  Listed for sale  1.626130e+12  ...        1   \n",
              "\n",
              "   garageSpaces hasGarage levels  pool spa  isNewConstruction  hasPetsAllowed  \\\n",
              "0             2         1    Two     0   1                  0               0   \n",
              "\n",
              "   homeType            county  \n",
              "0     CONDO  San Diego County  \n",
              "\n",
              "[1 rows x 38 columns]"
            ],
            "text/html": [
              "\n",
              "  <div id=\"df-1cf21f32-500c-4d5a-9625-05f7806cdbc1\">\n",
              "    <div class=\"colab-df-container\">\n",
              "      <div>\n",
              "<style scoped>\n",
              "    .dataframe tbody tr th:only-of-type {\n",
              "        vertical-align: middle;\n",
              "    }\n",
              "\n",
              "    .dataframe tbody tr th {\n",
              "        vertical-align: top;\n",
              "    }\n",
              "\n",
              "    .dataframe thead th {\n",
              "        text-align: right;\n",
              "    }\n",
              "</style>\n",
              "<table border=\"1\" class=\"dataframe\">\n",
              "  <thead>\n",
              "    <tr style=\"text-align: right;\">\n",
              "      <th></th>\n",
              "      <th>id</th>\n",
              "      <th>stateId</th>\n",
              "      <th>countyId</th>\n",
              "      <th>cityId</th>\n",
              "      <th>country</th>\n",
              "      <th>datePostedString</th>\n",
              "      <th>is_bankOwned</th>\n",
              "      <th>is_forAuction</th>\n",
              "      <th>event</th>\n",
              "      <th>time</th>\n",
              "      <th>...</th>\n",
              "      <th>parking</th>\n",
              "      <th>garageSpaces</th>\n",
              "      <th>hasGarage</th>\n",
              "      <th>levels</th>\n",
              "      <th>pool</th>\n",
              "      <th>spa</th>\n",
              "      <th>isNewConstruction</th>\n",
              "      <th>hasPetsAllowed</th>\n",
              "      <th>homeType</th>\n",
              "      <th>county</th>\n",
              "    </tr>\n",
              "  </thead>\n",
              "  <tbody>\n",
              "    <tr>\n",
              "      <th>0</th>\n",
              "      <td>92037-16835229</td>\n",
              "      <td>9</td>\n",
              "      <td>1393</td>\n",
              "      <td>54296</td>\n",
              "      <td>USA</td>\n",
              "      <td>7/13/21</td>\n",
              "      <td>0</td>\n",
              "      <td>0</td>\n",
              "      <td>Listed for sale</td>\n",
              "      <td>1.626130e+12</td>\n",
              "      <td>...</td>\n",
              "      <td>1</td>\n",
              "      <td>2</td>\n",
              "      <td>1</td>\n",
              "      <td>Two</td>\n",
              "      <td>0</td>\n",
              "      <td>1</td>\n",
              "      <td>0</td>\n",
              "      <td>0</td>\n",
              "      <td>CONDO</td>\n",
              "      <td>San Diego County</td>\n",
              "    </tr>\n",
              "  </tbody>\n",
              "</table>\n",
              "<p>1 rows × 38 columns</p>\n",
              "</div>\n",
              "      <button class=\"colab-df-convert\" onclick=\"convertToInteractive('df-1cf21f32-500c-4d5a-9625-05f7806cdbc1')\"\n",
              "              title=\"Convert this dataframe to an interactive table.\"\n",
              "              style=\"display:none;\">\n",
              "        \n",
              "  <svg xmlns=\"http://www.w3.org/2000/svg\" height=\"24px\"viewBox=\"0 0 24 24\"\n",
              "       width=\"24px\">\n",
              "    <path d=\"M0 0h24v24H0V0z\" fill=\"none\"/>\n",
              "    <path d=\"M18.56 5.44l.94 2.06.94-2.06 2.06-.94-2.06-.94-.94-2.06-.94 2.06-2.06.94zm-11 1L8.5 8.5l.94-2.06 2.06-.94-2.06-.94L8.5 2.5l-.94 2.06-2.06.94zm10 10l.94 2.06.94-2.06 2.06-.94-2.06-.94-.94-2.06-.94 2.06-2.06.94z\"/><path d=\"M17.41 7.96l-1.37-1.37c-.4-.4-.92-.59-1.43-.59-.52 0-1.04.2-1.43.59L10.3 9.45l-7.72 7.72c-.78.78-.78 2.05 0 2.83L4 21.41c.39.39.9.59 1.41.59.51 0 1.02-.2 1.41-.59l7.78-7.78 2.81-2.81c.8-.78.8-2.07 0-2.86zM5.41 20L4 18.59l7.72-7.72 1.47 1.35L5.41 20z\"/>\n",
              "  </svg>\n",
              "      </button>\n",
              "      \n",
              "  <style>\n",
              "    .colab-df-container {\n",
              "      display:flex;\n",
              "      flex-wrap:wrap;\n",
              "      gap: 12px;\n",
              "    }\n",
              "\n",
              "    .colab-df-convert {\n",
              "      background-color: #E8F0FE;\n",
              "      border: none;\n",
              "      border-radius: 50%;\n",
              "      cursor: pointer;\n",
              "      display: none;\n",
              "      fill: #1967D2;\n",
              "      height: 32px;\n",
              "      padding: 0 0 0 0;\n",
              "      width: 32px;\n",
              "    }\n",
              "\n",
              "    .colab-df-convert:hover {\n",
              "      background-color: #E2EBFA;\n",
              "      box-shadow: 0px 1px 2px rgba(60, 64, 67, 0.3), 0px 1px 3px 1px rgba(60, 64, 67, 0.15);\n",
              "      fill: #174EA6;\n",
              "    }\n",
              "\n",
              "    [theme=dark] .colab-df-convert {\n",
              "      background-color: #3B4455;\n",
              "      fill: #D2E3FC;\n",
              "    }\n",
              "\n",
              "    [theme=dark] .colab-df-convert:hover {\n",
              "      background-color: #434B5C;\n",
              "      box-shadow: 0px 1px 3px 1px rgba(0, 0, 0, 0.15);\n",
              "      filter: drop-shadow(0px 1px 2px rgba(0, 0, 0, 0.3));\n",
              "      fill: #FFFFFF;\n",
              "    }\n",
              "  </style>\n",
              "\n",
              "      <script>\n",
              "        const buttonEl =\n",
              "          document.querySelector('#df-1cf21f32-500c-4d5a-9625-05f7806cdbc1 button.colab-df-convert');\n",
              "        buttonEl.style.display =\n",
              "          google.colab.kernel.accessAllowed ? 'block' : 'none';\n",
              "\n",
              "        async function convertToInteractive(key) {\n",
              "          const element = document.querySelector('#df-1cf21f32-500c-4d5a-9625-05f7806cdbc1');\n",
              "          const dataTable =\n",
              "            await google.colab.kernel.invokeFunction('convertToInteractive',\n",
              "                                                     [key], {});\n",
              "          if (!dataTable) return;\n",
              "\n",
              "          const docLinkHtml = 'Like what you see? Visit the ' +\n",
              "            '<a target=\"_blank\" href=https://colab.research.google.com/notebooks/data_table.ipynb>data table notebook</a>'\n",
              "            + ' to learn more about interactive tables.';\n",
              "          element.innerHTML = '';\n",
              "          dataTable['output_type'] = 'display_data';\n",
              "          await google.colab.output.renderOutput(dataTable, element);\n",
              "          const docLink = document.createElement('div');\n",
              "          docLink.innerHTML = docLinkHtml;\n",
              "          element.appendChild(docLink);\n",
              "        }\n",
              "      </script>\n",
              "    </div>\n",
              "  </div>\n",
              "  "
            ]
          },
          "metadata": {},
          "execution_count": 7
        }
      ],
      "source": [
        "df.head(1)"
      ]
    },
    {
      "cell_type": "code",
      "execution_count": 8,
      "id": "f8a81a68",
      "metadata": {
        "id": "f8a81a68"
      },
      "outputs": [],
      "source": [
        "#The `y` variable should be `pricePerSquareFoot` \n",
        "#The `X` data should include `livingArea`,`bathrooms`,`bedrooms`,and `garageSpaces`\n",
        "y = df['pricePerSquareFoot']\n",
        "X = df[['livingArea','bathrooms','bedrooms','garageSpaces']]"
      ]
    },
    {
      "cell_type": "code",
      "execution_count": 9,
      "id": "26b7df49",
      "metadata": {
        "id": "26b7df49"
      },
      "outputs": [],
      "source": [
        "# Split into training and testing windows\n",
        "from sklearn.model_selection import train_test_split\n",
        "X_train, X_test, y_train, y_test = train_test_split(X, y, random_state=1)"
      ]
    },
    {
      "cell_type": "code",
      "execution_count": 10,
      "id": "150311b1",
      "metadata": {
        "id": "150311b1"
      },
      "outputs": [],
      "source": [
        "# Freeze the existing layers of the loaded model\n",
        "for layer in loaded_model.layers[0:-1]:\n",
        "    layer.trainable = False"
      ]
    },
    {
      "cell_type": "code",
      "execution_count": 11,
      "id": "9e867741",
      "metadata": {
        "colab": {
          "base_uri": "https://localhost:8080/"
        },
        "id": "9e867741",
        "outputId": "b102445c-4c11-4c08-d39b-11b7fe5f9241"
      },
      "outputs": [
        {
          "output_type": "stream",
          "name": "stdout",
          "text": [
            "Model: \"sequential_2\"\n",
            "_________________________________________________________________\n",
            " Layer (type)                Output Shape              Param #   \n",
            "=================================================================\n",
            " dense_6 (Dense)             (None, 2)                 10        \n",
            "                                                                 \n",
            " dense_7 (Dense)             (None, 6)                 18        \n",
            "                                                                 \n",
            " dropout_1 (Dropout)         (None, 6)                 0         \n",
            "                                                                 \n",
            " dense_8 (Dense)             (None, 3)                 21        \n",
            "                                                                 \n",
            " dense_9 (Dense)             (None, 1)                 4         \n",
            "                                                                 \n",
            "=================================================================\n",
            "Total params: 53\n",
            "Trainable params: 4\n",
            "Non-trainable params: 49\n",
            "_________________________________________________________________\n"
          ]
        }
      ],
      "source": [
        "# Verify all layers are frozen by printing the `summary` of the\n",
        "# model's architecture.\n",
        "loaded_model.summary()"
      ]
    },
    {
      "cell_type": "code",
      "execution_count": 12,
      "id": "a458df5a",
      "metadata": {
        "id": "a458df5a"
      },
      "outputs": [],
      "source": [
        "# Create a new network which is an exact copy of this loaded model,\n",
        "# except that the top layer of the original model is removed.\n",
        "transfer_model = Sequential()\n",
        "for layer in loaded_model.layers[:-1]: \n",
        "    transfer_model.add(layer)"
      ]
    },
    {
      "cell_type": "code",
      "execution_count": 13,
      "id": "b6051b5d",
      "metadata": {
        "id": "b6051b5d"
      },
      "outputs": [],
      "source": [
        "# Replace those removed layers with one or two new layers\n",
        "# (including the final output layer). \n",
        "\n",
        "# Add an additional layer\n",
        "transfer_model.add(Dense(10, activation=\"relu\"))\n",
        "# Add the final output layer\n",
        "transfer_model.add(Dense(1))"
      ]
    },
    {
      "cell_type": "code",
      "execution_count": 14,
      "id": "98b93695",
      "metadata": {
        "colab": {
          "base_uri": "https://localhost:8080/"
        },
        "id": "98b93695",
        "outputId": "9e84cf79-16ca-4936-e415-2d652b94d71c"
      },
      "outputs": [
        {
          "output_type": "stream",
          "name": "stdout",
          "text": [
            "Model: \"sequential\"\n",
            "_________________________________________________________________\n",
            " Layer (type)                Output Shape              Param #   \n",
            "=================================================================\n",
            " dense_6 (Dense)             (None, 2)                 10        \n",
            "                                                                 \n",
            " dense_7 (Dense)             (None, 6)                 18        \n",
            "                                                                 \n",
            " dropout_1 (Dropout)         (None, 6)                 0         \n",
            "                                                                 \n",
            " dense_8 (Dense)             (None, 3)                 21        \n",
            "                                                                 \n",
            " dense (Dense)               (None, 10)                40        \n",
            "                                                                 \n",
            " dense_1 (Dense)             (None, 1)                 11        \n",
            "                                                                 \n",
            "=================================================================\n",
            "Total params: 100\n",
            "Trainable params: 51\n",
            "Non-trainable params: 49\n",
            "_________________________________________________________________\n"
          ]
        }
      ],
      "source": [
        "# Ensure that these new trainable layers are added by using\n",
        "# the `summary` function on this revised model.\n",
        "transfer_model.summary()"
      ]
    },
    {
      "cell_type": "code",
      "execution_count": 15,
      "id": "dde8a528",
      "metadata": {
        "id": "dde8a528"
      },
      "outputs": [],
      "source": [
        "# Compile the Sequential model\n",
        "transfer_model.compile(loss=\"mean_absolute_error\", optimizer=\"adam\", metrics=[\"accuracy\"])"
      ]
    },
    {
      "cell_type": "code",
      "execution_count": 16,
      "id": "122c92b6",
      "metadata": {
        "colab": {
          "base_uri": "https://localhost:8080/"
        },
        "id": "122c92b6",
        "outputId": "758bcc14-7c25-4c29-a1d6-0bf3cb7ab8c1"
      },
      "outputs": [
        {
          "output_type": "stream",
          "name": "stdout",
          "text": [
            "Epoch 1/20\n",
            "14/14 [==============================] - 2s 3ms/step - loss: 534.5699 - accuracy: 0.0872\n",
            "Epoch 2/20\n",
            "14/14 [==============================] - 0s 3ms/step - loss: 534.5364 - accuracy: 0.0872\n",
            "Epoch 3/20\n",
            "14/14 [==============================] - 0s 3ms/step - loss: 534.5054 - accuracy: 0.0872\n",
            "Epoch 4/20\n",
            "14/14 [==============================] - 0s 3ms/step - loss: 534.4736 - accuracy: 0.0872\n",
            "Epoch 5/20\n",
            "14/14 [==============================] - 0s 3ms/step - loss: 534.4395 - accuracy: 0.0872\n",
            "Epoch 6/20\n",
            "14/14 [==============================] - 0s 3ms/step - loss: 534.4033 - accuracy: 0.0872\n",
            "Epoch 7/20\n",
            "14/14 [==============================] - 0s 3ms/step - loss: 534.3660 - accuracy: 0.0872\n",
            "Epoch 8/20\n",
            "14/14 [==============================] - 0s 3ms/step - loss: 534.3267 - accuracy: 0.0872\n",
            "Epoch 9/20\n",
            "14/14 [==============================] - 0s 3ms/step - loss: 534.2834 - accuracy: 0.0872\n",
            "Epoch 10/20\n",
            "14/14 [==============================] - 0s 3ms/step - loss: 534.2376 - accuracy: 0.0857\n",
            "Epoch 11/20\n",
            "14/14 [==============================] - 0s 3ms/step - loss: 534.1873 - accuracy: 0.0842\n",
            "Epoch 12/20\n",
            "14/14 [==============================] - 0s 3ms/step - loss: 534.1344 - accuracy: 0.0705\n",
            "Epoch 13/20\n",
            "14/14 [==============================] - 0s 2ms/step - loss: 534.0767 - accuracy: 0.0061\n",
            "Epoch 14/20\n",
            "14/14 [==============================] - 0s 3ms/step - loss: 534.0159 - accuracy: 0.0000e+00\n",
            "Epoch 15/20\n",
            "14/14 [==============================] - 0s 3ms/step - loss: 533.9481 - accuracy: 0.0000e+00\n",
            "Epoch 16/20\n",
            "14/14 [==============================] - 0s 3ms/step - loss: 533.8764 - accuracy: 0.0000e+00\n",
            "Epoch 17/20\n",
            "14/14 [==============================] - 0s 3ms/step - loss: 533.8039 - accuracy: 0.0000e+00\n",
            "Epoch 18/20\n",
            "14/14 [==============================] - 0s 4ms/step - loss: 533.7209 - accuracy: 0.0000e+00\n",
            "Epoch 19/20\n",
            "14/14 [==============================] - 0s 4ms/step - loss: 533.6337 - accuracy: 0.0000e+00\n",
            "Epoch 20/20\n",
            "14/14 [==============================] - 0s 3ms/step - loss: 533.5411 - accuracy: 0.0000e+00\n"
          ]
        },
        {
          "output_type": "execute_result",
          "data": {
            "text/plain": [
              "<keras.callbacks.History at 0x7fd0cc7b8f90>"
            ]
          },
          "metadata": {},
          "execution_count": 16
        }
      ],
      "source": [
        "# Fit the model\n",
        "transfer_model.fit(X_train,y_train, \n",
        "                    epochs=20,\n",
        "                    batch_size=100,\n",
        "                    shuffle=True)"
      ]
    },
    {
      "cell_type": "code",
      "source": [
        ""
      ],
      "metadata": {
        "id": "LuuQC5bR4Mdb"
      },
      "id": "LuuQC5bR4Mdb",
      "execution_count": 16,
      "outputs": []
    }
  ],
  "metadata": {
    "kernelspec": {
      "display_name": "Python 3 (ipykernel)",
      "language": "python",
      "name": "python3"
    },
    "language_info": {
      "codemirror_mode": {
        "name": "ipython",
        "version": 3
      },
      "file_extension": ".py",
      "mimetype": "text/x-python",
      "name": "python",
      "nbconvert_exporter": "python",
      "pygments_lexer": "ipython3",
      "version": "3.8.11"
    },
    "colab": {
      "name": "model_homes.ipynb",
      "provenance": []
    }
  },
  "nbformat": 4,
  "nbformat_minor": 5
}